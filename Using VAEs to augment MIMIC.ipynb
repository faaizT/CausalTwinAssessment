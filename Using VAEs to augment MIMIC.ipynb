{
 "cells": [
  {
   "cell_type": "code",
   "execution_count": 1,
   "metadata": {},
   "outputs": [],
   "source": [
    "import logging\n",
    "logging.basicConfig(filename='vae.log', level=logging.INFO)"
   ]
  },
  {
   "cell_type": "code",
   "execution_count": 2,
   "metadata": {},
   "outputs": [],
   "source": [
    "import pandas as pd\n",
    "import numpy as np\n",
    "from tqdm import tqdm\n",
    "import glob\n",
    "import os\n",
    "import torch\n",
    "import matplotlib.pyplot as plt\n",
    "exportdir='/data/localhost/taufiq/export-dir/'\n",
    "os.chdir(\"/data/localhost/taufiq/pulse-data-5-step\")\n",
    "models_dir = '/data/localhost/taufiq/dryrun/'"
   ]
  },
  {
   "cell_type": "code",
   "execution_count": 3,
   "metadata": {},
   "outputs": [],
   "source": [
    "col_name = 'HR'\n",
    "extension = 'final_.csv'\n",
    "all_filenames = [i for i in glob.glob('*{}'.format(extension))]\n",
    "pulse_data = pd.concat([pd.read_csv(f) for f in all_filenames ])"
   ]
  },
  {
   "cell_type": "code",
   "execution_count": 4,
   "metadata": {},
   "outputs": [
    {
     "data": {
      "text/html": [
       "<div>\n",
       "<style scoped>\n",
       "    .dataframe tbody tr th:only-of-type {\n",
       "        vertical-align: middle;\n",
       "    }\n",
       "\n",
       "    .dataframe tbody tr th {\n",
       "        vertical-align: top;\n",
       "    }\n",
       "\n",
       "    .dataframe thead th {\n",
       "        text-align: right;\n",
       "    }\n",
       "</style>\n",
       "<table border=\"1\" class=\"dataframe\">\n",
       "  <thead>\n",
       "    <tr style=\"text-align: right;\">\n",
       "      <th></th>\n",
       "      <th>index</th>\n",
       "      <th>Albumin - BloodConcentration (mg/L)</th>\n",
       "      <th>ArterialCarbonDioxidePressure (mmHg)</th>\n",
       "      <th>ArterialOxygenPressure (mmHg)</th>\n",
       "      <th>ArterialPressure (mmHg)</th>\n",
       "      <th>Bicarbonate - BloodConcentration (mg/L)</th>\n",
       "      <th>BloodPH (None)</th>\n",
       "      <th>BloodUreaNitrogenConcentration (mg/dL)</th>\n",
       "      <th>BloodVolume (mL)</th>\n",
       "      <th>Calcium - BloodConcentration (mg/L)</th>\n",
       "      <th>...</th>\n",
       "      <th>RespirationRate (1/min)</th>\n",
       "      <th>SaturationAndFractionOfInspiredOxygenRatio (None)</th>\n",
       "      <th>SimulationTime(s)</th>\n",
       "      <th>SkinTemperature (degC)</th>\n",
       "      <th>Sodium - BloodConcentration (mg/L)</th>\n",
       "      <th>SystolicArterialPressure (mmHg)</th>\n",
       "      <th>WhiteBloodCellCount (ct/uL)</th>\n",
       "      <th>id</th>\n",
       "      <th>time</th>\n",
       "      <th>icustay_id</th>\n",
       "    </tr>\n",
       "  </thead>\n",
       "  <tbody>\n",
       "    <tr>\n",
       "      <th>0</th>\n",
       "      <td>0</td>\n",
       "      <td>36942.076357</td>\n",
       "      <td>40.766614</td>\n",
       "      <td>89.927432</td>\n",
       "      <td>116.205401</td>\n",
       "      <td>1589.280619</td>\n",
       "      <td>7.406174</td>\n",
       "      <td>12.954165</td>\n",
       "      <td>6432.049911</td>\n",
       "      <td>48.181075</td>\n",
       "      <td>...</td>\n",
       "      <td>18.633540</td>\n",
       "      <td>4.638695</td>\n",
       "      <td>0.0</td>\n",
       "      <td>33.203250</td>\n",
       "      <td>3328.440581</td>\n",
       "      <td>119.230483</td>\n",
       "      <td>7000.0</td>\n",
       "      <td>86855.0</td>\n",
       "      <td>6.607069e+09</td>\n",
       "      <td>86855</td>\n",
       "    </tr>\n",
       "    <tr>\n",
       "      <th>1</th>\n",
       "      <td>1</td>\n",
       "      <td>36524.917484</td>\n",
       "      <td>40.872763</td>\n",
       "      <td>90.052348</td>\n",
       "      <td>92.470480</td>\n",
       "      <td>1589.598103</td>\n",
       "      <td>7.405145</td>\n",
       "      <td>13.608056</td>\n",
       "      <td>6492.148657</td>\n",
       "      <td>53.043316</td>\n",
       "      <td>...</td>\n",
       "      <td>18.750000</td>\n",
       "      <td>4.633428</td>\n",
       "      <td>3600.0</td>\n",
       "      <td>33.879672</td>\n",
       "      <td>3319.123490</td>\n",
       "      <td>122.674910</td>\n",
       "      <td>7000.0</td>\n",
       "      <td>86855.0</td>\n",
       "      <td>6.607073e+09</td>\n",
       "      <td>86855</td>\n",
       "    </tr>\n",
       "    <tr>\n",
       "      <th>2</th>\n",
       "      <td>2</td>\n",
       "      <td>36069.948819</td>\n",
       "      <td>40.889780</td>\n",
       "      <td>90.176441</td>\n",
       "      <td>105.766357</td>\n",
       "      <td>1589.422211</td>\n",
       "      <td>7.404981</td>\n",
       "      <td>14.168092</td>\n",
       "      <td>6560.608547</td>\n",
       "      <td>57.671101</td>\n",
       "      <td>...</td>\n",
       "      <td>18.750000</td>\n",
       "      <td>4.633453</td>\n",
       "      <td>7200.0</td>\n",
       "      <td>32.973720</td>\n",
       "      <td>3311.273411</td>\n",
       "      <td>123.910096</td>\n",
       "      <td>7000.0</td>\n",
       "      <td>86855.0</td>\n",
       "      <td>6.607076e+09</td>\n",
       "      <td>86855</td>\n",
       "    </tr>\n",
       "    <tr>\n",
       "      <th>3</th>\n",
       "      <td>3</td>\n",
       "      <td>35344.795982</td>\n",
       "      <td>40.949980</td>\n",
       "      <td>90.585038</td>\n",
       "      <td>99.518088</td>\n",
       "      <td>1589.162254</td>\n",
       "      <td>7.404399</td>\n",
       "      <td>14.827684</td>\n",
       "      <td>6681.667603</td>\n",
       "      <td>61.641868</td>\n",
       "      <td>...</td>\n",
       "      <td>18.867925</td>\n",
       "      <td>4.635279</td>\n",
       "      <td>10800.0</td>\n",
       "      <td>33.382638</td>\n",
       "      <td>3311.388720</td>\n",
       "      <td>121.909499</td>\n",
       "      <td>7000.0</td>\n",
       "      <td>86855.0</td>\n",
       "      <td>6.607080e+09</td>\n",
       "      <td>86855</td>\n",
       "    </tr>\n",
       "    <tr>\n",
       "      <th>4</th>\n",
       "      <td>4</td>\n",
       "      <td>34739.622499</td>\n",
       "      <td>40.941064</td>\n",
       "      <td>90.624763</td>\n",
       "      <td>120.664434</td>\n",
       "      <td>1589.148171</td>\n",
       "      <td>7.404485</td>\n",
       "      <td>14.816667</td>\n",
       "      <td>6784.488523</td>\n",
       "      <td>65.534987</td>\n",
       "      <td>...</td>\n",
       "      <td>18.867925</td>\n",
       "      <td>4.635250</td>\n",
       "      <td>14400.0</td>\n",
       "      <td>33.415902</td>\n",
       "      <td>3280.588569</td>\n",
       "      <td>122.044169</td>\n",
       "      <td>7000.0</td>\n",
       "      <td>86855.0</td>\n",
       "      <td>6.607084e+09</td>\n",
       "      <td>86855</td>\n",
       "    </tr>\n",
       "  </tbody>\n",
       "</table>\n",
       "<p>5 rows × 33 columns</p>\n",
       "</div>"
      ],
      "text/plain": [
       "   index  Albumin - BloodConcentration (mg/L)  \\\n",
       "0      0                         36942.076357   \n",
       "1      1                         36524.917484   \n",
       "2      2                         36069.948819   \n",
       "3      3                         35344.795982   \n",
       "4      4                         34739.622499   \n",
       "\n",
       "   ArterialCarbonDioxidePressure (mmHg)  ArterialOxygenPressure (mmHg)  \\\n",
       "0                             40.766614                      89.927432   \n",
       "1                             40.872763                      90.052348   \n",
       "2                             40.889780                      90.176441   \n",
       "3                             40.949980                      90.585038   \n",
       "4                             40.941064                      90.624763   \n",
       "\n",
       "   ArterialPressure (mmHg)  Bicarbonate - BloodConcentration (mg/L)  \\\n",
       "0               116.205401                              1589.280619   \n",
       "1                92.470480                              1589.598103   \n",
       "2               105.766357                              1589.422211   \n",
       "3                99.518088                              1589.162254   \n",
       "4               120.664434                              1589.148171   \n",
       "\n",
       "   BloodPH (None)  BloodUreaNitrogenConcentration (mg/dL)  BloodVolume (mL)  \\\n",
       "0        7.406174                               12.954165       6432.049911   \n",
       "1        7.405145                               13.608056       6492.148657   \n",
       "2        7.404981                               14.168092       6560.608547   \n",
       "3        7.404399                               14.827684       6681.667603   \n",
       "4        7.404485                               14.816667       6784.488523   \n",
       "\n",
       "   Calcium - BloodConcentration (mg/L)  ...  RespirationRate (1/min)  \\\n",
       "0                            48.181075  ...                18.633540   \n",
       "1                            53.043316  ...                18.750000   \n",
       "2                            57.671101  ...                18.750000   \n",
       "3                            61.641868  ...                18.867925   \n",
       "4                            65.534987  ...                18.867925   \n",
       "\n",
       "   SaturationAndFractionOfInspiredOxygenRatio (None)  SimulationTime(s)  \\\n",
       "0                                           4.638695                0.0   \n",
       "1                                           4.633428             3600.0   \n",
       "2                                           4.633453             7200.0   \n",
       "3                                           4.635279            10800.0   \n",
       "4                                           4.635250            14400.0   \n",
       "\n",
       "   SkinTemperature (degC)  Sodium - BloodConcentration (mg/L)  \\\n",
       "0               33.203250                         3328.440581   \n",
       "1               33.879672                         3319.123490   \n",
       "2               32.973720                         3311.273411   \n",
       "3               33.382638                         3311.388720   \n",
       "4               33.415902                         3280.588569   \n",
       "\n",
       "   SystolicArterialPressure (mmHg)  WhiteBloodCellCount (ct/uL)       id  \\\n",
       "0                       119.230483                       7000.0  86855.0   \n",
       "1                       122.674910                       7000.0  86855.0   \n",
       "2                       123.910096                       7000.0  86855.0   \n",
       "3                       121.909499                       7000.0  86855.0   \n",
       "4                       122.044169                       7000.0  86855.0   \n",
       "\n",
       "           time  icustay_id  \n",
       "0  6.607069e+09       86855  \n",
       "1  6.607073e+09       86855  \n",
       "2  6.607076e+09       86855  \n",
       "3  6.607080e+09       86855  \n",
       "4  6.607084e+09       86855  \n",
       "\n",
       "[5 rows x 33 columns]"
      ]
     },
     "execution_count": 4,
     "metadata": {},
     "output_type": "execute_result"
    }
   ],
   "source": [
    "pulse_data['icustay_id'] = pulse_data['id'].astype(int)\n",
    "pulse_data = pulse_data.reset_index()\n",
    "pulse_data.head()"
   ]
  },
  {
   "cell_type": "code",
   "execution_count": 5,
   "metadata": {},
   "outputs": [],
   "source": [
    "column_mappings = {\n",
    "    'Albumin - BloodConcentration (mg/L)': 'Albumin',\n",
    "    'ArterialCarbonDioxidePressure (mmHg)': 'paCO2',\n",
    "    'ArterialOxygenPressure (mmHg)': 'paO2',\n",
    "    'Bicarbonate - BloodConcentration (mg/L)': 'HCO3',\n",
    "    'BloodPH (None)': 'Arterial_pH',\n",
    "    'BloodUreaNitrogenConcentration (mg/dL)': 'BUN',\n",
    "    'Calcium - BloodConcentration (mg/L)': 'Calcium',\n",
    "    'Chloride - BloodConcentration (mg/L)': 'Chloride',\n",
    "    'Creatinine - BloodConcentration (mg/L)': 'Creatinine',\n",
    "    'DiastolicArterialPressure (mmHg)': 'DiaBP',\n",
    "    'Glucose - BloodConcentration (mg/L)': 'Glucose',\n",
    "    'Lactate - BloodConcentration (mg/L)': 'Arterial_lactate',\n",
    "    'MeanArterialPressure (mmHg)': 'MeanBP',\n",
    "    'Potassium - BloodConcentration (mg/L)': 'Potassium',\n",
    "    'RespirationRate (1/min)': 'RR',\n",
    "    'SaturationAndFractionOfInspiredOxygenRatio (None)': 'PaO2_FiO2',\n",
    "    'SkinTemperature (degC)': 'Temp_C',\n",
    "    'Sodium - BloodConcentration (mg/L)': 'Sodium',\n",
    "    'SystolicArterialPressure (mmHg)': 'SysBP',\n",
    "    'WhiteBloodCellCount (ct/uL)': 'WBC_count',\n",
    "    'HeartRate (1/min)': 'HR'\n",
    "}\n",
    "\n",
    "pulse_rename = {}\n",
    "\n",
    "for k, v in column_mappings.items():\n",
    "    pulse_rename.update({k: f\"{v}\"})\n",
    "\n",
    "pulse_data = pulse_data.rename(columns=pulse_rename)"
   ]
  },
  {
   "cell_type": "code",
   "execution_count": 6,
   "metadata": {},
   "outputs": [
    {
     "data": {
      "text/html": [
       "<div>\n",
       "<style scoped>\n",
       "    .dataframe tbody tr th:only-of-type {\n",
       "        vertical-align: middle;\n",
       "    }\n",
       "\n",
       "    .dataframe tbody tr th {\n",
       "        vertical-align: top;\n",
       "    }\n",
       "\n",
       "    .dataframe thead th {\n",
       "        text-align: right;\n",
       "    }\n",
       "</style>\n",
       "<table border=\"1\" class=\"dataframe\">\n",
       "  <thead>\n",
       "    <tr style=\"text-align: right;\">\n",
       "      <th></th>\n",
       "      <th>bloc</th>\n",
       "      <th>icustay_id</th>\n",
       "      <th>charttime</th>\n",
       "      <th>gender</th>\n",
       "      <th>age</th>\n",
       "      <th>elixhauser</th>\n",
       "      <th>re_admission</th>\n",
       "      <th>died_in_hosp</th>\n",
       "      <th>died_within_48h_of_out_time</th>\n",
       "      <th>mortality_90d</th>\n",
       "      <th>...</th>\n",
       "      <th>mechvent</th>\n",
       "      <th>Shock_Index</th>\n",
       "      <th>PaO2_FiO2</th>\n",
       "      <th>median_dose_vaso</th>\n",
       "      <th>max_dose_vaso</th>\n",
       "      <th>input_total</th>\n",
       "      <th>input_1hourly</th>\n",
       "      <th>output_total</th>\n",
       "      <th>output_1hourly</th>\n",
       "      <th>cumulated_balance</th>\n",
       "    </tr>\n",
       "  </thead>\n",
       "  <tbody>\n",
       "    <tr>\n",
       "      <th>0</th>\n",
       "      <td>1</td>\n",
       "      <td>65537</td>\n",
       "      <td>7.139723e+09</td>\n",
       "      <td>0.0</td>\n",
       "      <td>22799.40478</td>\n",
       "      <td>4.0</td>\n",
       "      <td>1.0</td>\n",
       "      <td>0.0</td>\n",
       "      <td>0.0</td>\n",
       "      <td>0.0</td>\n",
       "      <td>...</td>\n",
       "      <td>0.0</td>\n",
       "      <td>0.687500</td>\n",
       "      <td>363.888889</td>\n",
       "      <td>0.18</td>\n",
       "      <td>0.18</td>\n",
       "      <td>4020.493550</td>\n",
       "      <td>29.994183</td>\n",
       "      <td>7235.0</td>\n",
       "      <td>3605.0</td>\n",
       "      <td>-3184.512267</td>\n",
       "    </tr>\n",
       "    <tr>\n",
       "      <th>1</th>\n",
       "      <td>2</td>\n",
       "      <td>65537</td>\n",
       "      <td>7.139727e+09</td>\n",
       "      <td>0.0</td>\n",
       "      <td>22799.40478</td>\n",
       "      <td>4.0</td>\n",
       "      <td>1.0</td>\n",
       "      <td>0.0</td>\n",
       "      <td>0.0</td>\n",
       "      <td>0.0</td>\n",
       "      <td>...</td>\n",
       "      <td>0.0</td>\n",
       "      <td>0.602564</td>\n",
       "      <td>430.555556</td>\n",
       "      <td>0.00</td>\n",
       "      <td>0.00</td>\n",
       "      <td>4050.487733</td>\n",
       "      <td>515.407667</td>\n",
       "      <td>10760.0</td>\n",
       "      <td>3525.0</td>\n",
       "      <td>-6194.104600</td>\n",
       "    </tr>\n",
       "    <tr>\n",
       "      <th>2</th>\n",
       "      <td>3</td>\n",
       "      <td>65537</td>\n",
       "      <td>7.139731e+09</td>\n",
       "      <td>0.0</td>\n",
       "      <td>22799.40478</td>\n",
       "      <td>4.0</td>\n",
       "      <td>1.0</td>\n",
       "      <td>0.0</td>\n",
       "      <td>0.0</td>\n",
       "      <td>0.0</td>\n",
       "      <td>...</td>\n",
       "      <td>0.0</td>\n",
       "      <td>0.751456</td>\n",
       "      <td>402.222222</td>\n",
       "      <td>0.00</td>\n",
       "      <td>0.00</td>\n",
       "      <td>4565.895400</td>\n",
       "      <td>547.876700</td>\n",
       "      <td>14235.0</td>\n",
       "      <td>3475.0</td>\n",
       "      <td>-9121.227900</td>\n",
       "    </tr>\n",
       "    <tr>\n",
       "      <th>3</th>\n",
       "      <td>4</td>\n",
       "      <td>65537</td>\n",
       "      <td>7.139734e+09</td>\n",
       "      <td>0.0</td>\n",
       "      <td>22799.40478</td>\n",
       "      <td>4.0</td>\n",
       "      <td>1.0</td>\n",
       "      <td>0.0</td>\n",
       "      <td>0.0</td>\n",
       "      <td>0.0</td>\n",
       "      <td>...</td>\n",
       "      <td>0.0</td>\n",
       "      <td>0.804762</td>\n",
       "      <td>275.000000</td>\n",
       "      <td>0.00</td>\n",
       "      <td>0.00</td>\n",
       "      <td>5113.772100</td>\n",
       "      <td>2097.144000</td>\n",
       "      <td>17630.0</td>\n",
       "      <td>3395.0</td>\n",
       "      <td>-10419.083900</td>\n",
       "    </tr>\n",
       "    <tr>\n",
       "      <th>4</th>\n",
       "      <td>5</td>\n",
       "      <td>65537</td>\n",
       "      <td>7.139738e+09</td>\n",
       "      <td>0.0</td>\n",
       "      <td>22799.40478</td>\n",
       "      <td>4.0</td>\n",
       "      <td>1.0</td>\n",
       "      <td>0.0</td>\n",
       "      <td>0.0</td>\n",
       "      <td>0.0</td>\n",
       "      <td>...</td>\n",
       "      <td>0.0</td>\n",
       "      <td>0.804245</td>\n",
       "      <td>283.000000</td>\n",
       "      <td>0.00</td>\n",
       "      <td>0.00</td>\n",
       "      <td>7210.916100</td>\n",
       "      <td>519.833583</td>\n",
       "      <td>20785.0</td>\n",
       "      <td>3155.0</td>\n",
       "      <td>-13054.250317</td>\n",
       "    </tr>\n",
       "  </tbody>\n",
       "</table>\n",
       "<p>5 rows × 59 columns</p>\n",
       "</div>"
      ],
      "text/plain": [
       "   bloc  icustay_id     charttime  gender          age  elixhauser  \\\n",
       "0     1       65537  7.139723e+09     0.0  22799.40478         4.0   \n",
       "1     2       65537  7.139727e+09     0.0  22799.40478         4.0   \n",
       "2     3       65537  7.139731e+09     0.0  22799.40478         4.0   \n",
       "3     4       65537  7.139734e+09     0.0  22799.40478         4.0   \n",
       "4     5       65537  7.139738e+09     0.0  22799.40478         4.0   \n",
       "\n",
       "   re_admission  died_in_hosp  died_within_48h_of_out_time  mortality_90d  \\\n",
       "0           1.0           0.0                          0.0            0.0   \n",
       "1           1.0           0.0                          0.0            0.0   \n",
       "2           1.0           0.0                          0.0            0.0   \n",
       "3           1.0           0.0                          0.0            0.0   \n",
       "4           1.0           0.0                          0.0            0.0   \n",
       "\n",
       "   ...  mechvent  Shock_Index   PaO2_FiO2  median_dose_vaso  max_dose_vaso  \\\n",
       "0  ...       0.0     0.687500  363.888889              0.18           0.18   \n",
       "1  ...       0.0     0.602564  430.555556              0.00           0.00   \n",
       "2  ...       0.0     0.751456  402.222222              0.00           0.00   \n",
       "3  ...       0.0     0.804762  275.000000              0.00           0.00   \n",
       "4  ...       0.0     0.804245  283.000000              0.00           0.00   \n",
       "\n",
       "   input_total  input_1hourly  output_total  output_1hourly  cumulated_balance  \n",
       "0  4020.493550      29.994183        7235.0          3605.0       -3184.512267  \n",
       "1  4050.487733     515.407667       10760.0          3525.0       -6194.104600  \n",
       "2  4565.895400     547.876700       14235.0          3475.0       -9121.227900  \n",
       "3  5113.772100    2097.144000       17630.0          3395.0      -10419.083900  \n",
       "4  7210.916100     519.833583       20785.0          3155.0      -13054.250317  \n",
       "\n",
       "[5 rows x 59 columns]"
      ]
     },
     "execution_count": 6,
     "metadata": {},
     "output_type": "execute_result"
    }
   ],
   "source": [
    "MIMICtable = pd.read_csv(\"/data/localhost/taufiq/export-dir/MIMIC-1hourly-length-5-train.csv\")\n",
    "MIMICtable['icustay_id'] = MIMICtable['icustay_id'].astype(int)\n",
    "MIMICtable.head()"
   ]
  },
  {
   "cell_type": "markdown",
   "metadata": {},
   "source": [
    "## Create Actions\n"
   ]
  },
  {
   "cell_type": "code",
   "execution_count": 7,
   "metadata": {},
   "outputs": [],
   "source": [
    "nra = 5\n",
    "nr_reps = 2"
   ]
  },
  {
   "cell_type": "code",
   "execution_count": 8,
   "metadata": {},
   "outputs": [],
   "source": [
    "from sklearn.cluster import KMeans\n",
    "from scipy.stats import rankdata\n",
    "\n",
    "logging.info('Creating action bins')\n",
    "nact = nra**2\n",
    "input_1hourly_nonzero = MIMICtable.loc[MIMICtable['input_1hourly']>0, 'input_1hourly']\n",
    "iol_ranked = rankdata(input_1hourly_nonzero)/len(input_1hourly_nonzero) # excludes zero fluid (will be action 1)\n",
    "iof = np.floor((iol_ranked + 0.2499999999)*4) # converts iv volume in 4 actions\n",
    "io = np.ones(len(MIMICtable)) # array of ones, by default\n",
    "io[MIMICtable['input_1hourly']>0] = iof + 1 # where more than zero fluid given: save actual action\n",
    "vc = MIMICtable['max_dose_vaso'].copy()\n",
    "vc_nonzero = MIMICtable.loc[MIMICtable['max_dose_vaso']!=0, 'max_dose_vaso']\n",
    "vc_ranked = rankdata(vc_nonzero)/len(vc_nonzero)\n",
    "vcf = np.floor((vc_ranked + 0.2499999999)*4) # converts to 4 bins\n",
    "vcf[vcf==0] = 1\n",
    "vc[vc!=0] = vcf + 1\n",
    "vc[vc==0] = 1\n",
    "# median dose of drug in all bins\n",
    "ma1 = [MIMICtable.loc[io==1, 'input_1hourly'].median(), MIMICtable.loc[io==2, 'input_1hourly'].median(), MIMICtable.loc[io==3, 'input_1hourly'].median(), MIMICtable.loc[io==4, 'input_1hourly'].median(), MIMICtable.loc[io==5, 'input_1hourly'].median()]\n",
    "ma2 = [MIMICtable.loc[vc==1, 'max_dose_vaso'].median(), MIMICtable.loc[vc==2, 'max_dose_vaso'].median(), MIMICtable.loc[vc==3, 'max_dose_vaso'].median(), MIMICtable.loc[vc==4, 'max_dose_vaso'].median(), MIMICtable.loc[vc==5, 'max_dose_vaso'].median()]\n",
    "med = pd.DataFrame(data={'IV':io, 'VC': vc})\n",
    "med = med.astype({'IV': 'int32', 'VC': 'int32'})\n",
    "uniqueValues = med.drop_duplicates().reset_index(drop=True)\n",
    "uniqueValueDoses = pd.DataFrame()\n",
    "for index, row in uniqueValues.iterrows():\n",
    "    uniqueValueDoses.at[index, 'IV'], uniqueValueDoses.at[index, 'VC'] = ma1[row['IV']-1], ma2[row['VC']-1]\n",
    "\n",
    "actionbloc = pd.DataFrame()\n",
    "for index, row in med.iterrows():\n",
    "    actionbloc.at[index, 'action_bloc'] = uniqueValues.loc[(uniqueValues['IV'] == row['IV']) & (uniqueValues['VC'] == row['VC'])].index.values[0]+1\n",
    "actionbloc = actionbloc.astype({'action_bloc':'int32'})\n",
    "\n",
    "logging.info('Action bins created')"
   ]
  },
  {
   "cell_type": "code",
   "execution_count": 9,
   "metadata": {},
   "outputs": [
    {
     "data": {
      "text/plain": [
       "25840"
      ]
     },
     "execution_count": 9,
     "metadata": {},
     "output_type": "execute_result"
    }
   ],
   "source": [
    "len(MIMICtable)"
   ]
  },
  {
   "cell_type": "code",
   "execution_count": 10,
   "metadata": {},
   "outputs": [],
   "source": [
    "MIMICtable['A'] = actionbloc['action_bloc']"
   ]
  },
  {
   "cell_type": "code",
   "execution_count": 11,
   "metadata": {},
   "outputs": [],
   "source": [
    "x_columns = ['gender', 'age', 'Weight_kg', 'paCO2', 'paO2', 'HCO3', 'Arterial_pH', 'Calcium', 'Chloride', 'DiaBP', 'Glucose', 'MeanBP', 'Potassium', 'RR', 'Temp_C', 'Sodium', 'SysBP', 'HR']"
   ]
  },
  {
   "cell_type": "code",
   "execution_count": 20,
   "metadata": {},
   "outputs": [],
   "source": [
    "MIMICtable_filtered_t0 = MIMICtable[MIMICtable['bloc']==1].reset_index()\n",
    "MIMICtable_filtered_t1 = MIMICtable[MIMICtable['bloc']==2].reset_index()\n",
    "MIMICtable_filtered_t2 = MIMICtable[MIMICtable['bloc']==3].reset_index()\n",
    "MIMICtable_filtered_t3 = MIMICtable[MIMICtable['bloc']==4].reset_index()\n",
    "MIMICtable_filtered_t4 = MIMICtable[MIMICtable['bloc']==5].reset_index()\n",
    "# MIMICtable_filtered_t1 = MIMICtable[MIMICtable['bloc']==2][[\n",
    "#        'icustay_id', 'RR', 'HR', 'SysBP', 'MeanBP', 'DiaBP',\n",
    "#        'SpO2', 'Temp_C', 'FiO2_1', 'Potassium', 'Sodium', 'Chloride',\n",
    "#        'Glucose', 'BUN', 'Creatinine', 'Magnesium', 'Calcium', 'Ionised_Ca',\n",
    "#        'CO2_mEqL', 'SGOT', 'SGPT', 'Total_bili', 'Albumin', 'Hb', 'WBC_count',\n",
    "#        'Platelets_count', 'PTT', 'PT', 'INR', 'Arterial_pH', 'paO2', 'paCO2',\n",
    "#        'Arterial_BE', 'HCO3', 'Arterial_lactate', 'A']].reset_index()\n",
    "# MIMICtable_filtered_t2 = MIMICtable[MIMICtable['bloc']==3][[\n",
    "#        'icustay_id', 'RR', 'HR', 'SysBP', 'MeanBP', 'DiaBP',\n",
    "#        'SpO2', 'Temp_C', 'FiO2_1', 'Potassium', 'Sodium', 'Chloride',\n",
    "#        'Glucose', 'BUN', 'Creatinine', 'Magnesium', 'Calcium', 'Ionised_Ca',\n",
    "#        'CO2_mEqL', 'SGOT', 'SGPT', 'Total_bili', 'Albumin', 'Hb', 'WBC_count',\n",
    "#        'Platelets_count', 'PTT', 'PT', 'INR', 'Arterial_pH', 'paO2', 'paCO2',\n",
    "#        'Arterial_BE', 'HCO3', 'Arterial_lactate', 'A']].reset_index()\n",
    "\n",
    "\n",
    "MIMICtable_filtered_t1 = MIMICtable_filtered_t1[MIMICtable_filtered_t1[x_columns[1:]].min(axis=1)>0].reset_index()\n",
    "# MIMICtable_filtered_t0 = MIMICtable_filtered_t0[MIMICtable_filtered_t0['icustay_id'].isin(MIMICtable_filtered_t1['icustay_id'])].reset_index()\n",
    "\n",
    "MIMICtable_filtered_t2 = MIMICtable_filtered_t2[MIMICtable_filtered_t2[x_columns[1:]].min(axis=1)>0].reset_index(drop=True)\n",
    "MIMICtable_filtered_t3 = MIMICtable_filtered_t3[MIMICtable_filtered_t3[x_columns[1:]].min(axis=1)>0].reset_index(drop=True)\n",
    "MIMICtable_filtered_t4 = MIMICtable_filtered_t4[MIMICtable_filtered_t4[x_columns[1:]].min(axis=1)>0].reset_index(drop=True)\n",
    "# MIMICtable_filtered_t1 = MIMICtable_filtered_t1[MIMICtable_filtered_t1['icustay_id'].isin(MIMICtable_filtered_t2['icustay_id'])].reset_index(drop=True)\n",
    "# MIMICtable_filtered_t2 = MIMICtable_filtered_t2[MIMICtable_filtered_t2['icustay_id'].isin(MIMICtable_filtered_t1['icustay_id'])].reset_index(drop=True)\n",
    "# MIMICtable_filtered_t0 = MIMICtable_filtered_t0[MIMICtable_filtered_t0['icustay_id'].isin(MIMICtable_filtered_t1['icustay_id'])].reset_index(drop=True)"
   ]
  },
  {
   "cell_type": "code",
   "execution_count": 23,
   "metadata": {},
   "outputs": [],
   "source": [
    "MIMIC_t0 = MIMICtable_filtered_t0[['icustay_id'] + x_columns].copy()\n",
    "MIMIC_t1 = MIMICtable_filtered_t1[['icustay_id'] + x_columns[3:]].copy()\n",
    "MIMIC_t2 = MIMICtable_filtered_t2[['icustay_id'] + x_columns[3:]].copy()\n",
    "MIMIC_t3 = MIMICtable_filtered_t3[['icustay_id'] + x_columns[3:]].copy()\n",
    "MIMIC_t4 = MIMICtable_filtered_t4[['icustay_id'] + x_columns[3:]].copy()\n",
    "\n",
    "mimic_t0_rename = {}\n",
    "mimic_t1_rename = {}\n",
    "mimic_t2_rename = {}\n",
    "mimic_t3_rename = {}\n",
    "mimic_t4_rename = {}\n",
    "\n",
    "for col in x_columns[3:]:\n",
    "    mimic_t0_rename.update({col: f\"{col}_t0\"})\n",
    "    mimic_t1_rename.update({col: f\"{col}_t1\"})\n",
    "    mimic_t2_rename.update({col: f\"{col}_t2\"})\n",
    "    mimic_t3_rename.update({col: f\"{col}_t3\"})\n",
    "    mimic_t4_rename.update({col: f\"{col}_t4\"})\n",
    "    MIMIC_t0 = MIMIC_t0.rename(columns=mimic_t0_rename)\n",
    "    MIMIC_t1 = MIMIC_t1.rename(columns=mimic_t1_rename)\n",
    "    MIMIC_t2 = MIMIC_t2.rename(columns=mimic_t2_rename)\n",
    "    MIMIC_t3 = MIMIC_t3.rename(columns=mimic_t3_rename)\n",
    "    MIMIC_t4 = MIMIC_t4.rename(columns=mimic_t4_rename)\n",
    "\n",
    "MIMIC_combined = MIMIC_t0.merge(MIMIC_t1, on=['icustay_id'])\n",
    "MIMIC_combined = MIMIC_combined.merge(MIMIC_t2, on=['icustay_id'])\n",
    "MIMIC_combined = MIMIC_combined.merge(MIMIC_t3, on=['icustay_id'])\n",
    "MIMIC_combined = MIMIC_combined.merge(MIMIC_t4, on=['icustay_id'])"
   ]
  },
  {
   "cell_type": "code",
   "execution_count": 24,
   "metadata": {},
   "outputs": [],
   "source": [
    "MIMIC_combined_raw = MIMIC_combined.copy()\n",
    "\n",
    "for col in x_columns[3:]:\n",
    "    MIMIC_combined_raw[f'{col}_t0'] = (MIMIC_combined[f'{col}_t0'] - MIMIC_combined[f'{col}_t0'].mean())/MIMIC_combined[f'{col}_t0'].std()\n",
    "    MIMIC_combined_raw[f'{col}_t1'] = (MIMIC_combined[f'{col}_t1'] - MIMIC_combined[f'{col}_t1'].mean())/MIMIC_combined[f'{col}_t1'].std()\n",
    "    MIMIC_combined_raw[f'{col}_t2'] = (MIMIC_combined[f'{col}_t2'] - MIMIC_combined[f'{col}_t2'].mean())/MIMIC_combined[f'{col}_t2'].std()\n",
    "    MIMIC_combined_raw[f'{col}_t3'] = (MIMIC_combined[f'{col}_t3'] - MIMIC_combined[f'{col}_t3'].mean())/MIMIC_combined[f'{col}_t3'].std()\n",
    "    MIMIC_combined_raw[f'{col}_t4'] = (MIMIC_combined[f'{col}_t4'] - MIMIC_combined[f'{col}_t4'].mean())/MIMIC_combined[f'{col}_t4'].std()\n",
    "\n",
    "\n",
    "MIMIC_combined_raw['age'] = (MIMIC_combined['age']-MIMIC_combined['age'].mean())/MIMIC_combined['age'].std()\n",
    "MIMIC_combined_raw['Weight_kg'] = (MIMIC_combined['Weight_kg']-MIMIC_combined['Weight_kg'].mean())/MIMIC_combined['Weight_kg'].std()\n"
   ]
  },
  {
   "cell_type": "code",
   "execution_count": 25,
   "metadata": {},
   "outputs": [
    {
     "data": {
      "text/plain": [
       "79"
      ]
     },
     "execution_count": 25,
     "metadata": {},
     "output_type": "execute_result"
    }
   ],
   "source": [
    "len(MIMIC_combined.columns)"
   ]
  },
  {
   "cell_type": "code",
   "execution_count": 26,
   "metadata": {},
   "outputs": [],
   "source": [
    "import torch\n",
    "import torch.utils.data\n",
    "from torch import nn, optim\n",
    "from torch.nn import functional as F\n",
    "\n",
    "latent_dim = 50\n",
    "hidden_dim = 200\n",
    "data_dim = 77\n",
    "\n",
    "class VAE(nn.Module):\n",
    "    def __init__(self):\n",
    "        super(VAE, self).__init__()\n",
    "\n",
    "        self.fc11 = nn.Linear(data_dim, hidden_dim)\n",
    "        self.fc12 = nn.Linear(hidden_dim, hidden_dim)\n",
    "        self.fc13 = nn.Linear(hidden_dim, hidden_dim)\n",
    "        self.fc21 = nn.Linear(hidden_dim, latent_dim)\n",
    "        self.fc22 = nn.Linear(hidden_dim, latent_dim)\n",
    "        self.fc3 = nn.Linear(latent_dim, hidden_dim)\n",
    "        self.fc41 = nn.Linear(hidden_dim, hidden_dim)\n",
    "        self.fc42 = nn.Linear(hidden_dim, hidden_dim)\n",
    "        self.fc43 = nn.Linear(hidden_dim, data_dim)\n",
    "        self.fc44 = nn.Linear(hidden_dim, data_dim)\n",
    "        self.fc45 = nn.Linear(hidden_dim, int(data_dim*(data_dim-1)/2))\n",
    "\n",
    "    def encode(self, x):\n",
    "        h1 = torch.tanh(self.fc11(x))\n",
    "        h1 = F.leaky_relu(self.fc12(h1))\n",
    "        h1 = F.leaky_relu(self.fc13(h1))\n",
    "        return self.fc21(h1), self.fc22(h1)\n",
    "\n",
    "    def reparameterize(self, mu, logvar):\n",
    "        std = torch.exp(0.5*logvar)\n",
    "        eps = torch.randn_like(std)\n",
    "        return mu + eps*std\n",
    "\n",
    "    def decode(self, z):\n",
    "        h3 = F.leaky_relu(self.fc3(z))\n",
    "        h3 = torch.tanh(self.fc41(h3))\n",
    "        h3 = F.leaky_relu(self.fc42(h3))\n",
    "        t = torch.tril_indices(row=data_dim-1, col=data_dim-1, offset=0)\n",
    "        lower_tr = torch.zeros((z.shape[0], data_dim, data_dim))\n",
    "        lower_tr[:, t[0]+1, t[1]] = self.fc45(h3)\n",
    "        cov_mat = torch.multiply(lower_tr, lower_tr.transpose(1,2))\n",
    "        diag_var = self.fc44(h3).exp()\n",
    "        cov_mat[:, torch.arange(data_dim), torch.arange(data_dim)] = diag_var\n",
    "        return self.fc43(h3), cov_mat\n",
    "\n",
    "    def forward(self, x):\n",
    "        mu, logvar = self.encode(x)\n",
    "        z = self.reparameterize(mu, logvar)\n",
    "        dec_mu, dec_cov_mat = self.decode(z)\n",
    "        return dec_mu, dec_cov_mat, mu, logvar"
   ]
  },
  {
   "cell_type": "code",
   "execution_count": 27,
   "metadata": {},
   "outputs": [],
   "source": [
    "icuuniqueids = MIMIC_combined['icustay_id'].unique()\n",
    "\n",
    "grp = np.floor(5*np.random.rand(len(icuuniqueids))+1)\n",
    "crossval = 1\n",
    "trainidx = icuuniqueids[grp != crossval]\n",
    "testidx = icuuniqueids[grp == crossval]\n",
    "X = torch.FloatTensor(MIMIC_combined_raw[(MIMIC_combined_raw['gender']==0) & (MIMIC_combined_raw['icustay_id'].isin(trainidx))].drop(columns=['icustay_id', 'gender']).values)\n",
    "Xtestmimic = torch.FloatTensor(MIMIC_combined_raw[(MIMIC_combined_raw['gender']==0) & (MIMIC_combined_raw['icustay_id'].isin(testidx))].drop(columns=['icustay_id', 'gender']).values)\n",
    "\n",
    "train = torch.utils.data.TensorDataset(X)\n",
    "trainloader = torch.utils.data.DataLoader(train, batch_size=32)\n",
    "test = torch.utils.data.TensorDataset(Xtestmimic)\n",
    "testloader = torch.utils.data.DataLoader(test, batch_size=32)"
   ]
  },
  {
   "cell_type": "code",
   "execution_count": 28,
   "metadata": {},
   "outputs": [],
   "source": [
    "def loss_function_deprecated(recon_x, logvar_lik, x, mu, logvar):\n",
    "#     BCE = F.binary_cross_entropy_with_logits(recon_x, x, reduction='sum')\n",
    "#     mse_loss = F.mse_loss(torch.div(recon_x, ), x, reduction='sum')\n",
    "    mse_loss = torch.sum(torch.square(recon_x - x)/2/torch.exp(logvar_lik) + 0.5*logvar_lik)\n",
    "\n",
    "    # see Appendix B from VAE paper:\n",
    "    # Kingma and Welling. Auto-Encoding Variational Bayes. ICLR, 2014\n",
    "    # https://arxiv.org/abs/1312.6114\n",
    "    # 0.5 * sum(1 + log(sigma^2) - mu^2 - sigma^2)\n",
    "    KLD = -0.5 * torch.sum(1 + logvar - mu.pow(2) - logvar.exp())\n",
    "    return mse_loss + KLD"
   ]
  },
  {
   "cell_type": "code",
   "execution_count": 29,
   "metadata": {},
   "outputs": [],
   "source": [
    "def loss_function(dec_mu, dec_covmat, x, mu, logvar):\n",
    "#     BCE = F.binary_cross_entropy_with_logits(recon_x, x, reduction='sum')\n",
    "#     mse_loss = F.mse_loss(torch.div(recon_x, ), x, reduction='sum')\n",
    "    nlog_lik = (0.5*((dec_mu - x).unsqueeze(dim=1) @ dec_covmat.inverse() @ (dec_mu - x).unsqueeze(dim=2)).squeeze() + 0.5*dec_covmat.logdet()).sum()\n",
    "\n",
    "    KLD = -0.5 * torch.sum(1 + logvar - mu.pow(2) - logvar.exp())\n",
    "    return nlog_lik + KLD"
   ]
  },
  {
   "cell_type": "code",
   "execution_count": 30,
   "metadata": {},
   "outputs": [],
   "source": [
    "device = 'cpu'\n",
    "model = VAE().to(device)\n",
    "# optimizer = optim.Adam(model.parameters(), lr=1e-3, weight_decay=0.0, betas=(0.99,0.999), amsgrad=True)\n",
    "# optimizer = optim.RMSprop(model.parameters(), lr=1e-5, weight_decay=0.1, centered=True, momentum=0.9) -- seems fairly good\n",
    "optimizer = optim.RMSprop(model.parameters(), lr=1e-5, weight_decay=0.0, centered=True, momentum=0.9)\n",
    "test_losses = []\n",
    "train_loss = 0"
   ]
  },
  {
   "cell_type": "code",
   "execution_count": 47,
   "metadata": {},
   "outputs": [
    {
     "name": "stderr",
     "output_type": "stream",
     "text": [
      "100%|██████████| 300/300 [04:36<00:00,  1.08it/s]\n"
     ]
    }
   ],
   "source": [
    "epochs = 300\n",
    "for epoch in tqdm(range(epochs), position=0, leave=True):\n",
    "    for data, in trainloader:\n",
    "        data = data.to(device)\n",
    "        optimizer.zero_grad()\n",
    "        dec_mu, dec_cov_mat, mu, logvar = model(data)\n",
    "        loss = loss_function(dec_mu, dec_cov_mat, data, mu, logvar)\n",
    "        loss.backward()\n",
    "        train_loss += loss.item()\n",
    "        optimizer.step()\n",
    "    if (epoch+1) % 10 == 0:\n",
    "        test_loss = 0\n",
    "        with torch.no_grad():\n",
    "            for testdata, in testloader:\n",
    "                testdata = testdata.to(device)\n",
    "                recon_batch, logvar_lik, mu, logvar = model(testdata)\n",
    "                test_loss += loss_function(recon_batch, logvar_lik, testdata, mu, logvar).item()\n",
    "            test_losses.append(test_loss/len(testloader.dataset))"
   ]
  },
  {
   "cell_type": "code",
   "execution_count": 48,
   "metadata": {},
   "outputs": [
    {
     "data": {
      "text/plain": [
       "[<matplotlib.lines.Line2D at 0x7f55bef93a00>]"
      ]
     },
     "execution_count": 48,
     "metadata": {},
     "output_type": "execute_result"
    },
    {
     "data": {
      "image/png": "[encoded data removed]",
      "text/plain": [
       "<Figure size 432x288 with 1 Axes>"
      ]
     },
     "metadata": {
      "needs_background": "light"
     },
     "output_type": "display_data"
    }
   ],
   "source": [
    "plt.plot(test_losses)"
   ]
  },
  {
   "cell_type": "code",
   "execution_count": 49,
   "metadata": {},
   "outputs": [],
   "source": [
    "from torch.distributions.multivariate_normal import MultivariateNormal\n",
    "\n",
    "def sample_multivariate(mu, cov):\n",
    "    m = MultivariateNormal(mu, covariance_matrix=cov)\n",
    "    return m.sample()"
   ]
  },
  {
   "cell_type": "code",
   "execution_count": 50,
   "metadata": {},
   "outputs": [
    {
     "name": "stdout",
     "output_type": "stream",
     "text": [
      "tensor([[-0.6764, -1.0424,  0.0211,  ..., -1.2808,  0.5815, -0.0943],\n",
      "        [-2.6450, -0.3996,  1.0904,  ...,  0.1192, -0.7074,  2.3275],\n",
      "        [-0.4143, -0.3183, -1.1141,  ..., -0.6810, -0.3774,  1.6035],\n",
      "        ...,\n",
      "        [-0.8455, -0.4234,  0.5255,  ..., -1.8640, -1.0072,  0.5220],\n",
      "        [ 0.2627,  0.1527,  0.1218,  ...,  0.1679,  0.2926, -0.5867],\n",
      "        [ 0.6180, -0.2727,  0.2276,  ..., -0.3879, -0.7925,  0.5174]])\n"
     ]
    }
   ],
   "source": [
    "with torch.no_grad():\n",
    "    sample = torch.randn(20000, latent_dim).to(device)\n",
    "    mu, cov = model.decode(sample)\n",
    "    sample = sample_multivariate(mu, cov)\n",
    "print(sample)"
   ]
  },
  {
   "cell_type": "code",
   "execution_count": 51,
   "metadata": {},
   "outputs": [
    {
     "data": {
      "text/html": [
       "<div>\n",
       "<style scoped>\n",
       "    .dataframe tbody tr th:only-of-type {\n",
       "        vertical-align: middle;\n",
       "    }\n",
       "\n",
       "    .dataframe tbody tr th {\n",
       "        vertical-align: top;\n",
       "    }\n",
       "\n",
       "    .dataframe thead th {\n",
       "        text-align: right;\n",
       "    }\n",
       "</style>\n",
       "<table border=\"1\" class=\"dataframe\">\n",
       "  <thead>\n",
       "    <tr style=\"text-align: right;\">\n",
       "      <th></th>\n",
       "      <th>age</th>\n",
       "      <th>Weight_kg</th>\n",
       "      <th>paCO2_t0</th>\n",
       "      <th>paO2_t0</th>\n",
       "      <th>HCO3_t0</th>\n",
       "      <th>Arterial_pH_t0</th>\n",
       "      <th>Calcium_t0</th>\n",
       "      <th>Chloride_t0</th>\n",
       "      <th>DiaBP_t0</th>\n",
       "      <th>Glucose_t0</th>\n",
       "      <th>...</th>\n",
       "      <th>Chloride_t4</th>\n",
       "      <th>DiaBP_t4</th>\n",
       "      <th>Glucose_t4</th>\n",
       "      <th>MeanBP_t4</th>\n",
       "      <th>Potassium_t4</th>\n",
       "      <th>RR_t4</th>\n",
       "      <th>Temp_C_t4</th>\n",
       "      <th>Sodium_t4</th>\n",
       "      <th>SysBP_t4</th>\n",
       "      <th>HR_t4</th>\n",
       "    </tr>\n",
       "  </thead>\n",
       "  <tbody>\n",
       "    <tr>\n",
       "      <th>0</th>\n",
       "      <td>19832.220710</td>\n",
       "      <td>56.520488</td>\n",
       "      <td>43.397174</td>\n",
       "      <td>51.944997</td>\n",
       "      <td>1729.415718</td>\n",
       "      <td>7.517713</td>\n",
       "      <td>76.585302</td>\n",
       "      <td>3159.346860</td>\n",
       "      <td>63.501776</td>\n",
       "      <td>1063.519404</td>\n",
       "      <td>...</td>\n",
       "      <td>3574.384835</td>\n",
       "      <td>70.274336</td>\n",
       "      <td>1703.173694</td>\n",
       "      <td>88.688110</td>\n",
       "      <td>146.730397</td>\n",
       "      <td>21.737989</td>\n",
       "      <td>36.006046</td>\n",
       "      <td>3007.807925</td>\n",
       "      <td>132.372648</td>\n",
       "      <td>84.364503</td>\n",
       "    </tr>\n",
       "    <tr>\n",
       "      <th>1</th>\n",
       "      <td>8043.275407</td>\n",
       "      <td>72.332296</td>\n",
       "      <td>56.603215</td>\n",
       "      <td>358.203004</td>\n",
       "      <td>1758.328225</td>\n",
       "      <td>7.205812</td>\n",
       "      <td>75.716207</td>\n",
       "      <td>3820.379982</td>\n",
       "      <td>59.422781</td>\n",
       "      <td>1170.431223</td>\n",
       "      <td>...</td>\n",
       "      <td>3646.726051</td>\n",
       "      <td>76.490856</td>\n",
       "      <td>1186.379585</td>\n",
       "      <td>83.249907</td>\n",
       "      <td>171.568732</td>\n",
       "      <td>22.617699</td>\n",
       "      <td>38.182504</td>\n",
       "      <td>3185.094602</td>\n",
       "      <td>105.229250</td>\n",
       "      <td>127.334150</td>\n",
       "    </tr>\n",
       "    <tr>\n",
       "      <th>2</th>\n",
       "      <td>21401.705509</td>\n",
       "      <td>74.330749</td>\n",
       "      <td>29.377657</td>\n",
       "      <td>356.371425</td>\n",
       "      <td>1204.968735</td>\n",
       "      <td>7.339074</td>\n",
       "      <td>87.370507</td>\n",
       "      <td>3550.899292</td>\n",
       "      <td>53.177272</td>\n",
       "      <td>929.509003</td>\n",
       "      <td>...</td>\n",
       "      <td>3638.535330</td>\n",
       "      <td>60.383731</td>\n",
       "      <td>1230.815734</td>\n",
       "      <td>82.085166</td>\n",
       "      <td>190.689681</td>\n",
       "      <td>15.034156</td>\n",
       "      <td>37.513179</td>\n",
       "      <td>3083.764158</td>\n",
       "      <td>112.178402</td>\n",
       "      <td>114.488872</td>\n",
       "    </tr>\n",
       "    <tr>\n",
       "      <th>3</th>\n",
       "      <td>21728.659453</td>\n",
       "      <td>74.346081</td>\n",
       "      <td>44.834890</td>\n",
       "      <td>222.943861</td>\n",
       "      <td>1287.660018</td>\n",
       "      <td>7.422787</td>\n",
       "      <td>93.088717</td>\n",
       "      <td>3739.748982</td>\n",
       "      <td>75.385568</td>\n",
       "      <td>1131.191580</td>\n",
       "      <td>...</td>\n",
       "      <td>3668.899524</td>\n",
       "      <td>73.333233</td>\n",
       "      <td>973.295123</td>\n",
       "      <td>80.023667</td>\n",
       "      <td>151.880864</td>\n",
       "      <td>19.351559</td>\n",
       "      <td>36.676789</td>\n",
       "      <td>3148.049160</td>\n",
       "      <td>109.715447</td>\n",
       "      <td>88.976854</td>\n",
       "    </tr>\n",
       "    <tr>\n",
       "      <th>4</th>\n",
       "      <td>29312.142506</td>\n",
       "      <td>100.615246</td>\n",
       "      <td>44.401754</td>\n",
       "      <td>78.079499</td>\n",
       "      <td>1529.264542</td>\n",
       "      <td>7.370290</td>\n",
       "      <td>119.029169</td>\n",
       "      <td>3834.884437</td>\n",
       "      <td>74.499421</td>\n",
       "      <td>2546.535326</td>\n",
       "      <td>...</td>\n",
       "      <td>3875.555760</td>\n",
       "      <td>64.318818</td>\n",
       "      <td>1428.176334</td>\n",
       "      <td>74.475163</td>\n",
       "      <td>152.029935</td>\n",
       "      <td>29.583925</td>\n",
       "      <td>36.259268</td>\n",
       "      <td>3254.422760</td>\n",
       "      <td>118.295671</td>\n",
       "      <td>97.906582</td>\n",
       "    </tr>\n",
       "    <tr>\n",
       "      <th>...</th>\n",
       "      <td>...</td>\n",
       "      <td>...</td>\n",
       "      <td>...</td>\n",
       "      <td>...</td>\n",
       "      <td>...</td>\n",
       "      <td>...</td>\n",
       "      <td>...</td>\n",
       "      <td>...</td>\n",
       "      <td>...</td>\n",
       "      <td>...</td>\n",
       "      <td>...</td>\n",
       "      <td>...</td>\n",
       "      <td>...</td>\n",
       "      <td>...</td>\n",
       "      <td>...</td>\n",
       "      <td>...</td>\n",
       "      <td>...</td>\n",
       "      <td>...</td>\n",
       "      <td>...</td>\n",
       "      <td>...</td>\n",
       "      <td>...</td>\n",
       "    </tr>\n",
       "    <tr>\n",
       "      <th>19995</th>\n",
       "      <td>15745.691007</td>\n",
       "      <td>75.412498</td>\n",
       "      <td>49.444537</td>\n",
       "      <td>111.017589</td>\n",
       "      <td>1433.754304</td>\n",
       "      <td>7.418414</td>\n",
       "      <td>73.216821</td>\n",
       "      <td>3741.376979</td>\n",
       "      <td>69.328599</td>\n",
       "      <td>1289.390112</td>\n",
       "      <td>...</td>\n",
       "      <td>3832.436173</td>\n",
       "      <td>81.394154</td>\n",
       "      <td>1218.012741</td>\n",
       "      <td>81.222205</td>\n",
       "      <td>167.267651</td>\n",
       "      <td>22.757246</td>\n",
       "      <td>37.650366</td>\n",
       "      <td>3341.492425</td>\n",
       "      <td>91.019801</td>\n",
       "      <td>86.895107</td>\n",
       "    </tr>\n",
       "    <tr>\n",
       "      <th>19996</th>\n",
       "      <td>17876.394755</td>\n",
       "      <td>91.128982</td>\n",
       "      <td>57.086296</td>\n",
       "      <td>210.482771</td>\n",
       "      <td>1545.664802</td>\n",
       "      <td>7.231915</td>\n",
       "      <td>80.925059</td>\n",
       "      <td>3446.091180</td>\n",
       "      <td>48.821702</td>\n",
       "      <td>2505.149711</td>\n",
       "      <td>...</td>\n",
       "      <td>3507.939395</td>\n",
       "      <td>21.624494</td>\n",
       "      <td>2833.680250</td>\n",
       "      <td>48.928166</td>\n",
       "      <td>182.650152</td>\n",
       "      <td>23.488133</td>\n",
       "      <td>34.975704</td>\n",
       "      <td>3077.281850</td>\n",
       "      <td>90.219556</td>\n",
       "      <td>80.967224</td>\n",
       "    </tr>\n",
       "    <tr>\n",
       "      <th>19997</th>\n",
       "      <td>18819.947145</td>\n",
       "      <td>71.745080</td>\n",
       "      <td>49.625674</td>\n",
       "      <td>79.173880</td>\n",
       "      <td>1497.090421</td>\n",
       "      <td>7.399587</td>\n",
       "      <td>83.158437</td>\n",
       "      <td>3366.959391</td>\n",
       "      <td>30.206155</td>\n",
       "      <td>1320.524165</td>\n",
       "      <td>...</td>\n",
       "      <td>3279.163436</td>\n",
       "      <td>26.803927</td>\n",
       "      <td>1254.628961</td>\n",
       "      <td>45.924422</td>\n",
       "      <td>186.230893</td>\n",
       "      <td>10.294552</td>\n",
       "      <td>36.961110</td>\n",
       "      <td>2933.946735</td>\n",
       "      <td>98.914179</td>\n",
       "      <td>95.299838</td>\n",
       "    </tr>\n",
       "    <tr>\n",
       "      <th>19998</th>\n",
       "      <td>25456.235242</td>\n",
       "      <td>85.915604</td>\n",
       "      <td>44.640352</td>\n",
       "      <td>79.724946</td>\n",
       "      <td>583.751169</td>\n",
       "      <td>7.315727</td>\n",
       "      <td>62.173456</td>\n",
       "      <td>3769.253671</td>\n",
       "      <td>70.832871</td>\n",
       "      <td>663.932357</td>\n",
       "      <td>...</td>\n",
       "      <td>3379.911117</td>\n",
       "      <td>40.907817</td>\n",
       "      <td>3557.452620</td>\n",
       "      <td>69.090113</td>\n",
       "      <td>134.688522</td>\n",
       "      <td>28.417608</td>\n",
       "      <td>36.432790</td>\n",
       "      <td>3191.262094</td>\n",
       "      <td>126.288904</td>\n",
       "      <td>75.629441</td>\n",
       "    </tr>\n",
       "    <tr>\n",
       "      <th>19999</th>\n",
       "      <td>27584.077764</td>\n",
       "      <td>75.451269</td>\n",
       "      <td>45.946705</td>\n",
       "      <td>105.619918</td>\n",
       "      <td>1860.092579</td>\n",
       "      <td>7.327014</td>\n",
       "      <td>95.280577</td>\n",
       "      <td>3374.278843</td>\n",
       "      <td>43.616758</td>\n",
       "      <td>993.432937</td>\n",
       "      <td>...</td>\n",
       "      <td>3456.768404</td>\n",
       "      <td>58.177144</td>\n",
       "      <td>971.949625</td>\n",
       "      <td>61.398481</td>\n",
       "      <td>176.046476</td>\n",
       "      <td>29.758798</td>\n",
       "      <td>37.398966</td>\n",
       "      <td>3120.881519</td>\n",
       "      <td>103.436026</td>\n",
       "      <td>95.217619</td>\n",
       "    </tr>\n",
       "  </tbody>\n",
       "</table>\n",
       "<p>20000 rows × 77 columns</p>\n",
       "</div>"
      ],
      "text/plain": [
       "                age   Weight_kg   paCO2_t0     paO2_t0      HCO3_t0  \\\n",
       "0      19832.220710   56.520488  43.397174   51.944997  1729.415718   \n",
       "1       8043.275407   72.332296  56.603215  358.203004  1758.328225   \n",
       "2      21401.705509   74.330749  29.377657  356.371425  1204.968735   \n",
       "3      21728.659453   74.346081  44.834890  222.943861  1287.660018   \n",
       "4      29312.142506  100.615246  44.401754   78.079499  1529.264542   \n",
       "...             ...         ...        ...         ...          ...   \n",
       "19995  15745.691007   75.412498  49.444537  111.017589  1433.754304   \n",
       "19996  17876.394755   91.128982  57.086296  210.482771  1545.664802   \n",
       "19997  18819.947145   71.745080  49.625674   79.173880  1497.090421   \n",
       "19998  25456.235242   85.915604  44.640352   79.724946   583.751169   \n",
       "19999  27584.077764   75.451269  45.946705  105.619918  1860.092579   \n",
       "\n",
       "       Arterial_pH_t0  Calcium_t0  Chloride_t0   DiaBP_t0   Glucose_t0  ...  \\\n",
       "0            7.517713   76.585302  3159.346860  63.501776  1063.519404  ...   \n",
       "1            7.205812   75.716207  3820.379982  59.422781  1170.431223  ...   \n",
       "2            7.339074   87.370507  3550.899292  53.177272   929.509003  ...   \n",
       "3            7.422787   93.088717  3739.748982  75.385568  1131.191580  ...   \n",
       "4            7.370290  119.029169  3834.884437  74.499421  2546.535326  ...   \n",
       "...               ...         ...          ...        ...          ...  ...   \n",
       "19995        7.418414   73.216821  3741.376979  69.328599  1289.390112  ...   \n",
       "19996        7.231915   80.925059  3446.091180  48.821702  2505.149711  ...   \n",
       "19997        7.399587   83.158437  3366.959391  30.206155  1320.524165  ...   \n",
       "19998        7.315727   62.173456  3769.253671  70.832871   663.932357  ...   \n",
       "19999        7.327014   95.280577  3374.278843  43.616758   993.432937  ...   \n",
       "\n",
       "       Chloride_t4   DiaBP_t4   Glucose_t4  MeanBP_t4  Potassium_t4  \\\n",
       "0      3574.384835  70.274336  1703.173694  88.688110    146.730397   \n",
       "1      3646.726051  76.490856  1186.379585  83.249907    171.568732   \n",
       "2      3638.535330  60.383731  1230.815734  82.085166    190.689681   \n",
       "3      3668.899524  73.333233   973.295123  80.023667    151.880864   \n",
       "4      3875.555760  64.318818  1428.176334  74.475163    152.029935   \n",
       "...            ...        ...          ...        ...           ...   \n",
       "19995  3832.436173  81.394154  1218.012741  81.222205    167.267651   \n",
       "19996  3507.939395  21.624494  2833.680250  48.928166    182.650152   \n",
       "19997  3279.163436  26.803927  1254.628961  45.924422    186.230893   \n",
       "19998  3379.911117  40.907817  3557.452620  69.090113    134.688522   \n",
       "19999  3456.768404  58.177144   971.949625  61.398481    176.046476   \n",
       "\n",
       "           RR_t4  Temp_C_t4    Sodium_t4    SysBP_t4       HR_t4  \n",
       "0      21.737989  36.006046  3007.807925  132.372648   84.364503  \n",
       "1      22.617699  38.182504  3185.094602  105.229250  127.334150  \n",
       "2      15.034156  37.513179  3083.764158  112.178402  114.488872  \n",
       "3      19.351559  36.676789  3148.049160  109.715447   88.976854  \n",
       "4      29.583925  36.259268  3254.422760  118.295671   97.906582  \n",
       "...          ...        ...          ...         ...         ...  \n",
       "19995  22.757246  37.650366  3341.492425   91.019801   86.895107  \n",
       "19996  23.488133  34.975704  3077.281850   90.219556   80.967224  \n",
       "19997  10.294552  36.961110  2933.946735   98.914179   95.299838  \n",
       "19998  28.417608  36.432790  3191.262094  126.288904   75.629441  \n",
       "19999  29.758798  37.398966  3120.881519  103.436026   95.217619  \n",
       "\n",
       "[20000 rows x 77 columns]"
      ]
     },
     "execution_count": 51,
     "metadata": {},
     "output_type": "execute_result"
    }
   ],
   "source": [
    "sample.shape\n",
    "MIMIC_filtered = MIMIC_combined.drop(columns=['icustay_id', 'gender'])\n",
    "resampled = pd.DataFrame(data=sample.numpy(), columns=MIMIC_combined_raw.columns[2:])*MIMIC_filtered.std() + MIMIC_filtered.mean()\n",
    "resampled"
   ]
  },
  {
   "cell_type": "code",
   "execution_count": 52,
   "metadata": {},
   "outputs": [
    {
     "data": {
      "text/plain": [
       "<matplotlib.legend.Legend at 0x7f55bf31d400>"
      ]
     },
     "execution_count": 52,
     "metadata": {},
     "output_type": "execute_result"
    },
    {
     "data": {
      "image/png": "[encoded data removed]",
      "text/plain": [
       "<Figure size 432x288 with 1 Axes>"
      ]
     },
     "metadata": {
      "needs_background": "light"
     },
     "output_type": "display_data"
    }
   ],
   "source": [
    "col_name = 'age'\n",
    "resampled[col_name].hist(bins=100, density=True, alpha=0.6)\n",
    "MIMIC_combined.loc[MIMIC_combined['gender']==0, col_name].hist(bins=50, density=True, alpha=0.6)\n",
    "plt.title(f'{col_name} density')\n",
    "plt.legend(['generated', 'real'])"
   ]
  },
  {
   "cell_type": "code",
   "execution_count": 53,
   "metadata": {},
   "outputs": [
    {
     "data": {
      "text/plain": [
       "<matplotlib.legend.Legend at 0x7f55befae1c0>"
      ]
     },
     "execution_count": 53,
     "metadata": {},
     "output_type": "execute_result"
    },
    {
     "data": {
      "image/png": "[encoded data removed]",
      "text/plain": [
       "<Figure size 432x288 with 1 Axes>"
      ]
     },
     "metadata": {
      "needs_background": "light"
     },
     "output_type": "display_data"
    }
   ],
   "source": [
    "col_name = 'paO2_t0'\n",
    "resampled[col_name].hist(bins=100, density=True, alpha=0.6)\n",
    "MIMIC_combined.loc[MIMIC_combined['gender']==0, col_name].hist(bins=50, density=True, alpha=0.6)\n",
    "plt.title(f'{col_name} density')\n",
    "plt.legend(['generated', 'real'])"
   ]
  },
  {
   "cell_type": "code",
   "execution_count": 54,
   "metadata": {},
   "outputs": [
    {
     "data": {
      "text/plain": [
       "<matplotlib.legend.Legend at 0x7f55bec4abe0>"
      ]
     },
     "execution_count": 54,
     "metadata": {},
     "output_type": "execute_result"
    },
    {
     "data": {
      "image/png": "[encoded data removed]",
      "text/plain": [
       "<Figure size 432x288 with 1 Axes>"
      ]
     },
     "metadata": {
      "needs_background": "light"
     },
     "output_type": "display_data"
    }
   ],
   "source": [
    "col_name = 'paO2_t1'\n",
    "resampled[col_name].hist(bins=100, density=True, alpha=0.6)\n",
    "MIMIC_combined.loc[MIMIC_combined['gender']==0, col_name].hist(bins=50, density=True, alpha=0.6)\n",
    "plt.title(f'{col_name} density')\n",
    "plt.legend(['generated', 'real'])"
   ]
  },
  {
   "cell_type": "code",
   "execution_count": 55,
   "metadata": {},
   "outputs": [
    {
     "data": {
      "text/plain": [
       "<matplotlib.legend.Legend at 0x7f55bea93550>"
      ]
     },
     "execution_count": 55,
     "metadata": {},
     "output_type": "execute_result"
    },
    {
     "data": {
      "image/png": "[encoded data removed]",
      "text/plain": [
       "<Figure size 432x288 with 1 Axes>"
      ]
     },
     "metadata": {
      "needs_background": "light"
     },
     "output_type": "display_data"
    }
   ],
   "source": [
    "col_name = 'Arterial_pH_t1'\n",
    "resampled[col_name].hist(bins=100, density=True, alpha=0.6)\n",
    "MIMIC_combined.loc[MIMIC_combined['gender']==0, col_name].hist(bins=50, density=True, alpha=0.6)\n",
    "plt.title(f'{col_name} density')\n",
    "plt.legend(['generated', 'real'])"
   ]
  },
  {
   "cell_type": "code",
   "execution_count": 56,
   "metadata": {},
   "outputs": [
    {
     "data": {
      "text/plain": [
       "<matplotlib.legend.Legend at 0x7f55bec4caf0>"
      ]
     },
     "execution_count": 56,
     "metadata": {},
     "output_type": "execute_result"
    },
    {
     "data": {
      "image/png": "[encoded data removed]",
      "text/plain": [
       "<Figure size 432x288 with 1 Axes>"
      ]
     },
     "metadata": {
      "needs_background": "light"
     },
     "output_type": "display_data"
    }
   ],
   "source": [
    "col_name = 'Glucose_t0'\n",
    "resampled[col_name].hist(bins=100, density=True, alpha=0.6)\n",
    "MIMIC_combined.loc[MIMIC_combined['gender']==0, col_name].hist(bins=50, density=True, alpha=0.6)\n",
    "plt.title(f'{col_name} density')\n",
    "plt.legend(['generated', 'real'])"
   ]
  },
  {
   "cell_type": "code",
   "execution_count": 57,
   "metadata": {},
   "outputs": [
    {
     "data": {
      "text/plain": [
       "<matplotlib.legend.Legend at 0x7f55be6eb160>"
      ]
     },
     "execution_count": 57,
     "metadata": {},
     "output_type": "execute_result"
    },
    {
     "data": {
      "image/png": "[encoded data removed]",
      "text/plain": [
       "<Figure size 432x288 with 1 Axes>"
      ]
     },
     "metadata": {
      "needs_background": "light"
     },
     "output_type": "display_data"
    }
   ],
   "source": [
    "col_name = 'RR_t2'\n",
    "resampled[col_name].hist(bins=100, density=True, alpha=0.6)\n",
    "MIMIC_combined.loc[MIMIC_combined['gender']==0, col_name].hist(bins=50, density=True, alpha=0.6)\n",
    "plt.title(f'{col_name} density')\n",
    "plt.legend(['generated', 'real'])"
   ]
  },
  {
   "cell_type": "code",
   "execution_count": 58,
   "metadata": {},
   "outputs": [
    {
     "data": {
      "text/plain": [
       "<matplotlib.legend.Legend at 0x7f55be4ced90>"
      ]
     },
     "execution_count": 58,
     "metadata": {},
     "output_type": "execute_result"
    },
    {
     "data": {
      "image/png": "[encoded data removed]",
      "text/plain": [
       "<Figure size 432x288 with 1 Axes>"
      ]
     },
     "metadata": {
      "needs_background": "light"
     },
     "output_type": "display_data"
    }
   ],
   "source": [
    "col_name = 'Temp_C_t2'\n",
    "resampled[col_name].hist(bins=100, density=True, alpha=0.6)\n",
    "MIMIC_combined.loc[MIMIC_combined['gender']==0, col_name].hist(bins=50, density=True, alpha=0.6)\n",
    "plt.title(f'{col_name} density')\n",
    "plt.legend(['generated', 'real'])"
   ]
  },
  {
   "cell_type": "code",
   "execution_count": 59,
   "metadata": {},
   "outputs": [
    {
     "data": {
      "text/plain": [
       "<matplotlib.legend.Legend at 0x7f55beb3f400>"
      ]
     },
     "execution_count": 59,
     "metadata": {},
     "output_type": "execute_result"
    },
    {
     "data": {
      "image/png": "[encoded data removed]",
      "text/plain": [
       "<Figure size 432x288 with 1 Axes>"
      ]
     },
     "metadata": {
      "needs_background": "light"
     },
     "output_type": "display_data"
    }
   ],
   "source": [
    "col_name = 'SysBP_t2'\n",
    "resampled[col_name].hist(bins=100, density=True, alpha=0.6)\n",
    "MIMIC_combined.loc[MIMIC_combined['gender']==0, col_name].hist(bins=50, density=True, alpha=0.6)\n",
    "plt.title(f'{col_name} density')\n",
    "plt.legend(['generated', 'real'])"
   ]
  },
  {
   "cell_type": "code",
   "execution_count": 60,
   "metadata": {},
   "outputs": [
    {
     "data": {
      "image/png": "[encoded data removed]",
      "text/plain": [
       "<Figure size 288x288 with 1 Axes>"
      ]
     },
     "metadata": {
      "needs_background": "light"
     },
     "output_type": "display_data"
    },
    {
     "data": {
      "image/png": "[encoded data removed]",
      "text/plain": [
       "<Figure size 288x288 with 1 Axes>"
      ]
     },
     "metadata": {
      "needs_background": "light"
     },
     "output_type": "display_data"
    }
   ],
   "source": [
    "import matplotlib.pyplot as plt\n",
    "\n",
    "plt.matshow(MIMIC_combined_raw[MIMIC_combined['gender']==0].drop(columns=['icustay_id', 'gender']).corr())\n",
    "plt.title('MIMIC covariance matrix\\n')\n",
    "plt.matshow(resampled.corr())\n",
    "plt.title('Generated data covariance matrix\\n')\n",
    "plt.show()"
   ]
  },
  {
   "cell_type": "code",
   "execution_count": 13,
   "metadata": {},
   "outputs": [],
   "source": [
    "pulse_data_t0 = pulse_data[pulse_data['index']==1].reset_index(drop=True)\n",
    "pulse_data_t1 = pulse_data[pulse_data['index']==2].reset_index(drop=True)\n",
    "pulse_data_t2 = pulse_data[pulse_data['index']==3].reset_index(drop=True)\n",
    "\n",
    "pulse_data_t0 = MIMICtable[MIMICtable['bloc']==2][['gender', 'age', 'Weight_kg', 'icustay_id', 'A']].merge(pulse_data_t0, on=['icustay_id'])\n",
    "pulse_data_t1 = MIMICtable[MIMICtable['bloc']==3][['gender', 'age', 'Weight_kg', 'icustay_id', 'A']].merge(pulse_data_t1, on=['icustay_id'])\n",
    "pulse_data_t2 = MIMICtable[MIMICtable['bloc']==4][['gender', 'age', 'Weight_kg', 'icustay_id', 'A']].merge(pulse_data_t2, on=['icustay_id'])\n"
   ]
  },
  {
   "cell_type": "code",
   "execution_count": 14,
   "metadata": {},
   "outputs": [
    {
     "data": {
      "text/html": [
       "<div>\n",
       "<style scoped>\n",
       "    .dataframe tbody tr th:only-of-type {\n",
       "        vertical-align: middle;\n",
       "    }\n",
       "\n",
       "    .dataframe tbody tr th {\n",
       "        vertical-align: top;\n",
       "    }\n",
       "\n",
       "    .dataframe thead th {\n",
       "        text-align: right;\n",
       "    }\n",
       "</style>\n",
       "<table border=\"1\" class=\"dataframe\">\n",
       "  <thead>\n",
       "    <tr style=\"text-align: right;\">\n",
       "      <th></th>\n",
       "      <th>index</th>\n",
       "      <th>Albumin</th>\n",
       "      <th>paCO2</th>\n",
       "      <th>paO2</th>\n",
       "      <th>ArterialPressure (mmHg)</th>\n",
       "      <th>HCO3</th>\n",
       "      <th>Arterial_pH</th>\n",
       "      <th>BUN</th>\n",
       "      <th>BloodVolume (mL)</th>\n",
       "      <th>Calcium</th>\n",
       "      <th>...</th>\n",
       "      <th>RR</th>\n",
       "      <th>PaO2_FiO2</th>\n",
       "      <th>SimulationTime(s)</th>\n",
       "      <th>Temp_C</th>\n",
       "      <th>Sodium</th>\n",
       "      <th>SysBP</th>\n",
       "      <th>WBC_count</th>\n",
       "      <th>id</th>\n",
       "      <th>time</th>\n",
       "      <th>icustay_id</th>\n",
       "    </tr>\n",
       "  </thead>\n",
       "  <tbody>\n",
       "    <tr>\n",
       "      <th>0</th>\n",
       "      <td>0</td>\n",
       "      <td>36942.076357</td>\n",
       "      <td>40.766614</td>\n",
       "      <td>89.927432</td>\n",
       "      <td>116.205401</td>\n",
       "      <td>1589.280619</td>\n",
       "      <td>7.406174</td>\n",
       "      <td>12.954165</td>\n",
       "      <td>6432.049911</td>\n",
       "      <td>48.181075</td>\n",
       "      <td>...</td>\n",
       "      <td>18.633540</td>\n",
       "      <td>4.638695</td>\n",
       "      <td>0.0</td>\n",
       "      <td>33.203250</td>\n",
       "      <td>3328.440581</td>\n",
       "      <td>119.230483</td>\n",
       "      <td>7000.0</td>\n",
       "      <td>86855.0</td>\n",
       "      <td>6.607069e+09</td>\n",
       "      <td>86855</td>\n",
       "    </tr>\n",
       "    <tr>\n",
       "      <th>1</th>\n",
       "      <td>1</td>\n",
       "      <td>36524.917484</td>\n",
       "      <td>40.872763</td>\n",
       "      <td>90.052348</td>\n",
       "      <td>92.470480</td>\n",
       "      <td>1589.598103</td>\n",
       "      <td>7.405145</td>\n",
       "      <td>13.608056</td>\n",
       "      <td>6492.148657</td>\n",
       "      <td>53.043316</td>\n",
       "      <td>...</td>\n",
       "      <td>18.750000</td>\n",
       "      <td>4.633428</td>\n",
       "      <td>3600.0</td>\n",
       "      <td>33.879672</td>\n",
       "      <td>3319.123490</td>\n",
       "      <td>122.674910</td>\n",
       "      <td>7000.0</td>\n",
       "      <td>86855.0</td>\n",
       "      <td>6.607073e+09</td>\n",
       "      <td>86855</td>\n",
       "    </tr>\n",
       "    <tr>\n",
       "      <th>2</th>\n",
       "      <td>2</td>\n",
       "      <td>36069.948819</td>\n",
       "      <td>40.889780</td>\n",
       "      <td>90.176441</td>\n",
       "      <td>105.766357</td>\n",
       "      <td>1589.422211</td>\n",
       "      <td>7.404981</td>\n",
       "      <td>14.168092</td>\n",
       "      <td>6560.608547</td>\n",
       "      <td>57.671101</td>\n",
       "      <td>...</td>\n",
       "      <td>18.750000</td>\n",
       "      <td>4.633453</td>\n",
       "      <td>7200.0</td>\n",
       "      <td>32.973720</td>\n",
       "      <td>3311.273411</td>\n",
       "      <td>123.910096</td>\n",
       "      <td>7000.0</td>\n",
       "      <td>86855.0</td>\n",
       "      <td>6.607076e+09</td>\n",
       "      <td>86855</td>\n",
       "    </tr>\n",
       "    <tr>\n",
       "      <th>3</th>\n",
       "      <td>3</td>\n",
       "      <td>35344.795982</td>\n",
       "      <td>40.949980</td>\n",
       "      <td>90.585038</td>\n",
       "      <td>99.518088</td>\n",
       "      <td>1589.162254</td>\n",
       "      <td>7.404399</td>\n",
       "      <td>14.827684</td>\n",
       "      <td>6681.667603</td>\n",
       "      <td>61.641868</td>\n",
       "      <td>...</td>\n",
       "      <td>18.867925</td>\n",
       "      <td>4.635279</td>\n",
       "      <td>10800.0</td>\n",
       "      <td>33.382638</td>\n",
       "      <td>3311.388720</td>\n",
       "      <td>121.909499</td>\n",
       "      <td>7000.0</td>\n",
       "      <td>86855.0</td>\n",
       "      <td>6.607080e+09</td>\n",
       "      <td>86855</td>\n",
       "    </tr>\n",
       "    <tr>\n",
       "      <th>4</th>\n",
       "      <td>4</td>\n",
       "      <td>34739.622499</td>\n",
       "      <td>40.941064</td>\n",
       "      <td>90.624763</td>\n",
       "      <td>120.664434</td>\n",
       "      <td>1589.148171</td>\n",
       "      <td>7.404485</td>\n",
       "      <td>14.816667</td>\n",
       "      <td>6784.488523</td>\n",
       "      <td>65.534987</td>\n",
       "      <td>...</td>\n",
       "      <td>18.867925</td>\n",
       "      <td>4.635250</td>\n",
       "      <td>14400.0</td>\n",
       "      <td>33.415902</td>\n",
       "      <td>3280.588569</td>\n",
       "      <td>122.044169</td>\n",
       "      <td>7000.0</td>\n",
       "      <td>86855.0</td>\n",
       "      <td>6.607084e+09</td>\n",
       "      <td>86855</td>\n",
       "    </tr>\n",
       "  </tbody>\n",
       "</table>\n",
       "<p>5 rows × 33 columns</p>\n",
       "</div>"
      ],
      "text/plain": [
       "   index       Albumin      paCO2       paO2  ArterialPressure (mmHg)  \\\n",
       "0      0  36942.076357  40.766614  89.927432               116.205401   \n",
       "1      1  36524.917484  40.872763  90.052348                92.470480   \n",
       "2      2  36069.948819  40.889780  90.176441               105.766357   \n",
       "3      3  35344.795982  40.949980  90.585038                99.518088   \n",
       "4      4  34739.622499  40.941064  90.624763               120.664434   \n",
       "\n",
       "          HCO3  Arterial_pH        BUN  BloodVolume (mL)    Calcium  ...  \\\n",
       "0  1589.280619     7.406174  12.954165       6432.049911  48.181075  ...   \n",
       "1  1589.598103     7.405145  13.608056       6492.148657  53.043316  ...   \n",
       "2  1589.422211     7.404981  14.168092       6560.608547  57.671101  ...   \n",
       "3  1589.162254     7.404399  14.827684       6681.667603  61.641868  ...   \n",
       "4  1589.148171     7.404485  14.816667       6784.488523  65.534987  ...   \n",
       "\n",
       "          RR  PaO2_FiO2  SimulationTime(s)     Temp_C       Sodium  \\\n",
       "0  18.633540   4.638695                0.0  33.203250  3328.440581   \n",
       "1  18.750000   4.633428             3600.0  33.879672  3319.123490   \n",
       "2  18.750000   4.633453             7200.0  32.973720  3311.273411   \n",
       "3  18.867925   4.635279            10800.0  33.382638  3311.388720   \n",
       "4  18.867925   4.635250            14400.0  33.415902  3280.588569   \n",
       "\n",
       "        SysBP  WBC_count       id          time  icustay_id  \n",
       "0  119.230483     7000.0  86855.0  6.607069e+09       86855  \n",
       "1  122.674910     7000.0  86855.0  6.607073e+09       86855  \n",
       "2  123.910096     7000.0  86855.0  6.607076e+09       86855  \n",
       "3  121.909499     7000.0  86855.0  6.607080e+09       86855  \n",
       "4  122.044169     7000.0  86855.0  6.607084e+09       86855  \n",
       "\n",
       "[5 rows x 33 columns]"
      ]
     },
     "execution_count": 14,
     "metadata": {},
     "output_type": "execute_result"
    }
   ],
   "source": [
    "pulse_data.head()"
   ]
  },
  {
   "cell_type": "code",
   "execution_count": 15,
   "metadata": {},
   "outputs": [
    {
     "data": {
      "text/html": [
       "<div>\n",
       "<style scoped>\n",
       "    .dataframe tbody tr th:only-of-type {\n",
       "        vertical-align: middle;\n",
       "    }\n",
       "\n",
       "    .dataframe tbody tr th {\n",
       "        vertical-align: top;\n",
       "    }\n",
       "\n",
       "    .dataframe thead th {\n",
       "        text-align: right;\n",
       "    }\n",
       "</style>\n",
       "<table border=\"1\" class=\"dataframe\">\n",
       "  <thead>\n",
       "    <tr style=\"text-align: right;\">\n",
       "      <th></th>\n",
       "      <th>bloc</th>\n",
       "      <th>icustay_id</th>\n",
       "      <th>charttime</th>\n",
       "      <th>gender</th>\n",
       "      <th>age</th>\n",
       "      <th>elixhauser</th>\n",
       "      <th>re_admission</th>\n",
       "      <th>died_in_hosp</th>\n",
       "      <th>died_within_48h_of_out_time</th>\n",
       "      <th>mortality_90d</th>\n",
       "      <th>...</th>\n",
       "      <th>Shock_Index</th>\n",
       "      <th>PaO2_FiO2</th>\n",
       "      <th>median_dose_vaso</th>\n",
       "      <th>max_dose_vaso</th>\n",
       "      <th>input_total</th>\n",
       "      <th>input_1hourly</th>\n",
       "      <th>output_total</th>\n",
       "      <th>output_1hourly</th>\n",
       "      <th>cumulated_balance</th>\n",
       "      <th>A</th>\n",
       "    </tr>\n",
       "  </thead>\n",
       "  <tbody>\n",
       "    <tr>\n",
       "      <th>0</th>\n",
       "      <td>1</td>\n",
       "      <td>65537</td>\n",
       "      <td>7.139723e+09</td>\n",
       "      <td>0.0</td>\n",
       "      <td>22799.40478</td>\n",
       "      <td>4.0</td>\n",
       "      <td>1.0</td>\n",
       "      <td>0.0</td>\n",
       "      <td>0.0</td>\n",
       "      <td>0.0</td>\n",
       "      <td>...</td>\n",
       "      <td>0.687500</td>\n",
       "      <td>363.888889</td>\n",
       "      <td>0.18</td>\n",
       "      <td>0.18</td>\n",
       "      <td>4020.493550</td>\n",
       "      <td>29.994183</td>\n",
       "      <td>7235.0</td>\n",
       "      <td>3605.0</td>\n",
       "      <td>-3184.512267</td>\n",
       "      <td>1</td>\n",
       "    </tr>\n",
       "    <tr>\n",
       "      <th>1</th>\n",
       "      <td>2</td>\n",
       "      <td>65537</td>\n",
       "      <td>7.139727e+09</td>\n",
       "      <td>0.0</td>\n",
       "      <td>22799.40478</td>\n",
       "      <td>4.0</td>\n",
       "      <td>1.0</td>\n",
       "      <td>0.0</td>\n",
       "      <td>0.0</td>\n",
       "      <td>0.0</td>\n",
       "      <td>...</td>\n",
       "      <td>0.602564</td>\n",
       "      <td>430.555556</td>\n",
       "      <td>0.00</td>\n",
       "      <td>0.00</td>\n",
       "      <td>4050.487733</td>\n",
       "      <td>515.407667</td>\n",
       "      <td>10760.0</td>\n",
       "      <td>3525.0</td>\n",
       "      <td>-6194.104600</td>\n",
       "      <td>2</td>\n",
       "    </tr>\n",
       "    <tr>\n",
       "      <th>2</th>\n",
       "      <td>3</td>\n",
       "      <td>65537</td>\n",
       "      <td>7.139731e+09</td>\n",
       "      <td>0.0</td>\n",
       "      <td>22799.40478</td>\n",
       "      <td>4.0</td>\n",
       "      <td>1.0</td>\n",
       "      <td>0.0</td>\n",
       "      <td>0.0</td>\n",
       "      <td>0.0</td>\n",
       "      <td>...</td>\n",
       "      <td>0.751456</td>\n",
       "      <td>402.222222</td>\n",
       "      <td>0.00</td>\n",
       "      <td>0.00</td>\n",
       "      <td>4565.895400</td>\n",
       "      <td>547.876700</td>\n",
       "      <td>14235.0</td>\n",
       "      <td>3475.0</td>\n",
       "      <td>-9121.227900</td>\n",
       "      <td>2</td>\n",
       "    </tr>\n",
       "    <tr>\n",
       "      <th>3</th>\n",
       "      <td>4</td>\n",
       "      <td>65537</td>\n",
       "      <td>7.139734e+09</td>\n",
       "      <td>0.0</td>\n",
       "      <td>22799.40478</td>\n",
       "      <td>4.0</td>\n",
       "      <td>1.0</td>\n",
       "      <td>0.0</td>\n",
       "      <td>0.0</td>\n",
       "      <td>0.0</td>\n",
       "      <td>...</td>\n",
       "      <td>0.804762</td>\n",
       "      <td>275.000000</td>\n",
       "      <td>0.00</td>\n",
       "      <td>0.00</td>\n",
       "      <td>5113.772100</td>\n",
       "      <td>2097.144000</td>\n",
       "      <td>17630.0</td>\n",
       "      <td>3395.0</td>\n",
       "      <td>-10419.083900</td>\n",
       "      <td>2</td>\n",
       "    </tr>\n",
       "    <tr>\n",
       "      <th>4</th>\n",
       "      <td>5</td>\n",
       "      <td>65537</td>\n",
       "      <td>7.139738e+09</td>\n",
       "      <td>0.0</td>\n",
       "      <td>22799.40478</td>\n",
       "      <td>4.0</td>\n",
       "      <td>1.0</td>\n",
       "      <td>0.0</td>\n",
       "      <td>0.0</td>\n",
       "      <td>0.0</td>\n",
       "      <td>...</td>\n",
       "      <td>0.804245</td>\n",
       "      <td>283.000000</td>\n",
       "      <td>0.00</td>\n",
       "      <td>0.00</td>\n",
       "      <td>7210.916100</td>\n",
       "      <td>519.833583</td>\n",
       "      <td>20785.0</td>\n",
       "      <td>3155.0</td>\n",
       "      <td>-13054.250317</td>\n",
       "      <td>2</td>\n",
       "    </tr>\n",
       "  </tbody>\n",
       "</table>\n",
       "<p>5 rows × 60 columns</p>\n",
       "</div>"
      ],
      "text/plain": [
       "   bloc  icustay_id     charttime  gender          age  elixhauser  \\\n",
       "0     1       65537  7.139723e+09     0.0  22799.40478         4.0   \n",
       "1     2       65537  7.139727e+09     0.0  22799.40478         4.0   \n",
       "2     3       65537  7.139731e+09     0.0  22799.40478         4.0   \n",
       "3     4       65537  7.139734e+09     0.0  22799.40478         4.0   \n",
       "4     5       65537  7.139738e+09     0.0  22799.40478         4.0   \n",
       "\n",
       "   re_admission  died_in_hosp  died_within_48h_of_out_time  mortality_90d  \\\n",
       "0           1.0           0.0                          0.0            0.0   \n",
       "1           1.0           0.0                          0.0            0.0   \n",
       "2           1.0           0.0                          0.0            0.0   \n",
       "3           1.0           0.0                          0.0            0.0   \n",
       "4           1.0           0.0                          0.0            0.0   \n",
       "\n",
       "   ...  Shock_Index   PaO2_FiO2  median_dose_vaso  max_dose_vaso  input_total  \\\n",
       "0  ...     0.687500  363.888889              0.18           0.18  4020.493550   \n",
       "1  ...     0.602564  430.555556              0.00           0.00  4050.487733   \n",
       "2  ...     0.751456  402.222222              0.00           0.00  4565.895400   \n",
       "3  ...     0.804762  275.000000              0.00           0.00  5113.772100   \n",
       "4  ...     0.804245  283.000000              0.00           0.00  7210.916100   \n",
       "\n",
       "   input_1hourly  output_total  output_1hourly  cumulated_balance  A  \n",
       "0      29.994183        7235.0          3605.0       -3184.512267  1  \n",
       "1     515.407667       10760.0          3525.0       -6194.104600  2  \n",
       "2     547.876700       14235.0          3475.0       -9121.227900  2  \n",
       "3    2097.144000       17630.0          3395.0      -10419.083900  2  \n",
       "4     519.833583       20785.0          3155.0      -13054.250317  2  \n",
       "\n",
       "[5 rows x 60 columns]"
      ]
     },
     "execution_count": 15,
     "metadata": {},
     "output_type": "execute_result"
    }
   ],
   "source": [
    "MIMICtable.head()"
   ]
  },
  {
   "cell_type": "markdown",
   "metadata": {},
   "source": [
    "# Supervised Learning of Actions - Logistic Regression\n"
   ]
  },
  {
   "cell_type": "code",
   "execution_count": 16,
   "metadata": {},
   "outputs": [
    {
     "data": {
      "text/html": [
       "<div>\n",
       "<style scoped>\n",
       "    .dataframe tbody tr th:only-of-type {\n",
       "        vertical-align: middle;\n",
       "    }\n",
       "\n",
       "    .dataframe tbody tr th {\n",
       "        vertical-align: top;\n",
       "    }\n",
       "\n",
       "    .dataframe thead th {\n",
       "        text-align: right;\n",
       "    }\n",
       "</style>\n",
       "<table border=\"1\" class=\"dataframe\">\n",
       "  <thead>\n",
       "    <tr style=\"text-align: right;\">\n",
       "      <th></th>\n",
       "      <th>level_0</th>\n",
       "      <th>index</th>\n",
       "      <th>bloc</th>\n",
       "      <th>icustay_id</th>\n",
       "      <th>charttime</th>\n",
       "      <th>gender</th>\n",
       "      <th>age</th>\n",
       "      <th>elixhauser</th>\n",
       "      <th>re_admission</th>\n",
       "      <th>died_in_hosp</th>\n",
       "      <th>...</th>\n",
       "      <th>Shock_Index</th>\n",
       "      <th>PaO2_FiO2</th>\n",
       "      <th>median_dose_vaso</th>\n",
       "      <th>max_dose_vaso</th>\n",
       "      <th>input_total</th>\n",
       "      <th>input_1hourly</th>\n",
       "      <th>output_total</th>\n",
       "      <th>output_1hourly</th>\n",
       "      <th>cumulated_balance</th>\n",
       "      <th>A</th>\n",
       "    </tr>\n",
       "  </thead>\n",
       "  <tbody>\n",
       "    <tr>\n",
       "      <th>0</th>\n",
       "      <td>0</td>\n",
       "      <td>0</td>\n",
       "      <td>1</td>\n",
       "      <td>65537</td>\n",
       "      <td>7.139723e+09</td>\n",
       "      <td>0.0</td>\n",
       "      <td>22799.404780</td>\n",
       "      <td>4.0</td>\n",
       "      <td>1.0</td>\n",
       "      <td>0.0</td>\n",
       "      <td>...</td>\n",
       "      <td>0.687500</td>\n",
       "      <td>363.888889</td>\n",
       "      <td>0.18</td>\n",
       "      <td>0.18</td>\n",
       "      <td>4020.49355</td>\n",
       "      <td>29.994183</td>\n",
       "      <td>7235.0</td>\n",
       "      <td>3605.0</td>\n",
       "      <td>-3184.512267</td>\n",
       "      <td>1</td>\n",
       "    </tr>\n",
       "    <tr>\n",
       "      <th>1</th>\n",
       "      <td>2</td>\n",
       "      <td>10</td>\n",
       "      <td>1</td>\n",
       "      <td>65544</td>\n",
       "      <td>7.056917e+09</td>\n",
       "      <td>0.0</td>\n",
       "      <td>24000.436400</td>\n",
       "      <td>3.0</td>\n",
       "      <td>0.0</td>\n",
       "      <td>0.0</td>\n",
       "      <td>...</td>\n",
       "      <td>0.770925</td>\n",
       "      <td>938.636364</td>\n",
       "      <td>0.00</td>\n",
       "      <td>0.00</td>\n",
       "      <td>11332.00000</td>\n",
       "      <td>0.000000</td>\n",
       "      <td>8210.0</td>\n",
       "      <td>4105.0</td>\n",
       "      <td>3122.000000</td>\n",
       "      <td>3</td>\n",
       "    </tr>\n",
       "    <tr>\n",
       "      <th>2</th>\n",
       "      <td>3</td>\n",
       "      <td>15</td>\n",
       "      <td>1</td>\n",
       "      <td>98314</td>\n",
       "      <td>4.762714e+09</td>\n",
       "      <td>0.0</td>\n",
       "      <td>23940.093773</td>\n",
       "      <td>4.0</td>\n",
       "      <td>0.0</td>\n",
       "      <td>1.0</td>\n",
       "      <td>...</td>\n",
       "      <td>0.906504</td>\n",
       "      <td>287.500000</td>\n",
       "      <td>0.00</td>\n",
       "      <td>0.00</td>\n",
       "      <td>0.00000</td>\n",
       "      <td>0.000000</td>\n",
       "      <td>14490.0</td>\n",
       "      <td>7245.0</td>\n",
       "      <td>-14490.000000</td>\n",
       "      <td>3</td>\n",
       "    </tr>\n",
       "    <tr>\n",
       "      <th>3</th>\n",
       "      <td>4</td>\n",
       "      <td>20</td>\n",
       "      <td>1</td>\n",
       "      <td>14</td>\n",
       "      <td>4.264269e+09</td>\n",
       "      <td>0.0</td>\n",
       "      <td>30946.970000</td>\n",
       "      <td>2.0</td>\n",
       "      <td>0.0</td>\n",
       "      <td>0.0</td>\n",
       "      <td>...</td>\n",
       "      <td>0.647399</td>\n",
       "      <td>577.499991</td>\n",
       "      <td>0.00</td>\n",
       "      <td>0.00</td>\n",
       "      <td>0.00000</td>\n",
       "      <td>80.000000</td>\n",
       "      <td>1263.0</td>\n",
       "      <td>599.0</td>\n",
       "      <td>-1183.000000</td>\n",
       "      <td>7</td>\n",
       "    </tr>\n",
       "    <tr>\n",
       "      <th>4</th>\n",
       "      <td>5</td>\n",
       "      <td>25</td>\n",
       "      <td>1</td>\n",
       "      <td>65553</td>\n",
       "      <td>7.142713e+09</td>\n",
       "      <td>0.0</td>\n",
       "      <td>19339.946505</td>\n",
       "      <td>2.0</td>\n",
       "      <td>1.0</td>\n",
       "      <td>0.0</td>\n",
       "      <td>...</td>\n",
       "      <td>0.783654</td>\n",
       "      <td>153.571429</td>\n",
       "      <td>0.00</td>\n",
       "      <td>0.00</td>\n",
       "      <td>1350.00000</td>\n",
       "      <td>400.000000</td>\n",
       "      <td>1625.0</td>\n",
       "      <td>780.0</td>\n",
       "      <td>125.000000</td>\n",
       "      <td>2</td>\n",
       "    </tr>\n",
       "  </tbody>\n",
       "</table>\n",
       "<p>5 rows × 62 columns</p>\n",
       "</div>"
      ],
      "text/plain": [
       "   level_0  index  bloc  icustay_id     charttime  gender           age  \\\n",
       "0        0      0     1       65537  7.139723e+09     0.0  22799.404780   \n",
       "1        2     10     1       65544  7.056917e+09     0.0  24000.436400   \n",
       "2        3     15     1       98314  4.762714e+09     0.0  23940.093773   \n",
       "3        4     20     1          14  4.264269e+09     0.0  30946.970000   \n",
       "4        5     25     1       65553  7.142713e+09     0.0  19339.946505   \n",
       "\n",
       "   elixhauser  re_admission  died_in_hosp  ...  Shock_Index   PaO2_FiO2  \\\n",
       "0         4.0           1.0           0.0  ...     0.687500  363.888889   \n",
       "1         3.0           0.0           0.0  ...     0.770925  938.636364   \n",
       "2         4.0           0.0           1.0  ...     0.906504  287.500000   \n",
       "3         2.0           0.0           0.0  ...     0.647399  577.499991   \n",
       "4         2.0           1.0           0.0  ...     0.783654  153.571429   \n",
       "\n",
       "   median_dose_vaso  max_dose_vaso  input_total  input_1hourly  output_total  \\\n",
       "0              0.18           0.18   4020.49355      29.994183        7235.0   \n",
       "1              0.00           0.00  11332.00000       0.000000        8210.0   \n",
       "2              0.00           0.00      0.00000       0.000000       14490.0   \n",
       "3              0.00           0.00      0.00000      80.000000        1263.0   \n",
       "4              0.00           0.00   1350.00000     400.000000        1625.0   \n",
       "\n",
       "   output_1hourly  cumulated_balance  A  \n",
       "0          3605.0       -3184.512267  1  \n",
       "1          4105.0        3122.000000  3  \n",
       "2          7245.0      -14490.000000  3  \n",
       "3           599.0       -1183.000000  7  \n",
       "4           780.0         125.000000  2  \n",
       "\n",
       "[5 rows x 62 columns]"
      ]
     },
     "execution_count": 16,
     "metadata": {},
     "output_type": "execute_result"
    }
   ],
   "source": [
    "MIMICtable_filtered_t0.head()"
   ]
  },
  {
   "cell_type": "code",
   "execution_count": 17,
   "metadata": {},
   "outputs": [],
   "source": [
    "# #################   Convert training data and compute conversion factors    ######################\n",
    "# logging.info('Processing raw data')\n",
    "# # all 47 columns of interest\n",
    "# colbin = ['gender']\n",
    "# colnorm=['age','Weight_kg','GCS','HR','SysBP','MeanBP','DiaBP','RR','Temp_C','FiO2_1',\\\n",
    "#     'Potassium','Sodium','Chloride','Glucose','Magnesium','Calcium',\\\n",
    "#     'Hb','WBC_count','Platelets_count','PTT','PT','Arterial_pH','paO2','paCO2',\\\n",
    "#     'Arterial_BE','HCO3','Arterial_lactate','SOFA','SIRS','Shock_Index','PaO2_FiO2','cumulated_balance']\n",
    "# # collog=['SpO2','BUN','Creatinine','SGOT','SGPT','Total_bili','INR','output_total','output_1hourly']\n",
    "\n",
    "\n",
    "# MIMICraw = MIMIC_data_combined[['gender', 'age', f'{col_name}_t0']].copy()\n",
    "\n",
    "# for col in MIMICraw:\n",
    "#     if col in colbin:\n",
    "#         MIMICraw[col] = MIMICraw[col] - 0.5\n",
    "# #     elif col in colnorm:\n",
    "#     else:\n",
    "#         cmu = MIMICraw[col].mean()\n",
    "#         csigma = MIMICraw[col].std()\n",
    "#         MIMICraw[col] = (MIMICraw[col] - cmu)/csigma\n",
    "# #     else:\n",
    "# #         log_values = np.log(0.1 + MIMICraw[col])\n",
    "# #         dmu = log_values.mean()\n",
    "# #         dsigma = log_values.std()\n",
    "# #         MIMICraw[col] = (log_values - dmu)/dsigma    \n",
    "# logging.info('Raw data processed')\n"
   ]
  },
  {
   "cell_type": "code",
   "execution_count": 18,
   "metadata": {},
   "outputs": [],
   "source": [
    "#################   Convert training data and compute conversion factors    ######################\n",
    "logging.info('Processing raw data')\n",
    "# all 47 columns of interest\n",
    "colbin = ['gender']\n",
    "colnorm=['age','Weight_kg','GCS','HR','SysBP','MeanBP','DiaBP','RR','Temp_C','FiO2_1',\\\n",
    "    'Potassium','Sodium','Chloride','Glucose','Magnesium','Calcium',\\\n",
    "    'Hb','WBC_count','Platelets_count','PTT','PT','Arterial_pH','paO2','paCO2',\\\n",
    "    'Arterial_BE','HCO3','Arterial_lactate','SOFA','SIRS','Shock_Index','PaO2_FiO2','cumulated_balance']\n",
    "collog=['SpO2','BUN','Creatinine','SGOT','SGPT','Total_bili','INR','output_total','output_1hourly']\n",
    "\n",
    "\n",
    "MIMICraw_t0 = MIMICtable_filtered_t0[x_columns].copy()\n",
    "\n",
    "for col in MIMICraw_t0:\n",
    "    if col in colbin:\n",
    "        MIMICraw_t0[col] = MIMICraw_t0[col] - 0.5\n",
    "    elif col in colnorm:\n",
    "        cmu = MIMICraw_t0[col].mean()\n",
    "        csigma = MIMICraw_t0[col].std()\n",
    "        MIMICraw_t0[col] = (MIMICraw_t0[col] - cmu)/csigma\n",
    "    else:\n",
    "        log_values = np.log(0.1 + MIMICraw_t0[col])\n",
    "        dmu = log_values.mean()\n",
    "        dsigma = log_values.std()\n",
    "        MIMICraw_t0[col] = (log_values - dmu)/dsigma    \n",
    "logging.info('Raw data processed')\n"
   ]
  },
  {
   "cell_type": "code",
   "execution_count": 19,
   "metadata": {},
   "outputs": [],
   "source": [
    "MIMICraw_t1 = MIMICtable_filtered_t1[x_columns].copy()\n",
    "\n",
    "for col in MIMICraw_t1:\n",
    "    if col in colbin:\n",
    "        MIMICraw_t1[col] = MIMICraw_t1[col] - 0.5\n",
    "    elif col in colnorm:\n",
    "        cmu = MIMICraw_t1[col].mean()\n",
    "        csigma = MIMICraw_t1[col].std()\n",
    "        MIMICraw_t1[col] = (MIMICraw_t1[col] - cmu)/csigma\n",
    "    else:\n",
    "        log_values = np.log(0.1 + MIMICraw_t1[col])\n",
    "        dmu = log_values.mean()\n",
    "        dsigma = log_values.std()\n",
    "        MIMICraw_t1[col] = (log_values - dmu)/dsigma    \n",
    "logging.info('Raw data processed')\n"
   ]
  },
  {
   "cell_type": "code",
   "execution_count": 20,
   "metadata": {},
   "outputs": [],
   "source": [
    "#################   Convert training data and compute conversion factors    ######################\n",
    "logging.info('Processing raw data')\n",
    "# all 47 columns of interest\n",
    "colbin = ['gender']\n",
    "colnorm=['age','Weight_kg','GCS','HR','SysBP','MeanBP','DiaBP','RR','Temp_C','FiO2_1',\\\n",
    "    'Potassium','Sodium','Chloride','Glucose','Magnesium','Calcium',\\\n",
    "    'Hb','WBC_count','Platelets_count','PTT','PT','Arterial_pH','paO2','paCO2',\\\n",
    "    'Arterial_BE','HCO3','Arterial_lactate','SOFA','SIRS','Shock_Index','PaO2_FiO2','cumulated_balance']\n",
    "collog=['SpO2','BUN','Creatinine','SGOT','SGPT','Total_bili','INR','output_total','output_1hourly']\n",
    "\n",
    "pulseraw_t0 = pulse_data_t0[x_columns].copy()\n",
    "\n",
    "for col in pulseraw_t0:\n",
    "    if col in colbin:\n",
    "        pulseraw_t0[col] = pulseraw_t0[col] - 0.5\n",
    "    elif col in colnorm:\n",
    "        cmu = pulseraw_t0[col].mean()\n",
    "        csigma = pulseraw_t0[col].std()\n",
    "        pulseraw_t0[col] = (pulseraw_t0[col] - cmu)/csigma\n",
    "logging.info('Raw data processed')\n"
   ]
  },
  {
   "cell_type": "code",
   "execution_count": 21,
   "metadata": {},
   "outputs": [],
   "source": [
    "pulseraw_t1 = pulse_data_t1[x_columns].copy()\n",
    "\n",
    "for col in pulseraw_t1:\n",
    "    if col in colbin:\n",
    "        pulseraw_t1[col] = pulseraw_t1[col] - 0.5\n",
    "    elif col in colnorm:\n",
    "        cmu = pulseraw_t1[col].mean()\n",
    "        csigma = pulseraw_t1[col].std()\n",
    "        pulseraw_t1[col] = (pulseraw_t1[col] - cmu)/csigma\n",
    "logging.info('Raw data processed')"
   ]
  },
  {
   "cell_type": "code",
   "execution_count": 22,
   "metadata": {},
   "outputs": [
    {
     "data": {
      "text/html": [
       "<div>\n",
       "<style scoped>\n",
       "    .dataframe tbody tr th:only-of-type {\n",
       "        vertical-align: middle;\n",
       "    }\n",
       "\n",
       "    .dataframe tbody tr th {\n",
       "        vertical-align: top;\n",
       "    }\n",
       "\n",
       "    .dataframe thead th {\n",
       "        text-align: right;\n",
       "    }\n",
       "</style>\n",
       "<table border=\"1\" class=\"dataframe\">\n",
       "  <thead>\n",
       "    <tr style=\"text-align: right;\">\n",
       "      <th></th>\n",
       "      <th>gender</th>\n",
       "      <th>age</th>\n",
       "      <th>Weight_kg</th>\n",
       "      <th>paCO2</th>\n",
       "      <th>paO2</th>\n",
       "      <th>HCO3</th>\n",
       "      <th>Arterial_pH</th>\n",
       "      <th>Calcium</th>\n",
       "      <th>Chloride</th>\n",
       "      <th>DiaBP</th>\n",
       "      <th>Glucose</th>\n",
       "      <th>MeanBP</th>\n",
       "      <th>Potassium</th>\n",
       "      <th>RR</th>\n",
       "      <th>Temp_C</th>\n",
       "      <th>Sodium</th>\n",
       "      <th>SysBP</th>\n",
       "      <th>HR</th>\n",
       "    </tr>\n",
       "  </thead>\n",
       "  <tbody>\n",
       "    <tr>\n",
       "      <th>0</th>\n",
       "      <td>-0.5</td>\n",
       "      <td>-0.181005</td>\n",
       "      <td>1.008545</td>\n",
       "      <td>-0.253138</td>\n",
       "      <td>-0.530543</td>\n",
       "      <td>-1.187214</td>\n",
       "      <td>-0.295559</td>\n",
       "      <td>0.677169</td>\n",
       "      <td>-2.267751</td>\n",
       "      <td>-0.052501</td>\n",
       "      <td>-0.384950</td>\n",
       "      <td>0.064435</td>\n",
       "      <td>1.092684</td>\n",
       "      <td>-1.141790</td>\n",
       "      <td>-0.896077</td>\n",
       "      <td>-0.335581</td>\n",
       "      <td>-0.497062</td>\n",
       "      <td>-0.571733</td>\n",
       "    </tr>\n",
       "    <tr>\n",
       "      <th>1</th>\n",
       "      <td>-0.5</td>\n",
       "      <td>0.019513</td>\n",
       "      <td>-0.337459</td>\n",
       "      <td>0.070875</td>\n",
       "      <td>1.471908</td>\n",
       "      <td>0.709345</td>\n",
       "      <td>0.128633</td>\n",
       "      <td>-2.074709</td>\n",
       "      <td>0.113100</td>\n",
       "      <td>-0.690962</td>\n",
       "      <td>-0.278155</td>\n",
       "      <td>-0.631437</td>\n",
       "      <td>0.131543</td>\n",
       "      <td>0.964441</td>\n",
       "      <td>0.216938</td>\n",
       "      <td>0.047750</td>\n",
       "      <td>-0.429897</td>\n",
       "      <td>0.002577</td>\n",
       "    </tr>\n",
       "    <tr>\n",
       "      <th>2</th>\n",
       "      <td>-0.5</td>\n",
       "      <td>0.009438</td>\n",
       "      <td>-1.545203</td>\n",
       "      <td>-1.792198</td>\n",
       "      <td>-0.807477</td>\n",
       "      <td>-0.997558</td>\n",
       "      <td>2.143545</td>\n",
       "      <td>0.065641</td>\n",
       "      <td>-0.283708</td>\n",
       "      <td>1.594056</td>\n",
       "      <td>1.811031</td>\n",
       "      <td>1.356770</td>\n",
       "      <td>1.413064</td>\n",
       "      <td>1.605468</td>\n",
       "      <td>-0.460549</td>\n",
       "      <td>-0.910578</td>\n",
       "      <td>-0.004514</td>\n",
       "      <td>1.315287</td>\n",
       "    </tr>\n",
       "    <tr>\n",
       "      <th>3</th>\n",
       "      <td>-0.5</td>\n",
       "      <td>1.179266</td>\n",
       "      <td>-0.361858</td>\n",
       "      <td>0.718900</td>\n",
       "      <td>0.179546</td>\n",
       "      <td>-0.049279</td>\n",
       "      <td>-1.356039</td>\n",
       "      <td>-0.851652</td>\n",
       "      <td>1.382888</td>\n",
       "      <td>0.350737</td>\n",
       "      <td>-0.451698</td>\n",
       "      <td>0.071801</td>\n",
       "      <td>0.131543</td>\n",
       "      <td>-1.752292</td>\n",
       "      <td>0.120152</td>\n",
       "      <td>1.197744</td>\n",
       "      <td>-0.347805</td>\n",
       "      <td>-0.699358</td>\n",
       "    </tr>\n",
       "    <tr>\n",
       "      <th>4</th>\n",
       "      <td>-0.5</td>\n",
       "      <td>-0.758576</td>\n",
       "      <td>-0.496052</td>\n",
       "      <td>0.151878</td>\n",
       "      <td>-1.155421</td>\n",
       "      <td>2.985216</td>\n",
       "      <td>1.719353</td>\n",
       "      <td>-0.138202</td>\n",
       "      <td>-2.267751</td>\n",
       "      <td>-0.086104</td>\n",
       "      <td>-0.465047</td>\n",
       "      <td>-0.465753</td>\n",
       "      <td>0.932494</td>\n",
       "      <td>0.231839</td>\n",
       "      <td>-0.073416</td>\n",
       "      <td>-1.293910</td>\n",
       "      <td>-0.855279</td>\n",
       "      <td>-0.325600</td>\n",
       "    </tr>\n",
       "  </tbody>\n",
       "</table>\n",
       "</div>"
      ],
      "text/plain": [
       "   gender       age  Weight_kg     paCO2      paO2      HCO3  Arterial_pH  \\\n",
       "0    -0.5 -0.181005   1.008545 -0.253138 -0.530543 -1.187214    -0.295559   \n",
       "1    -0.5  0.019513  -0.337459  0.070875  1.471908  0.709345     0.128633   \n",
       "2    -0.5  0.009438  -1.545203 -1.792198 -0.807477 -0.997558     2.143545   \n",
       "3    -0.5  1.179266  -0.361858  0.718900  0.179546 -0.049279    -1.356039   \n",
       "4    -0.5 -0.758576  -0.496052  0.151878 -1.155421  2.985216     1.719353   \n",
       "\n",
       "    Calcium  Chloride     DiaBP   Glucose    MeanBP  Potassium        RR  \\\n",
       "0  0.677169 -2.267751 -0.052501 -0.384950  0.064435   1.092684 -1.141790   \n",
       "1 -2.074709  0.113100 -0.690962 -0.278155 -0.631437   0.131543  0.964441   \n",
       "2  0.065641 -0.283708  1.594056  1.811031  1.356770   1.413064  1.605468   \n",
       "3 -0.851652  1.382888  0.350737 -0.451698  0.071801   0.131543 -1.752292   \n",
       "4 -0.138202 -2.267751 -0.086104 -0.465047 -0.465753   0.932494  0.231839   \n",
       "\n",
       "     Temp_C    Sodium     SysBP        HR  \n",
       "0 -0.896077 -0.335581 -0.497062 -0.571733  \n",
       "1  0.216938  0.047750 -0.429897  0.002577  \n",
       "2 -0.460549 -0.910578 -0.004514  1.315287  \n",
       "3  0.120152  1.197744 -0.347805 -0.699358  \n",
       "4 -0.073416 -1.293910 -0.855279 -0.325600  "
      ]
     },
     "execution_count": 22,
     "metadata": {},
     "output_type": "execute_result"
    }
   ],
   "source": [
    "MIMICraw_t0.head()"
   ]
  },
  {
   "cell_type": "code",
   "execution_count": 77,
   "metadata": {},
   "outputs": [
    {
     "data": {
      "text/html": [
       "<div>\n",
       "<style scoped>\n",
       "    .dataframe tbody tr th:only-of-type {\n",
       "        vertical-align: middle;\n",
       "    }\n",
       "\n",
       "    .dataframe tbody tr th {\n",
       "        vertical-align: top;\n",
       "    }\n",
       "\n",
       "    .dataframe thead th {\n",
       "        text-align: right;\n",
       "    }\n",
       "</style>\n",
       "<table border=\"1\" class=\"dataframe\">\n",
       "  <thead>\n",
       "    <tr style=\"text-align: right;\">\n",
       "      <th></th>\n",
       "      <th>gender</th>\n",
       "      <th>age</th>\n",
       "      <th>Weight_kg</th>\n",
       "      <th>paCO2</th>\n",
       "      <th>paO2</th>\n",
       "      <th>HCO3</th>\n",
       "      <th>Arterial_pH</th>\n",
       "      <th>Calcium</th>\n",
       "      <th>Chloride</th>\n",
       "      <th>DiaBP</th>\n",
       "      <th>Glucose</th>\n",
       "      <th>MeanBP</th>\n",
       "      <th>Potassium</th>\n",
       "      <th>RR</th>\n",
       "      <th>Temp_C</th>\n",
       "      <th>Sodium</th>\n",
       "      <th>SysBP</th>\n",
       "      <th>HR</th>\n",
       "    </tr>\n",
       "  </thead>\n",
       "  <tbody>\n",
       "    <tr>\n",
       "      <th>0</th>\n",
       "      <td>-0.5</td>\n",
       "      <td>-0.227385</td>\n",
       "      <td>0.041677</td>\n",
       "      <td>1.091489</td>\n",
       "      <td>-0.893983</td>\n",
       "      <td>0.144963</td>\n",
       "      <td>-1.205827</td>\n",
       "      <td>-0.186702</td>\n",
       "      <td>1.305244</td>\n",
       "      <td>0.611818</td>\n",
       "      <td>-0.540835</td>\n",
       "      <td>0.605752</td>\n",
       "      <td>1.034563</td>\n",
       "      <td>-0.489857</td>\n",
       "      <td>1.148651</td>\n",
       "      <td>0.854596</td>\n",
       "      <td>-0.017132</td>\n",
       "      <td>1.168105</td>\n",
       "    </tr>\n",
       "    <tr>\n",
       "      <th>1</th>\n",
       "      <td>-0.5</td>\n",
       "      <td>-1.561320</td>\n",
       "      <td>-1.099388</td>\n",
       "      <td>0.224349</td>\n",
       "      <td>-1.030063</td>\n",
       "      <td>2.282970</td>\n",
       "      <td>0.208105</td>\n",
       "      <td>-0.354833</td>\n",
       "      <td>-1.632480</td>\n",
       "      <td>0.688055</td>\n",
       "      <td>0.882758</td>\n",
       "      <td>0.335755</td>\n",
       "      <td>-1.341765</td>\n",
       "      <td>1.686863</td>\n",
       "      <td>-0.295387</td>\n",
       "      <td>-0.175465</td>\n",
       "      <td>-0.161546</td>\n",
       "      <td>0.683425</td>\n",
       "    </tr>\n",
       "    <tr>\n",
       "      <th>2</th>\n",
       "      <td>-0.5</td>\n",
       "      <td>0.907427</td>\n",
       "      <td>0.544539</td>\n",
       "      <td>0.546386</td>\n",
       "      <td>-0.843256</td>\n",
       "      <td>2.139722</td>\n",
       "      <td>0.778085</td>\n",
       "      <td>0.373748</td>\n",
       "      <td>-1.311775</td>\n",
       "      <td>-0.792876</td>\n",
       "      <td>0.592057</td>\n",
       "      <td>-0.638225</td>\n",
       "      <td>-1.219944</td>\n",
       "      <td>2.264098</td>\n",
       "      <td>-2.321409</td>\n",
       "      <td>0.829014</td>\n",
       "      <td>-0.395367</td>\n",
       "      <td>-0.344263</td>\n",
       "    </tr>\n",
       "    <tr>\n",
       "      <th>3</th>\n",
       "      <td>-0.5</td>\n",
       "      <td>-0.888179</td>\n",
       "      <td>0.610737</td>\n",
       "      <td>-0.425061</td>\n",
       "      <td>0.039390</td>\n",
       "      <td>-0.975344</td>\n",
       "      <td>-0.055896</td>\n",
       "      <td>1.132361</td>\n",
       "      <td>0.962761</td>\n",
       "      <td>0.715518</td>\n",
       "      <td>0.541510</td>\n",
       "      <td>0.261897</td>\n",
       "      <td>-0.465675</td>\n",
       "      <td>-0.742384</td>\n",
       "      <td>0.162371</td>\n",
       "      <td>0.091881</td>\n",
       "      <td>0.237977</td>\n",
       "      <td>1.406083</td>\n",
       "    </tr>\n",
       "    <tr>\n",
       "      <th>4</th>\n",
       "      <td>-0.5</td>\n",
       "      <td>1.001753</td>\n",
       "      <td>0.547578</td>\n",
       "      <td>-0.362656</td>\n",
       "      <td>0.770458</td>\n",
       "      <td>0.375755</td>\n",
       "      <td>-1.215303</td>\n",
       "      <td>0.726712</td>\n",
       "      <td>0.758347</td>\n",
       "      <td>-1.701583</td>\n",
       "      <td>0.260728</td>\n",
       "      <td>0.333344</td>\n",
       "      <td>-0.514346</td>\n",
       "      <td>3.069816</td>\n",
       "      <td>-1.750175</td>\n",
       "      <td>-0.322968</td>\n",
       "      <td>-0.681962</td>\n",
       "      <td>0.889011</td>\n",
       "    </tr>\n",
       "  </tbody>\n",
       "</table>\n",
       "</div>"
      ],
      "text/plain": [
       "   gender       age  Weight_kg     paCO2      paO2      HCO3  Arterial_pH  \\\n",
       "0    -0.5 -0.227385   0.041677  1.091489 -0.893983  0.144963    -1.205827   \n",
       "1    -0.5 -1.561320  -1.099388  0.224349 -1.030063  2.282970     0.208105   \n",
       "2    -0.5  0.907427   0.544539  0.546386 -0.843256  2.139722     0.778085   \n",
       "3    -0.5 -0.888179   0.610737 -0.425061  0.039390 -0.975344    -0.055896   \n",
       "4    -0.5  1.001753   0.547578 -0.362656  0.770458  0.375755    -1.215303   \n",
       "\n",
       "    Calcium  Chloride     DiaBP   Glucose    MeanBP  Potassium        RR  \\\n",
       "0 -0.186702  1.305244  0.611818 -0.540835  0.605752   1.034563 -0.489857   \n",
       "1 -0.354833 -1.632480  0.688055  0.882758  0.335755  -1.341765  1.686863   \n",
       "2  0.373748 -1.311775 -0.792876  0.592057 -0.638225  -1.219944  2.264098   \n",
       "3  1.132361  0.962761  0.715518  0.541510  0.261897  -0.465675 -0.742384   \n",
       "4  0.726712  0.758347 -1.701583  0.260728  0.333344  -0.514346  3.069816   \n",
       "\n",
       "     Temp_C    Sodium     SysBP        HR  \n",
       "0  1.148651  0.854596 -0.017132  1.168105  \n",
       "1 -0.295387 -0.175465 -0.161546  0.683425  \n",
       "2 -2.321409  0.829014 -0.395367 -0.344263  \n",
       "3  0.162371  0.091881  0.237977  1.406083  \n",
       "4 -1.750175 -0.322968 -0.681962  0.889011  "
      ]
     },
     "execution_count": 77,
     "metadata": {},
     "output_type": "execute_result"
    }
   ],
   "source": [
    "from scipy import stats\n",
    "males=MIMICraw_t0[MIMICraw_t0['gender']==-0.5].drop(columns=['gender'])\n",
    "females=MIMICraw_t0[MIMICraw_t0['gender']==0.5].drop(columns=['gender'])\n",
    "\n",
    "male_kernel = stats.gaussian_kde(dataset=males.values.T)\n",
    "female_kernel = stats.gaussian_kde(dataset=females.values.T)\n",
    "\n",
    "male_pop = int(len(males)/len(MIMICraw_t0)*10000)\n",
    "female_pop = 10000 - male_pop\n",
    "males_resampled = male_kernel.resample(size=male_pop)\n",
    "females_resampled = female_kernel.resample(size=female_pop)\n",
    "\n",
    "males_resampled = pd.DataFrame(data=males_resampled.T, columns=males.columns)\n",
    "males_resampled['gender'] = -0.5\n",
    "\n",
    "females_resampled = pd.DataFrame(data=females_resampled.T, columns=females.columns)\n",
    "females_resampled['gender'] = -0.5\n",
    "\n",
    "MIMICraw_resampled = pd.concat([males_resampled, females_resampled])\n",
    "MIMICraw_resampled = MIMICraw_resampled[MIMICraw_t0.columns]\n",
    "MIMICraw_resampled.head()"
   ]
  },
  {
   "cell_type": "markdown",
   "metadata": {},
   "source": [
    "## Fitting models"
   ]
  },
  {
   "cell_type": "code",
   "execution_count": 78,
   "metadata": {},
   "outputs": [
    {
     "name": "stderr",
     "output_type": "stream",
     "text": [
      "100%|██████████| 2/2 [00:00<00:00,  2.25it/s]\n"
     ]
    }
   ],
   "source": [
    "from sklearn.linear_model import LogisticRegression\n",
    "icuuniqueids = MIMICtable_filtered_t0['icustay_id'].unique()\n",
    "modelsDf = pd.DataFrame()\n",
    "\n",
    "logging.info('Fitting models')\n",
    "\n",
    "for model in tqdm(range(nr_reps)):\n",
    "    logging.info('Model: ' + str(model))\n",
    "    grp = np.floor(5*np.random.rand(len(icuuniqueids))+1)\n",
    "    crossval = 1\n",
    "    trainidx = icuuniqueids[grp != crossval]\n",
    "    testidx = icuuniqueids[grp == crossval]\n",
    "    X = MIMICraw_t0.loc[MIMICtable_filtered_t0['icustay_id'].isin(trainidx)]\n",
    "    Xtestmimic = MIMICraw_t0[MIMICtable_filtered_t0['icustay_id'].isin(testidx)]\n",
    "    Y = MIMICtable_filtered_t0.loc[MIMICtable_filtered_t0['icustay_id'].isin(trainidx), 'A']\n",
    "    Ytest = MIMICtable_filtered_t0.loc[MIMICtable_filtered_t0['icustay_id'].isin(testidx), 'A']\n",
    "        \n",
    "    clf = LogisticRegression(random_state=0, max_iter=100000).fit(X, Y)\n",
    "    acc_train = clf.score(X, Y)\n",
    "    acc_test = clf.score(Xtestmimic, Ytest)\n",
    "    modelsDf = modelsDf.append({'model': model, 'regressor': clf, 'acc_train': acc_train, 'acc_test': acc_test}, ignore_index=True)\n",
    "logging.info('Model fitting done!')"
   ]
  },
  {
   "cell_type": "code",
   "execution_count": 79,
   "metadata": {},
   "outputs": [
    {
     "data": {
      "text/plain": [
       "array([[6.73576592e-03, 6.26721091e-02, 6.34713123e-01, ...,\n",
       "        2.46946541e-03, 4.60213525e-03, 1.01336170e-03],\n",
       "       [4.73586098e-04, 5.39671990e-02, 5.20380813e-01, ...,\n",
       "        1.28120109e-04, 1.37239859e-04, 1.03693223e-04],\n",
       "       [1.24085170e-02, 8.45709399e-02, 5.94144849e-01, ...,\n",
       "        1.41336993e-02, 1.21956472e-02, 4.17732453e-03],\n",
       "       ...,\n",
       "       [1.55697950e-02, 6.74462874e-02, 5.03863455e-01, ...,\n",
       "        4.26705940e-03, 2.84387452e-03, 2.08585988e-03],\n",
       "       [4.78009735e-03, 7.89200650e-02, 4.10851378e-01, ...,\n",
       "        3.41866539e-03, 2.32323508e-03, 3.47061981e-03],\n",
       "       [2.95783038e-03, 4.35654903e-02, 5.97485844e-01, ...,\n",
       "        2.08521648e-03, 2.75220804e-03, 1.05530756e-03]])"
      ]
     },
     "execution_count": 79,
     "metadata": {},
     "output_type": "execute_result"
    }
   ],
   "source": [
    "clf.predict_proba(Xtestmimic)"
   ]
  },
  {
   "cell_type": "code",
   "execution_count": 80,
   "metadata": {},
   "outputs": [
    {
     "data": {
      "text/html": [
       "<div>\n",
       "<style scoped>\n",
       "    .dataframe tbody tr th:only-of-type {\n",
       "        vertical-align: middle;\n",
       "    }\n",
       "\n",
       "    .dataframe tbody tr th {\n",
       "        vertical-align: top;\n",
       "    }\n",
       "\n",
       "    .dataframe thead th {\n",
       "        text-align: right;\n",
       "    }\n",
       "</style>\n",
       "<table border=\"1\" class=\"dataframe\">\n",
       "  <thead>\n",
       "    <tr style=\"text-align: right;\">\n",
       "      <th></th>\n",
       "      <th>acc_test</th>\n",
       "      <th>acc_train</th>\n",
       "      <th>model</th>\n",
       "      <th>regressor</th>\n",
       "    </tr>\n",
       "  </thead>\n",
       "  <tbody>\n",
       "    <tr>\n",
       "      <th>0</th>\n",
       "      <td>0.519517</td>\n",
       "      <td>0.525061</td>\n",
       "      <td>0.0</td>\n",
       "      <td>LogisticRegression(C=1.0, class_weight=None, d...</td>\n",
       "    </tr>\n",
       "    <tr>\n",
       "      <th>1</th>\n",
       "      <td>0.527255</td>\n",
       "      <td>0.524535</td>\n",
       "      <td>1.0</td>\n",
       "      <td>LogisticRegression(C=1.0, class_weight=None, d...</td>\n",
       "    </tr>\n",
       "  </tbody>\n",
       "</table>\n",
       "</div>"
      ],
      "text/plain": [
       "   acc_test  acc_train  model  \\\n",
       "0  0.519517   0.525061    0.0   \n",
       "1  0.527255   0.524535    1.0   \n",
       "\n",
       "                                           regressor  \n",
       "0  LogisticRegression(C=1.0, class_weight=None, d...  \n",
       "1  LogisticRegression(C=1.0, class_weight=None, d...  "
      ]
     },
     "execution_count": 80,
     "metadata": {},
     "output_type": "execute_result"
    }
   ],
   "source": [
    "modelsDf"
   ]
  },
  {
   "cell_type": "markdown",
   "metadata": {},
   "source": [
    "# Fit $\\pi(a_0\\mid x_0)$ using Neural Net"
   ]
  },
  {
   "cell_type": "code",
   "execution_count": 81,
   "metadata": {},
   "outputs": [],
   "source": [
    "import torch.utils.data as data_utils\n",
    "\n",
    "class PolicyNetwork(torch.nn.Module):\n",
    "    def __init__(self, input_dim, output_dim, hidden_1_dim=10):\n",
    "        super(PolicyNetwork, self).__init__()\n",
    "        self.hid1 = torch.nn.Linear(input_dim, hidden_1_dim)\n",
    "        self.outp = torch.nn.Linear(hidden_1_dim, output_dim)\n",
    "        self.softmax = torch.nn.Softmax(dim=2)\n",
    "        self.leaky_relu = torch.nn.LeakyReLU()\n",
    "        self.tanh = torch.nn.Tanh()\n",
    "\n",
    "        torch.nn.init.xavier_uniform_(self.hid1.weight)\n",
    "        torch.nn.init.zeros_(self.hid1.bias)\n",
    "        torch.nn.init.xavier_uniform_(self.outp.weight)\n",
    "        torch.nn.init.zeros_(self.outp.bias)\n",
    "\n",
    "    def forward(self, x):\n",
    "        z = self.tanh(self.hid1(x))\n",
    "        z = self.outp(z)\n",
    "        return z"
   ]
  },
  {
   "cell_type": "code",
   "execution_count": 82,
   "metadata": {},
   "outputs": [
    {
     "name": "stderr",
     "output_type": "stream",
     "text": [
      "100%|██████████| 2/2 [00:09<00:00,  4.84s/it]\n"
     ]
    }
   ],
   "source": [
    "icuuniqueids = MIMICtable_filtered_t0['icustay_id'].unique()\n",
    "for model in tqdm(range(nr_reps)):\n",
    "    grp = np.floor(5*np.random.rand(len(icuuniqueids))+1)\n",
    "    crossval = 1\n",
    "    trainidx = icuuniqueids[grp != crossval]\n",
    "    testidx = icuuniqueids[grp == crossval]\n",
    "    X = torch.FloatTensor(MIMICraw_t0.loc[MIMICtable_filtered_t0['icustay_id'].isin(trainidx)].values)\n",
    "    Xtestmimic = torch.FloatTensor(MIMICraw_t0[MIMICtable_filtered_t0['icustay_id'].isin(testidx)].values)\n",
    "    Y = torch.tensor(MIMICtable_filtered_t0.loc[MIMICtable_filtered_t0['icustay_id'].isin(trainidx), 'A'].values).to(torch.long)-1\n",
    "    Ytest = torch.tensor(MIMICtable_filtered_t0.loc[MIMICtable_filtered_t0['icustay_id'].isin(testidx), 'A'].values).to(torch.long)-1\n",
    "    train = data_utils.TensorDataset(X, Y)\n",
    "    trainloader = torch.utils.data.DataLoader(train, batch_size=32)\n",
    "    test = data_utils.TensorDataset(Xtestmimic, Ytest)\n",
    "    testloader = torch.utils.data.DataLoader(test, batch_size=32)\n",
    "\n",
    "    loss_func = torch.nn.CrossEntropyLoss()\n",
    "    policy = PolicyNetwork(input_dim=len(MIMICraw_t0.columns), output_dim=25)\n",
    "    optimizer = torch.optim.SGD(policy.parameters(), lr=0.001)    \n",
    "    for epoch in range(100):\n",
    "        for data, label in trainloader:\n",
    "            prediction = policy(data)     # input x and predict based on x\n",
    "            loss = loss_func(prediction, label)     # must be (1. nn output, 2. target)\n",
    "            optimizer.zero_grad()   # clear gradients for next train\n",
    "            loss.backward()         # backpropagation, compute gradients\n",
    "            optimizer.step()        # apply gradients\n",
    "    torch.save(policy.state_dict(), f'{models_dir}/policy_{model}')\n",
    "    "
   ]
  },
  {
   "cell_type": "code",
   "execution_count": 83,
   "metadata": {},
   "outputs": [],
   "source": [
    "icuuniqueids = MIMICtable_filtered_t0['icustay_id'].unique()\n",
    "grp = np.floor(5*np.random.rand(len(icuuniqueids))+1)\n",
    "crossval = 1\n",
    "trainidx = icuuniqueids[grp != crossval]\n",
    "testidx = icuuniqueids[grp == crossval]\n",
    "X = torch.FloatTensor(MIMICraw_t0.loc[MIMICtable_filtered_t0['icustay_id'].isin(trainidx)].values)\n",
    "Xtestmimic = torch.FloatTensor(MIMICraw_t0[MIMICtable_filtered_t0['icustay_id'].isin(testidx)].values)\n",
    "Y = torch.tensor(MIMICtable_filtered_t0.loc[MIMICtable_filtered_t0['icustay_id'].isin(trainidx), 'A'].values).to(torch.long)-1\n",
    "Ytest = torch.tensor(MIMICtable_filtered_t0.loc[MIMICtable_filtered_t0['icustay_id'].isin(testidx), 'A'].values).to(torch.long)-1\n",
    "train = data_utils.TensorDataset(X, Y)\n",
    "trainloader = torch.utils.data.DataLoader(train, batch_size=32)\n",
    "test = data_utils.TensorDataset(Xtestmimic, Ytest)\n",
    "testloader = torch.utils.data.DataLoader(test, batch_size=32)\n",
    "\n",
    "loss_func = torch.nn.CrossEntropyLoss()\n",
    "policy = PolicyNetwork(input_dim=len(MIMICraw_t0.columns), output_dim=25)\n",
    "optimizer = torch.optim.SGD(policy.parameters(), lr=0.001)"
   ]
  },
  {
   "cell_type": "code",
   "execution_count": 84,
   "metadata": {},
   "outputs": [
    {
     "name": "stderr",
     "output_type": "stream",
     "text": [
      "100%|██████████| 200/200 [00:09<00:00, 20.00it/s]\n"
     ]
    }
   ],
   "source": [
    "losses = []\n",
    "\n",
    "for epoch in tqdm(range(200)):\n",
    "    for data, label in trainloader:\n",
    "        prediction = policy(data)     # input x and predict based on x\n",
    "        loss = loss_func(prediction, label)     # must be (1. nn output, 2. target)\n",
    "        optimizer.zero_grad()   # clear gradients for next train\n",
    "        loss.backward()         # backpropagation, compute gradients\n",
    "        optimizer.step()        # apply gradients\n",
    "    if (epoch + 1) % 10 == 0:\n",
    "        with torch.no_grad():\n",
    "            test_loss = 0\n",
    "            for test_data, test_label in testloader:\n",
    "                test_loss += loss_func(policy(test_data), test_label)\n",
    "            losses.append(test_loss.item()/len(testloader))"
   ]
  },
  {
   "cell_type": "code",
   "execution_count": 85,
   "metadata": {},
   "outputs": [
    {
     "data": {
      "text/plain": [
       "[<matplotlib.lines.Line2D at 0x7fd216ec8100>]"
      ]
     },
     "execution_count": 85,
     "metadata": {},
     "output_type": "execute_result"
    },
    {
     "data": {
      "image/png": "[encoded data removed]",
      "text/plain": [
       "<Figure size 432x288 with 1 Axes>"
      ]
     },
     "metadata": {
      "needs_background": "light"
     },
     "output_type": "display_data"
    }
   ],
   "source": [
    "plt.plot(losses)"
   ]
  },
  {
   "cell_type": "code",
   "execution_count": 86,
   "metadata": {},
   "outputs": [
    {
     "name": "stdout",
     "output_type": "stream",
     "text": [
      "Accuracy of the policy network: 50 %\n"
     ]
    }
   ],
   "source": [
    "correct = 0\n",
    "total = 0\n",
    "# since we're not training, we don't need to calculate the gradients for our outputs\n",
    "with torch.no_grad():\n",
    "    outputs = policy(Xtestmimic)\n",
    "    # the class with the highest energy is what we choose as prediction\n",
    "    _, predicted = torch.max(outputs.data, 1)\n",
    "#     predicted = Categorical(softmax(outputs)).sample()\n",
    "    total += Xtestmimic.size(0)\n",
    "    correct += (predicted == Ytest).sum().item()\n",
    "\n",
    "print('Accuracy of the policy network: %d %%' % (\n",
    "    100 * correct / total))"
   ]
  },
  {
   "cell_type": "markdown",
   "metadata": {},
   "source": [
    "# Predicting actions for the augmented data"
   ]
  },
  {
   "cell_type": "code",
   "execution_count": 87,
   "metadata": {},
   "outputs": [],
   "source": [
    "from torch.distributions import Categorical\n",
    "softmax = torch.nn.Softmax(dim=1)\n",
    "outputs = softmax(policy(torch.FloatTensor(MIMICraw_resampled[x_columns].values)))\n",
    "# outputs\n",
    "\n",
    "m = Categorical(outputs)\n",
    "action = m.sample()\n",
    "(action!=1).sum()\n",
    "MIMICraw_resampled['A'] = action.numpy()+1"
   ]
  },
  {
   "cell_type": "markdown",
   "metadata": {},
   "source": [
    "# Regressing $\\mathbb{E}[Y^{obs}\\mid x,a]$"
   ]
  },
  {
   "cell_type": "code",
   "execution_count": 88,
   "metadata": {},
   "outputs": [],
   "source": [
    "import torch\n",
    "from torch.autograd import Variable\n",
    "import torch.nn.functional as F\n",
    "import torch.utils.data as Data\n",
    "\n",
    "\n",
    "class Net(torch.nn.Module):\n",
    "    def __init__(self, n_feature, n_hidden, n_output):\n",
    "        super(Net, self).__init__()\n",
    "        self.hidden = torch.nn.Linear(n_feature, n_hidden)   # hidden layer\n",
    "        self.predict = torch.nn.Linear(n_hidden, n_output)   # output layer\n",
    "        self.tanh = torch.nn.Tanh()\n",
    "\n",
    "    def forward(self, x):\n",
    "        x = self.tanh(self.hidden(x))      # activation function for hidden layer\n",
    "        x = self.predict(x)             # linear output\n",
    "        return x"
   ]
  },
  {
   "cell_type": "code",
   "execution_count": 89,
   "metadata": {},
   "outputs": [],
   "source": [
    "net = Net(n_feature=len(MIMICraw_t0.columns)+1, n_hidden=10, n_output=1)\n",
    "optimizer = torch.optim.SGD(net.parameters(), lr=0.001, weight_decay=0.1)\n",
    "loss_func = torch.nn.MSELoss()"
   ]
  },
  {
   "cell_type": "code",
   "execution_count": 90,
   "metadata": {},
   "outputs": [
    {
     "name": "stderr",
     "output_type": "stream",
     "text": [
      "100%|██████████| 2/2 [00:18<00:00,  9.42s/it]\n"
     ]
    }
   ],
   "source": [
    "for model in tqdm(range(nr_reps)):\n",
    "    grp = np.floor(5*np.random.rand(len(icuuniqueids))+1)\n",
    "    crossval = 1\n",
    "    trainidx = icuuniqueids[grp != crossval]\n",
    "    testidx = icuuniqueids[grp == crossval]\n",
    "    X = torch.FloatTensor(MIMICraw_t0.loc[MIMICtable_filtered_t0['icustay_id'].isin(trainidx)].values)\n",
    "    A = (torch.tensor(MIMICtable_filtered_t0.loc[MIMICtable_filtered_t0['icustay_id'].isin(trainidx), 'A'].values).to(torch.long)-1)/24\n",
    "    Xtestmimic = torch.FloatTensor(MIMICraw_t0[MIMICtable_filtered_t0['icustay_id'].isin(testidx)].values)\n",
    "    Atest = (torch.tensor(MIMICtable_filtered_t0.loc[MIMICtable_filtered_t0['icustay_id'].isin(testidx), 'A'].values).to(torch.long)-1)/24\n",
    "    ptid = MIMICtable_filtered_t0.loc[MIMICtable_filtered_t0['icustay_id'].isin(trainidx), 'icustay_id']\n",
    "    ptidtestmimic = MIMICtable_filtered_t0.loc[MIMICtable_filtered_t0['icustay_id'].isin(testidx), 'icustay_id']\n",
    "    Y = torch.FloatTensor(MIMICtable_filtered_t1.loc[MIMICtable_filtered_t0['icustay_id'].isin(trainidx), f'{col_name}'].values).unsqueeze(dim=1)\n",
    "    Ytest = torch.FloatTensor(MIMICtable_filtered_t1.loc[MIMICtable_filtered_t0['icustay_id'].isin(testidx), f'{col_name}'].values).unsqueeze(dim=1)\n",
    "    Y = (Y - MIMICtable[col_name].mean())/MIMICtable[col_name].std()\n",
    "    Ytest = (Ytest - MIMICtable[col_name].mean())/MIMICtable[col_name].std()\n",
    "    train = data_utils.TensorDataset(torch.column_stack((X, A)), Y)\n",
    "    trainloader = torch.utils.data.DataLoader(train, batch_size=32)\n",
    "    test = data_utils.TensorDataset(torch.column_stack((Xtestmimic, Atest)), Ytest)\n",
    "    testloader = torch.utils.data.DataLoader(test, batch_size=32)\n",
    "\n",
    "    net = Net(n_feature=len(MIMICraw_t0.columns)+1, n_hidden=10, n_output=1)\n",
    "    optimizer = torch.optim.SGD(net.parameters(), lr=0.001, weight_decay=0.1)\n",
    "    loss_func = torch.nn.MSELoss()\n",
    "    for epoch in range(200):\n",
    "        for X, Y in trainloader:\n",
    "            prediction = net(X)     # input x and predict based on x\n",
    "\n",
    "            loss = loss_func(prediction, Y)     # must be (1. nn output, 2. target)\n",
    "\n",
    "            optimizer.zero_grad()   # clear gradients for next train\n",
    "            loss.backward()         # backpropagation, compute gradients\n",
    "            optimizer.step()        # apply gradients\n",
    "    \n",
    "    torch.save(net.state_dict(), f'{models_dir}/yobs_{model}')"
   ]
  },
  {
   "cell_type": "code",
   "execution_count": 91,
   "metadata": {},
   "outputs": [],
   "source": [
    "import torch.utils.data as data_utils\n",
    "\n",
    "grp = np.floor(5*np.random.rand(len(icuuniqueids))+1)\n",
    "crossval = 1\n",
    "trainidx = icuuniqueids[grp != crossval]\n",
    "testidx = icuuniqueids[grp == crossval]\n",
    "X = torch.FloatTensor(MIMICraw_t0.loc[MIMICtable_filtered_t0['icustay_id'].isin(trainidx)].values)\n",
    "A = (torch.tensor(MIMICtable_filtered_t0.loc[MIMICtable_filtered_t0['icustay_id'].isin(trainidx), 'A'].values).to(torch.long)-1)/24\n",
    "Xtestmimic = torch.FloatTensor(MIMICraw_t0[MIMICtable_filtered_t0['icustay_id'].isin(testidx)].values)\n",
    "Atest = (torch.tensor(MIMICtable_filtered_t0.loc[MIMICtable_filtered_t0['icustay_id'].isin(testidx), 'A'].values).to(torch.long)-1)/24\n",
    "ptid = MIMICtable_filtered_t0.loc[MIMICtable_filtered_t0['icustay_id'].isin(trainidx), 'icustay_id']\n",
    "ptidtestmimic = MIMICtable_filtered_t0.loc[MIMICtable_filtered_t0['icustay_id'].isin(testidx), 'icustay_id']\n",
    "Y = torch.FloatTensor(MIMICtable_filtered_t1.loc[MIMICtable_filtered_t0['icustay_id'].isin(trainidx), f'{col_name}'].values).unsqueeze(dim=1)\n",
    "Ytest = torch.FloatTensor(MIMICtable_filtered_t1.loc[MIMICtable_filtered_t0['icustay_id'].isin(testidx), f'{col_name}'].values).unsqueeze(dim=1)\n",
    "Y = (Y - MIMICtable[col_name].mean())/MIMICtable[col_name].std()\n",
    "Ytest = (Ytest - MIMICtable[col_name].mean())/MIMICtable[col_name].std()\n",
    "train = data_utils.TensorDataset(torch.column_stack((X, A)), Y)\n",
    "trainloader = torch.utils.data.DataLoader(train, batch_size=32)\n",
    "test = data_utils.TensorDataset(torch.column_stack((Xtestmimic, Atest)), Ytest)\n",
    "testloader = torch.utils.data.DataLoader(test, batch_size=32)\n",
    "\n",
    "net = Net(n_feature=len(MIMICraw_t0.columns)+1, n_hidden=10, n_output=1)\n",
    "optimizer = torch.optim.SGD(net.parameters(), lr=0.001, weight_decay=0.1)\n",
    "loss_func = torch.nn.MSELoss()"
   ]
  },
  {
   "cell_type": "code",
   "execution_count": 92,
   "metadata": {},
   "outputs": [
    {
     "name": "stderr",
     "output_type": "stream",
     "text": [
      "100%|██████████| 200/200 [00:10<00:00, 18.49it/s]\n"
     ]
    }
   ],
   "source": [
    "# train the network\n",
    "losses = []\n",
    "for epoch in tqdm(range(200)):\n",
    "    for X, Y in trainloader:\n",
    "        prediction = net(X)     # input x and predict based on x\n",
    "\n",
    "        loss = loss_func(prediction, Y)     # must be (1. nn output, 2. target)\n",
    "\n",
    "        optimizer.zero_grad()   # clear gradients for next train\n",
    "        loss.backward()         # backpropagation, compute gradients\n",
    "        optimizer.step()        # apply gradients\n",
    "    with torch.no_grad():\n",
    "        test_loss = 0\n",
    "        for Xtest, Ytest in testloader:\n",
    "            test_loss += loss_func(net(Xtest), Ytest)\n",
    "        test_loss = test_loss/len(testloader)\n",
    "        losses.append(test_loss.item())\n"
   ]
  },
  {
   "cell_type": "code",
   "execution_count": 93,
   "metadata": {},
   "outputs": [
    {
     "data": {
      "text/plain": [
       "0.4557711184024811"
      ]
     },
     "execution_count": 93,
     "metadata": {},
     "output_type": "execute_result"
    },
    {
     "data": {
      "image/png": "[encoded data removed]",
      "text/plain": [
       "<Figure size 432x288 with 1 Axes>"
      ]
     },
     "metadata": {
      "needs_background": "light"
     },
     "output_type": "display_data"
    }
   ],
   "source": [
    "import matplotlib.pyplot as plt\n",
    "plt.plot(losses)\n",
    "losses[-1]"
   ]
  },
  {
   "cell_type": "code",
   "execution_count": 94,
   "metadata": {},
   "outputs": [
    {
     "name": "stdout",
     "output_type": "stream",
     "text": [
      "HR val at t=0 tensor(99.9075)\n",
      "HR val at t=1 tensor([97.3827], grad_fn=<AddBackward0>)\n"
     ]
    }
   ],
   "source": [
    "action = 1\n",
    "row = 2\n",
    "action_tensor = torch.FloatTensor(((action-1)/24,))\n",
    "print(f'{col_name} val at t=0', Xtestmimic[row,x_columns.index(col_name)]*MIMICtable[col_name].std() + MIMICtable[col_name].mean())\n",
    "print(f'{col_name} val at t=1', net(torch.cat((Xtestmimic[row,:], action_tensor)))*MIMICtable[col_name].std() + MIMICtable[col_name].mean())\n"
   ]
  },
  {
   "cell_type": "markdown",
   "metadata": {},
   "source": [
    "# Augmenting patient values at time 1"
   ]
  },
  {
   "cell_type": "code",
   "execution_count": 95,
   "metadata": {},
   "outputs": [
    {
     "name": "stderr",
     "output_type": "stream",
     "text": [
      "100%|██████████| 18/18 [00:00<00:00, 907.60it/s]\n"
     ]
    }
   ],
   "source": [
    "models_dir = \"/data/localhost/taufiq/manski_bounds_bootstrap/\"\n",
    "static_cols = ['gender', 'age', 'Weight_kg']\n",
    "MIMICraw_resampled_t1 = MIMICraw_resampled[static_cols].copy()\n",
    "i=0\n",
    "# x_columns\n",
    "for col_name in tqdm(x_columns):\n",
    "    if col_name not in static_cols:                \n",
    "        yobs_model = Net(n_feature=MIMICraw_t0.shape[1]+1, n_hidden=10, n_output=1)\n",
    "        yobs_model.load_state_dict(torch.load(f'{models_dir}/yobs_{col_name}_{i}'))\n",
    "        yobs_model.eval()\n",
    "        with torch.no_grad():\n",
    "            X_resampled = torch.FloatTensor(MIMICraw_resampled.drop(columns=['A']).values)\n",
    "            A_resampled = (torch.FloatTensor(MIMICraw_resampled['A'].values)-1)/24\n",
    "            y = yobs_model(torch.column_stack((X_resampled, A_resampled)))\n",
    "            MIMICraw_resampled_t1[col_name] = y.numpy()\n",
    "\n"
   ]
  },
  {
   "cell_type": "code",
   "execution_count": 96,
   "metadata": {},
   "outputs": [
    {
     "data": {
      "text/html": [
       "<div>\n",
       "<style scoped>\n",
       "    .dataframe tbody tr th:only-of-type {\n",
       "        vertical-align: middle;\n",
       "    }\n",
       "\n",
       "    .dataframe tbody tr th {\n",
       "        vertical-align: top;\n",
       "    }\n",
       "\n",
       "    .dataframe thead th {\n",
       "        text-align: right;\n",
       "    }\n",
       "</style>\n",
       "<table border=\"1\" class=\"dataframe\">\n",
       "  <thead>\n",
       "    <tr style=\"text-align: right;\">\n",
       "      <th></th>\n",
       "      <th>gender</th>\n",
       "      <th>age</th>\n",
       "      <th>Weight_kg</th>\n",
       "      <th>paCO2</th>\n",
       "      <th>paO2</th>\n",
       "      <th>HCO3</th>\n",
       "      <th>Arterial_pH</th>\n",
       "      <th>Calcium</th>\n",
       "      <th>Chloride</th>\n",
       "      <th>DiaBP</th>\n",
       "      <th>Glucose</th>\n",
       "      <th>MeanBP</th>\n",
       "      <th>Potassium</th>\n",
       "      <th>RR</th>\n",
       "      <th>Temp_C</th>\n",
       "      <th>Sodium</th>\n",
       "      <th>SysBP</th>\n",
       "      <th>HR</th>\n",
       "    </tr>\n",
       "  </thead>\n",
       "  <tbody>\n",
       "    <tr>\n",
       "      <th>0</th>\n",
       "      <td>-0.5</td>\n",
       "      <td>-0.227385</td>\n",
       "      <td>0.041677</td>\n",
       "      <td>0.594050</td>\n",
       "      <td>-0.281194</td>\n",
       "      <td>0.024615</td>\n",
       "      <td>-0.690573</td>\n",
       "      <td>-0.039004</td>\n",
       "      <td>0.651407</td>\n",
       "      <td>0.518146</td>\n",
       "      <td>-0.290032</td>\n",
       "      <td>0.369115</td>\n",
       "      <td>0.996962</td>\n",
       "      <td>-0.159710</td>\n",
       "      <td>0.581757</td>\n",
       "      <td>0.515691</td>\n",
       "      <td>0.099839</td>\n",
       "      <td>0.934715</td>\n",
       "    </tr>\n",
       "    <tr>\n",
       "      <th>1</th>\n",
       "      <td>-0.5</td>\n",
       "      <td>-1.561320</td>\n",
       "      <td>-1.099388</td>\n",
       "      <td>0.229529</td>\n",
       "      <td>-0.488388</td>\n",
       "      <td>1.008575</td>\n",
       "      <td>0.087236</td>\n",
       "      <td>-0.171043</td>\n",
       "      <td>-0.779157</td>\n",
       "      <td>0.692078</td>\n",
       "      <td>0.419671</td>\n",
       "      <td>0.385285</td>\n",
       "      <td>-1.173494</td>\n",
       "      <td>1.163643</td>\n",
       "      <td>-0.077044</td>\n",
       "      <td>-0.052106</td>\n",
       "      <td>-0.099260</td>\n",
       "      <td>0.729356</td>\n",
       "    </tr>\n",
       "    <tr>\n",
       "      <th>2</th>\n",
       "      <td>-0.5</td>\n",
       "      <td>0.907427</td>\n",
       "      <td>0.544539</td>\n",
       "      <td>0.401895</td>\n",
       "      <td>-0.363626</td>\n",
       "      <td>1.059618</td>\n",
       "      <td>0.407039</td>\n",
       "      <td>0.216479</td>\n",
       "      <td>-0.627830</td>\n",
       "      <td>-0.432824</td>\n",
       "      <td>0.339273</td>\n",
       "      <td>-0.395542</td>\n",
       "      <td>-1.046500</td>\n",
       "      <td>1.420170</td>\n",
       "      <td>-1.038844</td>\n",
       "      <td>0.389609</td>\n",
       "      <td>-0.246952</td>\n",
       "      <td>-0.229466</td>\n",
       "    </tr>\n",
       "    <tr>\n",
       "      <th>3</th>\n",
       "      <td>-0.5</td>\n",
       "      <td>-0.888179</td>\n",
       "      <td>0.610737</td>\n",
       "      <td>-0.257847</td>\n",
       "      <td>0.191340</td>\n",
       "      <td>-0.443214</td>\n",
       "      <td>-0.075627</td>\n",
       "      <td>0.410710</td>\n",
       "      <td>0.465746</td>\n",
       "      <td>0.598441</td>\n",
       "      <td>0.264681</td>\n",
       "      <td>0.389372</td>\n",
       "      <td>-0.236505</td>\n",
       "      <td>-0.416256</td>\n",
       "      <td>0.167789</td>\n",
       "      <td>0.183759</td>\n",
       "      <td>0.193808</td>\n",
       "      <td>1.077253</td>\n",
       "    </tr>\n",
       "    <tr>\n",
       "      <th>4</th>\n",
       "      <td>-0.5</td>\n",
       "      <td>1.001753</td>\n",
       "      <td>0.547578</td>\n",
       "      <td>-0.195535</td>\n",
       "      <td>0.522932</td>\n",
       "      <td>0.067859</td>\n",
       "      <td>-0.517809</td>\n",
       "      <td>0.237475</td>\n",
       "      <td>0.229882</td>\n",
       "      <td>-0.706982</td>\n",
       "      <td>0.250616</td>\n",
       "      <td>-0.328230</td>\n",
       "      <td>-0.260257</td>\n",
       "      <td>1.800928</td>\n",
       "      <td>-0.739761</td>\n",
       "      <td>-0.054487</td>\n",
       "      <td>-0.256846</td>\n",
       "      <td>0.651850</td>\n",
       "    </tr>\n",
       "  </tbody>\n",
       "</table>\n",
       "</div>"
      ],
      "text/plain": [
       "   gender       age  Weight_kg     paCO2      paO2      HCO3  Arterial_pH  \\\n",
       "0    -0.5 -0.227385   0.041677  0.594050 -0.281194  0.024615    -0.690573   \n",
       "1    -0.5 -1.561320  -1.099388  0.229529 -0.488388  1.008575     0.087236   \n",
       "2    -0.5  0.907427   0.544539  0.401895 -0.363626  1.059618     0.407039   \n",
       "3    -0.5 -0.888179   0.610737 -0.257847  0.191340 -0.443214    -0.075627   \n",
       "4    -0.5  1.001753   0.547578 -0.195535  0.522932  0.067859    -0.517809   \n",
       "\n",
       "    Calcium  Chloride     DiaBP   Glucose    MeanBP  Potassium        RR  \\\n",
       "0 -0.039004  0.651407  0.518146 -0.290032  0.369115   0.996962 -0.159710   \n",
       "1 -0.171043 -0.779157  0.692078  0.419671  0.385285  -1.173494  1.163643   \n",
       "2  0.216479 -0.627830 -0.432824  0.339273 -0.395542  -1.046500  1.420170   \n",
       "3  0.410710  0.465746  0.598441  0.264681  0.389372  -0.236505 -0.416256   \n",
       "4  0.237475  0.229882 -0.706982  0.250616 -0.328230  -0.260257  1.800928   \n",
       "\n",
       "     Temp_C    Sodium     SysBP        HR  \n",
       "0  0.581757  0.515691  0.099839  0.934715  \n",
       "1 -0.077044 -0.052106 -0.099260  0.729356  \n",
       "2 -1.038844  0.389609 -0.246952 -0.229466  \n",
       "3  0.167789  0.183759  0.193808  1.077253  \n",
       "4 -0.739761 -0.054487 -0.256846  0.651850  "
      ]
     },
     "execution_count": 96,
     "metadata": {},
     "output_type": "execute_result"
    }
   ],
   "source": [
    "MIMICraw_resampled_t1.head()"
   ]
  },
  {
   "cell_type": "markdown",
   "metadata": {},
   "source": [
    "# Fitting $\\pi(a_1 \\mid x_0,a_0,x_1)$"
   ]
  },
  {
   "cell_type": "code",
   "execution_count": 97,
   "metadata": {},
   "outputs": [],
   "source": [
    "icuuniqueids = MIMICtable_filtered_t0['icustay_id'].unique()\n",
    "grp = np.floor(5*np.random.rand(len(icuuniqueids))+1)\n",
    "crossval = 1\n",
    "trainidx = icuuniqueids[grp != crossval]\n",
    "testidx = icuuniqueids[grp == crossval]\n",
    "X0 = torch.FloatTensor(MIMICraw_t0.loc[MIMICtable_filtered_t0['icustay_id'].isin(trainidx)].values)\n",
    "Xtest0 = torch.FloatTensor(MIMICraw_t0[MIMICtable_filtered_t0['icustay_id'].isin(testidx)].values)\n",
    "X1 = torch.FloatTensor(MIMICraw_t1.loc[MIMICtable_filtered_t0['icustay_id'].isin(trainidx)].values)\n",
    "Xtest1 = torch.FloatTensor(MIMICraw_t1[MIMICtable_filtered_t0['icustay_id'].isin(testidx)].values)\n",
    "A0 = (torch.FloatTensor(MIMICtable_filtered_t0.loc[MIMICtable_filtered_t0['icustay_id'].isin(trainidx), 'A'].values)-1)/24\n",
    "Atest0 = (torch.FloatTensor(MIMICtable_filtered_t0.loc[MIMICtable_filtered_t0['icustay_id'].isin(testidx), 'A'].values)-1)/24\n",
    "\n",
    "Y = torch.tensor(MIMICtable_filtered_t1.loc[MIMICtable_filtered_t0['icustay_id'].isin(trainidx), 'A'].values).to(torch.long)-1\n",
    "Ytest = torch.tensor(MIMICtable_filtered_t1.loc[MIMICtable_filtered_t0['icustay_id'].isin(testidx), 'A'].values).to(torch.long)-1\n",
    "train = data_utils.TensorDataset(torch.column_stack((X0,X1,A0)), Y)\n",
    "# train = data_utils.TensorDataset(X0, (A0*24).to(torch.long))\n",
    "trainloader = torch.utils.data.DataLoader(train, batch_size=32)\n",
    "# test = data_utils.TensorDataset(Xtest0, (Atest0*24).to(torch.long))\n",
    "test = data_utils.TensorDataset(torch.column_stack((Xtest0, Xtest1, Atest0)), Ytest)\n",
    "testloader = torch.utils.data.DataLoader(test, batch_size=32)\n",
    "\n",
    "loss_func = torch.nn.CrossEntropyLoss()\n",
    "# policy = PolicyNetwork(input_dim=len(MIMICraw_t1.columns), output_dim=25)\n",
    "policy_t1 = PolicyNetwork(input_dim=len(MIMICraw_t0.columns) + len(MIMICraw_t1.columns) + 1, hidden_1_dim=30, output_dim=25)\n",
    "optimizer = torch.optim.SGD(policy_t1.parameters(), lr=0.005)"
   ]
  },
  {
   "cell_type": "code",
   "execution_count": 98,
   "metadata": {},
   "outputs": [
    {
     "name": "stderr",
     "output_type": "stream",
     "text": [
      "100%|██████████| 400/400 [00:19<00:00, 20.25it/s]\n"
     ]
    }
   ],
   "source": [
    "losses = []\n",
    "\n",
    "for epoch in tqdm(range(400)):\n",
    "    for data, label in trainloader:\n",
    "        prediction = policy_t1(data)     # input x and predict based on x\n",
    "        loss = loss_func(prediction, label)     # must be (1. nn output, 2. target)\n",
    "        optimizer.zero_grad()   # clear gradients for next train\n",
    "        loss.backward()         # backpropagation, compute gradients\n",
    "        optimizer.step()        # apply gradients\n",
    "    if (epoch + 1) % 10 == 0:\n",
    "        with torch.no_grad():\n",
    "            test_loss = 0\n",
    "            for test_data, test_label in testloader:\n",
    "                test_loss += loss_func(policy_t1(test_data), test_label)\n",
    "            losses.append(test_loss.item()/len(testloader))"
   ]
  },
  {
   "cell_type": "code",
   "execution_count": 99,
   "metadata": {},
   "outputs": [
    {
     "data": {
      "text/plain": [
       "[<matplotlib.lines.Line2D at 0x7fd216e30460>]"
      ]
     },
     "execution_count": 99,
     "metadata": {},
     "output_type": "execute_result"
    },
    {
     "data": {
      "image/png": "[encoded data removed]",
      "text/plain": [
       "<Figure size 432x288 with 1 Axes>"
      ]
     },
     "metadata": {
      "needs_background": "light"
     },
     "output_type": "display_data"
    }
   ],
   "source": [
    "plt.plot(losses)"
   ]
  },
  {
   "cell_type": "code",
   "execution_count": 100,
   "metadata": {},
   "outputs": [
    {
     "name": "stdout",
     "output_type": "stream",
     "text": [
      "Accuracy of the policy network: 50 %\n"
     ]
    }
   ],
   "source": [
    "correct = 0\n",
    "total = 0\n",
    "# since we're not training, we don't need to calculate the gradients for our outputs\n",
    "with torch.no_grad():\n",
    "    outputs = policy_t1(torch.column_stack((Xtest0, Xtest1, Atest0)))\n",
    "#     outputs = policy(Xtest0)\n",
    "    # the class with the highest energy is what we choose as prediction\n",
    "    _, predicted = torch.max(outputs.data, 1)\n",
    "#     predicted = Categorical(softmax(outputs)).sample()\n",
    "    total += Xtest0.size(0)\n",
    "    correct += (predicted == Ytest).sum().item()\n",
    "\n",
    "print('Accuracy of the policy network: %d %%' % (\n",
    "    100 * correct / total))"
   ]
  },
  {
   "cell_type": "markdown",
   "metadata": {},
   "source": [
    "# Augmenting patient data with $A_1$"
   ]
  },
  {
   "cell_type": "code",
   "execution_count": 101,
   "metadata": {},
   "outputs": [],
   "source": [
    "with torch.no_grad():\n",
    "    X0 = torch.FloatTensor(MIMICraw_resampled[x_columns].values)\n",
    "    X1 = torch.FloatTensor(MIMICraw_resampled_t1[x_columns].values)\n",
    "    A0 = torch.FloatTensor(MIMICraw_resampled['A'].values)\n",
    "    inp = torch.column_stack((X0, X1, A0))\n",
    "    outputs = policy_t1(inp)\n",
    "#     predicted = Categorical(softmax(outputs)).sample()\n",
    "    _, predicted = torch.max(outputs.data, 1)\n",
    "\n",
    "MIMICraw_resampled_t1['A'] = predicted.numpy()+1"
   ]
  },
  {
   "cell_type": "code",
   "execution_count": 112,
   "metadata": {},
   "outputs": [
    {
     "data": {
      "text/plain": [
       "7702"
      ]
     },
     "execution_count": 112,
     "metadata": {},
     "output_type": "execute_result"
    }
   ],
   "source": [
    "(MIMICraw_resampled_t1['A']==25).sum()"
   ]
  },
  {
   "cell_type": "code",
   "execution_count": 110,
   "metadata": {},
   "outputs": [
    {
     "data": {
      "text/plain": [
       "32"
      ]
     },
     "execution_count": 110,
     "metadata": {},
     "output_type": "execute_result"
    }
   ],
   "source": [
    "(MIMICtable_filtered_t1['A']==25).sum()"
   ]
  },
  {
   "cell_type": "markdown",
   "metadata": {},
   "source": [
    "# Regressing $\\mathbb{E}[Y^{min}\\mid x,a]$"
   ]
  },
  {
   "cell_type": "code",
   "execution_count": 22,
   "metadata": {},
   "outputs": [],
   "source": [
    "import torch\n",
    "from torch.autograd import Variable\n",
    "import torch.nn.functional as F\n",
    "import torch.utils.data as Data\n",
    "\n",
    "\n",
    "class QuantileNet(torch.nn.Module):\n",
    "    def __init__(self, n_feature, n_hidden, n_output):\n",
    "        super(QuantileNet, self).__init__()\n",
    "        self.hidden = torch.nn.Linear(n_feature, n_hidden)   # hidden layer\n",
    "        self.predict = torch.nn.Linear(n_hidden, n_output)   # output layer\n",
    "        self.tanh = torch.nn.Tanh()\n",
    "\n",
    "    def forward(self, x):\n",
    "        x = self.tanh(self.hidden(x))      # activation function for hidden layer\n",
    "        x = self.predict(x)             # linear output\n",
    "        return x"
   ]
  },
  {
   "cell_type": "code",
   "execution_count": 120,
   "metadata": {},
   "outputs": [],
   "source": [
    "class PinballLoss():\n",
    "    def __init__(self, quantile=0.10, reduction='none'):\n",
    "        self.quantile = quantile\n",
    "        assert 0 < self.quantile\n",
    "        assert self.quantile < 1\n",
    "        self.reduction = reduction\n",
    "\n",
    "    def __call__(self, output, target):\n",
    "        assert output.shape == target.shape\n",
    "        loss = torch.zeros_like(target, dtype=torch.float)\n",
    "        error = output - target\n",
    "        smaller_index = error < 0\n",
    "        bigger_index = 0 < error\n",
    "        loss[smaller_index] = self.quantile * (abs(error)[smaller_index])\n",
    "        loss[bigger_index] = (1-self.quantile) * (abs(error)[bigger_index])\n",
    "\n",
    "        if self.reduction == 'sum':\n",
    "            loss = loss.sum()\n",
    "        if self.reduction == 'mean':\n",
    "            loss = loss.mean()\n",
    "\n",
    "        return loss"
   ]
  },
  {
   "cell_type": "code",
   "execution_count": 121,
   "metadata": {},
   "outputs": [
    {
     "name": "stderr",
     "output_type": "stream",
     "text": [
      "100%|██████████| 2/2 [00:27<00:00, 13.58s/it]\n"
     ]
    }
   ],
   "source": [
    "for model in tqdm(range(nr_reps)):\n",
    "    grp = np.floor(5*np.random.rand(len(icuuniqueids))+1)\n",
    "    crossval = 1\n",
    "    trainidx = icuuniqueids[grp != crossval]\n",
    "    testidx = icuuniqueids[grp == crossval]\n",
    "    X = torch.FloatTensor(MIMICraw_t0.loc[MIMICtable_filtered_t0['icustay_id'].isin(trainidx)].values)\n",
    "    Xtestmimic = torch.FloatTensor(MIMICraw_t0[MIMICtable_filtered_t0['icustay_id'].isin(testidx)].values)\n",
    "    ptid = MIMICtable_filtered_t0.loc[MIMICtable_filtered_t0['icustay_id'].isin(trainidx), 'icustay_id']\n",
    "    ptidtestmimic = MIMICtable_filtered_t0.loc[MIMICtable_filtered_t0['icustay_id'].isin(testidx), 'icustay_id']\n",
    "    Y = torch.FloatTensor(MIMICtable_filtered_t1.loc[MIMICtable_filtered_t0['icustay_id'].isin(trainidx), f'{col_name}'].values).unsqueeze(dim=1)\n",
    "    Ytest = torch.FloatTensor(MIMICtable_filtered_t1.loc[MIMICtable_filtered_t0['icustay_id'].isin(testidx), f'{col_name}'].values).unsqueeze(dim=1)\n",
    "\n",
    "    Y = (Y - MIMICtable[col_name].mean())/MIMICtable[col_name].std()\n",
    "    Ytest = (Ytest - MIMICtable[col_name].mean())/MIMICtable[col_name].std()\n",
    "\n",
    "    train = data_utils.TensorDataset(X, Y)\n",
    "    trainloader = torch.utils.data.DataLoader(train, batch_size=32)\n",
    "    test = data_utils.TensorDataset(Xtestmimic, Ytest)\n",
    "    testloader = torch.utils.data.DataLoader(test, batch_size=32)\n",
    "\n",
    "    quantile_net = QuantileNet(n_feature=len(MIMICraw_t0.columns), n_hidden=10, n_output=1)\n",
    "    optimizer = torch.optim.SGD(quantile_net.parameters(), lr=0.001)\n",
    "    loss_func = PinballLoss(quantile=0.001, reduction='mean')\n",
    "    for epoch in range(200):\n",
    "        for X, Y in trainloader:\n",
    "            prediction = quantile_net(X)     # input x and predict based on x\n",
    "\n",
    "            loss = loss_func(prediction, Y)     # must be (1. nn output, 2. target)\n",
    "\n",
    "            optimizer.zero_grad()   # clear gradients for next train\n",
    "            loss.backward()         # backpropagation, compute gradients\n",
    "            optimizer.step()        # apply gradients\n",
    "    \n",
    "    torch.save(quantile_net.state_dict(), f'{models_dir}/ymin_{model}')"
   ]
  },
  {
   "cell_type": "code",
   "execution_count": 122,
   "metadata": {},
   "outputs": [],
   "source": [
    "quantile_net = QuantileNet(n_feature=len(MIMICraw_t0.columns), n_hidden=10, n_output=1)\n",
    "optimizer = torch.optim.SGD(quantile_net.parameters(), lr=0.001)\n",
    "loss_func = PinballLoss(quantile=0.001, reduction='mean')"
   ]
  },
  {
   "cell_type": "code",
   "execution_count": 123,
   "metadata": {},
   "outputs": [
    {
     "name": "stderr",
     "output_type": "stream",
     "text": [
      "100%|██████████| 200/200 [00:15<00:00, 12.99it/s]\n"
     ]
    }
   ],
   "source": [
    "# train the network\n",
    "grp = np.floor(5*np.random.rand(len(icuuniqueids))+1)\n",
    "crossval = 1\n",
    "trainidx = icuuniqueids[grp != crossval]\n",
    "testidx = icuuniqueids[grp == crossval]\n",
    "X = torch.FloatTensor(MIMICraw_t0.loc[MIMICtable_filtered_t0['icustay_id'].isin(trainidx)].values)\n",
    "Xtestmimic = torch.FloatTensor(MIMICraw_t0[MIMICtable_filtered_t0['icustay_id'].isin(testidx)].values)\n",
    "ptid = MIMICtable_filtered_t0.loc[MIMICtable_filtered_t0['icustay_id'].isin(trainidx), 'icustay_id']\n",
    "ptidtestmimic = MIMICtable_filtered_t0.loc[MIMICtable_filtered_t0['icustay_id'].isin(testidx), 'icustay_id']\n",
    "Y = torch.FloatTensor(MIMICtable_filtered_t1.loc[MIMICtable_filtered_t0['icustay_id'].isin(trainidx), f'{col_name}'].values).unsqueeze(dim=1)\n",
    "Ytest = torch.FloatTensor(MIMICtable_filtered_t1.loc[MIMICtable_filtered_t0['icustay_id'].isin(testidx), f'{col_name}'].values).unsqueeze(dim=1)\n",
    "\n",
    "Y = (Y - MIMICtable[col_name].mean())/MIMICtable[col_name].std()\n",
    "Ytest = (Ytest - MIMICtable[col_name].mean())/MIMICtable[col_name].std()\n",
    "\n",
    "train = data_utils.TensorDataset(X, Y)\n",
    "trainloader = torch.utils.data.DataLoader(train, batch_size=32)\n",
    "test = data_utils.TensorDataset(Xtestmimic, Ytest)\n",
    "testloader = torch.utils.data.DataLoader(test, batch_size=32)\n",
    "\n",
    "quantile_net = QuantileNet(n_feature=len(MIMICraw_t0.columns), n_hidden=10, n_output=1)\n",
    "optimizer = torch.optim.SGD(quantile_net.parameters(), lr=0.001)\n",
    "loss_func = PinballLoss(quantile=0.001, reduction='mean')    \n",
    "\n",
    "# train the network\n",
    "losses = []\n",
    "for epoch in tqdm(range(200)):\n",
    "    for X, Y in trainloader:\n",
    "        prediction = quantile_net(X)     # input x and predict based on x\n",
    "\n",
    "        loss = loss_func(prediction, Y)     # must be (1. nn output, 2. target)\n",
    "\n",
    "        optimizer.zero_grad()   # clear gradients for next train\n",
    "        loss.backward()         # backpropagation, compute gradients\n",
    "        optimizer.step()        # apply gradients\n",
    "    with torch.no_grad():\n",
    "        test_loss = 0\n",
    "        for Xtest, Ytest in testloader:\n",
    "            test_loss += loss_func(quantile_net(Xtest), Ytest)\n",
    "        test_loss = test_loss/len(testloader)\n",
    "        losses.append(test_loss.item())\n"
   ]
  },
  {
   "cell_type": "code",
   "execution_count": 124,
   "metadata": {},
   "outputs": [
    {
     "data": {
      "text/plain": [
       "0.009511603973805904"
      ]
     },
     "execution_count": 124,
     "metadata": {},
     "output_type": "execute_result"
    },
    {
     "data": {
      "image/png": "[encoded data removed]",
      "text/plain": [
       "<Figure size 432x288 with 1 Axes>"
      ]
     },
     "metadata": {
      "needs_background": "light"
     },
     "output_type": "display_data"
    }
   ],
   "source": [
    "plt.plot(losses)\n",
    "losses[-1]"
   ]
  },
  {
   "cell_type": "code",
   "execution_count": 125,
   "metadata": {},
   "outputs": [
    {
     "name": "stdout",
     "output_type": "stream",
     "text": [
      "Calcium val at t=0 tensor(76.2175)\n",
      "Calcium min val at t=1 tensor([59.4485], grad_fn=<AddBackward0>)\n"
     ]
    }
   ],
   "source": [
    "action = 1\n",
    "row = 1\n",
    "action_tensor = torch.FloatTensor(((action-1)/24,))\n",
    "print(f'{col_name} val at t=0', Xtestmimic[row,x_columns.index(col_name)]*MIMICtable[col_name].std() + MIMICtable[col_name].mean())\n",
    "print(f'{col_name} min val at t=1', quantile_net(Xtestmimic[row,:])*MIMICtable[col_name].std() + MIMICtable[col_name].mean())"
   ]
  },
  {
   "cell_type": "code",
   "execution_count": 126,
   "metadata": {},
   "outputs": [
    {
     "data": {
      "text/plain": [
       "84.0"
      ]
     },
     "execution_count": 126,
     "metadata": {},
     "output_type": "execute_result"
    }
   ],
   "source": [
    "MIMICtable[col_name].median()"
   ]
  },
  {
   "cell_type": "markdown",
   "metadata": {},
   "source": [
    "# Regressing $\\mathbb{E}[Y^{max}\\mid x,a]$"
   ]
  },
  {
   "cell_type": "code",
   "execution_count": 127,
   "metadata": {},
   "outputs": [
    {
     "name": "stderr",
     "output_type": "stream",
     "text": [
      "100%|██████████| 2/2 [00:27<00:00, 13.94s/it]\n"
     ]
    }
   ],
   "source": [
    "for model in tqdm(range(nr_reps)):\n",
    "    grp = np.floor(5*np.random.rand(len(icuuniqueids))+1)\n",
    "    crossval = 1\n",
    "    trainidx = icuuniqueids[grp != crossval]\n",
    "    testidx = icuuniqueids[grp == crossval]\n",
    "    X = torch.FloatTensor(MIMICraw_t0.loc[MIMICtable_filtered_t0['icustay_id'].isin(trainidx)].values)\n",
    "    Xtestmimic = torch.FloatTensor(MIMICraw_t0[MIMICtable_filtered_t0['icustay_id'].isin(testidx)].values)\n",
    "    ptid = MIMICtable_filtered_t0.loc[MIMICtable_filtered_t0['icustay_id'].isin(trainidx), 'icustay_id']\n",
    "    ptidtestmimic = MIMICtable_filtered_t0.loc[MIMICtable_filtered_t0['icustay_id'].isin(testidx), 'icustay_id']\n",
    "    Y = torch.FloatTensor(MIMICtable_filtered_t1.loc[MIMICtable_filtered_t0['icustay_id'].isin(trainidx), f'{col_name}'].values).unsqueeze(dim=1)\n",
    "    Ytest = torch.FloatTensor(MIMICtable_filtered_t1.loc[MIMICtable_filtered_t0['icustay_id'].isin(testidx), f'{col_name}'].values).unsqueeze(dim=1)\n",
    "\n",
    "    Y = (Y - MIMICtable[col_name].mean())/MIMICtable[col_name].std()\n",
    "    Ytest = (Ytest - MIMICtable[col_name].mean())/MIMICtable[col_name].std()\n",
    "\n",
    "    train = data_utils.TensorDataset(X, Y)\n",
    "    trainloader = torch.utils.data.DataLoader(train, batch_size=32)\n",
    "    test = data_utils.TensorDataset(Xtestmimic, Ytest)\n",
    "    testloader = torch.utils.data.DataLoader(test, batch_size=32)\n",
    "\n",
    "    quantile_net = QuantileNet(n_feature=len(MIMICraw_t0.columns), n_hidden=10, n_output=1)\n",
    "    optimizer = torch.optim.SGD(quantile_net.parameters(), lr=0.001)\n",
    "    loss_func = PinballLoss(quantile=0.999, reduction='mean')\n",
    "    for epoch in range(200):\n",
    "        for X, Y in trainloader:\n",
    "            prediction = quantile_net(X)     # input x and predict based on x\n",
    "\n",
    "            loss = loss_func(prediction, Y)     # must be (1. nn output, 2. target)\n",
    "\n",
    "            optimizer.zero_grad()   # clear gradients for next train\n",
    "            loss.backward()         # backpropagation, compute gradients\n",
    "            optimizer.step()        # apply gradients\n",
    "    \n",
    "    torch.save(quantile_net.state_dict(), f'{models_dir}/ymax_{model}')"
   ]
  },
  {
   "cell_type": "code",
   "execution_count": 128,
   "metadata": {},
   "outputs": [],
   "source": [
    "quantile_net = QuantileNet(n_feature=len(MIMICraw_t0.columns), n_hidden=10, n_output=1)\n",
    "optimizer = torch.optim.SGD(quantile_net.parameters(), lr=0.001)\n",
    "loss_func = PinballLoss(quantile=0.999, reduction='mean')"
   ]
  },
  {
   "cell_type": "code",
   "execution_count": 129,
   "metadata": {},
   "outputs": [
    {
     "name": "stderr",
     "output_type": "stream",
     "text": [
      "100%|██████████| 200/200 [00:15<00:00, 12.64it/s]\n"
     ]
    }
   ],
   "source": [
    "# train the network\n",
    "losses = []\n",
    "for epoch in tqdm(range(200)):\n",
    "    for X, Y in trainloader:\n",
    "        prediction = quantile_net(X)     # input x and predict based on x\n",
    "\n",
    "        loss = loss_func(prediction, Y)     # must be (1. nn output, 2. target)\n",
    "\n",
    "        optimizer.zero_grad()   # clear gradients for next train\n",
    "        loss.backward()         # backpropagation, compute gradients\n",
    "        optimizer.step()        # apply gradients\n",
    "    with torch.no_grad():\n",
    "        test_loss = 0\n",
    "        for Xtest, Ytest in testloader:\n",
    "            test_loss += loss_func(quantile_net(Xtest), Ytest)\n",
    "        test_loss = test_loss/len(testloader)\n",
    "        losses.append(test_loss.item())"
   ]
  },
  {
   "cell_type": "code",
   "execution_count": 130,
   "metadata": {},
   "outputs": [
    {
     "data": {
      "text/plain": [
       "0.01057497225701809"
      ]
     },
     "execution_count": 130,
     "metadata": {},
     "output_type": "execute_result"
    },
    {
     "data": {
      "image/png": "[encoded data removed]",
      "text/plain": [
       "<Figure size 432x288 with 1 Axes>"
      ]
     },
     "metadata": {
      "needs_background": "light"
     },
     "output_type": "display_data"
    }
   ],
   "source": [
    "plt.plot(losses)\n",
    "losses[-1]"
   ]
  },
  {
   "cell_type": "code",
   "execution_count": 131,
   "metadata": {},
   "outputs": [
    {
     "name": "stdout",
     "output_type": "stream",
     "text": [
      "Calcium val at t=0 tensor(84.8186)\n",
      "Calcium max val at t=1 tensor([111.2641], grad_fn=<AddBackward0>)\n"
     ]
    }
   ],
   "source": [
    "action = 1\n",
    "row = 3\n",
    "action_tensor = torch.FloatTensor(((action-1)/24,))\n",
    "print(f'{col_name} val at t=0', Xtestmimic[row,x_columns.index(col_name)]*MIMICtable[col_name].std() + MIMICtable[col_name].mean())\n",
    "print(f'{col_name} max val at t=1', quantile_net(Xtestmimic[row,:])*MIMICtable[col_name].std() + MIMICtable[col_name].mean())"
   ]
  },
  {
   "cell_type": "markdown",
   "metadata": {},
   "source": [
    "# Regressing $\\mathbb{E}[Y^{sim}(a)\\mid x]$"
   ]
  },
  {
   "cell_type": "code",
   "execution_count": 132,
   "metadata": {},
   "outputs": [
    {
     "name": "stderr",
     "output_type": "stream",
     "text": [
      "100%|██████████| 2/2 [00:15<00:00,  7.76s/it]\n"
     ]
    }
   ],
   "source": [
    "for model in tqdm(range(nr_reps)):\n",
    "    icuuniqueids = pulse_data['icustay_id'].unique()\n",
    "    grp = np.floor(5*np.random.rand(len(icuuniqueids))+1)\n",
    "    crossval = 1\n",
    "    trainidx = icuuniqueids[grp != crossval]\n",
    "    testidx = icuuniqueids[grp == crossval]\n",
    "    X = torch.FloatTensor(pulseraw_t0.loc[pulse_data_t0['icustay_id'].isin(trainidx)].values)\n",
    "    Xtestmimic = torch.FloatTensor(pulseraw_t0[pulse_data_t0['icustay_id'].isin(testidx)].values)\n",
    "    A = (torch.tensor(actionbloc.loc[MIMICtable_filtered_t0['icustay_id'].isin(trainidx), 'action_bloc'].values).to(torch.long)-1)/24\n",
    "    Atest = (torch.tensor(actionbloc.loc[MIMICtable_filtered_t0['icustay_id'].isin(testidx), 'action_bloc'].values).to(torch.long)-1)/24\n",
    "    Y = torch.FloatTensor(pulse_data_t1.loc[pulse_data_t1['icustay_id'].isin(trainidx), f'{col_name}'].values).unsqueeze(dim=1)\n",
    "    Ytest = torch.FloatTensor(pulse_data_t1.loc[pulse_data_t1['icustay_id'].isin(testidx), f'{col_name}'].values).unsqueeze(dim=1)\n",
    "    Y = (Y - MIMICtable[col_name].mean())/MIMICtable[col_name].std()\n",
    "    Ytest = (Ytest - MIMICtable[col_name].mean())/MIMICtable[col_name].std()\n",
    "\n",
    "    train = data_utils.TensorDataset(torch.column_stack((X, A)), Y)\n",
    "    trainloader = torch.utils.data.DataLoader(train, batch_size=32)\n",
    "    test = data_utils.TensorDataset(torch.column_stack((Xtestmimic, Atest)), Ytest)\n",
    "    testloader = torch.utils.data.DataLoader(test, batch_size=32)\n",
    "    \n",
    "    net = Net(n_feature=len(pulseraw_t0.columns) + 1, n_hidden=10, n_output=1)\n",
    "    optimizer = torch.optim.SGD(net.parameters(), lr=0.001, weight_decay=0.1)\n",
    "    loss_func = torch.nn.MSELoss()\n",
    "\n",
    "    for epoch in range(200):\n",
    "        for X, Y in trainloader:\n",
    "            prediction = net(X)     # input x and predict based on x\n",
    "\n",
    "            loss = loss_func(prediction, Y)     # must be (1. nn output, 2. target)\n",
    "\n",
    "            optimizer.zero_grad()   # clear gradients for next train\n",
    "            loss.backward()         # backpropagation, compute gradients\n",
    "            optimizer.step()        # apply gradients\n",
    "    \n",
    "    torch.save(net.state_dict(), f'{models_dir}/ysim_{model}')"
   ]
  },
  {
   "cell_type": "code",
   "execution_count": 17,
   "metadata": {},
   "outputs": [
    {
     "name": "stdout",
     "output_type": "stream",
     "text": [
      "Pulseraw columns: 19\n",
      "MIMICraw columns: 19\n"
     ]
    }
   ],
   "source": [
    "print('pulseraw_t0 columns:', len(pulseraw_t0.columns))\n",
    "print('MIMICraw_t0 columns:', len(MIMICraw_t0.columns))"
   ]
  },
  {
   "cell_type": "code",
   "execution_count": 20,
   "metadata": {},
   "outputs": [],
   "source": [
    "net = Net(n_feature=len(pulseraw_t0.columns) + 1, n_hidden=10, n_output=1)\n",
    "optimizer = torch.optim.SGD(net.parameters(), lr=0.001, weight_decay=0.1)\n",
    "loss_func = torch.nn.MSELoss()"
   ]
  },
  {
   "cell_type": "code",
   "execution_count": 24,
   "metadata": {},
   "outputs": [],
   "source": [
    "icuuniqueids = pulse_data['icustay_id'].unique()\n",
    "grp = np.floor(5*np.random.rand(len(icuuniqueids))+1)\n",
    "crossval = 1\n",
    "trainidx = icuuniqueids[grp != crossval]\n",
    "testidx = icuuniqueids[grp == crossval]\n",
    "X = torch.FloatTensor(pulseraw_t0.loc[pulse_data_t0['icustay_id'].isin(trainidx)].values)\n",
    "Xtestmimic = torch.FloatTensor(pulseraw_t0[pulse_data_t0['icustay_id'].isin(testidx)].values)\n",
    "A = (torch.tensor(actionbloc.loc[MIMICtable_filtered_t0['icustay_id'].isin(trainidx), 'action_bloc'].values).to(torch.long)-1)/24\n",
    "Atest = (torch.tensor(actionbloc.loc[MIMICtable_filtered_t0['icustay_id'].isin(testidx), 'action_bloc'].values).to(torch.long)-1)/24\n",
    "Y = torch.FloatTensor(pulse_data_t1.loc[pulse_data_t1['icustay_id'].isin(trainidx), f'{col_name}'].values).unsqueeze(dim=1)\n",
    "Ytest = torch.FloatTensor(pulse_data_t1.loc[pulse_data_t1['icustay_id'].isin(testidx), f'{col_name}'].values).unsqueeze(dim=1)\n",
    "Y = (Y - MIMICtable[col_name].mean())/MIMICtable[col_name].std()\n",
    "Ytest = (Ytest - MIMICtable[col_name].mean())/MIMICtable[col_name].std()\n",
    "\n",
    "train = data_utils.TensorDataset(torch.column_stack((X, A)), Y)\n",
    "trainloader = torch.utils.data.DataLoader(train, batch_size=32)\n",
    "test = data_utils.TensorDataset(torch.column_stack((Xtestmimic, Atest)), Ytest)\n",
    "testloader = torch.utils.data.DataLoader(test, batch_size=32)\n"
   ]
  },
  {
   "cell_type": "code",
   "execution_count": 25,
   "metadata": {},
   "outputs": [
    {
     "name": "stderr",
     "output_type": "stream",
     "text": [
      "100%|██████████| 200/200 [00:08<00:00, 24.26it/s]\n"
     ]
    }
   ],
   "source": [
    "losses = []\n",
    "for epoch in tqdm(range(200)):\n",
    "    for X, Y in trainloader:\n",
    "        prediction = net(X)     # input x and predict based on x\n",
    "\n",
    "        loss = loss_func(prediction, Y)     # must be (1. nn output, 2. target)\n",
    "\n",
    "        optimizer.zero_grad()   # clear gradients for next train\n",
    "        loss.backward()         # backpropagation, compute gradients\n",
    "        optimizer.step()        # apply gradients\n",
    "    with torch.no_grad():\n",
    "        test_loss = 0\n",
    "        for Xtest, Ytest in testloader:\n",
    "            test_loss += loss_func(net(Xtest), Ytest)\n",
    "        test_loss = test_loss/len(testloader)\n",
    "        losses.append(test_loss.item())\n"
   ]
  },
  {
   "cell_type": "code",
   "execution_count": 26,
   "metadata": {},
   "outputs": [
    {
     "data": {
      "text/plain": [
       "5.211307048797607"
      ]
     },
     "execution_count": 26,
     "metadata": {},
     "output_type": "execute_result"
    },
    {
     "data": {
      "image/png": "[encoded data removed]",
      "text/plain": [
       "<Figure size 432x288 with 1 Axes>"
      ]
     },
     "metadata": {
      "needs_background": "light"
     },
     "output_type": "display_data"
    }
   ],
   "source": [
    "import matplotlib.pyplot as plt\n",
    "plt.plot(losses)\n",
    "losses[-1]"
   ]
  },
  {
   "cell_type": "code",
   "execution_count": 30,
   "metadata": {},
   "outputs": [
    {
     "name": "stdout",
     "output_type": "stream",
     "text": [
      "paCO2 val at t=0 tensor(50.4456)\n",
      "paCO2 val at t=1 tensor([40.0943], grad_fn=<AddBackward0>)\n"
     ]
    }
   ],
   "source": [
    "action = 1\n",
    "row = 1\n",
    "action_tensor = torch.FloatTensor(((action-1)/24,))\n",
    "print(f'{col_name} val at t=0', Xtestmimic[row,x_columns.index(col_name)]*MIMICtable[col_name].std() + MIMICtable[col_name].mean())\n",
    "print(f'{col_name} val at t=1', net(torch.cat((Xtestmimic[row,:], action_tensor)))*MIMICtable[col_name].std() + MIMICtable[col_name].mean())"
   ]
  },
  {
   "cell_type": "markdown",
   "metadata": {},
   "source": [
    "# Computing scores for simulated outcomes using saved models"
   ]
  },
  {
   "cell_type": "code",
   "execution_count": 139,
   "metadata": {},
   "outputs": [],
   "source": [
    "def compute_score(gender, age, col_v, action, col_name, models_dir):\n",
    "    softmax = torch.nn.Softmax(dim=0)\n",
    "    gender = gender - 0.5\n",
    "    age_normalized_sim = (age - pulse_data_combined['age'].mean())/pulse_data_combined['age'].std()\n",
    "    col_normalized_sim = (col_v - pulse_data_t0[f'{col_name}'].mean())/pulse_data_t0[f'{col_name}'].std()\n",
    "    sim_input = torch.FloatTensor((gender, age_normalized_sim, col_normalized_sim))\n",
    "    age_normalized_obs = (age - MIMIC_data_combined['age'].mean())/MIMIC_data_combined['age'].std()\n",
    "    col_normalized_obs = (col_v - MIMICtable_filtered_t0[f'{col_name}'].mean())/MIMICtable_filtered_t0[f'{col_name}'].std()\n",
    "    obs_input = torch.FloatTensor((gender, age_normalized_obs, col_normalized_obs))\n",
    "    action_tensor = torch.FloatTensor(((action-1)/24,))\n",
    "    p = 0\n",
    "    for i in range(nr_reps):\n",
    "        yobs_model = Net(n_feature=4, n_hidden=10, n_output=1)\n",
    "        yobs_model.load_state_dict(torch.load(f'{models_dir}/col_{col_name}/yobs_{i}'))\n",
    "        yobs_model.eval()\n",
    "        ymax_model = Net(n_feature=3, n_hidden=10, n_output=1)\n",
    "        ymax_model.load_state_dict(torch.load(f'{models_dir}/col_{col_name}/ymax_{i}'))\n",
    "        ymax_model.eval()\n",
    "        ymin_model = Net(n_feature=3, n_hidden=10, n_output=1)\n",
    "        ymin_model.load_state_dict(torch.load(f'{models_dir}/col_{col_name}/ymin_{i}'))\n",
    "        ymin_model.eval()\n",
    "        ysim_model = Net(n_feature=4, n_hidden=10, n_output=1)\n",
    "        ysim_model.load_state_dict(torch.load(f'{models_dir}/col_{col_name}/ysim_{i}'))\n",
    "        ysim_model.eval()\n",
    "        policy = PolicyNetwork(input_dim=3, output_dim=25)\n",
    "        policy.load_state_dict(torch.load(f'{models_dir}/col_{col_name}/policy_{i}'))\n",
    "        policy.eval()\n",
    "        prob = softmax(policy(obs_input))[action-1]\n",
    "        lb = prob*yobs_model(torch.cat((obs_input, action_tensor))) + (1-prob)*(ymin_model(obs_input))\n",
    "        ub = prob*yobs_model(torch.cat((obs_input, action_tensor))) + (1-prob)*(ymax_model(obs_input))\n",
    "        sim = ysim_model(torch.cat((sim_input, action_tensor)))\n",
    "        p += int(((lb<=sim)&(sim<=ub)).item())\n",
    "    p = p/nr_reps\n",
    "    return p    "
   ]
  },
  {
   "cell_type": "code",
   "execution_count": 141,
   "metadata": {},
   "outputs": [],
   "source": [
    "models_dir = \"/data/localhost/taufiq/manski_bounds\"\n",
    "col_name = 'Temp_C'\n",
    "compute_score(0, 65, 31, 0, col_name, models_dir)"
   ]
  },
  {
   "cell_type": "code",
   "execution_count": null,
   "metadata": {},
   "outputs": [],
   "source": [
    "pulse_data_t0.head()"
   ]
  },
  {
   "cell_type": "code",
   "execution_count": null,
   "metadata": {},
   "outputs": [],
   "source": [
    "ages = range(18,66)\n",
    "scores = []\n",
    "for age in tqdm(ages):\n",
    "    score = compute_score(0, age, 32, 2)\n",
    "    scores.append(score)"
   ]
  },
  {
   "cell_type": "code",
   "execution_count": null,
   "metadata": {},
   "outputs": [],
   "source": [
    "import matplotlib.pyplot as plt\n",
    "plt.plot(ages, scores)"
   ]
  },
  {
   "cell_type": "code",
   "execution_count": null,
   "metadata": {},
   "outputs": [],
   "source": [
    "temps = range(29,35)\n",
    "scores = []\n",
    "for temp in tqdm(temps):\n",
    "    score = compute_score(0, 40, temp, 1)\n",
    "    scores.append(score)"
   ]
  },
  {
   "cell_type": "code",
   "execution_count": null,
   "metadata": {},
   "outputs": [],
   "source": [
    "plt.plot(temps, scores)"
   ]
  },
  {
   "cell_type": "code",
   "execution_count": null,
   "metadata": {},
   "outputs": [],
   "source": [
    "ages = np.linspace(18,65, num=65-18 + 1)\n",
    "temps = np.linspace(29,36, num=(36-29)*5 + 1)\n",
    "df = pd.DataFrame()\n",
    "for age in tqdm(ages):\n",
    "    for temp in temps:\n",
    "        score = compute_score(0, age, temp, 2)\n",
    "        df = df.append({'age': age, 'temp': temp, 'score': score}, ignore_index=True)"
   ]
  },
  {
   "cell_type": "code",
   "execution_count": null,
   "metadata": {},
   "outputs": [],
   "source": [
    "import seaborn as sns\n",
    "from scipy.ndimage.filters import gaussian_filter\n",
    "\n",
    "fig, axs = plt.subplots(1, 1, figsize=(15,12))\n",
    "df_pivot = df.pivot_table(index=\"temp\", columns=\"age\", values=\"score\", aggfunc=np.max)\n",
    "df_pivot_smooth = gaussian_filter(df_pivot, sigma=0.1)\n",
    "sns.heatmap(df_pivot_smooth, vmax=df_pivot.values.max(), xticklabels=ages, yticklabels=temps, vmin=df_pivot.values.min(), ax=axs)\n",
    "plt.show()"
   ]
  },
  {
   "cell_type": "code",
   "execution_count": null,
   "metadata": {},
   "outputs": [],
   "source": [
    "MIMICtable_filtered_t0['HR']"
   ]
  },
  {
   "cell_type": "code",
   "execution_count": null,
   "metadata": {},
   "outputs": [],
   "source": [
    "pulse_data_t0['HR']"
   ]
  },
  {
   "cell_type": "code",
   "execution_count": null,
   "metadata": {},
   "outputs": [],
   "source": []
  }
 ],
 "metadata": {
  "kernelspec": {
   "display_name": "Python 3",
   "language": "python",
   "name": "python3"
  },
  "language_info": {
   "codemirror_mode": {
    "name": "ipython",
    "version": 3
   },
   "file_extension": ".py",
   "mimetype": "text/x-python",
   "name": "python",
   "nbconvert_exporter": "python",
   "pygments_lexer": "ipython3",
   "version": "3.8.10"
  }
 },
 "nbformat": 4,
 "nbformat_minor": 2
}

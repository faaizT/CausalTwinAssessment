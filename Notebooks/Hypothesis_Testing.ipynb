{
 "cells": [
  {
   "cell_type": "markdown",
   "id": "3500b3a3",
   "metadata": {},
   "source": [
    "# Hypothesis Testing using Causal Bounds\n",
    "\n",
    "In this note, we provide a tutorial on how to test the hypothesis for a given set of parameters $(f, a_{1:t}, B_{0:t})$ using our package.   "
   ]
  },
  {
   "cell_type": "code",
   "execution_count": 26,
   "id": "84d8c186",
   "metadata": {},
   "outputs": [],
   "source": [
    "import sys\n",
    "import numpy as np\n",
    "import pandas as pd\n",
    "sys.path.append(\"../\")"
   ]
  },
  {
   "cell_type": "markdown",
   "id": "2551db23",
   "metadata": {},
   "source": [
    "## Observational and Twin data\n",
    "The observational and twin data must be input as pandas dataframes, with columns named `x_t` and `actions` for $x_{0:t}$ and $a'_{1:t}$, where $x_s \\in \\mathcal{X}_s$ and $a'_s\\in \\mathcal{A}_s$, $1\\leq s\\leq t$.  \n",
    "In this example, we use $t=3$ and generate synthetic observational dataset with $X_{s}(a_{1:s}) \\sim \\mathcal{N}_3(\\textbf{0}, I_3)$ and $A_{s} \\sim Bern(0.3)$.  \n",
    "Similarly, in the twin dataset, $\\widehat{X_{s}}(a_{1:s}) \\sim \\mathcal{N}_3(\\textbf{0}, I_3)$  \n",
    "\n",
    "The values $x_{0:3}$ are represented as a $3\\times 3$ numpy array in this example, with `x[t][i]` representing the i'th component of $x_t$, i.e., $(x_t)_i$."
   ]
  },
  {
   "cell_type": "code",
   "execution_count": 27,
   "id": "2671c206",
   "metadata": {},
   "outputs": [],
   "source": [
    "obs_data = pd.DataFrame()\n",
    "n = 1000\n",
    "obs_data['x_t'] = [np.random.multivariate_normal(np.zeros(3), np.eye(3), 3) for i in range(n)]\n",
    "obs_data['actions'] = [np.random.binomial(1, 0.3, 2) for i in range(n)]\n",
    "obs_data['actions'] = obs_data['actions'].apply(tuple)\n",
    "\n",
    "twin_data = pd.DataFrame()\n",
    "ntwin = 1000\n",
    "twin_data['x_t'] = [np.random.multivariate_normal(np.zeros(3), np.eye(3), 3) for i in range(ntwin)]\n",
    "twin_data['actions'] = [np.random.binomial(1, 0.3, 2) for i in range(ntwin)]\n",
    "twin_data['actions'] = twin_data['actions'].apply(tuple)"
   ]
  },
  {
   "cell_type": "code",
   "execution_count": 28,
   "id": "5e8ea6b4",
   "metadata": {
    "scrolled": true
   },
   "outputs": [
    {
     "data": {
      "text/html": [
       "<div>\n",
       "<style scoped>\n",
       "    .dataframe tbody tr th:only-of-type {\n",
       "        vertical-align: middle;\n",
       "    }\n",
       "\n",
       "    .dataframe tbody tr th {\n",
       "        vertical-align: top;\n",
       "    }\n",
       "\n",
       "    .dataframe thead th {\n",
       "        text-align: right;\n",
       "    }\n",
       "</style>\n",
       "<table border=\"1\" class=\"dataframe\">\n",
       "  <thead>\n",
       "    <tr style=\"text-align: right;\">\n",
       "      <th></th>\n",
       "      <th>x_t</th>\n",
       "      <th>actions</th>\n",
       "    </tr>\n",
       "  </thead>\n",
       "  <tbody>\n",
       "    <tr>\n",
       "      <th>0</th>\n",
       "      <td>[[-1.2013163413559835, -0.3352582547475905, -0...</td>\n",
       "      <td>(0, 1)</td>\n",
       "    </tr>\n",
       "    <tr>\n",
       "      <th>1</th>\n",
       "      <td>[[0.4088144475943291, 0.8498443610088673, -0.7...</td>\n",
       "      <td>(0, 1)</td>\n",
       "    </tr>\n",
       "    <tr>\n",
       "      <th>2</th>\n",
       "      <td>[[-2.255554967462267, 1.1279769074220993, -0.7...</td>\n",
       "      <td>(0, 0)</td>\n",
       "    </tr>\n",
       "    <tr>\n",
       "      <th>3</th>\n",
       "      <td>[[0.3200351278516171, 0.18608889980133275, -0....</td>\n",
       "      <td>(0, 0)</td>\n",
       "    </tr>\n",
       "    <tr>\n",
       "      <th>4</th>\n",
       "      <td>[[0.6500042440570434, 1.6062653563770095, 0.61...</td>\n",
       "      <td>(1, 0)</td>\n",
       "    </tr>\n",
       "  </tbody>\n",
       "</table>\n",
       "</div>"
      ],
      "text/plain": [
       "                                                 x_t actions\n",
       "0  [[-1.2013163413559835, -0.3352582547475905, -0...  (0, 1)\n",
       "1  [[0.4088144475943291, 0.8498443610088673, -0.7...  (0, 1)\n",
       "2  [[-2.255554967462267, 1.1279769074220993, -0.7...  (0, 0)\n",
       "3  [[0.3200351278516171, 0.18608889980133275, -0....  (0, 0)\n",
       "4  [[0.6500042440570434, 1.6062653563770095, 0.61...  (1, 0)"
      ]
     },
     "execution_count": 28,
     "metadata": {},
     "output_type": "execute_result"
    }
   ],
   "source": [
    "obs_data.head()"
   ]
  },
  {
   "cell_type": "markdown",
   "id": "de713273",
   "metadata": {},
   "source": [
    "## Obtaining the $p$-values.\n",
    "\n",
    "To run the hypothesis testing procedure, we use the function `test_hypothesis` which has the following signature:  \n",
    "`test_hypothesis(obs_data, twin_data, f, at, xt_in_bt, ylo, yup, hoeffdings, reverse_percentile)`  \n",
    "\n",
    "`f` is a callable which maps $x_{0:t}$ to the outcome, i.e. $Y = f(x_{0:t})$.  \n",
    "`at` is the action sequence $a_{1:t}$ for which hypothesis is to be tested.  \n",
    "`xt_in_bt` is a callable which outputs the boolean: $\\texttt{xt_in_bt}(x_{0:s}) = \\mathbb{1}(x_{0:s} \\in B_{0:s})\\texttt{True} + \\mathbb{1}(x_{0:s} \\notin B_{0:s})\\texttt{False}$, for $1\\leq s \\leq t$.  \n",
    "`ylo`, `yup` are $y_{\\text{lo}}, y_{\\text{up}}$ respectively.  \n",
    "`hoeffdings` (boolean): if $\\texttt{True}$, use Hoeffding's inequality for hypothesis testing, otherwise use Bootstrapping.  \n",
    "`reverse_percentile` (boolean): if $\\texttt{True}$ and `hoeffdings = False`, use reverse percentile method for hypothesis testing, otherwise use percentile method.  \n",
    "\n",
    "<b>Return: $p_{\\text{lo}}, p_{\\text{up}}, \\texttt{bootstrapping distribution dataframe}$ </b> "
   ]
  },
  {
   "cell_type": "code",
   "execution_count": 67,
   "id": "65f79a5f",
   "metadata": {},
   "outputs": [],
   "source": [
    "ylo = -1.5\n",
    "yup = 1.5\n",
    "f = lambda x: np.clip(x[2][2], ylo, yup)\n",
    "at = (0, 0)\n",
    "xt_in_bt = lambda x: np.sum(x > 0)\n"
   ]
  },
  {
   "cell_type": "code",
   "execution_count": 68,
   "id": "bb929e5d",
   "metadata": {},
   "outputs": [],
   "source": [
    "from causal_bounds.hypothesis_testing import test_hypothesis"
   ]
  },
  {
   "cell_type": "markdown",
   "id": "71457ade",
   "metadata": {},
   "source": [
    "### Results using Heoffding's inequality"
   ]
  },
  {
   "cell_type": "code",
   "execution_count": 69,
   "id": "b874092e",
   "metadata": {},
   "outputs": [
    {
     "name": "stdout",
     "output_type": "stream",
     "text": [
      "p_{lo} = 1 | p_{up} = 1\n"
     ]
    }
   ],
   "source": [
    "plo, pup, df = test_hypothesis(obs_data, twin_data, f, at, xt_in_bt, ylo, yup, hoeffdings=True)\n",
    "print(f\"p_{{lo}} = {plo} | p_{{up}} = {pup}\")"
   ]
  },
  {
   "cell_type": "markdown",
   "id": "6380b7ae",
   "metadata": {},
   "source": [
    "### Results using Reverse percentile bootstrap"
   ]
  },
  {
   "cell_type": "code",
   "execution_count": 70,
   "id": "95814334",
   "metadata": {},
   "outputs": [
    {
     "name": "stdout",
     "output_type": "stream",
     "text": [
      "p_{lo} = 1 | p_{up} = 1\n"
     ]
    }
   ],
   "source": [
    "plo, pup, bootstrap_distributions = test_hypothesis(obs_data, twin_data, f, at, xt_in_bt, ylo, yup, hoeffdings=False, reverse_percentile=True)\n",
    "print(f\"p_{{lo}} = {plo} | p_{{up}} = {pup}\")"
   ]
  },
  {
   "cell_type": "code",
   "execution_count": 71,
   "id": "e64f86b7",
   "metadata": {},
   "outputs": [
    {
     "data": {
      "text/html": [
       "<div>\n",
       "<style scoped>\n",
       "    .dataframe tbody tr th:only-of-type {\n",
       "        vertical-align: middle;\n",
       "    }\n",
       "\n",
       "    .dataframe tbody tr th {\n",
       "        vertical-align: top;\n",
       "    }\n",
       "\n",
       "    .dataframe thead th {\n",
       "        text-align: right;\n",
       "    }\n",
       "</style>\n",
       "<table border=\"1\" class=\"dataframe\">\n",
       "  <thead>\n",
       "    <tr style=\"text-align: right;\">\n",
       "      <th></th>\n",
       "      <th>Qobs</th>\n",
       "      <th>Qlo</th>\n",
       "      <th>Qup</th>\n",
       "      <th>Qobs_all_data</th>\n",
       "      <th>Qtwin</th>\n",
       "      <th>Qtwin_all_data</th>\n",
       "      <th>ylo</th>\n",
       "      <th>yup</th>\n",
       "      <th>Qlo_all_data</th>\n",
       "      <th>Qup_all_data</th>\n",
       "    </tr>\n",
       "  </thead>\n",
       "  <tbody>\n",
       "    <tr>\n",
       "      <th>0</th>\n",
       "      <td>0.283080</td>\n",
       "      <td>-0.193224</td>\n",
       "      <td>0.994776</td>\n",
       "      <td>0.247302</td>\n",
       "      <td>0.142155</td>\n",
       "      <td>0.069954</td>\n",
       "      <td>-1.5</td>\n",
       "      <td>1.5</td>\n",
       "      <td>-0.213627</td>\n",
       "      <td>0.977373</td>\n",
       "    </tr>\n",
       "    <tr>\n",
       "      <th>1</th>\n",
       "      <td>0.241203</td>\n",
       "      <td>-0.214662</td>\n",
       "      <td>0.934338</td>\n",
       "      <td>0.247302</td>\n",
       "      <td>0.123667</td>\n",
       "      <td>0.069954</td>\n",
       "      <td>-1.5</td>\n",
       "      <td>1.5</td>\n",
       "      <td>-0.213627</td>\n",
       "      <td>0.977373</td>\n",
       "    </tr>\n",
       "    <tr>\n",
       "      <th>2</th>\n",
       "      <td>0.238863</td>\n",
       "      <td>-0.219433</td>\n",
       "      <td>0.974567</td>\n",
       "      <td>0.247302</td>\n",
       "      <td>0.093913</td>\n",
       "      <td>0.069954</td>\n",
       "      <td>-1.5</td>\n",
       "      <td>1.5</td>\n",
       "      <td>-0.213627</td>\n",
       "      <td>0.977373</td>\n",
       "    </tr>\n",
       "    <tr>\n",
       "      <th>3</th>\n",
       "      <td>0.199496</td>\n",
       "      <td>-0.245339</td>\n",
       "      <td>0.981661</td>\n",
       "      <td>0.247302</td>\n",
       "      <td>0.086621</td>\n",
       "      <td>0.069954</td>\n",
       "      <td>-1.5</td>\n",
       "      <td>1.5</td>\n",
       "      <td>-0.213627</td>\n",
       "      <td>0.977373</td>\n",
       "    </tr>\n",
       "    <tr>\n",
       "      <th>4</th>\n",
       "      <td>0.224527</td>\n",
       "      <td>-0.267472</td>\n",
       "      <td>1.013528</td>\n",
       "      <td>0.247302</td>\n",
       "      <td>-0.021419</td>\n",
       "      <td>0.069954</td>\n",
       "      <td>-1.5</td>\n",
       "      <td>1.5</td>\n",
       "      <td>-0.213627</td>\n",
       "      <td>0.977373</td>\n",
       "    </tr>\n",
       "  </tbody>\n",
       "</table>\n",
       "</div>"
      ],
      "text/plain": [
       "       Qobs       Qlo       Qup  Qobs_all_data     Qtwin  Qtwin_all_data  ylo  \\\n",
       "0  0.283080 -0.193224  0.994776       0.247302  0.142155        0.069954 -1.5   \n",
       "1  0.241203 -0.214662  0.934338       0.247302  0.123667        0.069954 -1.5   \n",
       "2  0.238863 -0.219433  0.974567       0.247302  0.093913        0.069954 -1.5   \n",
       "3  0.199496 -0.245339  0.981661       0.247302  0.086621        0.069954 -1.5   \n",
       "4  0.224527 -0.267472  1.013528       0.247302 -0.021419        0.069954 -1.5   \n",
       "\n",
       "   yup  Qlo_all_data  Qup_all_data  \n",
       "0  1.5     -0.213627      0.977373  \n",
       "1  1.5     -0.213627      0.977373  \n",
       "2  1.5     -0.213627      0.977373  \n",
       "3  1.5     -0.213627      0.977373  \n",
       "4  1.5     -0.213627      0.977373  "
      ]
     },
     "execution_count": 71,
     "metadata": {},
     "output_type": "execute_result"
    }
   ],
   "source": [
    "bootstrap_distributions.head()"
   ]
  },
  {
   "cell_type": "markdown",
   "id": "efd025d3",
   "metadata": {},
   "source": [
    "### Histogram plots of Bootstrap distributions of $Q_{lo}, \\widehat{Q}, Q_{up}$."
   ]
  },
  {
   "cell_type": "code",
   "execution_count": 72,
   "id": "5a5a34ab",
   "metadata": {},
   "outputs": [],
   "source": [
    "import matplotlib.pyplot as plt\n",
    "import seaborn as sns"
   ]
  },
  {
   "cell_type": "code",
   "execution_count": 73,
   "id": "6a4bb504",
   "metadata": {},
   "outputs": [
    {
     "data": {
      "image/png": "[encoded data removed]",
      "text/plain": [
       "<Figure size 720x432 with 1 Axes>"
      ]
     },
     "metadata": {},
     "output_type": "display_data"
    }
   ],
   "source": [
    "plt.style.use('ggplot')\n",
    "\n",
    "fig, axs = plt.subplots(1, 1, figsize=(10,6))\n",
    "axs.hist(bootstrap_distributions['Qlo'], label='$Q_{lo}$', density=True, alpha=0.4, bins='auto', color='blue')\n",
    "axs.hist(bootstrap_distributions['Qtwin'], label='$\\widehat{Q}$', density=True, alpha=0.4, bins='auto', color='red')\n",
    "axs.hist(bootstrap_distributions['Qup'], label='$Q_{up}$', density=True, alpha=0.4, bins='auto', color=sns.color_palette(\"mako\", 10)[5])\n",
    "plt.legend(fontsize=16)\n",
    "title = plt.title(\"Bootstrap distributions\", fontsize=16)\n"
   ]
  },
  {
   "cell_type": "code",
   "execution_count": null,
   "id": "bc2a7bde",
   "metadata": {},
   "outputs": [],
   "source": []
  }
 ],
 "metadata": {
  "kernelspec": {
   "display_name": "Python 3 (ipykernel)",
   "language": "python",
   "name": "python3"
  },
  "language_info": {
   "codemirror_mode": {
    "name": "ipython",
    "version": 3
   },
   "file_extension": ".py",
   "mimetype": "text/x-python",
   "name": "python",
   "nbconvert_exporter": "python",
   "pygments_lexer": "ipython3",
   "version": "3.9.13"
  }
 },
 "nbformat": 4,
 "nbformat_minor": 5
}

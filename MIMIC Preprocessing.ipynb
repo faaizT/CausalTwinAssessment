{
 "cells": [
  {
   "cell_type": "code",
   "execution_count": 1,
   "metadata": {},
   "outputs": [],
   "source": [
    "import pandas as pd\n",
    "from tqdm import tqdm"
   ]
  },
  {
   "cell_type": "code",
   "execution_count": 2,
   "metadata": {},
   "outputs": [],
   "source": [
    "MIMICtable = pd.read_csv(\"/data/localhost/taufiq/export-dir/MIMICtable-1hourly.csv\")\n",
    "MIMICtable['bloc'] = MIMICtable.bloc.astype(int)\n",
    "MIMICtable['icustay_id'] = MIMICtable.icustay_id.astype(int)"
   ]
  },
  {
   "cell_type": "code",
   "execution_count": 3,
   "metadata": {},
   "outputs": [
    {
     "data": {
      "text/html": [
       "<div>\n",
       "<style scoped>\n",
       "    .dataframe tbody tr th:only-of-type {\n",
       "        vertical-align: middle;\n",
       "    }\n",
       "\n",
       "    .dataframe tbody tr th {\n",
       "        vertical-align: top;\n",
       "    }\n",
       "\n",
       "    .dataframe thead th {\n",
       "        text-align: right;\n",
       "    }\n",
       "</style>\n",
       "<table border=\"1\" class=\"dataframe\">\n",
       "  <thead>\n",
       "    <tr style=\"text-align: right;\">\n",
       "      <th></th>\n",
       "      <th>bloc</th>\n",
       "      <th>icustay_id</th>\n",
       "      <th>charttime</th>\n",
       "      <th>gender</th>\n",
       "      <th>age</th>\n",
       "      <th>elixhauser</th>\n",
       "      <th>re_admission</th>\n",
       "      <th>died_in_hosp</th>\n",
       "      <th>died_within_48h_of_out_time</th>\n",
       "      <th>mortality_90d</th>\n",
       "      <th>...</th>\n",
       "      <th>mechvent</th>\n",
       "      <th>Shock_Index</th>\n",
       "      <th>PaO2_FiO2</th>\n",
       "      <th>median_dose_vaso</th>\n",
       "      <th>max_dose_vaso</th>\n",
       "      <th>input_total</th>\n",
       "      <th>input_1hourly</th>\n",
       "      <th>output_total</th>\n",
       "      <th>output_1hourly</th>\n",
       "      <th>cumulated_balance</th>\n",
       "    </tr>\n",
       "  </thead>\n",
       "  <tbody>\n",
       "    <tr>\n",
       "      <th>0</th>\n",
       "      <td>1</td>\n",
       "      <td>3</td>\n",
       "      <td>7.245400e+09</td>\n",
       "      <td>0.0</td>\n",
       "      <td>17639.826435</td>\n",
       "      <td>0.0</td>\n",
       "      <td>0.0</td>\n",
       "      <td>0.0</td>\n",
       "      <td>0.0</td>\n",
       "      <td>1.0</td>\n",
       "      <td>...</td>\n",
       "      <td>0.0</td>\n",
       "      <td>0.663900</td>\n",
       "      <td>599.999991</td>\n",
       "      <td>0.0</td>\n",
       "      <td>0.0</td>\n",
       "      <td>6267.0</td>\n",
       "      <td>0.0</td>\n",
       "      <td>9490.0</td>\n",
       "      <td>4705.0</td>\n",
       "      <td>-3223.0</td>\n",
       "    </tr>\n",
       "    <tr>\n",
       "      <th>1</th>\n",
       "      <td>2</td>\n",
       "      <td>3</td>\n",
       "      <td>7.245403e+09</td>\n",
       "      <td>0.0</td>\n",
       "      <td>17639.826435</td>\n",
       "      <td>0.0</td>\n",
       "      <td>0.0</td>\n",
       "      <td>0.0</td>\n",
       "      <td>0.0</td>\n",
       "      <td>1.0</td>\n",
       "      <td>...</td>\n",
       "      <td>0.0</td>\n",
       "      <td>0.672340</td>\n",
       "      <td>339.999995</td>\n",
       "      <td>0.0</td>\n",
       "      <td>0.0</td>\n",
       "      <td>6277.0</td>\n",
       "      <td>10.0</td>\n",
       "      <td>14095.0</td>\n",
       "      <td>4605.0</td>\n",
       "      <td>-7818.0</td>\n",
       "    </tr>\n",
       "    <tr>\n",
       "      <th>2</th>\n",
       "      <td>3</td>\n",
       "      <td>3</td>\n",
       "      <td>7.245407e+09</td>\n",
       "      <td>0.0</td>\n",
       "      <td>17639.826435</td>\n",
       "      <td>0.0</td>\n",
       "      <td>0.0</td>\n",
       "      <td>0.0</td>\n",
       "      <td>0.0</td>\n",
       "      <td>1.0</td>\n",
       "      <td>...</td>\n",
       "      <td>0.0</td>\n",
       "      <td>0.649789</td>\n",
       "      <td>339.999995</td>\n",
       "      <td>0.0</td>\n",
       "      <td>0.0</td>\n",
       "      <td>6297.0</td>\n",
       "      <td>20.0</td>\n",
       "      <td>18540.0</td>\n",
       "      <td>4445.0</td>\n",
       "      <td>-12243.0</td>\n",
       "    </tr>\n",
       "    <tr>\n",
       "      <th>3</th>\n",
       "      <td>4</td>\n",
       "      <td>3</td>\n",
       "      <td>7.245410e+09</td>\n",
       "      <td>0.0</td>\n",
       "      <td>17639.826435</td>\n",
       "      <td>0.0</td>\n",
       "      <td>0.0</td>\n",
       "      <td>0.0</td>\n",
       "      <td>0.0</td>\n",
       "      <td>1.0</td>\n",
       "      <td>...</td>\n",
       "      <td>0.0</td>\n",
       "      <td>0.634454</td>\n",
       "      <td>339.999995</td>\n",
       "      <td>0.0</td>\n",
       "      <td>0.0</td>\n",
       "      <td>6317.0</td>\n",
       "      <td>20.0</td>\n",
       "      <td>22845.0</td>\n",
       "      <td>4305.0</td>\n",
       "      <td>-16528.0</td>\n",
       "    </tr>\n",
       "    <tr>\n",
       "      <th>4</th>\n",
       "      <td>5</td>\n",
       "      <td>3</td>\n",
       "      <td>7.245414e+09</td>\n",
       "      <td>0.0</td>\n",
       "      <td>17639.826435</td>\n",
       "      <td>0.0</td>\n",
       "      <td>0.0</td>\n",
       "      <td>0.0</td>\n",
       "      <td>0.0</td>\n",
       "      <td>1.0</td>\n",
       "      <td>...</td>\n",
       "      <td>0.0</td>\n",
       "      <td>0.645714</td>\n",
       "      <td>497.499993</td>\n",
       "      <td>0.0</td>\n",
       "      <td>0.0</td>\n",
       "      <td>6337.0</td>\n",
       "      <td>20.0</td>\n",
       "      <td>27050.0</td>\n",
       "      <td>4205.0</td>\n",
       "      <td>-20713.0</td>\n",
       "    </tr>\n",
       "  </tbody>\n",
       "</table>\n",
       "<p>5 rows × 59 columns</p>\n",
       "</div>"
      ],
      "text/plain": [
       "   bloc  icustay_id     charttime  gender           age  elixhauser  \\\n",
       "0     1           3  7.245400e+09     0.0  17639.826435         0.0   \n",
       "1     2           3  7.245403e+09     0.0  17639.826435         0.0   \n",
       "2     3           3  7.245407e+09     0.0  17639.826435         0.0   \n",
       "3     4           3  7.245410e+09     0.0  17639.826435         0.0   \n",
       "4     5           3  7.245414e+09     0.0  17639.826435         0.0   \n",
       "\n",
       "   re_admission  died_in_hosp  died_within_48h_of_out_time  mortality_90d  \\\n",
       "0           0.0           0.0                          0.0            1.0   \n",
       "1           0.0           0.0                          0.0            1.0   \n",
       "2           0.0           0.0                          0.0            1.0   \n",
       "3           0.0           0.0                          0.0            1.0   \n",
       "4           0.0           0.0                          0.0            1.0   \n",
       "\n",
       "   ...  mechvent  Shock_Index   PaO2_FiO2  median_dose_vaso  max_dose_vaso  \\\n",
       "0  ...       0.0     0.663900  599.999991               0.0            0.0   \n",
       "1  ...       0.0     0.672340  339.999995               0.0            0.0   \n",
       "2  ...       0.0     0.649789  339.999995               0.0            0.0   \n",
       "3  ...       0.0     0.634454  339.999995               0.0            0.0   \n",
       "4  ...       0.0     0.645714  497.499993               0.0            0.0   \n",
       "\n",
       "   input_total  input_1hourly  output_total  output_1hourly  cumulated_balance  \n",
       "0       6267.0            0.0        9490.0          4705.0            -3223.0  \n",
       "1       6277.0           10.0       14095.0          4605.0            -7818.0  \n",
       "2       6297.0           20.0       18540.0          4445.0           -12243.0  \n",
       "3       6317.0           20.0       22845.0          4305.0           -16528.0  \n",
       "4       6337.0           20.0       27050.0          4205.0           -20713.0  \n",
       "\n",
       "[5 rows x 59 columns]"
      ]
     },
     "execution_count": 3,
     "metadata": {},
     "output_type": "execute_result"
    }
   ],
   "source": [
    "MIMICtable.head()"
   ]
  },
  {
   "cell_type": "code",
   "execution_count": 4,
   "metadata": {},
   "outputs": [],
   "source": [
    "MIMICtable['Potassium'] = MIMICtable['Potassium']*39.0983\n",
    "MIMICtable['Sodium'] = MIMICtable['Sodium']*22.989769\n",
    "MIMICtable['Chloride'] = MIMICtable['Chloride']*35.45\n",
    "MIMICtable['Glucose'] = MIMICtable['Glucose']*10\n",
    "MIMICtable['Creatinine'] = MIMICtable['Creatinine']*10\n",
    "MIMICtable['Calcium'] = MIMICtable['Calcium']*10\n",
    "MIMICtable['Albumin'] = MIMICtable['Albumin']*10**4\n",
    "MIMICtable['HCO3'] = MIMICtable['HCO3']*61.0168\n",
    "MIMICtable['Arterial_lactate'] = MIMICtable['Arterial_lactate']*90.08\n",
    "MIMICtable['WBC_count'] = MIMICtable['WBC_count']*10**3"
   ]
  },
  {
   "cell_type": "code",
   "execution_count": 5,
   "metadata": {},
   "outputs": [],
   "source": [
    "icustayids = set(MIMICtable['icustay_id'])"
   ]
  },
  {
   "cell_type": "code",
   "execution_count": 6,
   "metadata": {},
   "outputs": [
    {
     "data": {
      "text/plain": [
       "17161"
      ]
     },
     "execution_count": 6,
     "metadata": {},
     "output_type": "execute_result"
    }
   ],
   "source": [
    "len(icustayids)"
   ]
  },
  {
   "cell_type": "code",
   "execution_count": 34,
   "metadata": {},
   "outputs": [],
   "source": [
    "trajectory_length = 5\n",
    "MIMICtable_filtered = MIMICtable[MIMICtable['bloc']<=trajectory_length]"
   ]
  },
  {
   "cell_type": "code",
   "execution_count": 35,
   "metadata": {},
   "outputs": [
    {
     "data": {
      "text/plain": [
       "53852"
      ]
     },
     "execution_count": 35,
     "metadata": {},
     "output_type": "execute_result"
    }
   ],
   "source": [
    "len(MIMICtable_filtered)"
   ]
  },
  {
   "cell_type": "code",
   "execution_count": 36,
   "metadata": {},
   "outputs": [
    {
     "data": {
      "text/plain": [
       "610551"
      ]
     },
     "execution_count": 36,
     "metadata": {},
     "output_type": "execute_result"
    }
   ],
   "source": [
    "len(MIMICtable)"
   ]
  },
  {
   "cell_type": "code",
   "execution_count": 88,
   "metadata": {},
   "outputs": [
    {
     "name": "stderr",
     "output_type": "stream",
     "text": [
      "100%|██████████| 17161/17161 [01:49<00:00, 156.80it/s]\n"
     ]
    }
   ],
   "source": [
    "processed_data = pd.DataFrame()\n",
    "filtered_icustayids = []\n",
    "for icustay_id in tqdm(icustayids):\n",
    "    data = MIMICtable_filtered[MIMICtable_filtered['icustay_id'] == icustay_id]\n",
    "    if len(data) > 0 and set(data['bloc']) == set(range(1,len(data)+1)):\n",
    "        filtered_icustayids.append(icustay_id)\n",
    "        rows = pd.DataFrame([[-1]*len(data.columns)]*(trajectory_length-len(data)), columns=data.columns)\n",
    "        data = data.append(rows, ignore_index=True)\n",
    "        data['icustay_id'] = icustay_id\n",
    "        processed_data = processed_data.append(data, ignore_index=True)"
   ]
  },
  {
   "cell_type": "code",
   "execution_count": 37,
   "metadata": {},
   "outputs": [
    {
     "name": "stderr",
     "output_type": "stream",
     "text": [
      "100%|██████████| 17161/17161 [00:30<00:00, 561.67it/s]\n"
     ]
    }
   ],
   "source": [
    "# Only extract trajectories of length two\n",
    "processed_data = pd.DataFrame()\n",
    "filtered_icustayids = []\n",
    "for icustay_id in tqdm(icustayids):\n",
    "    data = MIMICtable_filtered[MIMICtable_filtered['icustay_id'] == icustay_id]\n",
    "    if len(data) > 0 and set(data['bloc']) == set(range(1,trajectory_length+1)):\n",
    "        filtered_icustayids.append(icustay_id)\n",
    "        processed_data = processed_data.append(data, ignore_index=True)"
   ]
  },
  {
   "cell_type": "code",
   "execution_count": 38,
   "metadata": {},
   "outputs": [
    {
     "data": {
      "text/plain": [
       "6177.0"
      ]
     },
     "execution_count": 38,
     "metadata": {},
     "output_type": "execute_result"
    }
   ],
   "source": [
    "len(processed_data)/5"
   ]
  },
  {
   "cell_type": "code",
   "execution_count": 21,
   "metadata": {},
   "outputs": [],
   "source": [
    "processed_data.head()\n",
    "processed_data['input_total'] = processed_data['input_total'] - processed_data['input_1hourly']"
   ]
  },
  {
   "cell_type": "code",
   "execution_count": 22,
   "metadata": {},
   "outputs": [],
   "source": [
    "processed_data.to_csv(f\"/data/localhost/taufiq/export-dir/MIMIC-1hourly-length-{trajectory_length}.csv\", index=False)"
   ]
  }
 ],
 "metadata": {
  "kernelspec": {
   "display_name": ".venv",
   "language": "python",
   "name": ".venv"
  },
  "language_info": {
   "codemirror_mode": {
    "name": "ipython",
    "version": 3
   },
   "file_extension": ".py",
   "mimetype": "text/x-python",
   "name": "python",
   "nbconvert_exporter": "python",
   "pygments_lexer": "ipython3",
   "version": "3.8.9"
  }
 },
 "nbformat": 4,
 "nbformat_minor": 4
}

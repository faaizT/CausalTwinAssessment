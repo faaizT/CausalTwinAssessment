{
 "cells": [
  {
   "cell_type": "markdown",
   "metadata": {},
   "source": [
    "# Simulator Analysis\n",
    "\n",
    "This note outlines how we can use Plausible Log-likelihood Score to 'debug' what might be wrong with the simulator by visualising trajectories with low PLS and comparing it to simulator trajectories."
   ]
  },
  {
   "cell_type": "code",
   "execution_count": 67,
   "metadata": {},
   "outputs": [],
   "source": [
    "import pandas as pd\n",
    "import numpy as np\n",
    "import matplotlib.pyplot as plt\n",
    "from matplotlib.ticker import FormatStrFormatter"
   ]
  },
  {
   "cell_type": "code",
   "execution_count": 2,
   "metadata": {},
   "outputs": [],
   "source": [
    "results = pd.read_csv('../gms-glucose-diab-missing-run6/output.csv')"
   ]
  },
  {
   "cell_type": "code",
   "execution_count": 7,
   "metadata": {},
   "outputs": [
    {
     "data": {
      "text/html": [
       "<div>\n",
       "<style scoped>\n",
       "    .dataframe tbody tr th:only-of-type {\n",
       "        vertical-align: middle;\n",
       "    }\n",
       "\n",
       "    .dataframe tbody tr th {\n",
       "        vertical-align: top;\n",
       "    }\n",
       "\n",
       "    .dataframe thead th {\n",
       "        text-align: right;\n",
       "    }\n",
       "</style>\n",
       "<table border=\"1\" class=\"dataframe\">\n",
       "  <thead>\n",
       "    <tr style=\"text-align: right;\">\n",
       "      <th></th>\n",
       "      <th>simulator name</th>\n",
       "      <th>test loss</th>\n",
       "    </tr>\n",
       "  </thead>\n",
       "  <tbody>\n",
       "    <tr>\n",
       "      <th>2</th>\n",
       "      <td>vaso_minus1</td>\n",
       "      <td>1.939961</td>\n",
       "    </tr>\n",
       "    <tr>\n",
       "      <th>10</th>\n",
       "      <td>vaso_minus2</td>\n",
       "      <td>2.017786</td>\n",
       "    </tr>\n",
       "    <tr>\n",
       "      <th>8</th>\n",
       "      <td>real</td>\n",
       "      <td>2.027509</td>\n",
       "    </tr>\n",
       "    <tr>\n",
       "      <th>0</th>\n",
       "      <td>antibiotic_minus1</td>\n",
       "      <td>2.043506</td>\n",
       "    </tr>\n",
       "    <tr>\n",
       "      <th>6</th>\n",
       "      <td>vent_minus2</td>\n",
       "      <td>2.053533</td>\n",
       "    </tr>\n",
       "  </tbody>\n",
       "</table>\n",
       "</div>"
      ],
      "text/plain": [
       "       simulator name  test loss\n",
       "2         vaso_minus1   1.939961\n",
       "10        vaso_minus2   2.017786\n",
       "8                real   2.027509\n",
       "0   antibiotic_minus1   2.043506\n",
       "6         vent_minus2   2.053533"
      ]
     },
     "execution_count": 7,
     "metadata": {},
     "output_type": "execute_result"
    }
   ],
   "source": [
    "results.sort_values(by=['test loss'], inplace=True)\n",
    "results.head()"
   ]
  },
  {
   "cell_type": "code",
   "execution_count": 29,
   "metadata": {},
   "outputs": [
    {
     "data": {
      "image/png": "[encoded data removed]",
      "text/plain": [
       "<Figure size 432x288 with 1 Axes>"
      ]
     },
     "metadata": {
      "needs_background": "light"
     },
     "output_type": "display_data"
    }
   ],
   "source": [
    "%matplotlib inline\n",
    "mask = results['simulator name'] == 'real'\n",
    "plt.barh(results['simulator name'], results['test loss'])\n",
    "plt.barh(results['simulator name'][mask], results['test loss'][mask], color='green')\n",
    "plt.xlabel('$-$ Plausible Log-likelihood Score (PLS)')\n",
    "plt.ylabel('Simulators')\n",
    "plt.xlim([1.85, 2.18])\n",
    "plt.show()"
   ]
  },
  {
   "cell_type": "code",
   "execution_count": 30,
   "metadata": {},
   "outputs": [],
   "source": [
    "val_data = pd.read_csv('/data/localhost/taufiq/sontag-sim-validation-data/data.csv')"
   ]
  },
  {
   "cell_type": "code",
   "execution_count": 32,
   "metadata": {},
   "outputs": [
    {
     "data": {
      "text/html": [
       "<div>\n",
       "<style scoped>\n",
       "    .dataframe tbody tr th:only-of-type {\n",
       "        vertical-align: middle;\n",
       "    }\n",
       "\n",
       "    .dataframe tbody tr th {\n",
       "        vertical-align: top;\n",
       "    }\n",
       "\n",
       "    .dataframe thead th {\n",
       "        text-align: right;\n",
       "    }\n",
       "</style>\n",
       "<table border=\"1\" class=\"dataframe\">\n",
       "  <thead>\n",
       "    <tr style=\"text-align: right;\">\n",
       "      <th></th>\n",
       "      <th>hr_state</th>\n",
       "      <th>sysbp_state</th>\n",
       "      <th>percoxyg_state</th>\n",
       "      <th>glucose_state</th>\n",
       "      <th>antibiotic_state</th>\n",
       "      <th>vaso_state</th>\n",
       "      <th>vent_state</th>\n",
       "      <th>diabetic_idx</th>\n",
       "      <th>id</th>\n",
       "      <th>A_t</th>\n",
       "      <th>t</th>\n",
       "    </tr>\n",
       "  </thead>\n",
       "  <tbody>\n",
       "    <tr>\n",
       "      <th>0</th>\n",
       "      <td>2</td>\n",
       "      <td>2</td>\n",
       "      <td>1</td>\n",
       "      <td>0</td>\n",
       "      <td>0</td>\n",
       "      <td>0</td>\n",
       "      <td>0</td>\n",
       "      <td>0</td>\n",
       "      <td>0</td>\n",
       "      <td>6</td>\n",
       "      <td>0</td>\n",
       "    </tr>\n",
       "    <tr>\n",
       "      <th>1</th>\n",
       "      <td>2</td>\n",
       "      <td>1</td>\n",
       "      <td>1</td>\n",
       "      <td>1</td>\n",
       "      <td>1</td>\n",
       "      <td>0</td>\n",
       "      <td>1</td>\n",
       "      <td>0</td>\n",
       "      <td>0</td>\n",
       "      <td>6</td>\n",
       "      <td>1</td>\n",
       "    </tr>\n",
       "    <tr>\n",
       "      <th>2</th>\n",
       "      <td>1</td>\n",
       "      <td>1</td>\n",
       "      <td>1</td>\n",
       "      <td>1</td>\n",
       "      <td>1</td>\n",
       "      <td>0</td>\n",
       "      <td>1</td>\n",
       "      <td>0</td>\n",
       "      <td>0</td>\n",
       "      <td>4</td>\n",
       "      <td>2</td>\n",
       "    </tr>\n",
       "    <tr>\n",
       "      <th>3</th>\n",
       "      <td>1</td>\n",
       "      <td>1</td>\n",
       "      <td>1</td>\n",
       "      <td>1</td>\n",
       "      <td>1</td>\n",
       "      <td>0</td>\n",
       "      <td>0</td>\n",
       "      <td>0</td>\n",
       "      <td>0</td>\n",
       "      <td>4</td>\n",
       "      <td>3</td>\n",
       "    </tr>\n",
       "    <tr>\n",
       "      <th>4</th>\n",
       "      <td>1</td>\n",
       "      <td>1</td>\n",
       "      <td>0</td>\n",
       "      <td>1</td>\n",
       "      <td>1</td>\n",
       "      <td>0</td>\n",
       "      <td>0</td>\n",
       "      <td>0</td>\n",
       "      <td>0</td>\n",
       "      <td>4</td>\n",
       "      <td>4</td>\n",
       "    </tr>\n",
       "  </tbody>\n",
       "</table>\n",
       "</div>"
      ],
      "text/plain": [
       "   hr_state  sysbp_state  percoxyg_state  glucose_state  antibiotic_state  \\\n",
       "0         2            2               1              0                 0   \n",
       "1         2            1               1              1                 1   \n",
       "2         1            1               1              1                 1   \n",
       "3         1            1               1              1                 1   \n",
       "4         1            1               0              1                 1   \n",
       "\n",
       "   vaso_state  vent_state  diabetic_idx  id  A_t  t  \n",
       "0           0           0             0   0    6  0  \n",
       "1           0           1             0   0    6  1  \n",
       "2           0           1             0   0    4  2  \n",
       "3           0           0             0   0    4  3  \n",
       "4           0           0             0   0    4  4  "
      ]
     },
     "execution_count": 32,
     "metadata": {},
     "output_type": "execute_result"
    }
   ],
   "source": [
    "val_data.head()"
   ]
  },
  {
   "cell_type": "code",
   "execution_count": 185,
   "metadata": {},
   "outputs": [],
   "source": [
    "from pyroapi import distributions as dist\n",
    "from pyroapi import handlers, infer, optim, pyro, pyro_backend\n",
    "from pyro.infer.autoguide import AutoDelta\n",
    "from pyro.optim import ClippedAdam\n",
    "from pyro.ops.indexing import Vindex\n",
    "from pyro.util import ignore_jit_warnings\n",
    "import pyro.contrib.examples.polyphonic_data_loader as poly\n",
    "from gumbel_max_sim.GumbelMaxModel import GumbelMaxModel\n",
    "from gumbel_max_sim.utils.ObservationalDataset import ObservationalDataset, cols\n",
    "from pyro.infer.autoguide import AutoDelta\n",
    "from pyro.infer import SVI, Trace_ELBO, TraceEnum_ELBO, config_enumerate, infer_discrete\n",
    "from pyro import poutine\n",
    "import torch"
   ]
  },
  {
   "cell_type": "code",
   "execution_count": 50,
   "metadata": {},
   "outputs": [],
   "source": [
    "from tqdm import tqdm\n",
    "\n",
    "def evaluate(svi, test_loader, use_cuda=False):\n",
    "    # initialize loss accumulator\n",
    "    losses = pd.DataFrame()\n",
    "    # compute the loss over the entire test set\n",
    "    for mini_batch, actions, lengths in tqdm(test_loader):\n",
    "        # if on GPU put mini-batch into CUDA memory\n",
    "        if use_cuda:\n",
    "            mini_batch = mini_batch.cuda()\n",
    "            actions = actions.cuda()\n",
    "            lengths = lengths.cuda()\n",
    "        mini_batch, mini_batch_reversed, mini_batch_mask, mini_batch_seq_lengths \\\n",
    "            = poly.get_mini_batch(torch.arange(mini_batch.size(0)), mini_batch, lengths, cuda=use_cuda)\n",
    "        # compute ELBO estimate and accumulate loss\n",
    "        test_loss = svi.evaluate_loss(\n",
    "            mini_batch.float(), actions.float(), mini_batch_mask.float(), mini_batch_seq_lengths, mini_batch_reversed.float()\n",
    "        )\n",
    "        losses = losses.append({'id': mini_batch[0,0,-1].item(), 'test loss': test_loss}, ignore_index=True)\n",
    "    normalizer_test = len(test_loader.dataset)\n",
    "    return losses"
   ]
  },
  {
   "cell_type": "code",
   "execution_count": 186,
   "metadata": {},
   "outputs": [],
   "source": [
    "def simulator_validation_losses(simulator_name, model_path, data_path):\n",
    "    gumbel_model = GumbelMaxModel(simulator_name=simulator_name)\n",
    "    gumbel_model.load_state_dict(torch.load(model_path))\n",
    "    gumbel_model.eval()\n",
    "    optimizer = ClippedAdam({})\n",
    "    elbo = TraceEnum_ELBO(max_plate_nesting=2, strict_enumeration_warning=True)\n",
    "    guide = AutoDelta(poutine.block(gumbel_model.model))\n",
    "    svi = SVI(gumbel_model.model, guide, optimizer, elbo)\n",
    "    observational_dataset = ObservationalDataset(data_path, xt_columns=cols + ['id'], action_columns=[\"A_t\"])\n",
    "    validation_loader = torch.utils.data.DataLoader(observational_dataset, batch_size=1)\n",
    "    losses = evaluate(svi, validation_loader)\n",
    "    losses.sort_values(by='test loss', ascending=False, inplace=True)\n",
    "    return losses"
   ]
  },
  {
   "cell_type": "code",
   "execution_count": 51,
   "metadata": {},
   "outputs": [],
   "source": [
    "path = '/data/localhost/taufiq/sontag-sim-validation-data/data.csv'\n",
    "model_path = '/data/localhost/taufiq/gms-glucose-diab-missing-run6/gms-run6-sim_antibiotic2/model-state-final'\n",
    "simulator_name = 'antibiotic2'"
   ]
  },
  {
   "cell_type": "code",
   "execution_count": 52,
   "metadata": {},
   "outputs": [
    {
     "name": "stderr",
     "output_type": "stream",
     "text": [
      "100%|██████████| 2000/2000 [09:55<00:00,  3.36it/s]\n"
     ]
    }
   ],
   "source": [
    "losses = simulator_validation_losses(simulator_name, model_path, data_path)"
   ]
  },
  {
   "cell_type": "code",
   "execution_count": 57,
   "metadata": {},
   "outputs": [
    {
     "data": {
      "text/html": [
       "<div>\n",
       "<style scoped>\n",
       "    .dataframe tbody tr th:only-of-type {\n",
       "        vertical-align: middle;\n",
       "    }\n",
       "\n",
       "    .dataframe tbody tr th {\n",
       "        vertical-align: top;\n",
       "    }\n",
       "\n",
       "    .dataframe thead th {\n",
       "        text-align: right;\n",
       "    }\n",
       "</style>\n",
       "<table border=\"1\" class=\"dataframe\">\n",
       "  <thead>\n",
       "    <tr style=\"text-align: right;\">\n",
       "      <th></th>\n",
       "      <th>id</th>\n",
       "      <th>test loss</th>\n",
       "    </tr>\n",
       "  </thead>\n",
       "  <tbody>\n",
       "    <tr>\n",
       "      <th>966</th>\n",
       "      <td>966.0</td>\n",
       "      <td>30.575035</td>\n",
       "    </tr>\n",
       "    <tr>\n",
       "      <th>1928</th>\n",
       "      <td>1928.0</td>\n",
       "      <td>29.237177</td>\n",
       "    </tr>\n",
       "    <tr>\n",
       "      <th>777</th>\n",
       "      <td>777.0</td>\n",
       "      <td>25.918230</td>\n",
       "    </tr>\n",
       "    <tr>\n",
       "      <th>1606</th>\n",
       "      <td>1606.0</td>\n",
       "      <td>25.905191</td>\n",
       "    </tr>\n",
       "    <tr>\n",
       "      <th>1355</th>\n",
       "      <td>1355.0</td>\n",
       "      <td>25.770939</td>\n",
       "    </tr>\n",
       "  </tbody>\n",
       "</table>\n",
       "</div>"
      ],
      "text/plain": [
       "          id  test loss\n",
       "966    966.0  30.575035\n",
       "1928  1928.0  29.237177\n",
       "777    777.0  25.918230\n",
       "1606  1606.0  25.905191\n",
       "1355  1355.0  25.770939"
      ]
     },
     "execution_count": 57,
     "metadata": {},
     "output_type": "execute_result"
    }
   ],
   "source": [
    "losses.head()"
   ]
  },
  {
   "cell_type": "code",
   "execution_count": 182,
   "metadata": {},
   "outputs": [],
   "source": [
    "columns = ['hr_state', 'sysbp_state', 'percoxyg_state', 'antibiotic_state', 'vaso_state', 'vent_state']\n",
    "def plot_trajectory(trajectories):\n",
    "    eps = 0.5\n",
    "    param_dict = {\n",
    "        'hr_state': {\n",
    "            'ticks': ['Low', 'Normal', 'High'],\n",
    "            'vals': [0, 1, 2],\n",
    "            'nrange': [0.75, 1.25],\n",
    "            'ylabel': 'HR'\n",
    "        },\n",
    "        'sysbp_state': {\n",
    "            'ticks': ['Low', 'Normal', 'High'],\n",
    "            'vals': [0, 1, 2],\n",
    "            'nrange': [0.75, 1.25],\n",
    "            'ylabel': 'SysBP'\n",
    "        },\n",
    "        'percoxyg_state': {\n",
    "            'ticks': ['Low', 'Normal'],\n",
    "            'vals': [0, 1],\n",
    "            'nrange': [0.75, 1.25],\n",
    "            'ylabel': 'Pct O2'\n",
    "        },\n",
    "        'glucose_state': {\n",
    "            'ticks': ['V. Low', 'Low', 'Normal', 'High', 'V. High'],\n",
    "            'vals': [0, 1, 2, 3, 4],\n",
    "            'nrange': [1.75, 2.25],\n",
    "            'ylabel': 'Glucose'\n",
    "        },\n",
    "        'antibiotic_state': {\n",
    "            'ticks': ['Off', 'On'],\n",
    "            'vals': [0, 1],\n",
    "            'nrange': None,\n",
    "            'ylabel': 'Tx: Abx'\n",
    "        },\n",
    "        'vaso_state':{\n",
    "            'ticks': ['Off', 'On'],\n",
    "            'vals': [0, 1],\n",
    "            'nrange': None,\n",
    "            'ylabel': 'Tx: Vaso'\n",
    "        },\n",
    "        'vent_state': {\n",
    "            'ticks': ['Off', 'On'],\n",
    "            'vals': [0, 1],\n",
    "            'nrange': None,\n",
    "            'ylabel': 'Tx: Vent'\n",
    "        },\n",
    "    }\n",
    "    fig, axes = plt.subplots(6, 1, sharex=True)\n",
    "    fig.set_size_inches(8, 10)\n",
    "    for i in range(6):\n",
    "        this_col = columns[i]\n",
    "        axes[i].plot(trajectories[0]['t'], trajectories[0][this_col], color='k')\n",
    "        if i < 3:\n",
    "            for j in range(1, len(trajectories)):\n",
    "                axes[i].plot(trajectories[j]['t'], trajectories[j][this_col], color='b')\n",
    "            axes[i].legend(['real', 'simulated'])\n",
    "\n",
    "        # Format the Y-axis according to the variable\n",
    "        axes[i].set_ylabel(param_dict[this_col]['ylabel'])\n",
    "        axes[i].set_yticks(param_dict[this_col]['vals'])\n",
    "        axes[i].set_yticklabels(param_dict[this_col]['ticks'])\n",
    "        axes[i].set_ylim(param_dict[this_col]['vals'][0] - eps,\n",
    "                         param_dict[this_col]['vals'][-1]+ eps)\n",
    "        nrange = param_dict[this_col]['nrange']\n",
    "        \n",
    "        last_time = trajectories[0].shape[0]\n",
    "        axes[i].set_xlim(-0.25, last_time + 0.5)\n",
    "        # Format the X-axis as integers\n",
    "        axes[i].xaxis.set_ticks(np.arange(0, last_time + 2, 2))\n",
    "        axes[i].xaxis.set_major_formatter(FormatStrFormatter('%d'))\n",
    "    return fig, axes\n"
   ]
  },
  {
   "cell_type": "code",
   "execution_count": 159,
   "metadata": {},
   "outputs": [],
   "source": [
    "@infer_discrete(first_available_dim=-1, temperature=0)\n",
    "@config_enumerate\n",
    "def infer_initial_state(model, trajectory):\n",
    "    with torch.no_grad():\n",
    "        s0_diab = pyro.sample(\n",
    "                    f\"s0_diab_state\",\n",
    "                    dist.Categorical(logits=model.s0_diab_logits)\n",
    "                )\n",
    "        s0_hr = pyro.sample(\n",
    "                    f\"s0_hr\",\n",
    "                    dist.Categorical(logits=Vindex(model.s0_hr)[s0_diab, :]),\n",
    "                    obs = torch.FloatTensor(trajectory.loc[trajectory['t'] == 0, 'hr_state'].values)\n",
    "                )\n",
    "        s0_sysbp = pyro.sample(\n",
    "                    f\"s0_sysbp\",\n",
    "                    dist.Categorical(logits=Vindex(model.s0_sysbp)[s0_diab, :]),\n",
    "                    obs = torch.FloatTensor(trajectory.loc[trajectory['t'] == 0, 'sysbp_state'].values)\n",
    "                )\n",
    "        s0_glucose = pyro.sample(\n",
    "                    f\"s0_glucose\",\n",
    "                    dist.Categorical(logits=Vindex(model.s0_glucose)[s0_diab, :])\n",
    "                )\n",
    "        s0_percoxyg = pyro.sample(\n",
    "                    f\"s0_percoxyg\",\n",
    "                    dist.Categorical(logits=Vindex(model.s0_percoxyg)[s0_diab, :]),\n",
    "                    obs = torch.FloatTensor(trajectory.loc[trajectory['t'] == 0, 'percoxyg_state'].values)\n",
    "                )\n",
    "    return s0_diab, s0_hr, s0_sysbp, s0_glucose, s0_percoxyg"
   ]
  },
  {
   "cell_type": "code",
   "execution_count": 160,
   "metadata": {},
   "outputs": [],
   "source": [
    "s0_diab, s0_hr, s0_sysbp, s0_glucose, s0_percoxyg = infer_initial_state(gumbel_model, trajectory)"
   ]
  },
  {
   "cell_type": "code",
   "execution_count": 161,
   "metadata": {},
   "outputs": [],
   "source": [
    "from gumbel_max_sim.utils.State import State\n",
    "from gumbel_max_sim.utils.Action import Action\n",
    "from gumbel_max_sim.utils.Simulators import *\n",
    "mask = torch.ones((1, len(trajectory)+1))\n",
    "with torch.no_grad():\n",
    "    a_prev = Action(action_idx=torch.zeros((1)))\n",
    "    st = State(hr_state=s0_hr, sysbp_state=s0_sysbp, percoxyg_state=s0_percoxyg, glucose_state=s0_glucose, antibiotic_state=a_prev.antibiotic, vaso_state=a_prev.vasopressors, vent_state=a_prev.ventilation, diabetic_idx=s0_diab)\n",
    "    mdp = get_simulator('antibiotic2', st, 'cpu')\n",
    "    simulator_trajectory = pd.DataFrame()\n",
    "    simulator_trajectory = simulator_trajectory.append({'t':0, 'id': trajectory['id'].values[0], 'hr_state': st.hr_state.item(), 'sysbp_state': st.sysbp_state.item(), 'percoxyg_state': st.percoxyg_state.item(), 'antibiotic_state': st.antibiotic_state.item(), 'vaso_state': st.vaso_state.item(), 'vent_state': st.vent_state.item()}, ignore_index=True)\n",
    "    t = 0\n",
    "    for index, row in trajectory.iterrows():\n",
    "        if trajectory.at[index, 'A_t'] == -1:\n",
    "            break\n",
    "        action = Action(torch.Tensor([trajectory.at[index, 'A_t']]))\n",
    "        mdp.transition(action, mask, t+1)\n",
    "        simulator_trajectory = simulator_trajectory.append({'t':t+1, 'id': trajectory['id'].values[0], 'hr_state': st.hr_state.item(), 'sysbp_state': st.sysbp_state.item(), 'percoxyg_state': st.percoxyg_state.item(), 'antibiotic_state': st.antibiotic_state.item(), 'vaso_state': st.vaso_state.item(), 'vent_state': st.vent_state.item()}, ignore_index=True)\n",
    "        t += 1\n",
    "        \n"
   ]
  },
  {
   "cell_type": "code",
   "execution_count": 174,
   "metadata": {},
   "outputs": [],
   "source": [
    "def plot_real_vs_simulated(simulator_model, val_data, pt_id, n_iters=1):\n",
    "    trajectory = val_data[(val_data['id']==pt_id) & (val_data['hr_state'] != -1)]\n",
    "    simulator_trajectories = []\n",
    "    for i in range(n_iters):\n",
    "        s0_diab, s0_hr, s0_sysbp, s0_glucose, s0_percoxyg = infer_initial_state(simulator_model, trajectory)\n",
    "        mask = torch.ones((1, len(trajectory)+1))\n",
    "        with torch.no_grad():\n",
    "            a_prev = Action(action_idx=torch.zeros((1)))\n",
    "            st = State(hr_state=s0_hr, sysbp_state=s0_sysbp, percoxyg_state=s0_percoxyg, glucose_state=s0_glucose, antibiotic_state=a_prev.antibiotic, vaso_state=a_prev.vasopressors, vent_state=a_prev.ventilation, diabetic_idx=s0_diab)\n",
    "            mdp = get_simulator('antibiotic2', st, 'cpu')\n",
    "            simulator_trajectory = pd.DataFrame()\n",
    "            simulator_trajectory = simulator_trajectory.append({'t':0, 'id': trajectory['id'].values[0], 'hr_state': st.hr_state.item(), 'sysbp_state': st.sysbp_state.item(), 'percoxyg_state': st.percoxyg_state.item(), 'antibiotic_state': st.antibiotic_state.item(), 'vaso_state': st.vaso_state.item(), 'vent_state': st.vent_state.item()}, ignore_index=True)\n",
    "            t = 0\n",
    "            for index, row in trajectory.iterrows():\n",
    "                if trajectory.at[index, 'A_t'] == -1:\n",
    "                    break\n",
    "                action = Action(torch.Tensor([trajectory.at[index, 'A_t']]))\n",
    "                mdp.transition(action, mask, t+1)\n",
    "                simulator_trajectory = simulator_trajectory.append({'t':t+1, 'id': trajectory['id'].values[0], 'hr_state': st.hr_state.item(), 'sysbp_state': st.sysbp_state.item(), 'percoxyg_state': st.percoxyg_state.item(), 'antibiotic_state': st.antibiotic_state.item(), 'vaso_state': st.vaso_state.item(), 'vent_state': st.vent_state.item()}, ignore_index=True)\n",
    "                t += 1\n",
    "        simulator_trajectories.append(simulator_trajectory)\n",
    "    fig, axes = plot_trajectory([trajectory]+simulator_trajectories)"
   ]
  },
  {
   "cell_type": "code",
   "execution_count": 187,
   "metadata": {},
   "outputs": [
    {
     "data": {
      "image/png": "[encoded data removed]",
      "text/plain": [
       "<Figure size 576x720 with 6 Axes>"
      ]
     },
     "metadata": {
      "needs_background": "light"
     },
     "output_type": "display_data"
    }
   ],
   "source": [
    "plot_real_vs_simulated(gumbel_model, val_data, 1928)"
   ]
  }
 ],
 "metadata": {
  "kernelspec": {
   "display_name": ".venv",
   "language": "python",
   "name": ".venv"
  },
  "language_info": {
   "codemirror_mode": {
    "name": "ipython",
    "version": 3
   },
   "file_extension": ".py",
   "mimetype": "text/x-python",
   "name": "python",
   "nbconvert_exporter": "python",
   "pygments_lexer": "ipython3",
   "version": "3.8.7"
  }
 },
 "nbformat": 4,
 "nbformat_minor": 4
}

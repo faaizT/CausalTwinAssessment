{
 "cells": [
  {
   "cell_type": "code",
   "execution_count": 54,
   "metadata": {},
   "outputs": [],
   "source": [
    "import logging\n",
    "logging.basicConfig(filename='regressing-manski.log', level=logging.INFO)"
   ]
  },
  {
   "cell_type": "code",
   "execution_count": 9,
   "metadata": {},
   "outputs": [],
   "source": [
    "import pandas as pd\n",
    "import numpy as np\n",
    "from tqdm import tqdm\n",
    "import glob\n",
    "import os\n",
    "exportdir='/data/localhost/taufiq/export-dir/'\n",
    "os.chdir(\"/data/localhost/taufiq/pulse-data-5-step\")"
   ]
  },
  {
   "cell_type": "code",
   "execution_count": 35,
   "metadata": {},
   "outputs": [],
   "source": [
    "col_name = 'Temp_C'\n",
    "extension = 'final_.csv'\n",
    "all_filenames = [i for i in glob.glob('*{}'.format(extension))]\n",
    "pulse_data = pd.concat([pd.read_csv(f) for f in all_filenames ])"
   ]
  },
  {
   "cell_type": "code",
   "execution_count": 36,
   "metadata": {},
   "outputs": [
    {
     "data": {
      "text/html": [
       "<div>\n",
       "<style scoped>\n",
       "    .dataframe tbody tr th:only-of-type {\n",
       "        vertical-align: middle;\n",
       "    }\n",
       "\n",
       "    .dataframe tbody tr th {\n",
       "        vertical-align: top;\n",
       "    }\n",
       "\n",
       "    .dataframe thead th {\n",
       "        text-align: right;\n",
       "    }\n",
       "</style>\n",
       "<table border=\"1\" class=\"dataframe\">\n",
       "  <thead>\n",
       "    <tr style=\"text-align: right;\">\n",
       "      <th></th>\n",
       "      <th>index</th>\n",
       "      <th>Albumin - BloodConcentration (mg/L)</th>\n",
       "      <th>ArterialCarbonDioxidePressure (mmHg)</th>\n",
       "      <th>ArterialOxygenPressure (mmHg)</th>\n",
       "      <th>ArterialPressure (mmHg)</th>\n",
       "      <th>Bicarbonate - BloodConcentration (mg/L)</th>\n",
       "      <th>BloodPH (None)</th>\n",
       "      <th>BloodUreaNitrogenConcentration (mg/dL)</th>\n",
       "      <th>BloodVolume (mL)</th>\n",
       "      <th>Calcium - BloodConcentration (mg/L)</th>\n",
       "      <th>...</th>\n",
       "      <th>RespirationRate (1/min)</th>\n",
       "      <th>SaturationAndFractionOfInspiredOxygenRatio (None)</th>\n",
       "      <th>SimulationTime(s)</th>\n",
       "      <th>SkinTemperature (degC)</th>\n",
       "      <th>Sodium - BloodConcentration (mg/L)</th>\n",
       "      <th>SystolicArterialPressure (mmHg)</th>\n",
       "      <th>WhiteBloodCellCount (ct/uL)</th>\n",
       "      <th>id</th>\n",
       "      <th>time</th>\n",
       "      <th>icustay_id</th>\n",
       "    </tr>\n",
       "  </thead>\n",
       "  <tbody>\n",
       "    <tr>\n",
       "      <th>0</th>\n",
       "      <td>0</td>\n",
       "      <td>36942.076357</td>\n",
       "      <td>40.766614</td>\n",
       "      <td>89.927432</td>\n",
       "      <td>116.205401</td>\n",
       "      <td>1589.280619</td>\n",
       "      <td>7.406174</td>\n",
       "      <td>12.954165</td>\n",
       "      <td>6432.049911</td>\n",
       "      <td>48.181075</td>\n",
       "      <td>...</td>\n",
       "      <td>18.633540</td>\n",
       "      <td>4.638695</td>\n",
       "      <td>0.0</td>\n",
       "      <td>33.203250</td>\n",
       "      <td>3328.440581</td>\n",
       "      <td>119.230483</td>\n",
       "      <td>7000.0</td>\n",
       "      <td>86855.0</td>\n",
       "      <td>6.607069e+09</td>\n",
       "      <td>86855</td>\n",
       "    </tr>\n",
       "    <tr>\n",
       "      <th>1</th>\n",
       "      <td>1</td>\n",
       "      <td>36524.917484</td>\n",
       "      <td>40.872763</td>\n",
       "      <td>90.052348</td>\n",
       "      <td>92.470480</td>\n",
       "      <td>1589.598103</td>\n",
       "      <td>7.405145</td>\n",
       "      <td>13.608056</td>\n",
       "      <td>6492.148657</td>\n",
       "      <td>53.043316</td>\n",
       "      <td>...</td>\n",
       "      <td>18.750000</td>\n",
       "      <td>4.633428</td>\n",
       "      <td>3600.0</td>\n",
       "      <td>33.879672</td>\n",
       "      <td>3319.123490</td>\n",
       "      <td>122.674910</td>\n",
       "      <td>7000.0</td>\n",
       "      <td>86855.0</td>\n",
       "      <td>6.607073e+09</td>\n",
       "      <td>86855</td>\n",
       "    </tr>\n",
       "    <tr>\n",
       "      <th>2</th>\n",
       "      <td>2</td>\n",
       "      <td>36069.948819</td>\n",
       "      <td>40.889780</td>\n",
       "      <td>90.176441</td>\n",
       "      <td>105.766357</td>\n",
       "      <td>1589.422211</td>\n",
       "      <td>7.404981</td>\n",
       "      <td>14.168092</td>\n",
       "      <td>6560.608547</td>\n",
       "      <td>57.671101</td>\n",
       "      <td>...</td>\n",
       "      <td>18.750000</td>\n",
       "      <td>4.633453</td>\n",
       "      <td>7200.0</td>\n",
       "      <td>32.973720</td>\n",
       "      <td>3311.273411</td>\n",
       "      <td>123.910096</td>\n",
       "      <td>7000.0</td>\n",
       "      <td>86855.0</td>\n",
       "      <td>6.607076e+09</td>\n",
       "      <td>86855</td>\n",
       "    </tr>\n",
       "    <tr>\n",
       "      <th>3</th>\n",
       "      <td>3</td>\n",
       "      <td>35344.795982</td>\n",
       "      <td>40.949980</td>\n",
       "      <td>90.585038</td>\n",
       "      <td>99.518088</td>\n",
       "      <td>1589.162254</td>\n",
       "      <td>7.404399</td>\n",
       "      <td>14.827684</td>\n",
       "      <td>6681.667603</td>\n",
       "      <td>61.641868</td>\n",
       "      <td>...</td>\n",
       "      <td>18.867925</td>\n",
       "      <td>4.635279</td>\n",
       "      <td>10800.0</td>\n",
       "      <td>33.382638</td>\n",
       "      <td>3311.388720</td>\n",
       "      <td>121.909499</td>\n",
       "      <td>7000.0</td>\n",
       "      <td>86855.0</td>\n",
       "      <td>6.607080e+09</td>\n",
       "      <td>86855</td>\n",
       "    </tr>\n",
       "    <tr>\n",
       "      <th>4</th>\n",
       "      <td>4</td>\n",
       "      <td>34739.622499</td>\n",
       "      <td>40.941064</td>\n",
       "      <td>90.624763</td>\n",
       "      <td>120.664434</td>\n",
       "      <td>1589.148171</td>\n",
       "      <td>7.404485</td>\n",
       "      <td>14.816667</td>\n",
       "      <td>6784.488523</td>\n",
       "      <td>65.534987</td>\n",
       "      <td>...</td>\n",
       "      <td>18.867925</td>\n",
       "      <td>4.635250</td>\n",
       "      <td>14400.0</td>\n",
       "      <td>33.415902</td>\n",
       "      <td>3280.588569</td>\n",
       "      <td>122.044169</td>\n",
       "      <td>7000.0</td>\n",
       "      <td>86855.0</td>\n",
       "      <td>6.607084e+09</td>\n",
       "      <td>86855</td>\n",
       "    </tr>\n",
       "  </tbody>\n",
       "</table>\n",
       "<p>5 rows × 33 columns</p>\n",
       "</div>"
      ],
      "text/plain": [
       "   index  Albumin - BloodConcentration (mg/L)  \\\n",
       "0      0                         36942.076357   \n",
       "1      1                         36524.917484   \n",
       "2      2                         36069.948819   \n",
       "3      3                         35344.795982   \n",
       "4      4                         34739.622499   \n",
       "\n",
       "   ArterialCarbonDioxidePressure (mmHg)  ArterialOxygenPressure (mmHg)  \\\n",
       "0                             40.766614                      89.927432   \n",
       "1                             40.872763                      90.052348   \n",
       "2                             40.889780                      90.176441   \n",
       "3                             40.949980                      90.585038   \n",
       "4                             40.941064                      90.624763   \n",
       "\n",
       "   ArterialPressure (mmHg)  Bicarbonate - BloodConcentration (mg/L)  \\\n",
       "0               116.205401                              1589.280619   \n",
       "1                92.470480                              1589.598103   \n",
       "2               105.766357                              1589.422211   \n",
       "3                99.518088                              1589.162254   \n",
       "4               120.664434                              1589.148171   \n",
       "\n",
       "   BloodPH (None)  BloodUreaNitrogenConcentration (mg/dL)  BloodVolume (mL)  \\\n",
       "0        7.406174                               12.954165       6432.049911   \n",
       "1        7.405145                               13.608056       6492.148657   \n",
       "2        7.404981                               14.168092       6560.608547   \n",
       "3        7.404399                               14.827684       6681.667603   \n",
       "4        7.404485                               14.816667       6784.488523   \n",
       "\n",
       "   Calcium - BloodConcentration (mg/L)  ...  RespirationRate (1/min)  \\\n",
       "0                            48.181075  ...                18.633540   \n",
       "1                            53.043316  ...                18.750000   \n",
       "2                            57.671101  ...                18.750000   \n",
       "3                            61.641868  ...                18.867925   \n",
       "4                            65.534987  ...                18.867925   \n",
       "\n",
       "   SaturationAndFractionOfInspiredOxygenRatio (None)  SimulationTime(s)  \\\n",
       "0                                           4.638695                0.0   \n",
       "1                                           4.633428             3600.0   \n",
       "2                                           4.633453             7200.0   \n",
       "3                                           4.635279            10800.0   \n",
       "4                                           4.635250            14400.0   \n",
       "\n",
       "   SkinTemperature (degC)  Sodium - BloodConcentration (mg/L)  \\\n",
       "0               33.203250                         3328.440581   \n",
       "1               33.879672                         3319.123490   \n",
       "2               32.973720                         3311.273411   \n",
       "3               33.382638                         3311.388720   \n",
       "4               33.415902                         3280.588569   \n",
       "\n",
       "   SystolicArterialPressure (mmHg)  WhiteBloodCellCount (ct/uL)       id  \\\n",
       "0                       119.230483                       7000.0  86855.0   \n",
       "1                       122.674910                       7000.0  86855.0   \n",
       "2                       123.910096                       7000.0  86855.0   \n",
       "3                       121.909499                       7000.0  86855.0   \n",
       "4                       122.044169                       7000.0  86855.0   \n",
       "\n",
       "           time  icustay_id  \n",
       "0  6.607069e+09       86855  \n",
       "1  6.607073e+09       86855  \n",
       "2  6.607076e+09       86855  \n",
       "3  6.607080e+09       86855  \n",
       "4  6.607084e+09       86855  \n",
       "\n",
       "[5 rows x 33 columns]"
      ]
     },
     "execution_count": 36,
     "metadata": {},
     "output_type": "execute_result"
    }
   ],
   "source": [
    "pulse_data['icustay_id'] = pulse_data['id'].astype(int)\n",
    "pulse_data = pulse_data.reset_index()\n",
    "pulse_data.head()"
   ]
  },
  {
   "cell_type": "code",
   "execution_count": 266,
   "metadata": {},
   "outputs": [],
   "source": [
    "column_mappings = {\n",
    "    'Albumin - BloodConcentration (mg/L)': 'Albumin',\n",
    "    'ArterialCarbonDioxidePressure (mmHg)': 'paCO2',\n",
    "    'ArterialOxygenPressure (mmHg)': 'paO2',\n",
    "    'Bicarbonate - BloodConcentration (mg/L)': 'HCO3',\n",
    "    'BloodPH (None)': 'Arterial_pH',\n",
    "    'BloodUreaNitrogenConcentration (mg/dL)': 'BUN',\n",
    "    'Calcium - BloodConcentration (mg/L)': 'Calcium',\n",
    "    'Chloride - BloodConcentration (mg/L)': 'Chloride',\n",
    "    'Creatinine - BloodConcentration (mg/L)': 'Creatinine',\n",
    "    'DiastolicArterialPressure (mmHg)': 'DiaBP',\n",
    "    'Glucose - BloodConcentration (mg/L)': 'Glucose',\n",
    "    'Lactate - BloodConcentration (mg/L)': 'Arterial_lactate',\n",
    "    'MeanArterialPressure (mmHg)': 'MeanBP',\n",
    "    'Potassium - BloodConcentration (mg/L)': 'Potassium',\n",
    "    'RespirationRate (1/min)': 'RR',\n",
    "    'SaturationAndFractionOfInspiredOxygenRatio (None)': 'PaO2_FiO2',\n",
    "    'SkinTemperature (degC)': 'Temp_C',\n",
    "    'Sodium - BloodConcentration (mg/L)': 'Sodium',\n",
    "    'SystolicArterialPressure (mmHg)': 'SysBP',\n",
    "    'WhiteBloodCellCount (ct/uL)': 'WBC_count',\n",
    "    'HeartRate (1/min)': 'HR'\n",
    "}\n",
    "\n",
    "pulse_rename = {}\n",
    "\n",
    "for k, v in column_mappings.items():\n",
    "    pulse_rename.update({k: f\"{v}\"})\n",
    "\n",
    "pulse_data = pulse_data.rename(columns=pulse_rename)"
   ]
  },
  {
   "cell_type": "code",
   "execution_count": 299,
   "metadata": {},
   "outputs": [
    {
     "data": {
      "text/html": [
       "<div>\n",
       "<style scoped>\n",
       "    .dataframe tbody tr th:only-of-type {\n",
       "        vertical-align: middle;\n",
       "    }\n",
       "\n",
       "    .dataframe tbody tr th {\n",
       "        vertical-align: top;\n",
       "    }\n",
       "\n",
       "    .dataframe thead th {\n",
       "        text-align: right;\n",
       "    }\n",
       "</style>\n",
       "<table border=\"1\" class=\"dataframe\">\n",
       "  <thead>\n",
       "    <tr style=\"text-align: right;\">\n",
       "      <th></th>\n",
       "      <th>bloc</th>\n",
       "      <th>icustay_id</th>\n",
       "      <th>charttime</th>\n",
       "      <th>gender</th>\n",
       "      <th>age</th>\n",
       "      <th>elixhauser</th>\n",
       "      <th>re_admission</th>\n",
       "      <th>died_in_hosp</th>\n",
       "      <th>died_within_48h_of_out_time</th>\n",
       "      <th>mortality_90d</th>\n",
       "      <th>...</th>\n",
       "      <th>mechvent</th>\n",
       "      <th>Shock_Index</th>\n",
       "      <th>PaO2_FiO2</th>\n",
       "      <th>median_dose_vaso</th>\n",
       "      <th>max_dose_vaso</th>\n",
       "      <th>input_total</th>\n",
       "      <th>input_1hourly</th>\n",
       "      <th>output_total</th>\n",
       "      <th>output_1hourly</th>\n",
       "      <th>cumulated_balance</th>\n",
       "    </tr>\n",
       "  </thead>\n",
       "  <tbody>\n",
       "    <tr>\n",
       "      <th>0</th>\n",
       "      <td>1</td>\n",
       "      <td>65537</td>\n",
       "      <td>7.139723e+09</td>\n",
       "      <td>0.0</td>\n",
       "      <td>22799.40478</td>\n",
       "      <td>4.0</td>\n",
       "      <td>1.0</td>\n",
       "      <td>0.0</td>\n",
       "      <td>0.0</td>\n",
       "      <td>0.0</td>\n",
       "      <td>...</td>\n",
       "      <td>0.0</td>\n",
       "      <td>0.687500</td>\n",
       "      <td>363.888889</td>\n",
       "      <td>0.18</td>\n",
       "      <td>0.18</td>\n",
       "      <td>4020.493550</td>\n",
       "      <td>29.994183</td>\n",
       "      <td>7235.0</td>\n",
       "      <td>3605.0</td>\n",
       "      <td>-3184.512267</td>\n",
       "    </tr>\n",
       "    <tr>\n",
       "      <th>1</th>\n",
       "      <td>2</td>\n",
       "      <td>65537</td>\n",
       "      <td>7.139727e+09</td>\n",
       "      <td>0.0</td>\n",
       "      <td>22799.40478</td>\n",
       "      <td>4.0</td>\n",
       "      <td>1.0</td>\n",
       "      <td>0.0</td>\n",
       "      <td>0.0</td>\n",
       "      <td>0.0</td>\n",
       "      <td>...</td>\n",
       "      <td>0.0</td>\n",
       "      <td>0.602564</td>\n",
       "      <td>430.555556</td>\n",
       "      <td>0.00</td>\n",
       "      <td>0.00</td>\n",
       "      <td>4050.487733</td>\n",
       "      <td>515.407667</td>\n",
       "      <td>10760.0</td>\n",
       "      <td>3525.0</td>\n",
       "      <td>-6194.104600</td>\n",
       "    </tr>\n",
       "    <tr>\n",
       "      <th>2</th>\n",
       "      <td>3</td>\n",
       "      <td>65537</td>\n",
       "      <td>7.139731e+09</td>\n",
       "      <td>0.0</td>\n",
       "      <td>22799.40478</td>\n",
       "      <td>4.0</td>\n",
       "      <td>1.0</td>\n",
       "      <td>0.0</td>\n",
       "      <td>0.0</td>\n",
       "      <td>0.0</td>\n",
       "      <td>...</td>\n",
       "      <td>0.0</td>\n",
       "      <td>0.751456</td>\n",
       "      <td>402.222222</td>\n",
       "      <td>0.00</td>\n",
       "      <td>0.00</td>\n",
       "      <td>4565.895400</td>\n",
       "      <td>547.876700</td>\n",
       "      <td>14235.0</td>\n",
       "      <td>3475.0</td>\n",
       "      <td>-9121.227900</td>\n",
       "    </tr>\n",
       "    <tr>\n",
       "      <th>3</th>\n",
       "      <td>4</td>\n",
       "      <td>65537</td>\n",
       "      <td>7.139734e+09</td>\n",
       "      <td>0.0</td>\n",
       "      <td>22799.40478</td>\n",
       "      <td>4.0</td>\n",
       "      <td>1.0</td>\n",
       "      <td>0.0</td>\n",
       "      <td>0.0</td>\n",
       "      <td>0.0</td>\n",
       "      <td>...</td>\n",
       "      <td>0.0</td>\n",
       "      <td>0.804762</td>\n",
       "      <td>275.000000</td>\n",
       "      <td>0.00</td>\n",
       "      <td>0.00</td>\n",
       "      <td>5113.772100</td>\n",
       "      <td>2097.144000</td>\n",
       "      <td>17630.0</td>\n",
       "      <td>3395.0</td>\n",
       "      <td>-10419.083900</td>\n",
       "    </tr>\n",
       "    <tr>\n",
       "      <th>4</th>\n",
       "      <td>5</td>\n",
       "      <td>65537</td>\n",
       "      <td>7.139738e+09</td>\n",
       "      <td>0.0</td>\n",
       "      <td>22799.40478</td>\n",
       "      <td>4.0</td>\n",
       "      <td>1.0</td>\n",
       "      <td>0.0</td>\n",
       "      <td>0.0</td>\n",
       "      <td>0.0</td>\n",
       "      <td>...</td>\n",
       "      <td>0.0</td>\n",
       "      <td>0.804245</td>\n",
       "      <td>283.000000</td>\n",
       "      <td>0.00</td>\n",
       "      <td>0.00</td>\n",
       "      <td>7210.916100</td>\n",
       "      <td>519.833583</td>\n",
       "      <td>20785.0</td>\n",
       "      <td>3155.0</td>\n",
       "      <td>-13054.250317</td>\n",
       "    </tr>\n",
       "  </tbody>\n",
       "</table>\n",
       "<p>5 rows × 59 columns</p>\n",
       "</div>"
      ],
      "text/plain": [
       "   bloc  icustay_id     charttime  gender          age  elixhauser  \\\n",
       "0     1       65537  7.139723e+09     0.0  22799.40478         4.0   \n",
       "1     2       65537  7.139727e+09     0.0  22799.40478         4.0   \n",
       "2     3       65537  7.139731e+09     0.0  22799.40478         4.0   \n",
       "3     4       65537  7.139734e+09     0.0  22799.40478         4.0   \n",
       "4     5       65537  7.139738e+09     0.0  22799.40478         4.0   \n",
       "\n",
       "   re_admission  died_in_hosp  died_within_48h_of_out_time  mortality_90d  \\\n",
       "0           1.0           0.0                          0.0            0.0   \n",
       "1           1.0           0.0                          0.0            0.0   \n",
       "2           1.0           0.0                          0.0            0.0   \n",
       "3           1.0           0.0                          0.0            0.0   \n",
       "4           1.0           0.0                          0.0            0.0   \n",
       "\n",
       "   ...  mechvent  Shock_Index   PaO2_FiO2  median_dose_vaso  max_dose_vaso  \\\n",
       "0  ...       0.0     0.687500  363.888889              0.18           0.18   \n",
       "1  ...       0.0     0.602564  430.555556              0.00           0.00   \n",
       "2  ...       0.0     0.751456  402.222222              0.00           0.00   \n",
       "3  ...       0.0     0.804762  275.000000              0.00           0.00   \n",
       "4  ...       0.0     0.804245  283.000000              0.00           0.00   \n",
       "\n",
       "   input_total  input_1hourly  output_total  output_1hourly  cumulated_balance  \n",
       "0  4020.493550      29.994183        7235.0          3605.0       -3184.512267  \n",
       "1  4050.487733     515.407667       10760.0          3525.0       -6194.104600  \n",
       "2  4565.895400     547.876700       14235.0          3475.0       -9121.227900  \n",
       "3  5113.772100    2097.144000       17630.0          3395.0      -10419.083900  \n",
       "4  7210.916100     519.833583       20785.0          3155.0      -13054.250317  \n",
       "\n",
       "[5 rows x 59 columns]"
      ]
     },
     "execution_count": 299,
     "metadata": {},
     "output_type": "execute_result"
    }
   ],
   "source": [
    "MIMICtable = pd.read_csv(\"/data/localhost/taufiq/export-dir/MIMIC-1hourly-length-5.csv\")\n",
    "MIMICtable['icustay_id'] = MIMICtable['icustay_id'].astype(int)\n",
    "MIMICtable.head()"
   ]
  },
  {
   "cell_type": "code",
   "execution_count": 324,
   "metadata": {},
   "outputs": [
    {
     "data": {
      "text/html": [
       "<div>\n",
       "<style scoped>\n",
       "    .dataframe tbody tr th:only-of-type {\n",
       "        vertical-align: middle;\n",
       "    }\n",
       "\n",
       "    .dataframe tbody tr th {\n",
       "        vertical-align: top;\n",
       "    }\n",
       "\n",
       "    .dataframe thead th {\n",
       "        text-align: right;\n",
       "    }\n",
       "</style>\n",
       "<table border=\"1\" class=\"dataframe\">\n",
       "  <thead>\n",
       "    <tr style=\"text-align: right;\">\n",
       "      <th></th>\n",
       "      <th>gender</th>\n",
       "      <th>age</th>\n",
       "      <th>icustay_id</th>\n",
       "      <th>Temp_C_t0</th>\n",
       "      <th>Temp_C_t1</th>\n",
       "    </tr>\n",
       "  </thead>\n",
       "  <tbody>\n",
       "    <tr>\n",
       "      <th>0</th>\n",
       "      <td>0.0</td>\n",
       "      <td>22799.404780</td>\n",
       "      <td>65537</td>\n",
       "      <td>35.833333</td>\n",
       "      <td>35.833333</td>\n",
       "    </tr>\n",
       "    <tr>\n",
       "      <th>1</th>\n",
       "      <td>0.0</td>\n",
       "      <td>17639.826435</td>\n",
       "      <td>3</td>\n",
       "      <td>37.444445</td>\n",
       "      <td>37.444445</td>\n",
       "    </tr>\n",
       "    <tr>\n",
       "      <th>2</th>\n",
       "      <td>0.0</td>\n",
       "      <td>24000.436400</td>\n",
       "      <td>65544</td>\n",
       "      <td>37.111113</td>\n",
       "      <td>37.444445</td>\n",
       "    </tr>\n",
       "    <tr>\n",
       "      <th>3</th>\n",
       "      <td>0.0</td>\n",
       "      <td>23940.093773</td>\n",
       "      <td>98314</td>\n",
       "      <td>36.333334</td>\n",
       "      <td>36.444446</td>\n",
       "    </tr>\n",
       "    <tr>\n",
       "      <th>4</th>\n",
       "      <td>0.0</td>\n",
       "      <td>30946.970000</td>\n",
       "      <td>14</td>\n",
       "      <td>36.999999</td>\n",
       "      <td>37.000000</td>\n",
       "    </tr>\n",
       "  </tbody>\n",
       "</table>\n",
       "</div>"
      ],
      "text/plain": [
       "   gender           age  icustay_id  Temp_C_t0  Temp_C_t1\n",
       "0     0.0  22799.404780       65537  35.833333  35.833333\n",
       "1     0.0  17639.826435           3  37.444445  37.444445\n",
       "2     0.0  24000.436400       65544  37.111113  37.444445\n",
       "3     0.0  23940.093773       98314  36.333334  36.444446\n",
       "4     0.0  30946.970000          14  36.999999  37.000000"
      ]
     },
     "execution_count": 324,
     "metadata": {},
     "output_type": "execute_result"
    }
   ],
   "source": [
    "MIMICtable_filtered_t0 = MIMICtable[MIMICtable['bloc']==1].reset_index()\n",
    "MIMICtable_filtered_t1 = MIMICtable[MIMICtable['bloc']==2][[\n",
    "       'icustay_id', 'RR', 'HR', 'SysBP', 'MeanBP', 'DiaBP', 'RR',\n",
    "       'SpO2', 'Temp_C', 'FiO2_1', 'Potassium', 'Sodium', 'Chloride',\n",
    "       'Glucose', 'BUN', 'Creatinine', 'Magnesium', 'Calcium', 'Ionised_Ca',\n",
    "       'CO2_mEqL', 'SGOT', 'SGPT', 'Total_bili', 'Albumin', 'Hb', 'WBC_count',\n",
    "       'Platelets_count', 'PTT', 'PT', 'INR', 'Arterial_pH', 'paO2', 'paCO2',\n",
    "       'Arterial_BE', 'HCO3', 'Arterial_lactate']].reset_index()\n",
    "\n",
    "MIMICtable_filtered_t0 = MIMICtable_filtered_t0.rename(columns={f'{col_name}':f'{col_name}_t0'})\n",
    "MIMICtable_filtered_t1 = MIMICtable_filtered_t1[MIMICtable_filtered_t1[col_name]>0].reset_index()\n",
    "MIMICtable_filtered_t1 = MIMICtable_filtered_t1.rename(columns={f'{col_name}':f'{col_name}_t1'})\n",
    "MIMICtable_filtered_t0 = MIMICtable_filtered_t0[MIMICtable_filtered_t0['icustay_id'].isin(MIMICtable_filtered_t1['icustay_id'])].reset_index()\n",
    "MIMIC_data_combined = MIMICtable_filtered_t0[['gender', 'age', 'icustay_id', f'{col_name}_t0']].merge(MIMICtable_filtered_t1[['icustay_id', f'{col_name}_t1']], on=['icustay_id'])\n",
    "MIMIC_data_combined.head()"
   ]
  },
  {
   "cell_type": "code",
   "execution_count": 311,
   "metadata": {},
   "outputs": [
    {
     "data": {
      "text/html": [
       "<div>\n",
       "<style scoped>\n",
       "    .dataframe tbody tr th:only-of-type {\n",
       "        vertical-align: middle;\n",
       "    }\n",
       "\n",
       "    .dataframe tbody tr th {\n",
       "        vertical-align: top;\n",
       "    }\n",
       "\n",
       "    .dataframe thead th {\n",
       "        text-align: right;\n",
       "    }\n",
       "</style>\n",
       "<table border=\"1\" class=\"dataframe\">\n",
       "  <thead>\n",
       "    <tr style=\"text-align: right;\">\n",
       "      <th></th>\n",
       "      <th>gender</th>\n",
       "      <th>age</th>\n",
       "      <th>icustay_id</th>\n",
       "      <th>Temp_C_t0</th>\n",
       "      <th>Temp_C_t1</th>\n",
       "    </tr>\n",
       "  </thead>\n",
       "  <tbody>\n",
       "    <tr>\n",
       "      <th>0</th>\n",
       "      <td>0.0</td>\n",
       "      <td>22799.404780</td>\n",
       "      <td>65537</td>\n",
       "      <td>33.151252</td>\n",
       "      <td>32.223820</td>\n",
       "    </tr>\n",
       "    <tr>\n",
       "      <th>1</th>\n",
       "      <td>0.0</td>\n",
       "      <td>17639.826435</td>\n",
       "      <td>3</td>\n",
       "      <td>33.130515</td>\n",
       "      <td>32.814843</td>\n",
       "    </tr>\n",
       "    <tr>\n",
       "      <th>2</th>\n",
       "      <td>0.0</td>\n",
       "      <td>24000.436400</td>\n",
       "      <td>65544</td>\n",
       "      <td>33.190942</td>\n",
       "      <td>33.551028</td>\n",
       "    </tr>\n",
       "    <tr>\n",
       "      <th>3</th>\n",
       "      <td>0.0</td>\n",
       "      <td>23940.093773</td>\n",
       "      <td>98314</td>\n",
       "      <td>33.237951</td>\n",
       "      <td>34.493438</td>\n",
       "    </tr>\n",
       "    <tr>\n",
       "      <th>4</th>\n",
       "      <td>0.0</td>\n",
       "      <td>30946.970000</td>\n",
       "      <td>14</td>\n",
       "      <td>33.112334</td>\n",
       "      <td>32.445347</td>\n",
       "    </tr>\n",
       "  </tbody>\n",
       "</table>\n",
       "</div>"
      ],
      "text/plain": [
       "   gender           age  icustay_id  Temp_C_t0  Temp_C_t1\n",
       "0     0.0  22799.404780       65537  33.151252  32.223820\n",
       "1     0.0  17639.826435           3  33.130515  32.814843\n",
       "2     0.0  24000.436400       65544  33.190942  33.551028\n",
       "3     0.0  23940.093773       98314  33.237951  34.493438\n",
       "4     0.0  30946.970000          14  33.112334  32.445347"
      ]
     },
     "execution_count": 311,
     "metadata": {},
     "output_type": "execute_result"
    }
   ],
   "source": [
    "pulse_data_t0 = pulse_data[pulse_data['index']==0].reset_index(drop=True)\n",
    "pulse_data_t1 = pulse_data[pulse_data['index']==1].reset_index(drop=True)\n",
    "pulse_data_t0 = pulse_data_t0.rename(columns={f'{col_name}':f'{col_name}_t0'})\n",
    "pulse_data_t1 = pulse_data_t1.rename(columns={f'{col_name}':f'{col_name}_t1'})\n",
    "pulse_data_combined = pulse_data_t0[['icustay_id', f'{col_name}_t0']].merge(pulse_data_t1[['icustay_id', f'{col_name}_t1']], on=['icustay_id'])\n",
    "pulse_data_combined = MIMICtable_filtered_t0[['gender', 'age', 'icustay_id']].merge(pulse_data_combined[['icustay_id', f'{col_name}_t0', f'{col_name}_t1']], on=['icustay_id'])\n",
    "pulse_data_combined.head()"
   ]
  },
  {
   "cell_type": "markdown",
   "metadata": {},
   "source": [
    "# Supervised Learning of Actions - Logistic Regression\n"
   ]
  },
  {
   "cell_type": "code",
   "execution_count": 312,
   "metadata": {},
   "outputs": [],
   "source": [
    "nra = 5\n",
    "nr_reps = 10"
   ]
  },
  {
   "cell_type": "code",
   "execution_count": 313,
   "metadata": {},
   "outputs": [],
   "source": [
    "#################   Convert training data and compute conversion factors    ######################\n",
    "logging.info('Processing raw data')\n",
    "# all 47 columns of interest\n",
    "colbin = ['gender']\n",
    "colnorm=['age','Weight_kg','GCS','HR','SysBP','MeanBP','DiaBP','RR','Temp_C','FiO2_1',\\\n",
    "    'Potassium','Sodium','Chloride','Glucose','Magnesium','Calcium',\\\n",
    "    'Hb','WBC_count','Platelets_count','PTT','PT','Arterial_pH','paO2','paCO2',\\\n",
    "    'Arterial_BE','HCO3','Arterial_lactate','SOFA','SIRS','Shock_Index','PaO2_FiO2','cumulated_balance']\n",
    "# collog=['SpO2','BUN','Creatinine','SGOT','SGPT','Total_bili','INR','output_total','output_1hourly']\n",
    "\n",
    "MIMICraw = MIMIC_data_combined[['gender', 'age', f'{col_name}_t0']].copy()\n",
    "\n",
    "for col in MIMICraw:\n",
    "    if col in colbin:\n",
    "        MIMICraw[col] = MIMICraw[col] - 0.5\n",
    "#     elif col in colnorm:\n",
    "    else:\n",
    "        cmu = MIMICraw[col].mean()\n",
    "        csigma = MIMICraw[col].std()\n",
    "        MIMICraw[col] = (MIMICraw[col] - cmu)/csigma\n",
    "#     else:\n",
    "#         log_values = np.log(0.1 + MIMICraw[col])\n",
    "#         dmu = log_values.mean()\n",
    "#         dsigma = log_values.std()\n",
    "#         MIMICraw[col] = (log_values - dmu)/dsigma    \n",
    "logging.info('Raw data processed')\n"
   ]
  },
  {
   "cell_type": "code",
   "execution_count": 314,
   "metadata": {},
   "outputs": [],
   "source": [
    "#################   Convert training data and compute conversion factors    ######################\n",
    "logging.info('Processing raw data')\n",
    "# all 47 columns of interest\n",
    "colbin = ['gender']\n",
    "colnorm=['age','Weight_kg','GCS','HR','SysBP','MeanBP','DiaBP','RR','Temp_C','FiO2_1',\\\n",
    "    'Potassium','Sodium','Chloride','Glucose','Magnesium','Calcium',\\\n",
    "    'Hb','WBC_count','Platelets_count','PTT','PT','Arterial_pH','paO2','paCO2',\\\n",
    "    'Arterial_BE','HCO3','Arterial_lactate','SOFA','SIRS','Shock_Index','PaO2_FiO2','cumulated_balance']\n",
    "# collog=['SpO2','BUN','Creatinine','SGOT','SGPT','Total_bili','INR','output_total','output_1hourly']\n",
    "\n",
    "pulseraw = pulse_data_combined[['gender', 'age', f'{col_name}_t0']].copy()\n",
    "\n",
    "for col in pulseraw:\n",
    "    if col in colbin:\n",
    "        pulseraw[col] = pulseraw[col] - 0.5\n",
    "#     elif col in colnorm:\n",
    "    else:\n",
    "        cmu = pulseraw[col].mean()\n",
    "        csigma = pulseraw[col].std()\n",
    "        pulseraw[col] = (pulseraw[col] - cmu)/csigma\n",
    "#     else:\n",
    "#         log_values = np.log(0.1 + MIMICraw[col])\n",
    "#         dmu = log_values.mean()\n",
    "#         dsigma = log_values.std()\n",
    "#         MIMICraw[col] = (log_values - dmu)/dsigma    \n",
    "logging.info('Raw data processed')\n"
   ]
  },
  {
   "cell_type": "markdown",
   "metadata": {},
   "source": [
    "## Create Actions\n"
   ]
  },
  {
   "cell_type": "code",
   "execution_count": 325,
   "metadata": {},
   "outputs": [],
   "source": [
    "from sklearn.cluster import KMeans\n",
    "from scipy.stats import rankdata\n",
    "\n",
    "logging.info('Creating action bins')\n",
    "nact = nra**2\n",
    "input_1hourly_nonzero = MIMICtable_filtered_t0.loc[MIMICtable_filtered_t0['input_1hourly']>0, 'input_1hourly']\n",
    "iol_ranked = rankdata(input_1hourly_nonzero)/len(input_1hourly_nonzero) # excludes zero fluid (will be action 1)\n",
    "iof = np.floor((iol_ranked + 0.2499999999)*4) # converts iv volume in 4 actions\n",
    "io = np.ones(len(MIMICtable_filtered_t0)) # array of ones, by default\n",
    "io[MIMICtable_filtered_t0['input_1hourly']>0] = iof + 1 # where more than zero fluid given: save actual action\n",
    "vc = MIMICtable_filtered_t0['max_dose_vaso'].copy()\n",
    "vc_nonzero = MIMICtable_filtered_t0.loc[MIMICtable_filtered_t0['max_dose_vaso']!=0, 'max_dose_vaso']\n",
    "vc_ranked = rankdata(vc_nonzero)/len(vc_nonzero)\n",
    "vcf = np.floor((vc_ranked + 0.2499999999)*4) # converts to 4 bins\n",
    "vcf[vcf==0] = 1\n",
    "vc[vc!=0] = vcf + 1\n",
    "vc[vc==0] = 1\n",
    "# median dose of drug in all bins\n",
    "ma1 = [MIMICtable_filtered_t0.loc[io==1, 'input_1hourly'].median(), MIMICtable_filtered_t0.loc[io==2, 'input_1hourly'].median(), MIMICtable_filtered_t0.loc[io==3, 'input_1hourly'].median(), MIMICtable_filtered_t0.loc[io==4, 'input_1hourly'].median(), MIMICtable_filtered_t0.loc[io==5, 'input_1hourly'].median()]\n",
    "ma2 = [MIMICtable_filtered_t0.loc[vc==1, 'max_dose_vaso'].median(), MIMICtable_filtered_t0.loc[vc==2, 'max_dose_vaso'].median(), MIMICtable_filtered_t0.loc[vc==3, 'max_dose_vaso'].median(), MIMICtable_filtered_t0.loc[vc==4, 'max_dose_vaso'].median(), MIMICtable_filtered_t0.loc[vc==5, 'max_dose_vaso'].median()]\n",
    "med = pd.DataFrame(data={'IV':io, 'VC': vc})\n",
    "med = med.astype({'IV': 'int32', 'VC': 'int32'})\n",
    "uniqueValues = med.drop_duplicates().reset_index(drop=True)\n",
    "uniqueValueDoses = pd.DataFrame()\n",
    "for index, row in uniqueValues.iterrows():\n",
    "    uniqueValueDoses.at[index, 'IV'], uniqueValueDoses.at[index, 'VC'] = ma1[row['IV']-1], ma2[row['VC']-1]\n",
    "\n",
    "actionbloc = pd.DataFrame()\n",
    "for index, row in med.iterrows():\n",
    "    actionbloc.at[index, 'action_bloc'] = uniqueValues.loc[(uniqueValues['IV'] == row['IV']) & (uniqueValues['VC'] == row['VC'])].index.values[0]+1\n",
    "actionbloc = actionbloc.astype({'action_bloc':'int32'})\n",
    "\n",
    "logging.info('Action bins created')"
   ]
  },
  {
   "cell_type": "code",
   "execution_count": 326,
   "metadata": {},
   "outputs": [
    {
     "data": {
      "text/plain": [
       "6174"
      ]
     },
     "execution_count": 326,
     "metadata": {},
     "output_type": "execute_result"
    }
   ],
   "source": [
    "len(actionbloc)"
   ]
  },
  {
   "cell_type": "markdown",
   "metadata": {},
   "source": [
    "## Fitting models"
   ]
  },
  {
   "cell_type": "code",
   "execution_count": 327,
   "metadata": {},
   "outputs": [
    {
     "name": "stderr",
     "output_type": "stream",
     "text": [
      "100%|██████████| 10/10 [00:02<00:00,  3.84it/s]\n"
     ]
    }
   ],
   "source": [
    "from sklearn.linear_model import LogisticRegression\n",
    "icuuniqueids = MIMIC_data_combined['icustay_id'].unique()\n",
    "modelsDf = pd.DataFrame()\n",
    "\n",
    "logging.info('Fitting models')\n",
    "\n",
    "for model in tqdm(range(nr_reps)):\n",
    "    logging.info('Model: ' + str(model))\n",
    "    grp = np.floor(5*np.random.rand(len(icuuniqueids))+1)\n",
    "    crossval = 1\n",
    "    trainidx = icuuniqueids[grp != crossval]\n",
    "    testidx = icuuniqueids[grp == crossval]\n",
    "    X = MIMICraw.loc[MIMIC_data_combined['icustay_id'].isin(trainidx)]\n",
    "    Xtestmimic = MIMICraw[MIMIC_data_combined['icustay_id'].isin(testidx)]\n",
    "    ptid = MIMIC_data_combined.loc[MIMIC_data_combined['icustay_id'].isin(trainidx), 'icustay_id']\n",
    "    ptidtestmimic = MIMIC_data_combined.loc[MIMIC_data_combined['icustay_id'].isin(testidx), 'icustay_id']\n",
    "    Y = actionbloc.loc[MIMIC_data_combined['icustay_id'].isin(trainidx), 'action_bloc']\n",
    "    Ytest = actionbloc.loc[MIMIC_data_combined['icustay_id'].isin(testidx), 'action_bloc']\n",
    "    clf = LogisticRegression(random_state=0, max_iter=100000).fit(X, Y)\n",
    "    acc_train = clf.score(X, Y)\n",
    "    acc_test = clf.score(Xtestmimic, Ytest)\n",
    "    modelsDf = modelsDf.append({'model': model, 'regressor': clf, 'acc_train': acc_train, 'acc_test': acc_test}, ignore_index=True)\n",
    "logging.info('Model fitting done!')"
   ]
  },
  {
   "cell_type": "code",
   "execution_count": 328,
   "metadata": {},
   "outputs": [
    {
     "data": {
      "text/plain": [
       "array([[0.00338303, 0.5535682 , 0.09395559, ..., 0.00441616, 0.00457606,\n",
       "        0.00556447],\n",
       "       [0.00289462, 0.54099984, 0.08685781, ..., 0.00412265, 0.00506392,\n",
       "        0.00484346],\n",
       "       [0.00318151, 0.55113236, 0.08958838, ..., 0.00441868, 0.00491176,\n",
       "        0.00522638],\n",
       "       ...,\n",
       "       [0.00287486, 0.5026674 , 0.1038893 , ..., 0.00467145, 0.0025709 ,\n",
       "        0.00677331],\n",
       "       [0.00270926, 0.52568573, 0.07943088, ..., 0.00664237, 0.00402198,\n",
       "        0.00573729],\n",
       "       [0.00320445, 0.55092694, 0.09046078, ..., 0.00438982, 0.00483739,\n",
       "        0.00527513]])"
      ]
     },
     "execution_count": 328,
     "metadata": {},
     "output_type": "execute_result"
    }
   ],
   "source": [
    "clf.predict_proba(Xtestmimic)"
   ]
  },
  {
   "cell_type": "code",
   "execution_count": 329,
   "metadata": {},
   "outputs": [
    {
     "data": {
      "text/html": [
       "<div>\n",
       "<style scoped>\n",
       "    .dataframe tbody tr th:only-of-type {\n",
       "        vertical-align: middle;\n",
       "    }\n",
       "\n",
       "    .dataframe tbody tr th {\n",
       "        vertical-align: top;\n",
       "    }\n",
       "\n",
       "    .dataframe thead th {\n",
       "        text-align: right;\n",
       "    }\n",
       "</style>\n",
       "<table border=\"1\" class=\"dataframe\">\n",
       "  <thead>\n",
       "    <tr style=\"text-align: right;\">\n",
       "      <th></th>\n",
       "      <th>acc_test</th>\n",
       "      <th>acc_train</th>\n",
       "      <th>model</th>\n",
       "      <th>regressor</th>\n",
       "    </tr>\n",
       "  </thead>\n",
       "  <tbody>\n",
       "    <tr>\n",
       "      <th>0</th>\n",
       "      <td>0.518139</td>\n",
       "      <td>0.525683</td>\n",
       "      <td>0.0</td>\n",
       "      <td>LogisticRegression(C=1.0, class_weight=None, d...</td>\n",
       "    </tr>\n",
       "    <tr>\n",
       "      <th>1</th>\n",
       "      <td>0.540193</td>\n",
       "      <td>0.519878</td>\n",
       "      <td>1.0</td>\n",
       "      <td>LogisticRegression(C=1.0, class_weight=None, d...</td>\n",
       "    </tr>\n",
       "    <tr>\n",
       "      <th>2</th>\n",
       "      <td>0.522989</td>\n",
       "      <td>0.524415</td>\n",
       "      <td>2.0</td>\n",
       "      <td>LogisticRegression(C=1.0, class_weight=None, d...</td>\n",
       "    </tr>\n",
       "    <tr>\n",
       "      <th>3</th>\n",
       "      <td>0.522979</td>\n",
       "      <td>0.524430</td>\n",
       "      <td>3.0</td>\n",
       "      <td>LogisticRegression(C=1.0, class_weight=None, d...</td>\n",
       "    </tr>\n",
       "    <tr>\n",
       "      <th>4</th>\n",
       "      <td>0.535494</td>\n",
       "      <td>0.520910</td>\n",
       "      <td>4.0</td>\n",
       "      <td>LogisticRegression(C=1.0, class_weight=None, d...</td>\n",
       "    </tr>\n",
       "    <tr>\n",
       "      <th>5</th>\n",
       "      <td>0.535519</td>\n",
       "      <td>0.521153</td>\n",
       "      <td>5.0</td>\n",
       "      <td>LogisticRegression(C=1.0, class_weight=None, d...</td>\n",
       "    </tr>\n",
       "    <tr>\n",
       "      <th>6</th>\n",
       "      <td>0.519460</td>\n",
       "      <td>0.525331</td>\n",
       "      <td>6.0</td>\n",
       "      <td>LogisticRegression(C=1.0, class_weight=None, d...</td>\n",
       "    </tr>\n",
       "    <tr>\n",
       "      <th>7</th>\n",
       "      <td>0.513449</td>\n",
       "      <td>0.526884</td>\n",
       "      <td>7.0</td>\n",
       "      <td>LogisticRegression(C=1.0, class_weight=None, d...</td>\n",
       "    </tr>\n",
       "    <tr>\n",
       "      <th>8</th>\n",
       "      <td>0.497041</td>\n",
       "      <td>0.530355</td>\n",
       "      <td>8.0</td>\n",
       "      <td>LogisticRegression(C=1.0, class_weight=None, d...</td>\n",
       "    </tr>\n",
       "    <tr>\n",
       "      <th>9</th>\n",
       "      <td>0.507594</td>\n",
       "      <td>0.528133</td>\n",
       "      <td>9.0</td>\n",
       "      <td>LogisticRegression(C=1.0, class_weight=None, d...</td>\n",
       "    </tr>\n",
       "  </tbody>\n",
       "</table>\n",
       "</div>"
      ],
      "text/plain": [
       "   acc_test  acc_train  model  \\\n",
       "0  0.518139   0.525683    0.0   \n",
       "1  0.540193   0.519878    1.0   \n",
       "2  0.522989   0.524415    2.0   \n",
       "3  0.522979   0.524430    3.0   \n",
       "4  0.535494   0.520910    4.0   \n",
       "5  0.535519   0.521153    5.0   \n",
       "6  0.519460   0.525331    6.0   \n",
       "7  0.513449   0.526884    7.0   \n",
       "8  0.497041   0.530355    8.0   \n",
       "9  0.507594   0.528133    9.0   \n",
       "\n",
       "                                           regressor  \n",
       "0  LogisticRegression(C=1.0, class_weight=None, d...  \n",
       "1  LogisticRegression(C=1.0, class_weight=None, d...  \n",
       "2  LogisticRegression(C=1.0, class_weight=None, d...  \n",
       "3  LogisticRegression(C=1.0, class_weight=None, d...  \n",
       "4  LogisticRegression(C=1.0, class_weight=None, d...  \n",
       "5  LogisticRegression(C=1.0, class_weight=None, d...  \n",
       "6  LogisticRegression(C=1.0, class_weight=None, d...  \n",
       "7  LogisticRegression(C=1.0, class_weight=None, d...  \n",
       "8  LogisticRegression(C=1.0, class_weight=None, d...  \n",
       "9  LogisticRegression(C=1.0, class_weight=None, d...  "
      ]
     },
     "execution_count": 329,
     "metadata": {},
     "output_type": "execute_result"
    }
   ],
   "source": [
    "modelsDf"
   ]
  },
  {
   "cell_type": "markdown",
   "metadata": {},
   "source": [
    "# Regressing $\\mathbb{E}[Y^{obs}\\mid x,a]$"
   ]
  },
  {
   "cell_type": "code",
   "execution_count": 330,
   "metadata": {},
   "outputs": [],
   "source": [
    "import torch\n",
    "from torch.autograd import Variable\n",
    "import torch.nn.functional as F\n",
    "import torch.utils.data as Data\n",
    "\n",
    "\n",
    "class Net(torch.nn.Module):\n",
    "    def __init__(self, n_feature, n_hidden, n_output):\n",
    "        super(Net, self).__init__()\n",
    "        self.hidden = torch.nn.Linear(n_feature, n_hidden)   # hidden layer\n",
    "        self.predict = torch.nn.Linear(n_hidden, n_output)   # output layer\n",
    "\n",
    "    def forward(self, x):\n",
    "        x = F.leaky_relu(self.hidden(x))      # activation function for hidden layer\n",
    "        x = self.predict(x)             # linear output\n",
    "        return x"
   ]
  },
  {
   "cell_type": "code",
   "execution_count": 331,
   "metadata": {},
   "outputs": [],
   "source": [
    "net = Net(n_feature=3, n_hidden=10, n_output=1)\n",
    "optimizer = torch.optim.SGD(net.parameters(), lr=0.001, weight_decay=1)\n",
    "loss_func = torch.nn.MSELoss()"
   ]
  },
  {
   "cell_type": "code",
   "execution_count": 332,
   "metadata": {},
   "outputs": [],
   "source": [
    "grp = np.floor(5*np.random.rand(len(icuuniqueids))+1)\n",
    "crossval = 1\n",
    "trainidx = icuuniqueids[grp != crossval]\n",
    "testidx = icuuniqueids[grp == crossval]\n",
    "X = torch.FloatTensor(MIMICraw.loc[MIMICtable_filtered_t0['icustay_id'].isin(trainidx)].values)\n",
    "Xtestmimic = torch.FloatTensor(MIMICraw[MIMICtable_filtered_t0['icustay_id'].isin(testidx)].values)\n",
    "ptid = MIMICtable_filtered_t0.loc[MIMICtable_filtered_t0['icustay_id'].isin(trainidx), 'icustay_id']\n",
    "ptidtestmimic = MIMICtable_filtered_t0.loc[MIMICtable_filtered_t0['icustay_id'].isin(testidx), 'icustay_id']\n",
    "Y = torch.FloatTensor(MIMIC_data_combined.loc[MIMICtable_filtered_t0['icustay_id'].isin(trainidx), f'{col_name}_t1'].values).unsqueeze(dim=1)\n",
    "Ytest = torch.FloatTensor(MIMIC_data_combined.loc[MIMICtable_filtered_t0['icustay_id'].isin(testidx), f'{col_name}_t1'].values).unsqueeze(dim=1)\n"
   ]
  },
  {
   "cell_type": "code",
   "execution_count": 333,
   "metadata": {
    "scrolled": true
   },
   "outputs": [],
   "source": [
    "prediction = net(X)"
   ]
  },
  {
   "cell_type": "code",
   "execution_count": 334,
   "metadata": {},
   "outputs": [
    {
     "name": "stderr",
     "output_type": "stream",
     "text": [
      "100%|██████████| 1000/1000 [00:00<00:00, 2337.44it/s]\n"
     ]
    }
   ],
   "source": [
    "# train the network\n",
    "losses = []\n",
    "for t in tqdm(range(1000)):\n",
    "  \n",
    "    prediction = net(X)     # input x and predict based on x\n",
    "\n",
    "    loss = loss_func(prediction, Y)     # must be (1. nn output, 2. target)\n",
    "\n",
    "    optimizer.zero_grad()   # clear gradients for next train\n",
    "    loss.backward()         # backpropagation, compute gradients\n",
    "    optimizer.step()        # apply gradients\n",
    "    with torch.no_grad():\n",
    "        test_loss = loss_func(net(Xtestmimic), Ytest)\n",
    "        losses.append(test_loss.item())\n"
   ]
  },
  {
   "cell_type": "code",
   "execution_count": 335,
   "metadata": {},
   "outputs": [
    {
     "data": {
      "text/plain": [
       "0.6561123728752136"
      ]
     },
     "execution_count": 335,
     "metadata": {},
     "output_type": "execute_result"
    },
    {
     "data": {
      "image/png": "[encoded data removed]",
      "text/plain": [
       "<Figure size 432x288 with 1 Axes>"
      ]
     },
     "metadata": {
      "needs_background": "light"
     },
     "output_type": "display_data"
    }
   ],
   "source": [
    "import matplotlib.pyplot as plt\n",
    "plt.plot(losses)\n",
    "losses[-1]"
   ]
  },
  {
   "cell_type": "code",
   "execution_count": 336,
   "metadata": {},
   "outputs": [
    {
     "data": {
      "text/plain": [
       "tensor([35.6614], grad_fn=<AddBackward0>)"
      ]
     },
     "execution_count": 336,
     "metadata": {},
     "output_type": "execute_result"
    }
   ],
   "source": [
    "x = torch.FloatTensor((0.5,-0.17, -0.89))\n",
    "net(x)"
   ]
  },
  {
   "cell_type": "code",
   "execution_count": 337,
   "metadata": {},
   "outputs": [
    {
     "data": {
      "text/plain": [
       "tensor([[-0.5000, -0.1808, -0.9452],\n",
       "        [-0.5000, -1.0452,  0.5158],\n",
       "        [-0.5000,  1.1843,  0.1128],\n",
       "        ...,\n",
       "        [-0.5000, -0.0385, -0.5422],\n",
       "        [ 0.5000,  1.5926,  1.1204],\n",
       "        [ 0.5000,  0.7394, -0.1895]])"
      ]
     },
     "execution_count": 337,
     "metadata": {},
     "output_type": "execute_result"
    }
   ],
   "source": [
    "X"
   ]
  },
  {
   "cell_type": "markdown",
   "metadata": {},
   "source": [
    "# Regressing $\\mathbb{E}[Y^{min}\\mid x,a]$"
   ]
  },
  {
   "cell_type": "code",
   "execution_count": 338,
   "metadata": {},
   "outputs": [],
   "source": [
    "import torch\n",
    "from torch.autograd import Variable\n",
    "import torch.nn.functional as F\n",
    "import torch.utils.data as Data\n",
    "\n",
    "\n",
    "class Net(torch.nn.Module):\n",
    "    def __init__(self, n_feature, n_hidden, n_output):\n",
    "        super(Net, self).__init__()\n",
    "        self.hidden = torch.nn.Linear(n_feature, n_hidden)   # hidden layer\n",
    "        self.predict = torch.nn.Linear(n_hidden, n_output)   # output layer\n",
    "        self.tanh = torch.nn.Tanh()\n",
    "\n",
    "    def forward(self, x):\n",
    "        x = self.tanh(self.hidden(x))      # activation function for hidden layer\n",
    "        x = self.predict(x)             # linear output\n",
    "        return x"
   ]
  },
  {
   "cell_type": "code",
   "execution_count": 339,
   "metadata": {},
   "outputs": [],
   "source": [
    "class PinballLoss():\n",
    "    def __init__(self, quantile=0.10, reduction='none'):\n",
    "        self.quantile = quantile\n",
    "        assert 0 < self.quantile\n",
    "        assert self.quantile < 1\n",
    "        self.reduction = reduction\n",
    "\n",
    "    def __call__(self, output, target):\n",
    "        assert output.shape == target.shape\n",
    "        loss = torch.zeros_like(target, dtype=torch.float)\n",
    "        error = output - target\n",
    "        smaller_index = error < 0\n",
    "        bigger_index = 0 < error\n",
    "        loss[smaller_index] = self.quantile * (abs(error)[smaller_index])\n",
    "        loss[bigger_index] = (1-self.quantile) * (abs(error)[bigger_index])\n",
    "\n",
    "        if self.reduction == 'sum':\n",
    "            loss = loss.sum()\n",
    "        if self.reduction == 'mean':\n",
    "            loss = loss.mean()\n",
    "\n",
    "        return loss"
   ]
  },
  {
   "cell_type": "code",
   "execution_count": 340,
   "metadata": {},
   "outputs": [],
   "source": [
    "quantile_net = Net(n_feature=3, n_hidden=10, n_output=1)\n",
    "optimizer = torch.optim.SGD(quantile_net.parameters(), lr=0.001, weight_decay=0.1)\n",
    "loss_func = PinballLoss(quantile=0.01, reduction='mean')"
   ]
  },
  {
   "cell_type": "code",
   "execution_count": 341,
   "metadata": {},
   "outputs": [
    {
     "name": "stderr",
     "output_type": "stream",
     "text": [
      "100%|██████████| 5000/5000 [00:04<00:00, 1073.19it/s]\n"
     ]
    }
   ],
   "source": [
    "# train the network\n",
    "losses = []\n",
    "for t in tqdm(range(5000)):\n",
    "  \n",
    "    prediction = quantile_net(X)     # input x and predict based on x\n",
    "\n",
    "    loss = loss_func(prediction, Y)     # must be (1. nn output, 2. target)\n",
    "\n",
    "    optimizer.zero_grad()   # clear gradients for next train\n",
    "    loss.backward()         # backpropagation, compute gradients\n",
    "    optimizer.step()        # apply gradients\n",
    "    with torch.no_grad():\n",
    "        test_loss = loss_func(quantile_net(Xtestmimic), Ytest)\n",
    "        losses.append(test_loss.item())\n"
   ]
  },
  {
   "cell_type": "code",
   "execution_count": 342,
   "metadata": {},
   "outputs": [
    {
     "data": {
      "text/plain": [
       "[<matplotlib.lines.Line2D at 0x7f820da64a00>]"
      ]
     },
     "execution_count": 342,
     "metadata": {},
     "output_type": "execute_result"
    },
    {
     "data": {
      "image/png": "[encoded data removed]",
      "text/plain": [
       "<Figure size 432x288 with 1 Axes>"
      ]
     },
     "metadata": {
      "needs_background": "light"
     },
     "output_type": "display_data"
    }
   ],
   "source": [
    "plt.plot(losses)"
   ]
  },
  {
   "cell_type": "code",
   "execution_count": 343,
   "metadata": {},
   "outputs": [
    {
     "data": {
      "text/plain": [
       "tensor([-0.0985], grad_fn=<AddBackward0>)"
      ]
     },
     "execution_count": 343,
     "metadata": {},
     "output_type": "execute_result"
    }
   ],
   "source": [
    "x = torch.FloatTensor((0.5,-0.17, -0.89))\n",
    "quantile_net(x)"
   ]
  },
  {
   "cell_type": "code",
   "execution_count": 344,
   "metadata": {},
   "outputs": [
    {
     "data": {
      "text/plain": [
       "0.36952394247055054"
      ]
     },
     "execution_count": 344,
     "metadata": {},
     "output_type": "execute_result"
    }
   ],
   "source": [
    "losses[2000]"
   ]
  },
  {
   "cell_type": "markdown",
   "metadata": {},
   "source": [
    "# Regressing $\\mathbb{E}[Y^{max}\\mid x,a]$"
   ]
  },
  {
   "cell_type": "code",
   "execution_count": 345,
   "metadata": {},
   "outputs": [],
   "source": [
    "quantile_net = Net(n_feature=3, n_hidden=10, n_output=1)\n",
    "optimizer = torch.optim.SGD(quantile_net.parameters(), lr=0.001)\n",
    "loss_func = PinballLoss(quantile=0.99, reduction='mean')"
   ]
  },
  {
   "cell_type": "code",
   "execution_count": 346,
   "metadata": {},
   "outputs": [
    {
     "name": "stderr",
     "output_type": "stream",
     "text": [
      "100%|██████████| 5000/5000 [00:04<00:00, 1076.68it/s]\n"
     ]
    }
   ],
   "source": [
    "# train the network\n",
    "losses = []\n",
    "for t in tqdm(range(5000)):\n",
    "  \n",
    "    prediction = quantile_net(X)     # input x and predict based on x\n",
    "\n",
    "    loss = loss_func(prediction, Y)     # must be (1. nn output, 2. target)\n",
    "\n",
    "    optimizer.zero_grad()   # clear gradients for next train\n",
    "    loss.backward()         # backpropagation, compute gradients\n",
    "    optimizer.step()        # apply gradients\n",
    "    with torch.no_grad():\n",
    "        test_loss = loss_func(quantile_net(Xtestmimic), Ytest)\n",
    "        losses.append(test_loss.item())\n"
   ]
  },
  {
   "cell_type": "code",
   "execution_count": 347,
   "metadata": {},
   "outputs": [
    {
     "data": {
      "text/plain": [
       "[<matplotlib.lines.Line2D at 0x7f820d9d0d90>]"
      ]
     },
     "execution_count": 347,
     "metadata": {},
     "output_type": "execute_result"
    },
    {
     "data": {
      "image/png": "[encoded data removed]",
      "text/plain": [
       "<Figure size 432x288 with 1 Axes>"
      ]
     },
     "metadata": {
      "needs_background": "light"
     },
     "output_type": "display_data"
    }
   ],
   "source": [
    "plt.plot(losses)"
   ]
  },
  {
   "cell_type": "code",
   "execution_count": 348,
   "metadata": {},
   "outputs": [
    {
     "data": {
      "text/plain": [
       "tensor([36.1642], grad_fn=<AddBackward0>)"
      ]
     },
     "execution_count": 348,
     "metadata": {},
     "output_type": "execute_result"
    }
   ],
   "source": [
    "x = torch.FloatTensor((0.5,-0.17, -0.89))\n",
    "quantile_net(x)"
   ]
  },
  {
   "cell_type": "markdown",
   "metadata": {},
   "source": [
    "# Regressing $\\mathbb{E}[Y^{sim}(a)\\mid x]$"
   ]
  },
  {
   "cell_type": "code",
   "execution_count": 355,
   "metadata": {},
   "outputs": [],
   "source": [
    "net = Net(n_feature=3, n_hidden=10, n_output=1)\n",
    "optimizer = torch.optim.SGD(net.parameters(), lr=0.001, weight_decay=0.1)\n",
    "loss_func = torch.nn.MSELoss()"
   ]
  },
  {
   "cell_type": "code",
   "execution_count": 356,
   "metadata": {},
   "outputs": [],
   "source": [
    "icuuniqueids = pulse_data_combined['icustay_id'].unique()\n",
    "grp = np.floor(5*np.random.rand(len(icuuniqueids))+1)\n",
    "crossval = 1\n",
    "trainidx = icuuniqueids[grp != crossval]\n",
    "testidx = icuuniqueids[grp == crossval]\n",
    "X = torch.FloatTensor(pulseraw.loc[pulse_data_combined['icustay_id'].isin(trainidx)].values)\n",
    "Xtestmimic = torch.FloatTensor(pulseraw[pulse_data_combined['icustay_id'].isin(testidx)].values)\n",
    "ptid = pulse_data_combined.loc[pulse_data_combined['icustay_id'].isin(trainidx), 'icustay_id']\n",
    "ptidtestmimic = pulse_data_combined.loc[pulse_data_combined['icustay_id'].isin(testidx), 'icustay_id']\n",
    "Y = torch.FloatTensor(pulse_data_combined.loc[pulse_data_combined['icustay_id'].isin(trainidx), f'{col_name}_t1'].values).unsqueeze(dim=1)\n",
    "Ytest = torch.FloatTensor(pulse_data_combined.loc[pulse_data_combined['icustay_id'].isin(testidx), f'{col_name}_t1'].values).unsqueeze(dim=1)\n"
   ]
  },
  {
   "cell_type": "code",
   "execution_count": 357,
   "metadata": {},
   "outputs": [],
   "source": [
    "prediction = net(X)"
   ]
  },
  {
   "cell_type": "code",
   "execution_count": 358,
   "metadata": {},
   "outputs": [
    {
     "name": "stderr",
     "output_type": "stream",
     "text": [
      "100%|██████████| 1000/1000 [00:00<00:00, 1999.48it/s]\n"
     ]
    }
   ],
   "source": [
    "# train the network\n",
    "losses = []\n",
    "for t in tqdm(range(1000)):\n",
    "  \n",
    "    prediction = net(X)     # input x and predict based on x\n",
    "\n",
    "    loss = loss_func(prediction, Y)     # must be (1. nn output, 2. target)\n",
    "\n",
    "    optimizer.zero_grad()   # clear gradients for next train\n",
    "    loss.backward()         # backpropagation, compute gradients\n",
    "    optimizer.step()        # apply gradients\n",
    "    with torch.no_grad():\n",
    "        test_loss = loss_func(net(Xtestmimic), Ytest)\n",
    "        losses.append(test_loss.item())\n"
   ]
  },
  {
   "cell_type": "code",
   "execution_count": 359,
   "metadata": {},
   "outputs": [
    {
     "data": {
      "text/plain": [
       "0.504423201084137"
      ]
     },
     "execution_count": 359,
     "metadata": {},
     "output_type": "execute_result"
    },
    {
     "data": {
      "image/png": "[encoded data removed]",
      "text/plain": [
       "<Figure size 432x288 with 1 Axes>"
      ]
     },
     "metadata": {
      "needs_background": "light"
     },
     "output_type": "display_data"
    }
   ],
   "source": [
    "import matplotlib.pyplot as plt\n",
    "plt.plot(losses)\n",
    "losses[-1]"
   ]
  },
  {
   "cell_type": "code",
   "execution_count": 360,
   "metadata": {},
   "outputs": [
    {
     "data": {
      "text/plain": [
       "tensor([32.6433], grad_fn=<AddBackward0>)"
      ]
     },
     "execution_count": 360,
     "metadata": {},
     "output_type": "execute_result"
    }
   ],
   "source": [
    "x = torch.FloatTensor((0.5,-0.17, -0.89))\n",
    "net(x)"
   ]
  }
 ],
 "metadata": {
  "kernelspec": {
   "display_name": "Python 3",
   "language": "python",
   "name": "python3"
  },
  "language_info": {
   "codemirror_mode": {
    "name": "ipython",
    "version": 3
   },
   "file_extension": ".py",
   "mimetype": "text/x-python",
   "name": "python",
   "nbconvert_exporter": "python",
   "pygments_lexer": "ipython3",
   "version": "3.8.10"
  }
 },
 "nbformat": 4,
 "nbformat_minor": 2
}

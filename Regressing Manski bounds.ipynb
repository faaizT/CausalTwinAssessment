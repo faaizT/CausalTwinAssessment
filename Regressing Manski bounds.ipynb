{
 "cells": [
  {
   "cell_type": "code",
   "execution_count": 49,
   "metadata": {},
   "outputs": [],
   "source": [
    "import logging\n",
    "logging.basicConfig(filename='regressing-manski.log', level=logging.INFO)"
   ]
  },
  {
   "cell_type": "code",
   "execution_count": 50,
   "metadata": {},
   "outputs": [],
   "source": [
    "import pandas as pd\n",
    "import numpy as np\n",
    "from tqdm import tqdm\n",
    "import glob\n",
    "import os\n",
    "import torch\n",
    "import matplotlib.pyplot as plt\n",
    "exportdir='/data/localhost/taufiq/export-dir/'\n",
    "os.chdir(\"/data/localhost/taufiq/pulse-data-5-step\")\n",
    "models_dir = '/data/localhost/not-backed-up/taufiq/PulseManski/dryrun'"
   ]
  },
  {
   "cell_type": "code",
   "execution_count": 51,
   "metadata": {},
   "outputs": [],
   "source": [
    "col_name = 'paCO2'\n",
    "extension = 'final_.csv'\n",
    "all_filenames = [i for i in glob.glob('*{}'.format(extension))]\n",
    "pulse_data = pd.concat([pd.read_csv(f) for f in all_filenames ])"
   ]
  },
  {
   "cell_type": "code",
   "execution_count": 52,
   "metadata": {},
   "outputs": [
    {
     "data": {
      "text/html": [
       "<div>\n",
       "<style scoped>\n",
       "    .dataframe tbody tr th:only-of-type {\n",
       "        vertical-align: middle;\n",
       "    }\n",
       "\n",
       "    .dataframe tbody tr th {\n",
       "        vertical-align: top;\n",
       "    }\n",
       "\n",
       "    .dataframe thead th {\n",
       "        text-align: right;\n",
       "    }\n",
       "</style>\n",
       "<table border=\"1\" class=\"dataframe\">\n",
       "  <thead>\n",
       "    <tr style=\"text-align: right;\">\n",
       "      <th></th>\n",
       "      <th>index</th>\n",
       "      <th>Albumin - BloodConcentration (mg/L)</th>\n",
       "      <th>ArterialCarbonDioxidePressure (mmHg)</th>\n",
       "      <th>ArterialOxygenPressure (mmHg)</th>\n",
       "      <th>ArterialPressure (mmHg)</th>\n",
       "      <th>Bicarbonate - BloodConcentration (mg/L)</th>\n",
       "      <th>BloodPH (None)</th>\n",
       "      <th>BloodUreaNitrogenConcentration (mg/dL)</th>\n",
       "      <th>BloodVolume (mL)</th>\n",
       "      <th>Calcium - BloodConcentration (mg/L)</th>\n",
       "      <th>...</th>\n",
       "      <th>RespirationRate (1/min)</th>\n",
       "      <th>SaturationAndFractionOfInspiredOxygenRatio (None)</th>\n",
       "      <th>SimulationTime(s)</th>\n",
       "      <th>SkinTemperature (degC)</th>\n",
       "      <th>Sodium - BloodConcentration (mg/L)</th>\n",
       "      <th>SystolicArterialPressure (mmHg)</th>\n",
       "      <th>WhiteBloodCellCount (ct/uL)</th>\n",
       "      <th>id</th>\n",
       "      <th>time</th>\n",
       "      <th>icustay_id</th>\n",
       "    </tr>\n",
       "  </thead>\n",
       "  <tbody>\n",
       "    <tr>\n",
       "      <th>0</th>\n",
       "      <td>0</td>\n",
       "      <td>36970.841184</td>\n",
       "      <td>39.272592</td>\n",
       "      <td>91.708560</td>\n",
       "      <td>81.610057</td>\n",
       "      <td>1590.052504</td>\n",
       "      <td>7.420932</td>\n",
       "      <td>13.318557</td>\n",
       "      <td>4215.059175</td>\n",
       "      <td>48.204885</td>\n",
       "      <td>...</td>\n",
       "      <td>15.873016</td>\n",
       "      <td>4.650211</td>\n",
       "      <td>0.0</td>\n",
       "      <td>33.061965</td>\n",
       "      <td>3327.570617</td>\n",
       "      <td>99.177003</td>\n",
       "      <td>7000.0</td>\n",
       "      <td>3587.0</td>\n",
       "      <td>6.147601e+09</td>\n",
       "      <td>3587</td>\n",
       "    </tr>\n",
       "    <tr>\n",
       "      <th>1</th>\n",
       "      <td>1</td>\n",
       "      <td>35607.042146</td>\n",
       "      <td>39.504482</td>\n",
       "      <td>93.033294</td>\n",
       "      <td>100.394623</td>\n",
       "      <td>1590.319808</td>\n",
       "      <td>7.418605</td>\n",
       "      <td>17.487249</td>\n",
       "      <td>4367.552378</td>\n",
       "      <td>54.953907</td>\n",
       "      <td>...</td>\n",
       "      <td>16.393443</td>\n",
       "      <td>4.649741</td>\n",
       "      <td>3600.0</td>\n",
       "      <td>32.059710</td>\n",
       "      <td>3316.490548</td>\n",
       "      <td>100.394615</td>\n",
       "      <td>7000.0</td>\n",
       "      <td>3587.0</td>\n",
       "      <td>6.147605e+09</td>\n",
       "      <td>3587</td>\n",
       "    </tr>\n",
       "    <tr>\n",
       "      <th>2</th>\n",
       "      <td>2</td>\n",
       "      <td>34445.933151</td>\n",
       "      <td>39.532794</td>\n",
       "      <td>93.050816</td>\n",
       "      <td>72.565992</td>\n",
       "      <td>1589.989309</td>\n",
       "      <td>7.418322</td>\n",
       "      <td>24.058109</td>\n",
       "      <td>4505.783131</td>\n",
       "      <td>61.926414</td>\n",
       "      <td>...</td>\n",
       "      <td>16.393443</td>\n",
       "      <td>4.650528</td>\n",
       "      <td>7200.0</td>\n",
       "      <td>32.017911</td>\n",
       "      <td>3306.208254</td>\n",
       "      <td>101.389957</td>\n",
       "      <td>7000.0</td>\n",
       "      <td>3587.0</td>\n",
       "      <td>6.147608e+09</td>\n",
       "      <td>3587</td>\n",
       "    </tr>\n",
       "    <tr>\n",
       "      <th>3</th>\n",
       "      <td>3</td>\n",
       "      <td>33433.549843</td>\n",
       "      <td>39.502965</td>\n",
       "      <td>93.136404</td>\n",
       "      <td>99.555060</td>\n",
       "      <td>1590.055452</td>\n",
       "      <td>7.418621</td>\n",
       "      <td>30.110467</td>\n",
       "      <td>4633.180443</td>\n",
       "      <td>68.631002</td>\n",
       "      <td>...</td>\n",
       "      <td>16.393443</td>\n",
       "      <td>4.650701</td>\n",
       "      <td>10800.0</td>\n",
       "      <td>32.263121</td>\n",
       "      <td>3301.013326</td>\n",
       "      <td>102.373607</td>\n",
       "      <td>7000.0</td>\n",
       "      <td>3587.0</td>\n",
       "      <td>6.147612e+09</td>\n",
       "      <td>3587</td>\n",
       "    </tr>\n",
       "    <tr>\n",
       "      <th>4</th>\n",
       "      <td>4</td>\n",
       "      <td>32548.193069</td>\n",
       "      <td>39.500618</td>\n",
       "      <td>93.156677</td>\n",
       "      <td>102.383256</td>\n",
       "      <td>1589.877218</td>\n",
       "      <td>7.418644</td>\n",
       "      <td>35.804055</td>\n",
       "      <td>4750.120538</td>\n",
       "      <td>75.128984</td>\n",
       "      <td>...</td>\n",
       "      <td>16.393443</td>\n",
       "      <td>4.650792</td>\n",
       "      <td>14400.0</td>\n",
       "      <td>32.346122</td>\n",
       "      <td>3276.631704</td>\n",
       "      <td>103.435604</td>\n",
       "      <td>7000.0</td>\n",
       "      <td>3587.0</td>\n",
       "      <td>6.147616e+09</td>\n",
       "      <td>3587</td>\n",
       "    </tr>\n",
       "  </tbody>\n",
       "</table>\n",
       "<p>5 rows × 33 columns</p>\n",
       "</div>"
      ],
      "text/plain": [
       "   index  Albumin - BloodConcentration (mg/L)  \\\n",
       "0      0                         36970.841184   \n",
       "1      1                         35607.042146   \n",
       "2      2                         34445.933151   \n",
       "3      3                         33433.549843   \n",
       "4      4                         32548.193069   \n",
       "\n",
       "   ArterialCarbonDioxidePressure (mmHg)  ArterialOxygenPressure (mmHg)  \\\n",
       "0                             39.272592                      91.708560   \n",
       "1                             39.504482                      93.033294   \n",
       "2                             39.532794                      93.050816   \n",
       "3                             39.502965                      93.136404   \n",
       "4                             39.500618                      93.156677   \n",
       "\n",
       "   ArterialPressure (mmHg)  Bicarbonate - BloodConcentration (mg/L)  \\\n",
       "0                81.610057                              1590.052504   \n",
       "1               100.394623                              1590.319808   \n",
       "2                72.565992                              1589.989309   \n",
       "3                99.555060                              1590.055452   \n",
       "4               102.383256                              1589.877218   \n",
       "\n",
       "   BloodPH (None)  BloodUreaNitrogenConcentration (mg/dL)  BloodVolume (mL)  \\\n",
       "0        7.420932                               13.318557       4215.059175   \n",
       "1        7.418605                               17.487249       4367.552378   \n",
       "2        7.418322                               24.058109       4505.783131   \n",
       "3        7.418621                               30.110467       4633.180443   \n",
       "4        7.418644                               35.804055       4750.120538   \n",
       "\n",
       "   Calcium - BloodConcentration (mg/L)  ...  RespirationRate (1/min)  \\\n",
       "0                            48.204885  ...                15.873016   \n",
       "1                            54.953907  ...                16.393443   \n",
       "2                            61.926414  ...                16.393443   \n",
       "3                            68.631002  ...                16.393443   \n",
       "4                            75.128984  ...                16.393443   \n",
       "\n",
       "   SaturationAndFractionOfInspiredOxygenRatio (None)  SimulationTime(s)  \\\n",
       "0                                           4.650211                0.0   \n",
       "1                                           4.649741             3600.0   \n",
       "2                                           4.650528             7200.0   \n",
       "3                                           4.650701            10800.0   \n",
       "4                                           4.650792            14400.0   \n",
       "\n",
       "   SkinTemperature (degC)  Sodium - BloodConcentration (mg/L)  \\\n",
       "0               33.061965                         3327.570617   \n",
       "1               32.059710                         3316.490548   \n",
       "2               32.017911                         3306.208254   \n",
       "3               32.263121                         3301.013326   \n",
       "4               32.346122                         3276.631704   \n",
       "\n",
       "   SystolicArterialPressure (mmHg)  WhiteBloodCellCount (ct/uL)      id  \\\n",
       "0                        99.177003                       7000.0  3587.0   \n",
       "1                       100.394615                       7000.0  3587.0   \n",
       "2                       101.389957                       7000.0  3587.0   \n",
       "3                       102.373607                       7000.0  3587.0   \n",
       "4                       103.435604                       7000.0  3587.0   \n",
       "\n",
       "           time  icustay_id  \n",
       "0  6.147601e+09        3587  \n",
       "1  6.147605e+09        3587  \n",
       "2  6.147608e+09        3587  \n",
       "3  6.147612e+09        3587  \n",
       "4  6.147616e+09        3587  \n",
       "\n",
       "[5 rows x 33 columns]"
      ]
     },
     "execution_count": 52,
     "metadata": {},
     "output_type": "execute_result"
    }
   ],
   "source": [
    "pulse_data['icustay_id'] = pulse_data['id'].astype(int)\n",
    "pulse_data = pulse_data.reset_index()\n",
    "pulse_data.head()"
   ]
  },
  {
   "cell_type": "code",
   "execution_count": 53,
   "metadata": {},
   "outputs": [],
   "source": [
    "column_mappings = {\n",
    "    'Albumin - BloodConcentration (mg/L)': 'Albumin',\n",
    "    'ArterialCarbonDioxidePressure (mmHg)': 'paCO2',\n",
    "    'ArterialOxygenPressure (mmHg)': 'paO2',\n",
    "    'Bicarbonate - BloodConcentration (mg/L)': 'HCO3',\n",
    "    'BloodPH (None)': 'Arterial_pH',\n",
    "    'BloodUreaNitrogenConcentration (mg/dL)': 'BUN',\n",
    "    'Calcium - BloodConcentration (mg/L)': 'Calcium',\n",
    "    'Chloride - BloodConcentration (mg/L)': 'Chloride',\n",
    "    'Creatinine - BloodConcentration (mg/L)': 'Creatinine',\n",
    "    'DiastolicArterialPressure (mmHg)': 'DiaBP',\n",
    "    'Glucose - BloodConcentration (mg/L)': 'Glucose',\n",
    "    'Lactate - BloodConcentration (mg/L)': 'Arterial_lactate',\n",
    "    'MeanArterialPressure (mmHg)': 'MeanBP',\n",
    "    'Potassium - BloodConcentration (mg/L)': 'Potassium',\n",
    "    'RespirationRate (1/min)': 'RR',\n",
    "    'SaturationAndFractionOfInspiredOxygenRatio (None)': 'PaO2_FiO2',\n",
    "    'SkinTemperature (degC)': 'Temp_C',\n",
    "    'Sodium - BloodConcentration (mg/L)': 'Sodium',\n",
    "    'SystolicArterialPressure (mmHg)': 'SysBP',\n",
    "    'WhiteBloodCellCount (ct/uL)': 'WBC_count',\n",
    "    'HeartRate (1/min)': 'HR'\n",
    "}\n",
    "\n",
    "pulse_rename = {}\n",
    "\n",
    "for k, v in column_mappings.items():\n",
    "    pulse_rename.update({k: f\"{v}\"})\n",
    "\n",
    "pulse_data = pulse_data.rename(columns=pulse_rename)"
   ]
  },
  {
   "cell_type": "code",
   "execution_count": 54,
   "metadata": {},
   "outputs": [
    {
     "data": {
      "text/html": [
       "<div>\n",
       "<style scoped>\n",
       "    .dataframe tbody tr th:only-of-type {\n",
       "        vertical-align: middle;\n",
       "    }\n",
       "\n",
       "    .dataframe tbody tr th {\n",
       "        vertical-align: top;\n",
       "    }\n",
       "\n",
       "    .dataframe thead th {\n",
       "        text-align: right;\n",
       "    }\n",
       "</style>\n",
       "<table border=\"1\" class=\"dataframe\">\n",
       "  <thead>\n",
       "    <tr style=\"text-align: right;\">\n",
       "      <th></th>\n",
       "      <th>bloc</th>\n",
       "      <th>icustay_id</th>\n",
       "      <th>charttime</th>\n",
       "      <th>gender</th>\n",
       "      <th>age</th>\n",
       "      <th>elixhauser</th>\n",
       "      <th>re_admission</th>\n",
       "      <th>died_in_hosp</th>\n",
       "      <th>died_within_48h_of_out_time</th>\n",
       "      <th>mortality_90d</th>\n",
       "      <th>...</th>\n",
       "      <th>Shock_Index</th>\n",
       "      <th>PaO2_FiO2</th>\n",
       "      <th>median_dose_vaso</th>\n",
       "      <th>max_dose_vaso</th>\n",
       "      <th>input_total</th>\n",
       "      <th>input_1hourly</th>\n",
       "      <th>output_total</th>\n",
       "      <th>output_1hourly</th>\n",
       "      <th>cumulated_balance</th>\n",
       "      <th>A</th>\n",
       "    </tr>\n",
       "  </thead>\n",
       "  <tbody>\n",
       "    <tr>\n",
       "      <th>0</th>\n",
       "      <td>1</td>\n",
       "      <td>65537</td>\n",
       "      <td>7.139723e+09</td>\n",
       "      <td>0.0</td>\n",
       "      <td>22799.40478</td>\n",
       "      <td>4.0</td>\n",
       "      <td>1.0</td>\n",
       "      <td>0.0</td>\n",
       "      <td>0.0</td>\n",
       "      <td>0.0</td>\n",
       "      <td>...</td>\n",
       "      <td>0.687500</td>\n",
       "      <td>363.888889</td>\n",
       "      <td>0.18</td>\n",
       "      <td>0.18</td>\n",
       "      <td>4020.493550</td>\n",
       "      <td>29.994183</td>\n",
       "      <td>7235.0</td>\n",
       "      <td>3605.0</td>\n",
       "      <td>-3184.512267</td>\n",
       "      <td>1</td>\n",
       "    </tr>\n",
       "    <tr>\n",
       "      <th>1</th>\n",
       "      <td>2</td>\n",
       "      <td>65537</td>\n",
       "      <td>7.139727e+09</td>\n",
       "      <td>0.0</td>\n",
       "      <td>22799.40478</td>\n",
       "      <td>4.0</td>\n",
       "      <td>1.0</td>\n",
       "      <td>0.0</td>\n",
       "      <td>0.0</td>\n",
       "      <td>0.0</td>\n",
       "      <td>...</td>\n",
       "      <td>0.602564</td>\n",
       "      <td>430.555556</td>\n",
       "      <td>0.00</td>\n",
       "      <td>0.00</td>\n",
       "      <td>4050.487733</td>\n",
       "      <td>515.407667</td>\n",
       "      <td>10760.0</td>\n",
       "      <td>3525.0</td>\n",
       "      <td>-6194.104600</td>\n",
       "      <td>2</td>\n",
       "    </tr>\n",
       "    <tr>\n",
       "      <th>2</th>\n",
       "      <td>3</td>\n",
       "      <td>65537</td>\n",
       "      <td>7.139731e+09</td>\n",
       "      <td>0.0</td>\n",
       "      <td>22799.40478</td>\n",
       "      <td>4.0</td>\n",
       "      <td>1.0</td>\n",
       "      <td>0.0</td>\n",
       "      <td>0.0</td>\n",
       "      <td>0.0</td>\n",
       "      <td>...</td>\n",
       "      <td>0.751456</td>\n",
       "      <td>402.222222</td>\n",
       "      <td>0.00</td>\n",
       "      <td>0.00</td>\n",
       "      <td>4565.895400</td>\n",
       "      <td>547.876700</td>\n",
       "      <td>14235.0</td>\n",
       "      <td>3475.0</td>\n",
       "      <td>-9121.227900</td>\n",
       "      <td>2</td>\n",
       "    </tr>\n",
       "    <tr>\n",
       "      <th>3</th>\n",
       "      <td>4</td>\n",
       "      <td>65537</td>\n",
       "      <td>7.139734e+09</td>\n",
       "      <td>0.0</td>\n",
       "      <td>22799.40478</td>\n",
       "      <td>4.0</td>\n",
       "      <td>1.0</td>\n",
       "      <td>0.0</td>\n",
       "      <td>0.0</td>\n",
       "      <td>0.0</td>\n",
       "      <td>...</td>\n",
       "      <td>0.804762</td>\n",
       "      <td>275.000000</td>\n",
       "      <td>0.00</td>\n",
       "      <td>0.00</td>\n",
       "      <td>5113.772100</td>\n",
       "      <td>2097.144000</td>\n",
       "      <td>17630.0</td>\n",
       "      <td>3395.0</td>\n",
       "      <td>-10419.083900</td>\n",
       "      <td>2</td>\n",
       "    </tr>\n",
       "    <tr>\n",
       "      <th>4</th>\n",
       "      <td>5</td>\n",
       "      <td>65537</td>\n",
       "      <td>7.139738e+09</td>\n",
       "      <td>0.0</td>\n",
       "      <td>22799.40478</td>\n",
       "      <td>4.0</td>\n",
       "      <td>1.0</td>\n",
       "      <td>0.0</td>\n",
       "      <td>0.0</td>\n",
       "      <td>0.0</td>\n",
       "      <td>...</td>\n",
       "      <td>0.804245</td>\n",
       "      <td>283.000000</td>\n",
       "      <td>0.00</td>\n",
       "      <td>0.00</td>\n",
       "      <td>7210.916100</td>\n",
       "      <td>519.833583</td>\n",
       "      <td>20785.0</td>\n",
       "      <td>3155.0</td>\n",
       "      <td>-13054.250317</td>\n",
       "      <td>2</td>\n",
       "    </tr>\n",
       "  </tbody>\n",
       "</table>\n",
       "<p>5 rows × 60 columns</p>\n",
       "</div>"
      ],
      "text/plain": [
       "   bloc  icustay_id     charttime  gender          age  elixhauser  \\\n",
       "0     1       65537  7.139723e+09     0.0  22799.40478         4.0   \n",
       "1     2       65537  7.139727e+09     0.0  22799.40478         4.0   \n",
       "2     3       65537  7.139731e+09     0.0  22799.40478         4.0   \n",
       "3     4       65537  7.139734e+09     0.0  22799.40478         4.0   \n",
       "4     5       65537  7.139738e+09     0.0  22799.40478         4.0   \n",
       "\n",
       "   re_admission  died_in_hosp  died_within_48h_of_out_time  mortality_90d  \\\n",
       "0           1.0           0.0                          0.0            0.0   \n",
       "1           1.0           0.0                          0.0            0.0   \n",
       "2           1.0           0.0                          0.0            0.0   \n",
       "3           1.0           0.0                          0.0            0.0   \n",
       "4           1.0           0.0                          0.0            0.0   \n",
       "\n",
       "   ...  Shock_Index   PaO2_FiO2  median_dose_vaso  max_dose_vaso  input_total  \\\n",
       "0  ...     0.687500  363.888889              0.18           0.18  4020.493550   \n",
       "1  ...     0.602564  430.555556              0.00           0.00  4050.487733   \n",
       "2  ...     0.751456  402.222222              0.00           0.00  4565.895400   \n",
       "3  ...     0.804762  275.000000              0.00           0.00  5113.772100   \n",
       "4  ...     0.804245  283.000000              0.00           0.00  7210.916100   \n",
       "\n",
       "   input_1hourly  output_total  output_1hourly  cumulated_balance  A  \n",
       "0      29.994183        7235.0          3605.0       -3184.512267  1  \n",
       "1     515.407667       10760.0          3525.0       -6194.104600  2  \n",
       "2     547.876700       14235.0          3475.0       -9121.227900  2  \n",
       "3    2097.144000       17630.0          3395.0      -10419.083900  2  \n",
       "4     519.833583       20785.0          3155.0      -13054.250317  2  \n",
       "\n",
       "[5 rows x 60 columns]"
      ]
     },
     "execution_count": 54,
     "metadata": {},
     "output_type": "execute_result"
    }
   ],
   "source": [
    "MIMICtable = pd.read_csv(\"/data/localhost/taufiq/export-dir/MIMIC-1hourly-length-5-train.csv\")\n",
    "MIMICtable['icustay_id'] = MIMICtable['icustay_id'].astype(int)\n",
    "MIMICtable.head()"
   ]
  },
  {
   "cell_type": "markdown",
   "metadata": {},
   "source": [
    "## Create Actions\n"
   ]
  },
  {
   "cell_type": "code",
   "execution_count": 55,
   "metadata": {},
   "outputs": [],
   "source": [
    "nra = 5\n",
    "nr_reps = 2"
   ]
  },
  {
   "cell_type": "code",
   "execution_count": 56,
   "metadata": {},
   "outputs": [],
   "source": [
    "from sklearn.cluster import KMeans\n",
    "from scipy.stats import rankdata\n",
    "\n",
    "logging.info('Creating action bins')\n",
    "nact = nra**2\n",
    "input_1hourly_nonzero = MIMICtable.loc[MIMICtable['input_1hourly']>0, 'input_1hourly']\n",
    "iol_ranked = rankdata(input_1hourly_nonzero)/len(input_1hourly_nonzero) # excludes zero fluid (will be action 1)\n",
    "iof = np.floor((iol_ranked + 0.2499999999)*4) # converts iv volume in 4 actions\n",
    "io = np.ones(len(MIMICtable)) # array of ones, by default\n",
    "io[MIMICtable['input_1hourly']>0] = iof + 1 # where more than zero fluid given: save actual action\n",
    "vc = MIMICtable['max_dose_vaso'].copy()\n",
    "vc_nonzero = MIMICtable.loc[MIMICtable['max_dose_vaso']!=0, 'max_dose_vaso']\n",
    "vc_ranked = rankdata(vc_nonzero)/len(vc_nonzero)\n",
    "vcf = np.floor((vc_ranked + 0.2499999999)*4) # converts to 4 bins\n",
    "vcf[vcf==0] = 1\n",
    "vc[vc!=0] = vcf + 1\n",
    "vc[vc==0] = 1\n",
    "# median dose of drug in all bins\n",
    "ma1 = [MIMICtable.loc[io==1, 'input_1hourly'].median(), MIMICtable.loc[io==2, 'input_1hourly'].median(), MIMICtable.loc[io==3, 'input_1hourly'].median(), MIMICtable.loc[io==4, 'input_1hourly'].median(), MIMICtable.loc[io==5, 'input_1hourly'].median()]\n",
    "ma2 = [MIMICtable.loc[vc==1, 'max_dose_vaso'].median(), MIMICtable.loc[vc==2, 'max_dose_vaso'].median(), MIMICtable.loc[vc==3, 'max_dose_vaso'].median(), MIMICtable.loc[vc==4, 'max_dose_vaso'].median(), MIMICtable.loc[vc==5, 'max_dose_vaso'].median()]\n",
    "med = pd.DataFrame(data={'IV':io, 'VC': vc})\n",
    "med = med.astype({'IV': 'int32', 'VC': 'int32'})\n",
    "uniqueValues = med.drop_duplicates().reset_index(drop=True)\n",
    "uniqueValueDoses = pd.DataFrame()\n",
    "for index, row in uniqueValues.iterrows():\n",
    "    uniqueValueDoses.at[index, 'IV'], uniqueValueDoses.at[index, 'VC'] = ma1[row['IV']-1], ma2[row['VC']-1]\n",
    "\n",
    "actionbloc = pd.DataFrame()\n",
    "for index, row in med.iterrows():\n",
    "    actionbloc.at[index, 'action_bloc'] = uniqueValues.loc[(uniqueValues['IV'] == row['IV']) & (uniqueValues['VC'] == row['VC'])].index.values[0]+1\n",
    "actionbloc = actionbloc.astype({'action_bloc':'int32'})\n",
    "\n",
    "logging.info('Action bins created')"
   ]
  },
  {
   "cell_type": "code",
   "execution_count": 57,
   "metadata": {},
   "outputs": [
    {
     "data": {
      "text/plain": [
       "25575"
      ]
     },
     "execution_count": 57,
     "metadata": {},
     "output_type": "execute_result"
    }
   ],
   "source": [
    "MIMICtable['A'] = actionbloc['action_bloc']\n",
    "len(actionbloc)"
   ]
  },
  {
   "cell_type": "code",
   "execution_count": 58,
   "metadata": {},
   "outputs": [],
   "source": [
    "MIMICtable_filtered_t0 = MIMICtable[MIMICtable['bloc']==1].reset_index()\n",
    "MIMICtable_filtered_t1 = MIMICtable[MIMICtable['bloc']==2][[\n",
    "       'gender', 'age', 'Weight_kg',\n",
    "       'icustay_id', 'RR', 'HR', 'SysBP', 'MeanBP', 'DiaBP',\n",
    "       'SpO2', 'Temp_C', 'FiO2_1', 'Potassium', 'Sodium', 'Chloride',\n",
    "       'Glucose', 'BUN', 'Creatinine', 'Magnesium', 'Calcium', 'Ionised_Ca',\n",
    "       'CO2_mEqL', 'SGOT', 'SGPT', 'Total_bili', 'Albumin', 'Hb', 'WBC_count',\n",
    "       'Platelets_count', 'PTT', 'PT', 'INR', 'Arterial_pH', 'paO2', 'paCO2',\n",
    "       'Arterial_BE', 'HCO3', 'Arterial_lactate', 'A']].reset_index()\n",
    "\n",
    "# MIMICtable_filtered_t0 = MIMICtable_filtered_t0.rename(columns={f'{col_name}':f'{col_name}_t0'})\n",
    "MIMICtable_filtered_t1 = MIMICtable_filtered_t1[MIMICtable_filtered_t1[col_name]>0].reset_index()\n",
    "# MIMICtable_filtered_t1 = MIMICtable_filtered_t1.rename(columns={f'{col_name}':f'{col_name}_t1'})\n",
    "MIMICtable_filtered_t0 = MIMICtable_filtered_t0[MIMICtable_filtered_t0['icustay_id'].isin(MIMICtable_filtered_t1['icustay_id'])].reset_index()\n",
    "# MIMIC_data_combined = MIMICtable_filtered_t0[['gender', 'age', 'icustay_id', f'{col_name}_t0']].merge(MIMICtable_filtered_t1[['icustay_id', f'{col_name}_t1']], on=['icustay_id'])\n",
    "# MIMIC_data_combined.head()"
   ]
  },
  {
   "cell_type": "code",
   "execution_count": 59,
   "metadata": {},
   "outputs": [],
   "source": [
    "pulse_data_t0 = pulse_data[pulse_data['index']==1].reset_index(drop=True)\n",
    "pulse_data_t1 = pulse_data[pulse_data['index']==2].reset_index(drop=True)\n",
    "pulse_data_t0 = MIMICtable[MIMICtable['bloc']==2][['gender', 'age', 'Weight_kg', 'icustay_id', 'A']].merge(pulse_data_t0, on=['icustay_id'])\n",
    "pulse_data_t1 = MIMICtable[MIMICtable['bloc']==3][['gender', 'age', 'Weight_kg', 'icustay_id', 'A']].merge(pulse_data_t1, on=['icustay_id'])"
   ]
  },
  {
   "cell_type": "code",
   "execution_count": 60,
   "metadata": {},
   "outputs": [],
   "source": [
    "pulse_data_t0 = pulse_data[pulse_data['index']==1].reset_index(drop=True)\n",
    "pulse_data_t1 = pulse_data[pulse_data['index']==2].reset_index(drop=True)\n",
    "pulse_data_t2 = pulse_data[pulse_data['index']==3].reset_index(drop=True)\n",
    "pulse_data_t3 = pulse_data[pulse_data['index']==4].reset_index(drop=True)\n",
    "\n",
    "pulse_data_t0 = MIMICtable[MIMICtable['bloc']==2][['gender', 'age', 'Weight_kg', 'icustay_id', 'A']].merge(pulse_data_t0, on=['icustay_id'])\n",
    "pulse_data_t1 = MIMICtable[MIMICtable['bloc']==3][['gender', 'age', 'Weight_kg', 'icustay_id', 'A']].merge(pulse_data_t1, on=['icustay_id'])\n",
    "pulse_data_t2 = MIMICtable[MIMICtable['bloc']==4][['gender', 'age', 'Weight_kg', 'icustay_id', 'A']].merge(pulse_data_t2, on=['icustay_id'])\n",
    "pulse_data_t3 = MIMICtable[MIMICtable['bloc']==5][['gender', 'age', 'Weight_kg', 'icustay_id', 'A']].merge(pulse_data_t3, on=['icustay_id'])\n",
    "\n",
    "# pulse_data_t0 = pd.concat([pulse_data_t0, pulse_data_t1, pulse_data_t2])\n",
    "# pulse_data_t1 = pd.concat([pulse_data_t1, pulse_data_t2, pulse_data_t3])"
   ]
  },
  {
   "cell_type": "markdown",
   "metadata": {},
   "source": [
    "# Supervised Learning of Actions - Logistic Regression\n"
   ]
  },
  {
   "cell_type": "code",
   "execution_count": 61,
   "metadata": {},
   "outputs": [
    {
     "data": {
      "text/html": [
       "<div>\n",
       "<style scoped>\n",
       "    .dataframe tbody tr th:only-of-type {\n",
       "        vertical-align: middle;\n",
       "    }\n",
       "\n",
       "    .dataframe tbody tr th {\n",
       "        vertical-align: top;\n",
       "    }\n",
       "\n",
       "    .dataframe thead th {\n",
       "        text-align: right;\n",
       "    }\n",
       "</style>\n",
       "<table border=\"1\" class=\"dataframe\">\n",
       "  <thead>\n",
       "    <tr style=\"text-align: right;\">\n",
       "      <th></th>\n",
       "      <th>level_0</th>\n",
       "      <th>index</th>\n",
       "      <th>bloc</th>\n",
       "      <th>icustay_id</th>\n",
       "      <th>charttime</th>\n",
       "      <th>gender</th>\n",
       "      <th>age</th>\n",
       "      <th>elixhauser</th>\n",
       "      <th>re_admission</th>\n",
       "      <th>died_in_hosp</th>\n",
       "      <th>...</th>\n",
       "      <th>Shock_Index</th>\n",
       "      <th>PaO2_FiO2</th>\n",
       "      <th>median_dose_vaso</th>\n",
       "      <th>max_dose_vaso</th>\n",
       "      <th>input_total</th>\n",
       "      <th>input_1hourly</th>\n",
       "      <th>output_total</th>\n",
       "      <th>output_1hourly</th>\n",
       "      <th>cumulated_balance</th>\n",
       "      <th>A</th>\n",
       "    </tr>\n",
       "  </thead>\n",
       "  <tbody>\n",
       "    <tr>\n",
       "      <th>0</th>\n",
       "      <td>0</td>\n",
       "      <td>0</td>\n",
       "      <td>1</td>\n",
       "      <td>65537</td>\n",
       "      <td>7.139723e+09</td>\n",
       "      <td>0.0</td>\n",
       "      <td>22799.404780</td>\n",
       "      <td>4.0</td>\n",
       "      <td>1.0</td>\n",
       "      <td>0.0</td>\n",
       "      <td>...</td>\n",
       "      <td>0.687500</td>\n",
       "      <td>363.888889</td>\n",
       "      <td>0.18</td>\n",
       "      <td>0.18</td>\n",
       "      <td>4020.49355</td>\n",
       "      <td>29.994183</td>\n",
       "      <td>7235.0</td>\n",
       "      <td>3605.0</td>\n",
       "      <td>-3184.512267</td>\n",
       "      <td>1</td>\n",
       "    </tr>\n",
       "    <tr>\n",
       "      <th>1</th>\n",
       "      <td>1</td>\n",
       "      <td>5</td>\n",
       "      <td>1</td>\n",
       "      <td>65544</td>\n",
       "      <td>7.056917e+09</td>\n",
       "      <td>0.0</td>\n",
       "      <td>24000.436400</td>\n",
       "      <td>3.0</td>\n",
       "      <td>0.0</td>\n",
       "      <td>0.0</td>\n",
       "      <td>...</td>\n",
       "      <td>0.770925</td>\n",
       "      <td>938.636364</td>\n",
       "      <td>0.00</td>\n",
       "      <td>0.00</td>\n",
       "      <td>11332.00000</td>\n",
       "      <td>0.000000</td>\n",
       "      <td>8210.0</td>\n",
       "      <td>4105.0</td>\n",
       "      <td>3122.000000</td>\n",
       "      <td>3</td>\n",
       "    </tr>\n",
       "    <tr>\n",
       "      <th>2</th>\n",
       "      <td>2</td>\n",
       "      <td>10</td>\n",
       "      <td>1</td>\n",
       "      <td>98314</td>\n",
       "      <td>4.762714e+09</td>\n",
       "      <td>0.0</td>\n",
       "      <td>23940.093773</td>\n",
       "      <td>4.0</td>\n",
       "      <td>0.0</td>\n",
       "      <td>1.0</td>\n",
       "      <td>...</td>\n",
       "      <td>0.906504</td>\n",
       "      <td>287.500000</td>\n",
       "      <td>0.00</td>\n",
       "      <td>0.00</td>\n",
       "      <td>0.00000</td>\n",
       "      <td>0.000000</td>\n",
       "      <td>14490.0</td>\n",
       "      <td>7245.0</td>\n",
       "      <td>-14490.000000</td>\n",
       "      <td>3</td>\n",
       "    </tr>\n",
       "    <tr>\n",
       "      <th>3</th>\n",
       "      <td>3</td>\n",
       "      <td>15</td>\n",
       "      <td>1</td>\n",
       "      <td>14</td>\n",
       "      <td>4.264269e+09</td>\n",
       "      <td>0.0</td>\n",
       "      <td>30946.970000</td>\n",
       "      <td>2.0</td>\n",
       "      <td>0.0</td>\n",
       "      <td>0.0</td>\n",
       "      <td>...</td>\n",
       "      <td>0.647399</td>\n",
       "      <td>577.499991</td>\n",
       "      <td>0.00</td>\n",
       "      <td>0.00</td>\n",
       "      <td>0.00000</td>\n",
       "      <td>80.000000</td>\n",
       "      <td>1263.0</td>\n",
       "      <td>599.0</td>\n",
       "      <td>-1183.000000</td>\n",
       "      <td>5</td>\n",
       "    </tr>\n",
       "    <tr>\n",
       "      <th>4</th>\n",
       "      <td>4</td>\n",
       "      <td>20</td>\n",
       "      <td>1</td>\n",
       "      <td>65553</td>\n",
       "      <td>7.142713e+09</td>\n",
       "      <td>0.0</td>\n",
       "      <td>19339.946505</td>\n",
       "      <td>2.0</td>\n",
       "      <td>1.0</td>\n",
       "      <td>0.0</td>\n",
       "      <td>...</td>\n",
       "      <td>0.783654</td>\n",
       "      <td>153.571429</td>\n",
       "      <td>0.00</td>\n",
       "      <td>0.00</td>\n",
       "      <td>1350.00000</td>\n",
       "      <td>400.000000</td>\n",
       "      <td>1625.0</td>\n",
       "      <td>780.0</td>\n",
       "      <td>125.000000</td>\n",
       "      <td>2</td>\n",
       "    </tr>\n",
       "  </tbody>\n",
       "</table>\n",
       "<p>5 rows × 62 columns</p>\n",
       "</div>"
      ],
      "text/plain": [
       "   level_0  index  bloc  icustay_id     charttime  gender           age  \\\n",
       "0        0      0     1       65537  7.139723e+09     0.0  22799.404780   \n",
       "1        1      5     1       65544  7.056917e+09     0.0  24000.436400   \n",
       "2        2     10     1       98314  4.762714e+09     0.0  23940.093773   \n",
       "3        3     15     1          14  4.264269e+09     0.0  30946.970000   \n",
       "4        4     20     1       65553  7.142713e+09     0.0  19339.946505   \n",
       "\n",
       "   elixhauser  re_admission  died_in_hosp  ...  Shock_Index   PaO2_FiO2  \\\n",
       "0         4.0           1.0           0.0  ...     0.687500  363.888889   \n",
       "1         3.0           0.0           0.0  ...     0.770925  938.636364   \n",
       "2         4.0           0.0           1.0  ...     0.906504  287.500000   \n",
       "3         2.0           0.0           0.0  ...     0.647399  577.499991   \n",
       "4         2.0           1.0           0.0  ...     0.783654  153.571429   \n",
       "\n",
       "   median_dose_vaso  max_dose_vaso  input_total  input_1hourly  output_total  \\\n",
       "0              0.18           0.18   4020.49355      29.994183        7235.0   \n",
       "1              0.00           0.00  11332.00000       0.000000        8210.0   \n",
       "2              0.00           0.00      0.00000       0.000000       14490.0   \n",
       "3              0.00           0.00      0.00000      80.000000        1263.0   \n",
       "4              0.00           0.00   1350.00000     400.000000        1625.0   \n",
       "\n",
       "   output_1hourly  cumulated_balance  A  \n",
       "0          3605.0       -3184.512267  1  \n",
       "1          4105.0        3122.000000  3  \n",
       "2          7245.0      -14490.000000  3  \n",
       "3           599.0       -1183.000000  5  \n",
       "4           780.0         125.000000  2  \n",
       "\n",
       "[5 rows x 62 columns]"
      ]
     },
     "execution_count": 61,
     "metadata": {},
     "output_type": "execute_result"
    }
   ],
   "source": [
    "MIMICtable_filtered_t0.head()"
   ]
  },
  {
   "cell_type": "code",
   "execution_count": 62,
   "metadata": {},
   "outputs": [],
   "source": [
    "x_columns = ['gender', 'age', 'Weight_kg', 'paCO2', 'paO2', 'HCO3', 'Arterial_pH', 'Calcium', 'Chloride', 'DiaBP', 'Glucose', 'MeanBP', 'Potassium', 'RR', 'PaO2_FiO2', 'Temp_C', 'Sodium', 'SysBP', 'HR']"
   ]
  },
  {
   "cell_type": "code",
   "execution_count": 27,
   "metadata": {},
   "outputs": [],
   "source": [
    "# #################   Convert training data and compute conversion factors    ######################\n",
    "# logging.info('Processing raw data')\n",
    "# # all 47 columns of interest\n",
    "# colbin = ['gender']\n",
    "# colnorm=['age','Weight_kg','GCS','HR','SysBP','MeanBP','DiaBP','RR','Temp_C','FiO2_1',\\\n",
    "#     'Potassium','Sodium','Chloride','Glucose','Magnesium','Calcium',\\\n",
    "#     'Hb','WBC_count','Platelets_count','PTT','PT','Arterial_pH','paO2','paCO2',\\\n",
    "#     'Arterial_BE','HCO3','Arterial_lactate','SOFA','SIRS','Shock_Index','PaO2_FiO2','cumulated_balance']\n",
    "# # collog=['SpO2','BUN','Creatinine','SGOT','SGPT','Total_bili','INR','output_total','output_1hourly']\n",
    "\n",
    "\n",
    "# MIMICraw = MIMIC_data_combined[['gender', 'age', f'{col_name}_t0']].copy()\n",
    "\n",
    "# for col in MIMICraw:\n",
    "#     if col in colbin:\n",
    "#         MIMICraw[col] = MIMICraw[col] - 0.5\n",
    "# #     elif col in colnorm:\n",
    "#     else:\n",
    "#         cmu = MIMICraw[col].mean()\n",
    "#         csigma = MIMICraw[col].std()\n",
    "#         MIMICraw[col] = (MIMICraw[col] - cmu)/csigma\n",
    "# #     else:\n",
    "# #         log_values = np.log(0.1 + MIMICraw[col])\n",
    "# #         dmu = log_values.mean()\n",
    "# #         dsigma = log_values.std()\n",
    "# #         MIMICraw[col] = (log_values - dmu)/dsigma    \n",
    "# logging.info('Raw data processed')\n"
   ]
  },
  {
   "cell_type": "code",
   "execution_count": 63,
   "metadata": {},
   "outputs": [],
   "source": [
    "#################   Convert training data and compute conversion factors    ######################\n",
    "logging.info('Processing raw data')\n",
    "# all 47 columns of interest\n",
    "colbin = ['gender']\n",
    "colnorm=['age','Weight_kg','GCS','HR','SysBP','MeanBP','DiaBP','RR','Temp_C','FiO2_1',\\\n",
    "    'Potassium','Sodium','Chloride','Glucose','Magnesium','Calcium',\\\n",
    "    'Hb','WBC_count','Platelets_count','PTT','PT','Arterial_pH','paO2','paCO2',\\\n",
    "    'Arterial_BE','HCO3','Arterial_lactate','SOFA','SIRS','Shock_Index','PaO2_FiO2','cumulated_balance']\n",
    "collog=['SpO2','BUN','Creatinine','SGOT','SGPT','Total_bili','INR','output_total','output_1hourly']\n",
    "\n",
    "\n",
    "MIMICraw = MIMICtable_filtered_t0[x_columns].copy()\n",
    "\n",
    "for col in MIMICraw:\n",
    "    if col in colbin:\n",
    "        MIMICraw[col] = MIMICraw[col] - 0.5\n",
    "    elif col in colnorm:\n",
    "        cmu = MIMICraw[col].mean()\n",
    "        csigma = MIMICraw[col].std()\n",
    "        MIMICraw[col] = (MIMICraw[col] - cmu)/csigma\n",
    "    else:\n",
    "        log_values = np.log(0.1 + MIMICraw[col])\n",
    "        dmu = log_values.mean()\n",
    "        dsigma = log_values.std()\n",
    "        MIMICraw[col] = (log_values - dmu)/dsigma    \n",
    "logging.info('Raw data processed')\n"
   ]
  },
  {
   "cell_type": "code",
   "execution_count": 64,
   "metadata": {},
   "outputs": [],
   "source": [
    "#################   Convert training data and compute conversion factors    ######################\n",
    "logging.info('Processing raw data')\n",
    "# all 47 columns of interest\n",
    "colbin = ['gender']\n",
    "colnorm=['age','Weight_kg','GCS','HR','SysBP','MeanBP','DiaBP','RR','Temp_C','FiO2_1',\\\n",
    "    'Potassium','Sodium','Chloride','Glucose','Magnesium','Calcium',\\\n",
    "    'Hb','WBC_count','Platelets_count','PTT','PT','Arterial_pH','paO2','paCO2',\\\n",
    "    'Arterial_BE','HCO3','Arterial_lactate','SOFA','SIRS','Shock_Index','PaO2_FiO2','cumulated_balance']\n",
    "collog=['SpO2','BUN','Creatinine','SGOT','SGPT','Total_bili','INR','output_total','output_1hourly']\n",
    "\n",
    "pulseraw = pulse_data_t0[x_columns].copy()\n",
    "\n",
    "for col in pulseraw:\n",
    "    if col in colbin:\n",
    "        pulseraw[col] = pulseraw[col] - 0.5\n",
    "    elif col in colnorm:\n",
    "        cmu = pulseraw[col].mean()\n",
    "        csigma = pulseraw[col].std()\n",
    "        pulseraw[col] = (pulseraw[col] - cmu)/csigma\n",
    "    else:\n",
    "        log_values = np.log(0.1 + pulseraw[col])\n",
    "        dmu = log_values.mean()\n",
    "        dsigma = log_values.std()\n",
    "        pulseraw[col] = (log_values - dmu)/dsigma    \n",
    "logging.info('Raw data processed')\n"
   ]
  },
  {
   "cell_type": "markdown",
   "metadata": {},
   "source": [
    "## Fitting models"
   ]
  },
  {
   "cell_type": "code",
   "execution_count": 30,
   "metadata": {},
   "outputs": [
    {
     "name": "stderr",
     "output_type": "stream",
     "text": [
      "100%|██████████| 2/2 [00:00<00:00,  2.24it/s]\n"
     ]
    }
   ],
   "source": [
    "from sklearn.linear_model import LogisticRegression\n",
    "icuuniqueids = MIMICtable_filtered_t0['icustay_id'].unique()\n",
    "modelsDf = pd.DataFrame()\n",
    "\n",
    "logging.info('Fitting models')\n",
    "\n",
    "for model in tqdm(range(nr_reps)):\n",
    "    logging.info('Model: ' + str(model))\n",
    "    grp = np.floor(5*np.random.rand(len(icuuniqueids))+1)\n",
    "    crossval = 1\n",
    "    trainidx = icuuniqueids[grp != crossval]\n",
    "    testidx = icuuniqueids[grp == crossval]\n",
    "    X = MIMICraw.loc[MIMICtable_filtered_t0['icustay_id'].isin(trainidx)]\n",
    "    Xtestmimic = MIMICraw[MIMICtable_filtered_t0['icustay_id'].isin(testidx)]\n",
    "    Y = MIMICtable_filtered_t0.loc[MIMICtable_filtered_t0['icustay_id'].isin(trainidx), 'A']\n",
    "    Ytest = MIMICtable_filtered_t0.loc[MIMICtable_filtered_t0['icustay_id'].isin(testidx), 'A']\n",
    "    clf = LogisticRegression(random_state=0, max_iter=100000).fit(X, Y)\n",
    "    acc_train = clf.score(X, Y)\n",
    "    acc_test = clf.score(Xtestmimic, Ytest)\n",
    "    modelsDf = modelsDf.append({'model': model, 'regressor': clf, 'acc_train': acc_train, 'acc_test': acc_test}, ignore_index=True)\n",
    "logging.info('Model fitting done!')"
   ]
  },
  {
   "cell_type": "code",
   "execution_count": 31,
   "metadata": {},
   "outputs": [
    {
     "data": {
      "text/plain": [
       "array([[4.24301632e-03, 4.86548765e-02, 6.62707483e-01, ...,\n",
       "        1.34874621e-03, 4.86409550e-03, 5.15814482e-03],\n",
       "       [4.70914423e-04, 5.34582270e-02, 5.14206438e-01, ...,\n",
       "        5.37442620e-04, 9.22980296e-04, 1.01580160e-03],\n",
       "       [1.97699350e-04, 8.62977448e-02, 6.02711715e-01, ...,\n",
       "        2.34964351e-04, 6.15938254e-05, 3.21979602e-03],\n",
       "       ...,\n",
       "       [4.38402864e-03, 8.74538148e-02, 4.34798453e-01, ...,\n",
       "        5.67213594e-03, 3.58139688e-03, 1.82413459e-03],\n",
       "       [5.33313564e-04, 9.56893781e-02, 5.52567672e-01, ...,\n",
       "        1.28158246e-03, 1.66743199e-03, 4.45025899e-03],\n",
       "       [6.16395033e-03, 6.43836602e-02, 5.21608207e-01, ...,\n",
       "        1.42941189e-02, 7.88743529e-04, 8.84065020e-03]])"
      ]
     },
     "execution_count": 31,
     "metadata": {},
     "output_type": "execute_result"
    }
   ],
   "source": [
    "clf.predict_proba(Xtestmimic)"
   ]
  },
  {
   "cell_type": "code",
   "execution_count": 32,
   "metadata": {},
   "outputs": [
    {
     "data": {
      "text/html": [
       "<div>\n",
       "<style scoped>\n",
       "    .dataframe tbody tr th:only-of-type {\n",
       "        vertical-align: middle;\n",
       "    }\n",
       "\n",
       "    .dataframe tbody tr th {\n",
       "        vertical-align: top;\n",
       "    }\n",
       "\n",
       "    .dataframe thead th {\n",
       "        text-align: right;\n",
       "    }\n",
       "</style>\n",
       "<table border=\"1\" class=\"dataframe\">\n",
       "  <thead>\n",
       "    <tr style=\"text-align: right;\">\n",
       "      <th></th>\n",
       "      <th>acc_test</th>\n",
       "      <th>acc_train</th>\n",
       "      <th>model</th>\n",
       "      <th>regressor</th>\n",
       "    </tr>\n",
       "  </thead>\n",
       "  <tbody>\n",
       "    <tr>\n",
       "      <th>0</th>\n",
       "      <td>0.532020</td>\n",
       "      <td>0.523236</td>\n",
       "      <td>0.0</td>\n",
       "      <td>LogisticRegression(C=1.0, class_weight=None, d...</td>\n",
       "    </tr>\n",
       "    <tr>\n",
       "      <th>1</th>\n",
       "      <td>0.512846</td>\n",
       "      <td>0.527190</td>\n",
       "      <td>1.0</td>\n",
       "      <td>LogisticRegression(C=1.0, class_weight=None, d...</td>\n",
       "    </tr>\n",
       "  </tbody>\n",
       "</table>\n",
       "</div>"
      ],
      "text/plain": [
       "   acc_test  acc_train  model  \\\n",
       "0  0.532020   0.523236    0.0   \n",
       "1  0.512846   0.527190    1.0   \n",
       "\n",
       "                                           regressor  \n",
       "0  LogisticRegression(C=1.0, class_weight=None, d...  \n",
       "1  LogisticRegression(C=1.0, class_weight=None, d...  "
      ]
     },
     "execution_count": 32,
     "metadata": {},
     "output_type": "execute_result"
    }
   ],
   "source": [
    "modelsDf"
   ]
  },
  {
   "cell_type": "markdown",
   "metadata": {},
   "source": [
    "# Fit $\\pi(a_0\\mid x_0)$ using Neural Net"
   ]
  },
  {
   "cell_type": "code",
   "execution_count": 66,
   "metadata": {},
   "outputs": [],
   "source": [
    "import torch.utils.data as data_utils\n",
    "\n",
    "class PolicyNetwork(torch.nn.Module):\n",
    "    def __init__(self, input_dim, output_dim, hidden_1_dim=10):\n",
    "        super(PolicyNetwork, self).__init__()\n",
    "        self.hid1 = torch.nn.Linear(input_dim, hidden_1_dim)\n",
    "        self.outp = torch.nn.Linear(hidden_1_dim, output_dim)\n",
    "        self.softmax = torch.nn.Softmax(dim=2)\n",
    "        self.leaky_relu = torch.nn.LeakyReLU()\n",
    "        self.tanh = torch.nn.Tanh()\n",
    "\n",
    "        torch.nn.init.xavier_uniform_(self.hid1.weight)\n",
    "        torch.nn.init.zeros_(self.hid1.bias)\n",
    "        torch.nn.init.xavier_uniform_(self.outp.weight)\n",
    "        torch.nn.init.zeros_(self.outp.bias)\n",
    "\n",
    "    def forward(self, x):\n",
    "        z = self.tanh(self.hid1(x))\n",
    "        z = self.outp(z)\n",
    "        return z"
   ]
  },
  {
   "cell_type": "code",
   "execution_count": 34,
   "metadata": {},
   "outputs": [
    {
     "name": "stderr",
     "output_type": "stream",
     "text": [
      "100%|██████████| 2/2 [00:09<00:00,  4.76s/it]\n"
     ]
    }
   ],
   "source": [
    "icuuniqueids = MIMICtable_filtered_t0['icustay_id'].unique()\n",
    "for model in tqdm(range(nr_reps)):\n",
    "    grp = np.floor(5*np.random.rand(len(icuuniqueids))+1)\n",
    "    crossval = 1\n",
    "    trainidx = icuuniqueids[grp != crossval]\n",
    "    testidx = icuuniqueids[grp == crossval]\n",
    "    X = torch.FloatTensor(MIMICraw.loc[MIMICtable_filtered_t0['icustay_id'].isin(trainidx)].values)\n",
    "    Xtestmimic = torch.FloatTensor(MIMICraw[MIMICtable_filtered_t0['icustay_id'].isin(testidx)].values)\n",
    "    Y = torch.tensor(MIMICtable_filtered_t0.loc[MIMICtable_filtered_t0['icustay_id'].isin(trainidx), 'A'].values).to(torch.long)-1\n",
    "    Ytest = torch.tensor(MIMICtable_filtered_t0.loc[MIMICtable_filtered_t0['icustay_id'].isin(testidx), 'A'].values).to(torch.long)-1\n",
    "    train = data_utils.TensorDataset(X, Y)\n",
    "    trainloader = torch.utils.data.DataLoader(train, batch_size=32)\n",
    "    test = data_utils.TensorDataset(Xtestmimic, Ytest)\n",
    "    testloader = torch.utils.data.DataLoader(test, batch_size=32)\n",
    "\n",
    "    loss_func = torch.nn.CrossEntropyLoss()\n",
    "    policy = PolicyNetwork(input_dim=len(MIMICraw.columns), output_dim=25)\n",
    "    optimizer = torch.optim.SGD(policy.parameters(), lr=0.001)    \n",
    "    for epoch in range(100):\n",
    "        for data, label in trainloader:\n",
    "            prediction = policy(data)     # input x and predict based on x\n",
    "            loss = loss_func(prediction, label)     # must be (1. nn output, 2. target)\n",
    "            optimizer.zero_grad()   # clear gradients for next train\n",
    "            loss.backward()         # backpropagation, compute gradients\n",
    "            optimizer.step()        # apply gradients\n",
    "    torch.save(policy.state_dict(), f'{models_dir}/policy_{model}')\n",
    "    "
   ]
  },
  {
   "cell_type": "code",
   "execution_count": 67,
   "metadata": {},
   "outputs": [],
   "source": [
    "icuuniqueids = MIMICtable_filtered_t0['icustay_id'].unique()\n",
    "grp = np.floor(5*np.random.rand(len(icuuniqueids))+1)\n",
    "crossval = 1\n",
    "trainidx = icuuniqueids[grp != crossval]\n",
    "testidx = icuuniqueids[grp == crossval]\n",
    "X = torch.FloatTensor(MIMICraw.loc[MIMICtable_filtered_t0['icustay_id'].isin(trainidx)].values)\n",
    "Xtestmimic = torch.FloatTensor(MIMICraw[MIMICtable_filtered_t0['icustay_id'].isin(testidx)].values)\n",
    "Y = torch.tensor(MIMICtable_filtered_t0.loc[MIMICtable_filtered_t0['icustay_id'].isin(trainidx), 'A'].values).to(torch.long)-1\n",
    "Ytest = torch.tensor(MIMICtable_filtered_t0.loc[MIMICtable_filtered_t0['icustay_id'].isin(testidx), 'A'].values).to(torch.long)-1\n",
    "train = data_utils.TensorDataset(X, Y)\n",
    "trainloader = torch.utils.data.DataLoader(train, batch_size=32)\n",
    "test = data_utils.TensorDataset(Xtestmimic, Ytest)\n",
    "testloader = torch.utils.data.DataLoader(test, batch_size=32)\n",
    "\n",
    "loss_func = torch.nn.CrossEntropyLoss()\n",
    "policy = PolicyNetwork(input_dim=len(MIMICraw.columns), output_dim=25)\n",
    "optimizer = torch.optim.SGD(policy.parameters(), lr=0.001)"
   ]
  },
  {
   "cell_type": "code",
   "execution_count": 36,
   "metadata": {},
   "outputs": [
    {
     "name": "stderr",
     "output_type": "stream",
     "text": [
      "100%|██████████| 200/200 [00:09<00:00, 20.88it/s]\n"
     ]
    }
   ],
   "source": [
    "losses = []\n",
    "\n",
    "for epoch in tqdm(range(200)):\n",
    "    for data, label in trainloader:\n",
    "        prediction = policy(data)     # input x and predict based on x\n",
    "        loss = loss_func(prediction, label)     # must be (1. nn output, 2. target)\n",
    "        optimizer.zero_grad()   # clear gradients for next train\n",
    "        loss.backward()         # backpropagation, compute gradients\n",
    "        optimizer.step()        # apply gradients\n",
    "    if (epoch + 1) % 10 == 0:\n",
    "        with torch.no_grad():\n",
    "            test_loss = 0\n",
    "            for test_data, test_label in testloader:\n",
    "                test_loss += loss_func(policy(test_data), test_label)\n",
    "            losses.append(test_loss.item()/len(testloader))"
   ]
  },
  {
   "cell_type": "code",
   "execution_count": 37,
   "metadata": {},
   "outputs": [
    {
     "data": {
      "text/plain": [
       "[<matplotlib.lines.Line2D at 0x7fe170127a90>]"
      ]
     },
     "execution_count": 37,
     "metadata": {},
     "output_type": "execute_result"
    },
    {
     "data": {
      "image/png": "[encoded data removed]",
      "text/plain": [
       "<Figure size 432x288 with 1 Axes>"
      ]
     },
     "metadata": {
      "needs_background": "light"
     },
     "output_type": "display_data"
    }
   ],
   "source": [
    "plt.plot(losses)"
   ]
  },
  {
   "cell_type": "code",
   "execution_count": 38,
   "metadata": {},
   "outputs": [
    {
     "name": "stdout",
     "output_type": "stream",
     "text": [
      "Accuracy of the policy network: 54 %\n"
     ]
    }
   ],
   "source": [
    "correct = 0\n",
    "total = 0\n",
    "# since we're not training, we don't need to calculate the gradients for our outputs\n",
    "with torch.no_grad():\n",
    "    outputs = policy(Xtestmimic)\n",
    "    # the class with the highest energy is what we choose as prediction\n",
    "    _, predicted = torch.max(outputs.data, 1)\n",
    "    total += Xtestmimic.size(0)\n",
    "    correct += (predicted == Ytest).sum().item()\n",
    "\n",
    "print('Accuracy of the policy network: %d %%' % (\n",
    "    100 * correct / total))"
   ]
  },
  {
   "cell_type": "markdown",
   "metadata": {},
   "source": [
    "# Regressing $\\mathbb{E}[Y^{obs}\\mid x,a]$"
   ]
  },
  {
   "cell_type": "code",
   "execution_count": 74,
   "metadata": {},
   "outputs": [],
   "source": [
    "import torch\n",
    "from torch.autograd import Variable\n",
    "import torch.nn.functional as F\n",
    "import torch.utils.data as Data\n",
    "\n",
    "\n",
    "class Net(torch.nn.Module):\n",
    "    def __init__(self, n_feature, n_hidden, n_output):\n",
    "        super(Net, self).__init__()\n",
    "        self.hidden = torch.nn.Linear(n_feature, n_hidden)   # hidden layer\n",
    "        self.predict1 = torch.nn.Linear(n_hidden, n_hidden)   # output layer\n",
    "        self.predict2 = torch.nn.Linear(n_hidden, n_output)   # output layer\n",
    "        self.tanh = torch.nn.Tanh()\n",
    "\n",
    "    def forward(self, x):\n",
    "        x = self.tanh(self.hidden(x))      # activation function for hidden layer\n",
    "        x = self.tanh(self.predict1(x))\n",
    "        x = self.predict2(x)    # linear output\n",
    "        return x"
   ]
  },
  {
   "cell_type": "code",
   "execution_count": 75,
   "metadata": {},
   "outputs": [],
   "source": [
    "net = Net(n_feature=len(MIMICraw.columns)+25, n_hidden=10, n_output=1)\n",
    "optimizer = torch.optim.SGD(net.parameters(), lr=0.001, weight_decay=0.1)\n",
    "loss_func = torch.nn.MSELoss()"
   ]
  },
  {
   "cell_type": "code",
   "execution_count": 76,
   "metadata": {},
   "outputs": [],
   "source": [
    "grp = np.floor(5*np.random.rand(len(icuuniqueids))+1)\n",
    "crossval = 1\n",
    "trainidx = icuuniqueids[grp != crossval]\n",
    "testidx = icuuniqueids[grp == crossval]\n",
    "X = torch.FloatTensor(MIMICraw.loc[MIMICtable_filtered_t0['icustay_id'].isin(trainidx)].values)\n",
    "A = torch.nn.functional.one_hot(torch.tensor(MIMICtable_filtered_t0.loc[MIMICtable_filtered_t0['icustay_id'].isin(trainidx), 'A'].values).to(torch.long)-1, 25)\n",
    "Xtestmimic = torch.FloatTensor(MIMICraw[MIMICtable_filtered_t0['icustay_id'].isin(testidx)].values)\n",
    "Atest = torch.nn.functional.one_hot(torch.tensor(MIMICtable_filtered_t0.loc[MIMICtable_filtered_t0['icustay_id'].isin(testidx), 'A'].values).to(torch.long)-1, 25)\n",
    "ptid = MIMICtable_filtered_t0.loc[MIMICtable_filtered_t0['icustay_id'].isin(trainidx), 'icustay_id']\n",
    "ptidtestmimic = MIMICtable_filtered_t0.loc[MIMICtable_filtered_t0['icustay_id'].isin(testidx), 'icustay_id']\n",
    "Y = torch.FloatTensor(MIMICtable_filtered_t1.loc[MIMICtable_filtered_t0['icustay_id'].isin(trainidx), f'{col_name}'].values).unsqueeze(dim=1)\n",
    "Ytest = torch.FloatTensor(MIMICtable_filtered_t1.loc[MIMICtable_filtered_t0['icustay_id'].isin(testidx), f'{col_name}'].values).unsqueeze(dim=1)\n",
    "Y = (Y - MIMICtable[col_name].mean())/MIMICtable[col_name].std()\n",
    "Ytest = (Ytest - MIMICtable[col_name].mean())/MIMICtable[col_name].std()\n",
    "train = data_utils.TensorDataset(torch.column_stack((X, A)), Y)\n",
    "trainloader = torch.utils.data.DataLoader(train, batch_size=32)\n",
    "test = data_utils.TensorDataset(torch.column_stack((Xtestmimic, Atest)), Ytest)\n",
    "testloader = torch.utils.data.DataLoader(test, batch_size=32)\n",
    "\n",
    "net = Net(n_feature=len(MIMICraw.columns)+25, n_hidden=10, n_output=1)\n",
    "optimizer = torch.optim.SGD(net.parameters(), lr=0.001, weight_decay=0)\n",
    "loss_func = torch.nn.MSELoss()\n"
   ]
  },
  {
   "cell_type": "code",
   "execution_count": 77,
   "metadata": {},
   "outputs": [
    {
     "name": "stderr",
     "output_type": "stream",
     "text": [
      "100%|███████████████████████████████████████████████████████████████████████████████████████████████████████████████████████████████████████████████████████████████████████████████████████████████████████████████████████████████████████████████████████████████████████████████████████| 200/200 [00:18<00:00, 11.10it/s]\n"
     ]
    }
   ],
   "source": [
    "losses = []\n",
    "for epoch in tqdm(range(200)):\n",
    "    for X, Y in trainloader:\n",
    "        prediction = net(X)     # input x and predict based on x\n",
    "\n",
    "        loss = loss_func(prediction, Y)     # must be (1. nn output, 2. target)\n",
    "\n",
    "        optimizer.zero_grad()   # clear gradients for next train\n",
    "        loss.backward()         # backpropagation, compute gradients\n",
    "        optimizer.step()        # apply gradients\n",
    "    if (epoch + 1) % 10 == 0:\n",
    "        with torch.no_grad():\n",
    "            test_loss = 0\n",
    "            for test_data, test_label in testloader:\n",
    "                test_loss += loss_func(net(test_data), test_label)\n",
    "            losses.append(test_loss.item()/len(testloader))\n"
   ]
  },
  {
   "cell_type": "code",
   "execution_count": 78,
   "metadata": {},
   "outputs": [
    {
     "data": {
      "text/plain": [
       "[<matplotlib.lines.Line2D at 0x7f48c4ef5580>]"
      ]
     },
     "execution_count": 78,
     "metadata": {},
     "output_type": "execute_result"
    },
    {
     "data": {
      "image/png": "[encoded data removed]",
      "text/plain": [
       "<Figure size 432x288 with 1 Axes>"
      ]
     },
     "metadata": {
      "needs_background": "light"
     },
     "output_type": "display_data"
    }
   ],
   "source": [
    "plt.plot(losses)"
   ]
  },
  {
   "cell_type": "code",
   "execution_count": 28,
   "metadata": {},
   "outputs": [
    {
     "name": "stderr",
     "output_type": "stream",
     "text": [
      "100%|██████████| 2/2 [00:18<00:00,  9.43s/it]\n"
     ]
    }
   ],
   "source": [
    "for model in tqdm(range(nr_reps)):\n",
    "    grp = np.floor(5*np.random.rand(len(icuuniqueids))+1)\n",
    "    crossval = 1\n",
    "    trainidx = icuuniqueids[grp != crossval]\n",
    "    testidx = icuuniqueids[grp == crossval]\n",
    "    X = torch.FloatTensor(MIMICraw.loc[MIMICtable_filtered_t0['icustay_id'].isin(trainidx)].values)\n",
    "    A = (torch.tensor(MIMICtable_filtered_t0.loc[MIMICtable_filtered_t0['icustay_id'].isin(trainidx), 'A'].values).to(torch.long)-1)/24\n",
    "    Xtestmimic = torch.FloatTensor(MIMICraw[MIMICtable_filtered_t0['icustay_id'].isin(testidx)].values)\n",
    "    Atest = (torch.tensor(MIMICtable_filtered_t0.loc[MIMICtable_filtered_t0['icustay_id'].isin(testidx), 'A'].values).to(torch.long)-1)/24\n",
    "    ptid = MIMICtable_filtered_t0.loc[MIMICtable_filtered_t0['icustay_id'].isin(trainidx), 'icustay_id']\n",
    "    ptidtestmimic = MIMICtable_filtered_t0.loc[MIMICtable_filtered_t0['icustay_id'].isin(testidx), 'icustay_id']\n",
    "    Y = torch.FloatTensor(MIMICtable_filtered_t1.loc[MIMICtable_filtered_t0['icustay_id'].isin(trainidx), f'{col_name}'].values).unsqueeze(dim=1)\n",
    "    Ytest = torch.FloatTensor(MIMICtable_filtered_t1.loc[MIMICtable_filtered_t0['icustay_id'].isin(testidx), f'{col_name}'].values).unsqueeze(dim=1)\n",
    "    Y = (Y - MIMICtable[col_name].mean())/MIMICtable[col_name].std()\n",
    "    Ytest = (Ytest - MIMICtable[col_name].mean())/MIMICtable[col_name].std()\n",
    "    train = data_utils.TensorDataset(torch.column_stack((X, A)), Y)\n",
    "    trainloader = torch.utils.data.DataLoader(train, batch_size=32)\n",
    "    test = data_utils.TensorDataset(torch.column_stack((Xtestmimic, Atest)), Ytest)\n",
    "    testloader = torch.utils.data.DataLoader(test, batch_size=32)\n",
    "\n",
    "    net = Net(n_feature=len(MIMICraw.columns)+1, n_hidden=10, n_output=1)\n",
    "    optimizer = torch.optim.SGD(net.parameters(), lr=0.001, weight_decay=0.1)\n",
    "    loss_func = torch.nn.MSELoss()\n",
    "    for epoch in range(200):\n",
    "        for X, Y in trainloader:\n",
    "            prediction = net(X)     # input x and predict based on x\n",
    "\n",
    "            loss = loss_func(prediction, Y)     # must be (1. nn output, 2. target)\n",
    "\n",
    "            optimizer.zero_grad()   # clear gradients for next train\n",
    "            loss.backward()         # backpropagation, compute gradients\n",
    "            optimizer.step()        # apply gradients\n",
    "    \n",
    "    torch.save(net.state_dict(), f'{models_dir}/yobs_{model}')"
   ]
  },
  {
   "cell_type": "code",
   "execution_count": 56,
   "metadata": {},
   "outputs": [],
   "source": [
    "import torch.utils.data as data_utils\n",
    "\n",
    "grp = np.floor(5*np.random.rand(len(icuuniqueids))+1)\n",
    "crossval = 1\n",
    "trainidx = icuuniqueids[grp != crossval]\n",
    "testidx = icuuniqueids[grp == crossval]\n",
    "X = torch.FloatTensor(MIMICraw.loc[MIMICtable_filtered_t0['icustay_id'].isin(trainidx)].values)\n",
    "A = (torch.tensor(MIMICtable_filtered_t0.loc[MIMICtable_filtered_t0['icustay_id'].isin(trainidx), 'A'].values).to(torch.long)-1)/24\n",
    "Xtestmimic = torch.FloatTensor(MIMICraw[MIMICtable_filtered_t0['icustay_id'].isin(testidx)].values)\n",
    "Atest = (torch.tensor(MIMICtable_filtered_t0.loc[MIMICtable_filtered_t0['icustay_id'].isin(testidx), 'A'].values).to(torch.long)-1)/24\n",
    "ptid = MIMICtable_filtered_t0.loc[MIMICtable_filtered_t0['icustay_id'].isin(trainidx), 'icustay_id']\n",
    "ptidtestmimic = MIMICtable_filtered_t0.loc[MIMICtable_filtered_t0['icustay_id'].isin(testidx), 'icustay_id']\n",
    "Y = torch.FloatTensor(MIMICtable_filtered_t1.loc[MIMICtable_filtered_t0['icustay_id'].isin(trainidx), f'{col_name}'].values).unsqueeze(dim=1)\n",
    "Ytest = torch.FloatTensor(MIMICtable_filtered_t1.loc[MIMICtable_filtered_t0['icustay_id'].isin(testidx), f'{col_name}'].values).unsqueeze(dim=1)\n",
    "Y = (Y - MIMICtable[col_name].mean())/MIMICtable[col_name].std()\n",
    "Ytest = (Ytest - MIMICtable[col_name].mean())/MIMICtable[col_name].std()\n",
    "train = data_utils.TensorDataset(torch.column_stack((X, A)), Y)\n",
    "trainloader = torch.utils.data.DataLoader(train, batch_size=32)\n",
    "test = data_utils.TensorDataset(torch.column_stack((Xtestmimic, Atest)), Ytest)\n",
    "testloader = torch.utils.data.DataLoader(test, batch_size=32)\n",
    "\n",
    "net = Net(n_feature=len(MIMICraw.columns)+1, n_hidden=10, n_output=1)\n",
    "optimizer = torch.optim.SGD(net.parameters(), lr=0.001, weight_decay=0.1)\n",
    "loss_func = torch.nn.MSELoss()"
   ]
  },
  {
   "cell_type": "code",
   "execution_count": 57,
   "metadata": {},
   "outputs": [
    {
     "name": "stderr",
     "output_type": "stream",
     "text": [
      "100%|██████████| 200/200 [00:10<00:00, 18.81it/s]\n"
     ]
    }
   ],
   "source": [
    "# train the network\n",
    "losses = []\n",
    "for epoch in tqdm(range(200)):\n",
    "    for X, Y in trainloader:\n",
    "        prediction = net(X)     # input x and predict based on x\n",
    "\n",
    "        loss = loss_func(prediction, Y)     # must be (1. nn output, 2. target)\n",
    "\n",
    "        optimizer.zero_grad()   # clear gradients for next train\n",
    "        loss.backward()         # backpropagation, compute gradients\n",
    "        optimizer.step()        # apply gradients\n",
    "    with torch.no_grad():\n",
    "        test_loss = 0\n",
    "        for Xtest, Ytest in testloader:\n",
    "            test_loss += loss_func(net(Xtest), Ytest)\n",
    "        test_loss = test_loss/len(testloader)\n",
    "        losses.append(test_loss.item())\n"
   ]
  },
  {
   "cell_type": "code",
   "execution_count": 58,
   "metadata": {},
   "outputs": [
    {
     "data": {
      "text/plain": [
       "0.824320375919342"
      ]
     },
     "execution_count": 58,
     "metadata": {},
     "output_type": "execute_result"
    },
    {
     "data": {
      "image/png": "[encoded data removed]",
      "text/plain": [
       "<Figure size 432x288 with 1 Axes>"
      ]
     },
     "metadata": {
      "needs_background": "light"
     },
     "output_type": "display_data"
    }
   ],
   "source": [
    "import matplotlib.pyplot as plt\n",
    "plt.plot(losses)\n",
    "losses[-1]"
   ]
  },
  {
   "cell_type": "code",
   "execution_count": 83,
   "metadata": {},
   "outputs": [
    {
     "name": "stdout",
     "output_type": "stream",
     "text": [
      "paCO2 val at t=0 tensor(33.8484)\n",
      "paCO2 val at t=1 tensor([37.9487], grad_fn=<AddBackward0>)\n"
     ]
    }
   ],
   "source": [
    "action = 1\n",
    "row = 2\n",
    "action_tensor = torch.nn.functional.one_hot(torch.tensor((action-1)), 25)\n",
    "print(f'{col_name} val at t=0', Xtestmimic[row,x_columns.index(col_name)]*MIMICtable[col_name].std() + MIMICtable[col_name].mean())\n",
    "print(f'{col_name} val at t=1', net(torch.cat((Xtestmimic[row,:], action_tensor)))*MIMICtable[col_name].std() + MIMICtable[col_name].mean())\n"
   ]
  },
  {
   "cell_type": "markdown",
   "metadata": {},
   "source": [
    "# Regressing $\\mathbb{E}[Y^{min}\\mid x,a]$"
   ]
  },
  {
   "cell_type": "code",
   "execution_count": 15,
   "metadata": {},
   "outputs": [],
   "source": [
    "import torch\n",
    "from torch.autograd import Variable\n",
    "import torch.nn.functional as F\n",
    "import torch.utils.data as Data\n",
    "\n",
    "\n",
    "class QuantileNet(torch.nn.Module):\n",
    "    def __init__(self, n_feature, n_hidden, n_output):\n",
    "        super(QuantileNet, self).__init__()\n",
    "        self.hidden = torch.nn.Linear(n_feature, n_hidden)   # hidden layer\n",
    "        self.predict = torch.nn.Linear(n_hidden, n_output)   # output layer\n",
    "        self.tanh = torch.nn.Tanh()\n",
    "\n",
    "    def forward(self, x):\n",
    "        x = self.tanh(self.hidden(x))      # activation function for hidden layer\n",
    "        x = self.predict(x)             # linear output\n",
    "        return x"
   ]
  },
  {
   "cell_type": "code",
   "execution_count": 16,
   "metadata": {},
   "outputs": [],
   "source": [
    "class PinballLoss():\n",
    "    def __init__(self, quantile=0.10, reduction='none'):\n",
    "        self.quantile = quantile\n",
    "        assert 0 < self.quantile\n",
    "        assert self.quantile < 1\n",
    "        self.reduction = reduction\n",
    "\n",
    "    def __call__(self, output, target):\n",
    "        assert output.shape == target.shape\n",
    "        loss = torch.zeros_like(target, dtype=torch.float)\n",
    "        error = output - target\n",
    "        smaller_index = error < 0\n",
    "        bigger_index = 0 < error\n",
    "        loss[smaller_index] = self.quantile * (abs(error)[smaller_index])\n",
    "        loss[bigger_index] = (1-self.quantile) * (abs(error)[bigger_index])\n",
    "\n",
    "        if self.reduction == 'sum':\n",
    "            loss = loss.sum()\n",
    "        if self.reduction == 'mean':\n",
    "            loss = loss.mean()\n",
    "\n",
    "        return loss"
   ]
  },
  {
   "cell_type": "code",
   "execution_count": 121,
   "metadata": {},
   "outputs": [
    {
     "name": "stderr",
     "output_type": "stream",
     "text": [
      "100%|██████████| 2/2 [00:27<00:00, 13.58s/it]\n"
     ]
    }
   ],
   "source": [
    "for model in tqdm(range(nr_reps)):\n",
    "    grp = np.floor(5*np.random.rand(len(icuuniqueids))+1)\n",
    "    crossval = 1\n",
    "    trainidx = icuuniqueids[grp != crossval]\n",
    "    testidx = icuuniqueids[grp == crossval]\n",
    "    X = torch.FloatTensor(MIMICraw.loc[MIMICtable_filtered_t0['icustay_id'].isin(trainidx)].values)\n",
    "    Xtestmimic = torch.FloatTensor(MIMICraw[MIMICtable_filtered_t0['icustay_id'].isin(testidx)].values)\n",
    "    ptid = MIMICtable_filtered_t0.loc[MIMICtable_filtered_t0['icustay_id'].isin(trainidx), 'icustay_id']\n",
    "    ptidtestmimic = MIMICtable_filtered_t0.loc[MIMICtable_filtered_t0['icustay_id'].isin(testidx), 'icustay_id']\n",
    "    Y = torch.FloatTensor(MIMICtable_filtered_t1.loc[MIMICtable_filtered_t0['icustay_id'].isin(trainidx), f'{col_name}'].values).unsqueeze(dim=1)\n",
    "    Ytest = torch.FloatTensor(MIMICtable_filtered_t1.loc[MIMICtable_filtered_t0['icustay_id'].isin(testidx), f'{col_name}'].values).unsqueeze(dim=1)\n",
    "\n",
    "    Y = (Y - MIMICtable[col_name].mean())/MIMICtable[col_name].std()\n",
    "    Ytest = (Ytest - MIMICtable[col_name].mean())/MIMICtable[col_name].std()\n",
    "\n",
    "    train = data_utils.TensorDataset(X, Y)\n",
    "    trainloader = torch.utils.data.DataLoader(train, batch_size=32)\n",
    "    test = data_utils.TensorDataset(Xtestmimic, Ytest)\n",
    "    testloader = torch.utils.data.DataLoader(test, batch_size=32)\n",
    "\n",
    "    quantile_net = QuantileNet(n_feature=len(MIMICraw.columns), n_hidden=10, n_output=1)\n",
    "    optimizer = torch.optim.SGD(quantile_net.parameters(), lr=0.001)\n",
    "    loss_func = PinballLoss(quantile=0.001, reduction='mean')\n",
    "    for epoch in range(200):\n",
    "        for X, Y in trainloader:\n",
    "            prediction = quantile_net(X)     # input x and predict based on x\n",
    "\n",
    "            loss = loss_func(prediction, Y)     # must be (1. nn output, 2. target)\n",
    "\n",
    "            optimizer.zero_grad()   # clear gradients for next train\n",
    "            loss.backward()         # backpropagation, compute gradients\n",
    "            optimizer.step()        # apply gradients\n",
    "    \n",
    "    torch.save(quantile_net.state_dict(), f'{models_dir}/ymin_{model}')"
   ]
  },
  {
   "cell_type": "code",
   "execution_count": 37,
   "metadata": {},
   "outputs": [],
   "source": [
    "quantile_net = QuantileNet(n_feature=len(MIMICraw.columns), n_hidden=10, n_output=1)\n",
    "optimizer = torch.optim.SGD(quantile_net.parameters(), lr=0.001)\n",
    "loss_func = PinballLoss(quantile=0.001, reduction='mean')"
   ]
  },
  {
   "cell_type": "code",
   "execution_count": 38,
   "metadata": {},
   "outputs": [
    {
     "name": "stderr",
     "output_type": "stream",
     "text": [
      "100%|██████████| 200/200 [00:15<00:00, 13.03it/s]\n"
     ]
    }
   ],
   "source": [
    "# train the network\n",
    "grp = np.floor(5*np.random.rand(len(icuuniqueids))+1)\n",
    "crossval = 1\n",
    "trainidx = icuuniqueids[grp != crossval]\n",
    "testidx = icuuniqueids[grp == crossval]\n",
    "X = torch.FloatTensor(MIMICraw.loc[MIMICtable_filtered_t0['icustay_id'].isin(trainidx)].values)\n",
    "Xtestmimic = torch.FloatTensor(MIMICraw[MIMICtable_filtered_t0['icustay_id'].isin(testidx)].values)\n",
    "ptid = MIMICtable_filtered_t0.loc[MIMICtable_filtered_t0['icustay_id'].isin(trainidx), 'icustay_id']\n",
    "ptidtestmimic = MIMICtable_filtered_t0.loc[MIMICtable_filtered_t0['icustay_id'].isin(testidx), 'icustay_id']\n",
    "Y = torch.FloatTensor(MIMICtable_filtered_t1.loc[MIMICtable_filtered_t0['icustay_id'].isin(trainidx), f'{col_name}'].values).unsqueeze(dim=1)\n",
    "Ytest = torch.FloatTensor(MIMICtable_filtered_t1.loc[MIMICtable_filtered_t0['icustay_id'].isin(testidx), f'{col_name}'].values).unsqueeze(dim=1)\n",
    "\n",
    "Y = (Y - MIMICtable[col_name].mean())/MIMICtable[col_name].std()\n",
    "Ytest = (Ytest - MIMICtable[col_name].mean())/MIMICtable[col_name].std()\n",
    "\n",
    "train = data_utils.TensorDataset(X, Y)\n",
    "trainloader = torch.utils.data.DataLoader(train, batch_size=32)\n",
    "test = data_utils.TensorDataset(Xtestmimic, Ytest)\n",
    "testloader = torch.utils.data.DataLoader(test, batch_size=32)\n",
    "\n",
    "quantile_net = QuantileNet(n_feature=len(MIMICraw.columns), n_hidden=10, n_output=1)\n",
    "optimizer = torch.optim.SGD(quantile_net.parameters(), lr=0.001)\n",
    "loss_func = PinballLoss(quantile=0.001, reduction='mean')    \n",
    "\n",
    "# train the network\n",
    "losses = []\n",
    "for epoch in tqdm(range(200)):\n",
    "    for X, Y in trainloader:\n",
    "        prediction = quantile_net(X)     # input x and predict based on x\n",
    "\n",
    "        loss = loss_func(prediction, Y)     # must be (1. nn output, 2. target)\n",
    "\n",
    "        optimizer.zero_grad()   # clear gradients for next train\n",
    "        loss.backward()         # backpropagation, compute gradients\n",
    "        optimizer.step()        # apply gradients\n",
    "    with torch.no_grad():\n",
    "        test_loss = 0\n",
    "        for Xtest, Ytest in testloader:\n",
    "            test_loss += loss_func(quantile_net(Xtest), Ytest)\n",
    "        test_loss = test_loss/len(testloader)\n",
    "        losses.append(test_loss.item())\n"
   ]
  },
  {
   "cell_type": "code",
   "execution_count": 39,
   "metadata": {},
   "outputs": [
    {
     "data": {
      "text/plain": [
       "0.004351309034973383"
      ]
     },
     "execution_count": 39,
     "metadata": {},
     "output_type": "execute_result"
    },
    {
     "data": {
      "image/png": "[encoded data removed]",
      "text/plain": [
       "<Figure size 432x288 with 1 Axes>"
      ]
     },
     "metadata": {
      "needs_background": "light"
     },
     "output_type": "display_data"
    }
   ],
   "source": [
    "plt.plot(losses)\n",
    "losses[-1]"
   ]
  },
  {
   "cell_type": "code",
   "execution_count": 40,
   "metadata": {},
   "outputs": [
    {
     "name": "stdout",
     "output_type": "stream",
     "text": [
      "paCO2 val at t=0 tensor(53.3779)\n",
      "paCO2 min val at t=1 tensor([21.0377], grad_fn=<AddBackward0>)\n"
     ]
    }
   ],
   "source": [
    "action = 1\n",
    "row = 1\n",
    "action_tensor = torch.FloatTensor(((action-1)/24,))\n",
    "print(f'{col_name} val at t=0', Xtestmimic[row,x_columns.index(col_name)]*MIMICtable[col_name].std() + MIMICtable[col_name].mean())\n",
    "print(f'{col_name} min val at t=1', quantile_net(Xtestmimic[row,:])*MIMICtable[col_name].std() + MIMICtable[col_name].mean())"
   ]
  },
  {
   "cell_type": "code",
   "execution_count": 41,
   "metadata": {},
   "outputs": [
    {
     "data": {
      "text/plain": [
       "41.0"
      ]
     },
     "execution_count": 41,
     "metadata": {},
     "output_type": "execute_result"
    }
   ],
   "source": [
    "MIMICtable[col_name].median()"
   ]
  },
  {
   "cell_type": "markdown",
   "metadata": {},
   "source": [
    "# Regressing $\\mathbb{E}[Y^{max}\\mid x,a]$"
   ]
  },
  {
   "cell_type": "code",
   "execution_count": 127,
   "metadata": {},
   "outputs": [
    {
     "name": "stderr",
     "output_type": "stream",
     "text": [
      "100%|██████████| 2/2 [00:27<00:00, 13.94s/it]\n"
     ]
    }
   ],
   "source": [
    "for model in tqdm(range(nr_reps)):\n",
    "    grp = np.floor(5*np.random.rand(len(icuuniqueids))+1)\n",
    "    crossval = 1\n",
    "    trainidx = icuuniqueids[grp != crossval]\n",
    "    testidx = icuuniqueids[grp == crossval]\n",
    "    X = torch.FloatTensor(MIMICraw.loc[MIMICtable_filtered_t0['icustay_id'].isin(trainidx)].values)\n",
    "    Xtestmimic = torch.FloatTensor(MIMICraw[MIMICtable_filtered_t0['icustay_id'].isin(testidx)].values)\n",
    "    ptid = MIMICtable_filtered_t0.loc[MIMICtable_filtered_t0['icustay_id'].isin(trainidx), 'icustay_id']\n",
    "    ptidtestmimic = MIMICtable_filtered_t0.loc[MIMICtable_filtered_t0['icustay_id'].isin(testidx), 'icustay_id']\n",
    "    Y = torch.FloatTensor(MIMICtable_filtered_t1.loc[MIMICtable_filtered_t0['icustay_id'].isin(trainidx), f'{col_name}'].values).unsqueeze(dim=1)\n",
    "    Ytest = torch.FloatTensor(MIMICtable_filtered_t1.loc[MIMICtable_filtered_t0['icustay_id'].isin(testidx), f'{col_name}'].values).unsqueeze(dim=1)\n",
    "\n",
    "    Y = (Y - MIMICtable[col_name].mean())/MIMICtable[col_name].std()\n",
    "    Ytest = (Ytest - MIMICtable[col_name].mean())/MIMICtable[col_name].std()\n",
    "\n",
    "    train = data_utils.TensorDataset(X, Y)\n",
    "    trainloader = torch.utils.data.DataLoader(train, batch_size=32)\n",
    "    test = data_utils.TensorDataset(Xtestmimic, Ytest)\n",
    "    testloader = torch.utils.data.DataLoader(test, batch_size=32)\n",
    "\n",
    "    quantile_net = QuantileNet(n_feature=len(MIMICraw.columns), n_hidden=10, n_output=1)\n",
    "    optimizer = torch.optim.SGD(quantile_net.parameters(), lr=0.001)\n",
    "    loss_func = PinballLoss(quantile=0.999, reduction='mean')\n",
    "    for epoch in range(200):\n",
    "        for X, Y in trainloader:\n",
    "            prediction = quantile_net(X)     # input x and predict based on x\n",
    "\n",
    "            loss = loss_func(prediction, Y)     # must be (1. nn output, 2. target)\n",
    "\n",
    "            optimizer.zero_grad()   # clear gradients for next train\n",
    "            loss.backward()         # backpropagation, compute gradients\n",
    "            optimizer.step()        # apply gradients\n",
    "    \n",
    "    torch.save(quantile_net.state_dict(), f'{models_dir}/ymax_{model}')"
   ]
  },
  {
   "cell_type": "code",
   "execution_count": 42,
   "metadata": {},
   "outputs": [],
   "source": [
    "quantile_net = QuantileNet(n_feature=len(MIMICraw.columns), n_hidden=10, n_output=1)\n",
    "optimizer = torch.optim.SGD(quantile_net.parameters(), lr=0.001)\n",
    "loss_func = PinballLoss(quantile=0.999, reduction='mean')"
   ]
  },
  {
   "cell_type": "code",
   "execution_count": 43,
   "metadata": {},
   "outputs": [
    {
     "name": "stderr",
     "output_type": "stream",
     "text": [
      "100%|██████████| 200/200 [00:15<00:00, 13.14it/s]\n"
     ]
    }
   ],
   "source": [
    "# train the network\n",
    "losses = []\n",
    "for epoch in tqdm(range(200)):\n",
    "    for X, Y in trainloader:\n",
    "        prediction = quantile_net(X)     # input x and predict based on x\n",
    "\n",
    "        loss = loss_func(prediction, Y)     # must be (1. nn output, 2. target)\n",
    "\n",
    "        optimizer.zero_grad()   # clear gradients for next train\n",
    "        loss.backward()         # backpropagation, compute gradients\n",
    "        optimizer.step()        # apply gradients\n",
    "    with torch.no_grad():\n",
    "        test_loss = 0\n",
    "        for Xtest, Ytest in testloader:\n",
    "            test_loss += loss_func(quantile_net(Xtest), Ytest)\n",
    "        test_loss = test_loss/len(testloader)\n",
    "        losses.append(test_loss.item())"
   ]
  },
  {
   "cell_type": "code",
   "execution_count": 44,
   "metadata": {},
   "outputs": [
    {
     "data": {
      "text/plain": [
       "0.021640595048666"
      ]
     },
     "execution_count": 44,
     "metadata": {},
     "output_type": "execute_result"
    },
    {
     "data": {
      "image/png": "[encoded data removed]",
      "text/plain": [
       "<Figure size 432x288 with 1 Axes>"
      ]
     },
     "metadata": {
      "needs_background": "light"
     },
     "output_type": "display_data"
    }
   ],
   "source": [
    "plt.plot(losses)\n",
    "losses[-1]"
   ]
  },
  {
   "cell_type": "code",
   "execution_count": 45,
   "metadata": {},
   "outputs": [
    {
     "name": "stdout",
     "output_type": "stream",
     "text": [
      "paCO2 val at t=0 tensor(47.2087)\n",
      "paCO2 max val at t=1 tensor([70.2719], grad_fn=<AddBackward0>)\n"
     ]
    }
   ],
   "source": [
    "action = 1\n",
    "row = 3\n",
    "action_tensor = torch.FloatTensor(((action-1)/24,))\n",
    "print(f'{col_name} val at t=0', Xtestmimic[row,x_columns.index(col_name)]*MIMICtable[col_name].std() + MIMICtable[col_name].mean())\n",
    "print(f'{col_name} max val at t=1', quantile_net(Xtestmimic[row,:])*MIMICtable[col_name].std() + MIMICtable[col_name].mean())"
   ]
  },
  {
   "cell_type": "markdown",
   "metadata": {},
   "source": [
    "# Regressing $\\mathbb{E}[Y^{sim}(a)\\mid x]$"
   ]
  },
  {
   "cell_type": "code",
   "execution_count": 24,
   "metadata": {},
   "outputs": [
    {
     "name": "stderr",
     "output_type": "stream",
     "text": [
      "100%|██████████| 2/2 [00:14<00:00,  7.37s/it]\n"
     ]
    }
   ],
   "source": [
    "for model in tqdm(range(nr_reps)):\n",
    "    icuuniqueids = pulse_data['icustay_id'].unique()\n",
    "    grp = np.floor(5*np.random.rand(len(icuuniqueids))+1)\n",
    "    crossval = 1\n",
    "    trainidx = icuuniqueids[grp != crossval]\n",
    "    testidx = icuuniqueids[grp == crossval]\n",
    "    X = torch.FloatTensor(pulseraw.loc[pulse_data_t0['icustay_id'].isin(trainidx)].values)\n",
    "    Xtestmimic = torch.FloatTensor(pulseraw[pulse_data_t0['icustay_id'].isin(testidx)].values)\n",
    "    A = (torch.tensor(pulse_data_t0.loc[pulse_data_t0['icustay_id'].isin(trainidx), 'A'].values).to(torch.long)-1)/24\n",
    "    Atest = (torch.tensor(pulse_data_t0.loc[pulse_data_t0['icustay_id'].isin(testidx), 'A'].values).to(torch.long)-1)/24\n",
    "    Y = torch.FloatTensor(pulse_data_t1.loc[pulse_data_t1['icustay_id'].isin(trainidx), f'{col_name}'].values).unsqueeze(dim=1)\n",
    "    Ytest = torch.FloatTensor(pulse_data_t1.loc[pulse_data_t1['icustay_id'].isin(testidx), f'{col_name}'].values).unsqueeze(dim=1)\n",
    "    Y = (Y - MIMICtable[col_name].mean())/MIMICtable[col_name].std()\n",
    "    Ytest = (Ytest - MIMICtable[col_name].mean())/MIMICtable[col_name].std()\n",
    "\n",
    "    train = data_utils.TensorDataset(torch.column_stack((X, A)), Y)\n",
    "    trainloader = torch.utils.data.DataLoader(train, batch_size=32)\n",
    "    test = data_utils.TensorDataset(torch.column_stack((Xtestmimic, Atest)), Ytest)\n",
    "    testloader = torch.utils.data.DataLoader(test, batch_size=32)\n",
    "    \n",
    "    net = Net(n_feature=len(pulseraw.columns) + 1, n_hidden=10, n_output=1)\n",
    "    optimizer = torch.optim.SGD(net.parameters(), lr=0.001, weight_decay=0.1)\n",
    "    loss_func = torch.nn.MSELoss()\n",
    "\n",
    "    for epoch in range(200):\n",
    "        for X, Y in trainloader:\n",
    "            prediction = net(X)     # input x and predict based on x\n",
    "\n",
    "            loss = loss_func(prediction, Y)     # must be (1. nn output, 2. target)\n",
    "\n",
    "            optimizer.zero_grad()   # clear gradients for next train\n",
    "            loss.backward()         # backpropagation, compute gradients\n",
    "            optimizer.step()        # apply gradients\n",
    "    \n",
    "    torch.save(net.state_dict(), f'{models_dir}/ysim_{model}')"
   ]
  },
  {
   "cell_type": "code",
   "execution_count": 39,
   "metadata": {},
   "outputs": [
    {
     "name": "stdout",
     "output_type": "stream",
     "text": [
      "Pulseraw columns: 19\n",
      "MIMICraw columns: 19\n"
     ]
    }
   ],
   "source": [
    "print('Pulseraw columns:', len(pulseraw.columns))\n",
    "print('MIMICraw columns:', len(MIMICraw.columns))"
   ]
  },
  {
   "cell_type": "code",
   "execution_count": 17,
   "metadata": {},
   "outputs": [],
   "source": [
    "class Net(torch.nn.Module):\n",
    "    def __init__(self, n_feature, n_hidden, n_output):\n",
    "        super(Net, self).__init__()\n",
    "        self.hidden = torch.nn.Linear(n_feature, n_hidden)   # hidden layer\n",
    "        self.predict = torch.nn.Linear(n_hidden, n_output)   # output layer\n",
    "        self.tanh = torch.nn.Tanh()\n",
    "\n",
    "    def forward(self, x):\n",
    "        x = self.tanh(self.hidden(x))      # activation function for hidden layer\n",
    "        x = self.predict(x)             # linear output\n",
    "        return x"
   ]
  },
  {
   "cell_type": "code",
   "execution_count": 179,
   "metadata": {},
   "outputs": [],
   "source": [
    "net = Net(n_feature=len(pulseraw.columns) + 1, n_hidden=10, n_output=1)\n",
    "optimizer = torch.optim.SGD(net.parameters(), lr=0.001, weight_decay=0.1)\n",
    "loss_func = torch.nn.MSELoss()"
   ]
  },
  {
   "cell_type": "code",
   "execution_count": 180,
   "metadata": {},
   "outputs": [],
   "source": [
    "icuuniqueids = pulse_data['icustay_id'].unique()\n",
    "grp = np.floor(5*np.random.rand(len(icuuniqueids))+1)\n",
    "crossval = 1\n",
    "trainidx = icuuniqueids[grp != crossval]\n",
    "testidx = icuuniqueids[grp == crossval]\n",
    "X = torch.FloatTensor(pulseraw.loc[pulse_data_t0['icustay_id'].isin(trainidx)].values)\n",
    "Xtestmimic = torch.FloatTensor(pulseraw[pulse_data_t0['icustay_id'].isin(testidx)].values)\n",
    "A = (torch.tensor(pulse_data_t0.loc[pulse_data_t0['icustay_id'].isin(trainidx), 'A'].values).to(torch.long)-1)/24\n",
    "Atest = (torch.tensor(pulse_data_t0.loc[pulse_data_t0['icustay_id'].isin(testidx), 'A'].values).to(torch.long)-1)/24\n",
    "Y = torch.FloatTensor(pulse_data_t1.loc[pulse_data_t1['icustay_id'].isin(trainidx), f'{col_name}'].values).unsqueeze(dim=1)\n",
    "Ytest = torch.FloatTensor(pulse_data_t1.loc[pulse_data_t1['icustay_id'].isin(testidx), f'{col_name}'].values).unsqueeze(dim=1)\n",
    "Y = (Y - MIMICtable[col_name].mean())/MIMICtable[col_name].std()\n",
    "Ytest = (Ytest - MIMICtable[col_name].mean())/MIMICtable[col_name].std()\n",
    "\n",
    "train = data_utils.TensorDataset(torch.column_stack((X, A)), Y)\n",
    "trainloader = torch.utils.data.DataLoader(train, batch_size=32)\n",
    "test = data_utils.TensorDataset(torch.column_stack((Xtestmimic, Atest)), Ytest)\n",
    "testloader = torch.utils.data.DataLoader(test, batch_size=32)\n",
    "\n"
   ]
  },
  {
   "cell_type": "code",
   "execution_count": 181,
   "metadata": {},
   "outputs": [
    {
     "name": "stderr",
     "output_type": "stream",
     "text": [
      "100%|██████████| 200/200 [00:24<00:00,  8.01it/s]\n"
     ]
    }
   ],
   "source": [
    "losses = []\n",
    "for epoch in tqdm(range(200)):\n",
    "    for X, Y in trainloader:\n",
    "        prediction = net(X)     # input x and predict based on x\n",
    "\n",
    "        loss = loss_func(prediction, Y)     # must be (1. nn output, 2. target)\n",
    "\n",
    "        optimizer.zero_grad()   # clear gradients for next train\n",
    "        loss.backward()         # backpropagation, compute gradients\n",
    "        optimizer.step()        # apply gradients\n",
    "    with torch.no_grad():\n",
    "        test_loss = 0\n",
    "        for Xtest, Ytest in testloader:\n",
    "            test_loss += loss_func(net(Xtest), Ytest)\n",
    "        test_loss = test_loss/len(testloader)\n",
    "        losses.append(test_loss.item())\n"
   ]
  },
  {
   "cell_type": "code",
   "execution_count": 182,
   "metadata": {},
   "outputs": [
    {
     "data": {
      "text/plain": [
       "14.751960754394531"
      ]
     },
     "execution_count": 182,
     "metadata": {},
     "output_type": "execute_result"
    },
    {
     "data": {
      "image/png": "[encoded data removed]",
      "text/plain": [
       "<Figure size 432x288 with 1 Axes>"
      ]
     },
     "metadata": {
      "needs_background": "light"
     },
     "output_type": "display_data"
    }
   ],
   "source": [
    "import matplotlib.pyplot as plt\n",
    "plt.plot(losses)\n",
    "losses[-1]"
   ]
  },
  {
   "cell_type": "code",
   "execution_count": 184,
   "metadata": {},
   "outputs": [
    {
     "name": "stdout",
     "output_type": "stream",
     "text": [
      "paCO2 val at t=0 tensor(42.8071)\n",
      "paCO2 val at t=1 tensor([33.8389], grad_fn=<AddBackward0>)\n"
     ]
    }
   ],
   "source": [
    "action = 1\n",
    "row = 4\n",
    "action_tensor = torch.FloatTensor(((action-1)/24,))\n",
    "print(f'{col_name} val at t=0', Xtestmimic[row,x_columns.index(col_name)]*MIMICtable[col_name].std() + MIMICtable[col_name].mean())\n",
    "print(f'{col_name} val at t=1', net(torch.cat((Xtestmimic[row,:], action_tensor)))*MIMICtable[col_name].std() + MIMICtable[col_name].mean())"
   ]
  },
  {
   "cell_type": "markdown",
   "metadata": {},
   "source": [
    "# Computing scores for simulated outcomes using saved models"
   ]
  },
  {
   "cell_type": "code",
   "execution_count": 22,
   "metadata": {},
   "outputs": [],
   "source": [
    "def compute_score(gender, age, col_v, action, col_name, models_dir):\n",
    "    softmax = torch.nn.Softmax(dim=0)\n",
    "    gender = gender - 0.5\n",
    "    age_normalized_sim = (age - pulse_data_combined['age'].mean())/pulse_data_combined['age'].std()\n",
    "    col_normalized_sim = (col_v - pulse_data_t0[f'{col_name}'].mean())/pulse_data_t0[f'{col_name}'].std()\n",
    "    sim_input = torch.FloatTensor((gender, age_normalized_sim, col_normalized_sim))\n",
    "    age_normalized_obs = (age - MIMIC_data_combined['age'].mean())/MIMIC_data_combined['age'].std()\n",
    "    col_normalized_obs = (col_v - MIMICtable_filtered_t0[f'{col_name}'].mean())/MIMICtable_filtered_t0[f'{col_name}'].std()\n",
    "    obs_input = torch.FloatTensor((gender, age_normalized_obs, col_normalized_obs))\n",
    "    action_tensor = torch.FloatTensor(((action-1)/24,))\n",
    "    p = 0\n",
    "    for i in range(nr_reps):\n",
    "        yobs_model = Net(n_feature=4, n_hidden=10, n_output=1)\n",
    "        yobs_model.load_state_dict(torch.load(f'{models_dir}/col_{col_name}/yobs_{i}'))\n",
    "        yobs_model.eval()\n",
    "        ymax_model = Net(n_feature=3, n_hidden=10, n_output=1)\n",
    "        ymax_model.load_state_dict(torch.load(f'{models_dir}/col_{col_name}/ymax_{i}'))\n",
    "        ymax_model.eval()\n",
    "        ymin_model = Net(n_feature=3, n_hidden=10, n_output=1)\n",
    "        ymin_model.load_state_dict(torch.load(f'{models_dir}/col_{col_name}/ymin_{i}'))\n",
    "        ymin_model.eval()\n",
    "        ysim_model = Net(n_feature=4, n_hidden=10, n_output=1)\n",
    "        ysim_model.load_state_dict(torch.load(f'{models_dir}/col_{col_name}/ysim_{i}'))\n",
    "        ysim_model.eval()\n",
    "        policy = PolicyNetwork(input_dim=3, output_dim=25)\n",
    "        policy.load_state_dict(torch.load(f'{models_dir}/col_{col_name}/policy_{i}'))\n",
    "        policy.eval()\n",
    "        prob = softmax(policy(obs_input))[action-1]\n",
    "        lb = prob*yobs_model(torch.cat((obs_input, action_tensor))) + (1-prob)*(ymin_model(obs_input))\n",
    "        ub = prob*yobs_model(torch.cat((obs_input, action_tensor))) + (1-prob)*(ymax_model(obs_input))\n",
    "        sim = ysim_model(torch.cat((sim_input, action_tensor)))\n",
    "        p += int(((lb<=sim)&(sim<=ub)).item())\n",
    "    p = p/nr_reps\n",
    "    return p    "
   ]
  },
  {
   "cell_type": "code",
   "execution_count": 24,
   "metadata": {},
   "outputs": [],
   "source": [
    "models_dir = \"/data/localhost/taufiq/manski_bounds\"\n",
    "col_name = 'Temp_C'\n",
    "compute_score(0, 65, 31, 0, col_name, models_dir)"
   ]
  },
  {
   "cell_type": "code",
   "execution_count": null,
   "metadata": {},
   "outputs": [],
   "source": [
    "pulse_data_t0.head()"
   ]
  },
  {
   "cell_type": "code",
   "execution_count": null,
   "metadata": {},
   "outputs": [],
   "source": [
    "ages = range(18,66)\n",
    "scores = []\n",
    "for age in tqdm(ages):\n",
    "    score = compute_score(0, age, 32, 2)\n",
    "    scores.append(score)"
   ]
  },
  {
   "cell_type": "code",
   "execution_count": null,
   "metadata": {},
   "outputs": [],
   "source": [
    "import matplotlib.pyplot as plt\n",
    "plt.plot(ages, scores)"
   ]
  },
  {
   "cell_type": "code",
   "execution_count": null,
   "metadata": {},
   "outputs": [],
   "source": [
    "temps = range(29,35)\n",
    "scores = []\n",
    "for temp in tqdm(temps):\n",
    "    score = compute_score(0, 40, temp, 1)\n",
    "    scores.append(score)"
   ]
  },
  {
   "cell_type": "code",
   "execution_count": null,
   "metadata": {},
   "outputs": [],
   "source": [
    "plt.plot(temps, scores)"
   ]
  },
  {
   "cell_type": "code",
   "execution_count": null,
   "metadata": {},
   "outputs": [],
   "source": [
    "ages = np.linspace(18,65, num=65-18 + 1)\n",
    "temps = np.linspace(29,36, num=(36-29)*5 + 1)\n",
    "df = pd.DataFrame()\n",
    "for age in tqdm(ages):\n",
    "    for temp in temps:\n",
    "        score = compute_score(0, age, temp, 2)\n",
    "        df = df.append({'age': age, 'temp': temp, 'score': score}, ignore_index=True)"
   ]
  },
  {
   "cell_type": "code",
   "execution_count": null,
   "metadata": {},
   "outputs": [],
   "source": [
    "import seaborn as sns\n",
    "from scipy.ndimage.filters import gaussian_filter\n",
    "\n",
    "fig, axs = plt.subplots(1, 1, figsize=(15,12))\n",
    "df_pivot = df.pivot_table(index=\"temp\", columns=\"age\", values=\"score\", aggfunc=np.max)\n",
    "df_pivot_smooth = gaussian_filter(df_pivot, sigma=0.1)\n",
    "sns.heatmap(df_pivot_smooth, vmax=df_pivot.values.max(), xticklabels=ages, yticklabels=temps, vmin=df_pivot.values.min(), ax=axs)\n",
    "plt.show()"
   ]
  },
  {
   "cell_type": "code",
   "execution_count": null,
   "metadata": {},
   "outputs": [],
   "source": [
    "MIMICtable_filtered_t0['HR']"
   ]
  },
  {
   "cell_type": "code",
   "execution_count": null,
   "metadata": {},
   "outputs": [],
   "source": [
    "pulse_data_t0['HR']"
   ]
  },
  {
   "cell_type": "code",
   "execution_count": null,
   "metadata": {},
   "outputs": [],
   "source": []
  }
 ],
 "metadata": {
  "kernelspec": {
   "display_name": "Python 3 (ipykernel)",
   "language": "python",
   "name": "python3"
  },
  "language_info": {
   "codemirror_mode": {
    "name": "ipython",
    "version": 3
   },
   "file_extension": ".py",
   "mimetype": "text/x-python",
   "name": "python",
   "nbconvert_exporter": "python",
   "pygments_lexer": "ipython3",
   "version": "3.9.12"
  }
 },
 "nbformat": 4,
 "nbformat_minor": 2
}

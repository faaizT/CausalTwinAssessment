{
 "cells": [
  {
   "cell_type": "code",
   "execution_count": 2,
   "metadata": {},
   "outputs": [],
   "source": [
    "import logging\n",
    "logging.basicConfig(filename='regressing-bb.log', level=logging.INFO)"
   ]
  },
  {
   "cell_type": "code",
   "execution_count": 3,
   "metadata": {},
   "outputs": [],
   "source": [
    "import pandas as pd\n",
    "import numpy as np\n",
    "from tqdm import tqdm\n",
    "import glob\n",
    "import os\n",
    "import torch\n",
    "import matplotlib.pyplot as plt\n",
    "exportdir='/data/localhost/taufiq/export-dir/'\n",
    "os.chdir(\"/data/localhost/taufiq/pulse-data-5-step\")\n",
    "models_dir = '/data/localhost/taufiq/dryrun/'"
   ]
  },
  {
   "cell_type": "code",
   "execution_count": 4,
   "metadata": {},
   "outputs": [],
   "source": [
    "col_name = 'HR'\n",
    "extension = 'final_.csv'\n",
    "all_filenames = [i for i in glob.glob('*{}'.format(extension))]\n",
    "pulse_data = pd.concat([pd.read_csv(f) for f in all_filenames ])"
   ]
  },
  {
   "cell_type": "code",
   "execution_count": 5,
   "metadata": {},
   "outputs": [
    {
     "data": {
      "text/html": [
       "<div>\n",
       "<style scoped>\n",
       "    .dataframe tbody tr th:only-of-type {\n",
       "        vertical-align: middle;\n",
       "    }\n",
       "\n",
       "    .dataframe tbody tr th {\n",
       "        vertical-align: top;\n",
       "    }\n",
       "\n",
       "    .dataframe thead th {\n",
       "        text-align: right;\n",
       "    }\n",
       "</style>\n",
       "<table border=\"1\" class=\"dataframe\">\n",
       "  <thead>\n",
       "    <tr style=\"text-align: right;\">\n",
       "      <th></th>\n",
       "      <th>index</th>\n",
       "      <th>Albumin - BloodConcentration (mg/L)</th>\n",
       "      <th>ArterialCarbonDioxidePressure (mmHg)</th>\n",
       "      <th>ArterialOxygenPressure (mmHg)</th>\n",
       "      <th>ArterialPressure (mmHg)</th>\n",
       "      <th>Bicarbonate - BloodConcentration (mg/L)</th>\n",
       "      <th>BloodPH (None)</th>\n",
       "      <th>BloodUreaNitrogenConcentration (mg/dL)</th>\n",
       "      <th>BloodVolume (mL)</th>\n",
       "      <th>Calcium - BloodConcentration (mg/L)</th>\n",
       "      <th>...</th>\n",
       "      <th>RespirationRate (1/min)</th>\n",
       "      <th>SaturationAndFractionOfInspiredOxygenRatio (None)</th>\n",
       "      <th>SimulationTime(s)</th>\n",
       "      <th>SkinTemperature (degC)</th>\n",
       "      <th>Sodium - BloodConcentration (mg/L)</th>\n",
       "      <th>SystolicArterialPressure (mmHg)</th>\n",
       "      <th>WhiteBloodCellCount (ct/uL)</th>\n",
       "      <th>id</th>\n",
       "      <th>time</th>\n",
       "      <th>icustay_id</th>\n",
       "    </tr>\n",
       "  </thead>\n",
       "  <tbody>\n",
       "    <tr>\n",
       "      <th>0</th>\n",
       "      <td>0</td>\n",
       "      <td>36942.076357</td>\n",
       "      <td>40.766614</td>\n",
       "      <td>89.927432</td>\n",
       "      <td>116.205401</td>\n",
       "      <td>1589.280619</td>\n",
       "      <td>7.406174</td>\n",
       "      <td>12.954165</td>\n",
       "      <td>6432.049911</td>\n",
       "      <td>48.181075</td>\n",
       "      <td>...</td>\n",
       "      <td>18.633540</td>\n",
       "      <td>4.638695</td>\n",
       "      <td>0.0</td>\n",
       "      <td>33.203250</td>\n",
       "      <td>3328.440581</td>\n",
       "      <td>119.230483</td>\n",
       "      <td>7000.0</td>\n",
       "      <td>86855.0</td>\n",
       "      <td>6.607069e+09</td>\n",
       "      <td>86855</td>\n",
       "    </tr>\n",
       "    <tr>\n",
       "      <th>1</th>\n",
       "      <td>1</td>\n",
       "      <td>36524.917484</td>\n",
       "      <td>40.872763</td>\n",
       "      <td>90.052348</td>\n",
       "      <td>92.470480</td>\n",
       "      <td>1589.598103</td>\n",
       "      <td>7.405145</td>\n",
       "      <td>13.608056</td>\n",
       "      <td>6492.148657</td>\n",
       "      <td>53.043316</td>\n",
       "      <td>...</td>\n",
       "      <td>18.750000</td>\n",
       "      <td>4.633428</td>\n",
       "      <td>3600.0</td>\n",
       "      <td>33.879672</td>\n",
       "      <td>3319.123490</td>\n",
       "      <td>122.674910</td>\n",
       "      <td>7000.0</td>\n",
       "      <td>86855.0</td>\n",
       "      <td>6.607073e+09</td>\n",
       "      <td>86855</td>\n",
       "    </tr>\n",
       "    <tr>\n",
       "      <th>2</th>\n",
       "      <td>2</td>\n",
       "      <td>36069.948819</td>\n",
       "      <td>40.889780</td>\n",
       "      <td>90.176441</td>\n",
       "      <td>105.766357</td>\n",
       "      <td>1589.422211</td>\n",
       "      <td>7.404981</td>\n",
       "      <td>14.168092</td>\n",
       "      <td>6560.608547</td>\n",
       "      <td>57.671101</td>\n",
       "      <td>...</td>\n",
       "      <td>18.750000</td>\n",
       "      <td>4.633453</td>\n",
       "      <td>7200.0</td>\n",
       "      <td>32.973720</td>\n",
       "      <td>3311.273411</td>\n",
       "      <td>123.910096</td>\n",
       "      <td>7000.0</td>\n",
       "      <td>86855.0</td>\n",
       "      <td>6.607076e+09</td>\n",
       "      <td>86855</td>\n",
       "    </tr>\n",
       "    <tr>\n",
       "      <th>3</th>\n",
       "      <td>3</td>\n",
       "      <td>35344.795982</td>\n",
       "      <td>40.949980</td>\n",
       "      <td>90.585038</td>\n",
       "      <td>99.518088</td>\n",
       "      <td>1589.162254</td>\n",
       "      <td>7.404399</td>\n",
       "      <td>14.827684</td>\n",
       "      <td>6681.667603</td>\n",
       "      <td>61.641868</td>\n",
       "      <td>...</td>\n",
       "      <td>18.867925</td>\n",
       "      <td>4.635279</td>\n",
       "      <td>10800.0</td>\n",
       "      <td>33.382638</td>\n",
       "      <td>3311.388720</td>\n",
       "      <td>121.909499</td>\n",
       "      <td>7000.0</td>\n",
       "      <td>86855.0</td>\n",
       "      <td>6.607080e+09</td>\n",
       "      <td>86855</td>\n",
       "    </tr>\n",
       "    <tr>\n",
       "      <th>4</th>\n",
       "      <td>4</td>\n",
       "      <td>34739.622499</td>\n",
       "      <td>40.941064</td>\n",
       "      <td>90.624763</td>\n",
       "      <td>120.664434</td>\n",
       "      <td>1589.148171</td>\n",
       "      <td>7.404485</td>\n",
       "      <td>14.816667</td>\n",
       "      <td>6784.488523</td>\n",
       "      <td>65.534987</td>\n",
       "      <td>...</td>\n",
       "      <td>18.867925</td>\n",
       "      <td>4.635250</td>\n",
       "      <td>14400.0</td>\n",
       "      <td>33.415902</td>\n",
       "      <td>3280.588569</td>\n",
       "      <td>122.044169</td>\n",
       "      <td>7000.0</td>\n",
       "      <td>86855.0</td>\n",
       "      <td>6.607084e+09</td>\n",
       "      <td>86855</td>\n",
       "    </tr>\n",
       "  </tbody>\n",
       "</table>\n",
       "<p>5 rows × 33 columns</p>\n",
       "</div>"
      ],
      "text/plain": [
       "   index  Albumin - BloodConcentration (mg/L)  \\\n",
       "0      0                         36942.076357   \n",
       "1      1                         36524.917484   \n",
       "2      2                         36069.948819   \n",
       "3      3                         35344.795982   \n",
       "4      4                         34739.622499   \n",
       "\n",
       "   ArterialCarbonDioxidePressure (mmHg)  ArterialOxygenPressure (mmHg)  \\\n",
       "0                             40.766614                      89.927432   \n",
       "1                             40.872763                      90.052348   \n",
       "2                             40.889780                      90.176441   \n",
       "3                             40.949980                      90.585038   \n",
       "4                             40.941064                      90.624763   \n",
       "\n",
       "   ArterialPressure (mmHg)  Bicarbonate - BloodConcentration (mg/L)  \\\n",
       "0               116.205401                              1589.280619   \n",
       "1                92.470480                              1589.598103   \n",
       "2               105.766357                              1589.422211   \n",
       "3                99.518088                              1589.162254   \n",
       "4               120.664434                              1589.148171   \n",
       "\n",
       "   BloodPH (None)  BloodUreaNitrogenConcentration (mg/dL)  BloodVolume (mL)  \\\n",
       "0        7.406174                               12.954165       6432.049911   \n",
       "1        7.405145                               13.608056       6492.148657   \n",
       "2        7.404981                               14.168092       6560.608547   \n",
       "3        7.404399                               14.827684       6681.667603   \n",
       "4        7.404485                               14.816667       6784.488523   \n",
       "\n",
       "   Calcium - BloodConcentration (mg/L)  ...  RespirationRate (1/min)  \\\n",
       "0                            48.181075  ...                18.633540   \n",
       "1                            53.043316  ...                18.750000   \n",
       "2                            57.671101  ...                18.750000   \n",
       "3                            61.641868  ...                18.867925   \n",
       "4                            65.534987  ...                18.867925   \n",
       "\n",
       "   SaturationAndFractionOfInspiredOxygenRatio (None)  SimulationTime(s)  \\\n",
       "0                                           4.638695                0.0   \n",
       "1                                           4.633428             3600.0   \n",
       "2                                           4.633453             7200.0   \n",
       "3                                           4.635279            10800.0   \n",
       "4                                           4.635250            14400.0   \n",
       "\n",
       "   SkinTemperature (degC)  Sodium - BloodConcentration (mg/L)  \\\n",
       "0               33.203250                         3328.440581   \n",
       "1               33.879672                         3319.123490   \n",
       "2               32.973720                         3311.273411   \n",
       "3               33.382638                         3311.388720   \n",
       "4               33.415902                         3280.588569   \n",
       "\n",
       "   SystolicArterialPressure (mmHg)  WhiteBloodCellCount (ct/uL)       id  \\\n",
       "0                       119.230483                       7000.0  86855.0   \n",
       "1                       122.674910                       7000.0  86855.0   \n",
       "2                       123.910096                       7000.0  86855.0   \n",
       "3                       121.909499                       7000.0  86855.0   \n",
       "4                       122.044169                       7000.0  86855.0   \n",
       "\n",
       "           time  icustay_id  \n",
       "0  6.607069e+09       86855  \n",
       "1  6.607073e+09       86855  \n",
       "2  6.607076e+09       86855  \n",
       "3  6.607080e+09       86855  \n",
       "4  6.607084e+09       86855  \n",
       "\n",
       "[5 rows x 33 columns]"
      ]
     },
     "execution_count": 5,
     "metadata": {},
     "output_type": "execute_result"
    }
   ],
   "source": [
    "pulse_data['icustay_id'] = pulse_data['id'].astype(int)\n",
    "pulse_data = pulse_data.reset_index()\n",
    "pulse_data.head()"
   ]
  },
  {
   "cell_type": "code",
   "execution_count": 6,
   "metadata": {},
   "outputs": [],
   "source": [
    "column_mappings = {\n",
    "    'Albumin - BloodConcentration (mg/L)': 'Albumin',\n",
    "    'ArterialCarbonDioxidePressure (mmHg)': 'paCO2',\n",
    "    'ArterialOxygenPressure (mmHg)': 'paO2',\n",
    "    'Bicarbonate - BloodConcentration (mg/L)': 'HCO3',\n",
    "    'BloodPH (None)': 'Arterial_pH',\n",
    "    'BloodUreaNitrogenConcentration (mg/dL)': 'BUN',\n",
    "    'Calcium - BloodConcentration (mg/L)': 'Calcium',\n",
    "    'Chloride - BloodConcentration (mg/L)': 'Chloride',\n",
    "    'Creatinine - BloodConcentration (mg/L)': 'Creatinine',\n",
    "    'DiastolicArterialPressure (mmHg)': 'DiaBP',\n",
    "    'Glucose - BloodConcentration (mg/L)': 'Glucose',\n",
    "    'Lactate - BloodConcentration (mg/L)': 'Arterial_lactate',\n",
    "    'MeanArterialPressure (mmHg)': 'MeanBP',\n",
    "    'Potassium - BloodConcentration (mg/L)': 'Potassium',\n",
    "    'RespirationRate (1/min)': 'RR',\n",
    "    'SaturationAndFractionOfInspiredOxygenRatio (None)': 'PaO2_FiO2',\n",
    "    'SkinTemperature (degC)': 'Temp_C',\n",
    "    'Sodium - BloodConcentration (mg/L)': 'Sodium',\n",
    "    'SystolicArterialPressure (mmHg)': 'SysBP',\n",
    "    'WhiteBloodCellCount (ct/uL)': 'WBC_count',\n",
    "    'HeartRate (1/min)': 'HR'\n",
    "}\n",
    "\n",
    "pulse_rename = {}\n",
    "\n",
    "for k, v in column_mappings.items():\n",
    "    pulse_rename.update({k: f\"{v}\"})\n",
    "\n",
    "pulse_data = pulse_data.rename(columns=pulse_rename)"
   ]
  },
  {
   "cell_type": "code",
   "execution_count": 7,
   "metadata": {},
   "outputs": [
    {
     "data": {
      "text/html": [
       "<div>\n",
       "<style scoped>\n",
       "    .dataframe tbody tr th:only-of-type {\n",
       "        vertical-align: middle;\n",
       "    }\n",
       "\n",
       "    .dataframe tbody tr th {\n",
       "        vertical-align: top;\n",
       "    }\n",
       "\n",
       "    .dataframe thead th {\n",
       "        text-align: right;\n",
       "    }\n",
       "</style>\n",
       "<table border=\"1\" class=\"dataframe\">\n",
       "  <thead>\n",
       "    <tr style=\"text-align: right;\">\n",
       "      <th></th>\n",
       "      <th>bloc</th>\n",
       "      <th>icustay_id</th>\n",
       "      <th>charttime</th>\n",
       "      <th>gender</th>\n",
       "      <th>age</th>\n",
       "      <th>elixhauser</th>\n",
       "      <th>re_admission</th>\n",
       "      <th>died_in_hosp</th>\n",
       "      <th>died_within_48h_of_out_time</th>\n",
       "      <th>mortality_90d</th>\n",
       "      <th>...</th>\n",
       "      <th>mechvent</th>\n",
       "      <th>Shock_Index</th>\n",
       "      <th>PaO2_FiO2</th>\n",
       "      <th>median_dose_vaso</th>\n",
       "      <th>max_dose_vaso</th>\n",
       "      <th>input_total</th>\n",
       "      <th>input_1hourly</th>\n",
       "      <th>output_total</th>\n",
       "      <th>output_1hourly</th>\n",
       "      <th>cumulated_balance</th>\n",
       "    </tr>\n",
       "  </thead>\n",
       "  <tbody>\n",
       "    <tr>\n",
       "      <th>0</th>\n",
       "      <td>1</td>\n",
       "      <td>65537</td>\n",
       "      <td>7.139723e+09</td>\n",
       "      <td>0.0</td>\n",
       "      <td>22799.40478</td>\n",
       "      <td>4.0</td>\n",
       "      <td>1.0</td>\n",
       "      <td>0.0</td>\n",
       "      <td>0.0</td>\n",
       "      <td>0.0</td>\n",
       "      <td>...</td>\n",
       "      <td>0.0</td>\n",
       "      <td>0.687500</td>\n",
       "      <td>363.888889</td>\n",
       "      <td>0.18</td>\n",
       "      <td>0.18</td>\n",
       "      <td>4020.493550</td>\n",
       "      <td>29.994183</td>\n",
       "      <td>7235.0</td>\n",
       "      <td>3605.0</td>\n",
       "      <td>-3184.512267</td>\n",
       "    </tr>\n",
       "    <tr>\n",
       "      <th>1</th>\n",
       "      <td>2</td>\n",
       "      <td>65537</td>\n",
       "      <td>7.139727e+09</td>\n",
       "      <td>0.0</td>\n",
       "      <td>22799.40478</td>\n",
       "      <td>4.0</td>\n",
       "      <td>1.0</td>\n",
       "      <td>0.0</td>\n",
       "      <td>0.0</td>\n",
       "      <td>0.0</td>\n",
       "      <td>...</td>\n",
       "      <td>0.0</td>\n",
       "      <td>0.602564</td>\n",
       "      <td>430.555556</td>\n",
       "      <td>0.00</td>\n",
       "      <td>0.00</td>\n",
       "      <td>4050.487733</td>\n",
       "      <td>515.407667</td>\n",
       "      <td>10760.0</td>\n",
       "      <td>3525.0</td>\n",
       "      <td>-6194.104600</td>\n",
       "    </tr>\n",
       "    <tr>\n",
       "      <th>2</th>\n",
       "      <td>3</td>\n",
       "      <td>65537</td>\n",
       "      <td>7.139731e+09</td>\n",
       "      <td>0.0</td>\n",
       "      <td>22799.40478</td>\n",
       "      <td>4.0</td>\n",
       "      <td>1.0</td>\n",
       "      <td>0.0</td>\n",
       "      <td>0.0</td>\n",
       "      <td>0.0</td>\n",
       "      <td>...</td>\n",
       "      <td>0.0</td>\n",
       "      <td>0.751456</td>\n",
       "      <td>402.222222</td>\n",
       "      <td>0.00</td>\n",
       "      <td>0.00</td>\n",
       "      <td>4565.895400</td>\n",
       "      <td>547.876700</td>\n",
       "      <td>14235.0</td>\n",
       "      <td>3475.0</td>\n",
       "      <td>-9121.227900</td>\n",
       "    </tr>\n",
       "    <tr>\n",
       "      <th>3</th>\n",
       "      <td>4</td>\n",
       "      <td>65537</td>\n",
       "      <td>7.139734e+09</td>\n",
       "      <td>0.0</td>\n",
       "      <td>22799.40478</td>\n",
       "      <td>4.0</td>\n",
       "      <td>1.0</td>\n",
       "      <td>0.0</td>\n",
       "      <td>0.0</td>\n",
       "      <td>0.0</td>\n",
       "      <td>...</td>\n",
       "      <td>0.0</td>\n",
       "      <td>0.804762</td>\n",
       "      <td>275.000000</td>\n",
       "      <td>0.00</td>\n",
       "      <td>0.00</td>\n",
       "      <td>5113.772100</td>\n",
       "      <td>2097.144000</td>\n",
       "      <td>17630.0</td>\n",
       "      <td>3395.0</td>\n",
       "      <td>-10419.083900</td>\n",
       "    </tr>\n",
       "    <tr>\n",
       "      <th>4</th>\n",
       "      <td>5</td>\n",
       "      <td>65537</td>\n",
       "      <td>7.139738e+09</td>\n",
       "      <td>0.0</td>\n",
       "      <td>22799.40478</td>\n",
       "      <td>4.0</td>\n",
       "      <td>1.0</td>\n",
       "      <td>0.0</td>\n",
       "      <td>0.0</td>\n",
       "      <td>0.0</td>\n",
       "      <td>...</td>\n",
       "      <td>0.0</td>\n",
       "      <td>0.804245</td>\n",
       "      <td>283.000000</td>\n",
       "      <td>0.00</td>\n",
       "      <td>0.00</td>\n",
       "      <td>7210.916100</td>\n",
       "      <td>519.833583</td>\n",
       "      <td>20785.0</td>\n",
       "      <td>3155.0</td>\n",
       "      <td>-13054.250317</td>\n",
       "    </tr>\n",
       "  </tbody>\n",
       "</table>\n",
       "<p>5 rows × 59 columns</p>\n",
       "</div>"
      ],
      "text/plain": [
       "   bloc  icustay_id     charttime  gender          age  elixhauser  \\\n",
       "0     1       65537  7.139723e+09     0.0  22799.40478         4.0   \n",
       "1     2       65537  7.139727e+09     0.0  22799.40478         4.0   \n",
       "2     3       65537  7.139731e+09     0.0  22799.40478         4.0   \n",
       "3     4       65537  7.139734e+09     0.0  22799.40478         4.0   \n",
       "4     5       65537  7.139738e+09     0.0  22799.40478         4.0   \n",
       "\n",
       "   re_admission  died_in_hosp  died_within_48h_of_out_time  mortality_90d  \\\n",
       "0           1.0           0.0                          0.0            0.0   \n",
       "1           1.0           0.0                          0.0            0.0   \n",
       "2           1.0           0.0                          0.0            0.0   \n",
       "3           1.0           0.0                          0.0            0.0   \n",
       "4           1.0           0.0                          0.0            0.0   \n",
       "\n",
       "   ...  mechvent  Shock_Index   PaO2_FiO2  median_dose_vaso  max_dose_vaso  \\\n",
       "0  ...       0.0     0.687500  363.888889              0.18           0.18   \n",
       "1  ...       0.0     0.602564  430.555556              0.00           0.00   \n",
       "2  ...       0.0     0.751456  402.222222              0.00           0.00   \n",
       "3  ...       0.0     0.804762  275.000000              0.00           0.00   \n",
       "4  ...       0.0     0.804245  283.000000              0.00           0.00   \n",
       "\n",
       "   input_total  input_1hourly  output_total  output_1hourly  cumulated_balance  \n",
       "0  4020.493550      29.994183        7235.0          3605.0       -3184.512267  \n",
       "1  4050.487733     515.407667       10760.0          3525.0       -6194.104600  \n",
       "2  4565.895400     547.876700       14235.0          3475.0       -9121.227900  \n",
       "3  5113.772100    2097.144000       17630.0          3395.0      -10419.083900  \n",
       "4  7210.916100     519.833583       20785.0          3155.0      -13054.250317  \n",
       "\n",
       "[5 rows x 59 columns]"
      ]
     },
     "execution_count": 7,
     "metadata": {},
     "output_type": "execute_result"
    }
   ],
   "source": [
    "MIMICtable = pd.read_csv(\"/data/localhost/taufiq/export-dir/MIMIC-1hourly-length-5-train.csv\")\n",
    "MIMICtable['icustay_id'] = MIMICtable['icustay_id'].astype(int)\n",
    "MIMICtable.head()"
   ]
  },
  {
   "cell_type": "markdown",
   "metadata": {},
   "source": [
    "## Create Actions\n"
   ]
  },
  {
   "cell_type": "code",
   "execution_count": 8,
   "metadata": {},
   "outputs": [],
   "source": [
    "nra = 5\n",
    "nr_reps = 2"
   ]
  },
  {
   "cell_type": "code",
   "execution_count": 9,
   "metadata": {},
   "outputs": [],
   "source": [
    "from sklearn.cluster import KMeans\n",
    "from scipy.stats import rankdata\n",
    "\n",
    "logging.info('Creating action bins')\n",
    "nact = nra**2\n",
    "input_1hourly_nonzero = MIMICtable.loc[MIMICtable['input_1hourly']>0, 'input_1hourly']\n",
    "iol_ranked = rankdata(input_1hourly_nonzero)/len(input_1hourly_nonzero) # excludes zero fluid (will be action 1)\n",
    "iof = np.floor((iol_ranked + 0.2499999999)*4) # converts iv volume in 4 actions\n",
    "io = np.ones(len(MIMICtable)) # array of ones, by default\n",
    "io[MIMICtable['input_1hourly']>0] = iof + 1 # where more than zero fluid given: save actual action\n",
    "vc = MIMICtable['max_dose_vaso'].copy()\n",
    "vc_nonzero = MIMICtable.loc[MIMICtable['max_dose_vaso']!=0, 'max_dose_vaso']\n",
    "vc_ranked = rankdata(vc_nonzero)/len(vc_nonzero)\n",
    "vcf = np.floor((vc_ranked + 0.2499999999)*4) # converts to 4 bins\n",
    "vcf[vcf==0] = 1\n",
    "vc[vc!=0] = vcf + 1\n",
    "vc[vc==0] = 1\n",
    "# median dose of drug in all bins\n",
    "ma1 = [MIMICtable.loc[io==1, 'input_1hourly'].median(), MIMICtable.loc[io==2, 'input_1hourly'].median(), MIMICtable.loc[io==3, 'input_1hourly'].median(), MIMICtable.loc[io==4, 'input_1hourly'].median(), MIMICtable.loc[io==5, 'input_1hourly'].median()]\n",
    "ma2 = [MIMICtable.loc[vc==1, 'max_dose_vaso'].median(), MIMICtable.loc[vc==2, 'max_dose_vaso'].median(), MIMICtable.loc[vc==3, 'max_dose_vaso'].median(), MIMICtable.loc[vc==4, 'max_dose_vaso'].median(), MIMICtable.loc[vc==5, 'max_dose_vaso'].median()]\n",
    "med = pd.DataFrame(data={'IV':io, 'VC': vc})\n",
    "med = med.astype({'IV': 'int32', 'VC': 'int32'})\n",
    "uniqueValues = med.drop_duplicates().reset_index(drop=True)\n",
    "uniqueValueDoses = pd.DataFrame()\n",
    "for index, row in uniqueValues.iterrows():\n",
    "    uniqueValueDoses.at[index, 'IV'], uniqueValueDoses.at[index, 'VC'] = ma1[row['IV']-1], ma2[row['VC']-1]\n",
    "\n",
    "actionbloc = pd.DataFrame()\n",
    "for index, row in med.iterrows():\n",
    "    actionbloc.at[index, 'action_bloc'] = uniqueValues.loc[(uniqueValues['IV'] == row['IV']) & (uniqueValues['VC'] == row['VC'])].index.values[0]+1\n",
    "actionbloc = actionbloc.astype({'action_bloc':'int32'})\n",
    "\n",
    "logging.info('Action bins created')"
   ]
  },
  {
   "cell_type": "code",
   "execution_count": 10,
   "metadata": {},
   "outputs": [
    {
     "data": {
      "text/plain": [
       "25840"
      ]
     },
     "execution_count": 10,
     "metadata": {},
     "output_type": "execute_result"
    }
   ],
   "source": [
    "len(MIMICtable)"
   ]
  },
  {
   "cell_type": "code",
   "execution_count": 11,
   "metadata": {},
   "outputs": [],
   "source": [
    "MIMICtable['A'] = actionbloc['action_bloc']"
   ]
  },
  {
   "cell_type": "code",
   "execution_count": 113,
   "metadata": {},
   "outputs": [],
   "source": [
    "x_columns = ['gender', 'age', 'Weight_kg', 'paCO2', 'paO2', 'HCO3', 'Arterial_pH', 'Calcium', 'Chloride', 'DiaBP', 'Glucose', 'MeanBP', 'Potassium', 'RR', 'Temp_C', 'Sodium', 'SysBP', 'HR']"
   ]
  },
  {
   "cell_type": "code",
   "execution_count": 150,
   "metadata": {},
   "outputs": [],
   "source": [
    "MIMICtable_filtered_t0 = MIMICtable[MIMICtable['bloc']==1].reset_index()\n",
    "MIMICtable_filtered_t1 = MIMICtable[MIMICtable['bloc']==2].reset_index()\n",
    "MIMICtable_filtered_t2 = MIMICtable[MIMICtable['bloc']==3].reset_index()\n",
    "# MIMICtable_filtered_t1 = MIMICtable[MIMICtable['bloc']==2][[\n",
    "#        'icustay_id', 'RR', 'HR', 'SysBP', 'MeanBP', 'DiaBP',\n",
    "#        'SpO2', 'Temp_C', 'FiO2_1', 'Potassium', 'Sodium', 'Chloride',\n",
    "#        'Glucose', 'BUN', 'Creatinine', 'Magnesium', 'Calcium', 'Ionised_Ca',\n",
    "#        'CO2_mEqL', 'SGOT', 'SGPT', 'Total_bili', 'Albumin', 'Hb', 'WBC_count',\n",
    "#        'Platelets_count', 'PTT', 'PT', 'INR', 'Arterial_pH', 'paO2', 'paCO2',\n",
    "#        'Arterial_BE', 'HCO3', 'Arterial_lactate', 'A']].reset_index()\n",
    "# MIMICtable_filtered_t2 = MIMICtable[MIMICtable['bloc']==3][[\n",
    "#        'icustay_id', 'RR', 'HR', 'SysBP', 'MeanBP', 'DiaBP',\n",
    "#        'SpO2', 'Temp_C', 'FiO2_1', 'Potassium', 'Sodium', 'Chloride',\n",
    "#        'Glucose', 'BUN', 'Creatinine', 'Magnesium', 'Calcium', 'Ionised_Ca',\n",
    "#        'CO2_mEqL', 'SGOT', 'SGPT', 'Total_bili', 'Albumin', 'Hb', 'WBC_count',\n",
    "#        'Platelets_count', 'PTT', 'PT', 'INR', 'Arterial_pH', 'paO2', 'paCO2',\n",
    "#        'Arterial_BE', 'HCO3', 'Arterial_lactate', 'A']].reset_index()\n",
    "\n",
    "\n",
    "MIMICtable_filtered_t1 = MIMICtable_filtered_t1[MIMICtable_filtered_t1[x_columns].min(axis=1)>0].reset_index()\n",
    "MIMICtable_filtered_t0 = MIMICtable_filtered_t0[MIMICtable_filtered_t0['icustay_id'].isin(MIMICtable_filtered_t1['icustay_id'])].reset_index()\n",
    "\n",
    "MIMICtable_filtered_t2 = MIMICtable_filtered_t2[MIMICtable_filtered_t2[x_columns].min(axis=1)>0].reset_index(drop=True)\n",
    "MIMICtable_filtered_t1 = MIMICtable_filtered_t1[MIMICtable_filtered_t1['icustay_id'].isin(MIMICtable_filtered_t2['icustay_id'])].reset_index(drop=True)\n",
    "MIMICtable_filtered_t2 = MIMICtable_filtered_t2[MIMICtable_filtered_t2['icustay_id'].isin(MIMICtable_filtered_t1['icustay_id'])].reset_index(drop=True)\n",
    "MIMICtable_filtered_t0 = MIMICtable_filtered_t0[MIMICtable_filtered_t0['icustay_id'].isin(MIMICtable_filtered_t1['icustay_id'])].reset_index(drop=True)"
   ]
  },
  {
   "cell_type": "code",
   "execution_count": 151,
   "metadata": {},
   "outputs": [],
   "source": [
    "pulse_data_t0 = pulse_data[pulse_data['index']==1].reset_index(drop=True)\n",
    "pulse_data_t1 = pulse_data[pulse_data['index']==2].reset_index(drop=True)\n",
    "pulse_data_t2 = pulse_data[pulse_data['index']==3].reset_index(drop=True)\n",
    "\n",
    "pulse_data_t0 = MIMICtable[MIMICtable['bloc']==2][['gender', 'age', 'Weight_kg', 'icustay_id', 'A']].merge(pulse_data_t0, on=['icustay_id'])\n",
    "pulse_data_t1 = MIMICtable[MIMICtable['bloc']==3][['gender', 'age', 'Weight_kg', 'icustay_id', 'A']].merge(pulse_data_t1, on=['icustay_id'])\n",
    "pulse_data_t2 = MIMICtable[MIMICtable['bloc']==4][['gender', 'age', 'Weight_kg', 'icustay_id', 'A']].merge(pulse_data_t2, on=['icustay_id'])\n"
   ]
  },
  {
   "cell_type": "markdown",
   "metadata": {},
   "source": [
    "# Supervised Learning of Actions - Logistic Regression\n"
   ]
  },
  {
   "cell_type": "code",
   "execution_count": 152,
   "metadata": {},
   "outputs": [
    {
     "data": {
      "text/html": [
       "<div>\n",
       "<style scoped>\n",
       "    .dataframe tbody tr th:only-of-type {\n",
       "        vertical-align: middle;\n",
       "    }\n",
       "\n",
       "    .dataframe tbody tr th {\n",
       "        vertical-align: top;\n",
       "    }\n",
       "\n",
       "    .dataframe thead th {\n",
       "        text-align: right;\n",
       "    }\n",
       "</style>\n",
       "<table border=\"1\" class=\"dataframe\">\n",
       "  <thead>\n",
       "    <tr style=\"text-align: right;\">\n",
       "      <th></th>\n",
       "      <th>level_0</th>\n",
       "      <th>index</th>\n",
       "      <th>bloc</th>\n",
       "      <th>icustay_id</th>\n",
       "      <th>charttime</th>\n",
       "      <th>gender</th>\n",
       "      <th>age</th>\n",
       "      <th>elixhauser</th>\n",
       "      <th>re_admission</th>\n",
       "      <th>died_in_hosp</th>\n",
       "      <th>...</th>\n",
       "      <th>Shock_Index</th>\n",
       "      <th>PaO2_FiO2</th>\n",
       "      <th>median_dose_vaso</th>\n",
       "      <th>max_dose_vaso</th>\n",
       "      <th>input_total</th>\n",
       "      <th>input_1hourly</th>\n",
       "      <th>output_total</th>\n",
       "      <th>output_1hourly</th>\n",
       "      <th>cumulated_balance</th>\n",
       "      <th>A</th>\n",
       "    </tr>\n",
       "  </thead>\n",
       "  <tbody>\n",
       "    <tr>\n",
       "      <th>0</th>\n",
       "      <td>7</td>\n",
       "      <td>35</td>\n",
       "      <td>1</td>\n",
       "      <td>32803</td>\n",
       "      <td>6.028404e+09</td>\n",
       "      <td>1.0</td>\n",
       "      <td>25542.238889</td>\n",
       "      <td>4.0</td>\n",
       "      <td>0.0</td>\n",
       "      <td>0.0</td>\n",
       "      <td>...</td>\n",
       "      <td>0.777143</td>\n",
       "      <td>182.499997</td>\n",
       "      <td>0.00</td>\n",
       "      <td>0.00</td>\n",
       "      <td>0.0</td>\n",
       "      <td>0.000</td>\n",
       "      <td>4570.0</td>\n",
       "      <td>2285.0</td>\n",
       "      <td>-4570.000</td>\n",
       "      <td>3</td>\n",
       "    </tr>\n",
       "    <tr>\n",
       "      <th>1</th>\n",
       "      <td>9</td>\n",
       "      <td>45</td>\n",
       "      <td>1</td>\n",
       "      <td>65582</td>\n",
       "      <td>6.637824e+09</td>\n",
       "      <td>1.0</td>\n",
       "      <td>29902.714815</td>\n",
       "      <td>3.0</td>\n",
       "      <td>0.0</td>\n",
       "      <td>0.0</td>\n",
       "      <td>...</td>\n",
       "      <td>0.944444</td>\n",
       "      <td>600.000000</td>\n",
       "      <td>0.00</td>\n",
       "      <td>0.00</td>\n",
       "      <td>0.0</td>\n",
       "      <td>10.000</td>\n",
       "      <td>2070.0</td>\n",
       "      <td>1035.0</td>\n",
       "      <td>-2060.000</td>\n",
       "      <td>4</td>\n",
       "    </tr>\n",
       "    <tr>\n",
       "      <th>2</th>\n",
       "      <td>11</td>\n",
       "      <td>55</td>\n",
       "      <td>1</td>\n",
       "      <td>65594</td>\n",
       "      <td>5.887451e+09</td>\n",
       "      <td>1.0</td>\n",
       "      <td>24820.816921</td>\n",
       "      <td>6.0</td>\n",
       "      <td>0.0</td>\n",
       "      <td>0.0</td>\n",
       "      <td>...</td>\n",
       "      <td>0.593750</td>\n",
       "      <td>508.333333</td>\n",
       "      <td>0.00</td>\n",
       "      <td>0.00</td>\n",
       "      <td>220.0</td>\n",
       "      <td>20.000</td>\n",
       "      <td>19252.0</td>\n",
       "      <td>9591.0</td>\n",
       "      <td>-19012.000</td>\n",
       "      <td>5</td>\n",
       "    </tr>\n",
       "    <tr>\n",
       "      <th>3</th>\n",
       "      <td>13</td>\n",
       "      <td>65</td>\n",
       "      <td>1</td>\n",
       "      <td>75</td>\n",
       "      <td>5.987178e+09</td>\n",
       "      <td>1.0</td>\n",
       "      <td>30550.009259</td>\n",
       "      <td>3.0</td>\n",
       "      <td>0.0</td>\n",
       "      <td>0.0</td>\n",
       "      <td>...</td>\n",
       "      <td>0.845311</td>\n",
       "      <td>123.000000</td>\n",
       "      <td>0.13</td>\n",
       "      <td>0.13</td>\n",
       "      <td>0.0</td>\n",
       "      <td>11.388</td>\n",
       "      <td>10680.0</td>\n",
       "      <td>5115.0</td>\n",
       "      <td>-10668.612</td>\n",
       "      <td>8</td>\n",
       "    </tr>\n",
       "    <tr>\n",
       "      <th>4</th>\n",
       "      <td>14</td>\n",
       "      <td>70</td>\n",
       "      <td>1</td>\n",
       "      <td>32844</td>\n",
       "      <td>4.454810e+09</td>\n",
       "      <td>1.0</td>\n",
       "      <td>27290.408796</td>\n",
       "      <td>4.0</td>\n",
       "      <td>0.0</td>\n",
       "      <td>0.0</td>\n",
       "      <td>...</td>\n",
       "      <td>0.791339</td>\n",
       "      <td>1612.500000</td>\n",
       "      <td>0.00</td>\n",
       "      <td>0.00</td>\n",
       "      <td>0.0</td>\n",
       "      <td>0.000</td>\n",
       "      <td>3770.0</td>\n",
       "      <td>1885.0</td>\n",
       "      <td>-3770.000</td>\n",
       "      <td>3</td>\n",
       "    </tr>\n",
       "  </tbody>\n",
       "</table>\n",
       "<p>5 rows × 62 columns</p>\n",
       "</div>"
      ],
      "text/plain": [
       "   level_0  index  bloc  icustay_id     charttime  gender           age  \\\n",
       "0        7     35     1       32803  6.028404e+09     1.0  25542.238889   \n",
       "1        9     45     1       65582  6.637824e+09     1.0  29902.714815   \n",
       "2       11     55     1       65594  5.887451e+09     1.0  24820.816921   \n",
       "3       13     65     1          75  5.987178e+09     1.0  30550.009259   \n",
       "4       14     70     1       32844  4.454810e+09     1.0  27290.408796   \n",
       "\n",
       "   elixhauser  re_admission  died_in_hosp  ...  Shock_Index    PaO2_FiO2  \\\n",
       "0         4.0           0.0           0.0  ...     0.777143   182.499997   \n",
       "1         3.0           0.0           0.0  ...     0.944444   600.000000   \n",
       "2         6.0           0.0           0.0  ...     0.593750   508.333333   \n",
       "3         3.0           0.0           0.0  ...     0.845311   123.000000   \n",
       "4         4.0           0.0           0.0  ...     0.791339  1612.500000   \n",
       "\n",
       "   median_dose_vaso  max_dose_vaso  input_total  input_1hourly  output_total  \\\n",
       "0              0.00           0.00          0.0          0.000        4570.0   \n",
       "1              0.00           0.00          0.0         10.000        2070.0   \n",
       "2              0.00           0.00        220.0         20.000       19252.0   \n",
       "3              0.13           0.13          0.0         11.388       10680.0   \n",
       "4              0.00           0.00          0.0          0.000        3770.0   \n",
       "\n",
       "   output_1hourly  cumulated_balance  A  \n",
       "0          2285.0          -4570.000  3  \n",
       "1          1035.0          -2060.000  4  \n",
       "2          9591.0         -19012.000  5  \n",
       "3          5115.0         -10668.612  8  \n",
       "4          1885.0          -3770.000  3  \n",
       "\n",
       "[5 rows x 62 columns]"
      ]
     },
     "execution_count": 152,
     "metadata": {},
     "output_type": "execute_result"
    }
   ],
   "source": [
    "MIMICtable_filtered_t0.head()"
   ]
  },
  {
   "cell_type": "code",
   "execution_count": 153,
   "metadata": {},
   "outputs": [],
   "source": [
    "# #################   Convert training data and compute conversion factors    ######################\n",
    "# logging.info('Processing raw data')\n",
    "# # all 47 columns of interest\n",
    "# colbin = ['gender']\n",
    "# colnorm=['age','Weight_kg','GCS','HR','SysBP','MeanBP','DiaBP','RR','Temp_C','FiO2_1',\\\n",
    "#     'Potassium','Sodium','Chloride','Glucose','Magnesium','Calcium',\\\n",
    "#     'Hb','WBC_count','Platelets_count','PTT','PT','Arterial_pH','paO2','paCO2',\\\n",
    "#     'Arterial_BE','HCO3','Arterial_lactate','SOFA','SIRS','Shock_Index','PaO2_FiO2','cumulated_balance']\n",
    "# # collog=['SpO2','BUN','Creatinine','SGOT','SGPT','Total_bili','INR','output_total','output_1hourly']\n",
    "\n",
    "\n",
    "# MIMICraw = MIMIC_data_combined[['gender', 'age', f'{col_name}_t0']].copy()\n",
    "\n",
    "# for col in MIMICraw:\n",
    "#     if col in colbin:\n",
    "#         MIMICraw[col] = MIMICraw[col] - 0.5\n",
    "# #     elif col in colnorm:\n",
    "#     else:\n",
    "#         cmu = MIMICraw[col].mean()\n",
    "#         csigma = MIMICraw[col].std()\n",
    "#         MIMICraw[col] = (MIMICraw[col] - cmu)/csigma\n",
    "# #     else:\n",
    "# #         log_values = np.log(0.1 + MIMICraw[col])\n",
    "# #         dmu = log_values.mean()\n",
    "# #         dsigma = log_values.std()\n",
    "# #         MIMICraw[col] = (log_values - dmu)/dsigma    \n",
    "# logging.info('Raw data processed')\n"
   ]
  },
  {
   "cell_type": "code",
   "execution_count": 154,
   "metadata": {},
   "outputs": [],
   "source": [
    "#################   Convert training data and compute conversion factors    ######################\n",
    "logging.info('Processing raw data')\n",
    "# all 47 columns of interest\n",
    "colbin = ['gender']\n",
    "colnorm=['age','Weight_kg','GCS','HR','SysBP','MeanBP','DiaBP','RR','Temp_C','FiO2_1',\\\n",
    "    'Potassium','Sodium','Chloride','Glucose','Magnesium','Calcium',\\\n",
    "    'Hb','WBC_count','Platelets_count','PTT','PT','Arterial_pH','paO2','paCO2',\\\n",
    "    'Arterial_BE','HCO3','Arterial_lactate','SOFA','SIRS','Shock_Index','PaO2_FiO2','cumulated_balance']\n",
    "collog=['SpO2','BUN','Creatinine','SGOT','SGPT','Total_bili','INR','output_total','output_1hourly']\n",
    "\n",
    "\n",
    "MIMICraw_t0 = MIMICtable_filtered_t0[x_columns].copy()\n",
    "\n",
    "for col in MIMICraw_t0:\n",
    "    if col in colbin:\n",
    "        MIMICraw_t0[col] = MIMICraw_t0[col] - 0.5\n",
    "    elif col in colnorm:\n",
    "        cmu = MIMICraw_t0[col].mean()\n",
    "        csigma = MIMICraw_t0[col].std()\n",
    "        MIMICraw_t0[col] = (MIMICraw_t0[col] - cmu)/csigma\n",
    "    else:\n",
    "        log_values = np.log(0.1 + MIMICraw_t0[col])\n",
    "        dmu = log_values.mean()\n",
    "        dsigma = log_values.std()\n",
    "        MIMICraw_t0[col] = (log_values - dmu)/dsigma    \n",
    "logging.info('Raw data processed')\n"
   ]
  },
  {
   "cell_type": "code",
   "execution_count": 155,
   "metadata": {},
   "outputs": [],
   "source": [
    "MIMICraw_t1 = MIMICtable_filtered_t1[x_columns].copy()\n",
    "\n",
    "for col in MIMICraw_t1:\n",
    "    if col in colbin:\n",
    "        MIMICraw_t1[col] = MIMICraw_t1[col] - 0.5\n",
    "    elif col in colnorm:\n",
    "        cmu = MIMICraw_t1[col].mean()\n",
    "        csigma = MIMICraw_t1[col].std()\n",
    "        MIMICraw_t1[col] = (MIMICraw_t1[col] - cmu)/csigma\n",
    "    else:\n",
    "        log_values = np.log(0.1 + MIMICraw_t1[col])\n",
    "        dmu = log_values.mean()\n",
    "        dsigma = log_values.std()\n",
    "        MIMICraw_t1[col] = (log_values - dmu)/dsigma    \n",
    "logging.info('Raw data processed')\n"
   ]
  },
  {
   "cell_type": "code",
   "execution_count": 156,
   "metadata": {},
   "outputs": [],
   "source": [
    "#################   Convert training data and compute conversion factors    ######################\n",
    "logging.info('Processing raw data')\n",
    "# all 47 columns of interest\n",
    "colbin = ['gender']\n",
    "colnorm=['age','Weight_kg','GCS','HR','SysBP','MeanBP','DiaBP','RR','Temp_C','FiO2_1',\\\n",
    "    'Potassium','Sodium','Chloride','Glucose','Magnesium','Calcium',\\\n",
    "    'Hb','WBC_count','Platelets_count','PTT','PT','Arterial_pH','paO2','paCO2',\\\n",
    "    'Arterial_BE','HCO3','Arterial_lactate','SOFA','SIRS','Shock_Index','PaO2_FiO2','cumulated_balance']\n",
    "collog=['SpO2','BUN','Creatinine','SGOT','SGPT','Total_bili','INR','output_total','output_1hourly']\n",
    "\n",
    "pulseraw_t0 = pulse_data_t0[x_columns].copy()\n",
    "\n",
    "for col in pulseraw_t0:\n",
    "    if col in colbin:\n",
    "        pulseraw_t0[col] = pulseraw_t0[col] - 0.5\n",
    "    elif col in colnorm:\n",
    "        cmu = pulseraw_t0[col].mean()\n",
    "        csigma = pulseraw_t0[col].std()\n",
    "        pulseraw_t0[col] = (pulseraw_t0[col] - cmu)/csigma\n",
    "logging.info('Raw data processed')\n"
   ]
  },
  {
   "cell_type": "code",
   "execution_count": 157,
   "metadata": {},
   "outputs": [],
   "source": [
    "pulseraw_t1 = pulse_data_t1[x_columns].copy()\n",
    "\n",
    "for col in pulseraw_t1:\n",
    "    if col in colbin:\n",
    "        pulseraw_t1[col] = pulseraw_t1[col] - 0.5\n",
    "    elif col in colnorm:\n",
    "        cmu = pulseraw_t1[col].mean()\n",
    "        csigma = pulseraw_t1[col].std()\n",
    "        pulseraw_t1[col] = (pulseraw_t1[col] - cmu)/csigma\n",
    "logging.info('Raw data processed')"
   ]
  },
  {
   "cell_type": "code",
   "execution_count": 158,
   "metadata": {},
   "outputs": [
    {
     "data": {
      "text/html": [
       "<div>\n",
       "<style scoped>\n",
       "    .dataframe tbody tr th:only-of-type {\n",
       "        vertical-align: middle;\n",
       "    }\n",
       "\n",
       "    .dataframe tbody tr th {\n",
       "        vertical-align: top;\n",
       "    }\n",
       "\n",
       "    .dataframe thead th {\n",
       "        text-align: right;\n",
       "    }\n",
       "</style>\n",
       "<table border=\"1\" class=\"dataframe\">\n",
       "  <thead>\n",
       "    <tr style=\"text-align: right;\">\n",
       "      <th></th>\n",
       "      <th>gender</th>\n",
       "      <th>age</th>\n",
       "      <th>Weight_kg</th>\n",
       "      <th>paCO2</th>\n",
       "      <th>paO2</th>\n",
       "      <th>HCO3</th>\n",
       "      <th>Arterial_pH</th>\n",
       "      <th>Calcium</th>\n",
       "      <th>Chloride</th>\n",
       "      <th>DiaBP</th>\n",
       "      <th>Glucose</th>\n",
       "      <th>MeanBP</th>\n",
       "      <th>Potassium</th>\n",
       "      <th>RR</th>\n",
       "      <th>Temp_C</th>\n",
       "      <th>Sodium</th>\n",
       "      <th>SysBP</th>\n",
       "      <th>HR</th>\n",
       "    </tr>\n",
       "  </thead>\n",
       "  <tbody>\n",
       "    <tr>\n",
       "      <th>0</th>\n",
       "      <td>0.5</td>\n",
       "      <td>0.179607</td>\n",
       "      <td>-0.093164</td>\n",
       "      <td>0.768696</td>\n",
       "      <td>-0.933295</td>\n",
       "      <td>0.297807</td>\n",
       "      <td>-0.748376</td>\n",
       "      <td>-1.516881</td>\n",
       "      <td>-0.771811</td>\n",
       "      <td>-0.198614</td>\n",
       "      <td>2.029509</td>\n",
       "      <td>-1.130018</td>\n",
       "      <td>-2.278047</td>\n",
       "      <td>-0.407985</td>\n",
       "      <td>-0.797503</td>\n",
       "      <td>0.410026</td>\n",
       "      <td>-1.591709</td>\n",
       "      <td>-1.095191</td>\n",
       "    </tr>\n",
       "    <tr>\n",
       "      <th>1</th>\n",
       "      <td>0.5</td>\n",
       "      <td>0.899504</td>\n",
       "      <td>-0.394886</td>\n",
       "      <td>-0.215217</td>\n",
       "      <td>1.132266</td>\n",
       "      <td>1.963211</td>\n",
       "      <td>0.096487</td>\n",
       "      <td>-0.010479</td>\n",
       "      <td>-0.355838</td>\n",
       "      <td>1.210330</td>\n",
       "      <td>-0.820232</td>\n",
       "      <td>0.593500</td>\n",
       "      <td>-0.269297</td>\n",
       "      <td>1.787776</td>\n",
       "      <td>1.618672</td>\n",
       "      <td>0.982474</td>\n",
       "      <td>0.090324</td>\n",
       "      <td>1.660158</td>\n",
       "    </tr>\n",
       "    <tr>\n",
       "      <th>2</th>\n",
       "      <td>0.5</td>\n",
       "      <td>0.060503</td>\n",
       "      <td>2.239064</td>\n",
       "      <td>-0.451356</td>\n",
       "      <td>-0.141617</td>\n",
       "      <td>0.112762</td>\n",
       "      <td>1.152566</td>\n",
       "      <td>0.190375</td>\n",
       "      <td>-0.199848</td>\n",
       "      <td>-1.272094</td>\n",
       "      <td>-0.446284</td>\n",
       "      <td>-1.075818</td>\n",
       "      <td>-1.498237</td>\n",
       "      <td>-0.316495</td>\n",
       "      <td>0.051425</td>\n",
       "      <td>0.982474</td>\n",
       "      <td>-0.521325</td>\n",
       "      <td>-1.176231</td>\n",
       "    </tr>\n",
       "    <tr>\n",
       "      <th>3</th>\n",
       "      <td>0.5</td>\n",
       "      <td>1.006370</td>\n",
       "      <td>-0.904551</td>\n",
       "      <td>-0.687496</td>\n",
       "      <td>-0.573441</td>\n",
       "      <td>-0.812462</td>\n",
       "      <td>0.518919</td>\n",
       "      <td>1.094216</td>\n",
       "      <td>-0.823808</td>\n",
       "      <td>-0.695099</td>\n",
       "      <td>-0.742864</td>\n",
       "      <td>-1.019453</td>\n",
       "      <td>0.870803</td>\n",
       "      <td>0.659399</td>\n",
       "      <td>-0.405690</td>\n",
       "      <td>-0.544056</td>\n",
       "      <td>-1.159187</td>\n",
       "      <td>-0.320812</td>\n",
       "    </tr>\n",
       "    <tr>\n",
       "      <th>4</th>\n",
       "      <td>0.5</td>\n",
       "      <td>0.468223</td>\n",
       "      <td>-1.141035</td>\n",
       "      <td>-0.333287</td>\n",
       "      <td>1.326588</td>\n",
       "      <td>-0.257327</td>\n",
       "      <td>0.677331</td>\n",
       "      <td>-0.412186</td>\n",
       "      <td>0.424112</td>\n",
       "      <td>0.405219</td>\n",
       "      <td>-0.426942</td>\n",
       "      <td>0.723577</td>\n",
       "      <td>0.545060</td>\n",
       "      <td>1.238836</td>\n",
       "      <td>-0.928105</td>\n",
       "      <td>0.410026</td>\n",
       "      <td>0.134013</td>\n",
       "      <td>0.660669</td>\n",
       "    </tr>\n",
       "  </tbody>\n",
       "</table>\n",
       "</div>"
      ],
      "text/plain": [
       "   gender       age  Weight_kg     paCO2      paO2      HCO3  Arterial_pH  \\\n",
       "0     0.5  0.179607  -0.093164  0.768696 -0.933295  0.297807    -0.748376   \n",
       "1     0.5  0.899504  -0.394886 -0.215217  1.132266  1.963211     0.096487   \n",
       "2     0.5  0.060503   2.239064 -0.451356 -0.141617  0.112762     1.152566   \n",
       "3     0.5  1.006370  -0.904551 -0.687496 -0.573441 -0.812462     0.518919   \n",
       "4     0.5  0.468223  -1.141035 -0.333287  1.326588 -0.257327     0.677331   \n",
       "\n",
       "    Calcium  Chloride     DiaBP   Glucose    MeanBP  Potassium        RR  \\\n",
       "0 -1.516881 -0.771811 -0.198614  2.029509 -1.130018  -2.278047 -0.407985   \n",
       "1 -0.010479 -0.355838  1.210330 -0.820232  0.593500  -0.269297  1.787776   \n",
       "2  0.190375 -0.199848 -1.272094 -0.446284 -1.075818  -1.498237 -0.316495   \n",
       "3  1.094216 -0.823808 -0.695099 -0.742864 -1.019453   0.870803  0.659399   \n",
       "4 -0.412186  0.424112  0.405219 -0.426942  0.723577   0.545060  1.238836   \n",
       "\n",
       "     Temp_C    Sodium     SysBP        HR  \n",
       "0 -0.797503  0.410026 -1.591709 -1.095191  \n",
       "1  1.618672  0.982474  0.090324  1.660158  \n",
       "2  0.051425  0.982474 -0.521325 -1.176231  \n",
       "3 -0.405690 -0.544056 -1.159187 -0.320812  \n",
       "4 -0.928105  0.410026  0.134013  0.660669  "
      ]
     },
     "execution_count": 158,
     "metadata": {},
     "output_type": "execute_result"
    }
   ],
   "source": [
    "MIMICraw_t0.head()"
   ]
  },
  {
   "cell_type": "code",
   "execution_count": 118,
   "metadata": {},
   "outputs": [
    {
     "data": {
      "text/html": [
       "<div>\n",
       "<style scoped>\n",
       "    .dataframe tbody tr th:only-of-type {\n",
       "        vertical-align: middle;\n",
       "    }\n",
       "\n",
       "    .dataframe tbody tr th {\n",
       "        vertical-align: top;\n",
       "    }\n",
       "\n",
       "    .dataframe thead th {\n",
       "        text-align: right;\n",
       "    }\n",
       "</style>\n",
       "<table border=\"1\" class=\"dataframe\">\n",
       "  <thead>\n",
       "    <tr style=\"text-align: right;\">\n",
       "      <th></th>\n",
       "      <th>gender</th>\n",
       "      <th>age</th>\n",
       "      <th>Weight_kg</th>\n",
       "      <th>paCO2</th>\n",
       "      <th>paO2</th>\n",
       "      <th>HCO3</th>\n",
       "      <th>Arterial_pH</th>\n",
       "      <th>Calcium</th>\n",
       "      <th>Chloride</th>\n",
       "      <th>DiaBP</th>\n",
       "      <th>Glucose</th>\n",
       "      <th>MeanBP</th>\n",
       "      <th>Potassium</th>\n",
       "      <th>RR</th>\n",
       "      <th>Temp_C</th>\n",
       "      <th>Sodium</th>\n",
       "      <th>SysBP</th>\n",
       "      <th>HR</th>\n",
       "    </tr>\n",
       "  </thead>\n",
       "  <tbody>\n",
       "    <tr>\n",
       "      <th>0</th>\n",
       "      <td>-0.5</td>\n",
       "      <td>1.370133</td>\n",
       "      <td>-0.200072</td>\n",
       "      <td>0.679317</td>\n",
       "      <td>-0.594299</td>\n",
       "      <td>-0.418433</td>\n",
       "      <td>-1.953223</td>\n",
       "      <td>0.064156</td>\n",
       "      <td>0.063241</td>\n",
       "      <td>-2.955138</td>\n",
       "      <td>0.404232</td>\n",
       "      <td>-2.677111</td>\n",
       "      <td>0.488905</td>\n",
       "      <td>1.811720</td>\n",
       "      <td>-0.932769</td>\n",
       "      <td>0.134385</td>\n",
       "      <td>-1.642460</td>\n",
       "      <td>0.748303</td>\n",
       "    </tr>\n",
       "    <tr>\n",
       "      <th>1</th>\n",
       "      <td>-0.5</td>\n",
       "      <td>1.761313</td>\n",
       "      <td>0.772395</td>\n",
       "      <td>0.477712</td>\n",
       "      <td>1.142894</td>\n",
       "      <td>-0.923531</td>\n",
       "      <td>-0.879303</td>\n",
       "      <td>-0.084045</td>\n",
       "      <td>0.715466</td>\n",
       "      <td>0.273675</td>\n",
       "      <td>0.406498</td>\n",
       "      <td>0.850317</td>\n",
       "      <td>-0.412468</td>\n",
       "      <td>1.028207</td>\n",
       "      <td>0.710066</td>\n",
       "      <td>0.393384</td>\n",
       "      <td>0.549021</td>\n",
       "      <td>-1.489527</td>\n",
       "    </tr>\n",
       "    <tr>\n",
       "      <th>2</th>\n",
       "      <td>-0.5</td>\n",
       "      <td>-0.173139</td>\n",
       "      <td>-0.735487</td>\n",
       "      <td>1.464418</td>\n",
       "      <td>1.854598</td>\n",
       "      <td>-0.388633</td>\n",
       "      <td>1.654750</td>\n",
       "      <td>1.230761</td>\n",
       "      <td>-1.370052</td>\n",
       "      <td>0.668563</td>\n",
       "      <td>0.661602</td>\n",
       "      <td>0.820566</td>\n",
       "      <td>3.752841</td>\n",
       "      <td>-0.508615</td>\n",
       "      <td>0.781882</td>\n",
       "      <td>-1.618817</td>\n",
       "      <td>-0.608367</td>\n",
       "      <td>0.459611</td>\n",
       "    </tr>\n",
       "    <tr>\n",
       "      <th>3</th>\n",
       "      <td>-0.5</td>\n",
       "      <td>-0.107528</td>\n",
       "      <td>-1.210523</td>\n",
       "      <td>-0.076940</td>\n",
       "      <td>2.303370</td>\n",
       "      <td>1.222816</td>\n",
       "      <td>0.503105</td>\n",
       "      <td>0.275990</td>\n",
       "      <td>-2.502392</td>\n",
       "      <td>-1.062143</td>\n",
       "      <td>-1.925866</td>\n",
       "      <td>-1.374494</td>\n",
       "      <td>-1.545175</td>\n",
       "      <td>-0.801778</td>\n",
       "      <td>0.220371</td>\n",
       "      <td>-2.287649</td>\n",
       "      <td>-1.326952</td>\n",
       "      <td>-0.535654</td>\n",
       "    </tr>\n",
       "    <tr>\n",
       "      <th>4</th>\n",
       "      <td>-0.5</td>\n",
       "      <td>-0.870038</td>\n",
       "      <td>0.270685</td>\n",
       "      <td>-0.594429</td>\n",
       "      <td>-1.111328</td>\n",
       "      <td>-0.331272</td>\n",
       "      <td>-0.066534</td>\n",
       "      <td>-0.123930</td>\n",
       "      <td>-0.107424</td>\n",
       "      <td>1.784269</td>\n",
       "      <td>-0.625470</td>\n",
       "      <td>0.982503</td>\n",
       "      <td>-0.131683</td>\n",
       "      <td>2.373319</td>\n",
       "      <td>0.858610</td>\n",
       "      <td>0.160509</td>\n",
       "      <td>0.726012</td>\n",
       "      <td>1.889800</td>\n",
       "    </tr>\n",
       "  </tbody>\n",
       "</table>\n",
       "</div>"
      ],
      "text/plain": [
       "   gender       age  Weight_kg     paCO2      paO2      HCO3  Arterial_pH  \\\n",
       "0    -0.5  1.370133  -0.200072  0.679317 -0.594299 -0.418433    -1.953223   \n",
       "1    -0.5  1.761313   0.772395  0.477712  1.142894 -0.923531    -0.879303   \n",
       "2    -0.5 -0.173139  -0.735487  1.464418  1.854598 -0.388633     1.654750   \n",
       "3    -0.5 -0.107528  -1.210523 -0.076940  2.303370  1.222816     0.503105   \n",
       "4    -0.5 -0.870038   0.270685 -0.594429 -1.111328 -0.331272    -0.066534   \n",
       "\n",
       "    Calcium  Chloride     DiaBP   Glucose    MeanBP  Potassium        RR  \\\n",
       "0  0.064156  0.063241 -2.955138  0.404232 -2.677111   0.488905  1.811720   \n",
       "1 -0.084045  0.715466  0.273675  0.406498  0.850317  -0.412468  1.028207   \n",
       "2  1.230761 -1.370052  0.668563  0.661602  0.820566   3.752841 -0.508615   \n",
       "3  0.275990 -2.502392 -1.062143 -1.925866 -1.374494  -1.545175 -0.801778   \n",
       "4 -0.123930 -0.107424  1.784269 -0.625470  0.982503  -0.131683  2.373319   \n",
       "\n",
       "     Temp_C    Sodium     SysBP        HR  \n",
       "0 -0.932769  0.134385 -1.642460  0.748303  \n",
       "1  0.710066  0.393384  0.549021 -1.489527  \n",
       "2  0.781882 -1.618817 -0.608367  0.459611  \n",
       "3  0.220371 -2.287649 -1.326952 -0.535654  \n",
       "4  0.858610  0.160509  0.726012  1.889800  "
      ]
     },
     "execution_count": 118,
     "metadata": {},
     "output_type": "execute_result"
    }
   ],
   "source": [
    "from scipy import stats\n",
    "males=MIMICraw_t0[MIMICraw_t0['gender']==-0.5].drop(columns=['gender'])\n",
    "females=MIMICraw_t0[MIMICraw_t0['gender']==0.5].drop(columns=['gender'])\n",
    "\n",
    "male_kernel = stats.gaussian_kde(dataset=males.values.T)\n",
    "female_kernel = stats.gaussian_kde(dataset=females.values.T)\n",
    "\n",
    "male_pop = int(len(males)/len(MIMICraw_t0)*10000)\n",
    "female_pop = 10000 - male_pop\n",
    "males_resampled = male_kernel.resample(size=male_pop)\n",
    "females_resampled = female_kernel.resample(size=female_pop)\n",
    "\n",
    "males_resampled = pd.DataFrame(data=males_resampled.T, columns=males.columns)\n",
    "males_resampled['gender'] = -0.5\n",
    "\n",
    "females_resampled = pd.DataFrame(data=females_resampled.T, columns=females.columns)\n",
    "females_resampled['gender'] = -0.5\n",
    "\n",
    "MIMICraw_resampled = pd.concat([males_resampled, females_resampled])\n",
    "MIMICraw_resampled = MIMICraw_resampled[MIMICraw_t0.columns]\n",
    "MIMICraw_resampled.head()"
   ]
  },
  {
   "cell_type": "markdown",
   "metadata": {},
   "source": [
    "## Fitting models"
   ]
  },
  {
   "cell_type": "code",
   "execution_count": 231,
   "metadata": {},
   "outputs": [
    {
     "name": "stderr",
     "output_type": "stream",
     "text": [
      "100%|██████████| 2/2 [00:00<00:00,  3.59it/s]\n"
     ]
    }
   ],
   "source": [
    "from sklearn.linear_model import LogisticRegression\n",
    "icuuniqueids = MIMICtable_filtered_t0['icustay_id'].unique()\n",
    "modelsDf = pd.DataFrame()\n",
    "\n",
    "logging.info('Fitting models')\n",
    "\n",
    "for model in tqdm(range(nr_reps)):\n",
    "    logging.info('Model: ' + str(model))\n",
    "    grp = np.floor(5*np.random.rand(len(icuuniqueids))+1)\n",
    "    crossval = 1\n",
    "    trainidx = icuuniqueids[grp != crossval]\n",
    "    testidx = icuuniqueids[grp == crossval]\n",
    "    X = MIMICraw_t0.loc[MIMICtable_filtered_t0['icustay_id'].isin(trainidx)]\n",
    "    Xtestmimic = MIMICraw_t0[MIMICtable_filtered_t0['icustay_id'].isin(testidx)]\n",
    "    Y = MIMICtable_filtered_t0.loc[MIMICtable_filtered_t0['icustay_id'].isin(trainidx), 'A']\n",
    "    Ytest = MIMICtable_filtered_t0.loc[MIMICtable_filtered_t0['icustay_id'].isin(testidx), 'A']\n",
    "        \n",
    "    clf = LogisticRegression(random_state=0, max_iter=100000).fit(X, Y)\n",
    "    acc_train = clf.score(X, Y)\n",
    "    acc_test = clf.score(Xtestmimic, Ytest)\n",
    "    modelsDf = modelsDf.append({'model': model, 'regressor': clf, 'acc_train': acc_train, 'acc_test': acc_test}, ignore_index=True)\n",
    "logging.info('Model fitting done!')"
   ]
  },
  {
   "cell_type": "code",
   "execution_count": 232,
   "metadata": {},
   "outputs": [
    {
     "data": {
      "text/plain": [
       "array([[8.06101603e-04, 6.50844251e-02, 6.22349941e-01, ...,\n",
       "        1.26515066e-03, 1.01106025e-04, 1.71161446e-03],\n",
       "       [2.66083179e-03, 6.84934532e-02, 5.34506992e-01, ...,\n",
       "        1.59531929e-03, 5.03667316e-04, 8.78995116e-03],\n",
       "       [1.14802652e-03, 5.52069794e-02, 5.20731882e-01, ...,\n",
       "        1.33646397e-02, 1.52228385e-03, 1.16093582e-02],\n",
       "       ...,\n",
       "       [2.72296359e-03, 7.43779075e-02, 5.53486065e-01, ...,\n",
       "        1.26204679e-03, 1.03511748e-04, 1.57126712e-03],\n",
       "       [2.87213832e-03, 5.17221002e-02, 5.95805665e-01, ...,\n",
       "        6.01306819e-04, 5.27417061e-04, 1.00319146e-03],\n",
       "       [1.91588345e-04, 3.95966417e-02, 6.66233198e-01, ...,\n",
       "        8.11373171e-04, 5.34515786e-04, 1.25108350e-03]])"
      ]
     },
     "execution_count": 232,
     "metadata": {},
     "output_type": "execute_result"
    }
   ],
   "source": [
    "clf.predict_proba(Xtestmimic)"
   ]
  },
  {
   "cell_type": "code",
   "execution_count": 233,
   "metadata": {},
   "outputs": [
    {
     "data": {
      "text/html": [
       "<div>\n",
       "<style scoped>\n",
       "    .dataframe tbody tr th:only-of-type {\n",
       "        vertical-align: middle;\n",
       "    }\n",
       "\n",
       "    .dataframe tbody tr th {\n",
       "        vertical-align: top;\n",
       "    }\n",
       "\n",
       "    .dataframe thead th {\n",
       "        text-align: right;\n",
       "    }\n",
       "</style>\n",
       "<table border=\"1\" class=\"dataframe\">\n",
       "  <thead>\n",
       "    <tr style=\"text-align: right;\">\n",
       "      <th></th>\n",
       "      <th>acc_test</th>\n",
       "      <th>acc_train</th>\n",
       "      <th>model</th>\n",
       "      <th>regressor</th>\n",
       "    </tr>\n",
       "  </thead>\n",
       "  <tbody>\n",
       "    <tr>\n",
       "      <th>0</th>\n",
       "      <td>0.477578</td>\n",
       "      <td>0.532275</td>\n",
       "      <td>0.0</td>\n",
       "      <td>LogisticRegression(C=1.0, class_weight=None, d...</td>\n",
       "    </tr>\n",
       "    <tr>\n",
       "      <th>1</th>\n",
       "      <td>0.475584</td>\n",
       "      <td>0.532440</td>\n",
       "      <td>1.0</td>\n",
       "      <td>LogisticRegression(C=1.0, class_weight=None, d...</td>\n",
       "    </tr>\n",
       "  </tbody>\n",
       "</table>\n",
       "</div>"
      ],
      "text/plain": [
       "   acc_test  acc_train  model  \\\n",
       "0  0.477578   0.532275    0.0   \n",
       "1  0.475584   0.532440    1.0   \n",
       "\n",
       "                                           regressor  \n",
       "0  LogisticRegression(C=1.0, class_weight=None, d...  \n",
       "1  LogisticRegression(C=1.0, class_weight=None, d...  "
      ]
     },
     "execution_count": 233,
     "metadata": {},
     "output_type": "execute_result"
    }
   ],
   "source": [
    "modelsDf"
   ]
  },
  {
   "cell_type": "markdown",
   "metadata": {},
   "source": [
    "# Fit $\\pi(a_0\\mid x_0)$ using Neural Net"
   ]
  },
  {
   "cell_type": "code",
   "execution_count": 252,
   "metadata": {},
   "outputs": [],
   "source": [
    "import torch.utils.data as data_utils\n",
    "\n",
    "class PolicyNetwork(torch.nn.Module):\n",
    "    def __init__(self, input_dim, output_dim, hidden_1_dim=10):\n",
    "        super(PolicyNetwork, self).__init__()\n",
    "        self.hid1 = torch.nn.Linear(input_dim, hidden_1_dim)\n",
    "        self.outp = torch.nn.Linear(hidden_1_dim, output_dim)\n",
    "        self.softmax = torch.nn.Softmax(dim=2)\n",
    "        self.leaky_relu = torch.nn.LeakyReLU()\n",
    "        self.tanh = torch.nn.Tanh()\n",
    "\n",
    "        torch.nn.init.xavier_uniform_(self.hid1.weight)\n",
    "        torch.nn.init.zeros_(self.hid1.bias)\n",
    "        torch.nn.init.xavier_uniform_(self.outp.weight)\n",
    "        torch.nn.init.zeros_(self.outp.bias)\n",
    "\n",
    "    def forward(self, x):\n",
    "        z = self.tanh(self.hid1(x))\n",
    "        z = self.outp(z)\n",
    "        return z"
   ]
  },
  {
   "cell_type": "code",
   "execution_count": 120,
   "metadata": {},
   "outputs": [
    {
     "name": "stderr",
     "output_type": "stream",
     "text": [
      "100%|██████████| 2/2 [00:09<00:00,  4.59s/it]\n"
     ]
    }
   ],
   "source": [
    "icuuniqueids = MIMICtable_filtered_t0['icustay_id'].unique()\n",
    "for model in tqdm(range(nr_reps)):\n",
    "    grp = np.floor(5*np.random.rand(len(icuuniqueids))+1)\n",
    "    crossval = 1\n",
    "    trainidx = icuuniqueids[grp != crossval]\n",
    "    testidx = icuuniqueids[grp == crossval]\n",
    "    X = torch.FloatTensor(MIMICraw_t0.loc[MIMICtable_filtered_t0['icustay_id'].isin(trainidx)].values)\n",
    "    Xtestmimic = torch.FloatTensor(MIMICraw_t0[MIMICtable_filtered_t0['icustay_id'].isin(testidx)].values)\n",
    "    Y = torch.tensor(MIMICtable_filtered_t0.loc[MIMICtable_filtered_t0['icustay_id'].isin(trainidx), 'A'].values).to(torch.long)-1\n",
    "    Ytest = torch.tensor(MIMICtable_filtered_t0.loc[MIMICtable_filtered_t0['icustay_id'].isin(testidx), 'A'].values).to(torch.long)-1\n",
    "    train = data_utils.TensorDataset(X, Y)\n",
    "    trainloader = torch.utils.data.DataLoader(train, batch_size=32)\n",
    "    test = data_utils.TensorDataset(Xtestmimic, Ytest)\n",
    "    testloader = torch.utils.data.DataLoader(test, batch_size=32)\n",
    "\n",
    "    loss_func = torch.nn.CrossEntropyLoss()\n",
    "    policy = PolicyNetwork(input_dim=len(MIMICraw_t0.columns), output_dim=25)\n",
    "    optimizer = torch.optim.SGD(policy.parameters(), lr=0.001)    \n",
    "    for epoch in range(100):\n",
    "        for data, label in trainloader:\n",
    "            prediction = policy(data)     # input x and predict based on x\n",
    "            loss = loss_func(prediction, label)     # must be (1. nn output, 2. target)\n",
    "            optimizer.zero_grad()   # clear gradients for next train\n",
    "            loss.backward()         # backpropagation, compute gradients\n",
    "            optimizer.step()        # apply gradients\n",
    "    torch.save(policy.state_dict(), f'{models_dir}/policy_{model}')\n",
    "    "
   ]
  },
  {
   "cell_type": "code",
   "execution_count": 253,
   "metadata": {},
   "outputs": [],
   "source": [
    "icuuniqueids = MIMICtable_filtered_t0['icustay_id'].unique()\n",
    "grp = np.floor(5*np.random.rand(len(icuuniqueids))+1)\n",
    "crossval = 1\n",
    "trainidx = icuuniqueids[grp != crossval]\n",
    "testidx = icuuniqueids[grp == crossval]\n",
    "X = torch.FloatTensor(MIMICraw_t0.loc[MIMICtable_filtered_t0['icustay_id'].isin(trainidx)].values)\n",
    "Xtestmimic = torch.FloatTensor(MIMICraw_t0[MIMICtable_filtered_t0['icustay_id'].isin(testidx)].values)\n",
    "Y = torch.tensor(MIMICtable_filtered_t0.loc[MIMICtable_filtered_t0['icustay_id'].isin(trainidx), 'A'].values).to(torch.long)-1\n",
    "Ytest = torch.tensor(MIMICtable_filtered_t0.loc[MIMICtable_filtered_t0['icustay_id'].isin(testidx), 'A'].values).to(torch.long)-1\n",
    "train = data_utils.TensorDataset(X, Y)\n",
    "trainloader = torch.utils.data.DataLoader(train, batch_size=32)\n",
    "test = data_utils.TensorDataset(Xtestmimic, Ytest)\n",
    "testloader = torch.utils.data.DataLoader(test, batch_size=32)\n",
    "\n",
    "loss_func = torch.nn.CrossEntropyLoss()\n",
    "policy = PolicyNetwork(input_dim=len(MIMICraw_t0.columns), output_dim=25)\n",
    "optimizer = torch.optim.SGD(policy.parameters(), lr=0.001)"
   ]
  },
  {
   "cell_type": "code",
   "execution_count": 254,
   "metadata": {},
   "outputs": [
    {
     "name": "stderr",
     "output_type": "stream",
     "text": [
      "100%|██████████| 200/200 [00:04<00:00, 46.59it/s]\n"
     ]
    }
   ],
   "source": [
    "losses = []\n",
    "\n",
    "for epoch in tqdm(range(200)):\n",
    "    for data, label in trainloader:\n",
    "        prediction = policy(data)     # input x and predict based on x\n",
    "        loss = loss_func(prediction, label)     # must be (1. nn output, 2. target)\n",
    "        optimizer.zero_grad()   # clear gradients for next train\n",
    "        loss.backward()         # backpropagation, compute gradients\n",
    "        optimizer.step()        # apply gradients\n",
    "    if (epoch + 1) % 10 == 0:\n",
    "        with torch.no_grad():\n",
    "            test_loss = 0\n",
    "            for test_data, test_label in testloader:\n",
    "                test_loss += loss_func(policy(test_data), test_label)\n",
    "            losses.append(test_loss.item()/len(testloader))"
   ]
  },
  {
   "cell_type": "code",
   "execution_count": 255,
   "metadata": {},
   "outputs": [
    {
     "data": {
      "text/plain": [
       "[<matplotlib.lines.Line2D at 0x7f803c1e0190>]"
      ]
     },
     "execution_count": 255,
     "metadata": {},
     "output_type": "execute_result"
    },
    {
     "data": {
      "image/png": "[encoded data removed]",
      "text/plain": [
       "<Figure size 432x288 with 1 Axes>"
      ]
     },
     "metadata": {
      "needs_background": "light"
     },
     "output_type": "display_data"
    }
   ],
   "source": [
    "plt.plot(losses)"
   ]
  },
  {
   "cell_type": "code",
   "execution_count": 256,
   "metadata": {},
   "outputs": [
    {
     "name": "stdout",
     "output_type": "stream",
     "text": [
      "Accuracy of the policy network: 53 %\n"
     ]
    }
   ],
   "source": [
    "correct = 0\n",
    "total = 0\n",
    "# since we're not training, we don't need to calculate the gradients for our outputs\n",
    "with torch.no_grad():\n",
    "    outputs = policy(Xtestmimic)\n",
    "    # the class with the highest energy is what we choose as prediction\n",
    "    _, predicted = torch.max(outputs.data, 1)\n",
    "#     predicted = Categorical(softmax(outputs)).sample()\n",
    "    total += Xtestmimic.size(0)\n",
    "    correct += (predicted == Ytest).sum().item()\n",
    "\n",
    "print('Accuracy of the policy network: %d %%' % (\n",
    "    100 * correct / total))"
   ]
  },
  {
   "cell_type": "markdown",
   "metadata": {},
   "source": [
    "# Predicting actions for the augmented data"
   ]
  },
  {
   "cell_type": "code",
   "execution_count": 259,
   "metadata": {},
   "outputs": [],
   "source": [
    "from torch.distributions import Categorical\n",
    "softmax = torch.nn.Softmax(dim=1)\n",
    "outputs = softmax(policy(torch.FloatTensor(MIMICraw_resampled[x_columns].values)))\n",
    "# outputs\n",
    "\n",
    "m = Categorical(outputs)\n",
    "action = m.sample()\n",
    "(action!=1).sum()\n",
    "MIMICraw_resampled['A'] = action.numpy()+1"
   ]
  },
  {
   "cell_type": "markdown",
   "metadata": {},
   "source": [
    "# Regressing $\\mathbb{E}[Y^{obs}\\mid x,a]$"
   ]
  },
  {
   "cell_type": "code",
   "execution_count": 131,
   "metadata": {},
   "outputs": [],
   "source": [
    "import torch\n",
    "from torch.autograd import Variable\n",
    "import torch.nn.functional as F\n",
    "import torch.utils.data as Data\n",
    "\n",
    "\n",
    "class Net(torch.nn.Module):\n",
    "    def __init__(self, n_feature, n_hidden, n_output):\n",
    "        super(Net, self).__init__()\n",
    "        self.hidden = torch.nn.Linear(n_feature, n_hidden)   # hidden layer\n",
    "        self.predict = torch.nn.Linear(n_hidden, n_output)   # output layer\n",
    "        self.tanh = torch.nn.Tanh()\n",
    "\n",
    "    def forward(self, x):\n",
    "        x = self.tanh(self.hidden(x))      # activation function for hidden layer\n",
    "        x = self.predict(x)             # linear output\n",
    "        return x"
   ]
  },
  {
   "cell_type": "code",
   "execution_count": 132,
   "metadata": {},
   "outputs": [],
   "source": [
    "net = Net(n_feature=len(MIMICraw_t0.columns)+1, n_hidden=10, n_output=1)\n",
    "optimizer = torch.optim.SGD(net.parameters(), lr=0.001, weight_decay=0.1)\n",
    "loss_func = torch.nn.MSELoss()"
   ]
  },
  {
   "cell_type": "code",
   "execution_count": 114,
   "metadata": {},
   "outputs": [
    {
     "name": "stderr",
     "output_type": "stream",
     "text": [
      "100%|██████████| 2/2 [00:18<00:00,  9.26s/it]\n"
     ]
    }
   ],
   "source": [
    "for model in tqdm(range(nr_reps)):\n",
    "    grp = np.floor(5*np.random.rand(len(icuuniqueids))+1)\n",
    "    crossval = 1\n",
    "    trainidx = icuuniqueids[grp != crossval]\n",
    "    testidx = icuuniqueids[grp == crossval]\n",
    "    X = torch.FloatTensor(MIMICraw_t0.loc[MIMICtable_filtered_t0['icustay_id'].isin(trainidx)].values)\n",
    "    A = (torch.tensor(MIMICtable_filtered_t0.loc[MIMICtable_filtered_t0['icustay_id'].isin(trainidx), 'A'].values).to(torch.long)-1)/24\n",
    "    Xtestmimic = torch.FloatTensor(MIMICraw_t0[MIMICtable_filtered_t0['icustay_id'].isin(testidx)].values)\n",
    "    Atest = (torch.tensor(MIMICtable_filtered_t0.loc[MIMICtable_filtered_t0['icustay_id'].isin(testidx), 'A'].values).to(torch.long)-1)/24\n",
    "    ptid = MIMICtable_filtered_t0.loc[MIMICtable_filtered_t0['icustay_id'].isin(trainidx), 'icustay_id']\n",
    "    ptidtestmimic = MIMICtable_filtered_t0.loc[MIMICtable_filtered_t0['icustay_id'].isin(testidx), 'icustay_id']\n",
    "    Y = torch.FloatTensor(MIMICtable_filtered_t1.loc[MIMICtable_filtered_t0['icustay_id'].isin(trainidx), f'{col_name}'].values).unsqueeze(dim=1)\n",
    "    Ytest = torch.FloatTensor(MIMICtable_filtered_t1.loc[MIMICtable_filtered_t0['icustay_id'].isin(testidx), f'{col_name}'].values).unsqueeze(dim=1)\n",
    "    Y = (Y - MIMICtable[col_name].mean())/MIMICtable[col_name].std()\n",
    "    Ytest = (Ytest - MIMICtable[col_name].mean())/MIMICtable[col_name].std()\n",
    "    train = data_utils.TensorDataset(torch.column_stack((X, A)), Y)\n",
    "    trainloader = torch.utils.data.DataLoader(train, batch_size=32)\n",
    "    test = data_utils.TensorDataset(torch.column_stack((Xtestmimic, Atest)), Ytest)\n",
    "    testloader = torch.utils.data.DataLoader(test, batch_size=32)\n",
    "\n",
    "    net = Net(n_feature=len(MIMICraw_t0.columns)+1, n_hidden=10, n_output=1)\n",
    "    optimizer = torch.optim.SGD(net.parameters(), lr=0.001, weight_decay=0.1)\n",
    "    loss_func = torch.nn.MSELoss()\n",
    "    for epoch in range(200):\n",
    "        for X, Y in trainloader:\n",
    "            prediction = net(X)     # input x and predict based on x\n",
    "\n",
    "            loss = loss_func(prediction, Y)     # must be (1. nn output, 2. target)\n",
    "\n",
    "            optimizer.zero_grad()   # clear gradients for next train\n",
    "            loss.backward()         # backpropagation, compute gradients\n",
    "            optimizer.step()        # apply gradients\n",
    "    \n",
    "    torch.save(net.state_dict(), f'{models_dir}/yobs_{model}')"
   ]
  },
  {
   "cell_type": "code",
   "execution_count": 133,
   "metadata": {},
   "outputs": [],
   "source": [
    "import torch.utils.data as data_utils\n",
    "\n",
    "grp = np.floor(5*np.random.rand(len(icuuniqueids))+1)\n",
    "crossval = 1\n",
    "trainidx = icuuniqueids[grp != crossval]\n",
    "testidx = icuuniqueids[grp == crossval]\n",
    "X = torch.FloatTensor(MIMICraw_t0.loc[MIMICtable_filtered_t0['icustay_id'].isin(trainidx)].values)\n",
    "A = (torch.tensor(MIMICtable_filtered_t0.loc[MIMICtable_filtered_t0['icustay_id'].isin(trainidx), 'A'].values).to(torch.long)-1)/24\n",
    "Xtestmimic = torch.FloatTensor(MIMICraw_t0[MIMICtable_filtered_t0['icustay_id'].isin(testidx)].values)\n",
    "Atest = (torch.tensor(MIMICtable_filtered_t0.loc[MIMICtable_filtered_t0['icustay_id'].isin(testidx), 'A'].values).to(torch.long)-1)/24\n",
    "ptid = MIMICtable_filtered_t0.loc[MIMICtable_filtered_t0['icustay_id'].isin(trainidx), 'icustay_id']\n",
    "ptidtestmimic = MIMICtable_filtered_t0.loc[MIMICtable_filtered_t0['icustay_id'].isin(testidx), 'icustay_id']\n",
    "Y = torch.FloatTensor(MIMICtable_filtered_t1.loc[MIMICtable_filtered_t0['icustay_id'].isin(trainidx), f'{col_name}'].values).unsqueeze(dim=1)\n",
    "Ytest = torch.FloatTensor(MIMICtable_filtered_t1.loc[MIMICtable_filtered_t0['icustay_id'].isin(testidx), f'{col_name}'].values).unsqueeze(dim=1)\n",
    "Y = (Y - MIMICtable[col_name].mean())/MIMICtable[col_name].std()\n",
    "Ytest = (Ytest - MIMICtable[col_name].mean())/MIMICtable[col_name].std()\n",
    "train = data_utils.TensorDataset(torch.column_stack((X, A)), Y)\n",
    "trainloader = torch.utils.data.DataLoader(train, batch_size=32)\n",
    "test = data_utils.TensorDataset(torch.column_stack((Xtestmimic, Atest)), Ytest)\n",
    "testloader = torch.utils.data.DataLoader(test, batch_size=32)\n",
    "\n",
    "net = Net(n_feature=len(MIMICraw_t0.columns)+1, n_hidden=10, n_output=1)\n",
    "optimizer = torch.optim.SGD(net.parameters(), lr=0.001, weight_decay=0.1)\n",
    "loss_func = torch.nn.MSELoss()"
   ]
  },
  {
   "cell_type": "code",
   "execution_count": 134,
   "metadata": {},
   "outputs": [
    {
     "name": "stderr",
     "output_type": "stream",
     "text": [
      "100%|██████████| 200/200 [00:10<00:00, 19.44it/s]\n"
     ]
    }
   ],
   "source": [
    "# train the network\n",
    "losses = []\n",
    "for epoch in tqdm(range(200)):\n",
    "    for X, Y in trainloader:\n",
    "        prediction = net(X)     # input x and predict based on x\n",
    "\n",
    "        loss = loss_func(prediction, Y)     # must be (1. nn output, 2. target)\n",
    "\n",
    "        optimizer.zero_grad()   # clear gradients for next train\n",
    "        loss.backward()         # backpropagation, compute gradients\n",
    "        optimizer.step()        # apply gradients\n",
    "    with torch.no_grad():\n",
    "        test_loss = 0\n",
    "        for Xtest, Ytest in testloader:\n",
    "            test_loss += loss_func(net(Xtest), Ytest)\n",
    "        test_loss = test_loss/len(testloader)\n",
    "        losses.append(test_loss.item())\n"
   ]
  },
  {
   "cell_type": "code",
   "execution_count": 135,
   "metadata": {},
   "outputs": [
    {
     "data": {
      "text/plain": [
       "0.7558002471923828"
      ]
     },
     "execution_count": 135,
     "metadata": {},
     "output_type": "execute_result"
    },
    {
     "data": {
      "image/png": "[encoded data removed]",
      "text/plain": [
       "<Figure size 432x288 with 1 Axes>"
      ]
     },
     "metadata": {
      "needs_background": "light"
     },
     "output_type": "display_data"
    }
   ],
   "source": [
    "import matplotlib.pyplot as plt\n",
    "plt.plot(losses)\n",
    "losses[-1]"
   ]
  },
  {
   "cell_type": "code",
   "execution_count": 136,
   "metadata": {},
   "outputs": [
    {
     "name": "stdout",
     "output_type": "stream",
     "text": [
      "paCO2 val at t=0 tensor(45.1523)\n",
      "paCO2 val at t=1 tensor([46.7606], grad_fn=<AddBackward0>)\n"
     ]
    }
   ],
   "source": [
    "action = 1\n",
    "row = 2\n",
    "action_tensor = torch.FloatTensor(((action-1)/24,))\n",
    "print(f'{col_name} val at t=0', Xtestmimic[row,x_columns.index(col_name)]*MIMICtable[col_name].std() + MIMICtable[col_name].mean())\n",
    "print(f'{col_name} val at t=1', net(torch.cat((Xtestmimic[row,:], action_tensor)))*MIMICtable[col_name].std() + MIMICtable[col_name].mean())\n"
   ]
  },
  {
   "cell_type": "markdown",
   "metadata": {},
   "source": [
    "# Augmenting patient values at time 1"
   ]
  },
  {
   "cell_type": "code",
   "execution_count": 141,
   "metadata": {},
   "outputs": [
    {
     "name": "stderr",
     "output_type": "stream",
     "text": [
      "100%|██████████| 18/18 [00:00<00:00, 917.50it/s]\n"
     ]
    }
   ],
   "source": [
    "models_dir = \"/data/localhost/taufiq/manski_bounds_bootstrap/\"\n",
    "static_cols = ['gender', 'age', 'Weight_kg']\n",
    "MIMICraw_resampled_t1 = MIMICraw_resampled[static_cols].copy()\n",
    "i=0\n",
    "# x_columns\n",
    "for col_name in tqdm(x_columns):\n",
    "    if col_name not in static_cols:                \n",
    "        yobs_model = Net(n_feature=MIMICraw_t0.shape[1]+1, n_hidden=10, n_output=1)\n",
    "        yobs_model.load_state_dict(torch.load(f'{models_dir}/yobs_{col_name}_{i}'))\n",
    "        yobs_model.eval()\n",
    "        with torch.no_grad():\n",
    "            X_resampled = torch.FloatTensor(MIMICraw_resampled.drop(columns=['A']).values)\n",
    "            A_resampled = (torch.FloatTensor(MIMICraw_resampled['A'].values)-1)/24\n",
    "            y = yobs_model(torch.column_stack((X_resampled, A_resampled)))\n",
    "            MIMICraw_resampled_t1[col_name] = y.numpy()\n",
    "\n"
   ]
  },
  {
   "cell_type": "code",
   "execution_count": 236,
   "metadata": {},
   "outputs": [
    {
     "data": {
      "text/html": [
       "<div>\n",
       "<style scoped>\n",
       "    .dataframe tbody tr th:only-of-type {\n",
       "        vertical-align: middle;\n",
       "    }\n",
       "\n",
       "    .dataframe tbody tr th {\n",
       "        vertical-align: top;\n",
       "    }\n",
       "\n",
       "    .dataframe thead th {\n",
       "        text-align: right;\n",
       "    }\n",
       "</style>\n",
       "<table border=\"1\" class=\"dataframe\">\n",
       "  <thead>\n",
       "    <tr style=\"text-align: right;\">\n",
       "      <th></th>\n",
       "      <th>gender</th>\n",
       "      <th>age</th>\n",
       "      <th>Weight_kg</th>\n",
       "      <th>paCO2</th>\n",
       "      <th>paO2</th>\n",
       "      <th>HCO3</th>\n",
       "      <th>Arterial_pH</th>\n",
       "      <th>Calcium</th>\n",
       "      <th>Chloride</th>\n",
       "      <th>DiaBP</th>\n",
       "      <th>Glucose</th>\n",
       "      <th>MeanBP</th>\n",
       "      <th>Potassium</th>\n",
       "      <th>RR</th>\n",
       "      <th>Temp_C</th>\n",
       "      <th>Sodium</th>\n",
       "      <th>SysBP</th>\n",
       "      <th>HR</th>\n",
       "    </tr>\n",
       "  </thead>\n",
       "  <tbody>\n",
       "    <tr>\n",
       "      <th>0</th>\n",
       "      <td>-0.5</td>\n",
       "      <td>1.370133</td>\n",
       "      <td>-0.200072</td>\n",
       "      <td>0.423059</td>\n",
       "      <td>-0.137326</td>\n",
       "      <td>-0.254790</td>\n",
       "      <td>-1.014066</td>\n",
       "      <td>-0.010896</td>\n",
       "      <td>0.034531</td>\n",
       "      <td>-1.540203</td>\n",
       "      <td>0.254161</td>\n",
       "      <td>-1.465957</td>\n",
       "      <td>0.502751</td>\n",
       "      <td>1.243843</td>\n",
       "      <td>-0.470157</td>\n",
       "      <td>0.023424</td>\n",
       "      <td>-1.125103</td>\n",
       "      <td>0.665762</td>\n",
       "    </tr>\n",
       "    <tr>\n",
       "      <th>1</th>\n",
       "      <td>-0.5</td>\n",
       "      <td>1.761313</td>\n",
       "      <td>0.772395</td>\n",
       "      <td>0.121326</td>\n",
       "      <td>0.799593</td>\n",
       "      <td>-0.367219</td>\n",
       "      <td>-0.266700</td>\n",
       "      <td>-0.004243</td>\n",
       "      <td>0.442374</td>\n",
       "      <td>0.185182</td>\n",
       "      <td>0.309751</td>\n",
       "      <td>0.512899</td>\n",
       "      <td>-0.026347</td>\n",
       "      <td>0.709420</td>\n",
       "      <td>0.324201</td>\n",
       "      <td>0.244813</td>\n",
       "      <td>0.706827</td>\n",
       "      <td>-1.114103</td>\n",
       "    </tr>\n",
       "    <tr>\n",
       "      <th>2</th>\n",
       "      <td>-0.5</td>\n",
       "      <td>-0.173139</td>\n",
       "      <td>-0.735487</td>\n",
       "      <td>0.846044</td>\n",
       "      <td>1.035482</td>\n",
       "      <td>-0.126492</td>\n",
       "      <td>0.342585</td>\n",
       "      <td>0.690300</td>\n",
       "      <td>-0.877633</td>\n",
       "      <td>0.462742</td>\n",
       "      <td>0.526733</td>\n",
       "      <td>0.375741</td>\n",
       "      <td>2.637494</td>\n",
       "      <td>-0.270020</td>\n",
       "      <td>0.383664</td>\n",
       "      <td>-1.029580</td>\n",
       "      <td>-0.102114</td>\n",
       "      <td>0.348854</td>\n",
       "    </tr>\n",
       "    <tr>\n",
       "      <th>3</th>\n",
       "      <td>-0.5</td>\n",
       "      <td>-0.107528</td>\n",
       "      <td>-1.210523</td>\n",
       "      <td>-0.032140</td>\n",
       "      <td>1.220986</td>\n",
       "      <td>0.616666</td>\n",
       "      <td>0.367329</td>\n",
       "      <td>0.034707</td>\n",
       "      <td>-1.183304</td>\n",
       "      <td>-0.753901</td>\n",
       "      <td>-0.968732</td>\n",
       "      <td>-0.858861</td>\n",
       "      <td>-0.700524</td>\n",
       "      <td>-0.503585</td>\n",
       "      <td>0.043818</td>\n",
       "      <td>-1.185179</td>\n",
       "      <td>-0.820226</td>\n",
       "      <td>-0.439534</td>\n",
       "    </tr>\n",
       "    <tr>\n",
       "      <th>4</th>\n",
       "      <td>-0.5</td>\n",
       "      <td>-0.870038</td>\n",
       "      <td>0.270685</td>\n",
       "      <td>-0.355808</td>\n",
       "      <td>-0.515405</td>\n",
       "      <td>-0.215679</td>\n",
       "      <td>0.070831</td>\n",
       "      <td>-0.139245</td>\n",
       "      <td>0.034162</td>\n",
       "      <td>1.139528</td>\n",
       "      <td>-0.345078</td>\n",
       "      <td>0.867051</td>\n",
       "      <td>-0.055482</td>\n",
       "      <td>1.549762</td>\n",
       "      <td>0.540790</td>\n",
       "      <td>0.081921</td>\n",
       "      <td>0.464298</td>\n",
       "      <td>1.430673</td>\n",
       "    </tr>\n",
       "  </tbody>\n",
       "</table>\n",
       "</div>"
      ],
      "text/plain": [
       "   gender       age  Weight_kg     paCO2      paO2      HCO3  Arterial_pH  \\\n",
       "0    -0.5  1.370133  -0.200072  0.423059 -0.137326 -0.254790    -1.014066   \n",
       "1    -0.5  1.761313   0.772395  0.121326  0.799593 -0.367219    -0.266700   \n",
       "2    -0.5 -0.173139  -0.735487  0.846044  1.035482 -0.126492     0.342585   \n",
       "3    -0.5 -0.107528  -1.210523 -0.032140  1.220986  0.616666     0.367329   \n",
       "4    -0.5 -0.870038   0.270685 -0.355808 -0.515405 -0.215679     0.070831   \n",
       "\n",
       "    Calcium  Chloride     DiaBP   Glucose    MeanBP  Potassium        RR  \\\n",
       "0 -0.010896  0.034531 -1.540203  0.254161 -1.465957   0.502751  1.243843   \n",
       "1 -0.004243  0.442374  0.185182  0.309751  0.512899  -0.026347  0.709420   \n",
       "2  0.690300 -0.877633  0.462742  0.526733  0.375741   2.637494 -0.270020   \n",
       "3  0.034707 -1.183304 -0.753901 -0.968732 -0.858861  -0.700524 -0.503585   \n",
       "4 -0.139245  0.034162  1.139528 -0.345078  0.867051  -0.055482  1.549762   \n",
       "\n",
       "     Temp_C    Sodium     SysBP        HR  \n",
       "0 -0.470157  0.023424 -1.125103  0.665762  \n",
       "1  0.324201  0.244813  0.706827 -1.114103  \n",
       "2  0.383664 -1.029580 -0.102114  0.348854  \n",
       "3  0.043818 -1.185179 -0.820226 -0.439534  \n",
       "4  0.540790  0.081921  0.464298  1.430673  "
      ]
     },
     "execution_count": 236,
     "metadata": {},
     "output_type": "execute_result"
    }
   ],
   "source": [
    "MIMICraw_resampled_t1.head()"
   ]
  },
  {
   "cell_type": "markdown",
   "metadata": {},
   "source": [
    "# Fitting $\\pi(a_1 \\mid x_0,a_0,x_1)$"
   ]
  },
  {
   "cell_type": "code",
   "execution_count": 273,
   "metadata": {},
   "outputs": [],
   "source": [
    "icuuniqueids = MIMICtable_filtered_t0['icustay_id'].unique()\n",
    "grp = np.floor(5*np.random.rand(len(icuuniqueids))+1)\n",
    "crossval = 1\n",
    "trainidx = icuuniqueids[grp != crossval]\n",
    "testidx = icuuniqueids[grp == crossval]\n",
    "X0 = torch.FloatTensor(MIMICraw_t0.loc[MIMICtable_filtered_t0['icustay_id'].isin(trainidx)].values)\n",
    "Xtest0 = torch.FloatTensor(MIMICraw_t0[MIMICtable_filtered_t0['icustay_id'].isin(testidx)].values)\n",
    "X1 = torch.FloatTensor(MIMICraw_t1.loc[MIMICtable_filtered_t0['icustay_id'].isin(trainidx)].values)\n",
    "Xtest1 = torch.FloatTensor(MIMICraw_t1[MIMICtable_filtered_t0['icustay_id'].isin(testidx)].values)\n",
    "A0 = (torch.FloatTensor(MIMICtable_filtered_t0.loc[MIMICtable_filtered_t0['icustay_id'].isin(trainidx), 'A'].values)-1)/24\n",
    "Atest0 = (torch.FloatTensor(MIMICtable_filtered_t0.loc[MIMICtable_filtered_t0['icustay_id'].isin(testidx), 'A'].values)-1)/24\n",
    "\n",
    "Y = torch.tensor(MIMICtable_filtered_t1.loc[MIMICtable_filtered_t0['icustay_id'].isin(trainidx), 'A'].values).to(torch.long)-1\n",
    "Ytest = torch.tensor(MIMICtable_filtered_t1.loc[MIMICtable_filtered_t0['icustay_id'].isin(testidx), 'A'].values).to(torch.long)-1\n",
    "train = data_utils.TensorDataset(torch.column_stack((X0,X1,A0)), Y)\n",
    "# train = data_utils.TensorDataset(X0, (A0*24).to(torch.long))\n",
    "trainloader = torch.utils.data.DataLoader(train, batch_size=32)\n",
    "# test = data_utils.TensorDataset(Xtest0, (Atest0*24).to(torch.long))\n",
    "test = data_utils.TensorDataset(torch.column_stack((Xtest0, Xtest1, Atest0)), Ytest)\n",
    "testloader = torch.utils.data.DataLoader(test, batch_size=32)\n",
    "\n",
    "loss_func = torch.nn.CrossEntropyLoss()\n",
    "# policy = PolicyNetwork(input_dim=len(MIMICraw_t1.columns), output_dim=25)\n",
    "policy_t1 = PolicyNetwork(input_dim=len(MIMICraw_t0.columns) + len(MIMICraw_t1.columns) + 1, hidden_1_dim=30, output_dim=25)\n",
    "optimizer = torch.optim.SGD(policy_t1.parameters(), lr=0.005)"
   ]
  },
  {
   "cell_type": "code",
   "execution_count": 274,
   "metadata": {},
   "outputs": [
    {
     "name": "stderr",
     "output_type": "stream",
     "text": [
      "100%|██████████| 400/400 [00:08<00:00, 45.73it/s]\n"
     ]
    }
   ],
   "source": [
    "losses = []\n",
    "\n",
    "for epoch in tqdm(range(400)):\n",
    "    for data, label in trainloader:\n",
    "        prediction = policy_t1(data)     # input x and predict based on x\n",
    "        loss = loss_func(prediction, label)     # must be (1. nn output, 2. target)\n",
    "        optimizer.zero_grad()   # clear gradients for next train\n",
    "        loss.backward()         # backpropagation, compute gradients\n",
    "        optimizer.step()        # apply gradients\n",
    "    if (epoch + 1) % 10 == 0:\n",
    "        with torch.no_grad():\n",
    "            test_loss = 0\n",
    "            for test_data, test_label in testloader:\n",
    "                test_loss += loss_func(policy_t1(test_data), test_label)\n",
    "            losses.append(test_loss.item()/len(testloader))"
   ]
  },
  {
   "cell_type": "code",
   "execution_count": 275,
   "metadata": {},
   "outputs": [
    {
     "data": {
      "text/plain": [
       "[<matplotlib.lines.Line2D at 0x7f803c1c9610>]"
      ]
     },
     "execution_count": 275,
     "metadata": {},
     "output_type": "execute_result"
    },
    {
     "data": {
      "image/png": "[encoded data removed]",
      "text/plain": [
       "<Figure size 432x288 with 1 Axes>"
      ]
     },
     "metadata": {
      "needs_background": "light"
     },
     "output_type": "display_data"
    }
   ],
   "source": [
    "plt.plot(losses)"
   ]
  },
  {
   "cell_type": "code",
   "execution_count": 277,
   "metadata": {},
   "outputs": [
    {
     "name": "stdout",
     "output_type": "stream",
     "text": [
      "Accuracy of the policy network: 46 %\n"
     ]
    }
   ],
   "source": [
    "correct = 0\n",
    "total = 0\n",
    "# since we're not training, we don't need to calculate the gradients for our outputs\n",
    "with torch.no_grad():\n",
    "    outputs = policy_t1(torch.column_stack((Xtest0, Xtest1, Atest0)))\n",
    "#     outputs = policy(Xtest0)\n",
    "    # the class with the highest energy is what we choose as prediction\n",
    "    _, predicted = torch.max(outputs.data, 1)\n",
    "#     predicted = Categorical(softmax(outputs)).sample()\n",
    "    total += Xtest0.size(0)\n",
    "    correct += (predicted == Ytest).sum().item()\n",
    "\n",
    "print('Accuracy of the policy network: %d %%' % (\n",
    "    100 * correct / total))"
   ]
  },
  {
   "cell_type": "markdown",
   "metadata": {},
   "source": [
    "# Augmenting patient data with $A_1$"
   ]
  },
  {
   "cell_type": "code",
   "execution_count": 289,
   "metadata": {},
   "outputs": [],
   "source": [
    "with torch.no_grad():\n",
    "    X0 = torch.FloatTensor(MIMICraw_resampled[x_columns].values)\n",
    "    X1 = torch.FloatTensor(MIMICraw_resampled_t1[x_columns].values)\n",
    "    A0 = torch.FloatTensor(MIMICraw_resampled['A'].values)\n",
    "    inp = torch.column_stack((X0, X1, A0))\n",
    "    outputs = policy_t1(inp)\n",
    "#     predicted = Categorical(softmax(outputs)).sample()\n",
    "    _, predicted = torch.max(outputs.data, 1)\n",
    "\n",
    "MIMICraw_resampled_t1['A'] = predicted.numpy()+1"
   ]
  },
  {
   "cell_type": "code",
   "execution_count": 298,
   "metadata": {},
   "outputs": [
    {
     "data": {
      "text/plain": [
       "2422"
      ]
     },
     "execution_count": 298,
     "metadata": {},
     "output_type": "execute_result"
    }
   ],
   "source": [
    "(MIMICraw_resampled_t1['A']==14).sum()"
   ]
  },
  {
   "cell_type": "code",
   "execution_count": 299,
   "metadata": {},
   "outputs": [
    {
     "data": {
      "text/plain": [
       "19"
      ]
     },
     "execution_count": 299,
     "metadata": {},
     "output_type": "execute_result"
    }
   ],
   "source": [
    "(MIMICtable_filtered_t1['A']==14).sum()"
   ]
  },
  {
   "cell_type": "markdown",
   "metadata": {},
   "source": [
    "# Regressing $\\mathbb{E}[Y^{min}\\mid x,a]$"
   ]
  },
  {
   "cell_type": "code",
   "execution_count": 22,
   "metadata": {},
   "outputs": [],
   "source": [
    "import torch\n",
    "from torch.autograd import Variable\n",
    "import torch.nn.functional as F\n",
    "import torch.utils.data as Data\n",
    "\n",
    "\n",
    "class QuantileNet(torch.nn.Module):\n",
    "    def __init__(self, n_feature, n_hidden, n_output):\n",
    "        super(QuantileNet, self).__init__()\n",
    "        self.hidden = torch.nn.Linear(n_feature, n_hidden)   # hidden layer\n",
    "        self.predict = torch.nn.Linear(n_hidden, n_output)   # output layer\n",
    "        self.tanh = torch.nn.Tanh()\n",
    "\n",
    "    def forward(self, x):\n",
    "        x = self.tanh(self.hidden(x))      # activation function for hidden layer\n",
    "        x = self.predict(x)             # linear output\n",
    "        return x"
   ]
  },
  {
   "cell_type": "code",
   "execution_count": 120,
   "metadata": {},
   "outputs": [],
   "source": [
    "class PinballLoss():\n",
    "    def __init__(self, quantile=0.10, reduction='none'):\n",
    "        self.quantile = quantile\n",
    "        assert 0 < self.quantile\n",
    "        assert self.quantile < 1\n",
    "        self.reduction = reduction\n",
    "\n",
    "    def __call__(self, output, target):\n",
    "        assert output.shape == target.shape\n",
    "        loss = torch.zeros_like(target, dtype=torch.float)\n",
    "        error = output - target\n",
    "        smaller_index = error < 0\n",
    "        bigger_index = 0 < error\n",
    "        loss[smaller_index] = self.quantile * (abs(error)[smaller_index])\n",
    "        loss[bigger_index] = (1-self.quantile) * (abs(error)[bigger_index])\n",
    "\n",
    "        if self.reduction == 'sum':\n",
    "            loss = loss.sum()\n",
    "        if self.reduction == 'mean':\n",
    "            loss = loss.mean()\n",
    "\n",
    "        return loss"
   ]
  },
  {
   "cell_type": "code",
   "execution_count": 121,
   "metadata": {},
   "outputs": [
    {
     "name": "stderr",
     "output_type": "stream",
     "text": [
      "100%|██████████| 2/2 [00:27<00:00, 13.58s/it]\n"
     ]
    }
   ],
   "source": [
    "for model in tqdm(range(nr_reps)):\n",
    "    grp = np.floor(5*np.random.rand(len(icuuniqueids))+1)\n",
    "    crossval = 1\n",
    "    trainidx = icuuniqueids[grp != crossval]\n",
    "    testidx = icuuniqueids[grp == crossval]\n",
    "    X = torch.FloatTensor(MIMICraw_t0.loc[MIMICtable_filtered_t0['icustay_id'].isin(trainidx)].values)\n",
    "    Xtestmimic = torch.FloatTensor(MIMICraw_t0[MIMICtable_filtered_t0['icustay_id'].isin(testidx)].values)\n",
    "    ptid = MIMICtable_filtered_t0.loc[MIMICtable_filtered_t0['icustay_id'].isin(trainidx), 'icustay_id']\n",
    "    ptidtestmimic = MIMICtable_filtered_t0.loc[MIMICtable_filtered_t0['icustay_id'].isin(testidx), 'icustay_id']\n",
    "    Y = torch.FloatTensor(MIMICtable_filtered_t1.loc[MIMICtable_filtered_t0['icustay_id'].isin(trainidx), f'{col_name}'].values).unsqueeze(dim=1)\n",
    "    Ytest = torch.FloatTensor(MIMICtable_filtered_t1.loc[MIMICtable_filtered_t0['icustay_id'].isin(testidx), f'{col_name}'].values).unsqueeze(dim=1)\n",
    "\n",
    "    Y = (Y - MIMICtable[col_name].mean())/MIMICtable[col_name].std()\n",
    "    Ytest = (Ytest - MIMICtable[col_name].mean())/MIMICtable[col_name].std()\n",
    "\n",
    "    train = data_utils.TensorDataset(X, Y)\n",
    "    trainloader = torch.utils.data.DataLoader(train, batch_size=32)\n",
    "    test = data_utils.TensorDataset(Xtestmimic, Ytest)\n",
    "    testloader = torch.utils.data.DataLoader(test, batch_size=32)\n",
    "\n",
    "    quantile_net = QuantileNet(n_feature=len(MIMICraw_t0.columns), n_hidden=10, n_output=1)\n",
    "    optimizer = torch.optim.SGD(quantile_net.parameters(), lr=0.001)\n",
    "    loss_func = PinballLoss(quantile=0.001, reduction='mean')\n",
    "    for epoch in range(200):\n",
    "        for X, Y in trainloader:\n",
    "            prediction = quantile_net(X)     # input x and predict based on x\n",
    "\n",
    "            loss = loss_func(prediction, Y)     # must be (1. nn output, 2. target)\n",
    "\n",
    "            optimizer.zero_grad()   # clear gradients for next train\n",
    "            loss.backward()         # backpropagation, compute gradients\n",
    "            optimizer.step()        # apply gradients\n",
    "    \n",
    "    torch.save(quantile_net.state_dict(), f'{models_dir}/ymin_{model}')"
   ]
  },
  {
   "cell_type": "code",
   "execution_count": 122,
   "metadata": {},
   "outputs": [],
   "source": [
    "quantile_net = QuantileNet(n_feature=len(MIMICraw_t0.columns), n_hidden=10, n_output=1)\n",
    "optimizer = torch.optim.SGD(quantile_net.parameters(), lr=0.001)\n",
    "loss_func = PinballLoss(quantile=0.001, reduction='mean')"
   ]
  },
  {
   "cell_type": "code",
   "execution_count": 123,
   "metadata": {},
   "outputs": [
    {
     "name": "stderr",
     "output_type": "stream",
     "text": [
      "100%|██████████| 200/200 [00:15<00:00, 12.99it/s]\n"
     ]
    }
   ],
   "source": [
    "# train the network\n",
    "grp = np.floor(5*np.random.rand(len(icuuniqueids))+1)\n",
    "crossval = 1\n",
    "trainidx = icuuniqueids[grp != crossval]\n",
    "testidx = icuuniqueids[grp == crossval]\n",
    "X = torch.FloatTensor(MIMICraw_t0.loc[MIMICtable_filtered_t0['icustay_id'].isin(trainidx)].values)\n",
    "Xtestmimic = torch.FloatTensor(MIMICraw_t0[MIMICtable_filtered_t0['icustay_id'].isin(testidx)].values)\n",
    "ptid = MIMICtable_filtered_t0.loc[MIMICtable_filtered_t0['icustay_id'].isin(trainidx), 'icustay_id']\n",
    "ptidtestmimic = MIMICtable_filtered_t0.loc[MIMICtable_filtered_t0['icustay_id'].isin(testidx), 'icustay_id']\n",
    "Y = torch.FloatTensor(MIMICtable_filtered_t1.loc[MIMICtable_filtered_t0['icustay_id'].isin(trainidx), f'{col_name}'].values).unsqueeze(dim=1)\n",
    "Ytest = torch.FloatTensor(MIMICtable_filtered_t1.loc[MIMICtable_filtered_t0['icustay_id'].isin(testidx), f'{col_name}'].values).unsqueeze(dim=1)\n",
    "\n",
    "Y = (Y - MIMICtable[col_name].mean())/MIMICtable[col_name].std()\n",
    "Ytest = (Ytest - MIMICtable[col_name].mean())/MIMICtable[col_name].std()\n",
    "\n",
    "train = data_utils.TensorDataset(X, Y)\n",
    "trainloader = torch.utils.data.DataLoader(train, batch_size=32)\n",
    "test = data_utils.TensorDataset(Xtestmimic, Ytest)\n",
    "testloader = torch.utils.data.DataLoader(test, batch_size=32)\n",
    "\n",
    "quantile_net = QuantileNet(n_feature=len(MIMICraw_t0.columns), n_hidden=10, n_output=1)\n",
    "optimizer = torch.optim.SGD(quantile_net.parameters(), lr=0.001)\n",
    "loss_func = PinballLoss(quantile=0.001, reduction='mean')    \n",
    "\n",
    "# train the network\n",
    "losses = []\n",
    "for epoch in tqdm(range(200)):\n",
    "    for X, Y in trainloader:\n",
    "        prediction = quantile_net(X)     # input x and predict based on x\n",
    "\n",
    "        loss = loss_func(prediction, Y)     # must be (1. nn output, 2. target)\n",
    "\n",
    "        optimizer.zero_grad()   # clear gradients for next train\n",
    "        loss.backward()         # backpropagation, compute gradients\n",
    "        optimizer.step()        # apply gradients\n",
    "    with torch.no_grad():\n",
    "        test_loss = 0\n",
    "        for Xtest, Ytest in testloader:\n",
    "            test_loss += loss_func(quantile_net(Xtest), Ytest)\n",
    "        test_loss = test_loss/len(testloader)\n",
    "        losses.append(test_loss.item())\n"
   ]
  },
  {
   "cell_type": "code",
   "execution_count": 124,
   "metadata": {},
   "outputs": [
    {
     "data": {
      "text/plain": [
       "0.009511603973805904"
      ]
     },
     "execution_count": 124,
     "metadata": {},
     "output_type": "execute_result"
    },
    {
     "data": {
      "image/png": "[encoded data removed]",
      "text/plain": [
       "<Figure size 432x288 with 1 Axes>"
      ]
     },
     "metadata": {
      "needs_background": "light"
     },
     "output_type": "display_data"
    }
   ],
   "source": [
    "plt.plot(losses)\n",
    "losses[-1]"
   ]
  },
  {
   "cell_type": "code",
   "execution_count": 125,
   "metadata": {},
   "outputs": [
    {
     "name": "stdout",
     "output_type": "stream",
     "text": [
      "Calcium val at t=0 tensor(76.2175)\n",
      "Calcium min val at t=1 tensor([59.4485], grad_fn=<AddBackward0>)\n"
     ]
    }
   ],
   "source": [
    "action = 1\n",
    "row = 1\n",
    "action_tensor = torch.FloatTensor(((action-1)/24,))\n",
    "print(f'{col_name} val at t=0', Xtestmimic[row,x_columns.index(col_name)]*MIMICtable[col_name].std() + MIMICtable[col_name].mean())\n",
    "print(f'{col_name} min val at t=1', quantile_net(Xtestmimic[row,:])*MIMICtable[col_name].std() + MIMICtable[col_name].mean())"
   ]
  },
  {
   "cell_type": "code",
   "execution_count": 126,
   "metadata": {},
   "outputs": [
    {
     "data": {
      "text/plain": [
       "84.0"
      ]
     },
     "execution_count": 126,
     "metadata": {},
     "output_type": "execute_result"
    }
   ],
   "source": [
    "MIMICtable[col_name].median()"
   ]
  },
  {
   "cell_type": "markdown",
   "metadata": {},
   "source": [
    "# Regressing $\\mathbb{E}[Y^{max}\\mid x,a]$"
   ]
  },
  {
   "cell_type": "code",
   "execution_count": 127,
   "metadata": {},
   "outputs": [
    {
     "name": "stderr",
     "output_type": "stream",
     "text": [
      "100%|██████████| 2/2 [00:27<00:00, 13.94s/it]\n"
     ]
    }
   ],
   "source": [
    "for model in tqdm(range(nr_reps)):\n",
    "    grp = np.floor(5*np.random.rand(len(icuuniqueids))+1)\n",
    "    crossval = 1\n",
    "    trainidx = icuuniqueids[grp != crossval]\n",
    "    testidx = icuuniqueids[grp == crossval]\n",
    "    X = torch.FloatTensor(MIMICraw_t0.loc[MIMICtable_filtered_t0['icustay_id'].isin(trainidx)].values)\n",
    "    Xtestmimic = torch.FloatTensor(MIMICraw_t0[MIMICtable_filtered_t0['icustay_id'].isin(testidx)].values)\n",
    "    ptid = MIMICtable_filtered_t0.loc[MIMICtable_filtered_t0['icustay_id'].isin(trainidx), 'icustay_id']\n",
    "    ptidtestmimic = MIMICtable_filtered_t0.loc[MIMICtable_filtered_t0['icustay_id'].isin(testidx), 'icustay_id']\n",
    "    Y = torch.FloatTensor(MIMICtable_filtered_t1.loc[MIMICtable_filtered_t0['icustay_id'].isin(trainidx), f'{col_name}'].values).unsqueeze(dim=1)\n",
    "    Ytest = torch.FloatTensor(MIMICtable_filtered_t1.loc[MIMICtable_filtered_t0['icustay_id'].isin(testidx), f'{col_name}'].values).unsqueeze(dim=1)\n",
    "\n",
    "    Y = (Y - MIMICtable[col_name].mean())/MIMICtable[col_name].std()\n",
    "    Ytest = (Ytest - MIMICtable[col_name].mean())/MIMICtable[col_name].std()\n",
    "\n",
    "    train = data_utils.TensorDataset(X, Y)\n",
    "    trainloader = torch.utils.data.DataLoader(train, batch_size=32)\n",
    "    test = data_utils.TensorDataset(Xtestmimic, Ytest)\n",
    "    testloader = torch.utils.data.DataLoader(test, batch_size=32)\n",
    "\n",
    "    quantile_net = QuantileNet(n_feature=len(MIMICraw_t0.columns), n_hidden=10, n_output=1)\n",
    "    optimizer = torch.optim.SGD(quantile_net.parameters(), lr=0.001)\n",
    "    loss_func = PinballLoss(quantile=0.999, reduction='mean')\n",
    "    for epoch in range(200):\n",
    "        for X, Y in trainloader:\n",
    "            prediction = quantile_net(X)     # input x and predict based on x\n",
    "\n",
    "            loss = loss_func(prediction, Y)     # must be (1. nn output, 2. target)\n",
    "\n",
    "            optimizer.zero_grad()   # clear gradients for next train\n",
    "            loss.backward()         # backpropagation, compute gradients\n",
    "            optimizer.step()        # apply gradients\n",
    "    \n",
    "    torch.save(quantile_net.state_dict(), f'{models_dir}/ymax_{model}')"
   ]
  },
  {
   "cell_type": "code",
   "execution_count": 128,
   "metadata": {},
   "outputs": [],
   "source": [
    "quantile_net = QuantileNet(n_feature=len(MIMICraw_t0.columns), n_hidden=10, n_output=1)\n",
    "optimizer = torch.optim.SGD(quantile_net.parameters(), lr=0.001)\n",
    "loss_func = PinballLoss(quantile=0.999, reduction='mean')"
   ]
  },
  {
   "cell_type": "code",
   "execution_count": 129,
   "metadata": {},
   "outputs": [
    {
     "name": "stderr",
     "output_type": "stream",
     "text": [
      "100%|██████████| 200/200 [00:15<00:00, 12.64it/s]\n"
     ]
    }
   ],
   "source": [
    "# train the network\n",
    "losses = []\n",
    "for epoch in tqdm(range(200)):\n",
    "    for X, Y in trainloader:\n",
    "        prediction = quantile_net(X)     # input x and predict based on x\n",
    "\n",
    "        loss = loss_func(prediction, Y)     # must be (1. nn output, 2. target)\n",
    "\n",
    "        optimizer.zero_grad()   # clear gradients for next train\n",
    "        loss.backward()         # backpropagation, compute gradients\n",
    "        optimizer.step()        # apply gradients\n",
    "    with torch.no_grad():\n",
    "        test_loss = 0\n",
    "        for Xtest, Ytest in testloader:\n",
    "            test_loss += loss_func(quantile_net(Xtest), Ytest)\n",
    "        test_loss = test_loss/len(testloader)\n",
    "        losses.append(test_loss.item())"
   ]
  },
  {
   "cell_type": "code",
   "execution_count": 130,
   "metadata": {},
   "outputs": [
    {
     "data": {
      "text/plain": [
       "0.01057497225701809"
      ]
     },
     "execution_count": 130,
     "metadata": {},
     "output_type": "execute_result"
    },
    {
     "data": {
      "image/png": "[encoded data removed]",
      "text/plain": [
       "<Figure size 432x288 with 1 Axes>"
      ]
     },
     "metadata": {
      "needs_background": "light"
     },
     "output_type": "display_data"
    }
   ],
   "source": [
    "plt.plot(losses)\n",
    "losses[-1]"
   ]
  },
  {
   "cell_type": "code",
   "execution_count": 131,
   "metadata": {},
   "outputs": [
    {
     "name": "stdout",
     "output_type": "stream",
     "text": [
      "Calcium val at t=0 tensor(84.8186)\n",
      "Calcium max val at t=1 tensor([111.2641], grad_fn=<AddBackward0>)\n"
     ]
    }
   ],
   "source": [
    "action = 1\n",
    "row = 3\n",
    "action_tensor = torch.FloatTensor(((action-1)/24,))\n",
    "print(f'{col_name} val at t=0', Xtestmimic[row,x_columns.index(col_name)]*MIMICtable[col_name].std() + MIMICtable[col_name].mean())\n",
    "print(f'{col_name} max val at t=1', quantile_net(Xtestmimic[row,:])*MIMICtable[col_name].std() + MIMICtable[col_name].mean())"
   ]
  },
  {
   "cell_type": "markdown",
   "metadata": {},
   "source": [
    "# Regressing $\\mathbb{E}[Y^{sim}(a)\\mid x]$"
   ]
  },
  {
   "cell_type": "code",
   "execution_count": 132,
   "metadata": {},
   "outputs": [
    {
     "name": "stderr",
     "output_type": "stream",
     "text": [
      "100%|██████████| 2/2 [00:15<00:00,  7.76s/it]\n"
     ]
    }
   ],
   "source": [
    "for model in tqdm(range(nr_reps)):\n",
    "    icuuniqueids = pulse_data['icustay_id'].unique()\n",
    "    grp = np.floor(5*np.random.rand(len(icuuniqueids))+1)\n",
    "    crossval = 1\n",
    "    trainidx = icuuniqueids[grp != crossval]\n",
    "    testidx = icuuniqueids[grp == crossval]\n",
    "    X = torch.FloatTensor(pulseraw_t0.loc[pulse_data_t0['icustay_id'].isin(trainidx)].values)\n",
    "    Xtestmimic = torch.FloatTensor(pulseraw_t0[pulse_data_t0['icustay_id'].isin(testidx)].values)\n",
    "    A = (torch.tensor(actionbloc.loc[MIMICtable_filtered_t0['icustay_id'].isin(trainidx), 'action_bloc'].values).to(torch.long)-1)/24\n",
    "    Atest = (torch.tensor(actionbloc.loc[MIMICtable_filtered_t0['icustay_id'].isin(testidx), 'action_bloc'].values).to(torch.long)-1)/24\n",
    "    Y = torch.FloatTensor(pulse_data_t1.loc[pulse_data_t1['icustay_id'].isin(trainidx), f'{col_name}'].values).unsqueeze(dim=1)\n",
    "    Ytest = torch.FloatTensor(pulse_data_t1.loc[pulse_data_t1['icustay_id'].isin(testidx), f'{col_name}'].values).unsqueeze(dim=1)\n",
    "    Y = (Y - MIMICtable[col_name].mean())/MIMICtable[col_name].std()\n",
    "    Ytest = (Ytest - MIMICtable[col_name].mean())/MIMICtable[col_name].std()\n",
    "\n",
    "    train = data_utils.TensorDataset(torch.column_stack((X, A)), Y)\n",
    "    trainloader = torch.utils.data.DataLoader(train, batch_size=32)\n",
    "    test = data_utils.TensorDataset(torch.column_stack((Xtestmimic, Atest)), Ytest)\n",
    "    testloader = torch.utils.data.DataLoader(test, batch_size=32)\n",
    "    \n",
    "    net = Net(n_feature=len(pulseraw_t0.columns) + 1, n_hidden=10, n_output=1)\n",
    "    optimizer = torch.optim.SGD(net.parameters(), lr=0.001, weight_decay=0.1)\n",
    "    loss_func = torch.nn.MSELoss()\n",
    "\n",
    "    for epoch in range(200):\n",
    "        for X, Y in trainloader:\n",
    "            prediction = net(X)     # input x and predict based on x\n",
    "\n",
    "            loss = loss_func(prediction, Y)     # must be (1. nn output, 2. target)\n",
    "\n",
    "            optimizer.zero_grad()   # clear gradients for next train\n",
    "            loss.backward()         # backpropagation, compute gradients\n",
    "            optimizer.step()        # apply gradients\n",
    "    \n",
    "    torch.save(net.state_dict(), f'{models_dir}/ysim_{model}')"
   ]
  },
  {
   "cell_type": "code",
   "execution_count": 17,
   "metadata": {},
   "outputs": [
    {
     "name": "stdout",
     "output_type": "stream",
     "text": [
      "Pulseraw columns: 19\n",
      "MIMICraw columns: 19\n"
     ]
    }
   ],
   "source": [
    "print('pulseraw_t0 columns:', len(pulseraw_t0.columns))\n",
    "print('MIMICraw_t0 columns:', len(MIMICraw_t0.columns))"
   ]
  },
  {
   "cell_type": "code",
   "execution_count": 20,
   "metadata": {},
   "outputs": [],
   "source": [
    "net = Net(n_feature=len(pulseraw_t0.columns) + 1, n_hidden=10, n_output=1)\n",
    "optimizer = torch.optim.SGD(net.parameters(), lr=0.001, weight_decay=0.1)\n",
    "loss_func = torch.nn.MSELoss()"
   ]
  },
  {
   "cell_type": "code",
   "execution_count": 24,
   "metadata": {},
   "outputs": [],
   "source": [
    "icuuniqueids = pulse_data['icustay_id'].unique()\n",
    "grp = np.floor(5*np.random.rand(len(icuuniqueids))+1)\n",
    "crossval = 1\n",
    "trainidx = icuuniqueids[grp != crossval]\n",
    "testidx = icuuniqueids[grp == crossval]\n",
    "X = torch.FloatTensor(pulseraw_t0.loc[pulse_data_t0['icustay_id'].isin(trainidx)].values)\n",
    "Xtestmimic = torch.FloatTensor(pulseraw_t0[pulse_data_t0['icustay_id'].isin(testidx)].values)\n",
    "A = (torch.tensor(actionbloc.loc[MIMICtable_filtered_t0['icustay_id'].isin(trainidx), 'action_bloc'].values).to(torch.long)-1)/24\n",
    "Atest = (torch.tensor(actionbloc.loc[MIMICtable_filtered_t0['icustay_id'].isin(testidx), 'action_bloc'].values).to(torch.long)-1)/24\n",
    "Y = torch.FloatTensor(pulse_data_t1.loc[pulse_data_t1['icustay_id'].isin(trainidx), f'{col_name}'].values).unsqueeze(dim=1)\n",
    "Ytest = torch.FloatTensor(pulse_data_t1.loc[pulse_data_t1['icustay_id'].isin(testidx), f'{col_name}'].values).unsqueeze(dim=1)\n",
    "Y = (Y - MIMICtable[col_name].mean())/MIMICtable[col_name].std()\n",
    "Ytest = (Ytest - MIMICtable[col_name].mean())/MIMICtable[col_name].std()\n",
    "\n",
    "train = data_utils.TensorDataset(torch.column_stack((X, A)), Y)\n",
    "trainloader = torch.utils.data.DataLoader(train, batch_size=32)\n",
    "test = data_utils.TensorDataset(torch.column_stack((Xtestmimic, Atest)), Ytest)\n",
    "testloader = torch.utils.data.DataLoader(test, batch_size=32)\n"
   ]
  },
  {
   "cell_type": "code",
   "execution_count": 25,
   "metadata": {},
   "outputs": [
    {
     "name": "stderr",
     "output_type": "stream",
     "text": [
      "100%|██████████| 200/200 [00:08<00:00, 24.26it/s]\n"
     ]
    }
   ],
   "source": [
    "losses = []\n",
    "for epoch in tqdm(range(200)):\n",
    "    for X, Y in trainloader:\n",
    "        prediction = net(X)     # input x and predict based on x\n",
    "\n",
    "        loss = loss_func(prediction, Y)     # must be (1. nn output, 2. target)\n",
    "\n",
    "        optimizer.zero_grad()   # clear gradients for next train\n",
    "        loss.backward()         # backpropagation, compute gradients\n",
    "        optimizer.step()        # apply gradients\n",
    "    with torch.no_grad():\n",
    "        test_loss = 0\n",
    "        for Xtest, Ytest in testloader:\n",
    "            test_loss += loss_func(net(Xtest), Ytest)\n",
    "        test_loss = test_loss/len(testloader)\n",
    "        losses.append(test_loss.item())\n"
   ]
  },
  {
   "cell_type": "code",
   "execution_count": 26,
   "metadata": {},
   "outputs": [
    {
     "data": {
      "text/plain": [
       "5.211307048797607"
      ]
     },
     "execution_count": 26,
     "metadata": {},
     "output_type": "execute_result"
    },
    {
     "data": {
      "image/png": "[encoded data removed]",
      "text/plain": [
       "<Figure size 432x288 with 1 Axes>"
      ]
     },
     "metadata": {
      "needs_background": "light"
     },
     "output_type": "display_data"
    }
   ],
   "source": [
    "import matplotlib.pyplot as plt\n",
    "plt.plot(losses)\n",
    "losses[-1]"
   ]
  },
  {
   "cell_type": "code",
   "execution_count": 30,
   "metadata": {},
   "outputs": [
    {
     "name": "stdout",
     "output_type": "stream",
     "text": [
      "paCO2 val at t=0 tensor(50.4456)\n",
      "paCO2 val at t=1 tensor([40.0943], grad_fn=<AddBackward0>)\n"
     ]
    }
   ],
   "source": [
    "action = 1\n",
    "row = 1\n",
    "action_tensor = torch.FloatTensor(((action-1)/24,))\n",
    "print(f'{col_name} val at t=0', Xtestmimic[row,x_columns.index(col_name)]*MIMICtable[col_name].std() + MIMICtable[col_name].mean())\n",
    "print(f'{col_name} val at t=1', net(torch.cat((Xtestmimic[row,:], action_tensor)))*MIMICtable[col_name].std() + MIMICtable[col_name].mean())"
   ]
  },
  {
   "cell_type": "markdown",
   "metadata": {},
   "source": [
    "# Computing scores for simulated outcomes using saved models"
   ]
  },
  {
   "cell_type": "code",
   "execution_count": 139,
   "metadata": {},
   "outputs": [],
   "source": [
    "def compute_score(gender, age, col_v, action, col_name, models_dir):\n",
    "    softmax = torch.nn.Softmax(dim=0)\n",
    "    gender = gender - 0.5\n",
    "    age_normalized_sim = (age - pulse_data_combined['age'].mean())/pulse_data_combined['age'].std()\n",
    "    col_normalized_sim = (col_v - pulse_data_t0[f'{col_name}'].mean())/pulse_data_t0[f'{col_name}'].std()\n",
    "    sim_input = torch.FloatTensor((gender, age_normalized_sim, col_normalized_sim))\n",
    "    age_normalized_obs = (age - MIMIC_data_combined['age'].mean())/MIMIC_data_combined['age'].std()\n",
    "    col_normalized_obs = (col_v - MIMICtable_filtered_t0[f'{col_name}'].mean())/MIMICtable_filtered_t0[f'{col_name}'].std()\n",
    "    obs_input = torch.FloatTensor((gender, age_normalized_obs, col_normalized_obs))\n",
    "    action_tensor = torch.FloatTensor(((action-1)/24,))\n",
    "    p = 0\n",
    "    for i in range(nr_reps):\n",
    "        yobs_model = Net(n_feature=4, n_hidden=10, n_output=1)\n",
    "        yobs_model.load_state_dict(torch.load(f'{models_dir}/col_{col_name}/yobs_{i}'))\n",
    "        yobs_model.eval()\n",
    "        ymax_model = Net(n_feature=3, n_hidden=10, n_output=1)\n",
    "        ymax_model.load_state_dict(torch.load(f'{models_dir}/col_{col_name}/ymax_{i}'))\n",
    "        ymax_model.eval()\n",
    "        ymin_model = Net(n_feature=3, n_hidden=10, n_output=1)\n",
    "        ymin_model.load_state_dict(torch.load(f'{models_dir}/col_{col_name}/ymin_{i}'))\n",
    "        ymin_model.eval()\n",
    "        ysim_model = Net(n_feature=4, n_hidden=10, n_output=1)\n",
    "        ysim_model.load_state_dict(torch.load(f'{models_dir}/col_{col_name}/ysim_{i}'))\n",
    "        ysim_model.eval()\n",
    "        policy = PolicyNetwork(input_dim=3, output_dim=25)\n",
    "        policy.load_state_dict(torch.load(f'{models_dir}/col_{col_name}/policy_{i}'))\n",
    "        policy.eval()\n",
    "        prob = softmax(policy(obs_input))[action-1]\n",
    "        lb = prob*yobs_model(torch.cat((obs_input, action_tensor))) + (1-prob)*(ymin_model(obs_input))\n",
    "        ub = prob*yobs_model(torch.cat((obs_input, action_tensor))) + (1-prob)*(ymax_model(obs_input))\n",
    "        sim = ysim_model(torch.cat((sim_input, action_tensor)))\n",
    "        p += int(((lb<=sim)&(sim<=ub)).item())\n",
    "    p = p/nr_reps\n",
    "    return p    "
   ]
  },
  {
   "cell_type": "code",
   "execution_count": 141,
   "metadata": {},
   "outputs": [],
   "source": [
    "models_dir = \"/data/localhost/taufiq/manski_bounds\"\n",
    "col_name = 'Temp_C'\n",
    "compute_score(0, 65, 31, 0, col_name, models_dir)"
   ]
  },
  {
   "cell_type": "code",
   "execution_count": null,
   "metadata": {},
   "outputs": [],
   "source": [
    "pulse_data_t0.head()"
   ]
  },
  {
   "cell_type": "code",
   "execution_count": null,
   "metadata": {},
   "outputs": [],
   "source": [
    "ages = range(18,66)\n",
    "scores = []\n",
    "for age in tqdm(ages):\n",
    "    score = compute_score(0, age, 32, 2)\n",
    "    scores.append(score)"
   ]
  },
  {
   "cell_type": "code",
   "execution_count": null,
   "metadata": {},
   "outputs": [],
   "source": [
    "import matplotlib.pyplot as plt\n",
    "plt.plot(ages, scores)"
   ]
  },
  {
   "cell_type": "code",
   "execution_count": null,
   "metadata": {},
   "outputs": [],
   "source": [
    "temps = range(29,35)\n",
    "scores = []\n",
    "for temp in tqdm(temps):\n",
    "    score = compute_score(0, 40, temp, 1)\n",
    "    scores.append(score)"
   ]
  },
  {
   "cell_type": "code",
   "execution_count": null,
   "metadata": {},
   "outputs": [],
   "source": [
    "plt.plot(temps, scores)"
   ]
  },
  {
   "cell_type": "code",
   "execution_count": null,
   "metadata": {},
   "outputs": [],
   "source": [
    "ages = np.linspace(18,65, num=65-18 + 1)\n",
    "temps = np.linspace(29,36, num=(36-29)*5 + 1)\n",
    "df = pd.DataFrame()\n",
    "for age in tqdm(ages):\n",
    "    for temp in temps:\n",
    "        score = compute_score(0, age, temp, 2)\n",
    "        df = df.append({'age': age, 'temp': temp, 'score': score}, ignore_index=True)"
   ]
  },
  {
   "cell_type": "code",
   "execution_count": null,
   "metadata": {},
   "outputs": [],
   "source": [
    "import seaborn as sns\n",
    "from scipy.ndimage.filters import gaussian_filter\n",
    "\n",
    "fig, axs = plt.subplots(1, 1, figsize=(15,12))\n",
    "df_pivot = df.pivot_table(index=\"temp\", columns=\"age\", values=\"score\", aggfunc=np.max)\n",
    "df_pivot_smooth = gaussian_filter(df_pivot, sigma=0.1)\n",
    "sns.heatmap(df_pivot_smooth, vmax=df_pivot.values.max(), xticklabels=ages, yticklabels=temps, vmin=df_pivot.values.min(), ax=axs)\n",
    "plt.show()"
   ]
  },
  {
   "cell_type": "code",
   "execution_count": null,
   "metadata": {},
   "outputs": [],
   "source": [
    "MIMICtable_filtered_t0['HR']"
   ]
  },
  {
   "cell_type": "code",
   "execution_count": null,
   "metadata": {},
   "outputs": [],
   "source": [
    "pulse_data_t0['HR']"
   ]
  },
  {
   "cell_type": "code",
   "execution_count": null,
   "metadata": {},
   "outputs": [],
   "source": []
  }
 ],
 "metadata": {
  "kernelspec": {
   "display_name": "Python 3",
   "language": "python",
   "name": "python3"
  },
  "language_info": {
   "codemirror_mode": {
    "name": "ipython",
    "version": 3
   },
   "file_extension": ".py",
   "mimetype": "text/x-python",
   "name": "python",
   "nbconvert_exporter": "python",
   "pygments_lexer": "ipython3",
   "version": "3.8.10"
  }
 },
 "nbformat": 4,
 "nbformat_minor": 2
}

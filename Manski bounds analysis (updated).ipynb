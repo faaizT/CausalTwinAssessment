{
 "cells": [
  {
   "cell_type": "code",
   "execution_count": 1,
   "metadata": {},
   "outputs": [],
   "source": [
    "import logging\n",
    "logging.basicConfig(filename='manski-analysis.log', level=logging.INFO)"
   ]
  },
  {
   "cell_type": "code",
   "execution_count": 2,
   "metadata": {},
   "outputs": [],
   "source": [
    "import pandas as pd\n",
    "import numpy as np\n",
    "from tqdm import tqdm\n",
    "import glob\n",
    "import os\n",
    "import torch\n",
    "import matplotlib.pyplot as plt\n",
    "exportdir='/data/localhost/taufiq/export-dir/'\n",
    "os.chdir(\"/data/localhost/taufiq/pulse-data-5-step\")\n",
    "models_dir = '/data/localhost/taufiq/manski_bounds_bootstrap_2/'"
   ]
  },
  {
   "cell_type": "code",
   "execution_count": 3,
   "metadata": {},
   "outputs": [],
   "source": [
    "col_name = 'Calcium'\n",
    "extension = 'final_.csv'\n",
    "all_filenames = [i for i in glob.glob('*{}'.format(extension))]\n",
    "# all_filenames += [i for i in glob.glob('synthetic_data/*{}'.format(extension))]\n",
    "pulse_data = pd.concat([pd.read_csv(f) for f in all_filenames ])"
   ]
  },
  {
   "cell_type": "code",
   "execution_count": 4,
   "metadata": {},
   "outputs": [
    {
     "data": {
      "text/html": [
       "<div>\n",
       "<style scoped>\n",
       "    .dataframe tbody tr th:only-of-type {\n",
       "        vertical-align: middle;\n",
       "    }\n",
       "\n",
       "    .dataframe tbody tr th {\n",
       "        vertical-align: top;\n",
       "    }\n",
       "\n",
       "    .dataframe thead th {\n",
       "        text-align: right;\n",
       "    }\n",
       "</style>\n",
       "<table border=\"1\" class=\"dataframe\">\n",
       "  <thead>\n",
       "    <tr style=\"text-align: right;\">\n",
       "      <th></th>\n",
       "      <th>index</th>\n",
       "      <th>Albumin - BloodConcentration (mg/L)</th>\n",
       "      <th>ArterialCarbonDioxidePressure (mmHg)</th>\n",
       "      <th>ArterialOxygenPressure (mmHg)</th>\n",
       "      <th>ArterialPressure (mmHg)</th>\n",
       "      <th>Bicarbonate - BloodConcentration (mg/L)</th>\n",
       "      <th>BloodPH (None)</th>\n",
       "      <th>BloodUreaNitrogenConcentration (mg/dL)</th>\n",
       "      <th>BloodVolume (mL)</th>\n",
       "      <th>Calcium - BloodConcentration (mg/L)</th>\n",
       "      <th>...</th>\n",
       "      <th>RespirationRate (1/min)</th>\n",
       "      <th>SaturationAndFractionOfInspiredOxygenRatio (None)</th>\n",
       "      <th>SimulationTime(s)</th>\n",
       "      <th>SkinTemperature (degC)</th>\n",
       "      <th>Sodium - BloodConcentration (mg/L)</th>\n",
       "      <th>SystolicArterialPressure (mmHg)</th>\n",
       "      <th>WhiteBloodCellCount (ct/uL)</th>\n",
       "      <th>id</th>\n",
       "      <th>time</th>\n",
       "      <th>icustay_id</th>\n",
       "    </tr>\n",
       "  </thead>\n",
       "  <tbody>\n",
       "    <tr>\n",
       "      <th>0</th>\n",
       "      <td>0</td>\n",
       "      <td>36942.076357</td>\n",
       "      <td>40.766614</td>\n",
       "      <td>89.927432</td>\n",
       "      <td>116.205401</td>\n",
       "      <td>1589.280619</td>\n",
       "      <td>7.406174</td>\n",
       "      <td>12.954165</td>\n",
       "      <td>6432.049911</td>\n",
       "      <td>48.181075</td>\n",
       "      <td>...</td>\n",
       "      <td>18.633540</td>\n",
       "      <td>4.638695</td>\n",
       "      <td>0.0</td>\n",
       "      <td>33.203250</td>\n",
       "      <td>3328.440581</td>\n",
       "      <td>119.230483</td>\n",
       "      <td>7000.0</td>\n",
       "      <td>86855.0</td>\n",
       "      <td>6.607069e+09</td>\n",
       "      <td>86855</td>\n",
       "    </tr>\n",
       "    <tr>\n",
       "      <th>1</th>\n",
       "      <td>1</td>\n",
       "      <td>36524.917484</td>\n",
       "      <td>40.872763</td>\n",
       "      <td>90.052348</td>\n",
       "      <td>92.470480</td>\n",
       "      <td>1589.598103</td>\n",
       "      <td>7.405145</td>\n",
       "      <td>13.608056</td>\n",
       "      <td>6492.148657</td>\n",
       "      <td>53.043316</td>\n",
       "      <td>...</td>\n",
       "      <td>18.750000</td>\n",
       "      <td>4.633428</td>\n",
       "      <td>3600.0</td>\n",
       "      <td>33.879672</td>\n",
       "      <td>3319.123490</td>\n",
       "      <td>122.674910</td>\n",
       "      <td>7000.0</td>\n",
       "      <td>86855.0</td>\n",
       "      <td>6.607073e+09</td>\n",
       "      <td>86855</td>\n",
       "    </tr>\n",
       "    <tr>\n",
       "      <th>2</th>\n",
       "      <td>2</td>\n",
       "      <td>36069.948819</td>\n",
       "      <td>40.889780</td>\n",
       "      <td>90.176441</td>\n",
       "      <td>105.766357</td>\n",
       "      <td>1589.422211</td>\n",
       "      <td>7.404981</td>\n",
       "      <td>14.168092</td>\n",
       "      <td>6560.608547</td>\n",
       "      <td>57.671101</td>\n",
       "      <td>...</td>\n",
       "      <td>18.750000</td>\n",
       "      <td>4.633453</td>\n",
       "      <td>7200.0</td>\n",
       "      <td>32.973720</td>\n",
       "      <td>3311.273411</td>\n",
       "      <td>123.910096</td>\n",
       "      <td>7000.0</td>\n",
       "      <td>86855.0</td>\n",
       "      <td>6.607076e+09</td>\n",
       "      <td>86855</td>\n",
       "    </tr>\n",
       "    <tr>\n",
       "      <th>3</th>\n",
       "      <td>3</td>\n",
       "      <td>35344.795982</td>\n",
       "      <td>40.949980</td>\n",
       "      <td>90.585038</td>\n",
       "      <td>99.518088</td>\n",
       "      <td>1589.162254</td>\n",
       "      <td>7.404399</td>\n",
       "      <td>14.827684</td>\n",
       "      <td>6681.667603</td>\n",
       "      <td>61.641868</td>\n",
       "      <td>...</td>\n",
       "      <td>18.867925</td>\n",
       "      <td>4.635279</td>\n",
       "      <td>10800.0</td>\n",
       "      <td>33.382638</td>\n",
       "      <td>3311.388720</td>\n",
       "      <td>121.909499</td>\n",
       "      <td>7000.0</td>\n",
       "      <td>86855.0</td>\n",
       "      <td>6.607080e+09</td>\n",
       "      <td>86855</td>\n",
       "    </tr>\n",
       "    <tr>\n",
       "      <th>4</th>\n",
       "      <td>4</td>\n",
       "      <td>34739.622499</td>\n",
       "      <td>40.941064</td>\n",
       "      <td>90.624763</td>\n",
       "      <td>120.664434</td>\n",
       "      <td>1589.148171</td>\n",
       "      <td>7.404485</td>\n",
       "      <td>14.816667</td>\n",
       "      <td>6784.488523</td>\n",
       "      <td>65.534987</td>\n",
       "      <td>...</td>\n",
       "      <td>18.867925</td>\n",
       "      <td>4.635250</td>\n",
       "      <td>14400.0</td>\n",
       "      <td>33.415902</td>\n",
       "      <td>3280.588569</td>\n",
       "      <td>122.044169</td>\n",
       "      <td>7000.0</td>\n",
       "      <td>86855.0</td>\n",
       "      <td>6.607084e+09</td>\n",
       "      <td>86855</td>\n",
       "    </tr>\n",
       "  </tbody>\n",
       "</table>\n",
       "<p>5 rows × 33 columns</p>\n",
       "</div>"
      ],
      "text/plain": [
       "   index  Albumin - BloodConcentration (mg/L)  \\\n",
       "0      0                         36942.076357   \n",
       "1      1                         36524.917484   \n",
       "2      2                         36069.948819   \n",
       "3      3                         35344.795982   \n",
       "4      4                         34739.622499   \n",
       "\n",
       "   ArterialCarbonDioxidePressure (mmHg)  ArterialOxygenPressure (mmHg)  \\\n",
       "0                             40.766614                      89.927432   \n",
       "1                             40.872763                      90.052348   \n",
       "2                             40.889780                      90.176441   \n",
       "3                             40.949980                      90.585038   \n",
       "4                             40.941064                      90.624763   \n",
       "\n",
       "   ArterialPressure (mmHg)  Bicarbonate - BloodConcentration (mg/L)  \\\n",
       "0               116.205401                              1589.280619   \n",
       "1                92.470480                              1589.598103   \n",
       "2               105.766357                              1589.422211   \n",
       "3                99.518088                              1589.162254   \n",
       "4               120.664434                              1589.148171   \n",
       "\n",
       "   BloodPH (None)  BloodUreaNitrogenConcentration (mg/dL)  BloodVolume (mL)  \\\n",
       "0        7.406174                               12.954165       6432.049911   \n",
       "1        7.405145                               13.608056       6492.148657   \n",
       "2        7.404981                               14.168092       6560.608547   \n",
       "3        7.404399                               14.827684       6681.667603   \n",
       "4        7.404485                               14.816667       6784.488523   \n",
       "\n",
       "   Calcium - BloodConcentration (mg/L)  ...  RespirationRate (1/min)  \\\n",
       "0                            48.181075  ...                18.633540   \n",
       "1                            53.043316  ...                18.750000   \n",
       "2                            57.671101  ...                18.750000   \n",
       "3                            61.641868  ...                18.867925   \n",
       "4                            65.534987  ...                18.867925   \n",
       "\n",
       "   SaturationAndFractionOfInspiredOxygenRatio (None)  SimulationTime(s)  \\\n",
       "0                                           4.638695                0.0   \n",
       "1                                           4.633428             3600.0   \n",
       "2                                           4.633453             7200.0   \n",
       "3                                           4.635279            10800.0   \n",
       "4                                           4.635250            14400.0   \n",
       "\n",
       "   SkinTemperature (degC)  Sodium - BloodConcentration (mg/L)  \\\n",
       "0               33.203250                         3328.440581   \n",
       "1               33.879672                         3319.123490   \n",
       "2               32.973720                         3311.273411   \n",
       "3               33.382638                         3311.388720   \n",
       "4               33.415902                         3280.588569   \n",
       "\n",
       "   SystolicArterialPressure (mmHg)  WhiteBloodCellCount (ct/uL)       id  \\\n",
       "0                       119.230483                       7000.0  86855.0   \n",
       "1                       122.674910                       7000.0  86855.0   \n",
       "2                       123.910096                       7000.0  86855.0   \n",
       "3                       121.909499                       7000.0  86855.0   \n",
       "4                       122.044169                       7000.0  86855.0   \n",
       "\n",
       "           time  icustay_id  \n",
       "0  6.607069e+09       86855  \n",
       "1  6.607073e+09       86855  \n",
       "2  6.607076e+09       86855  \n",
       "3  6.607080e+09       86855  \n",
       "4  6.607084e+09       86855  \n",
       "\n",
       "[5 rows x 33 columns]"
      ]
     },
     "execution_count": 4,
     "metadata": {},
     "output_type": "execute_result"
    }
   ],
   "source": [
    "pulse_data['icustay_id'] = pulse_data['id'].astype(int)\n",
    "pulse_data = pulse_data.reset_index()\n",
    "pulse_data.head()"
   ]
  },
  {
   "cell_type": "code",
   "execution_count": 5,
   "metadata": {},
   "outputs": [],
   "source": [
    "column_mappings = {\n",
    "#     'Albumin - BloodConcentration (mg/L)': 'Albumin',\n",
    "    'ArterialCarbonDioxidePressure (mmHg)': 'paCO2',\n",
    "    'ArterialOxygenPressure (mmHg)': 'paO2',\n",
    "    'Bicarbonate - BloodConcentration (mg/L)': 'HCO3',\n",
    "    'BloodPH (None)': 'Arterial_pH',\n",
    "#     'BloodUreaNitrogenConcentration (mg/dL)': 'BUN',\n",
    "    'Calcium - BloodConcentration (mg/L)': 'Calcium',\n",
    "    'Chloride - BloodConcentration (mg/L)': 'Chloride',\n",
    "#     'Creatinine - BloodConcentration (mg/L)': 'Creatinine',\n",
    "    'DiastolicArterialPressure (mmHg)': 'DiaBP',\n",
    "    'Glucose - BloodConcentration (mg/L)': 'Glucose',\n",
    "#     'Lactate - BloodConcentration (mg/L)': 'Arterial_lactate',\n",
    "    'MeanArterialPressure (mmHg)': 'MeanBP',\n",
    "    'Potassium - BloodConcentration (mg/L)': 'Potassium',\n",
    "    'RespirationRate (1/min)': 'RR',\n",
    "    'SaturationAndFractionOfInspiredOxygenRatio (None)': 'PaO2_FiO2',\n",
    "    'SkinTemperature (degC)': 'Temp_C',\n",
    "    'Sodium - BloodConcentration (mg/L)': 'Sodium',\n",
    "    'SystolicArterialPressure (mmHg)': 'SysBP',\n",
    "#     'WhiteBloodCellCount (ct/uL)': 'WBC_count',\n",
    "    'HeartRate (1/min)': 'HR'\n",
    "}\n",
    "\n",
    "pulse_rename = {}\n",
    "\n",
    "for k, v in column_mappings.items():\n",
    "    pulse_rename.update({k: f\"{v}\"})\n",
    "\n",
    "pulse_data = pulse_data.rename(columns=pulse_rename)"
   ]
  },
  {
   "cell_type": "code",
   "execution_count": 6,
   "metadata": {},
   "outputs": [
    {
     "data": {
      "text/html": [
       "<div>\n",
       "<style scoped>\n",
       "    .dataframe tbody tr th:only-of-type {\n",
       "        vertical-align: middle;\n",
       "    }\n",
       "\n",
       "    .dataframe tbody tr th {\n",
       "        vertical-align: top;\n",
       "    }\n",
       "\n",
       "    .dataframe thead th {\n",
       "        text-align: right;\n",
       "    }\n",
       "</style>\n",
       "<table border=\"1\" class=\"dataframe\">\n",
       "  <thead>\n",
       "    <tr style=\"text-align: right;\">\n",
       "      <th></th>\n",
       "      <th>bloc</th>\n",
       "      <th>icustay_id</th>\n",
       "      <th>charttime</th>\n",
       "      <th>gender</th>\n",
       "      <th>age</th>\n",
       "      <th>elixhauser</th>\n",
       "      <th>re_admission</th>\n",
       "      <th>died_in_hosp</th>\n",
       "      <th>died_within_48h_of_out_time</th>\n",
       "      <th>mortality_90d</th>\n",
       "      <th>...</th>\n",
       "      <th>mechvent</th>\n",
       "      <th>Shock_Index</th>\n",
       "      <th>PaO2_FiO2</th>\n",
       "      <th>median_dose_vaso</th>\n",
       "      <th>max_dose_vaso</th>\n",
       "      <th>input_total</th>\n",
       "      <th>input_1hourly</th>\n",
       "      <th>output_total</th>\n",
       "      <th>output_1hourly</th>\n",
       "      <th>cumulated_balance</th>\n",
       "    </tr>\n",
       "  </thead>\n",
       "  <tbody>\n",
       "    <tr>\n",
       "      <th>0</th>\n",
       "      <td>1</td>\n",
       "      <td>65537</td>\n",
       "      <td>7.139723e+09</td>\n",
       "      <td>0.0</td>\n",
       "      <td>22799.40478</td>\n",
       "      <td>4.0</td>\n",
       "      <td>1.0</td>\n",
       "      <td>0.0</td>\n",
       "      <td>0.0</td>\n",
       "      <td>0.0</td>\n",
       "      <td>...</td>\n",
       "      <td>0.0</td>\n",
       "      <td>0.687500</td>\n",
       "      <td>363.888889</td>\n",
       "      <td>0.18</td>\n",
       "      <td>0.18</td>\n",
       "      <td>4020.493550</td>\n",
       "      <td>29.994183</td>\n",
       "      <td>7235.0</td>\n",
       "      <td>3605.0</td>\n",
       "      <td>-3184.512267</td>\n",
       "    </tr>\n",
       "    <tr>\n",
       "      <th>1</th>\n",
       "      <td>2</td>\n",
       "      <td>65537</td>\n",
       "      <td>7.139727e+09</td>\n",
       "      <td>0.0</td>\n",
       "      <td>22799.40478</td>\n",
       "      <td>4.0</td>\n",
       "      <td>1.0</td>\n",
       "      <td>0.0</td>\n",
       "      <td>0.0</td>\n",
       "      <td>0.0</td>\n",
       "      <td>...</td>\n",
       "      <td>0.0</td>\n",
       "      <td>0.602564</td>\n",
       "      <td>430.555556</td>\n",
       "      <td>0.00</td>\n",
       "      <td>0.00</td>\n",
       "      <td>4050.487733</td>\n",
       "      <td>515.407667</td>\n",
       "      <td>10760.0</td>\n",
       "      <td>3525.0</td>\n",
       "      <td>-6194.104600</td>\n",
       "    </tr>\n",
       "    <tr>\n",
       "      <th>2</th>\n",
       "      <td>3</td>\n",
       "      <td>65537</td>\n",
       "      <td>7.139731e+09</td>\n",
       "      <td>0.0</td>\n",
       "      <td>22799.40478</td>\n",
       "      <td>4.0</td>\n",
       "      <td>1.0</td>\n",
       "      <td>0.0</td>\n",
       "      <td>0.0</td>\n",
       "      <td>0.0</td>\n",
       "      <td>...</td>\n",
       "      <td>0.0</td>\n",
       "      <td>0.751456</td>\n",
       "      <td>402.222222</td>\n",
       "      <td>0.00</td>\n",
       "      <td>0.00</td>\n",
       "      <td>4565.895400</td>\n",
       "      <td>547.876700</td>\n",
       "      <td>14235.0</td>\n",
       "      <td>3475.0</td>\n",
       "      <td>-9121.227900</td>\n",
       "    </tr>\n",
       "    <tr>\n",
       "      <th>3</th>\n",
       "      <td>4</td>\n",
       "      <td>65537</td>\n",
       "      <td>7.139734e+09</td>\n",
       "      <td>0.0</td>\n",
       "      <td>22799.40478</td>\n",
       "      <td>4.0</td>\n",
       "      <td>1.0</td>\n",
       "      <td>0.0</td>\n",
       "      <td>0.0</td>\n",
       "      <td>0.0</td>\n",
       "      <td>...</td>\n",
       "      <td>0.0</td>\n",
       "      <td>0.804762</td>\n",
       "      <td>275.000000</td>\n",
       "      <td>0.00</td>\n",
       "      <td>0.00</td>\n",
       "      <td>5113.772100</td>\n",
       "      <td>2097.144000</td>\n",
       "      <td>17630.0</td>\n",
       "      <td>3395.0</td>\n",
       "      <td>-10419.083900</td>\n",
       "    </tr>\n",
       "    <tr>\n",
       "      <th>4</th>\n",
       "      <td>5</td>\n",
       "      <td>65537</td>\n",
       "      <td>7.139738e+09</td>\n",
       "      <td>0.0</td>\n",
       "      <td>22799.40478</td>\n",
       "      <td>4.0</td>\n",
       "      <td>1.0</td>\n",
       "      <td>0.0</td>\n",
       "      <td>0.0</td>\n",
       "      <td>0.0</td>\n",
       "      <td>...</td>\n",
       "      <td>0.0</td>\n",
       "      <td>0.804245</td>\n",
       "      <td>283.000000</td>\n",
       "      <td>0.00</td>\n",
       "      <td>0.00</td>\n",
       "      <td>7210.916100</td>\n",
       "      <td>519.833583</td>\n",
       "      <td>20785.0</td>\n",
       "      <td>3155.0</td>\n",
       "      <td>-13054.250317</td>\n",
       "    </tr>\n",
       "  </tbody>\n",
       "</table>\n",
       "<p>5 rows × 59 columns</p>\n",
       "</div>"
      ],
      "text/plain": [
       "   bloc  icustay_id     charttime  gender          age  elixhauser  \\\n",
       "0     1       65537  7.139723e+09     0.0  22799.40478         4.0   \n",
       "1     2       65537  7.139727e+09     0.0  22799.40478         4.0   \n",
       "2     3       65537  7.139731e+09     0.0  22799.40478         4.0   \n",
       "3     4       65537  7.139734e+09     0.0  22799.40478         4.0   \n",
       "4     5       65537  7.139738e+09     0.0  22799.40478         4.0   \n",
       "\n",
       "   re_admission  died_in_hosp  died_within_48h_of_out_time  mortality_90d  \\\n",
       "0           1.0           0.0                          0.0            0.0   \n",
       "1           1.0           0.0                          0.0            0.0   \n",
       "2           1.0           0.0                          0.0            0.0   \n",
       "3           1.0           0.0                          0.0            0.0   \n",
       "4           1.0           0.0                          0.0            0.0   \n",
       "\n",
       "   ...  mechvent  Shock_Index   PaO2_FiO2  median_dose_vaso  max_dose_vaso  \\\n",
       "0  ...       0.0     0.687500  363.888889              0.18           0.18   \n",
       "1  ...       0.0     0.602564  430.555556              0.00           0.00   \n",
       "2  ...       0.0     0.751456  402.222222              0.00           0.00   \n",
       "3  ...       0.0     0.804762  275.000000              0.00           0.00   \n",
       "4  ...       0.0     0.804245  283.000000              0.00           0.00   \n",
       "\n",
       "   input_total  input_1hourly  output_total  output_1hourly  cumulated_balance  \n",
       "0  4020.493550      29.994183        7235.0          3605.0       -3184.512267  \n",
       "1  4050.487733     515.407667       10760.0          3525.0       -6194.104600  \n",
       "2  4565.895400     547.876700       14235.0          3475.0       -9121.227900  \n",
       "3  5113.772100    2097.144000       17630.0          3395.0      -10419.083900  \n",
       "4  7210.916100     519.833583       20785.0          3155.0      -13054.250317  \n",
       "\n",
       "[5 rows x 59 columns]"
      ]
     },
     "execution_count": 6,
     "metadata": {},
     "output_type": "execute_result"
    }
   ],
   "source": [
    "MIMICtable = pd.read_csv(\"/data/localhost/taufiq/export-dir/MIMIC-1hourly-length-5-train.csv\")\n",
    "MIMICtable['icustay_id'] = MIMICtable['icustay_id'].astype(int)\n",
    "MIMICtable.head()"
   ]
  },
  {
   "cell_type": "code",
   "execution_count": 7,
   "metadata": {},
   "outputs": [],
   "source": [
    "MIMICtable_filtered_t0 = MIMICtable[MIMICtable['bloc']==1].reset_index()\n",
    "MIMICtable_filtered_t1 = MIMICtable[MIMICtable['bloc']==2][[\n",
    "       'icustay_id', 'RR', 'HR', 'SysBP', 'MeanBP', 'DiaBP', 'RR',\n",
    "       'SpO2', 'Temp_C', 'FiO2_1', 'Potassium', 'Sodium', 'Chloride',\n",
    "       'Glucose', 'BUN', 'Creatinine', 'Magnesium', 'Calcium', 'Ionised_Ca',\n",
    "       'CO2_mEqL', 'SGOT', 'SGPT', 'Total_bili', 'Albumin', 'Hb', 'WBC_count',\n",
    "       'Platelets_count', 'PTT', 'PT', 'INR', 'Arterial_pH', 'paO2', 'paCO2',\n",
    "       'Arterial_BE', 'HCO3', 'Arterial_lactate']].reset_index()\n",
    "\n",
    "MIMICtable_filtered_t1 = MIMICtable_filtered_t1[MIMICtable_filtered_t1[col_name]>0].reset_index()\n",
    "MIMICtable_filtered_t0 = MIMICtable_filtered_t0[MIMICtable_filtered_t0['icustay_id'].isin(MIMICtable_filtered_t1['icustay_id'])].reset_index()"
   ]
  },
  {
   "cell_type": "code",
   "execution_count": 8,
   "metadata": {},
   "outputs": [],
   "source": [
    "pulse_data_t0 = pulse_data[pulse_data['index']==1].reset_index(drop=True)\n",
    "pulse_data_t1 = pulse_data[pulse_data['index']==2].reset_index(drop=True)\n"
   ]
  },
  {
   "cell_type": "code",
   "execution_count": 9,
   "metadata": {},
   "outputs": [],
   "source": [
    "pulse_data_t0 = pulse_data[pulse_data['index']==1].reset_index(drop=True)\n",
    "pulse_data_t1 = pulse_data[pulse_data['index']==2].reset_index(drop=True)\n",
    "pulse_data_t2 = pulse_data[pulse_data['index']==3].reset_index(drop=True)\n",
    "pulse_data_t3 = pulse_data[pulse_data['index']==4].reset_index(drop=True)\n",
    "\n",
    "pulse_data_t0 = MIMICtable[MIMICtable['bloc']==2][['gender', 'age', 'Weight_kg', 'icustay_id']].merge(pulse_data_t0, on=['icustay_id'])\n",
    "pulse_data_t1 = MIMICtable[MIMICtable['bloc']==3][['gender', 'age', 'Weight_kg', 'icustay_id']].merge(pulse_data_t1, on=['icustay_id'])\n",
    "pulse_data_t2 = MIMICtable[MIMICtable['bloc']==4][['gender', 'age', 'Weight_kg', 'icustay_id']].merge(pulse_data_t2, on=['icustay_id'])\n",
    "pulse_data_t3 = MIMICtable[MIMICtable['bloc']==5][['gender', 'age', 'Weight_kg', 'icustay_id']].merge(pulse_data_t3, on=['icustay_id'])\n",
    "\n",
    "pulse_data_t0 = pd.concat([pulse_data_t0, pulse_data_t1, pulse_data_t2])\n",
    "pulse_data_t1 = pd.concat([pulse_data_t1, pulse_data_t2, pulse_data_t3])"
   ]
  },
  {
   "cell_type": "code",
   "execution_count": 10,
   "metadata": {},
   "outputs": [
    {
     "data": {
      "text/plain": [
       "2067.718512950661"
      ]
     },
     "execution_count": 10,
     "metadata": {},
     "output_type": "execute_result"
    }
   ],
   "source": [
    "pulse_data_t0['paCO2'].max()\n",
    "# MIMICtable_filtered_t0['paCO2'].std()"
   ]
  },
  {
   "cell_type": "markdown",
   "metadata": {},
   "source": [
    "# Supervised Learning of Actions - Logistic Regression\n"
   ]
  },
  {
   "cell_type": "code",
   "execution_count": 11,
   "metadata": {},
   "outputs": [],
   "source": [
    "nra = 5\n",
    "nr_reps = 100"
   ]
  },
  {
   "cell_type": "markdown",
   "metadata": {},
   "source": [
    "## Create Actions\n"
   ]
  },
  {
   "cell_type": "code",
   "execution_count": 12,
   "metadata": {},
   "outputs": [],
   "source": [
    "from sklearn.cluster import KMeans\n",
    "from scipy.stats import rankdata\n",
    "\n",
    "logging.info('Creating action bins')\n",
    "nact = nra**2\n",
    "input_1hourly_nonzero = MIMICtable_filtered_t0.loc[MIMICtable_filtered_t0['input_1hourly']>0, 'input_1hourly']\n",
    "iol_ranked = rankdata(input_1hourly_nonzero)/len(input_1hourly_nonzero) # excludes zero fluid (will be action 1)\n",
    "iof = np.floor((iol_ranked + 0.2499999999)*4) # converts iv volume in 4 actions\n",
    "io = np.ones(len(MIMICtable_filtered_t0)) # array of ones, by default\n",
    "io[MIMICtable_filtered_t0['input_1hourly']>0] = iof + 1 # where more than zero fluid given: save actual action\n",
    "vc = MIMICtable_filtered_t0['max_dose_vaso'].copy()\n",
    "vc_nonzero = MIMICtable_filtered_t0.loc[MIMICtable_filtered_t0['max_dose_vaso']!=0, 'max_dose_vaso']\n",
    "vc_ranked = rankdata(vc_nonzero)/len(vc_nonzero)\n",
    "vcf = np.floor((vc_ranked + 0.2499999999)*4) # converts to 4 bins\n",
    "vcf[vcf==0] = 1\n",
    "vc[vc!=0] = vcf + 1\n",
    "vc[vc==0] = 1\n",
    "# median dose of drug in all bins\n",
    "ma1 = [MIMICtable_filtered_t0.loc[io==1, 'input_1hourly'].median(), MIMICtable_filtered_t0.loc[io==2, 'input_1hourly'].median(), MIMICtable_filtered_t0.loc[io==3, 'input_1hourly'].median(), MIMICtable_filtered_t0.loc[io==4, 'input_1hourly'].median(), MIMICtable_filtered_t0.loc[io==5, 'input_1hourly'].median()]\n",
    "ma2 = [MIMICtable_filtered_t0.loc[vc==1, 'max_dose_vaso'].median(), MIMICtable_filtered_t0.loc[vc==2, 'max_dose_vaso'].median(), MIMICtable_filtered_t0.loc[vc==3, 'max_dose_vaso'].median(), MIMICtable_filtered_t0.loc[vc==4, 'max_dose_vaso'].median(), MIMICtable_filtered_t0.loc[vc==5, 'max_dose_vaso'].median()]\n",
    "med = pd.DataFrame(data={'IV':io, 'VC': vc})\n",
    "med = med.astype({'IV': 'int32', 'VC': 'int32'})\n",
    "uniqueValues = med.drop_duplicates().reset_index(drop=True)\n",
    "uniqueValueDoses = pd.DataFrame()\n",
    "for index, row in uniqueValues.iterrows():\n",
    "    uniqueValueDoses.at[index, 'IV'], uniqueValueDoses.at[index, 'VC'] = ma1[row['IV']-1], ma2[row['VC']-1]\n",
    "\n",
    "actionbloc = pd.DataFrame()\n",
    "for index, row in med.iterrows():\n",
    "    actionbloc.at[index, 'action_bloc'] = uniqueValues.loc[(uniqueValues['IV'] == row['IV']) & (uniqueValues['VC'] == row['VC'])].index.values[0]+1\n",
    "actionbloc = actionbloc.astype({'action_bloc':'int32'})\n",
    "\n",
    "logging.info('Action bins created')"
   ]
  },
  {
   "cell_type": "code",
   "execution_count": 13,
   "metadata": {},
   "outputs": [
    {
     "data": {
      "text/plain": [
       "5162"
      ]
     },
     "execution_count": 13,
     "metadata": {},
     "output_type": "execute_result"
    }
   ],
   "source": [
    "len(actionbloc)"
   ]
  },
  {
   "cell_type": "code",
   "execution_count": 14,
   "metadata": {},
   "outputs": [],
   "source": [
    "import torch.utils.data as data_utils\n",
    "\n",
    "class PolicyNetwork(torch.nn.Module):\n",
    "    def __init__(self, input_dim, output_dim, hidden_1_dim=10):\n",
    "        super(PolicyNetwork, self).__init__()\n",
    "        self.hid1 = torch.nn.Linear(input_dim, hidden_1_dim)\n",
    "        self.outp = torch.nn.Linear(hidden_1_dim, output_dim)\n",
    "        self.softmax = torch.nn.Softmax(dim=2)\n",
    "        self.leaky_relu = torch.nn.LeakyReLU()\n",
    "        self.tanh = torch.nn.Tanh()\n",
    "\n",
    "        torch.nn.init.xavier_uniform_(self.hid1.weight)\n",
    "        torch.nn.init.zeros_(self.hid1.bias)\n",
    "        torch.nn.init.xavier_uniform_(self.outp.weight)\n",
    "        torch.nn.init.zeros_(self.outp.bias)\n",
    "\n",
    "    def forward(self, x):\n",
    "        z = self.tanh(self.hid1(x))\n",
    "        z = self.outp(z)\n",
    "        return z"
   ]
  },
  {
   "cell_type": "code",
   "execution_count": 15,
   "metadata": {},
   "outputs": [],
   "source": [
    "import torch\n",
    "from torch.autograd import Variable\n",
    "import torch.nn.functional as F\n",
    "import torch.utils.data as Data\n",
    "\n",
    "\n",
    "class Net(torch.nn.Module):\n",
    "    def __init__(self, n_feature, n_hidden, n_output):\n",
    "        super(Net, self).__init__()\n",
    "        self.hidden = torch.nn.Linear(n_feature, n_hidden)   # hidden layer\n",
    "        self.predict = torch.nn.Linear(n_hidden, n_output)   # output layer\n",
    "\n",
    "    def forward(self, x):\n",
    "        x = F.leaky_relu(self.hidden(x))      # activation function for hidden layer\n",
    "        x = self.predict(x)             # linear output\n",
    "        return x"
   ]
  },
  {
   "cell_type": "code",
   "execution_count": 16,
   "metadata": {},
   "outputs": [],
   "source": [
    "import torch\n",
    "from torch.autograd import Variable\n",
    "import torch.nn.functional as F\n",
    "import torch.utils.data as Data\n",
    "\n",
    "\n",
    "class QuantileNet(torch.nn.Module):\n",
    "    def __init__(self, n_feature, n_hidden, n_output):\n",
    "        super(QuantileNet, self).__init__()\n",
    "        self.hidden = torch.nn.Linear(n_feature, n_hidden)   # hidden layer\n",
    "        self.predict = torch.nn.Linear(n_hidden, n_output)   # output layer\n",
    "        self.tanh = torch.nn.Tanh()\n",
    "\n",
    "    def forward(self, x):\n",
    "        x = self.tanh(self.hidden(x))      # activation function for hidden layer\n",
    "        x = self.predict(x)             # linear output\n",
    "        return x"
   ]
  },
  {
   "cell_type": "code",
   "execution_count": 17,
   "metadata": {},
   "outputs": [],
   "source": [
    "class PinballLoss():\n",
    "    def __init__(self, quantile=0.10, reduction='none'):\n",
    "        self.quantile = quantile\n",
    "        assert 0 < self.quantile\n",
    "        assert self.quantile < 1\n",
    "        self.reduction = reduction\n",
    "\n",
    "    def __call__(self, output, target):\n",
    "        assert output.shape == target.shape\n",
    "        loss = torch.zeros_like(target, dtype=torch.float)\n",
    "        error = output - target\n",
    "        smaller_index = error < 0\n",
    "        bigger_index = 0 < error\n",
    "        loss[smaller_index] = self.quantile * (abs(error)[smaller_index])\n",
    "        loss[bigger_index] = (1-self.quantile) * (abs(error)[bigger_index])\n",
    "\n",
    "        if self.reduction == 'sum':\n",
    "            loss = loss.sum()\n",
    "        if self.reduction == 'mean':\n",
    "            loss = loss.mean()\n",
    "\n",
    "        return loss"
   ]
  },
  {
   "cell_type": "markdown",
   "metadata": {},
   "source": [
    "# Compute scores on validation data"
   ]
  },
  {
   "cell_type": "code",
   "execution_count": 18,
   "metadata": {},
   "outputs": [],
   "source": [
    "def compute_score_tensor(gender, age, col_v, action, col_name, models_dir):\n",
    "    softmax = torch.nn.Softmax(dim=1)\n",
    "    gender = gender - 0.5\n",
    "    action = action.to(torch.long)\n",
    "    age_normalized_sim = (age - MIMICtable_filtered_t0['age'].mean())/MIMICtable_filtered_t0['age'].std()\n",
    "    col_normalized_sim = (col_v - pulse_data_t0[f'{col_name}'].mean())/pulse_data_t0[f'{col_name}'].std()\n",
    "    sim_input = torch.column_stack((gender, age_normalized_sim, col_normalized_sim)).float()\n",
    "    age_normalized_obs = (age - MIMICtable_filtered_t0['age'].mean())/MIMICtable_filtered_t0['age'].std()\n",
    "    col_normalized_obs = (col_v - MIMICtable_filtered_t0[f'{col_name}'].mean())/MIMICtable_filtered_t0[f'{col_name}'].std()\n",
    "    obs_input = torch.column_stack((gender, age_normalized_obs, col_normalized_obs)).float()\n",
    "    action_tensor = (action-1)/24\n",
    "    p = 0\n",
    "    for i in range(nr_reps):\n",
    "        yobs_model = Net(n_feature=4, n_hidden=10, n_output=1)\n",
    "        yobs_model.load_state_dict(torch.load(f'{models_dir}/col_{col_name}/yobs_{i}'))\n",
    "        yobs_model.eval()\n",
    "        ymax_model = Net(n_feature=3, n_hidden=10, n_output=1)\n",
    "        ymax_model.load_state_dict(torch.load(f'{models_dir}/col_{col_name}/ymax_{i}'))\n",
    "        ymax_model.eval()\n",
    "        ymin_model = Net(n_feature=3, n_hidden=10, n_output=1)\n",
    "        ymin_model.load_state_dict(torch.load(f'{models_dir}/col_{col_name}/ymin_{i}'))\n",
    "        ymin_model.eval()\n",
    "        ysim_model = Net(n_feature=4, n_hidden=10, n_output=1)\n",
    "        ysim_model.load_state_dict(torch.load(f'{models_dir}/col_{col_name}/ysim_{i}'))\n",
    "        ysim_model.eval()\n",
    "        policy = PolicyNetwork(input_dim=3, output_dim=25)\n",
    "        policy.load_state_dict(torch.load(f'{models_dir}/col_{col_name}/policy_{i}'))\n",
    "        policy.eval()\n",
    "        prob = softmax(policy(obs_input))\n",
    "        prob = prob[torch.arange(len(prob)), action-1]\n",
    "        lb = prob*yobs_model(torch.column_stack((obs_input, action_tensor))).squeeze() + (1-prob)*(ymin_model(obs_input)).squeeze()\n",
    "        ub = prob*yobs_model(torch.column_stack((obs_input, action_tensor))).squeeze() + (1-prob)*(ymax_model(obs_input)).squeeze()\n",
    "        sim = ysim_model(torch.column_stack((sim_input, action_tensor))).squeeze()\n",
    "        p += ((lb<=sim)&(sim<=ub)).float()\n",
    "    p = p/nr_reps\n",
    "    return p.numpy() "
   ]
  },
  {
   "cell_type": "code",
   "execution_count": 19,
   "metadata": {},
   "outputs": [],
   "source": [
    "def compute_score_tensor_updated(obs_input, sim_input, action, col_name, models_dir):\n",
    "    softmax = torch.nn.Softmax(dim=1)\n",
    "    action_tensor = (action-1)/24\n",
    "    p = 0\n",
    "    for i in range(nr_reps):\n",
    "        yobs_model = Net(n_feature=obs_input.shape[1]+1, n_hidden=10, n_output=1)\n",
    "        yobs_model.load_state_dict(torch.load(f'{models_dir}/yobs_{col_name}_{i}'))\n",
    "        yobs_model.eval()\n",
    "        ymax_model = Net(n_feature=obs_input.shape[1], n_hidden=10, n_output=1)\n",
    "        ymax_model.load_state_dict(torch.load(f'{models_dir}/ymax_{col_name}_{i}'))\n",
    "        ymax_model.eval()\n",
    "        ymin_model = Net(n_feature=obs_input.shape[1], n_hidden=10, n_output=1)\n",
    "        ymin_model.load_state_dict(torch.load(f'{models_dir}/ymin_{col_name}_{i}'))\n",
    "        ymin_model.eval()\n",
    "        ysim_model = Net(n_feature=sim_input.shape[1] + 1, n_hidden=10, n_output=1)\n",
    "        ysim_model.load_state_dict(torch.load(f'{models_dir}/ysim_{col_name}_{i}'))\n",
    "        ysim_model.eval()\n",
    "        policy = PolicyNetwork(input_dim=obs_input.shape[1], output_dim=25)\n",
    "        policy.load_state_dict(torch.load(f'{models_dir}/policy_{i}'))\n",
    "        policy.eval()\n",
    "        with torch.no_grad():\n",
    "            prob = softmax(policy(obs_input))\n",
    "            prob = prob[torch.arange(len(prob)), action-1]\n",
    "            lb = prob*yobs_model(torch.column_stack((obs_input, action_tensor))).squeeze() + (1-prob)*(ymin_model(obs_input)).squeeze()\n",
    "            ub = prob*yobs_model(torch.column_stack((obs_input, action_tensor))).squeeze() + (1-prob)*(ymax_model(obs_input)).squeeze()\n",
    "            sim = ysim_model(torch.column_stack((sim_input, action_tensor))).squeeze()\n",
    "            p += ((lb<=sim)&(sim<=ub)).float()\n",
    "    p = p/nr_reps\n",
    "    return p.numpy(), lb.numpy(), sim.numpy(), ub.numpy()"
   ]
  },
  {
   "cell_type": "code",
   "execution_count": 20,
   "metadata": {},
   "outputs": [
    {
     "data": {
      "text/html": [
       "<div>\n",
       "<style scoped>\n",
       "    .dataframe tbody tr th:only-of-type {\n",
       "        vertical-align: middle;\n",
       "    }\n",
       "\n",
       "    .dataframe tbody tr th {\n",
       "        vertical-align: top;\n",
       "    }\n",
       "\n",
       "    .dataframe thead th {\n",
       "        text-align: right;\n",
       "    }\n",
       "</style>\n",
       "<table border=\"1\" class=\"dataframe\">\n",
       "  <thead>\n",
       "    <tr style=\"text-align: right;\">\n",
       "      <th></th>\n",
       "      <th>bloc</th>\n",
       "      <th>icustay_id</th>\n",
       "      <th>charttime</th>\n",
       "      <th>gender</th>\n",
       "      <th>age</th>\n",
       "      <th>elixhauser</th>\n",
       "      <th>re_admission</th>\n",
       "      <th>died_in_hosp</th>\n",
       "      <th>died_within_48h_of_out_time</th>\n",
       "      <th>mortality_90d</th>\n",
       "      <th>...</th>\n",
       "      <th>Shock_Index</th>\n",
       "      <th>PaO2_FiO2</th>\n",
       "      <th>median_dose_vaso</th>\n",
       "      <th>max_dose_vaso</th>\n",
       "      <th>input_total</th>\n",
       "      <th>input_1hourly</th>\n",
       "      <th>output_total</th>\n",
       "      <th>output_1hourly</th>\n",
       "      <th>cumulated_balance</th>\n",
       "      <th>A</th>\n",
       "    </tr>\n",
       "  </thead>\n",
       "  <tbody>\n",
       "    <tr>\n",
       "      <th>0</th>\n",
       "      <td>1</td>\n",
       "      <td>32796</td>\n",
       "      <td>4.882446e+09</td>\n",
       "      <td>1.0</td>\n",
       "      <td>30118.703299</td>\n",
       "      <td>5.0</td>\n",
       "      <td>1.0</td>\n",
       "      <td>0.0</td>\n",
       "      <td>0.0</td>\n",
       "      <td>0.0</td>\n",
       "      <td>...</td>\n",
       "      <td>0.767176</td>\n",
       "      <td>867.592593</td>\n",
       "      <td>0.0</td>\n",
       "      <td>0.0</td>\n",
       "      <td>1753.737817</td>\n",
       "      <td>20.020</td>\n",
       "      <td>2390.0</td>\n",
       "      <td>1195.0</td>\n",
       "      <td>-616.242183</td>\n",
       "      <td>5</td>\n",
       "    </tr>\n",
       "    <tr>\n",
       "      <th>1</th>\n",
       "      <td>2</td>\n",
       "      <td>32796</td>\n",
       "      <td>4.882450e+09</td>\n",
       "      <td>1.0</td>\n",
       "      <td>30118.703299</td>\n",
       "      <td>5.0</td>\n",
       "      <td>1.0</td>\n",
       "      <td>0.0</td>\n",
       "      <td>0.0</td>\n",
       "      <td>0.0</td>\n",
       "      <td>...</td>\n",
       "      <td>0.762025</td>\n",
       "      <td>348.333333</td>\n",
       "      <td>0.0</td>\n",
       "      <td>0.0</td>\n",
       "      <td>1773.757817</td>\n",
       "      <td>20.020</td>\n",
       "      <td>3540.0</td>\n",
       "      <td>1150.0</td>\n",
       "      <td>-1746.222183</td>\n",
       "      <td>5</td>\n",
       "    </tr>\n",
       "    <tr>\n",
       "      <th>2</th>\n",
       "      <td>3</td>\n",
       "      <td>32796</td>\n",
       "      <td>4.882453e+09</td>\n",
       "      <td>1.0</td>\n",
       "      <td>30118.703299</td>\n",
       "      <td>5.0</td>\n",
       "      <td>1.0</td>\n",
       "      <td>0.0</td>\n",
       "      <td>0.0</td>\n",
       "      <td>0.0</td>\n",
       "      <td>...</td>\n",
       "      <td>0.688000</td>\n",
       "      <td>1261.111111</td>\n",
       "      <td>0.0</td>\n",
       "      <td>0.0</td>\n",
       "      <td>1793.777817</td>\n",
       "      <td>20.020</td>\n",
       "      <td>4690.0</td>\n",
       "      <td>1150.0</td>\n",
       "      <td>-2876.202183</td>\n",
       "      <td>5</td>\n",
       "    </tr>\n",
       "    <tr>\n",
       "      <th>3</th>\n",
       "      <td>4</td>\n",
       "      <td>32796</td>\n",
       "      <td>4.882457e+09</td>\n",
       "      <td>1.0</td>\n",
       "      <td>30118.703299</td>\n",
       "      <td>5.0</td>\n",
       "      <td>1.0</td>\n",
       "      <td>0.0</td>\n",
       "      <td>0.0</td>\n",
       "      <td>0.0</td>\n",
       "      <td>...</td>\n",
       "      <td>0.671875</td>\n",
       "      <td>213.888889</td>\n",
       "      <td>0.0</td>\n",
       "      <td>0.0</td>\n",
       "      <td>1813.797817</td>\n",
       "      <td>20.020</td>\n",
       "      <td>5840.0</td>\n",
       "      <td>1150.0</td>\n",
       "      <td>-4006.182183</td>\n",
       "      <td>5</td>\n",
       "    </tr>\n",
       "    <tr>\n",
       "      <th>4</th>\n",
       "      <td>5</td>\n",
       "      <td>32796</td>\n",
       "      <td>4.882460e+09</td>\n",
       "      <td>1.0</td>\n",
       "      <td>30118.703299</td>\n",
       "      <td>5.0</td>\n",
       "      <td>1.0</td>\n",
       "      <td>0.0</td>\n",
       "      <td>0.0</td>\n",
       "      <td>0.0</td>\n",
       "      <td>...</td>\n",
       "      <td>0.700000</td>\n",
       "      <td>175.000000</td>\n",
       "      <td>0.0</td>\n",
       "      <td>0.0</td>\n",
       "      <td>1833.817817</td>\n",
       "      <td>18.349</td>\n",
       "      <td>6910.0</td>\n",
       "      <td>1070.0</td>\n",
       "      <td>-5057.833183</td>\n",
       "      <td>4</td>\n",
       "    </tr>\n",
       "  </tbody>\n",
       "</table>\n",
       "<p>5 rows × 60 columns</p>\n",
       "</div>"
      ],
      "text/plain": [
       "   bloc  icustay_id     charttime  gender           age  elixhauser  \\\n",
       "0     1       32796  4.882446e+09     1.0  30118.703299         5.0   \n",
       "1     2       32796  4.882450e+09     1.0  30118.703299         5.0   \n",
       "2     3       32796  4.882453e+09     1.0  30118.703299         5.0   \n",
       "3     4       32796  4.882457e+09     1.0  30118.703299         5.0   \n",
       "4     5       32796  4.882460e+09     1.0  30118.703299         5.0   \n",
       "\n",
       "   re_admission  died_in_hosp  died_within_48h_of_out_time  mortality_90d  \\\n",
       "0           1.0           0.0                          0.0            0.0   \n",
       "1           1.0           0.0                          0.0            0.0   \n",
       "2           1.0           0.0                          0.0            0.0   \n",
       "3           1.0           0.0                          0.0            0.0   \n",
       "4           1.0           0.0                          0.0            0.0   \n",
       "\n",
       "   ...  Shock_Index    PaO2_FiO2  median_dose_vaso  max_dose_vaso  \\\n",
       "0  ...     0.767176   867.592593               0.0            0.0   \n",
       "1  ...     0.762025   348.333333               0.0            0.0   \n",
       "2  ...     0.688000  1261.111111               0.0            0.0   \n",
       "3  ...     0.671875   213.888889               0.0            0.0   \n",
       "4  ...     0.700000   175.000000               0.0            0.0   \n",
       "\n",
       "   input_total  input_1hourly  output_total  output_1hourly  \\\n",
       "0  1753.737817         20.020        2390.0          1195.0   \n",
       "1  1773.757817         20.020        3540.0          1150.0   \n",
       "2  1793.777817         20.020        4690.0          1150.0   \n",
       "3  1813.797817         20.020        5840.0          1150.0   \n",
       "4  1833.817817         18.349        6910.0          1070.0   \n",
       "\n",
       "   cumulated_balance  A  \n",
       "0        -616.242183  5  \n",
       "1       -1746.222183  5  \n",
       "2       -2876.202183  5  \n",
       "3       -4006.182183  5  \n",
       "4       -5057.833183  4  \n",
       "\n",
       "[5 rows x 60 columns]"
      ]
     },
     "execution_count": 20,
     "metadata": {},
     "output_type": "execute_result"
    }
   ],
   "source": [
    "MIMICtable_val = pd.read_csv(\"/data/localhost/taufiq/export-dir/MIMIC-1hourly-length-5-test.csv\")\n",
    "MIMICtable_val['icustay_id'] = MIMICtable_val['icustay_id'].astype(int)\n",
    "MIMIC_filtered = pd.read_csv(\"/data/localhost/taufiq/export-dir/MIMIC-1hourly-length-5-filtered.csv\")\n",
    "MIMICtable_val = MIMICtable_val.merge(MIMIC_filtered[['icustay_id', 'bloc', 'A']], on=['icustay_id', 'bloc'])\n",
    "MIMICtable_val.head()"
   ]
  },
  {
   "cell_type": "code",
   "execution_count": 21,
   "metadata": {},
   "outputs": [],
   "source": [
    "def get_vaso_bin(vaso):\n",
    "    for v in range(1, 6):\n",
    "        if vaso <= MIMICtable_filtered_t0.loc[vc==v, 'max_dose_vaso'].min():\n",
    "            return v\n",
    "        if (vaso <= MIMICtable_filtered_t0.loc[vc==v, 'max_dose_vaso'].max()) and (vaso >= MIMICtable_filtered_t0.loc[vc==v, 'max_dose_vaso'].min()):\n",
    "            return v\n",
    "\n",
    "def get_iv_bin(iv_vol):\n",
    "    for iv in range(1, 6):\n",
    "        if iv_vol <= MIMICtable_filtered_t0.loc[io==iv, 'input_1hourly'].min():\n",
    "            return iv\n",
    "        if (iv_vol <= MIMICtable_filtered_t0.loc[io==iv, 'input_1hourly'].max()) and (iv_vol >= MIMICtable_filtered_t0.loc[io==iv, 'input_1hourly'].min()):\n",
    "            return iv\n",
    "\n",
    "def get_action_bin(iv, vaso):\n",
    "    for index, row in uniqueValues.iterrows():\n",
    "        if (row['IV']==iv) and (row['VC']==vaso):\n",
    "            return index+1\n",
    "            "
   ]
  },
  {
   "cell_type": "code",
   "execution_count": 22,
   "metadata": {},
   "outputs": [],
   "source": [
    "# for index, row in MIMICtable_val.iterrows():\n",
    "#     vaso = get_vaso_bin(row['max_dose_vaso'])\n",
    "#     iv = get_iv_bin(row['input_1hourly'])\n",
    "#     MIMICtable_val.loc[index, 'A'] = get_action_bin(iv, vaso)"
   ]
  },
  {
   "cell_type": "code",
   "execution_count": 23,
   "metadata": {},
   "outputs": [],
   "source": [
    "MIMICtable_val_t0 = MIMICtable_val[MIMICtable_val['bloc']==1]\n",
    "MIMICtable_val_t0 = MIMICtable_val_t0[MIMICtable_val_t0['A'].between(1,25)].reset_index()\n",
    "MIMICtable_val_t1 = MIMICtable_val[MIMICtable_val['bloc']==2]\n",
    "MIMICtable_val_t1 = MIMICtable_val_t0[['icustay_id']].merge(MIMICtable_val_t1, on=['icustay_id']).reset_index()"
   ]
  },
  {
   "cell_type": "code",
   "execution_count": 24,
   "metadata": {},
   "outputs": [
    {
     "data": {
      "image/png": "[encoded data removed]",
      "text/plain": [
       "<Figure size 576x576 with 1 Axes>"
      ]
     },
     "metadata": {
      "needs_background": "light"
     },
     "output_type": "display_data"
    }
   ],
   "source": [
    "fig, ax = plt.subplots(figsize=(8,8))\n",
    "\n",
    "pulse_data_t1.loc[pulse_data_t1['paCO2']<100, 'paCO2'].plot(kind='hist', alpha=0.5, bins=100, density=1)\n",
    "MIMICtable_val_t1['paCO2'].plot(kind='hist', alpha=0.5, bins=100, density=1)\n",
    "plt.show()"
   ]
  },
  {
   "cell_type": "code",
   "execution_count": 25,
   "metadata": {},
   "outputs": [
    {
     "data": {
      "image/png": "[encoded data removed]",
      "text/plain": [
       "<Figure size 576x576 with 1 Axes>"
      ]
     },
     "metadata": {
      "needs_background": "light"
     },
     "output_type": "display_data"
    }
   ],
   "source": [
    "fig, ax = plt.subplots(figsize=(8,8))\n",
    "\n",
    "pulse_data_t1['RR'].plot(kind='hist', alpha=0.5, bins=50, density=1)\n",
    "MIMICtable_val_t1['RR'].plot(kind='hist', alpha=0.5, bins=50, density=1)\n",
    "plt.show()"
   ]
  },
  {
   "cell_type": "code",
   "execution_count": 26,
   "metadata": {},
   "outputs": [],
   "source": [
    "cols = ['paCO2', 'paO2', 'HCO3', 'Arterial_pH', 'Calcium', 'Chloride', 'DiaBP', 'Glucose', 'MeanBP', 'Potassium', 'RR', 'Temp_C', 'Sodium', 'SysBP', 'HR']\n",
    "\n",
    "colbin = ['gender']\n",
    "colnorm=['age','Weight_kg','GCS','HR','SysBP','MeanBP','DiaBP','RR','Temp_C','FiO2_1',\\\n",
    "    'Potassium','Sodium','Chloride','Glucose','Magnesium','Calcium',\\\n",
    "    'Hb','WBC_count','Platelets_count','PTT','PT','Arterial_pH','paO2','paCO2',\\\n",
    "    'Arterial_BE','HCO3','Arterial_lactate','SOFA','SIRS','Shock_Index','PaO2_FiO2','cumulated_balance']\n",
    "collog=['SpO2','BUN','Creatinine','SGOT','SGPT','Total_bili','INR','output_total','output_1hourly']\n",
    "\n",
    "x_columns = ['gender', 'age', 'Weight_kg'] + cols\n",
    "MIMICvalraw = MIMICtable_val_t0[x_columns].copy()\n",
    "\n",
    "for col in MIMICvalraw:\n",
    "    if col in colbin:\n",
    "        MIMICvalraw[col] = MIMICvalraw[col] - 0.5\n",
    "    elif col in colnorm:\n",
    "        cmu = MIMICtable_filtered_t0[col].mean()\n",
    "        csigma = MIMICtable_filtered_t0[col].std()\n",
    "        MIMICvalraw[col] = (MIMICvalraw[col] - cmu)/csigma\n",
    "    elif col in collog:\n",
    "        log_values = np.log(0.1 + MIMICvalraw[col])\n",
    "        dmu = log_values.mean()\n",
    "        dsigma = log_values.std()\n",
    "        MIMICraw[col] = (log_values - dmu)/dsigma \n",
    "        \n",
    "obs_input = torch.FloatTensor(MIMICvalraw.values)"
   ]
  },
  {
   "cell_type": "code",
   "execution_count": 27,
   "metadata": {},
   "outputs": [],
   "source": [
    "pulsevalraw = MIMICtable_val_t0[x_columns].copy()\n",
    "mimic_cols = ['age','Weight_kg']\n",
    "\n",
    "for col in pulsevalraw:\n",
    "    if col in colbin:\n",
    "        pulsevalraw[col] = pulsevalraw[col] - 0.5\n",
    "    elif col in mimic_cols:\n",
    "        cmu = MIMICtable_filtered_t0[col].mean()\n",
    "        csigma = MIMICtable_filtered_t0[col].std()\n",
    "        pulsevalraw[col] = (pulsevalraw[col] - cmu)/csigma\n",
    "    elif col in colnorm:\n",
    "        cmu = pulse_data_t0[col].mean()\n",
    "#         cmu = pulse_data[col].mean()\n",
    "        csigma = pulse_data_t0[col].std()\n",
    "#         csigma = pulse_data[col].std()\n",
    "        pulsevalraw[col] = (pulsevalraw[col] - cmu)/csigma\n",
    "    elif col in collog:\n",
    "        log_values = np.log(0.1 + pulsevalraw[col])\n",
    "        dmu = log_values.mean()\n",
    "        dsigma = log_values.std()\n",
    "        pulsevalraw[col] = (log_values - dmu)/dsigma\n",
    "        \n",
    "sim_input = torch.FloatTensor(pulsevalraw.values)"
   ]
  },
  {
   "cell_type": "code",
   "execution_count": 28,
   "metadata": {},
   "outputs": [
    {
     "name": "stdout",
     "output_type": "stream",
     "text": [
      "paO2 val at t=0 tensor(-163.4295)\n",
      "paO2 val at t=1 tensor([112.8670], grad_fn=<AddBackward0>)\n"
     ]
    }
   ],
   "source": [
    "i=6\n",
    "a=1\n",
    "row=2\n",
    "col_name = \"paO2\"\n",
    "ysim_model = Net(n_feature=sim_input.shape[1] + 1, n_hidden=10, n_output=1)\n",
    "ysim_model.load_state_dict(torch.load(f'{models_dir}/ysim_{col_name}_{i}'))\n",
    "ysim_model.eval()\n",
    "\n",
    "X = torch.FloatTensor(pulsevalraw.values)\n",
    "A = (torch.tensor([a]).to(torch.long)-1)\n",
    "\n",
    "print(f'{col_name} val at t=0', X[row,x_columns.index(col_name)]*MIMICtable[col_name].std() + MIMICtable[col_name].mean())\n",
    "print(f'{col_name} val at t=1', ysim_model(torch.cat((X[row,:], A)))*MIMICtable[col_name].std() + MIMICtable[col_name].mean())\n"
   ]
  },
  {
   "cell_type": "code",
   "execution_count": 29,
   "metadata": {},
   "outputs": [
    {
     "data": {
      "text/html": [
       "<div>\n",
       "<style scoped>\n",
       "    .dataframe tbody tr th:only-of-type {\n",
       "        vertical-align: middle;\n",
       "    }\n",
       "\n",
       "    .dataframe tbody tr th {\n",
       "        vertical-align: top;\n",
       "    }\n",
       "\n",
       "    .dataframe thead th {\n",
       "        text-align: right;\n",
       "    }\n",
       "</style>\n",
       "<table border=\"1\" class=\"dataframe\">\n",
       "  <thead>\n",
       "    <tr style=\"text-align: right;\">\n",
       "      <th></th>\n",
       "      <th>bloc</th>\n",
       "      <th>icustay_id</th>\n",
       "      <th>charttime</th>\n",
       "      <th>gender</th>\n",
       "      <th>age</th>\n",
       "      <th>elixhauser</th>\n",
       "      <th>re_admission</th>\n",
       "      <th>died_in_hosp</th>\n",
       "      <th>died_within_48h_of_out_time</th>\n",
       "      <th>mortality_90d</th>\n",
       "      <th>...</th>\n",
       "      <th>mechvent</th>\n",
       "      <th>Shock_Index</th>\n",
       "      <th>PaO2_FiO2</th>\n",
       "      <th>median_dose_vaso</th>\n",
       "      <th>max_dose_vaso</th>\n",
       "      <th>input_total</th>\n",
       "      <th>input_1hourly</th>\n",
       "      <th>output_total</th>\n",
       "      <th>output_1hourly</th>\n",
       "      <th>cumulated_balance</th>\n",
       "    </tr>\n",
       "  </thead>\n",
       "  <tbody>\n",
       "    <tr>\n",
       "      <th>0</th>\n",
       "      <td>1</td>\n",
       "      <td>65537</td>\n",
       "      <td>7.139723e+09</td>\n",
       "      <td>0.0</td>\n",
       "      <td>22799.40478</td>\n",
       "      <td>4.0</td>\n",
       "      <td>1.0</td>\n",
       "      <td>0.0</td>\n",
       "      <td>0.0</td>\n",
       "      <td>0.0</td>\n",
       "      <td>...</td>\n",
       "      <td>0.0</td>\n",
       "      <td>0.687500</td>\n",
       "      <td>363.888889</td>\n",
       "      <td>0.18</td>\n",
       "      <td>0.18</td>\n",
       "      <td>4020.493550</td>\n",
       "      <td>29.994183</td>\n",
       "      <td>7235.0</td>\n",
       "      <td>3605.0</td>\n",
       "      <td>-3184.512267</td>\n",
       "    </tr>\n",
       "    <tr>\n",
       "      <th>1</th>\n",
       "      <td>2</td>\n",
       "      <td>65537</td>\n",
       "      <td>7.139727e+09</td>\n",
       "      <td>0.0</td>\n",
       "      <td>22799.40478</td>\n",
       "      <td>4.0</td>\n",
       "      <td>1.0</td>\n",
       "      <td>0.0</td>\n",
       "      <td>0.0</td>\n",
       "      <td>0.0</td>\n",
       "      <td>...</td>\n",
       "      <td>0.0</td>\n",
       "      <td>0.602564</td>\n",
       "      <td>430.555556</td>\n",
       "      <td>0.00</td>\n",
       "      <td>0.00</td>\n",
       "      <td>4050.487733</td>\n",
       "      <td>515.407667</td>\n",
       "      <td>10760.0</td>\n",
       "      <td>3525.0</td>\n",
       "      <td>-6194.104600</td>\n",
       "    </tr>\n",
       "    <tr>\n",
       "      <th>2</th>\n",
       "      <td>3</td>\n",
       "      <td>65537</td>\n",
       "      <td>7.139731e+09</td>\n",
       "      <td>0.0</td>\n",
       "      <td>22799.40478</td>\n",
       "      <td>4.0</td>\n",
       "      <td>1.0</td>\n",
       "      <td>0.0</td>\n",
       "      <td>0.0</td>\n",
       "      <td>0.0</td>\n",
       "      <td>...</td>\n",
       "      <td>0.0</td>\n",
       "      <td>0.751456</td>\n",
       "      <td>402.222222</td>\n",
       "      <td>0.00</td>\n",
       "      <td>0.00</td>\n",
       "      <td>4565.895400</td>\n",
       "      <td>547.876700</td>\n",
       "      <td>14235.0</td>\n",
       "      <td>3475.0</td>\n",
       "      <td>-9121.227900</td>\n",
       "    </tr>\n",
       "    <tr>\n",
       "      <th>3</th>\n",
       "      <td>4</td>\n",
       "      <td>65537</td>\n",
       "      <td>7.139734e+09</td>\n",
       "      <td>0.0</td>\n",
       "      <td>22799.40478</td>\n",
       "      <td>4.0</td>\n",
       "      <td>1.0</td>\n",
       "      <td>0.0</td>\n",
       "      <td>0.0</td>\n",
       "      <td>0.0</td>\n",
       "      <td>...</td>\n",
       "      <td>0.0</td>\n",
       "      <td>0.804762</td>\n",
       "      <td>275.000000</td>\n",
       "      <td>0.00</td>\n",
       "      <td>0.00</td>\n",
       "      <td>5113.772100</td>\n",
       "      <td>2097.144000</td>\n",
       "      <td>17630.0</td>\n",
       "      <td>3395.0</td>\n",
       "      <td>-10419.083900</td>\n",
       "    </tr>\n",
       "    <tr>\n",
       "      <th>4</th>\n",
       "      <td>5</td>\n",
       "      <td>65537</td>\n",
       "      <td>7.139738e+09</td>\n",
       "      <td>0.0</td>\n",
       "      <td>22799.40478</td>\n",
       "      <td>4.0</td>\n",
       "      <td>1.0</td>\n",
       "      <td>0.0</td>\n",
       "      <td>0.0</td>\n",
       "      <td>0.0</td>\n",
       "      <td>...</td>\n",
       "      <td>0.0</td>\n",
       "      <td>0.804245</td>\n",
       "      <td>283.000000</td>\n",
       "      <td>0.00</td>\n",
       "      <td>0.00</td>\n",
       "      <td>7210.916100</td>\n",
       "      <td>519.833583</td>\n",
       "      <td>20785.0</td>\n",
       "      <td>3155.0</td>\n",
       "      <td>-13054.250317</td>\n",
       "    </tr>\n",
       "  </tbody>\n",
       "</table>\n",
       "<p>5 rows × 59 columns</p>\n",
       "</div>"
      ],
      "text/plain": [
       "   bloc  icustay_id     charttime  gender          age  elixhauser  \\\n",
       "0     1       65537  7.139723e+09     0.0  22799.40478         4.0   \n",
       "1     2       65537  7.139727e+09     0.0  22799.40478         4.0   \n",
       "2     3       65537  7.139731e+09     0.0  22799.40478         4.0   \n",
       "3     4       65537  7.139734e+09     0.0  22799.40478         4.0   \n",
       "4     5       65537  7.139738e+09     0.0  22799.40478         4.0   \n",
       "\n",
       "   re_admission  died_in_hosp  died_within_48h_of_out_time  mortality_90d  \\\n",
       "0           1.0           0.0                          0.0            0.0   \n",
       "1           1.0           0.0                          0.0            0.0   \n",
       "2           1.0           0.0                          0.0            0.0   \n",
       "3           1.0           0.0                          0.0            0.0   \n",
       "4           1.0           0.0                          0.0            0.0   \n",
       "\n",
       "   ...  mechvent  Shock_Index   PaO2_FiO2  median_dose_vaso  max_dose_vaso  \\\n",
       "0  ...       0.0     0.687500  363.888889              0.18           0.18   \n",
       "1  ...       0.0     0.602564  430.555556              0.00           0.00   \n",
       "2  ...       0.0     0.751456  402.222222              0.00           0.00   \n",
       "3  ...       0.0     0.804762  275.000000              0.00           0.00   \n",
       "4  ...       0.0     0.804245  283.000000              0.00           0.00   \n",
       "\n",
       "   input_total  input_1hourly  output_total  output_1hourly  cumulated_balance  \n",
       "0  4020.493550      29.994183        7235.0          3605.0       -3184.512267  \n",
       "1  4050.487733     515.407667       10760.0          3525.0       -6194.104600  \n",
       "2  4565.895400     547.876700       14235.0          3475.0       -9121.227900  \n",
       "3  5113.772100    2097.144000       17630.0          3395.0      -10419.083900  \n",
       "4  7210.916100     519.833583       20785.0          3155.0      -13054.250317  \n",
       "\n",
       "[5 rows x 59 columns]"
      ]
     },
     "execution_count": 29,
     "metadata": {},
     "output_type": "execute_result"
    }
   ],
   "source": [
    "MIMICtable.head()"
   ]
  },
  {
   "cell_type": "code",
   "execution_count": 30,
   "metadata": {},
   "outputs": [
    {
     "name": "stderr",
     "output_type": "stream",
     "text": [
      "100%|██████████| 15/15 [00:03<00:00,  4.24it/s]\n"
     ]
    }
   ],
   "source": [
    "models_dir = '/data/localhost/taufiq/manski_bounds_bootstrap_pulse_data_augmented/'\n",
    "scores = pd.DataFrame()\n",
    "for col_name in tqdm(cols):\n",
    "    a = torch.FloatTensor(MIMICtable_val_t0['A'].values).to(torch.long)-1\n",
    "    score, _, _, _ = compute_score_tensor_updated(obs_input, sim_input, a, col_name, models_dir)              \n",
    "    scoresdf = MIMICtable_val_t0.copy()\n",
    "    scoresdf['col'] = col_name\n",
    "    scoresdf['Scores'] = score\n",
    "    scores = scores.append(scoresdf, ignore_index=True)"
   ]
  },
  {
   "cell_type": "code",
   "execution_count": 31,
   "metadata": {},
   "outputs": [],
   "source": [
    "# import seaborn as sns\n",
    "# x1 = scores.loc[scores['col']=='paCO2', ['Scores']]\n",
    "# x2 = scores.loc[scores['col']=='Temp_C', ['Scores']]\n",
    "# x3 = scores.loc[scores['col']=='HR', ['Scores']]\n",
    "\n",
    "# # plot\n",
    "# fig, axes = plt.subplots(3, 1, figsize=(3, 6), sharey=True, sharex=True)\n",
    "# sns.distplot(x1 , color=\"dodgerblue\", ax=axes[0], axlabel='paCO2')\n",
    "# sns.distplot(x2 , color=\"deeppink\", ax=axes[1], axlabel='Temp_C')\n",
    "# sns.distplot(x3 , color=\"gold\", ax=axes[2], axlabel='HR')\n",
    "# plt.xlim(0,1)"
   ]
  },
  {
   "cell_type": "code",
   "execution_count": 32,
   "metadata": {},
   "outputs": [
    {
     "data": {
      "text/plain": [
       "<seaborn.axisgrid.FacetGrid at 0x7f67b2077880>"
      ]
     },
     "execution_count": 32,
     "metadata": {},
     "output_type": "execute_result"
    },
    {
     "data": {
      "image/png": "[encoded data removed]",
      "text/plain": [
       "<Figure size 720x1080 with 1 Axes>"
      ]
     },
     "metadata": {
      "needs_background": "light"
     },
     "output_type": "display_data"
    },
    {
     "data": {
      "image/png": "[encoded data removed]",
      "text/plain": [
       "<Figure size 360x360 with 1 Axes>"
      ]
     },
     "metadata": {
      "needs_background": "light"
     },
     "output_type": "display_data"
    }
   ],
   "source": [
    "import seaborn as sns\n",
    "fig, axs = plt.subplots(1, figsize=(10,15))\n",
    "sns.catplot(x='Scores',y='col', data=scores, ax=axs, kind=\"boxen\")"
   ]
  },
  {
   "cell_type": "code",
   "execution_count": 103,
   "metadata": {},
   "outputs": [
    {
     "name": "stderr",
     "output_type": "stream",
     "text": [
      "100%|██████████| 15/15 [00:03<00:00,  4.82it/s]\n"
     ]
    }
   ],
   "source": [
    "# compute_score_tensor_updated(obs_input, sim_input, action, col_name, models_dir)\n",
    "models_dir = '/data/localhost/taufiq/manski_bounds_bootstrap_3/'\n",
    "scores = pd.DataFrame()\n",
    "for col_name in tqdm(cols):\n",
    "    a = torch.FloatTensor(MIMICtable_val_t0['A'].values).to(torch.long)-1\n",
    "    score, _, _, _ = compute_score_tensor_updated(obs_input, sim_input, a, col_name, models_dir)              \n",
    "    scoresdf = MIMICtable_val_t0.copy()\n",
    "    scoresdf['col'] = col_name\n",
    "    scoresdf['Scores'] = score\n",
    "    scores = scores.append(scoresdf, ignore_index=True)"
   ]
  },
  {
   "cell_type": "code",
   "execution_count": 104,
   "metadata": {},
   "outputs": [
    {
     "data": {
      "text/plain": [
       "<seaborn.axisgrid.FacetGrid at 0x7f04b9e63ac0>"
      ]
     },
     "execution_count": 104,
     "metadata": {},
     "output_type": "execute_result"
    },
    {
     "data": {
      "image/png": "[encoded data removed]",
      "text/plain": [
       "<Figure size 720x1080 with 1 Axes>"
      ]
     },
     "metadata": {
      "needs_background": "light"
     },
     "output_type": "display_data"
    },
    {
     "data": {
      "image/png": "[encoded data removed]",
      "text/plain": [
       "<Figure size 360x360 with 1 Axes>"
      ]
     },
     "metadata": {
      "needs_background": "light"
     },
     "output_type": "display_data"
    }
   ],
   "source": [
    "import seaborn as sns\n",
    "fig, axs = plt.subplots(1, figsize=(10,15))\n",
    "sns.catplot(x='Scores',y='col', data=scores, ax=axs, kind=\"boxen\")"
   ]
  },
  {
   "cell_type": "code",
   "execution_count": 26,
   "metadata": {},
   "outputs": [
    {
     "data": {
      "text/plain": [
       "<seaborn.axisgrid.FacetGrid at 0x7f1eeabc5fa0>"
      ]
     },
     "execution_count": 26,
     "metadata": {},
     "output_type": "execute_result"
    },
    {
     "data": {
      "image/png": "[encoded data removed]",
      "text/plain": [
       "<Figure size 720x1080 with 1 Axes>"
      ]
     },
     "metadata": {
      "needs_background": "light"
     },
     "output_type": "display_data"
    },
    {
     "data": {
      "image/png": "[encoded data removed]",
      "text/plain": [
       "<Figure size 360x360 with 1 Axes>"
      ]
     },
     "metadata": {
      "needs_background": "light"
     },
     "output_type": "display_data"
    }
   ],
   "source": [
    "import seaborn as sns\n",
    "fig, axs = plt.subplots(1, figsize=(10,15))\n",
    "sns.catplot(x='Scores',y='col', data=scores, ax=axs, kind=\"boxen\")"
   ]
  },
  {
   "cell_type": "code",
   "execution_count": 44,
   "metadata": {},
   "outputs": [
    {
     "data": {
      "text/plain": [
       "<matplotlib.axes._subplots.AxesSubplot at 0x7face8f703a0>"
      ]
     },
     "execution_count": 44,
     "metadata": {},
     "output_type": "execute_result"
    },
    {
     "data": {
      "image/png": "[encoded data removed]",
      "text/plain": [
       "<Figure size 432x288 with 1 Axes>"
      ]
     },
     "metadata": {
      "needs_background": "light"
     },
     "output_type": "display_data"
    }
   ],
   "source": [
    "col_name = \"RR\"\n",
    "df = MIMICtable_val_t0.copy()\n",
    "score, lb, sim, ub = compute_score_tensor_updated(obs_input, sim_input, a, col_name, models_dir)\n",
    "df['scores'] = score\n",
    "df['lb'] = lb*MIMICtable[col_name].std() + MIMICtable[col_name].mean()\n",
    "df['sim'] = sim*MIMICtable[col_name].std() + MIMICtable[col_name].mean()\n",
    "df['ub'] = ub*MIMICtable[col_name].std() + MIMICtable[col_name].mean()\n",
    "df[['lb', 'sim', 'ub']].plot(kind='hist', alpha=0.5, bins=100)"
   ]
  },
  {
   "cell_type": "markdown",
   "metadata": {},
   "source": [
    "# Comparing causal scores with MSE"
   ]
  },
  {
   "cell_type": "code",
   "execution_count": 105,
   "metadata": {},
   "outputs": [],
   "source": [
    "def compute_mse(sim_input, action, col_name, models_dir):\n",
    "    loss_func = torch.nn.MSELoss()\n",
    "    loss = 0\n",
    "    for i in range(nr_reps):\n",
    "        ysim_model = Net(n_feature=sim_input.shape[1] + 1, n_hidden=10, n_output=1)\n",
    "        ysim_model.load_state_dict(torch.load(f'{models_dir}/ysim_{col_name}_{i}'))\n",
    "        ysim_model.eval()\n",
    "        with torch.no_grad():\n",
    "            Y = torch.FloatTensor(MIMICtable_val_t1.loc[MIMICtable_val_t0['A']==action, col_name].values).unsqueeze(dim=1)\n",
    "            action_tensor = torch.tensor([action]*sim_input.shape[0]).to(torch.long)\n",
    "            prediction = ysim_model(torch.column_stack((sim_input, action_tensor)))*MIMICtable[col_name].std() + MIMICtable[col_name].mean()\n",
    "            loss += loss_func(prediction, Y)\n",
    "    return loss/nr_reps\n"
   ]
  },
  {
   "cell_type": "code",
   "execution_count": 106,
   "metadata": {},
   "outputs": [],
   "source": [
    "def compute_mse(sim_input, action_tensor, Y, col_name, models_dir):\n",
    "    loss = 0\n",
    "    for i in range(nr_reps):\n",
    "        ysim_model = Net(n_feature=sim_input.shape[1] + 1, n_hidden=10, n_output=1)\n",
    "        ysim_model.load_state_dict(torch.load(f'{models_dir}/ysim_{col_name}_{i}'))\n",
    "        ysim_model.eval()\n",
    "        with torch.no_grad():\n",
    "            prediction = ysim_model(torch.column_stack((sim_input, action_tensor)))*MIMICtable[col_name].std() + MIMICtable[col_name].mean()\n",
    "            loss += torch.square(prediction-Y)\n",
    "    return loss/nr_reps"
   ]
  },
  {
   "cell_type": "code",
   "execution_count": 107,
   "metadata": {},
   "outputs": [],
   "source": [
    "def compute_mse_sofa(sim_input, action, col_name, models_dir, s):\n",
    "    loss_func = torch.nn.MSELoss()\n",
    "    loss = 0\n",
    "    for i in range(nr_reps):\n",
    "        ysim_model = Net(n_feature=sim_input.shape[1] + 1, n_hidden=10, n_output=1)\n",
    "        ysim_model.load_state_dict(torch.load(f'{models_dir}/ysim_{col_name}_{i}'))\n",
    "        ysim_model.eval()\n",
    "        with torch.no_grad():\n",
    "            Y = torch.FloatTensor(MIMICtable_val_t1.loc[(MIMICtable_val_t0['A']==action) & ((MIMICtable_val_t0['SOFA'].between((s-1)*6 , s*6-1))), col_name].values).unsqueeze(dim=1)\n",
    "            action_tensor = torch.tensor([action]*sim_input.shape[0]).to(torch.long)\n",
    "            prediction = ysim_model(torch.column_stack((sim_input, action_tensor)))*MIMICtable[col_name].std() + MIMICtable[col_name].mean()\n",
    "            loss += loss_func(prediction, Y)\n",
    "    return loss/nr_reps\n"
   ]
  },
  {
   "cell_type": "code",
   "execution_count": 108,
   "metadata": {},
   "outputs": [],
   "source": [
    "def compute_kll(sim_input, action, col_name, models_dir):\n",
    "    loss_func = torch.nn.KLDivLoss(reduction='batchmean')\n",
    "    loss = 0\n",
    "    for i in range(nr_reps):\n",
    "        ysim_model = Net(n_feature=sim_input.shape[1] + 1, n_hidden=10, n_output=1)\n",
    "        ysim_model.load_state_dict(torch.load(f'{models_dir}/ysim_{col_name}_{i}'))\n",
    "        ysim_model.eval()\n",
    "        with torch.no_grad():\n",
    "            Y = torch.FloatTensor(MIMICtable_val_t1.loc[MIMICtable_val_t0['A']==action, col_name].values).unsqueeze(dim=1)\n",
    "            action_tensor = torch.tensor([action]*sim_input.shape[0]).to(torch.long)\n",
    "            prediction = ysim_model(torch.column_stack((sim_input, action_tensor)))*MIMICtable[col_name].std() + MIMICtable[col_name].mean()\n",
    "            loss += loss_func(torch.log(prediction), Y)\n",
    "    return loss/nr_reps"
   ]
  },
  {
   "cell_type": "code",
   "execution_count": 49,
   "metadata": {},
   "outputs": [
    {
     "name": "stderr",
     "output_type": "stream",
     "text": [
      "100%|██████████| 25/25 [00:07<00:00,  3.16it/s]\n"
     ]
    }
   ],
   "source": [
    "col_name = \"HR\"\n",
    "scores_mse = pd.DataFrame()\n",
    "actions = MIMICtable_val_t0['A'].unique()\n",
    "for a in tqdm(actions):\n",
    "    obs_input = torch.FloatTensor(MIMICvalraw.loc[MIMICtable_val_t0['A']==a].values)\n",
    "    sim_input = torch.FloatTensor(pulsevalraw.loc[MIMICtable_val_t0['A']==a].values)\n",
    "    action_tensor = torch.tensor([a]*len(obs_input)).to(torch.long)-1\n",
    "    score, _, _, _ = compute_score_tensor_updated(obs_input, sim_input, action_tensor, col_name, models_dir)\n",
    "    Y = torch.FloatTensor(MIMICtable_val_t1.loc[MIMICtable_val_t0['A']==a, col_name].values).unsqueeze(dim=1)\n",
    "    \n",
    "    mse = compute_mse(sim_input, action_tensor, Y, col_name, models_dir)\n",
    "    kld = compute_kll(sim_input, a, col_name, models_dir)\n",
    "    scores_mse = scores_mse.append({'Action': int(a), 'score': score.mean().item(), 'mse': mse.mean().item()}, ignore_index=True)"
   ]
  },
  {
   "cell_type": "code",
   "execution_count": 50,
   "metadata": {},
   "outputs": [
    {
     "data": {
      "text/html": [
       "<div>\n",
       "<style scoped>\n",
       "    .dataframe tbody tr th:only-of-type {\n",
       "        vertical-align: middle;\n",
       "    }\n",
       "\n",
       "    .dataframe tbody tr th {\n",
       "        vertical-align: top;\n",
       "    }\n",
       "\n",
       "    .dataframe thead th {\n",
       "        text-align: right;\n",
       "    }\n",
       "</style>\n",
       "<table border=\"1\" class=\"dataframe\">\n",
       "  <thead>\n",
       "    <tr style=\"text-align: right;\">\n",
       "      <th></th>\n",
       "      <th>Action</th>\n",
       "      <th>mse</th>\n",
       "      <th>score</th>\n",
       "    </tr>\n",
       "  </thead>\n",
       "  <tbody>\n",
       "    <tr>\n",
       "      <th>17</th>\n",
       "      <td>1</td>\n",
       "      <td>101057.437500</td>\n",
       "      <td>0.072500</td>\n",
       "    </tr>\n",
       "    <tr>\n",
       "      <th>3</th>\n",
       "      <td>2</td>\n",
       "      <td>136049.875000</td>\n",
       "      <td>0.099467</td>\n",
       "    </tr>\n",
       "    <tr>\n",
       "      <th>2</th>\n",
       "      <td>3</td>\n",
       "      <td>100003.375000</td>\n",
       "      <td>0.113198</td>\n",
       "    </tr>\n",
       "    <tr>\n",
       "      <th>1</th>\n",
       "      <td>4</td>\n",
       "      <td>111008.312500</td>\n",
       "      <td>0.063505</td>\n",
       "    </tr>\n",
       "    <tr>\n",
       "      <th>0</th>\n",
       "      <td>5</td>\n",
       "      <td>89327.609375</td>\n",
       "      <td>0.114609</td>\n",
       "    </tr>\n",
       "  </tbody>\n",
       "</table>\n",
       "</div>"
      ],
      "text/plain": [
       "    Action            mse     score\n",
       "17       1  101057.437500  0.072500\n",
       "3        2  136049.875000  0.099467\n",
       "2        3  100003.375000  0.113198\n",
       "1        4  111008.312500  0.063505\n",
       "0        5   89327.609375  0.114609"
      ]
     },
     "execution_count": 50,
     "metadata": {},
     "output_type": "execute_result"
    }
   ],
   "source": [
    "scores_mse['Action'] = scores_mse['Action'].astype(int)\n",
    "scores_mse.sort_values('Action', ascending=True, inplace=True)\n",
    "scores_mse.head()"
   ]
  },
  {
   "cell_type": "markdown",
   "metadata": {},
   "source": [
    "# Getting scores for different SOFA scores"
   ]
  },
  {
   "cell_type": "code",
   "execution_count": 36,
   "metadata": {},
   "outputs": [
    {
     "name": "stderr",
     "output_type": "stream",
     "text": [
      "100%|██████████| 16/16 [00:09<00:00,  1.67it/s]\n"
     ]
    }
   ],
   "source": [
    "# col_name = \"HR\"\n",
    "# scores = pd.DataFrame()\n",
    "# actions = MIMICtable_val_t0['A'].unique()\n",
    "# for a in tqdm(actions):\n",
    "#     for s in range(1,5):\n",
    "#         obs_input = torch.FloatTensor(MIMICvalraw.loc[(MIMICtable_val_t0['A']==a) & (MIMICtable_val_t0['SOFA'].between((s-1)*6 , s*6-1))].values)\n",
    "#         sim_input = torch.FloatTensor(pulsevalraw.loc[(MIMICtable_val_t0['A']==a) & (MIMICtable_val_t0['SOFA'].between((s-1)*6 , s*6-1))].values)\n",
    "#         if len(obs_input) > 0:\n",
    "#             action_tensor = torch.tensor([a]*len(obs_input)).to(torch.long)\n",
    "#             score, _, _, _ = compute_score_tensor_updated(obs_input, sim_input, action_tensor, col_name, models_dir)\n",
    "#             mse = compute_mse_sofa(sim_input, a, col_name, models_dir, s)\n",
    "#             scores = scores.append({'Action': int(a), 'score': score.mean().item(), 'mse': mse.item(), 'SOFA': f'{(s-1)*6} - {s*6-1}' }, ignore_index=True)"
   ]
  },
  {
   "cell_type": "code",
   "execution_count": 111,
   "metadata": {},
   "outputs": [],
   "source": [
    "sofa_df = scores.loc[scores['col']=='MeanBP', ['SOFA', 'Scores']]\n",
    "\n",
    "for index, row in sofa_df.iterrows():\n",
    "    if row['SOFA'] >= 0 and row['SOFA'] < 3:\n",
    "        sofa_df.loc[index, 'SOFA bin'] = '0-2'\n",
    "    elif row['SOFA'] >= 3 and row['SOFA'] < 6:\n",
    "        sofa_df.loc[index, 'SOFA bin'] = '3-5'\n",
    "    elif row['SOFA'] >= 6 and row['SOFA'] < 9:\n",
    "        sofa_df.loc[index, 'SOFA bin'] = '6-8'\n",
    "    elif row['SOFA'] >= 9 and row['SOFA'] < 12:\n",
    "        sofa_df.loc[index, 'SOFA bin'] = '9-11'\n",
    "    elif row['SOFA'] >= 12 and row['SOFA'] < 15:\n",
    "        sofa_df.loc[index, 'SOFA bin'] = '12-14'\n",
    "    elif row['SOFA'] >= 15 and row['SOFA'] < 18:\n",
    "        sofa_df.loc[index, 'SOFA bin'] = '15-17'\n",
    "    else:\n",
    "        sofa_df.loc[index, 'SOFA bin'] = '17-24'"
   ]
  },
  {
   "cell_type": "code",
   "execution_count": 112,
   "metadata": {},
   "outputs": [
    {
     "data": {
      "text/plain": [
       "<seaborn.axisgrid.FacetGrid at 0x7face5505fa0>"
      ]
     },
     "execution_count": 112,
     "metadata": {},
     "output_type": "execute_result"
    },
    {
     "data": {
      "image/png": "[encoded data removed]",
      "text/plain": [
       "<Figure size 432x576 with 1 Axes>"
      ]
     },
     "metadata": {
      "needs_background": "light"
     },
     "output_type": "display_data"
    },
    {
     "data": {
      "image/png": "[encoded data removed]",
      "text/plain": [
       "<Figure size 360x360 with 1 Axes>"
      ]
     },
     "metadata": {
      "needs_background": "light"
     },
     "output_type": "display_data"
    }
   ],
   "source": [
    "fig, axs = plt.subplots(1, figsize=(6,8))\n",
    "sns.catplot(x='Scores',y='SOFA bin', data=sofa_df, ax=axs, kind=\"boxen\")"
   ]
  },
  {
   "cell_type": "code",
   "execution_count": 38,
   "metadata": {},
   "outputs": [
    {
     "data": {
      "text/plain": [
       "<seaborn.axisgrid.FacetGrid at 0x7fd307df9a30>"
      ]
     },
     "execution_count": 38,
     "metadata": {},
     "output_type": "execute_result"
    },
    {
     "data": {
      "image/png": "[encoded data removed]",
      "text/plain": [
       "<Figure size 432x576 with 1 Axes>"
      ]
     },
     "metadata": {
      "needs_background": "light"
     },
     "output_type": "display_data"
    },
    {
     "data": {
      "image/png": "[encoded data removed]",
      "text/plain": [
       "<Figure size 360x360 with 1 Axes>"
      ]
     },
     "metadata": {
      "needs_background": "light"
     },
     "output_type": "display_data"
    }
   ],
   "source": [
    "fig, axs = plt.subplots(1, figsize=(6,8))\n",
    "sns.catplot(x='Scores',y='SOFA bin', data=sofa_df, ax=axs, kind=\"boxen\")"
   ]
  },
  {
   "cell_type": "markdown",
   "metadata": {},
   "source": [
    "# Scores vs doses and MSE vs doses"
   ]
  },
  {
   "cell_type": "code",
   "execution_count": 167,
   "metadata": {},
   "outputs": [
    {
     "data": {
      "text/html": [
       "<div>\n",
       "<style scoped>\n",
       "    .dataframe tbody tr th:only-of-type {\n",
       "        vertical-align: middle;\n",
       "    }\n",
       "\n",
       "    .dataframe tbody tr th {\n",
       "        vertical-align: top;\n",
       "    }\n",
       "\n",
       "    .dataframe thead th {\n",
       "        text-align: right;\n",
       "    }\n",
       "</style>\n",
       "<table border=\"1\" class=\"dataframe\">\n",
       "  <thead>\n",
       "    <tr style=\"text-align: right;\">\n",
       "      <th></th>\n",
       "      <th>IV</th>\n",
       "      <th>VC</th>\n",
       "    </tr>\n",
       "  </thead>\n",
       "  <tbody>\n",
       "    <tr>\n",
       "      <th>0</th>\n",
       "      <td>20.453033</td>\n",
       "      <td>0.202</td>\n",
       "    </tr>\n",
       "    <tr>\n",
       "      <th>1</th>\n",
       "      <td>0.000000</td>\n",
       "      <td>0.000</td>\n",
       "    </tr>\n",
       "    <tr>\n",
       "      <th>2</th>\n",
       "      <td>78.770000</td>\n",
       "      <td>0.000</td>\n",
       "    </tr>\n",
       "    <tr>\n",
       "      <th>3</th>\n",
       "      <td>255.750000</td>\n",
       "      <td>0.000</td>\n",
       "    </tr>\n",
       "    <tr>\n",
       "      <th>4</th>\n",
       "      <td>10.000000</td>\n",
       "      <td>0.000</td>\n",
       "    </tr>\n",
       "    <tr>\n",
       "      <th>5</th>\n",
       "      <td>20.453033</td>\n",
       "      <td>0.000</td>\n",
       "    </tr>\n",
       "    <tr>\n",
       "      <th>6</th>\n",
       "      <td>10.000000</td>\n",
       "      <td>0.100</td>\n",
       "    </tr>\n",
       "    <tr>\n",
       "      <th>7</th>\n",
       "      <td>0.000000</td>\n",
       "      <td>0.033</td>\n",
       "    </tr>\n",
       "    <tr>\n",
       "      <th>8</th>\n",
       "      <td>255.750000</td>\n",
       "      <td>0.100</td>\n",
       "    </tr>\n",
       "    <tr>\n",
       "      <th>9</th>\n",
       "      <td>78.770000</td>\n",
       "      <td>0.541</td>\n",
       "    </tr>\n",
       "    <tr>\n",
       "      <th>10</th>\n",
       "      <td>255.750000</td>\n",
       "      <td>0.033</td>\n",
       "    </tr>\n",
       "    <tr>\n",
       "      <th>11</th>\n",
       "      <td>20.453033</td>\n",
       "      <td>0.033</td>\n",
       "    </tr>\n",
       "    <tr>\n",
       "      <th>12</th>\n",
       "      <td>78.770000</td>\n",
       "      <td>0.033</td>\n",
       "    </tr>\n",
       "    <tr>\n",
       "      <th>13</th>\n",
       "      <td>10.000000</td>\n",
       "      <td>0.033</td>\n",
       "    </tr>\n",
       "    <tr>\n",
       "      <th>14</th>\n",
       "      <td>255.750000</td>\n",
       "      <td>0.202</td>\n",
       "    </tr>\n",
       "    <tr>\n",
       "      <th>15</th>\n",
       "      <td>0.000000</td>\n",
       "      <td>0.202</td>\n",
       "    </tr>\n",
       "    <tr>\n",
       "      <th>16</th>\n",
       "      <td>20.453033</td>\n",
       "      <td>0.541</td>\n",
       "    </tr>\n",
       "    <tr>\n",
       "      <th>17</th>\n",
       "      <td>0.000000</td>\n",
       "      <td>0.100</td>\n",
       "    </tr>\n",
       "    <tr>\n",
       "      <th>18</th>\n",
       "      <td>0.000000</td>\n",
       "      <td>0.541</td>\n",
       "    </tr>\n",
       "    <tr>\n",
       "      <th>19</th>\n",
       "      <td>78.770000</td>\n",
       "      <td>0.100</td>\n",
       "    </tr>\n",
       "    <tr>\n",
       "      <th>20</th>\n",
       "      <td>10.000000</td>\n",
       "      <td>0.541</td>\n",
       "    </tr>\n",
       "    <tr>\n",
       "      <th>21</th>\n",
       "      <td>255.750000</td>\n",
       "      <td>0.541</td>\n",
       "    </tr>\n",
       "    <tr>\n",
       "      <th>22</th>\n",
       "      <td>20.453033</td>\n",
       "      <td>0.100</td>\n",
       "    </tr>\n",
       "    <tr>\n",
       "      <th>23</th>\n",
       "      <td>78.770000</td>\n",
       "      <td>0.202</td>\n",
       "    </tr>\n",
       "    <tr>\n",
       "      <th>24</th>\n",
       "      <td>10.000000</td>\n",
       "      <td>0.202</td>\n",
       "    </tr>\n",
       "  </tbody>\n",
       "</table>\n",
       "</div>"
      ],
      "text/plain": [
       "            IV     VC\n",
       "0    20.453033  0.202\n",
       "1     0.000000  0.000\n",
       "2    78.770000  0.000\n",
       "3   255.750000  0.000\n",
       "4    10.000000  0.000\n",
       "5    20.453033  0.000\n",
       "6    10.000000  0.100\n",
       "7     0.000000  0.033\n",
       "8   255.750000  0.100\n",
       "9    78.770000  0.541\n",
       "10  255.750000  0.033\n",
       "11   20.453033  0.033\n",
       "12   78.770000  0.033\n",
       "13   10.000000  0.033\n",
       "14  255.750000  0.202\n",
       "15    0.000000  0.202\n",
       "16   20.453033  0.541\n",
       "17    0.000000  0.100\n",
       "18    0.000000  0.541\n",
       "19   78.770000  0.100\n",
       "20   10.000000  0.541\n",
       "21  255.750000  0.541\n",
       "22   20.453033  0.100\n",
       "23   78.770000  0.202\n",
       "24   10.000000  0.202"
      ]
     },
     "execution_count": 167,
     "metadata": {},
     "output_type": "execute_result"
    }
   ],
   "source": [
    "uniqueValueDoses"
   ]
  },
  {
   "cell_type": "code",
   "execution_count": 130,
   "metadata": {},
   "outputs": [],
   "source": [
    "def get_vaso_median(vaso):\n",
    "    for v in range(1, 6):\n",
    "        if vaso <= MIMICtable_filtered_t0.loc[vc==v, 'max_dose_vaso'].min():\n",
    "            return round(ma2[v-1], 2)\n",
    "        if (vaso <= MIMICtable_filtered_t0.loc[vc==v, 'max_dose_vaso'].max()) and (vaso >= MIMICtable_filtered_t0.loc[vc==v, 'max_dose_vaso'].min()):\n",
    "            return round(ma2[v-1], 2)\n",
    "\n",
    "def get_iv_median(iv_vol):\n",
    "    for iv in range(1, 6):\n",
    "        if iv_vol <= MIMICtable_filtered_t0.loc[io==iv, 'input_1hourly'].min():\n",
    "            return round(ma1[iv-1], 2)\n",
    "        if (iv_vol <= MIMICtable_filtered_t0.loc[io==iv, 'input_1hourly'].max()) and (iv_vol >= MIMICtable_filtered_t0.loc[io==iv, 'input_1hourly'].min()):\n",
    "            return round(ma1[iv-1], 2)"
   ]
  },
  {
   "cell_type": "code",
   "execution_count": 161,
   "metadata": {},
   "outputs": [],
   "source": [
    "col_name=\"MeanBP\"\n",
    "scores_doses = scores.loc[scores['col']==col_name, ['input_1hourly', 'max_dose_vaso', 'Scores']].reset_index(drop=True)\n",
    "for index, row in scores_doses.iterrows():\n",
    "    scores_doses.loc[index, 'Vasopressor dose'] = get_vaso_median(row['max_dose_vaso'])\n",
    "    scores_doses.loc[index, 'IV dose'] = get_iv_median(row['input_1hourly'])"
   ]
  },
  {
   "cell_type": "code",
   "execution_count": 162,
   "metadata": {},
   "outputs": [],
   "source": [
    "obs_input = torch.FloatTensor(MIMICvalraw.values)\n",
    "sim_input = torch.FloatTensor(pulsevalraw.values)\n",
    "Y = torch.FloatTensor(MIMICtable_val_t1[col_name]).unsqueeze(dim=1)\n",
    "A = torch.FloatTensor(MIMICtable_val_t0['A'].values).unsqueeze(dim=1)-1\n",
    "mse = compute_mse(sim_input, A, Y, col_name, models_dir)\n",
    "scores_doses['MSE'] = mse.numpy()"
   ]
  },
  {
   "cell_type": "code",
   "execution_count": 163,
   "metadata": {},
   "outputs": [
    {
     "data": {
      "text/plain": [
       "<matplotlib.axes._subplots.AxesSubplot at 0x7f04ba55d940>"
      ]
     },
     "execution_count": 163,
     "metadata": {},
     "output_type": "execute_result"
    },
    {
     "data": {
      "image/png": "[encoded data removed]",
      "text/plain": [
       "<Figure size 432x288 with 2 Axes>"
      ]
     },
     "metadata": {
      "needs_background": "light"
     },
     "output_type": "display_data"
    }
   ],
   "source": [
    "scores_doses_pivot = scores_doses.pivot_table(index=\"Vasopressor dose\", columns=\"IV dose\", values=\"Scores\", aggfunc=np.mean)\n",
    "sns.heatmap(scores_doses_pivot, annot=True, fmt='.2f', cmap=\"mako\")"
   ]
  },
  {
   "cell_type": "code",
   "execution_count": 164,
   "metadata": {},
   "outputs": [
    {
     "data": {
      "text/plain": [
       "<matplotlib.axes._subplots.AxesSubplot at 0x7f04ba420250>"
      ]
     },
     "execution_count": 164,
     "metadata": {},
     "output_type": "execute_result"
    },
    {
     "data": {
      "image/png": "[encoded data removed]",
      "text/plain": [
       "<Figure size 432x288 with 2 Axes>"
      ]
     },
     "metadata": {
      "needs_background": "light"
     },
     "output_type": "display_data"
    }
   ],
   "source": [
    "mse_doses_pivot = scores_doses.pivot_table(index=\"Vasopressor dose\", columns=\"IV dose\", values=\"MSE\", aggfunc=np.mean)\n",
    "sns.heatmap(mse_doses_pivot, annot=True, fmt='.0f', cmap=\"mako_r\")"
   ]
  },
  {
   "cell_type": "code",
   "execution_count": null,
   "metadata": {},
   "outputs": [],
   "source": [
    "mse_doses_pivot = scores_doses.pivot_table(index=\"Vaso\", columns=\"IV\", values=\"MSE\", aggfunc=np.mean)\n",
    "sns.heatmap(mse_doses_pivot, annot=True, fmt='.0f')"
   ]
  },
  {
   "cell_type": "code",
   "execution_count": 209,
   "metadata": {},
   "outputs": [],
   "source": [
    "# fig, axs = plt.subplots(1, figsize=(5,5))\n",
    "# ax1 = fig.add_subplot(111, projection='3d')\n",
    "\n",
    "# _x = scores_doses['IV'].unique().sort()\n",
    "# _y = scores_doses['Vaso'].unique().sort()\n",
    "# _xx, _yy = np.meshgrid(_x, _y)\n",
    "# x, y = _xx.ravel(), _yy.ravel()\n",
    "\n",
    "# top = np.array(scores_doses.pivot_table(index=\"Vaso\", columns=\"IV\", values=\"Scores\", aggfunc=np.mean).values)\n",
    "\n",
    "# ax1.bar3d(x=x, y=y, z=top, dx=1, dy=1, dz=np.zeros_like(top), shade=True)\n"
   ]
  },
  {
   "cell_type": "markdown",
   "metadata": {},
   "source": [
    "# Scores by age"
   ]
  },
  {
   "cell_type": "code",
   "execution_count": 240,
   "metadata": {},
   "outputs": [
    {
     "data": {
      "text/html": [
       "<div>\n",
       "<style scoped>\n",
       "    .dataframe tbody tr th:only-of-type {\n",
       "        vertical-align: middle;\n",
       "    }\n",
       "\n",
       "    .dataframe tbody tr th {\n",
       "        vertical-align: top;\n",
       "    }\n",
       "\n",
       "    .dataframe thead th {\n",
       "        text-align: right;\n",
       "    }\n",
       "</style>\n",
       "<table border=\"1\" class=\"dataframe\">\n",
       "  <thead>\n",
       "    <tr style=\"text-align: right;\">\n",
       "      <th></th>\n",
       "      <th>index</th>\n",
       "      <th>bloc</th>\n",
       "      <th>icustay_id</th>\n",
       "      <th>charttime</th>\n",
       "      <th>gender</th>\n",
       "      <th>age</th>\n",
       "      <th>elixhauser</th>\n",
       "      <th>re_admission</th>\n",
       "      <th>died_in_hosp</th>\n",
       "      <th>died_within_48h_of_out_time</th>\n",
       "      <th>...</th>\n",
       "      <th>median_dose_vaso</th>\n",
       "      <th>max_dose_vaso</th>\n",
       "      <th>input_total</th>\n",
       "      <th>input_1hourly</th>\n",
       "      <th>output_total</th>\n",
       "      <th>output_1hourly</th>\n",
       "      <th>cumulated_balance</th>\n",
       "      <th>A</th>\n",
       "      <th>col</th>\n",
       "      <th>Scores</th>\n",
       "    </tr>\n",
       "  </thead>\n",
       "  <tbody>\n",
       "    <tr>\n",
       "      <th>8009</th>\n",
       "      <td>5</td>\n",
       "      <td>1</td>\n",
       "      <td>65578</td>\n",
       "      <td>7.034104e+09</td>\n",
       "      <td>0.0</td>\n",
       "      <td>20360.285822</td>\n",
       "      <td>5.0</td>\n",
       "      <td>1.0</td>\n",
       "      <td>0.0</td>\n",
       "      <td>0.0</td>\n",
       "      <td>...</td>\n",
       "      <td>0.0</td>\n",
       "      <td>0.0</td>\n",
       "      <td>16791.884083</td>\n",
       "      <td>7.000000</td>\n",
       "      <td>3582.0</td>\n",
       "      <td>1791.0</td>\n",
       "      <td>13216.884083</td>\n",
       "      <td>4</td>\n",
       "      <td>MeanBP</td>\n",
       "      <td>0.99</td>\n",
       "    </tr>\n",
       "    <tr>\n",
       "      <th>8023</th>\n",
       "      <td>75</td>\n",
       "      <td>1</td>\n",
       "      <td>33381</td>\n",
       "      <td>5.295352e+09</td>\n",
       "      <td>1.0</td>\n",
       "      <td>27648.233958</td>\n",
       "      <td>6.0</td>\n",
       "      <td>0.0</td>\n",
       "      <td>0.0</td>\n",
       "      <td>0.0</td>\n",
       "      <td>...</td>\n",
       "      <td>0.0</td>\n",
       "      <td>0.0</td>\n",
       "      <td>8836.700000</td>\n",
       "      <td>10.000000</td>\n",
       "      <td>5322.0</td>\n",
       "      <td>2661.0</td>\n",
       "      <td>3524.700000</td>\n",
       "      <td>4</td>\n",
       "      <td>MeanBP</td>\n",
       "      <td>1.00</td>\n",
       "    </tr>\n",
       "    <tr>\n",
       "      <th>8028</th>\n",
       "      <td>100</td>\n",
       "      <td>1</td>\n",
       "      <td>33473</td>\n",
       "      <td>7.164721e+09</td>\n",
       "      <td>0.0</td>\n",
       "      <td>29588.751250</td>\n",
       "      <td>2.0</td>\n",
       "      <td>0.0</td>\n",
       "      <td>0.0</td>\n",
       "      <td>0.0</td>\n",
       "      <td>...</td>\n",
       "      <td>0.0</td>\n",
       "      <td>0.0</td>\n",
       "      <td>8296.286683</td>\n",
       "      <td>0.200100</td>\n",
       "      <td>14511.0</td>\n",
       "      <td>7238.0</td>\n",
       "      <td>-6214.513217</td>\n",
       "      <td>4</td>\n",
       "      <td>MeanBP</td>\n",
       "      <td>0.49</td>\n",
       "    </tr>\n",
       "    <tr>\n",
       "      <th>8030</th>\n",
       "      <td>110</td>\n",
       "      <td>1</td>\n",
       "      <td>724</td>\n",
       "      <td>4.562017e+09</td>\n",
       "      <td>0.0</td>\n",
       "      <td>17379.074363</td>\n",
       "      <td>5.0</td>\n",
       "      <td>0.0</td>\n",
       "      <td>0.0</td>\n",
       "      <td>0.0</td>\n",
       "      <td>...</td>\n",
       "      <td>0.0</td>\n",
       "      <td>0.0</td>\n",
       "      <td>0.000000</td>\n",
       "      <td>6.333333</td>\n",
       "      <td>19050.0</td>\n",
       "      <td>9200.0</td>\n",
       "      <td>-19043.666667</td>\n",
       "      <td>4</td>\n",
       "      <td>MeanBP</td>\n",
       "      <td>0.48</td>\n",
       "    </tr>\n",
       "    <tr>\n",
       "      <th>8041</th>\n",
       "      <td>165</td>\n",
       "      <td>1</td>\n",
       "      <td>1011</td>\n",
       "      <td>7.171412e+09</td>\n",
       "      <td>1.0</td>\n",
       "      <td>12949.510023</td>\n",
       "      <td>4.0</td>\n",
       "      <td>1.0</td>\n",
       "      <td>0.0</td>\n",
       "      <td>0.0</td>\n",
       "      <td>...</td>\n",
       "      <td>0.0</td>\n",
       "      <td>0.0</td>\n",
       "      <td>4263.125000</td>\n",
       "      <td>18.000000</td>\n",
       "      <td>11050.0</td>\n",
       "      <td>5525.0</td>\n",
       "      <td>-6768.875000</td>\n",
       "      <td>4</td>\n",
       "      <td>MeanBP</td>\n",
       "      <td>0.14</td>\n",
       "    </tr>\n",
       "  </tbody>\n",
       "</table>\n",
       "<p>5 rows × 63 columns</p>\n",
       "</div>"
      ],
      "text/plain": [
       "      index  bloc  icustay_id     charttime  gender           age  elixhauser  \\\n",
       "8009      5     1       65578  7.034104e+09     0.0  20360.285822         5.0   \n",
       "8023     75     1       33381  5.295352e+09     1.0  27648.233958         6.0   \n",
       "8028    100     1       33473  7.164721e+09     0.0  29588.751250         2.0   \n",
       "8030    110     1         724  4.562017e+09     0.0  17379.074363         5.0   \n",
       "8041    165     1        1011  7.171412e+09     1.0  12949.510023         4.0   \n",
       "\n",
       "      re_admission  died_in_hosp  died_within_48h_of_out_time  ...  \\\n",
       "8009           1.0           0.0                          0.0  ...   \n",
       "8023           0.0           0.0                          0.0  ...   \n",
       "8028           0.0           0.0                          0.0  ...   \n",
       "8030           0.0           0.0                          0.0  ...   \n",
       "8041           1.0           0.0                          0.0  ...   \n",
       "\n",
       "      median_dose_vaso  max_dose_vaso   input_total  input_1hourly  \\\n",
       "8009               0.0            0.0  16791.884083       7.000000   \n",
       "8023               0.0            0.0   8836.700000      10.000000   \n",
       "8028               0.0            0.0   8296.286683       0.200100   \n",
       "8030               0.0            0.0      0.000000       6.333333   \n",
       "8041               0.0            0.0   4263.125000      18.000000   \n",
       "\n",
       "      output_total  output_1hourly  cumulated_balance  A     col  Scores  \n",
       "8009        3582.0          1791.0       13216.884083  4  MeanBP    0.99  \n",
       "8023        5322.0          2661.0        3524.700000  4  MeanBP    1.00  \n",
       "8028       14511.0          7238.0       -6214.513217  4  MeanBP    0.49  \n",
       "8030       19050.0          9200.0      -19043.666667  4  MeanBP    0.48  \n",
       "8041       11050.0          5525.0       -6768.875000  4  MeanBP    0.14  \n",
       "\n",
       "[5 rows x 63 columns]"
      ]
     },
     "execution_count": 240,
     "metadata": {},
     "output_type": "execute_result"
    }
   ],
   "source": [
    "col_name=\"MeanBP\"\n",
    "scores_filtered_by_actions = scores.loc[(scores['col']==col_name) & (scores['A']==4)].copy()\n",
    "scores_filtered_by_actions.head()"
   ]
  },
  {
   "cell_type": "code",
   "execution_count": 241,
   "metadata": {},
   "outputs": [],
   "source": [
    "ages = list(range(18,90,10))\n",
    "def get_age_bin(age):\n",
    "    for i in range(len(ages)):\n",
    "        if i == len(ages)-1:\n",
    "            return f'>{ages[i]}'\n",
    "        if age >= ages[i] and age < ages[i+1]:\n",
    "            return f'{ages[i]}-{ages[i+1]}'\n",
    "        if i == 0 and age < ages[i]:\n",
    "            return f'<{ages[i]}'\n",
    "            "
   ]
  },
  {
   "cell_type": "code",
   "execution_count": 242,
   "metadata": {},
   "outputs": [],
   "source": [
    "scores_filtered_by_actions.loc[:,'Age bin'] = scores_filtered_by_actions.loc[:,'age'].apply(lambda x: get_age_bin(x/365))\n",
    "scores_filtered_by_actions.loc[:, 'gender'] = scores_filtered_by_actions.loc[:,'gender'].apply(lambda x: 'Male' if x==0 else 'Female')\n",
    "\n"
   ]
  },
  {
   "cell_type": "code",
   "execution_count": 243,
   "metadata": {},
   "outputs": [
    {
     "data": {
      "text/plain": [
       "<matplotlib.axes._subplots.AxesSubplot at 0x7f04b1791520>"
      ]
     },
     "execution_count": 243,
     "metadata": {},
     "output_type": "execute_result"
    },
    {
     "data": {
      "image/png": "[encoded data removed]",
      "text/plain": [
       "<Figure size 864x288 with 1 Axes>"
      ]
     },
     "metadata": {
      "needs_background": "light"
     },
     "output_type": "display_data"
    }
   ],
   "source": [
    "fig, axs = plt.subplots(1, figsize=(12,4))\n",
    "s_pivot = scores_filtered_by_actions.pivot_table(index=\"gender\", columns=\"Age bin\", values=\"Scores\", aggfunc=np.mean)\n",
    "labels = np.round(s_pivot.values,2).astype(str)\n",
    "sns.heatmap(s_pivot, vmax=s_pivot.values.max(), vmin=s_pivot.values.min(), annot=labels, fmt='', cmap='mako', ax=axs, cbar=False)"
   ]
  },
  {
   "cell_type": "code",
   "execution_count": 256,
   "metadata": {},
   "outputs": [
    {
     "data": {
      "text/plain": [
       "8367    84.5\n",
       "8685    70.0\n",
       "Name: MeanBP, dtype: float64"
      ]
     },
     "execution_count": 256,
     "metadata": {},
     "output_type": "execute_result"
    }
   ],
   "source": [
    "scores_filtered_by_actions[(scores_filtered_by_actions['gender']=='Male') & (scores_filtered_by_actions['age']<=28*365)]['MeanBP']\n",
    "\n",
    "\n"
   ]
  },
  {
   "cell_type": "code",
   "execution_count": null,
   "metadata": {},
   "outputs": [],
   "source": []
  }
 ],
 "metadata": {
  "kernelspec": {
   "display_name": "Python 3",
   "language": "python",
   "name": "python3"
  },
  "language_info": {
   "codemirror_mode": {
    "name": "ipython",
    "version": 3
   },
   "file_extension": ".py",
   "mimetype": "text/x-python",
   "name": "python",
   "nbconvert_exporter": "python",
   "pygments_lexer": "ipython3",
   "version": "3.8.10"
  }
 },
 "nbformat": 4,
 "nbformat_minor": 2
}

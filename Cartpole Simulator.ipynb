{
 "cells": [
  {
   "cell_type": "code",
   "execution_count": 1,
   "metadata": {},
   "outputs": [],
   "source": [
    "import numpy as np\n",
    "import gym\n",
    "import time\n",
    "import math\n",
    "import random\n",
    "import torch\n",
    "from torch.autograd import Variable\n",
    "from tqdm import tqdm\n",
    "import copy\n",
    "from IPython.display import clear_output\n",
    "from matplotlib import image\n",
    "import matplotlib.pyplot as plt\n",
    "from PIL import Image\n",
    "import pandas as pd\n",
    "import seaborn as sns"
   ]
  },
  {
   "cell_type": "code",
   "execution_count": 2,
   "metadata": {},
   "outputs": [
    {
     "data": {
      "image/png": "[encoded data removed]",
      "text/plain": [
       "<Figure size 432x288 with 1 Axes>"
      ]
     },
     "metadata": {},
     "output_type": "display_data"
    }
   ],
   "source": [
    "env = gym.envs.make(\"CartPole-v1\")\n",
    "\n",
    "def get_screen(screen=None):\n",
    "    ''' Extract one step of the simulation.'''\n",
    "    if screen is None:\n",
    "        screen = env.render(mode='rgb_array').transpose((2, 0, 1))\n",
    "    screen = np.ascontiguousarray(screen, dtype=np.float32) / 255.\n",
    "    return torch.from_numpy(screen)\n",
    "\n",
    "# Speify the number of simulation steps\n",
    "num_steps = 10\n",
    "\n",
    "# Show several steps\n",
    "for i in range(num_steps):\n",
    "    clear_output(wait=True)\n",
    "    env.reset()\n",
    "    plt.figure()\n",
    "    plt.imshow(get_screen().cpu().permute(1, 2, 0).numpy(),\n",
    "               interpolation='none')\n",
    "    plt.title('CartPole-v1 Environment')\n",
    "    plt.xticks([])\n",
    "    plt.yticks([])\n",
    "    plt.show()"
   ]
  },
  {
   "cell_type": "code",
   "execution_count": 3,
   "metadata": {},
   "outputs": [],
   "source": [
    "observation, reward, done, info = env.step(env.action_space.sample())"
   ]
  },
  {
   "cell_type": "code",
   "execution_count": 75,
   "metadata": {},
   "outputs": [
    {
     "data": {
      "text/plain": [
       "0.8660254037844387"
      ]
     },
     "execution_count": 75,
     "metadata": {},
     "output_type": "execute_result"
    }
   ],
   "source": [
    "math.sin(math.radians(120))"
   ]
  },
  {
   "cell_type": "code",
   "execution_count": 5,
   "metadata": {},
   "outputs": [],
   "source": [
    "# Demonstration\n",
    "import matplotlib.pyplot as plt\n",
    "\n",
    "env = gym.envs.make(\"CartPole-v1\")\n",
    "\n",
    "def plot_res(values, title=''):   \n",
    "    ''' Plot the reward curve and histogram of results over time.'''\n",
    "    # Update the window after each episode\n",
    "    clear_output(wait=True)\n",
    "    \n",
    "    # Define the figure\n",
    "    f, ax = plt.subplots(nrows=1, ncols=2, figsize=(12,5))\n",
    "    f.suptitle(title)\n",
    "    ax[0].plot(values, label='score per run')\n",
    "    ax[0].axhline(195, c='red',ls='--', label='goal')\n",
    "    ax[0].set_xlabel('Episodes')\n",
    "    ax[0].set_ylabel('Reward')\n",
    "    x = range(len(values))\n",
    "    ax[0].legend()\n",
    "    # Calculate the trend\n",
    "    try:\n",
    "        z = np.polyfit(x, values, 1)\n",
    "        p = np.poly1d(z)\n",
    "        ax[0].plot(x,p(x),\"--\", label='trend')\n",
    "    except:\n",
    "        print('')\n",
    "    \n",
    "    # Plot the histogram of results\n",
    "    ax[1].hist(values[-50:])\n",
    "    ax[1].axvline(195, c='red', label='goal')\n",
    "    ax[1].set_xlabel('Scores per Last 50 Episodes')\n",
    "    ax[1].set_ylabel('Frequency')\n",
    "    ax[1].legend()\n",
    "    plt.show()"
   ]
  },
  {
   "cell_type": "code",
   "execution_count": 6,
   "metadata": {},
   "outputs": [],
   "source": [
    "class DQL():\n",
    "    ''' Deep Q Neural Network class. '''\n",
    "    def __init__(self, state_dim, action_dim, hidden_dim=64, lr=0.05):\n",
    "        self.criterion = torch.nn.MSELoss()\n",
    "        self.model = torch.nn.Sequential(\n",
    "                        torch.nn.Linear(state_dim, hidden_dim),\n",
    "                        torch.nn.LeakyReLU(),\n",
    "                        torch.nn.Linear(hidden_dim, hidden_dim*2),\n",
    "                        torch.nn.LeakyReLU(),\n",
    "                        torch.nn.Linear(hidden_dim*2, action_dim)\n",
    "                )\n",
    "        self.optimizer = torch.optim.Adam(self.model.parameters(), lr)\n",
    "        self.target = copy.deepcopy(self.model)\n",
    "\n",
    "    def update(self, state, y):\n",
    "        \"\"\"Update the weights of the network given a training sample. \"\"\"\n",
    "        y_pred = self.model(torch.Tensor(state))\n",
    "        loss = self.criterion(y_pred, Variable(torch.Tensor(y)))\n",
    "        self.optimizer.zero_grad()\n",
    "        loss.backward()\n",
    "        self.optimizer.step()\n",
    "\n",
    "    def predict(self, state):\n",
    "        \"\"\" Compute Q values for all actions using the DQL. \"\"\"\n",
    "        with torch.no_grad():\n",
    "            return self.model(torch.Tensor(state))\n",
    "        \n",
    "    def target_predict(self, s):\n",
    "        ''' Use target network to make predicitons.'''\n",
    "        with torch.no_grad():\n",
    "            return self.target(torch.Tensor(s))\n",
    "        \n",
    "    def target_update(self):\n",
    "        ''' Update target network with the model weights.'''\n",
    "        self.target.load_state_dict(self.model.state_dict())\n",
    "        \n",
    "    def replay(self, memory, size, gamma=1.0):\n",
    "        ''' Add experience replay to the DQL network class.'''\n",
    "        if len(memory) >= size:\n",
    "            # Sample experiences from the agent's memory\n",
    "            data = random.sample(memory, size)\n",
    "            states = []\n",
    "            targets = []\n",
    "            # Extract datapoints from the data\n",
    "            for state, action, next_state, reward, done in data:\n",
    "                states.append(state)\n",
    "                q_values = self.predict(state).tolist()\n",
    "                if done:\n",
    "                    q_values[action] = reward\n",
    "                else:\n",
    "                    # The only difference between the simple replay is in this line\n",
    "                    # It ensures that next q values are predicted with the target network.\n",
    "                    q_values_next = self.target_predict(next_state)\n",
    "                    q_values[action] = reward + gamma * torch.max(q_values_next).item()\n",
    "\n",
    "                targets.append(q_values)\n",
    "\n",
    "            self.update(states, targets)"
   ]
  },
  {
   "cell_type": "code",
   "execution_count": 7,
   "metadata": {},
   "outputs": [],
   "source": [
    "def q_learning(env, model, episodes, gamma=0.9, epsilon=0.3, eps_decay=0.99, replay=False, replay_size=20, title = 'DQL', double=False, n_update=10, soft=False):\n",
    "    \"\"\"Deep Q Learning algorithm using the DQN. \"\"\"\n",
    "    final = []\n",
    "    memory = []\n",
    "    for episode in range(episodes):\n",
    "        if double and not soft:\n",
    "            # Update target network every n_update steps\n",
    "            if episode % n_update == 0:\n",
    "                model.target_update()\n",
    "        if double and soft:\n",
    "            model.target_update()\n",
    "        \n",
    "        # Reset state\n",
    "        state = env.reset()\n",
    "        done = False\n",
    "        total = 0\n",
    "        \n",
    "        while not done:\n",
    "            # Implement greedy search policy\n",
    "            if random.random() < epsilon:\n",
    "                action = env.action_space.sample()\n",
    "            else:\n",
    "                q_values = model.predict(state)\n",
    "                action = torch.argmax(q_values).item()\n",
    "            \n",
    "            # Take action and add reward to total\n",
    "            next_state, reward, done, _ = env.step(action)\n",
    "            \n",
    "            # Update total and memory\n",
    "            total += reward\n",
    "            memory.append((state, action, next_state, reward, done))\n",
    "            q_values = model.predict(state).tolist()\n",
    "             \n",
    "            if done:\n",
    "                if not replay:\n",
    "                    q_values[action] = reward\n",
    "                    # Update network weights\n",
    "                    model.update(state, q_values)\n",
    "                break\n",
    "                if replay:\n",
    "                    # Update network weights using replay memory\n",
    "                    model.replay(memory, replay_size, gamma)\n",
    "            else: \n",
    "                # Update network weights using the last step only\n",
    "                q_values_next = model.predict(next_state)\n",
    "                q_values[action] = reward + gamma * torch.max(q_values_next).item()\n",
    "                model.update(state, q_values)\n",
    "            state = next_state\n",
    "        \n",
    "        # Update epsilon\n",
    "        epsilon = max(epsilon * eps_decay, 0.01)\n",
    "        final.append(total)\n",
    "        plot_res(final, title)\n",
    "    return final"
   ]
  },
  {
   "cell_type": "code",
   "execution_count": 122,
   "metadata": {},
   "outputs": [
    {
     "data": {
      "image/png": "[encoded data removed]",
      "text/plain": [
       "<Figure size 864x360 with 2 Axes>"
      ]
     },
     "metadata": {
      "needs_background": "light"
     },
     "output_type": "display_data"
    }
   ],
   "source": [
    "env = gym.envs.make(\"CartPole-v1\")\n",
    "model = DQL(state_dim=4, action_dim=2, hidden_dim=50, lr=0.001)\n",
    "final = q_learning(env, model, episodes=300,\n",
    "                   gamma=1.0, epsilon=0.2, replay=False, double=False,\n",
    "                   title='DQL with Replay', n_update=20)"
   ]
  },
  {
   "cell_type": "code",
   "execution_count": 123,
   "metadata": {},
   "outputs": [
    {
     "data": {
      "text/plain": [
       "tensor([569.6754, 555.4532])"
      ]
     },
     "execution_count": 123,
     "metadata": {},
     "output_type": "execute_result"
    }
   ],
   "source": [
    "state = env.reset()\n",
    "model.predict(state)"
   ]
  },
  {
   "cell_type": "code",
   "execution_count": 135,
   "metadata": {},
   "outputs": [
    {
     "name": "stderr",
     "output_type": "stream",
     "text": [
      "100%|██████████| 1000/1000 [26:41<00:00,  1.60s/it]\n"
     ]
    }
   ],
   "source": [
    "df = pd.DataFrame()\n",
    "episodes = 1000\n",
    "epsilon = 0.1\n",
    "for i in tqdm(range(episodes)):\n",
    "    done = False\n",
    "    state = env.reset()\n",
    "    t=0\n",
    "    while not done:\n",
    "        if random.random() < epsilon:\n",
    "            action = env.action_space.sample()\n",
    "        else:\n",
    "            action = model.predict(state).argmax().item()\n",
    "        df = df.append({'episode': i, 't': t,'Cart Position': state[0], 'Cart Velocity': state[1], 'Pole Angle': state[2], 'Pole Angular Velocity': state[3], 'A': action}, ignore_index=True)\n",
    "        state, reward, done, _ = env.step(action)\n",
    "        t += 1"
   ]
  },
  {
   "cell_type": "code",
   "execution_count": 3,
   "metadata": {},
   "outputs": [],
   "source": [
    "# df.to_csv(\"/data/localhost/taufiq/export-dir/Cartpole-v1-obs-data.csv\", index=False)\n",
    "df = pd.read_csv(\"/data/localhost/taufiq/export-dir/Cartpole-v1-obs-data.csv\")"
   ]
  },
  {
   "cell_type": "code",
   "execution_count": 656,
   "metadata": {},
   "outputs": [
    {
     "data": {
      "text/plain": [
       "<matplotlib.axes._subplots.AxesSubplot at 0x7f0a8e3a26d0>"
      ]
     },
     "execution_count": 656,
     "metadata": {},
     "output_type": "execute_result"
    },
    {
     "data": {
      "image/png": "[encoded data removed]",
      "text/plain": [
       "<Figure size 432x288 with 1 Axes>"
      ]
     },
     "metadata": {},
     "output_type": "display_data"
    }
   ],
   "source": [
    "df['A'].hist()"
   ]
  },
  {
   "cell_type": "code",
   "execution_count": 657,
   "metadata": {},
   "outputs": [
    {
     "data": {
      "text/plain": [
       "<matplotlib.axes._subplots.AxesSubplot at 0x7f0a6ec8c8e0>"
      ]
     },
     "execution_count": 657,
     "metadata": {},
     "output_type": "execute_result"
    },
    {
     "data": {
      "image/png": "[encoded data removed]",
      "text/plain": [
       "<Figure size 432x288 with 1 Axes>"
      ]
     },
     "metadata": {},
     "output_type": "display_data"
    }
   ],
   "source": [
    "# df.loc[(df['Pole Angular Velocity']>0) & (df['Cart Velocity']>0), 'A'].hist()\n",
    "df.loc[(df['Pole Angular Velocity']>0), 'A'].hist()"
   ]
  },
  {
   "cell_type": "code",
   "execution_count": 658,
   "metadata": {},
   "outputs": [
    {
     "data": {
      "text/html": [
       "<div>\n",
       "<style scoped>\n",
       "    .dataframe tbody tr th:only-of-type {\n",
       "        vertical-align: middle;\n",
       "    }\n",
       "\n",
       "    .dataframe tbody tr th {\n",
       "        vertical-align: top;\n",
       "    }\n",
       "\n",
       "    .dataframe thead th {\n",
       "        text-align: right;\n",
       "    }\n",
       "</style>\n",
       "<table border=\"1\" class=\"dataframe\">\n",
       "  <thead>\n",
       "    <tr style=\"text-align: right;\">\n",
       "      <th></th>\n",
       "      <th>A</th>\n",
       "      <th>Cart Position</th>\n",
       "      <th>Cart Velocity</th>\n",
       "      <th>Pole Angle</th>\n",
       "      <th>Pole Angular Velocity</th>\n",
       "      <th>episode</th>\n",
       "      <th>t</th>\n",
       "    </tr>\n",
       "  </thead>\n",
       "  <tbody>\n",
       "    <tr>\n",
       "      <th>0</th>\n",
       "      <td>0.0</td>\n",
       "      <td>-0.044931</td>\n",
       "      <td>0.005088</td>\n",
       "      <td>0.000109</td>\n",
       "      <td>-0.033541</td>\n",
       "      <td>0.0</td>\n",
       "      <td>0.0</td>\n",
       "    </tr>\n",
       "    <tr>\n",
       "      <th>1</th>\n",
       "      <td>1.0</td>\n",
       "      <td>-0.044829</td>\n",
       "      <td>-0.190036</td>\n",
       "      <td>-0.000562</td>\n",
       "      <td>0.259176</td>\n",
       "      <td>0.0</td>\n",
       "      <td>1.0</td>\n",
       "    </tr>\n",
       "    <tr>\n",
       "      <th>2</th>\n",
       "      <td>0.0</td>\n",
       "      <td>-0.048630</td>\n",
       "      <td>0.005094</td>\n",
       "      <td>0.004621</td>\n",
       "      <td>-0.033684</td>\n",
       "      <td>0.0</td>\n",
       "      <td>2.0</td>\n",
       "    </tr>\n",
       "    <tr>\n",
       "      <th>3</th>\n",
       "      <td>1.0</td>\n",
       "      <td>-0.048528</td>\n",
       "      <td>-0.190094</td>\n",
       "      <td>0.003948</td>\n",
       "      <td>0.260453</td>\n",
       "      <td>0.0</td>\n",
       "      <td>3.0</td>\n",
       "    </tr>\n",
       "    <tr>\n",
       "      <th>4</th>\n",
       "      <td>0.0</td>\n",
       "      <td>-0.052330</td>\n",
       "      <td>0.004971</td>\n",
       "      <td>0.009157</td>\n",
       "      <td>-0.030982</td>\n",
       "      <td>0.0</td>\n",
       "      <td>4.0</td>\n",
       "    </tr>\n",
       "  </tbody>\n",
       "</table>\n",
       "</div>"
      ],
      "text/plain": [
       "     A  Cart Position  Cart Velocity  Pole Angle  Pole Angular Velocity  \\\n",
       "0  0.0      -0.044931       0.005088    0.000109              -0.033541   \n",
       "1  1.0      -0.044829      -0.190036   -0.000562               0.259176   \n",
       "2  0.0      -0.048630       0.005094    0.004621              -0.033684   \n",
       "3  1.0      -0.048528      -0.190094    0.003948               0.260453   \n",
       "4  0.0      -0.052330       0.004971    0.009157              -0.030982   \n",
       "\n",
       "   episode    t  \n",
       "0      0.0  0.0  \n",
       "1      0.0  1.0  \n",
       "2      0.0  2.0  \n",
       "3      0.0  3.0  \n",
       "4      0.0  4.0  "
      ]
     },
     "execution_count": 658,
     "metadata": {},
     "output_type": "execute_result"
    }
   ],
   "source": [
    "df.head()"
   ]
  },
  {
   "cell_type": "code",
   "execution_count": 148,
   "metadata": {},
   "outputs": [],
   "source": [
    "PATH=\"/data/localhost/taufiq/export-dir/cartpole/cartpole_state_dicts\"\n",
    "torch.save({\n",
    "    'model_state_dict': model.model.state_dict(),\n",
    "    'optimizer_state_dict': model.optimizer.state_dict()\n",
    "}, PATH)"
   ]
  },
  {
   "cell_type": "markdown",
   "metadata": {},
   "source": [
    "# Remove the sign of angular velocity\n",
    "\n",
    "We define the unobserved confounder $U$ to be the sign of Angular velocity"
   ]
  },
  {
   "cell_type": "code",
   "execution_count": 4,
   "metadata": {},
   "outputs": [],
   "source": [
    "df_partial = df.copy()\n",
    "# df_partial['Pole Angular Velocity (sign)'] = (df_partial['Pole Angular Velocity']>=0)*1 - (df_partial['Pole Angular Velocity']<0)*1\n",
    "# df_partial['Cart Velocity (sign)'] = (df_partial['Cart Velocity']>=0)*1 - (df_partial['Cart Velocity']<0)*1\n",
    "# df_partial['Pole Angular Velocity'] = df_partial['Pole Angular Velocity'].abs()\n",
    "# df_partial['Cart Velocity'] = df_partial['Cart Velocity'].abs()\n",
    "# df_partial.rename(columns={'Pole Angular Velocity': 'Pole Angular Velocity (abs)', 'Cart Velocity': 'Cart Velocity (abs)'}, inplace=True)\n",
    "# df_partial.head()\n"
   ]
  },
  {
   "cell_type": "code",
   "execution_count": 43,
   "metadata": {},
   "outputs": [],
   "source": [
    "# x_columns = ['Cart Position', 'Cart Velocity (abs)', 'Pole Angle', 'Pole Angular Velocity (abs)']\n",
    "x_columns = ['Cart Position', 'Pole Angle']\n",
    "rename_cols_t1 = {k: f'{k}_t1' for k in x_columns}"
   ]
  },
  {
   "cell_type": "code",
   "execution_count": 240,
   "metadata": {},
   "outputs": [
    {
     "name": "stderr",
     "output_type": "stream",
     "text": [
      "100%|██████████| 500/500 [00:03<00:00, 129.76it/s]\n"
     ]
    }
   ],
   "source": [
    "# sim_data = pd.DataFrame()\n",
    "# for episode in tqdm(range(0,500)):\n",
    "#     df_filtered_t0 = df_partial.loc[df_partial['episode']==episode].copy().iloc[:-1].reset_index(drop=True)\n",
    "#     df_filtered_t1 = df_partial.loc[df_partial['episode']==episode].copy().iloc[1:][x_columns].rename(columns=rename_cols_t1).reset_index(drop=True)\n",
    "#     df_episode = pd.merge(df_filtered_t0, df_filtered_t1, left_index=True, right_index=True)\n",
    "#     sim_data = sim_data.append(df_episode, ignore_index=True)"
   ]
  },
  {
   "cell_type": "code",
   "execution_count": 661,
   "metadata": {},
   "outputs": [
    {
     "name": "stderr",
     "output_type": "stream",
     "text": [
      "100%|██████████| 500/500 [00:01<00:00, 333.06it/s]\n"
     ]
    }
   ],
   "source": [
    "obs_data = pd.DataFrame()\n",
    "for episode in tqdm(range(500,1000)):\n",
    "    df_filtered_t0 = df_partial.loc[df_partial['episode']==episode].copy().iloc[:-1].reset_index(drop=True)\n",
    "    df_filtered_t1 = df_partial.loc[df_partial['episode']==episode].copy().iloc[1:][x_columns].rename(columns=rename_cols_t1).reset_index(drop=True)\n",
    "    df_episode = pd.merge(df_filtered_t0, df_filtered_t1, left_index=True, right_index=True)\n",
    "    obs_data = obs_data.append(df_episode, ignore_index=True)"
   ]
  },
  {
   "cell_type": "code",
   "execution_count": 662,
   "metadata": {},
   "outputs": [
    {
     "data": {
      "text/plain": [
       "249500"
      ]
     },
     "execution_count": 662,
     "metadata": {},
     "output_type": "execute_result"
    }
   ],
   "source": [
    "len(obs_data)"
   ]
  },
  {
   "cell_type": "markdown",
   "metadata": {},
   "source": [
    "# Confounding\n",
    "To induce confounding, we only include transitions with angular velocity <= 0 in observational data."
   ]
  },
  {
   "cell_type": "code",
   "execution_count": 184,
   "metadata": {},
   "outputs": [],
   "source": [
    "select = np.random.uniform(0, 1, len(sim_data_combined))\n",
    "sim_data_filtered = sim_data_combined.loc[select < 0.5]\n"
   ]
  },
  {
   "cell_type": "code",
   "execution_count": 663,
   "metadata": {},
   "outputs": [],
   "source": [
    "select = np.random.uniform(0, 1, len(obs_data))\n",
    "obs_data = obs_data.loc[~(obs_data['Pole Angular Velocity']>0)]\n",
    "# obs_data = obs_data.loc[(select < 0.5)]\n"
   ]
  },
  {
   "cell_type": "code",
   "execution_count": 670,
   "metadata": {},
   "outputs": [
    {
     "data": {
      "text/plain": [
       "126311"
      ]
     },
     "execution_count": 670,
     "metadata": {},
     "output_type": "execute_result"
    }
   ],
   "source": [
    "len(obs_data)"
   ]
  },
  {
   "cell_type": "code",
   "execution_count": 665,
   "metadata": {},
   "outputs": [],
   "source": [
    "random_arr = np.random.uniform(0, 1, len(obs_data))\n",
    "obs_data_train = obs_data[random_arr <= 0.8].copy()\n",
    "obs_data_test = obs_data[random_arr > 0.8].copy()"
   ]
  },
  {
   "cell_type": "code",
   "execution_count": 248,
   "metadata": {},
   "outputs": [
    {
     "data": {
      "text/plain": [
       "64188"
      ]
     },
     "execution_count": 248,
     "metadata": {},
     "output_type": "execute_result"
    }
   ],
   "source": [
    "(sim_data_filtered['Pole Angular Velocity (sign)']==-1).sum()"
   ]
  },
  {
   "cell_type": "code",
   "execution_count": 667,
   "metadata": {},
   "outputs": [
    {
     "data": {
      "text/plain": [
       "<matplotlib.axes._subplots.AxesSubplot at 0x7f0a6edd4100>"
      ]
     },
     "execution_count": 667,
     "metadata": {},
     "output_type": "execute_result"
    },
    {
     "data": {
      "image/png": "[encoded data removed]",
      "text/plain": [
       "<Figure size 432x288 with 1 Axes>"
      ]
     },
     "metadata": {},
     "output_type": "display_data"
    }
   ],
   "source": [
    "obs_data_train['A'].hist(density=True)"
   ]
  },
  {
   "cell_type": "code",
   "execution_count": 185,
   "metadata": {},
   "outputs": [
    {
     "data": {
      "text/plain": [
       "<matplotlib.axes._subplots.AxesSubplot at 0x7f0a8d7597f0>"
      ]
     },
     "execution_count": 185,
     "metadata": {},
     "output_type": "execute_result"
    },
    {
     "data": {
      "image/png": "[encoded data removed]",
      "text/plain": [
       "<Figure size 432x288 with 1 Axes>"
      ]
     },
     "metadata": {},
     "output_type": "display_data"
    }
   ],
   "source": [
    "sim_data_filtered['A'].hist(density=True)"
   ]
  },
  {
   "cell_type": "markdown",
   "metadata": {},
   "source": [
    "# Generate $Y(a)$ Data using random policy"
   ]
  },
  {
   "cell_type": "code",
   "execution_count": 453,
   "metadata": {},
   "outputs": [
    {
     "name": "stderr",
     "output_type": "stream",
     "text": [
      "100%|██████████| 4000/4000 [01:32<00:00, 43.37it/s]\n"
     ]
    }
   ],
   "source": [
    "sim_data = pd.DataFrame()\n",
    "episodes = 4000\n",
    "for i in tqdm(range(episodes)):\n",
    "    done = False\n",
    "    state = env.reset()\n",
    "    t=0\n",
    "    while not done:\n",
    "        action = env.action_space.sample()\n",
    "        sim_data = sim_data.append({'episode': i, 't': t,'Cart Position': state[0], 'Cart Velocity': state[1], 'Pole Angle': state[2], 'Pole Angular Velocity': state[3], 'A': action}, ignore_index=True)\n",
    "        state, reward, done, _ = env.step(action)\n",
    "        t += 1"
   ]
  },
  {
   "cell_type": "code",
   "execution_count": 454,
   "metadata": {},
   "outputs": [
    {
     "data": {
      "text/plain": [
       "87453"
      ]
     },
     "execution_count": 454,
     "metadata": {},
     "output_type": "execute_result"
    }
   ],
   "source": [
    "len(sim_data)"
   ]
  },
  {
   "cell_type": "code",
   "execution_count": 180,
   "metadata": {},
   "outputs": [
    {
     "data": {
      "text/html": [
       "<div>\n",
       "<style scoped>\n",
       "    .dataframe tbody tr th:only-of-type {\n",
       "        vertical-align: middle;\n",
       "    }\n",
       "\n",
       "    .dataframe tbody tr th {\n",
       "        vertical-align: top;\n",
       "    }\n",
       "\n",
       "    .dataframe thead th {\n",
       "        text-align: right;\n",
       "    }\n",
       "</style>\n",
       "<table border=\"1\" class=\"dataframe\">\n",
       "  <thead>\n",
       "    <tr style=\"text-align: right;\">\n",
       "      <th></th>\n",
       "      <th>A</th>\n",
       "      <th>Cart Position</th>\n",
       "      <th>Cart Velocity (abs)</th>\n",
       "      <th>Pole Angle</th>\n",
       "      <th>Pole Angular Velocity (abs)</th>\n",
       "      <th>episode</th>\n",
       "      <th>t</th>\n",
       "      <th>Pole Angular Velocity (sign)</th>\n",
       "      <th>Cart Velocity (sign)</th>\n",
       "    </tr>\n",
       "  </thead>\n",
       "  <tbody>\n",
       "    <tr>\n",
       "      <th>0</th>\n",
       "      <td>0.0</td>\n",
       "      <td>0.006463</td>\n",
       "      <td>0.019312</td>\n",
       "      <td>-0.008931</td>\n",
       "      <td>0.003310</td>\n",
       "      <td>0.0</td>\n",
       "      <td>0.0</td>\n",
       "      <td>-1</td>\n",
       "      <td>-1</td>\n",
       "    </tr>\n",
       "    <tr>\n",
       "      <th>1</th>\n",
       "      <td>0.0</td>\n",
       "      <td>0.006077</td>\n",
       "      <td>0.214305</td>\n",
       "      <td>-0.008997</td>\n",
       "      <td>0.286542</td>\n",
       "      <td>0.0</td>\n",
       "      <td>1.0</td>\n",
       "      <td>1</td>\n",
       "      <td>-1</td>\n",
       "    </tr>\n",
       "    <tr>\n",
       "      <th>2</th>\n",
       "      <td>1.0</td>\n",
       "      <td>0.001791</td>\n",
       "      <td>0.409297</td>\n",
       "      <td>-0.003266</td>\n",
       "      <td>0.576374</td>\n",
       "      <td>0.0</td>\n",
       "      <td>2.0</td>\n",
       "      <td>1</td>\n",
       "      <td>-1</td>\n",
       "    </tr>\n",
       "    <tr>\n",
       "      <th>3</th>\n",
       "      <td>0.0</td>\n",
       "      <td>-0.006395</td>\n",
       "      <td>0.214129</td>\n",
       "      <td>0.008261</td>\n",
       "      <td>0.282664</td>\n",
       "      <td>0.0</td>\n",
       "      <td>3.0</td>\n",
       "      <td>1</td>\n",
       "      <td>-1</td>\n",
       "    </tr>\n",
       "    <tr>\n",
       "      <th>4</th>\n",
       "      <td>1.0</td>\n",
       "      <td>-0.010677</td>\n",
       "      <td>0.409368</td>\n",
       "      <td>0.013915</td>\n",
       "      <td>0.577941</td>\n",
       "      <td>0.0</td>\n",
       "      <td>4.0</td>\n",
       "      <td>1</td>\n",
       "      <td>-1</td>\n",
       "    </tr>\n",
       "  </tbody>\n",
       "</table>\n",
       "</div>"
      ],
      "text/plain": [
       "     A  Cart Position  Cart Velocity (abs)  Pole Angle  \\\n",
       "0  0.0       0.006463             0.019312   -0.008931   \n",
       "1  0.0       0.006077             0.214305   -0.008997   \n",
       "2  1.0       0.001791             0.409297   -0.003266   \n",
       "3  0.0      -0.006395             0.214129    0.008261   \n",
       "4  1.0      -0.010677             0.409368    0.013915   \n",
       "\n",
       "   Pole Angular Velocity (abs)  episode    t  Pole Angular Velocity (sign)  \\\n",
       "0                     0.003310      0.0  0.0                            -1   \n",
       "1                     0.286542      0.0  1.0                             1   \n",
       "2                     0.576374      0.0  2.0                             1   \n",
       "3                     0.282664      0.0  3.0                             1   \n",
       "4                     0.577941      0.0  4.0                             1   \n",
       "\n",
       "   Cart Velocity (sign)  \n",
       "0                    -1  \n",
       "1                    -1  \n",
       "2                    -1  \n",
       "3                    -1  \n",
       "4                    -1  "
      ]
     },
     "execution_count": 180,
     "metadata": {},
     "output_type": "execute_result"
    }
   ],
   "source": [
    "sim_data['Pole Angular Velocity (sign)'] = (sim_data['Pole Angular Velocity']>=0)*1 - (sim_data['Pole Angular Velocity']<0)*1\n",
    "sim_data['Cart Velocity (sign)'] = (sim_data['Cart Velocity']>=0)*1 - (sim_data['Cart Velocity']<0)*1\n",
    "sim_data['Pole Angular Velocity'] = sim_data['Pole Angular Velocity'].abs()\n",
    "sim_data['Cart Velocity'] = sim_data['Cart Velocity'].abs()\n",
    "sim_data.rename(columns={'Pole Angular Velocity': 'Pole Angular Velocity (abs)', 'Cart Velocity': 'Cart Velocity (abs)'}, inplace=True)\n",
    "sim_data.head()"
   ]
  },
  {
   "cell_type": "code",
   "execution_count": 472,
   "metadata": {},
   "outputs": [],
   "source": [
    "episodes = sim_data['episode'].unique()\n",
    "sim_data_combined = pd.DataFrame()\n",
    "for episode in tqdm(episodes):\n",
    "    df_filtered_t0 = sim_data.loc[sim_data['episode']==episode].copy().iloc[:-1].reset_index(drop=True)\n",
    "    df_filtered_t1 = sim_data.loc[sim_data['episode']==episode].copy().iloc[1:][x_columns].rename(columns=rename_cols_t1).reset_index(drop=True)\n",
    "    df_episode = pd.merge(df_filtered_t0, df_filtered_t1, left_index=True, right_index=True)\n",
    "    sim_data_combined = sim_data_combined.append(df_episode, ignore_index=True)\n",
    "    \n",
    "sim_data_filtered = sim_data_combined.copy()"
   ]
  },
  {
   "cell_type": "code",
   "execution_count": 12,
   "metadata": {},
   "outputs": [],
   "source": [
    "sim_data_combined.to_csv(\"/data/localhost/taufiq/export-dir/Cartpole-v1-sim-data-rand-policy.csv\", index=False)"
   ]
  },
  {
   "cell_type": "code",
   "execution_count": 6,
   "metadata": {},
   "outputs": [],
   "source": [
    "# obs_data_train.to_csv(\"/data/localhost/taufiq/export-dir/cartpole_data_x_no_velocity/Cartpole-v1-obs-data-train.csv\", index=False)\n",
    "# obs_data_test.to_csv(\"/data/localhost/taufiq/export-dir/cartpole_data_x_no_velocity/Cartpole-v1-obs-data-test.csv\", index=False)\n",
    "# sim_data_filtered.to_csv(\"/data/localhost/taufiq/export-dir/cartpole_data_x_no_velocity/Cartpole-v1-sim-data.csv\", index=False)\n",
    "\n",
    "obs_data_train = pd.read_csv(\"/data/localhost/taufiq/export-dir/cartpole_data_x_no_velocity/Cartpole-v1-obs-data-train.csv\")\n",
    "obs_data_test = pd.read_csv(\"/data/localhost/taufiq/export-dir/cartpole_data_x_no_velocity/Cartpole-v1-obs-data-test.csv\")\n",
    "sim_data_filtered = pd.read_csv(\"/data/localhost/taufiq/export-dir/cartpole_data_x_no_velocity/Cartpole-v1-sim-data-rand-policy.csv\")"
   ]
  },
  {
   "cell_type": "code",
   "execution_count": 7,
   "metadata": {},
   "outputs": [],
   "source": [
    "quantile_data = sim_data_filtered.copy()"
   ]
  },
  {
   "cell_type": "markdown",
   "metadata": {},
   "source": [
    "# Train policy $\\pi(A\\mid X)$"
   ]
  },
  {
   "cell_type": "code",
   "execution_count": 8,
   "metadata": {},
   "outputs": [],
   "source": [
    "import torch.utils.data as data_utils\n",
    "\n",
    "class PolicyNetwork(torch.nn.Module):\n",
    "    def __init__(self, input_dim, output_dim, hidden_1_dim=3):\n",
    "        super(PolicyNetwork, self).__init__()\n",
    "        self.hid1 = torch.nn.Linear(input_dim, hidden_1_dim)\n",
    "        self.outp = torch.nn.Linear(hidden_1_dim, output_dim)\n",
    "        self.softmax = torch.nn.Softmax(dim=2)\n",
    "        self.leaky_relu = torch.nn.LeakyReLU()\n",
    "        self.tanh = torch.nn.Tanh()\n",
    "\n",
    "        torch.nn.init.xavier_uniform_(self.hid1.weight)\n",
    "        torch.nn.init.zeros_(self.hid1.bias)\n",
    "        torch.nn.init.xavier_uniform_(self.outp.weight)\n",
    "        torch.nn.init.zeros_(self.outp.bias)\n",
    "\n",
    "    def forward(self, x):\n",
    "        z = self.tanh(self.hid1(x))\n",
    "        z = self.outp(z)\n",
    "        return z"
   ]
  },
  {
   "cell_type": "code",
   "execution_count": 673,
   "metadata": {},
   "outputs": [],
   "source": [
    "obs_data_raw = (obs_data_train[x_columns] - df_partial[x_columns].mean())/df_partial[x_columns].std()"
   ]
  },
  {
   "cell_type": "code",
   "execution_count": 674,
   "metadata": {},
   "outputs": [],
   "source": [
    "grp = np.floor(5*np.random.rand(len(obs_data_train))+1)\n",
    "crossval = 1\n",
    "trainidx = (grp != crossval)\n",
    "testidx = (grp == crossval)\n",
    "X = torch.FloatTensor(obs_data_raw.loc[trainidx].values)\n",
    "Xtest = torch.FloatTensor(obs_data_raw.loc[testidx].values)\n",
    "Y = torch.tensor(obs_data_train.loc[trainidx, 'A'].values).to(torch.long)\n",
    "Ytest = torch.tensor(obs_data_train.loc[testidx, 'A'].values).to(torch.long)\n",
    "\n",
    "train = data_utils.TensorDataset(X, Y)\n",
    "trainloader = torch.utils.data.DataLoader(train, batch_size=32)\n",
    "test = data_utils.TensorDataset(Xtest, Ytest)\n",
    "testloader = torch.utils.data.DataLoader(test, batch_size=32)\n",
    "\n",
    "loss_func = torch.nn.CrossEntropyLoss()\n",
    "policy = PolicyNetwork(input_dim=len(obs_data_raw.columns), output_dim=2)\n",
    "optimizer = torch.optim.SGD(policy.parameters(), lr=0.001)\n",
    "losses = []"
   ]
  },
  {
   "cell_type": "code",
   "execution_count": 677,
   "metadata": {},
   "outputs": [
    {
     "name": "stderr",
     "output_type": "stream",
     "text": [
      "100%|██████████| 50/50 [00:46<00:00,  1.08it/s]\n"
     ]
    }
   ],
   "source": [
    "for epoch in tqdm(range(50)):\n",
    "    for data, label in trainloader:\n",
    "        prediction = policy(data)     # input x and predict based on x\n",
    "        loss = loss_func(prediction, label)     # must be (1. nn output, 2. target)\n",
    "        optimizer.zero_grad()   # clear gradients for next train\n",
    "        loss.backward()         # backpropagation, compute gradients\n",
    "        optimizer.step()        # apply gradients\n",
    "    if (epoch + 1) % 10 == 0:\n",
    "        with torch.no_grad():\n",
    "            test_loss = 0\n",
    "            for test_data, test_label in testloader:\n",
    "                test_loss += loss_func(policy(test_data), test_label)\n",
    "            losses.append(test_loss.item()/len(testloader))"
   ]
  },
  {
   "cell_type": "code",
   "execution_count": 678,
   "metadata": {},
   "outputs": [
    {
     "data": {
      "text/plain": [
       "[<matplotlib.lines.Line2D at 0x7f0a6eaa6820>]"
      ]
     },
     "execution_count": 678,
     "metadata": {},
     "output_type": "execute_result"
    },
    {
     "data": {
      "image/png": "[encoded data removed]",
      "text/plain": [
       "<Figure size 432x288 with 1 Axes>"
      ]
     },
     "metadata": {},
     "output_type": "display_data"
    }
   ],
   "source": [
    "plt.plot(losses)"
   ]
  },
  {
   "cell_type": "code",
   "execution_count": 521,
   "metadata": {},
   "outputs": [
    {
     "name": "stdout",
     "output_type": "stream",
     "text": [
      "Accuracy of the policy network: 79 %\n"
     ]
    }
   ],
   "source": [
    "correct = 0\n",
    "total = 0\n",
    "# since we're not training, we don't need to calculate the gradients for our outputs\n",
    "with torch.no_grad():\n",
    "    outputs = policy(Xtest)\n",
    "    # the class with the highest energy is what we choose as prediction\n",
    "    _, predicted = torch.max(outputs.data, 1)\n",
    "    total += Xtest.size(0)\n",
    "    correct += (predicted == Ytest).sum().item()\n",
    "\n",
    "print('Accuracy of the policy network: %d %%' % (\n",
    "    100 * correct / total))"
   ]
  },
  {
   "cell_type": "code",
   "execution_count": 261,
   "metadata": {},
   "outputs": [],
   "source": [
    "PATH=\"/data/localhost/taufiq/export-dir/cartpole/policy_dicts\"\n",
    "torch.save({\n",
    "    'model_state_dict': policy.state_dict(),\n",
    "    'optimizer_state_dict': optimizer.state_dict()\n",
    "}, PATH)"
   ]
  },
  {
   "cell_type": "code",
   "execution_count": 30,
   "metadata": {},
   "outputs": [
    {
     "data": {
      "text/plain": [
       "<All keys matched successfully>"
      ]
     },
     "execution_count": 30,
     "metadata": {},
     "output_type": "execute_result"
    }
   ],
   "source": [
    "checkpoint = torch.load(PATH)\n",
    "policy.load_state_dict(checkpoint['model_state_dict'])"
   ]
  },
  {
   "cell_type": "markdown",
   "metadata": {},
   "source": [
    "# Train $\\mathbb{E}[Y \\mid x, a]$"
   ]
  },
  {
   "cell_type": "code",
   "execution_count": 9,
   "metadata": {},
   "outputs": [],
   "source": [
    "outcome = \"Pole Angle\""
   ]
  },
  {
   "cell_type": "code",
   "execution_count": 119,
   "metadata": {},
   "outputs": [],
   "source": [
    "import torch\n",
    "from torch.autograd import Variable\n",
    "import torch.nn.functional as F\n",
    "import torch.utils.data as Data\n",
    "\n",
    "\n",
    "class Net(torch.nn.Module):\n",
    "    def __init__(self, n_feature, n_hidden, n_output):\n",
    "        super(Net, self).__init__()\n",
    "        self.hidden = torch.nn.Linear(n_feature, n_hidden)   # hidden layer\n",
    "        self.predict = torch.nn.Linear(n_hidden, n_output)   # output layer\n",
    "        self.leakyRelu = torch.nn.LeakyReLU()\n",
    "\n",
    "    def forward(self, x):\n",
    "        x = self.leakyRelu(self.hidden(x))      # activation function for hidden layer\n",
    "        x = self.predict(x)             # linear output\n",
    "        return x"
   ]
  },
  {
   "cell_type": "code",
   "execution_count": 524,
   "metadata": {},
   "outputs": [],
   "source": [
    "grp = np.floor(5*np.random.rand(len(obs_data_train))+1)\n",
    "crossval = 1\n",
    "trainidx = (grp != crossval)\n",
    "testidx = (grp == crossval)\n",
    "X = torch.FloatTensor(obs_data_raw.loc[trainidx].values)\n",
    "Xtest = torch.FloatTensor(obs_data_raw.loc[testidx].values)\n",
    "A = torch.FloatTensor(obs_data_train.loc[trainidx, 'A'].values)\n",
    "Atest = torch.FloatTensor(obs_data_train.loc[testidx, 'A'].values)\n",
    "\n",
    "Y = torch.FloatTensor((obs_data_train.loc[trainidx, f'{outcome}_t1'] - df_partial[outcome].mean()).values/df_partial[outcome].std()).unsqueeze(dim=1)\n",
    "Ytest = torch.FloatTensor((obs_data_train.loc[testidx, f'{outcome}_t1'] - df_partial[outcome].mean()).values/df_partial[outcome].std()).unsqueeze(dim=1)\n",
    "\n",
    "train = data_utils.TensorDataset(torch.column_stack((X, A)), Y)\n",
    "trainloader = torch.utils.data.DataLoader(train, batch_size=32)\n",
    "test = data_utils.TensorDataset(torch.column_stack((Xtest, Atest)), Ytest)\n",
    "testloader = torch.utils.data.DataLoader(test, batch_size=32)\n",
    "\n",
    "loss_func = torch.nn.MSELoss()\n",
    "obs_net = Net(n_feature=len(obs_data_raw.columns)+1, n_hidden=4, n_output=1)\n",
    "optimizer = torch.optim.SGD(obs_net.parameters(), lr=0.01)\n",
    "losses = []"
   ]
  },
  {
   "cell_type": "code",
   "execution_count": 525,
   "metadata": {},
   "outputs": [
    {
     "name": "stderr",
     "output_type": "stream",
     "text": [
      "100%|██████████| 100/100 [01:39<00:00,  1.01it/s]\n"
     ]
    }
   ],
   "source": [
    "for epoch in tqdm(range(100)):\n",
    "    for X, Y in trainloader:\n",
    "        prediction = obs_net(X)     # input x and predict based on x\n",
    "\n",
    "        loss = loss_func(prediction, Y)     # must be (1. nn output, 2. target)\n",
    "\n",
    "        optimizer.zero_grad()   # clear gradients for next train\n",
    "        loss.backward()         # backpropagation, compute gradients\n",
    "        optimizer.step()        # apply gradients\n",
    "    with torch.no_grad():\n",
    "        test_loss = 0\n",
    "        for Xtest, Ytest in testloader:\n",
    "            test_loss += loss_func(obs_net(Xtest), Ytest)\n",
    "        test_loss = test_loss/len(testloader)\n",
    "        losses.append(test_loss.item())"
   ]
  },
  {
   "cell_type": "code",
   "execution_count": 526,
   "metadata": {},
   "outputs": [
    {
     "data": {
      "text/plain": [
       "[<matplotlib.lines.Line2D at 0x7f0a6f79b610>]"
      ]
     },
     "execution_count": 526,
     "metadata": {},
     "output_type": "execute_result"
    },
    {
     "data": {
      "image/png": "[encoded data removed]",
      "text/plain": [
       "<Figure size 432x288 with 1 Axes>"
      ]
     },
     "metadata": {},
     "output_type": "display_data"
    }
   ],
   "source": [
    "plt.plot(losses)"
   ]
  },
  {
   "cell_type": "code",
   "execution_count": 267,
   "metadata": {},
   "outputs": [],
   "source": [
    "PATH=\"/data/localhost/taufiq/export-dir/cartpole/y_obs_dicts\"\n",
    "torch.save({\n",
    "    'model_state_dict': obs_net.state_dict(),\n",
    "    'optimizer_state_dict': optimizer.state_dict()\n",
    "}, PATH)"
   ]
  },
  {
   "cell_type": "code",
   "execution_count": 36,
   "metadata": {},
   "outputs": [
    {
     "data": {
      "text/plain": [
       "<All keys matched successfully>"
      ]
     },
     "execution_count": 36,
     "metadata": {},
     "output_type": "execute_result"
    }
   ],
   "source": [
    "checkpoint = torch.load(PATH)\n",
    "obs_net.load_state_dict(checkpoint['model_state_dict'])"
   ]
  },
  {
   "cell_type": "markdown",
   "metadata": {},
   "source": [
    "# Train $\\mathbb{E}[Y_{max}\\mid x, a]$"
   ]
  },
  {
   "cell_type": "code",
   "execution_count": 11,
   "metadata": {},
   "outputs": [],
   "source": [
    "class PinballLoss():\n",
    "    def __init__(self, quantile=0.10, reduction='none'):\n",
    "        self.quantile = quantile\n",
    "        assert 0 < self.quantile\n",
    "        assert self.quantile < 1\n",
    "        self.reduction = reduction\n",
    "\n",
    "    def __call__(self, output, target):\n",
    "        assert output.shape == target.shape\n",
    "        loss = torch.zeros_like(target, dtype=torch.float)\n",
    "        error = output - target\n",
    "        smaller_index = error < 0\n",
    "        bigger_index = 0 < error\n",
    "        loss[smaller_index] = self.quantile * (abs(error)[smaller_index])\n",
    "        loss[bigger_index] = (1-self.quantile) * (abs(error)[bigger_index])\n",
    "\n",
    "        if self.reduction == 'sum':\n",
    "            loss = loss.sum()\n",
    "        if self.reduction == 'mean':\n",
    "            loss = loss.mean()\n",
    "\n",
    "        return loss"
   ]
  },
  {
   "cell_type": "code",
   "execution_count": 528,
   "metadata": {},
   "outputs": [],
   "source": [
    "quantile_data_raw = (quantile_data[x_columns] - df_partial[x_columns].mean())/df_partial[x_columns].std()"
   ]
  },
  {
   "cell_type": "code",
   "execution_count": 529,
   "metadata": {},
   "outputs": [],
   "source": [
    "grp = np.floor(5*np.random.rand(len(quantile_data))+1)\n",
    "crossval = 1\n",
    "trainidx = (grp != crossval)\n",
    "testidx = (grp == crossval)\n",
    "X = torch.FloatTensor(quantile_data_raw.loc[trainidx].values)\n",
    "Xtest = torch.FloatTensor(quantile_data_raw.loc[testidx].values)\n",
    "A = torch.FloatTensor(quantile_data.loc[trainidx, 'A'].values)\n",
    "Atest = torch.FloatTensor(quantile_data.loc[testidx, 'A'].values)\n",
    "\n",
    "Y = torch.FloatTensor((quantile_data.loc[trainidx, f'{outcome}_t1'] - df_partial[outcome].mean()).values/df_partial[outcome].std()).unsqueeze(dim=1)\n",
    "Ytest = torch.FloatTensor((quantile_data.loc[testidx, f'{outcome}_t1'] - df_partial[outcome].mean()).values/df_partial[outcome].std()).unsqueeze(dim=1)\n",
    "\n",
    "train = data_utils.TensorDataset(X, Y)\n",
    "trainloader = torch.utils.data.DataLoader(train, batch_size=32)\n",
    "test = data_utils.TensorDataset(Xtest, Ytest)\n",
    "testloader = torch.utils.data.DataLoader(test, batch_size=32)\n",
    "\n",
    "loss_func = PinballLoss(quantile=0.99999, reduction='mean')\n",
    "ymax_net = Net(n_feature=len(quantile_data_raw.columns), n_hidden=4, n_output=1)\n",
    "optimizer = torch.optim.SGD(ymax_net.parameters(), lr=0.001)\n",
    "losses = []"
   ]
  },
  {
   "cell_type": "code",
   "execution_count": 530,
   "metadata": {},
   "outputs": [
    {
     "name": "stderr",
     "output_type": "stream",
     "text": [
      "100%|██████████| 100/100 [02:00<00:00,  1.21s/it]\n"
     ]
    }
   ],
   "source": [
    "for epoch in tqdm(range(100)):\n",
    "    for X, Y in trainloader:\n",
    "        prediction = ymax_net(X)     # input x and predict based on x\n",
    "\n",
    "        loss = loss_func(prediction, Y)     # must be (1. nn output, 2. target)\n",
    "\n",
    "        optimizer.zero_grad()   # clear gradients for next train\n",
    "        loss.backward()         # backpropagation, compute gradients\n",
    "        optimizer.step()        # apply gradients\n",
    "    with torch.no_grad():\n",
    "        test_loss = 0\n",
    "        for Xtest, Ytest in testloader:\n",
    "            test_loss += loss_func(ymax_net(Xtest), Ytest)\n",
    "        test_loss = test_loss/len(testloader)\n",
    "        losses.append(test_loss.item())"
   ]
  },
  {
   "cell_type": "code",
   "execution_count": 531,
   "metadata": {},
   "outputs": [
    {
     "data": {
      "text/plain": [
       "[<matplotlib.lines.Line2D at 0x7f0a6f670a00>]"
      ]
     },
     "execution_count": 531,
     "metadata": {},
     "output_type": "execute_result"
    },
    {
     "data": {
      "image/png": "[encoded data removed]",
      "text/plain": [
       "<Figure size 432x288 with 1 Axes>"
      ]
     },
     "metadata": {},
     "output_type": "display_data"
    }
   ],
   "source": [
    "plt.plot(losses)"
   ]
  },
  {
   "cell_type": "code",
   "execution_count": 330,
   "metadata": {},
   "outputs": [],
   "source": [
    "PATH=\"/data/localhost/taufiq/export-dir/cartpole/y_max_dicts\"\n",
    "torch.save({\n",
    "    'model_state_dict': ymax_net.state_dict(),\n",
    "    'optimizer_state_dict': optimizer.state_dict()\n",
    "}, PATH)"
   ]
  },
  {
   "cell_type": "markdown",
   "metadata": {},
   "source": [
    "# Train $\\mathbb{E}[Y_{min}\\mid x, a]$"
   ]
  },
  {
   "cell_type": "code",
   "execution_count": 532,
   "metadata": {},
   "outputs": [],
   "source": [
    "loss_func = PinballLoss(quantile=0.00001, reduction='mean')\n",
    "ymin_net = Net(n_feature=len(quantile_data_raw.columns), n_hidden=4, n_output=1)\n",
    "optimizer = torch.optim.SGD(ymin_net.parameters(), lr=0.001)\n",
    "losses = []"
   ]
  },
  {
   "cell_type": "code",
   "execution_count": 533,
   "metadata": {},
   "outputs": [
    {
     "name": "stderr",
     "output_type": "stream",
     "text": [
      "100%|██████████| 100/100 [02:00<00:00,  1.20s/it]\n"
     ]
    }
   ],
   "source": [
    "for epoch in tqdm(range(100)):\n",
    "    for X, Y in trainloader:\n",
    "        prediction = ymin_net(X)     # input x and predict based on x\n",
    "\n",
    "        loss = loss_func(prediction, Y)     # must be (1. nn output, 2. target)\n",
    "\n",
    "        optimizer.zero_grad()   # clear gradients for next train\n",
    "        loss.backward()         # backpropagation, compute gradients\n",
    "        optimizer.step()        # apply gradients\n",
    "    with torch.no_grad():\n",
    "        test_loss = 0\n",
    "        for Xtest, Ytest in testloader:\n",
    "            test_loss += loss_func(ymin_net(Xtest), Ytest)\n",
    "        test_loss = test_loss/len(testloader)\n",
    "        losses.append(test_loss.item())"
   ]
  },
  {
   "cell_type": "code",
   "execution_count": 534,
   "metadata": {},
   "outputs": [
    {
     "data": {
      "text/plain": [
       "[<matplotlib.lines.Line2D at 0x7f0a6f588610>]"
      ]
     },
     "execution_count": 534,
     "metadata": {},
     "output_type": "execute_result"
    },
    {
     "data": {
      "image/png": "[encoded data removed]",
      "text/plain": [
       "<Figure size 432x288 with 1 Axes>"
      ]
     },
     "metadata": {},
     "output_type": "display_data"
    }
   ],
   "source": [
    "plt.plot(losses)"
   ]
  },
  {
   "cell_type": "code",
   "execution_count": 334,
   "metadata": {},
   "outputs": [],
   "source": [
    "PATH=\"/data/localhost/taufiq/export-dir/cartpole/y_min_dicts\"\n",
    "torch.save({\n",
    "    'model_state_dict': ymax_net.state_dict(),\n",
    "    'optimizer_state_dict': optimizer.state_dict()\n",
    "}, PATH)"
   ]
  },
  {
   "cell_type": "markdown",
   "metadata": {},
   "source": [
    "# Train $\\mathbb{E}[Y^{sim}(a) \\mid x(a)]$"
   ]
  },
  {
   "cell_type": "code",
   "execution_count": 624,
   "metadata": {},
   "outputs": [],
   "source": [
    "sim_data_raw = (sim_data_filtered[x_columns] - df_partial[x_columns].mean())/df_partial[x_columns].std()\n"
   ]
  },
  {
   "cell_type": "code",
   "execution_count": 635,
   "metadata": {},
   "outputs": [],
   "source": [
    "grp = np.floor(5*np.random.rand(len(sim_data_filtered))+1)\n",
    "crossval = 1\n",
    "trainidx = (grp != crossval)\n",
    "testidx = (grp == crossval)\n",
    "X = torch.FloatTensor(sim_data_raw.loc[trainidx].values)\n",
    "Xtest = torch.FloatTensor(sim_data_raw.loc[testidx].values)\n",
    "A = torch.FloatTensor(sim_data_filtered.loc[trainidx, 'A'].values)\n",
    "Atest = torch.FloatTensor(sim_data_filtered.loc[testidx, 'A'].values)\n",
    "\n",
    "Y = torch.FloatTensor((sim_data_filtered.loc[trainidx, f'{outcome}_t1'] - df_partial[outcome].mean()).values/df_partial[outcome].std()).unsqueeze(dim=1)\n",
    "Ytest = torch.FloatTensor((sim_data_filtered.loc[testidx, f'{outcome}_t1'] - df_partial[outcome].mean()).values/df_partial[outcome].std()).unsqueeze(dim=1)\n",
    "\n",
    "train = data_utils.TensorDataset(torch.column_stack((X, A)), Y)\n",
    "trainloader = torch.utils.data.DataLoader(train, batch_size=32)\n",
    "test = data_utils.TensorDataset(torch.column_stack((Xtest, Atest)), Ytest)\n",
    "testloader = torch.utils.data.DataLoader(test, batch_size=32)\n",
    "\n",
    "loss_func = torch.nn.MSELoss()\n",
    "sim_net = Net(n_feature=len(sim_data_raw.columns)+1, n_hidden=4, n_output=1)\n",
    "optimizer = torch.optim.SGD(sim_net.parameters(), lr=0.001)\n",
    "losses = []"
   ]
  },
  {
   "cell_type": "code",
   "execution_count": 636,
   "metadata": {},
   "outputs": [
    {
     "name": "stderr",
     "output_type": "stream",
     "text": [
      "100%|██████████| 100/100 [01:20<00:00,  1.25it/s]\n"
     ]
    }
   ],
   "source": [
    "for epoch in tqdm(range(100)):\n",
    "    for X, Y in trainloader:\n",
    "        prediction = sim_net(X)     # input x and predict based on x\n",
    "\n",
    "        loss = loss_func(prediction, Y)     # must be (1. nn output, 2. target)\n",
    "\n",
    "        optimizer.zero_grad()   # clear gradients for next train\n",
    "        loss.backward()         # backpropagation, compute gradients\n",
    "        optimizer.step()        # apply gradients\n",
    "    with torch.no_grad():\n",
    "        test_loss = 0\n",
    "        for Xtest, Ytest in testloader:\n",
    "            test_loss += loss_func(sim_net(Xtest), Ytest)\n",
    "        test_loss = test_loss/len(testloader)\n",
    "        losses.append(test_loss.item())"
   ]
  },
  {
   "cell_type": "code",
   "execution_count": 639,
   "metadata": {},
   "outputs": [
    {
     "data": {
      "text/plain": [
       "0.9701123237609863"
      ]
     },
     "execution_count": 639,
     "metadata": {},
     "output_type": "execute_result"
    }
   ],
   "source": [
    "losses[-1]"
   ]
  },
  {
   "cell_type": "code",
   "execution_count": 293,
   "metadata": {},
   "outputs": [],
   "source": [
    "PATH=\"/data/localhost/taufiq/export-dir/cartpole/y_sim_dicts\"\n",
    "torch.save({\n",
    "    'model_state_dict': sim_net.state_dict(),\n",
    "    'optimizer_state_dict': optimizer.state_dict()\n",
    "}, PATH)"
   ]
  },
  {
   "cell_type": "code",
   "execution_count": 40,
   "metadata": {},
   "outputs": [
    {
     "data": {
      "text/plain": [
       "<All keys matched successfully>"
      ]
     },
     "execution_count": 40,
     "metadata": {},
     "output_type": "execute_result"
    }
   ],
   "source": [
    "checkpoint = torch.load(PATH)\n",
    "sim_net.load_state_dict(checkpoint['model_state_dict'])"
   ]
  },
  {
   "cell_type": "code",
   "execution_count": 28,
   "metadata": {},
   "outputs": [],
   "source": [
    "# sim_data.head()"
   ]
  },
  {
   "cell_type": "markdown",
   "metadata": {},
   "source": [
    "# Compare MSE with Scores"
   ]
  },
  {
   "cell_type": "code",
   "execution_count": 640,
   "metadata": {},
   "outputs": [],
   "source": [
    "obs_data_test_raw = (obs_data_test[x_columns] - df_partial[x_columns].mean())/df_partial[x_columns].std()"
   ]
  },
  {
   "cell_type": "code",
   "execution_count": 641,
   "metadata": {},
   "outputs": [],
   "source": [
    "obs_data_test_copy = obs_data_test.copy()\n",
    "with torch.no_grad():\n",
    "    X_val = torch.FloatTensor(obs_data_test_raw.values) \n",
    "    A_val = torch.FloatTensor(obs_data_test['A'].values)\n",
    "    pred = obs_net(torch.column_stack((X_val, A_val))).reshape(-1)*df_partial[outcome].std() + df_partial[outcome].mean()\n",
    "    sim_pred = sim_net(torch.column_stack((X_val, A_val))).reshape(-1)*df_partial[outcome].std() + df_partial[outcome].mean()\n",
    "    Y = torch.FloatTensor(obs_data_test[f'{outcome}_t1'].values)\n",
    "    mse = torch.square(sim_pred - Y)\n",
    "    pol_val = torch.nn.Softmax(dim=1)(policy(X_val))[torch.arange(A_val.shape[0]), A_val.to(torch.long)]\n",
    "    ymin = ymin_net(X_val).reshape(-1)*df_partial[outcome].std() + df_partial[outcome].mean()\n",
    "    ymax = ymax_net(X_val).reshape(-1)*df_partial[outcome].std() + df_partial[outcome].mean()\n",
    "    obs_data_test_copy['MSE'] = mse.numpy()\n",
    "    obs_data_test_copy['LB'] = (pred*pol_val + (1-pol_val)*ymin).numpy()\n",
    "    obs_data_test_copy['UB'] = (pred*pol_val + (1-pol_val)*ymax).numpy()\n",
    "    obs_data_test_copy[f'Sim_{outcome}_t1'] = sim_pred.numpy()\n",
    "    obs_data_test_copy['In bounds'] = (obs_data_test_copy['LB'] <= obs_data_test_copy[f'Sim_{outcome}_t1']).apply(int) * (obs_data_test_copy['UB'] >= obs_data_test_copy[f'Sim_{outcome}_t1']).apply(int)\n",
    "    obs_data_test_copy['Bound length'] = obs_data_test_copy['UB'] - obs_data_test_copy['LB']\n",
    "    "
   ]
  },
  {
   "cell_type": "code",
   "execution_count": 642,
   "metadata": {},
   "outputs": [
    {
     "data": {
      "text/html": [
       "<div>\n",
       "<style scoped>\n",
       "    .dataframe tbody tr th:only-of-type {\n",
       "        vertical-align: middle;\n",
       "    }\n",
       "\n",
       "    .dataframe tbody tr th {\n",
       "        vertical-align: top;\n",
       "    }\n",
       "\n",
       "    .dataframe thead th {\n",
       "        text-align: right;\n",
       "    }\n",
       "</style>\n",
       "<table border=\"1\" class=\"dataframe\">\n",
       "  <thead>\n",
       "    <tr style=\"text-align: right;\">\n",
       "      <th></th>\n",
       "      <th>A</th>\n",
       "      <th>Cart Position</th>\n",
       "      <th>Cart Velocity</th>\n",
       "      <th>Pole Angle</th>\n",
       "      <th>Pole Angular Velocity</th>\n",
       "      <th>episode</th>\n",
       "      <th>t</th>\n",
       "      <th>Cart Position_t1</th>\n",
       "      <th>Pole Angle_t1</th>\n",
       "      <th>MSE</th>\n",
       "      <th>LB</th>\n",
       "      <th>UB</th>\n",
       "      <th>Sim_Pole Angle_t1</th>\n",
       "      <th>In bounds</th>\n",
       "      <th>Bound length</th>\n",
       "    </tr>\n",
       "  </thead>\n",
       "  <tbody>\n",
       "    <tr>\n",
       "      <th>12</th>\n",
       "      <td>0.0</td>\n",
       "      <td>-0.004923</td>\n",
       "      <td>-0.028104</td>\n",
       "      <td>0.018981</td>\n",
       "      <td>-0.039786</td>\n",
       "      <td>500.0</td>\n",
       "      <td>12.0</td>\n",
       "      <td>-0.005485</td>\n",
       "      <td>0.018185</td>\n",
       "      <td>0.000014</td>\n",
       "      <td>0.002865</td>\n",
       "      <td>0.034352</td>\n",
       "      <td>0.021971</td>\n",
       "      <td>1</td>\n",
       "      <td>0.031486</td>\n",
       "    </tr>\n",
       "    <tr>\n",
       "      <th>16</th>\n",
       "      <td>1.0</td>\n",
       "      <td>-0.015009</td>\n",
       "      <td>-0.029295</td>\n",
       "      <td>0.028238</td>\n",
       "      <td>-0.013511</td>\n",
       "      <td>500.0</td>\n",
       "      <td>16.0</td>\n",
       "      <td>-0.015595</td>\n",
       "      <td>0.027968</td>\n",
       "      <td>0.000022</td>\n",
       "      <td>0.006608</td>\n",
       "      <td>0.057329</td>\n",
       "      <td>0.032685</td>\n",
       "      <td>1</td>\n",
       "      <td>0.050721</td>\n",
       "    </tr>\n",
       "    <tr>\n",
       "      <th>19</th>\n",
       "      <td>0.0</td>\n",
       "      <td>-0.012889</td>\n",
       "      <td>0.164700</td>\n",
       "      <td>0.022110</td>\n",
       "      <td>-0.281435</td>\n",
       "      <td>500.0</td>\n",
       "      <td>19.0</td>\n",
       "      <td>-0.009595</td>\n",
       "      <td>0.016481</td>\n",
       "      <td>0.000088</td>\n",
       "      <td>0.004301</td>\n",
       "      <td>0.039975</td>\n",
       "      <td>0.025884</td>\n",
       "      <td>1</td>\n",
       "      <td>0.035674</td>\n",
       "    </tr>\n",
       "    <tr>\n",
       "      <th>21</th>\n",
       "      <td>0.0</td>\n",
       "      <td>-0.010210</td>\n",
       "      <td>0.164152</td>\n",
       "      <td>0.016844</td>\n",
       "      <td>-0.269299</td>\n",
       "      <td>500.0</td>\n",
       "      <td>21.0</td>\n",
       "      <td>-0.006927</td>\n",
       "      <td>0.011458</td>\n",
       "      <td>0.000069</td>\n",
       "      <td>0.002317</td>\n",
       "      <td>0.030074</td>\n",
       "      <td>0.019744</td>\n",
       "      <td>1</td>\n",
       "      <td>0.027757</td>\n",
       "    </tr>\n",
       "    <tr>\n",
       "      <th>33</th>\n",
       "      <td>0.0</td>\n",
       "      <td>-0.002180</td>\n",
       "      <td>0.163466</td>\n",
       "      <td>0.002310</td>\n",
       "      <td>-0.254127</td>\n",
       "      <td>500.0</td>\n",
       "      <td>33.0</td>\n",
       "      <td>0.001089</td>\n",
       "      <td>-0.002773</td>\n",
       "      <td>0.000031</td>\n",
       "      <td>-0.007338</td>\n",
       "      <td>0.004173</td>\n",
       "      <td>0.002769</td>\n",
       "      <td>1</td>\n",
       "      <td>0.011512</td>\n",
       "    </tr>\n",
       "  </tbody>\n",
       "</table>\n",
       "</div>"
      ],
      "text/plain": [
       "      A  Cart Position  Cart Velocity  Pole Angle  Pole Angular Velocity  \\\n",
       "12  0.0      -0.004923      -0.028104    0.018981              -0.039786   \n",
       "16  1.0      -0.015009      -0.029295    0.028238              -0.013511   \n",
       "19  0.0      -0.012889       0.164700    0.022110              -0.281435   \n",
       "21  0.0      -0.010210       0.164152    0.016844              -0.269299   \n",
       "33  0.0      -0.002180       0.163466    0.002310              -0.254127   \n",
       "\n",
       "    episode     t  Cart Position_t1  Pole Angle_t1       MSE        LB  \\\n",
       "12    500.0  12.0         -0.005485       0.018185  0.000014  0.002865   \n",
       "16    500.0  16.0         -0.015595       0.027968  0.000022  0.006608   \n",
       "19    500.0  19.0         -0.009595       0.016481  0.000088  0.004301   \n",
       "21    500.0  21.0         -0.006927       0.011458  0.000069  0.002317   \n",
       "33    500.0  33.0          0.001089      -0.002773  0.000031 -0.007338   \n",
       "\n",
       "          UB  Sim_Pole Angle_t1  In bounds  Bound length  \n",
       "12  0.034352           0.021971          1      0.031486  \n",
       "16  0.057329           0.032685          1      0.050721  \n",
       "19  0.039975           0.025884          1      0.035674  \n",
       "21  0.030074           0.019744          1      0.027757  \n",
       "33  0.004173           0.002769          1      0.011512  "
      ]
     },
     "execution_count": 642,
     "metadata": {},
     "output_type": "execute_result"
    }
   ],
   "source": [
    "obs_data_test_copy.head()"
   ]
  },
  {
   "cell_type": "code",
   "execution_count": 643,
   "metadata": {},
   "outputs": [
    {
     "data": {
      "text/plain": [
       "4.012128192698583e-05"
      ]
     },
     "execution_count": 643,
     "metadata": {},
     "output_type": "execute_result"
    }
   ],
   "source": [
    "obs_data_test_copy.loc[obs_data_test_copy['A']==0, 'MSE'].mean()"
   ]
  },
  {
   "cell_type": "code",
   "execution_count": 644,
   "metadata": {},
   "outputs": [
    {
     "data": {
      "text/plain": [
       "2.4464923626510426e-05"
      ]
     },
     "execution_count": 644,
     "metadata": {},
     "output_type": "execute_result"
    }
   ],
   "source": [
    "obs_data_test_copy.loc[obs_data_test_copy['A']==1, 'MSE'].mean()"
   ]
  },
  {
   "cell_type": "code",
   "execution_count": 645,
   "metadata": {},
   "outputs": [
    {
     "name": "stdout",
     "output_type": "stream",
     "text": [
      "p_0 = 0.6529117807134729$\n",
      "p_1 = 1.0$\n"
     ]
    }
   ],
   "source": [
    "p0 = ((obs_data_test_copy['In bounds']==1) & (obs_data_test_copy['A']==0)).sum()/(obs_data_test_copy['A']==0).sum()\n",
    "p1 = ((obs_data_test_copy['In bounds']==1) & (obs_data_test_copy['A']==1)).sum()/(obs_data_test_copy['A']==1).sum()\n",
    "print(f'p_0 = {p0}$')\n",
    "print(f'p_1 = {p1}$')"
   ]
  },
  {
   "cell_type": "code",
   "execution_count": 646,
   "metadata": {},
   "outputs": [
    {
     "data": {
      "text/plain": [
       "<matplotlib.axes._subplots.AxesSubplot at 0x7f0a6ebe92e0>"
      ]
     },
     "execution_count": 646,
     "metadata": {},
     "output_type": "execute_result"
    },
    {
     "data": {
      "image/png": "[encoded data removed]",
      "text/plain": [
       "<Figure size 360x504 with 1 Axes>"
      ]
     },
     "metadata": {},
     "output_type": "display_data"
    }
   ],
   "source": [
    "import seaborn as sns\n",
    "fig, axs = plt.subplots(1, figsize=(5,7))\n",
    "sns.boxplot(y='MSE',x='A', data=obs_data_test_copy.astype({'A': 'str'}), ax=axs, showfliers=False)"
   ]
  },
  {
   "cell_type": "code",
   "execution_count": 647,
   "metadata": {},
   "outputs": [
    {
     "data": {
      "text/plain": [
       "<matplotlib.axes._subplots.AxesSubplot at 0x7f0a6f1530d0>"
      ]
     },
     "execution_count": 647,
     "metadata": {},
     "output_type": "execute_result"
    },
    {
     "data": {
      "image/png": "[encoded data removed]",
      "text/plain": [
       "<Figure size 360x504 with 1 Axes>"
      ]
     },
     "metadata": {},
     "output_type": "display_data"
    }
   ],
   "source": [
    "import seaborn as sns\n",
    "fig, axs = plt.subplots(1, figsize=(5,7))\n",
    "sns.boxplot(y='Bound length',x='A', data=obs_data_test_copy.astype({'A': 'str'}), ax=axs, showfliers=False)"
   ]
  },
  {
   "cell_type": "markdown",
   "metadata": {},
   "source": [
    "# Simulator 2: wrong model\n",
    "\n",
    "Simulator 2 is wrong but should attain lower MSE than previous simulator"
   ]
  },
  {
   "cell_type": "code",
   "execution_count": 612,
   "metadata": {},
   "outputs": [],
   "source": [
    "sim2_data = sim_data_filtered.copy()"
   ]
  },
  {
   "cell_type": "code",
   "execution_count": 613,
   "metadata": {},
   "outputs": [],
   "source": [
    "epsilon = 0.005\n",
    "# sim2_data.loc[sim2_data['Pole Angle'] > 0,'Pole Angle_t1'] -= epsilon\n",
    "sim2_data.loc[sim2_data['A']==0,'Pole Angle_t1'] -= epsilon\n",
    "sim2_data.loc[sim2_data['A']==1,'Pole Angle_t1'] += epsilon"
   ]
  },
  {
   "cell_type": "code",
   "execution_count": 614,
   "metadata": {},
   "outputs": [
    {
     "data": {
      "text/html": [
       "<div>\n",
       "<style scoped>\n",
       "    .dataframe tbody tr th:only-of-type {\n",
       "        vertical-align: middle;\n",
       "    }\n",
       "\n",
       "    .dataframe tbody tr th {\n",
       "        vertical-align: top;\n",
       "    }\n",
       "\n",
       "    .dataframe thead th {\n",
       "        text-align: right;\n",
       "    }\n",
       "</style>\n",
       "<table border=\"1\" class=\"dataframe\">\n",
       "  <thead>\n",
       "    <tr style=\"text-align: right;\">\n",
       "      <th></th>\n",
       "      <th>A</th>\n",
       "      <th>Cart Position</th>\n",
       "      <th>Cart Velocity</th>\n",
       "      <th>Pole Angle</th>\n",
       "      <th>Pole Angular Velocity</th>\n",
       "      <th>episode</th>\n",
       "      <th>t</th>\n",
       "      <th>Cart Position_t1</th>\n",
       "      <th>Cart Velocity_t1</th>\n",
       "      <th>Pole Angle_t1</th>\n",
       "    </tr>\n",
       "  </thead>\n",
       "  <tbody>\n",
       "    <tr>\n",
       "      <th>0</th>\n",
       "      <td>1.0</td>\n",
       "      <td>0.046372</td>\n",
       "      <td>-0.012572</td>\n",
       "      <td>0.025780</td>\n",
       "      <td>0.041553</td>\n",
       "      <td>0.0</td>\n",
       "      <td>0.0</td>\n",
       "      <td>0.046121</td>\n",
       "      <td>0.182171</td>\n",
       "      <td>0.031611</td>\n",
       "    </tr>\n",
       "    <tr>\n",
       "      <th>1</th>\n",
       "      <td>0.0</td>\n",
       "      <td>0.046121</td>\n",
       "      <td>0.182171</td>\n",
       "      <td>0.026611</td>\n",
       "      <td>-0.242886</td>\n",
       "      <td>0.0</td>\n",
       "      <td>1.0</td>\n",
       "      <td>0.049764</td>\n",
       "      <td>-0.013321</td>\n",
       "      <td>0.016754</td>\n",
       "    </tr>\n",
       "    <tr>\n",
       "      <th>2</th>\n",
       "      <td>0.0</td>\n",
       "      <td>0.049764</td>\n",
       "      <td>-0.013321</td>\n",
       "      <td>0.021754</td>\n",
       "      <td>0.058071</td>\n",
       "      <td>0.0</td>\n",
       "      <td>2.0</td>\n",
       "      <td>0.049498</td>\n",
       "      <td>-0.208748</td>\n",
       "      <td>0.017915</td>\n",
       "    </tr>\n",
       "    <tr>\n",
       "      <th>3</th>\n",
       "      <td>0.0</td>\n",
       "      <td>0.049498</td>\n",
       "      <td>-0.208748</td>\n",
       "      <td>0.022915</td>\n",
       "      <td>0.357537</td>\n",
       "      <td>0.0</td>\n",
       "      <td>3.0</td>\n",
       "      <td>0.045323</td>\n",
       "      <td>-0.404188</td>\n",
       "      <td>0.025066</td>\n",
       "    </tr>\n",
       "    <tr>\n",
       "      <th>4</th>\n",
       "      <td>1.0</td>\n",
       "      <td>0.045323</td>\n",
       "      <td>-0.404188</td>\n",
       "      <td>0.030066</td>\n",
       "      <td>0.657356</td>\n",
       "      <td>0.0</td>\n",
       "      <td>4.0</td>\n",
       "      <td>0.037239</td>\n",
       "      <td>-0.209497</td>\n",
       "      <td>0.048213</td>\n",
       "    </tr>\n",
       "  </tbody>\n",
       "</table>\n",
       "</div>"
      ],
      "text/plain": [
       "     A  Cart Position  Cart Velocity  Pole Angle  Pole Angular Velocity  \\\n",
       "0  1.0       0.046372      -0.012572    0.025780               0.041553   \n",
       "1  0.0       0.046121       0.182171    0.026611              -0.242886   \n",
       "2  0.0       0.049764      -0.013321    0.021754               0.058071   \n",
       "3  0.0       0.049498      -0.208748    0.022915               0.357537   \n",
       "4  1.0       0.045323      -0.404188    0.030066               0.657356   \n",
       "\n",
       "   episode    t  Cart Position_t1  Cart Velocity_t1  Pole Angle_t1  \n",
       "0      0.0  0.0          0.046121          0.182171       0.031611  \n",
       "1      0.0  1.0          0.049764         -0.013321       0.016754  \n",
       "2      0.0  2.0          0.049498         -0.208748       0.017915  \n",
       "3      0.0  3.0          0.045323         -0.404188       0.025066  \n",
       "4      0.0  4.0          0.037239         -0.209497       0.048213  "
      ]
     },
     "execution_count": 614,
     "metadata": {},
     "output_type": "execute_result"
    }
   ],
   "source": [
    "sim2_data.head()"
   ]
  },
  {
   "cell_type": "code",
   "execution_count": 573,
   "metadata": {},
   "outputs": [],
   "source": [
    "sim2_data.to_csv(\"/data/localhost/taufiq/export-dir/Cartpole-v1-sim2-data.csv\", index=False)"
   ]
  },
  {
   "cell_type": "markdown",
   "metadata": {},
   "source": [
    "# Train $\\mathbb{E}[Y^{sim2}(a) \\mid x(a)]$"
   ]
  },
  {
   "cell_type": "code",
   "execution_count": 648,
   "metadata": {},
   "outputs": [],
   "source": [
    "sim2_data_raw = (sim2_data[x_columns] - df_partial[x_columns].mean())/df_partial[x_columns].std()"
   ]
  },
  {
   "cell_type": "code",
   "execution_count": 649,
   "metadata": {},
   "outputs": [],
   "source": [
    "grp = np.floor(5*np.random.rand(len(sim2_data))+1)\n",
    "crossval = 1\n",
    "trainidx = (grp != crossval)\n",
    "testidx = (grp == crossval)\n",
    "X = torch.FloatTensor(sim2_data_raw.loc[trainidx].values)\n",
    "Xtest = torch.FloatTensor(sim2_data_raw.loc[testidx].values)\n",
    "A = torch.FloatTensor(sim2_data.loc[trainidx, 'A'].values)\n",
    "Atest = torch.FloatTensor(sim2_data.loc[testidx, 'A'].values)\n",
    "\n",
    "Y = torch.FloatTensor((sim2_data.loc[trainidx, f'{outcome}_t1'] - df_partial[outcome].mean()).values/df_partial[outcome].std()).unsqueeze(dim=1)\n",
    "Ytest = torch.FloatTensor((sim2_data.loc[testidx, f'{outcome}_t1'] - df_partial[outcome].mean()).values/df_partial[outcome].std()).unsqueeze(dim=1)\n",
    "\n",
    "train = data_utils.TensorDataset(torch.column_stack((X, A)), Y)\n",
    "trainloader = torch.utils.data.DataLoader(train, batch_size=32)\n",
    "test = data_utils.TensorDataset(torch.column_stack((Xtest, Atest)), Ytest)\n",
    "testloader = torch.utils.data.DataLoader(test, batch_size=32)\n",
    "\n",
    "loss_func = torch.nn.MSELoss()\n",
    "sim2_net = Net(n_feature=len(sim2_data_raw.columns)+1, n_hidden=4, n_output=1)\n",
    "optimizer = torch.optim.SGD(sim2_net.parameters(), lr=0.001)\n",
    "losses = []"
   ]
  },
  {
   "cell_type": "code",
   "execution_count": 650,
   "metadata": {},
   "outputs": [
    {
     "name": "stderr",
     "output_type": "stream",
     "text": [
      "100%|██████████| 100/100 [01:22<00:00,  1.21it/s]\n"
     ]
    }
   ],
   "source": [
    "for epoch in tqdm(range(100)):\n",
    "    for X, Y in trainloader:\n",
    "        prediction = sim2_net(X)     # input x and predict based on x\n",
    "\n",
    "        loss = loss_func(prediction, Y)     # must be (1. nn output, 2. target)\n",
    "\n",
    "        optimizer.zero_grad()   # clear gradients for next train\n",
    "        loss.backward()         # backpropagation, compute gradients\n",
    "        optimizer.step()        # apply gradients\n",
    "    with torch.no_grad():\n",
    "        test_loss = 0\n",
    "        for Xtest, Ytest in testloader:\n",
    "            test_loss += loss_func(sim2_net(Xtest), Ytest)\n",
    "        test_loss = test_loss/len(testloader)\n",
    "        losses.append(test_loss.item())"
   ]
  },
  {
   "cell_type": "code",
   "execution_count": 651,
   "metadata": {},
   "outputs": [
    {
     "data": {
      "text/plain": [
       "[<matplotlib.lines.Line2D at 0x7f0a745be2e0>]"
      ]
     },
     "execution_count": 651,
     "metadata": {},
     "output_type": "execute_result"
    },
    {
     "data": {
      "image/png": "[encoded data removed]",
      "text/plain": [
       "<Figure size 432x288 with 1 Axes>"
      ]
     },
     "metadata": {},
     "output_type": "display_data"
    }
   ],
   "source": [
    "plt.plot(losses)"
   ]
  },
  {
   "cell_type": "code",
   "execution_count": 366,
   "metadata": {},
   "outputs": [],
   "source": [
    "PATH=\"/data/localhost/taufiq/export-dir/cartpole/y_sim2_dicts\"\n",
    "torch.save({\n",
    "    'model_state_dict': sim2_net.state_dict(),\n",
    "    'optimizer_state_dict': optimizer.state_dict()\n",
    "}, PATH)"
   ]
  },
  {
   "cell_type": "code",
   "execution_count": 652,
   "metadata": {},
   "outputs": [],
   "source": [
    "obs_data_test_copy2 = obs_data_test.copy()\n",
    "with torch.no_grad():\n",
    "    X_val = torch.FloatTensor(obs_data_test_raw.values) \n",
    "    A_val = torch.FloatTensor(obs_data_test['A'].values)\n",
    "    pred = obs_net(torch.column_stack((X_val, A_val))).reshape(-1)*df_partial[outcome].std() + df_partial[outcome].mean()\n",
    "    sim2_pred = sim2_net(torch.column_stack((X_val, A_val))).reshape(-1)*df_partial[outcome].std() + df_partial[outcome].mean()\n",
    "    Y = torch.FloatTensor(obs_data_test[f'{outcome}_t1'].values)\n",
    "    mse = torch.square(sim2_pred - Y)\n",
    "    pol_val = torch.nn.Softmax(dim=1)(policy(X_val))[torch.arange(A_val.shape[0]), A_val.to(torch.long)]\n",
    "    ymin = ymin_net(X_val).reshape(-1)*df_partial[outcome].std() + df_partial[outcome].mean()\n",
    "    ymax = ymax_net(X_val).reshape(-1)*df_partial[outcome].std() + df_partial[outcome].mean()\n",
    "    obs_data_test_copy2['MSE'] = mse.numpy()\n",
    "    obs_data_test_copy2['LB'] = (pred*pol_val + (1-pol_val)*ymin).numpy()\n",
    "    obs_data_test_copy2['UB'] = (pred*pol_val + (1-pol_val)*ymax).numpy()\n",
    "    obs_data_test_copy2[f'Sim2_{outcome}_t1'] = sim2_pred.numpy()\n",
    "    obs_data_test_copy2['In bounds'] = (obs_data_test_copy2['LB'] <= obs_data_test_copy2[f'Sim2_{outcome}_t1']).apply(int) * (obs_data_test_copy2['UB'] >= obs_data_test_copy2[f'Sim2_{outcome}_t1']).apply(int)\n",
    "    obs_data_test_copy2['Bound length'] = obs_data_test_copy2['UB'] - obs_data_test_copy2['LB']\n"
   ]
  },
  {
   "cell_type": "code",
   "execution_count": 653,
   "metadata": {},
   "outputs": [
    {
     "data": {
      "text/plain": [
       "<matplotlib.axes._subplots.AxesSubplot at 0x7f0a74342a60>"
      ]
     },
     "execution_count": 653,
     "metadata": {},
     "output_type": "execute_result"
    },
    {
     "data": {
      "image/png": "[encoded data removed]",
      "text/plain": [
       "<Figure size 360x504 with 1 Axes>"
      ]
     },
     "metadata": {},
     "output_type": "display_data"
    }
   ],
   "source": [
    "import seaborn as sns\n",
    "fig, axs = plt.subplots(1, figsize=(5,7))\n",
    "sns.boxplot(y='MSE',x='A', data=obs_data_test_copy2.astype({'A': 'str'}), ax=axs, showfliers=False)"
   ]
  },
  {
   "cell_type": "code",
   "execution_count": 654,
   "metadata": {},
   "outputs": [
    {
     "name": "stdout",
     "output_type": "stream",
     "text": [
      "p_0=0.633961704022562\n",
      "p_1=1.0\n"
     ]
    }
   ],
   "source": [
    "p0 = ((obs_data_test_copy2['In bounds']==1) & (obs_data_test_copy2['A']==0)).sum()/(obs_data_test_copy2['A']==0).sum()\n",
    "p1 = ((obs_data_test_copy2['In bounds']==1) & (obs_data_test_copy2['A']==1)).sum()/(obs_data_test_copy2['A']==1).sum()\n",
    "print(f'p_0={p0}')\n",
    "print(f'p_1={p1}')\n"
   ]
  },
  {
   "cell_type": "markdown",
   "metadata": {},
   "source": [
    "# Analysis of experiment results"
   ]
  },
  {
   "cell_type": "code",
   "execution_count": 133,
   "metadata": {},
   "outputs": [],
   "source": [
    "nreps = 250\n",
    "outcome = 'Pole Angle'\n",
    "obs_data_train = pd.read_csv(\"/data/localhost/taufiq/export-dir/Cartpole-v1-obs-data-train.csv\")\n",
    "df = pd.read_csv(\"/data/localhost/taufiq/export-dir/Cartpole-v1-obs-data.csv\")\n"
   ]
  },
  {
   "cell_type": "code",
   "execution_count": 134,
   "metadata": {},
   "outputs": [],
   "source": [
    "df_partial = df.copy()\n"
   ]
  },
  {
   "cell_type": "code",
   "execution_count": 268,
   "metadata": {},
   "outputs": [
    {
     "name": "stderr",
     "output_type": "stream",
     "text": [
      "100%|██████████| 250/250 [00:10<00:00, 23.02it/s]\n"
     ]
    }
   ],
   "source": [
    "obs_data_test = pd.read_csv(\"/data/localhost/taufiq/export-dir/Cartpole-v1-obs-data-test.csv\")\n",
    "obs_data_test['A'] = obs_data_test['A'].astype({'A': 'int'})\n",
    "obs_data_test_raw = (obs_data_test[x_columns] - df_partial[x_columns].mean())/df_partial[x_columns].std()\n",
    "\n",
    "obs_data_test['$||Y^{sim} - Y^{obs}||^2$ (Sim-1)'] = 0\n",
    "obs_data_test['$||Y^{sim} - Y^{obs}||^2$ (Sim-2)'] = 0\n",
    "obs_data_test['$||Y^{sim} - Y^{obs}||^2$ (Sim-3)'] = 0\n",
    "obs_data_test['$\\hat{p}^{x,a}$ (Sim-1)'] = 0\n",
    "obs_data_test['$\\hat{p}^{x,a}$ (Sim-2)'] = 0\n",
    "obs_data_test['$\\hat{p}^{x,a}$ (Sim-3)'] = 0\n",
    "\n",
    "for i in tqdm(range(nreps)):\n",
    "    models_dir = \"/data/localhost/taufiq/cartpole_sim_run2_rand_pol_sim_x_no_velocity/\"\n",
    "    policy = PolicyNetwork(input_dim=len(obs_data_test_raw.columns), output_dim=2)\n",
    "    policy.load_state_dict(torch.load(f'{models_dir}/policy_{i}'))\n",
    "    policy.eval()\n",
    "    obs_net = Net(n_feature=len(obs_data_test_raw.columns)+1, n_hidden=4, n_output=1)\n",
    "    obs_net.load_state_dict(torch.load(f'{models_dir}/yobs_{i}'))\n",
    "    obs_net.eval()\n",
    "    ymin_net = Net(n_feature=len(obs_data_test_raw.columns)+1, n_hidden=4, n_output=1)\n",
    "    ymin_net.load_state_dict(torch.load(f'{models_dir}/ymin_01_{i}'))\n",
    "    ymin_net.eval()\n",
    "    ymax_net = Net(n_feature=len(obs_data_test_raw.columns)+1, n_hidden=4, n_output=1)\n",
    "    ymax_net.load_state_dict(torch.load(f'{models_dir}/ymax_99_{i}'))\n",
    "    ymax_net.eval()\n",
    "    sim_net = Net(n_feature=len(obs_data_test_raw.columns)+1, n_hidden=4, n_output=1)\n",
    "    sim_net.load_state_dict(torch.load(f'{models_dir}/ysim_{i}'))\n",
    "    sim_net.eval()\n",
    "    sim2_net = Net(n_feature=len(obs_data_test_raw.columns)+1, n_hidden=4, n_output=1)\n",
    "    sim2_net.load_state_dict(torch.load(f'{models_dir}/ysim_false2_{i}'))\n",
    "    sim2_net.eval()\n",
    "    sim3_net = Net(n_feature=len(obs_data_test_raw.columns)+1, n_hidden=4, n_output=1)\n",
    "    sim3_net.load_state_dict(torch.load(f'{models_dir}/ysim_false_{i}'))\n",
    "    sim3_net.eval()\n",
    "    \n",
    "    with torch.no_grad():\n",
    "        X_val = torch.FloatTensor(obs_data_test_raw.values) \n",
    "        A_val = torch.FloatTensor(obs_data_test['A'].values)\n",
    "        pred = obs_net(torch.column_stack((X_val, A_val))).reshape(-1)*df_partial[outcome].std() + df_partial[outcome].mean()\n",
    "        sim_pred = sim_net(torch.column_stack((X_val, A_val))).reshape(-1)*df_partial[outcome].std() + df_partial[outcome].mean()\n",
    "        sim2_pred = sim2_net(torch.column_stack((X_val, A_val))).reshape(-1)*df_partial[outcome].std() + df_partial[outcome].mean()\n",
    "        sim3_pred = sim3_net(torch.column_stack((X_val, A_val))).reshape(-1)*df_partial[outcome].std() + df_partial[outcome].mean()\n",
    "        Y = torch.FloatTensor(obs_data_test[f'{outcome}_t1'].values)\n",
    "        mse = torch.square(sim_pred - Y)\n",
    "        mse2 = torch.square(sim2_pred - Y)\n",
    "        mse3 = torch.square(sim3_pred - Y)\n",
    "        pol_val = torch.nn.Softmax(dim=1)(policy(X_val))[torch.arange(A_val.shape[0]), A_val.to(torch.long)]\n",
    "        ymin = ymin_net(torch.column_stack((X_val, A_val))).reshape(-1)*df_partial[outcome].std() + df_partial[outcome].mean()\n",
    "        ymax = ymax_net(torch.column_stack((X_val, A_val))).reshape(-1)*df_partial[outcome].std() + df_partial[outcome].mean()        \n",
    "        obs_data_test['pol_val'] = pol_val.numpy()\n",
    "        obs_data_test['$||Y^{sim} - Y^{obs}||^2$ (Sim-1)'] += mse.numpy()\n",
    "        obs_data_test['$||Y^{sim} - Y^{obs}||^2$ (Sim-2)'] += mse2.numpy()\n",
    "        obs_data_test['$||Y^{sim} - Y^{obs}||^2$ (Sim-3)'] += mse3.numpy()\n",
    "        obs_data_test['LB'] = (pred*pol_val + (1-pol_val)*ymin).numpy()\n",
    "        obs_data_test['UB'] = (pred*pol_val + (1-pol_val)*ymax).numpy()\n",
    "        obs_data_test[f'Sim-1_{outcome}_t1'] = sim_pred.numpy()\n",
    "        obs_data_test['$\\hat{p}^{x,a}$ (Sim-1)'] += (obs_data_test['LB'] <= obs_data_test[f'Sim-1_{outcome}_t1']).apply(int) * (obs_data_test['UB'] >= obs_data_test[f'Sim-1_{outcome}_t1']).apply(int)\n",
    "        obs_data_test[f'Sim-2_{outcome}_t1'] = sim2_pred.numpy()\n",
    "        obs_data_test['$\\hat{p}^{x,a}$ (Sim-2)'] += (obs_data_test['LB'] <= obs_data_test[f'Sim-2_{outcome}_t1']).apply(int) * (obs_data_test['UB'] >= obs_data_test[f'Sim-2_{outcome}_t1']).apply(int)\n",
    "        obs_data_test[f'Sim-3_{outcome}_t1'] = sim3_pred.numpy()\n",
    "        obs_data_test['$\\hat{p}^{x,a}$ (Sim-3)'] += (obs_data_test['LB'] <= obs_data_test[f'Sim-3_{outcome}_t1']).apply(int) * (obs_data_test['UB'] >= obs_data_test[f'Sim-3_{outcome}_t1']).apply(int)\n",
    "        obs_data_test['Bound length'] = obs_data_test['UB'] - obs_data_test['LB']\n",
    "    \n",
    "obs_data_test['$||Y^{sim} - Y^{obs}||^2$ (Sim-1)'] /= nreps\n",
    "obs_data_test['$||Y^{sim} - Y^{obs}||^2$ (Sim-2)'] /= nreps\n",
    "obs_data_test['$||Y^{sim} - Y^{obs}||^2$ (Sim-3)'] /= nreps\n",
    "obs_data_test['$\\hat{p}^{x,a}$ (Sim-1)'] /= nreps\n",
    "obs_data_test['$\\hat{p}^{x,a}$ (Sim-2)'] /= nreps\n",
    "obs_data_test['$\\hat{p}^{x,a}$ (Sim-3)'] /= nreps"
   ]
  },
  {
   "cell_type": "code",
   "execution_count": 269,
   "metadata": {},
   "outputs": [
    {
     "data": {
      "text/html": [
       "<div>\n",
       "<style scoped>\n",
       "    .dataframe tbody tr th:only-of-type {\n",
       "        vertical-align: middle;\n",
       "    }\n",
       "\n",
       "    .dataframe tbody tr th {\n",
       "        vertical-align: top;\n",
       "    }\n",
       "\n",
       "    .dataframe thead th {\n",
       "        text-align: right;\n",
       "    }\n",
       "</style>\n",
       "<table border=\"1\" class=\"dataframe\">\n",
       "  <thead>\n",
       "    <tr style=\"text-align: right;\">\n",
       "      <th></th>\n",
       "      <th>A</th>\n",
       "      <th>Cart Position</th>\n",
       "      <th>Cart Velocity (abs)</th>\n",
       "      <th>Pole Angle</th>\n",
       "      <th>Pole Angular Velocity (abs)</th>\n",
       "      <th>episode</th>\n",
       "      <th>t</th>\n",
       "      <th>Pole Angular Velocity (sign)</th>\n",
       "      <th>Cart Velocity (sign)</th>\n",
       "      <th>Cart Position_t1</th>\n",
       "      <th>...</th>\n",
       "      <th>$\\hat{p}^{x,a}$ (Sim-1)</th>\n",
       "      <th>$\\hat{p}^{x,a}$ (Sim-2)</th>\n",
       "      <th>$\\hat{p}^{x,a}$ (Sim-3)</th>\n",
       "      <th>pol_val</th>\n",
       "      <th>LB</th>\n",
       "      <th>UB</th>\n",
       "      <th>Sim-1_Pole Angle_t1</th>\n",
       "      <th>Sim-2_Pole Angle_t1</th>\n",
       "      <th>Sim-3_Pole Angle_t1</th>\n",
       "      <th>Bound length</th>\n",
       "    </tr>\n",
       "  </thead>\n",
       "  <tbody>\n",
       "    <tr>\n",
       "      <th>0</th>\n",
       "      <td>0</td>\n",
       "      <td>0.017909</td>\n",
       "      <td>0.027689</td>\n",
       "      <td>-0.004355</td>\n",
       "      <td>0.048940</td>\n",
       "      <td>500.0</td>\n",
       "      <td>6.0</td>\n",
       "      <td>-1</td>\n",
       "      <td>-1</td>\n",
       "      <td>0.017355</td>\n",
       "      <td>...</td>\n",
       "      <td>0.968</td>\n",
       "      <td>0.036</td>\n",
       "      <td>0.020</td>\n",
       "      <td>0.917415</td>\n",
       "      <td>-0.008736</td>\n",
       "      <td>-0.004870</td>\n",
       "      <td>-0.005678</td>\n",
       "      <td>-0.009632</td>\n",
       "      <td>-0.011239</td>\n",
       "      <td>0.003866</td>\n",
       "    </tr>\n",
       "    <tr>\n",
       "      <th>1</th>\n",
       "      <td>0</td>\n",
       "      <td>-0.004923</td>\n",
       "      <td>0.028104</td>\n",
       "      <td>0.018981</td>\n",
       "      <td>0.039786</td>\n",
       "      <td>500.0</td>\n",
       "      <td>12.0</td>\n",
       "      <td>-1</td>\n",
       "      <td>-1</td>\n",
       "      <td>-0.005485</td>\n",
       "      <td>...</td>\n",
       "      <td>1.000</td>\n",
       "      <td>1.000</td>\n",
       "      <td>0.376</td>\n",
       "      <td>0.634503</td>\n",
       "      <td>0.008058</td>\n",
       "      <td>0.025524</td>\n",
       "      <td>0.021839</td>\n",
       "      <td>0.017178</td>\n",
       "      <td>0.016434</td>\n",
       "      <td>0.017466</td>\n",
       "    </tr>\n",
       "    <tr>\n",
       "      <th>2</th>\n",
       "      <td>0</td>\n",
       "      <td>-0.002272</td>\n",
       "      <td>0.163339</td>\n",
       "      <td>0.003266</td>\n",
       "      <td>0.251321</td>\n",
       "      <td>500.0</td>\n",
       "      <td>27.0</td>\n",
       "      <td>-1</td>\n",
       "      <td>1</td>\n",
       "      <td>0.000995</td>\n",
       "      <td>...</td>\n",
       "      <td>1.000</td>\n",
       "      <td>1.000</td>\n",
       "      <td>0.168</td>\n",
       "      <td>0.714456</td>\n",
       "      <td>-0.006338</td>\n",
       "      <td>0.007580</td>\n",
       "      <td>0.003615</td>\n",
       "      <td>-0.000303</td>\n",
       "      <td>-0.002506</td>\n",
       "      <td>0.013918</td>\n",
       "    </tr>\n",
       "    <tr>\n",
       "      <th>3</th>\n",
       "      <td>0</td>\n",
       "      <td>-0.002180</td>\n",
       "      <td>0.163466</td>\n",
       "      <td>0.002310</td>\n",
       "      <td>0.254127</td>\n",
       "      <td>500.0</td>\n",
       "      <td>33.0</td>\n",
       "      <td>-1</td>\n",
       "      <td>1</td>\n",
       "      <td>0.001089</td>\n",
       "      <td>...</td>\n",
       "      <td>0.988</td>\n",
       "      <td>1.000</td>\n",
       "      <td>0.156</td>\n",
       "      <td>0.765071</td>\n",
       "      <td>-0.006212</td>\n",
       "      <td>0.005213</td>\n",
       "      <td>0.002559</td>\n",
       "      <td>-0.001364</td>\n",
       "      <td>-0.003435</td>\n",
       "      <td>0.011425</td>\n",
       "    </tr>\n",
       "    <tr>\n",
       "      <th>4</th>\n",
       "      <td>0</td>\n",
       "      <td>0.010897</td>\n",
       "      <td>0.163602</td>\n",
       "      <td>-0.018024</td>\n",
       "      <td>0.257135</td>\n",
       "      <td>500.0</td>\n",
       "      <td>37.0</td>\n",
       "      <td>-1</td>\n",
       "      <td>1</td>\n",
       "      <td>0.014169</td>\n",
       "      <td>...</td>\n",
       "      <td>0.948</td>\n",
       "      <td>0.036</td>\n",
       "      <td>0.020</td>\n",
       "      <td>0.940501</td>\n",
       "      <td>-0.022764</td>\n",
       "      <td>-0.020347</td>\n",
       "      <td>-0.020425</td>\n",
       "      <td>-0.025447</td>\n",
       "      <td>-0.025721</td>\n",
       "      <td>0.002416</td>\n",
       "    </tr>\n",
       "  </tbody>\n",
       "</table>\n",
       "<p>5 rows × 26 columns</p>\n",
       "</div>"
      ],
      "text/plain": [
       "   A  Cart Position  Cart Velocity (abs)  Pole Angle  \\\n",
       "0  0       0.017909             0.027689   -0.004355   \n",
       "1  0      -0.004923             0.028104    0.018981   \n",
       "2  0      -0.002272             0.163339    0.003266   \n",
       "3  0      -0.002180             0.163466    0.002310   \n",
       "4  0       0.010897             0.163602   -0.018024   \n",
       "\n",
       "   Pole Angular Velocity (abs)  episode     t  Pole Angular Velocity (sign)  \\\n",
       "0                     0.048940    500.0   6.0                            -1   \n",
       "1                     0.039786    500.0  12.0                            -1   \n",
       "2                     0.251321    500.0  27.0                            -1   \n",
       "3                     0.254127    500.0  33.0                            -1   \n",
       "4                     0.257135    500.0  37.0                            -1   \n",
       "\n",
       "   Cart Velocity (sign)  Cart Position_t1  ...  $\\hat{p}^{x,a}$ (Sim-1)  \\\n",
       "0                    -1          0.017355  ...                    0.968   \n",
       "1                    -1         -0.005485  ...                    1.000   \n",
       "2                     1          0.000995  ...                    1.000   \n",
       "3                     1          0.001089  ...                    0.988   \n",
       "4                     1          0.014169  ...                    0.948   \n",
       "\n",
       "   $\\hat{p}^{x,a}$ (Sim-2)  $\\hat{p}^{x,a}$ (Sim-3)   pol_val        LB  \\\n",
       "0                    0.036                    0.020  0.917415 -0.008736   \n",
       "1                    1.000                    0.376  0.634503  0.008058   \n",
       "2                    1.000                    0.168  0.714456 -0.006338   \n",
       "3                    1.000                    0.156  0.765071 -0.006212   \n",
       "4                    0.036                    0.020  0.940501 -0.022764   \n",
       "\n",
       "         UB  Sim-1_Pole Angle_t1  Sim-2_Pole Angle_t1  Sim-3_Pole Angle_t1  \\\n",
       "0 -0.004870            -0.005678            -0.009632            -0.011239   \n",
       "1  0.025524             0.021839             0.017178             0.016434   \n",
       "2  0.007580             0.003615            -0.000303            -0.002506   \n",
       "3  0.005213             0.002559            -0.001364            -0.003435   \n",
       "4 -0.020347            -0.020425            -0.025447            -0.025721   \n",
       "\n",
       "   Bound length  \n",
       "0      0.003866  \n",
       "1      0.017466  \n",
       "2      0.013918  \n",
       "3      0.011425  \n",
       "4      0.002416  \n",
       "\n",
       "[5 rows x 26 columns]"
      ]
     },
     "execution_count": 269,
     "metadata": {},
     "output_type": "execute_result"
    }
   ],
   "source": [
    "obs_data_test.head()"
   ]
  },
  {
   "cell_type": "code",
   "execution_count": 270,
   "metadata": {},
   "outputs": [
    {
     "data": {
      "text/plain": [
       "(0.0, 1.0)"
      ]
     },
     "execution_count": 270,
     "metadata": {},
     "output_type": "execute_result"
    },
    {
     "data": {
      "image/png": "[encoded data removed]",
      "text/plain": [
       "<Figure size 1440x576 with 6 Axes>"
      ]
     },
     "metadata": {},
     "output_type": "display_data"
    }
   ],
   "source": [
    "fig, axs = plt.subplots(2, 3, figsize=(20,8), sharex=True)\n",
    "for a in [0,1]:\n",
    "    for sim in [1,2,3]:\n",
    "        sns.kdeplot(data=obs_data_test.loc[obs_data_test['A']==a, \"$\\hat{{p}}^{{x,a}}$ (Sim-{})\".format(sim)], shade=True, bw=0.009, ax=axs[a][sim-1])\n",
    "axs[0][0].set_title('Simulator 1')\n",
    "axs[0][1].set_title('Simulator 2')\n",
    "axs[0][2].set_title('Simulator 3')\n",
    "axs[0][0].set_ylabel('Action 0')\n",
    "axs[1][0].set_ylabel('Action 1')\n",
    "axs[1][0].set_xlabel('$\\hat{{p}}^{{x,a}}$')\n",
    "axs[1][1].set_xlabel('$\\hat{{p}}^{{x,a}}$')\n",
    "axs[1][2].set_xlabel('$\\hat{{p}}^{{x,a}}$')\n",
    "plt.xlim([0,1])"
   ]
  },
  {
   "cell_type": "code",
   "execution_count": 271,
   "metadata": {},
   "outputs": [
    {
     "data": {
      "text/plain": [
       "<matplotlib.axes._subplots.AxesSubplot at 0x7faeee200430>"
      ]
     },
     "execution_count": 271,
     "metadata": {},
     "output_type": "execute_result"
    },
    {
     "data": {
      "image/png": "[encoded data removed]",
      "text/plain": [
       "<Figure size 1080x432 with 3 Axes>"
      ]
     },
     "metadata": {},
     "output_type": "display_data"
    }
   ],
   "source": [
    "fig, axs = plt.subplots(1, 3, figsize=(15,6), sharey=True)\n",
    "plt.style.use('fivethirtyeight')\n",
    "sns.boxplot(y='$\\hat{p}^{x,a}$ (Sim-1)',x='A', data=obs_data_test.astype({'A': 'str'}), ax=axs[0], showfliers=False)\n",
    "sns.boxplot(y='$\\hat{p}^{x,a}$ (Sim-2)',x='A', data=obs_data_test.astype({'A': 'str'}), ax=axs[1], showfliers=False)\n",
    "sns.boxplot(y='$\\hat{p}^{x,a}$ (Sim-3)',x='A', data=obs_data_test.astype({'A': 'str'}), ax=axs[2], showfliers=False)"
   ]
  },
  {
   "cell_type": "code",
   "execution_count": 272,
   "metadata": {},
   "outputs": [
    {
     "data": {
      "text/plain": [
       "<matplotlib.axes._subplots.AxesSubplot at 0x7faef0782ac0>"
      ]
     },
     "execution_count": 272,
     "metadata": {},
     "output_type": "execute_result"
    },
    {
     "data": {
      "image/png": "[encoded data removed]",
      "text/plain": [
       "<Figure size 864x432 with 3 Axes>"
      ]
     },
     "metadata": {},
     "output_type": "display_data"
    }
   ],
   "source": [
    "fig, axs = plt.subplots(1, 3, figsize=(12,6), sharey=True)\n",
    "plt.style.use('fivethirtyeight')\n",
    "sns.boxplot(y='$||Y^{sim} - Y^{obs}||^2$ (Sim-1)',x='A', data=obs_data_test.astype({'A': 'str'}), ax=axs[0], showfliers=False)\n",
    "sns.boxplot(y='$||Y^{sim} - Y^{obs}||^2$ (Sim-2)',x='A', data=obs_data_test.astype({'A': 'str'}), ax=axs[1], showfliers=False)\n",
    "sns.boxplot(y='$||Y^{sim} - Y^{obs}||^2$ (Sim-3)',x='A', data=obs_data_test.astype({'A': 'str'}), ax=axs[2], showfliers=False)"
   ]
  },
  {
   "cell_type": "markdown",
   "metadata": {},
   "source": [
    "# Plotting bounds on the simulator"
   ]
  },
  {
   "cell_type": "code",
   "execution_count": 324,
   "metadata": {},
   "outputs": [],
   "source": [
    "# screen = env.render(mode='rgb_array').transpose((2, 0, 1))\n",
    "# np.save(\"/data/localhost/taufiq/export-dir/cartpole_env\", screen)"
   ]
  },
  {
   "cell_type": "code",
   "execution_count": 2,
   "metadata": {},
   "outputs": [],
   "source": [
    "screen = np.load(\"/data/localhost/taufiq/export-dir/cartpole_env.npy\")"
   ]
  },
  {
   "cell_type": "code",
   "execution_count": 28,
   "metadata": {},
   "outputs": [
    {
     "data": {
      "text/plain": [
       "Text(0.5, 1.0, 'Action 1')"
      ]
     },
     "execution_count": 28,
     "metadata": {},
     "output_type": "execute_result"
    },
    {
     "data": {
      "image/png": "[encoded data removed]",
      "text/plain": [
       "<Figure size 1000x1000 with 2 Axes>"
      ]
     },
     "metadata": {},
     "output_type": "display_data"
    }
   ],
   "source": [
    "import matplotlib.patches as mpatches\n",
    "import matplotlib.pyplot as plt\n",
    "import numpy as np\n",
    "\n",
    "def filled_arc(center, radius, theta1, theta2, ax, color):\n",
    "\n",
    "    circ = mpatches.Wedge(center, radius, theta1*180/np.pi, theta2*180/np.pi, fill=True, color=color, alpha=0.15)\n",
    "    circ2 = mpatches.Wedge(center, 40, theta1*180/np.pi, theta2*180/np.pi, fill=True, color=color, alpha=0.5)\n",
    "    pt1 = (radius * (np.cos(theta1)) + center[0],\n",
    "           radius * (np.sin(theta1)) + center[1])\n",
    "    pt2 = (radius * (np.cos(theta2)) + center[0],\n",
    "           radius * (np.sin(theta2)) + center[1])\n",
    "    pt3 = center\n",
    "    pol = mpatches.Polygon([pt1, pt2, pt3], lw=2)\n",
    "    ax.add_patch(circ)\n",
    "    ax.add_patch(circ2)\n",
    "\n",
    "fig, ax = plt.subplots(1,2, sharey=True, figsize=(10,10))\n",
    "ax[0].imshow(get_screen(screen).cpu().permute(1, 2, 0).numpy(), interpolation='none')\n",
    "ax[1].imshow(get_screen(screen).cpu().permute(1, 2, 0).numpy(), interpolation='none')\n",
    "filled_arc((298,300), 250, 3*np.pi/2 - 0.05, 3*np.pi/2 + 0.15, ax[0], \"purple\")\n",
    "plt.style.use('fivethirtyeight')\n",
    "ax[0].legend(['Manski bounds'])\n",
    "ax[0].set_xlim([150, 450])\n",
    "ax[0].set_ylim([350, 0])\n",
    "ax[0].set_title('Action 0')\n",
    "filled_arc((298,300), 250, 3*np.pi/2 - 0.6, 3*np.pi/2 + 0.2, ax[1], \"purple\")\n",
    "ax[1].set_xlim([150, 450])\n",
    "ax[1].set_ylim([350, 0])\n",
    "ax[1].legend(['Manski bounds'])\n",
    "ax[1].set_title('Action 1')\n"
   ]
  },
  {
   "cell_type": "code",
   "execution_count": null,
   "metadata": {},
   "outputs": [],
   "source": []
  }
 ],
 "metadata": {
  "kernelspec": {
   "display_name": ".venv",
   "language": "python",
   "name": ".venv"
  },
  "language_info": {
   "codemirror_mode": {
    "name": "ipython",
    "version": 3
   },
   "file_extension": ".py",
   "mimetype": "text/x-python",
   "name": "python",
   "nbconvert_exporter": "python",
   "pygments_lexer": "ipython3",
   "version": "3.8.10"
  }
 },
 "nbformat": 4,
 "nbformat_minor": 4
}

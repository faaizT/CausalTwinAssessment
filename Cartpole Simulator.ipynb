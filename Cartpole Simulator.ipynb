{
 "cells": [
  {
   "cell_type": "code",
   "execution_count": 1,
   "metadata": {},
   "outputs": [],
   "source": [
    "import numpy as np\n",
    "import gym\n",
    "import time\n",
    "import math\n",
    "import random\n",
    "import torch\n",
    "from torch.autograd import Variable\n",
    "from tqdm import tqdm\n",
    "import copy\n",
    "from IPython.display import clear_output\n",
    "from matplotlib import image\n",
    "import matplotlib.pyplot as plt\n",
    "from PIL import Image\n",
    "import pandas as pd\n",
    "import seaborn as sns"
   ]
  },
  {
   "cell_type": "code",
   "execution_count": 2,
   "metadata": {},
   "outputs": [
    {
     "data": {
      "image/png": "[encoded data removed]",
      "text/plain": [
       "<Figure size 432x288 with 1 Axes>"
      ]
     },
     "metadata": {},
     "output_type": "display_data"
    }
   ],
   "source": [
    "env = gym.envs.make(\"CartPole-v1\")\n",
    "\n",
    "def get_screen(screen=None):\n",
    "    ''' Extract one step of the simulation.'''\n",
    "    if screen is None:\n",
    "        screen = env.render(mode='rgb_array').transpose((2, 0, 1))\n",
    "    screen = np.ascontiguousarray(screen, dtype=np.float32) / 255.\n",
    "    return torch.from_numpy(screen)\n",
    "\n",
    "# Speify the number of simulation steps\n",
    "num_steps = 10\n",
    "\n",
    "# Show several steps\n",
    "for i in range(num_steps):\n",
    "    clear_output(wait=True)\n",
    "    env.reset()\n",
    "    plt.figure()\n",
    "    plt.imshow(get_screen().cpu().permute(1, 2, 0).numpy(),\n",
    "               interpolation='none')\n",
    "    plt.title('CartPole-v1 Environment')\n",
    "    plt.xticks([])\n",
    "    plt.yticks([])\n",
    "    plt.show()"
   ]
  },
  {
   "cell_type": "code",
   "execution_count": 3,
   "metadata": {},
   "outputs": [],
   "source": [
    "observation, reward, done, info = env.step(env.action_space.sample())"
   ]
  },
  {
   "cell_type": "code",
   "execution_count": 75,
   "metadata": {},
   "outputs": [
    {
     "data": {
      "text/plain": [
       "0.8660254037844387"
      ]
     },
     "execution_count": 75,
     "metadata": {},
     "output_type": "execute_result"
    }
   ],
   "source": [
    "math.sin(math.radians(120))"
   ]
  },
  {
   "cell_type": "code",
   "execution_count": 5,
   "metadata": {},
   "outputs": [],
   "source": [
    "# Demonstration\n",
    "import matplotlib.pyplot as plt\n",
    "\n",
    "env = gym.envs.make(\"CartPole-v1\")\n",
    "\n",
    "def plot_res(values, title=''):   \n",
    "    ''' Plot the reward curve and histogram of results over time.'''\n",
    "    # Update the window after each episode\n",
    "    clear_output(wait=True)\n",
    "    \n",
    "    # Define the figure\n",
    "    f, ax = plt.subplots(nrows=1, ncols=2, figsize=(12,5))\n",
    "    f.suptitle(title)\n",
    "    ax[0].plot(values, label='score per run')\n",
    "    ax[0].axhline(195, c='red',ls='--', label='goal')\n",
    "    ax[0].set_xlabel('Episodes')\n",
    "    ax[0].set_ylabel('Reward')\n",
    "    x = range(len(values))\n",
    "    ax[0].legend()\n",
    "    # Calculate the trend\n",
    "    try:\n",
    "        z = np.polyfit(x, values, 1)\n",
    "        p = np.poly1d(z)\n",
    "        ax[0].plot(x,p(x),\"--\", label='trend')\n",
    "    except:\n",
    "        print('')\n",
    "    \n",
    "    # Plot the histogram of results\n",
    "    ax[1].hist(values[-50:])\n",
    "    ax[1].axvline(195, c='red', label='goal')\n",
    "    ax[1].set_xlabel('Scores per Last 50 Episodes')\n",
    "    ax[1].set_ylabel('Frequency')\n",
    "    ax[1].legend()\n",
    "    plt.show()"
   ]
  },
  {
   "cell_type": "code",
   "execution_count": 6,
   "metadata": {},
   "outputs": [],
   "source": [
    "class DQL():\n",
    "    ''' Deep Q Neural Network class. '''\n",
    "    def __init__(self, state_dim, action_dim, hidden_dim=64, lr=0.05):\n",
    "        self.criterion = torch.nn.MSELoss()\n",
    "        self.model = torch.nn.Sequential(\n",
    "                        torch.nn.Linear(state_dim, hidden_dim),\n",
    "                        torch.nn.LeakyReLU(),\n",
    "                        torch.nn.Linear(hidden_dim, hidden_dim*2),\n",
    "                        torch.nn.LeakyReLU(),\n",
    "                        torch.nn.Linear(hidden_dim*2, action_dim)\n",
    "                )\n",
    "        self.optimizer = torch.optim.Adam(self.model.parameters(), lr)\n",
    "        self.target = copy.deepcopy(self.model)\n",
    "\n",
    "    def update(self, state, y):\n",
    "        \"\"\"Update the weights of the network given a training sample. \"\"\"\n",
    "        y_pred = self.model(torch.Tensor(state))\n",
    "        loss = self.criterion(y_pred, Variable(torch.Tensor(y)))\n",
    "        self.optimizer.zero_grad()\n",
    "        loss.backward()\n",
    "        self.optimizer.step()\n",
    "\n",
    "    def predict(self, state):\n",
    "        \"\"\" Compute Q values for all actions using the DQL. \"\"\"\n",
    "        with torch.no_grad():\n",
    "            return self.model(torch.Tensor(state))\n",
    "        \n",
    "    def target_predict(self, s):\n",
    "        ''' Use target network to make predicitons.'''\n",
    "        with torch.no_grad():\n",
    "            return self.target(torch.Tensor(s))\n",
    "        \n",
    "    def target_update(self):\n",
    "        ''' Update target network with the model weights.'''\n",
    "        self.target.load_state_dict(self.model.state_dict())\n",
    "        \n",
    "    def replay(self, memory, size, gamma=1.0):\n",
    "        ''' Add experience replay to the DQL network class.'''\n",
    "        if len(memory) >= size:\n",
    "            # Sample experiences from the agent's memory\n",
    "            data = random.sample(memory, size)\n",
    "            states = []\n",
    "            targets = []\n",
    "            # Extract datapoints from the data\n",
    "            for state, action, next_state, reward, done in data:\n",
    "                states.append(state)\n",
    "                q_values = self.predict(state).tolist()\n",
    "                if done:\n",
    "                    q_values[action] = reward\n",
    "                else:\n",
    "                    # The only difference between the simple replay is in this line\n",
    "                    # It ensures that next q values are predicted with the target network.\n",
    "                    q_values_next = self.target_predict(next_state)\n",
    "                    q_values[action] = reward + gamma * torch.max(q_values_next).item()\n",
    "\n",
    "                targets.append(q_values)\n",
    "\n",
    "            self.update(states, targets)"
   ]
  },
  {
   "cell_type": "code",
   "execution_count": 7,
   "metadata": {},
   "outputs": [],
   "source": [
    "def q_learning(env, model, episodes, gamma=0.9, epsilon=0.3, eps_decay=0.99, replay=False, replay_size=20, title = 'DQL', double=False, n_update=10, soft=False):\n",
    "    \"\"\"Deep Q Learning algorithm using the DQN. \"\"\"\n",
    "    final = []\n",
    "    memory = []\n",
    "    for episode in range(episodes):\n",
    "        if double and not soft:\n",
    "            # Update target network every n_update steps\n",
    "            if episode % n_update == 0:\n",
    "                model.target_update()\n",
    "        if double and soft:\n",
    "            model.target_update()\n",
    "        \n",
    "        # Reset state\n",
    "        state = env.reset()\n",
    "        done = False\n",
    "        total = 0\n",
    "        \n",
    "        while not done:\n",
    "            # Implement greedy search policy\n",
    "            if random.random() < epsilon:\n",
    "                action = env.action_space.sample()\n",
    "            else:\n",
    "                q_values = model.predict(state)\n",
    "                action = torch.argmax(q_values).item()\n",
    "            \n",
    "            # Take action and add reward to total\n",
    "            next_state, reward, done, _ = env.step(action)\n",
    "            \n",
    "            # Update total and memory\n",
    "            total += reward\n",
    "            memory.append((state, action, next_state, reward, done))\n",
    "            q_values = model.predict(state).tolist()\n",
    "             \n",
    "            if done:\n",
    "                if not replay:\n",
    "                    q_values[action] = reward\n",
    "                    # Update network weights\n",
    "                    model.update(state, q_values)\n",
    "                break\n",
    "                if replay:\n",
    "                    # Update network weights using replay memory\n",
    "                    model.replay(memory, replay_size, gamma)\n",
    "            else: \n",
    "                # Update network weights using the last step only\n",
    "                q_values_next = model.predict(next_state)\n",
    "                q_values[action] = reward + gamma * torch.max(q_values_next).item()\n",
    "                model.update(state, q_values)\n",
    "            state = next_state\n",
    "        \n",
    "        # Update epsilon\n",
    "        epsilon = max(epsilon * eps_decay, 0.01)\n",
    "        final.append(total)\n",
    "        plot_res(final, title)\n",
    "    return final"
   ]
  },
  {
   "cell_type": "code",
   "execution_count": 122,
   "metadata": {},
   "outputs": [
    {
     "data": {
      "image/png": "[encoded data removed]",
      "text/plain": [
       "<Figure size 864x360 with 2 Axes>"
      ]
     },
     "metadata": {
      "needs_background": "light"
     },
     "output_type": "display_data"
    }
   ],
   "source": [
    "env = gym.envs.make(\"CartPole-v1\")\n",
    "model = DQL(state_dim=4, action_dim=2, hidden_dim=50, lr=0.001)\n",
    "final = q_learning(env, model, episodes=300,\n",
    "                   gamma=1.0, epsilon=0.2, replay=False, double=False,\n",
    "                   title='DQL with Replay', n_update=20)"
   ]
  },
  {
   "cell_type": "code",
   "execution_count": 123,
   "metadata": {},
   "outputs": [
    {
     "data": {
      "text/plain": [
       "tensor([569.6754, 555.4532])"
      ]
     },
     "execution_count": 123,
     "metadata": {},
     "output_type": "execute_result"
    }
   ],
   "source": [
    "state = env.reset()\n",
    "model.predict(state)"
   ]
  },
  {
   "cell_type": "code",
   "execution_count": 135,
   "metadata": {},
   "outputs": [
    {
     "name": "stderr",
     "output_type": "stream",
     "text": [
      "100%|██████████| 1000/1000 [26:41<00:00,  1.60s/it]\n"
     ]
    }
   ],
   "source": [
    "df = pd.DataFrame()\n",
    "episodes = 1000\n",
    "epsilon = 0.1\n",
    "for i in tqdm(range(episodes)):\n",
    "    done = False\n",
    "    state = env.reset()\n",
    "    t=0\n",
    "    while not done:\n",
    "        if random.random() < epsilon:\n",
    "            action = env.action_space.sample()\n",
    "        else:\n",
    "            action = model.predict(state).argmax().item()\n",
    "        df = df.append({'episode': i, 't': t,'Cart Position': state[0], 'Cart Velocity': state[1], 'Pole Angle': state[2], 'Pole Angular Velocity': state[3], 'A': action}, ignore_index=True)\n",
    "        state, reward, done, _ = env.step(action)\n",
    "        t += 1"
   ]
  },
  {
   "cell_type": "code",
   "execution_count": 8,
   "metadata": {},
   "outputs": [],
   "source": [
    "# df.to_csv(\"/data/localhost/taufiq/export-dir/Cartpole-v1-obs-data.csv\", index=False)\n",
    "df = pd.read_csv(\"/data/localhost/taufiq/export-dir/Cartpole-v1-obs-data.csv\")"
   ]
  },
  {
   "cell_type": "code",
   "execution_count": 9,
   "metadata": {},
   "outputs": [
    {
     "data": {
      "text/plain": [
       "<matplotlib.axes._subplots.AxesSubplot at 0x7efcac627a30>"
      ]
     },
     "execution_count": 9,
     "metadata": {},
     "output_type": "execute_result"
    },
    {
     "data": {
      "image/png": "[encoded data removed]",
      "text/plain": [
       "<Figure size 432x288 with 1 Axes>"
      ]
     },
     "metadata": {
      "needs_background": "light"
     },
     "output_type": "display_data"
    }
   ],
   "source": [
    "df['A'].hist()"
   ]
  },
  {
   "cell_type": "code",
   "execution_count": 10,
   "metadata": {},
   "outputs": [
    {
     "data": {
      "text/plain": [
       "<matplotlib.axes._subplots.AxesSubplot at 0x7efcac4a6af0>"
      ]
     },
     "execution_count": 10,
     "metadata": {},
     "output_type": "execute_result"
    },
    {
     "data": {
      "image/png": "[encoded data removed]",
      "text/plain": [
       "<Figure size 432x288 with 1 Axes>"
      ]
     },
     "metadata": {
      "needs_background": "light"
     },
     "output_type": "display_data"
    }
   ],
   "source": [
    "# df.loc[(df['Pole Angular Velocity']>0) & (df['Cart Velocity']>0), 'A'].hist()\n",
    "df.loc[(df['Pole Angular Velocity']>0), 'A'].hist()"
   ]
  },
  {
   "cell_type": "code",
   "execution_count": 237,
   "metadata": {},
   "outputs": [
    {
     "data": {
      "text/html": [
       "<div>\n",
       "<style scoped>\n",
       "    .dataframe tbody tr th:only-of-type {\n",
       "        vertical-align: middle;\n",
       "    }\n",
       "\n",
       "    .dataframe tbody tr th {\n",
       "        vertical-align: top;\n",
       "    }\n",
       "\n",
       "    .dataframe thead th {\n",
       "        text-align: right;\n",
       "    }\n",
       "</style>\n",
       "<table border=\"1\" class=\"dataframe\">\n",
       "  <thead>\n",
       "    <tr style=\"text-align: right;\">\n",
       "      <th></th>\n",
       "      <th>A</th>\n",
       "      <th>Cart Position</th>\n",
       "      <th>Cart Velocity</th>\n",
       "      <th>Pole Angle</th>\n",
       "      <th>Pole Angular Velocity</th>\n",
       "      <th>episode</th>\n",
       "      <th>t</th>\n",
       "    </tr>\n",
       "  </thead>\n",
       "  <tbody>\n",
       "    <tr>\n",
       "      <th>0</th>\n",
       "      <td>0.0</td>\n",
       "      <td>-0.044931</td>\n",
       "      <td>0.005088</td>\n",
       "      <td>0.000109</td>\n",
       "      <td>-0.033541</td>\n",
       "      <td>0.0</td>\n",
       "      <td>0.0</td>\n",
       "    </tr>\n",
       "    <tr>\n",
       "      <th>1</th>\n",
       "      <td>1.0</td>\n",
       "      <td>-0.044829</td>\n",
       "      <td>-0.190036</td>\n",
       "      <td>-0.000562</td>\n",
       "      <td>0.259176</td>\n",
       "      <td>0.0</td>\n",
       "      <td>1.0</td>\n",
       "    </tr>\n",
       "    <tr>\n",
       "      <th>2</th>\n",
       "      <td>0.0</td>\n",
       "      <td>-0.048630</td>\n",
       "      <td>0.005094</td>\n",
       "      <td>0.004621</td>\n",
       "      <td>-0.033684</td>\n",
       "      <td>0.0</td>\n",
       "      <td>2.0</td>\n",
       "    </tr>\n",
       "    <tr>\n",
       "      <th>3</th>\n",
       "      <td>1.0</td>\n",
       "      <td>-0.048528</td>\n",
       "      <td>-0.190094</td>\n",
       "      <td>0.003948</td>\n",
       "      <td>0.260453</td>\n",
       "      <td>0.0</td>\n",
       "      <td>3.0</td>\n",
       "    </tr>\n",
       "    <tr>\n",
       "      <th>4</th>\n",
       "      <td>0.0</td>\n",
       "      <td>-0.052330</td>\n",
       "      <td>0.004971</td>\n",
       "      <td>0.009157</td>\n",
       "      <td>-0.030982</td>\n",
       "      <td>0.0</td>\n",
       "      <td>4.0</td>\n",
       "    </tr>\n",
       "  </tbody>\n",
       "</table>\n",
       "</div>"
      ],
      "text/plain": [
       "     A  Cart Position  Cart Velocity  Pole Angle  Pole Angular Velocity  \\\n",
       "0  0.0      -0.044931       0.005088    0.000109              -0.033541   \n",
       "1  1.0      -0.044829      -0.190036   -0.000562               0.259176   \n",
       "2  0.0      -0.048630       0.005094    0.004621              -0.033684   \n",
       "3  1.0      -0.048528      -0.190094    0.003948               0.260453   \n",
       "4  0.0      -0.052330       0.004971    0.009157              -0.030982   \n",
       "\n",
       "   episode    t  \n",
       "0      0.0  0.0  \n",
       "1      0.0  1.0  \n",
       "2      0.0  2.0  \n",
       "3      0.0  3.0  \n",
       "4      0.0  4.0  "
      ]
     },
     "execution_count": 237,
     "metadata": {},
     "output_type": "execute_result"
    }
   ],
   "source": [
    "df.head()"
   ]
  },
  {
   "cell_type": "code",
   "execution_count": 148,
   "metadata": {},
   "outputs": [],
   "source": [
    "PATH=\"/data/localhost/taufiq/export-dir/cartpole/cartpole_state_dicts\"\n",
    "torch.save({\n",
    "    'model_state_dict': model.model.state_dict(),\n",
    "    'optimizer_state_dict': model.optimizer.state_dict()\n",
    "}, PATH)"
   ]
  },
  {
   "cell_type": "markdown",
   "metadata": {},
   "source": [
    "# Remove the sign of angular velocity\n",
    "\n",
    "We define the unobserved confounder $U$ to be the sign of Angular velocity"
   ]
  },
  {
   "cell_type": "code",
   "execution_count": 238,
   "metadata": {},
   "outputs": [
    {
     "data": {
      "text/html": [
       "<div>\n",
       "<style scoped>\n",
       "    .dataframe tbody tr th:only-of-type {\n",
       "        vertical-align: middle;\n",
       "    }\n",
       "\n",
       "    .dataframe tbody tr th {\n",
       "        vertical-align: top;\n",
       "    }\n",
       "\n",
       "    .dataframe thead th {\n",
       "        text-align: right;\n",
       "    }\n",
       "</style>\n",
       "<table border=\"1\" class=\"dataframe\">\n",
       "  <thead>\n",
       "    <tr style=\"text-align: right;\">\n",
       "      <th></th>\n",
       "      <th>A</th>\n",
       "      <th>Cart Position</th>\n",
       "      <th>Cart Velocity (abs)</th>\n",
       "      <th>Pole Angle</th>\n",
       "      <th>Pole Angular Velocity (abs)</th>\n",
       "      <th>episode</th>\n",
       "      <th>t</th>\n",
       "      <th>Pole Angular Velocity (sign)</th>\n",
       "      <th>Cart Velocity (sign)</th>\n",
       "    </tr>\n",
       "  </thead>\n",
       "  <tbody>\n",
       "    <tr>\n",
       "      <th>0</th>\n",
       "      <td>0.0</td>\n",
       "      <td>-0.044931</td>\n",
       "      <td>0.005088</td>\n",
       "      <td>0.000109</td>\n",
       "      <td>0.033541</td>\n",
       "      <td>0.0</td>\n",
       "      <td>0.0</td>\n",
       "      <td>-1</td>\n",
       "      <td>1</td>\n",
       "    </tr>\n",
       "    <tr>\n",
       "      <th>1</th>\n",
       "      <td>1.0</td>\n",
       "      <td>-0.044829</td>\n",
       "      <td>0.190036</td>\n",
       "      <td>-0.000562</td>\n",
       "      <td>0.259176</td>\n",
       "      <td>0.0</td>\n",
       "      <td>1.0</td>\n",
       "      <td>1</td>\n",
       "      <td>-1</td>\n",
       "    </tr>\n",
       "    <tr>\n",
       "      <th>2</th>\n",
       "      <td>0.0</td>\n",
       "      <td>-0.048630</td>\n",
       "      <td>0.005094</td>\n",
       "      <td>0.004621</td>\n",
       "      <td>0.033684</td>\n",
       "      <td>0.0</td>\n",
       "      <td>2.0</td>\n",
       "      <td>-1</td>\n",
       "      <td>1</td>\n",
       "    </tr>\n",
       "    <tr>\n",
       "      <th>3</th>\n",
       "      <td>1.0</td>\n",
       "      <td>-0.048528</td>\n",
       "      <td>0.190094</td>\n",
       "      <td>0.003948</td>\n",
       "      <td>0.260453</td>\n",
       "      <td>0.0</td>\n",
       "      <td>3.0</td>\n",
       "      <td>1</td>\n",
       "      <td>-1</td>\n",
       "    </tr>\n",
       "    <tr>\n",
       "      <th>4</th>\n",
       "      <td>0.0</td>\n",
       "      <td>-0.052330</td>\n",
       "      <td>0.004971</td>\n",
       "      <td>0.009157</td>\n",
       "      <td>0.030982</td>\n",
       "      <td>0.0</td>\n",
       "      <td>4.0</td>\n",
       "      <td>-1</td>\n",
       "      <td>1</td>\n",
       "    </tr>\n",
       "  </tbody>\n",
       "</table>\n",
       "</div>"
      ],
      "text/plain": [
       "     A  Cart Position  Cart Velocity (abs)  Pole Angle  \\\n",
       "0  0.0      -0.044931             0.005088    0.000109   \n",
       "1  1.0      -0.044829             0.190036   -0.000562   \n",
       "2  0.0      -0.048630             0.005094    0.004621   \n",
       "3  1.0      -0.048528             0.190094    0.003948   \n",
       "4  0.0      -0.052330             0.004971    0.009157   \n",
       "\n",
       "   Pole Angular Velocity (abs)  episode    t  Pole Angular Velocity (sign)  \\\n",
       "0                     0.033541      0.0  0.0                            -1   \n",
       "1                     0.259176      0.0  1.0                             1   \n",
       "2                     0.033684      0.0  2.0                            -1   \n",
       "3                     0.260453      0.0  3.0                             1   \n",
       "4                     0.030982      0.0  4.0                            -1   \n",
       "\n",
       "   Cart Velocity (sign)  \n",
       "0                     1  \n",
       "1                    -1  \n",
       "2                     1  \n",
       "3                    -1  \n",
       "4                     1  "
      ]
     },
     "execution_count": 238,
     "metadata": {},
     "output_type": "execute_result"
    }
   ],
   "source": [
    "df_partial = df.copy()\n",
    "df_partial['Pole Angular Velocity (sign)'] = (df_partial['Pole Angular Velocity']>=0)*1 - (df_partial['Pole Angular Velocity']<0)*1\n",
    "df_partial['Cart Velocity (sign)'] = (df_partial['Cart Velocity']>=0)*1 - (df_partial['Cart Velocity']<0)*1\n",
    "df_partial['Pole Angular Velocity'] = df_partial['Pole Angular Velocity'].abs()\n",
    "df_partial['Cart Velocity'] = df_partial['Cart Velocity'].abs()\n",
    "df_partial.rename(columns={'Pole Angular Velocity': 'Pole Angular Velocity (abs)', 'Cart Velocity': 'Cart Velocity (abs)'}, inplace=True)\n",
    "df_partial.head()\n"
   ]
  },
  {
   "cell_type": "code",
   "execution_count": 9,
   "metadata": {},
   "outputs": [],
   "source": [
    "x_columns = ['Cart Position', 'Cart Velocity (abs)', 'Pole Angle', 'Pole Angular Velocity (abs)']\n",
    "rename_cols_t1 = {k: f'{k}_t1' for k in x_columns}"
   ]
  },
  {
   "cell_type": "code",
   "execution_count": 240,
   "metadata": {},
   "outputs": [
    {
     "name": "stderr",
     "output_type": "stream",
     "text": [
      "100%|██████████| 500/500 [00:03<00:00, 129.76it/s]\n"
     ]
    }
   ],
   "source": [
    "# sim_data = pd.DataFrame()\n",
    "# for episode in tqdm(range(0,500)):\n",
    "#     df_filtered_t0 = df_partial.loc[df_partial['episode']==episode].copy().iloc[:-1].reset_index(drop=True)\n",
    "#     df_filtered_t1 = df_partial.loc[df_partial['episode']==episode].copy().iloc[1:][x_columns].rename(columns=rename_cols_t1).reset_index(drop=True)\n",
    "#     df_episode = pd.merge(df_filtered_t0, df_filtered_t1, left_index=True, right_index=True)\n",
    "#     sim_data = sim_data.append(df_episode, ignore_index=True)"
   ]
  },
  {
   "cell_type": "code",
   "execution_count": 241,
   "metadata": {},
   "outputs": [
    {
     "name": "stderr",
     "output_type": "stream",
     "text": [
      "100%|██████████| 500/500 [00:03<00:00, 129.45it/s]\n"
     ]
    }
   ],
   "source": [
    "obs_data = pd.DataFrame()\n",
    "for episode in tqdm(range(500,1000)):\n",
    "    df_filtered_t0 = df_partial.loc[df_partial['episode']==episode].copy().iloc[:-1].reset_index(drop=True)\n",
    "    df_filtered_t1 = df_partial.loc[df_partial['episode']==episode].copy().iloc[1:][x_columns].rename(columns=rename_cols_t1).reset_index(drop=True)\n",
    "    df_episode = pd.merge(df_filtered_t0, df_filtered_t1, left_index=True, right_index=True)\n",
    "    obs_data = obs_data.append(df_episode, ignore_index=True)"
   ]
  },
  {
   "cell_type": "code",
   "execution_count": 242,
   "metadata": {},
   "outputs": [],
   "source": [
    "quantile_data = sim_data.copy()"
   ]
  },
  {
   "cell_type": "code",
   "execution_count": 243,
   "metadata": {},
   "outputs": [
    {
     "data": {
      "text/plain": [
       "249500"
      ]
     },
     "execution_count": 243,
     "metadata": {},
     "output_type": "execute_result"
    }
   ],
   "source": [
    "len(obs_data)"
   ]
  },
  {
   "cell_type": "markdown",
   "metadata": {},
   "source": [
    "# Confounding\n",
    "To induce confounding, we only include transitions with angular velocity <= 0 in observational data."
   ]
  },
  {
   "cell_type": "code",
   "execution_count": 244,
   "metadata": {},
   "outputs": [],
   "source": [
    "# select = np.random.uniform(0, 1, len(sim_data))\n",
    "# sim_data_filtered = sim_data.loc[select < 0.5]\n"
   ]
  },
  {
   "cell_type": "code",
   "execution_count": 245,
   "metadata": {},
   "outputs": [],
   "source": [
    "select = np.random.uniform(0, 1, len(obs_data))\n",
    "obs_data = obs_data.loc[~(obs_data['Pole Angular Velocity (sign)']>0)]\n"
   ]
  },
  {
   "cell_type": "code",
   "execution_count": 374,
   "metadata": {},
   "outputs": [
    {
     "data": {
      "text/plain": [
       "126311"
      ]
     },
     "execution_count": 374,
     "metadata": {},
     "output_type": "execute_result"
    }
   ],
   "source": [
    "len(obs_data)"
   ]
  },
  {
   "cell_type": "code",
   "execution_count": 247,
   "metadata": {},
   "outputs": [],
   "source": [
    "random_arr = np.random.uniform(0, 1, len(obs_data))\n",
    "obs_data_train = obs_data[random_arr <= 0.8].copy()\n",
    "obs_data_test = obs_data[random_arr > 0.8].copy()"
   ]
  },
  {
   "cell_type": "code",
   "execution_count": 248,
   "metadata": {},
   "outputs": [
    {
     "data": {
      "text/plain": [
       "64188"
      ]
     },
     "execution_count": 248,
     "metadata": {},
     "output_type": "execute_result"
    }
   ],
   "source": [
    "(sim_data_filtered['Pole Angular Velocity (sign)']==-1).sum()"
   ]
  },
  {
   "cell_type": "code",
   "execution_count": 249,
   "metadata": {},
   "outputs": [
    {
     "data": {
      "text/plain": [
       "<matplotlib.axes._subplots.AxesSubplot at 0x7efbfd728ca0>"
      ]
     },
     "execution_count": 249,
     "metadata": {},
     "output_type": "execute_result"
    },
    {
     "data": {
      "image/png": "[encoded data removed]",
      "text/plain": [
       "<Figure size 432x288 with 1 Axes>"
      ]
     },
     "metadata": {
      "needs_background": "light"
     },
     "output_type": "display_data"
    }
   ],
   "source": [
    "obs_data_train['A'].hist(density=True)"
   ]
  },
  {
   "cell_type": "code",
   "execution_count": 250,
   "metadata": {},
   "outputs": [
    {
     "data": {
      "text/plain": [
       "<matplotlib.axes._subplots.AxesSubplot at 0x7efbfd7b39a0>"
      ]
     },
     "execution_count": 250,
     "metadata": {},
     "output_type": "execute_result"
    },
    {
     "data": {
      "image/png": "[encoded data removed]",
      "text/plain": [
       "<Figure size 432x288 with 1 Axes>"
      ]
     },
     "metadata": {
      "needs_background": "light"
     },
     "output_type": "display_data"
    }
   ],
   "source": [
    "sim_data_filtered['A'].hist(density=True)"
   ]
  },
  {
   "cell_type": "markdown",
   "metadata": {},
   "source": [
    "# Generate $Y(a)$ Data using random policy"
   ]
  },
  {
   "cell_type": "code",
   "execution_count": 6,
   "metadata": {},
   "outputs": [
    {
     "name": "stderr",
     "output_type": "stream",
     "text": [
      "100%|██████████| 4000/4000 [01:41<00:00, 39.50it/s]\n"
     ]
    }
   ],
   "source": [
    "sim_data = pd.DataFrame()\n",
    "episodes = 4000\n",
    "for i in tqdm(range(episodes)):\n",
    "    done = False\n",
    "    state = env.reset()\n",
    "    t=0\n",
    "    while not done:\n",
    "        action = env.action_space.sample()\n",
    "        sim_data = sim_data.append({'episode': i, 't': t,'Cart Position': state[0], 'Cart Velocity': state[1], 'Pole Angle': state[2], 'Pole Angular Velocity': state[3], 'A': action}, ignore_index=True)\n",
    "        state, reward, done, _ = env.step(action)\n",
    "        t += 1"
   ]
  },
  {
   "cell_type": "code",
   "execution_count": 14,
   "metadata": {},
   "outputs": [
    {
     "data": {
      "text/plain": [
       "88781"
      ]
     },
     "execution_count": 14,
     "metadata": {},
     "output_type": "execute_result"
    }
   ],
   "source": [
    "len(sim_data)"
   ]
  },
  {
   "cell_type": "code",
   "execution_count": 8,
   "metadata": {},
   "outputs": [
    {
     "data": {
      "text/html": [
       "<div>\n",
       "<style scoped>\n",
       "    .dataframe tbody tr th:only-of-type {\n",
       "        vertical-align: middle;\n",
       "    }\n",
       "\n",
       "    .dataframe tbody tr th {\n",
       "        vertical-align: top;\n",
       "    }\n",
       "\n",
       "    .dataframe thead th {\n",
       "        text-align: right;\n",
       "    }\n",
       "</style>\n",
       "<table border=\"1\" class=\"dataframe\">\n",
       "  <thead>\n",
       "    <tr style=\"text-align: right;\">\n",
       "      <th></th>\n",
       "      <th>A</th>\n",
       "      <th>Cart Position</th>\n",
       "      <th>Cart Velocity (abs)</th>\n",
       "      <th>Pole Angle</th>\n",
       "      <th>Pole Angular Velocity (abs)</th>\n",
       "      <th>episode</th>\n",
       "      <th>t</th>\n",
       "      <th>Pole Angular Velocity (sign)</th>\n",
       "      <th>Cart Velocity (sign)</th>\n",
       "    </tr>\n",
       "  </thead>\n",
       "  <tbody>\n",
       "    <tr>\n",
       "      <th>0</th>\n",
       "      <td>0.0</td>\n",
       "      <td>-0.015216</td>\n",
       "      <td>0.043768</td>\n",
       "      <td>-0.045269</td>\n",
       "      <td>0.003688</td>\n",
       "      <td>0.0</td>\n",
       "      <td>0.0</td>\n",
       "      <td>1</td>\n",
       "      <td>-1</td>\n",
       "    </tr>\n",
       "    <tr>\n",
       "      <th>1</th>\n",
       "      <td>0.0</td>\n",
       "      <td>-0.016091</td>\n",
       "      <td>0.238212</td>\n",
       "      <td>-0.045195</td>\n",
       "      <td>0.281751</td>\n",
       "      <td>0.0</td>\n",
       "      <td>1.0</td>\n",
       "      <td>1</td>\n",
       "      <td>-1</td>\n",
       "    </tr>\n",
       "    <tr>\n",
       "      <th>2</th>\n",
       "      <td>0.0</td>\n",
       "      <td>-0.020855</td>\n",
       "      <td>0.432661</td>\n",
       "      <td>-0.039560</td>\n",
       "      <td>0.559844</td>\n",
       "      <td>0.0</td>\n",
       "      <td>2.0</td>\n",
       "      <td>1</td>\n",
       "      <td>-1</td>\n",
       "    </tr>\n",
       "    <tr>\n",
       "      <th>3</th>\n",
       "      <td>0.0</td>\n",
       "      <td>-0.029509</td>\n",
       "      <td>0.627206</td>\n",
       "      <td>-0.028363</td>\n",
       "      <td>0.839805</td>\n",
       "      <td>0.0</td>\n",
       "      <td>3.0</td>\n",
       "      <td>1</td>\n",
       "      <td>-1</td>\n",
       "    </tr>\n",
       "    <tr>\n",
       "      <th>4</th>\n",
       "      <td>1.0</td>\n",
       "      <td>-0.042053</td>\n",
       "      <td>0.821930</td>\n",
       "      <td>-0.011567</td>\n",
       "      <td>1.123435</td>\n",
       "      <td>0.0</td>\n",
       "      <td>4.0</td>\n",
       "      <td>1</td>\n",
       "      <td>-1</td>\n",
       "    </tr>\n",
       "  </tbody>\n",
       "</table>\n",
       "</div>"
      ],
      "text/plain": [
       "     A  Cart Position  Cart Velocity (abs)  Pole Angle  \\\n",
       "0  0.0      -0.015216             0.043768   -0.045269   \n",
       "1  0.0      -0.016091             0.238212   -0.045195   \n",
       "2  0.0      -0.020855             0.432661   -0.039560   \n",
       "3  0.0      -0.029509             0.627206   -0.028363   \n",
       "4  1.0      -0.042053             0.821930   -0.011567   \n",
       "\n",
       "   Pole Angular Velocity (abs)  episode    t  Pole Angular Velocity (sign)  \\\n",
       "0                     0.003688      0.0  0.0                             1   \n",
       "1                     0.281751      0.0  1.0                             1   \n",
       "2                     0.559844      0.0  2.0                             1   \n",
       "3                     0.839805      0.0  3.0                             1   \n",
       "4                     1.123435      0.0  4.0                             1   \n",
       "\n",
       "   Cart Velocity (sign)  \n",
       "0                    -1  \n",
       "1                    -1  \n",
       "2                    -1  \n",
       "3                    -1  \n",
       "4                    -1  "
      ]
     },
     "execution_count": 8,
     "metadata": {},
     "output_type": "execute_result"
    }
   ],
   "source": [
    "sim_data['Pole Angular Velocity (sign)'] = (sim_data['Pole Angular Velocity']>=0)*1 - (sim_data['Pole Angular Velocity']<0)*1\n",
    "sim_data['Cart Velocity (sign)'] = (sim_data['Cart Velocity']>=0)*1 - (sim_data['Cart Velocity']<0)*1\n",
    "sim_data['Pole Angular Velocity'] = sim_data['Pole Angular Velocity'].abs()\n",
    "sim_data['Cart Velocity'] = sim_data['Cart Velocity'].abs()\n",
    "sim_data.rename(columns={'Pole Angular Velocity': 'Pole Angular Velocity (abs)', 'Cart Velocity': 'Cart Velocity (abs)'}, inplace=True)\n",
    "sim_data.head()"
   ]
  },
  {
   "cell_type": "code",
   "execution_count": 10,
   "metadata": {},
   "outputs": [
    {
     "name": "stderr",
     "output_type": "stream",
     "text": [
      "100%|██████████| 4000/4000 [00:16<00:00, 236.18it/s]\n"
     ]
    }
   ],
   "source": [
    "episodes = sim_data['episode'].unique()\n",
    "sim_data_combined = pd.DataFrame()\n",
    "for episode in tqdm(episodes):\n",
    "    df_filtered_t0 = sim_data.loc[sim_data['episode']==episode].copy().iloc[:-1].reset_index(drop=True)\n",
    "    df_filtered_t1 = sim_data.loc[sim_data['episode']==episode].copy().iloc[1:][x_columns].rename(columns=rename_cols_t1).reset_index(drop=True)\n",
    "    df_episode = pd.merge(df_filtered_t0, df_filtered_t1, left_index=True, right_index=True)\n",
    "    sim_data_combined = sim_data_combined.append(df_episode, ignore_index=True)\n",
    "    "
   ]
  },
  {
   "cell_type": "code",
   "execution_count": 12,
   "metadata": {},
   "outputs": [],
   "source": [
    "sim_data_combined.to_csv(\"/data/localhost/taufiq/export-dir/Cartpole-v1-sim-data-rand-policy.csv\", index=False)"
   ]
  },
  {
   "cell_type": "code",
   "execution_count": 375,
   "metadata": {},
   "outputs": [],
   "source": [
    "# obs_data_train.to_csv(\"/data/localhost/taufiq/export-dir/Cartpole-v1-obs-data-train.csv\", index=False)\n",
    "# obs_data_test.to_csv(\"/data/localhost/taufiq/export-dir/Cartpole-v1-obs-data-test.csv\", index=False)\n",
    "# sim_data_filtered.to_csv(\"/data/localhost/taufiq/export-dir/Cartpole-v1-sim-data.csv\", index=False)\n",
    "\n",
    "obs_data_train = pd.read_csv(\"/data/localhost/taufiq/export-dir/Cartpole-v1-obs-data-train.csv\")\n",
    "obs_data_test = pd.read_csv(\"/data/localhost/taufiq/export-dir/Cartpole-v1-obs-data-test.csv\")\n",
    "sim_data_filtered = pd.read_csv(\"/data/localhost/taufiq/export-dir/Cartpole-v1-sim-data-rand-policy.csv\")"
   ]
  },
  {
   "cell_type": "markdown",
   "metadata": {},
   "source": [
    "# Train policy $\\pi(A\\mid X)$"
   ]
  },
  {
   "cell_type": "code",
   "execution_count": 2,
   "metadata": {},
   "outputs": [],
   "source": [
    "import torch.utils.data as data_utils\n",
    "\n",
    "class PolicyNetwork(torch.nn.Module):\n",
    "    def __init__(self, input_dim, output_dim, hidden_1_dim=3):\n",
    "        super(PolicyNetwork, self).__init__()\n",
    "        self.hid1 = torch.nn.Linear(input_dim, hidden_1_dim)\n",
    "        self.outp = torch.nn.Linear(hidden_1_dim, output_dim)\n",
    "        self.softmax = torch.nn.Softmax(dim=2)\n",
    "        self.leaky_relu = torch.nn.LeakyReLU()\n",
    "        self.tanh = torch.nn.Tanh()\n",
    "\n",
    "        torch.nn.init.xavier_uniform_(self.hid1.weight)\n",
    "        torch.nn.init.zeros_(self.hid1.bias)\n",
    "        torch.nn.init.xavier_uniform_(self.outp.weight)\n",
    "        torch.nn.init.zeros_(self.outp.bias)\n",
    "\n",
    "    def forward(self, x):\n",
    "        z = self.tanh(self.hid1(x))\n",
    "        z = self.outp(z)\n",
    "        return z"
   ]
  },
  {
   "cell_type": "code",
   "execution_count": 252,
   "metadata": {},
   "outputs": [],
   "source": [
    "obs_data_raw = (obs_data_train[x_columns] - df_partial[x_columns].mean())/df_partial[x_columns].std()"
   ]
  },
  {
   "cell_type": "code",
   "execution_count": 253,
   "metadata": {},
   "outputs": [],
   "source": [
    "grp = np.floor(5*np.random.rand(len(obs_data_train))+1)\n",
    "crossval = 1\n",
    "trainidx = (grp != crossval)\n",
    "testidx = (grp == crossval)\n",
    "X = torch.FloatTensor(obs_data_raw.loc[trainidx].values)\n",
    "Xtest = torch.FloatTensor(obs_data_raw.loc[testidx].values)\n",
    "Y = torch.tensor(obs_data_train.loc[trainidx, 'A'].values).to(torch.long)\n",
    "Ytest = torch.tensor(obs_data_train.loc[testidx, 'A'].values).to(torch.long)\n",
    "\n",
    "train = data_utils.TensorDataset(X, Y)\n",
    "trainloader = torch.utils.data.DataLoader(train, batch_size=32)\n",
    "test = data_utils.TensorDataset(Xtest, Ytest)\n",
    "testloader = torch.utils.data.DataLoader(test, batch_size=32)\n",
    "\n",
    "loss_func = torch.nn.CrossEntropyLoss()\n",
    "policy = PolicyNetwork(input_dim=len(obs_data_raw.columns), output_dim=2)\n",
    "optimizer = torch.optim.SGD(policy.parameters(), lr=0.01)\n",
    "losses = []"
   ]
  },
  {
   "cell_type": "code",
   "execution_count": 258,
   "metadata": {},
   "outputs": [
    {
     "name": "stderr",
     "output_type": "stream",
     "text": [
      "100%|██████████| 50/50 [00:44<00:00,  1.13it/s]\n"
     ]
    }
   ],
   "source": [
    "for epoch in tqdm(range(50)):\n",
    "    for data, label in trainloader:\n",
    "        prediction = policy(data)     # input x and predict based on x\n",
    "        loss = loss_func(prediction, label)     # must be (1. nn output, 2. target)\n",
    "        optimizer.zero_grad()   # clear gradients for next train\n",
    "        loss.backward()         # backpropagation, compute gradients\n",
    "        optimizer.step()        # apply gradients\n",
    "    if (epoch + 1) % 10 == 0:\n",
    "        with torch.no_grad():\n",
    "            test_loss = 0\n",
    "            for test_data, test_label in testloader:\n",
    "                test_loss += loss_func(policy(test_data), test_label)\n",
    "            losses.append(test_loss.item()/len(testloader))"
   ]
  },
  {
   "cell_type": "code",
   "execution_count": 259,
   "metadata": {},
   "outputs": [
    {
     "data": {
      "text/plain": [
       "[<matplotlib.lines.Line2D at 0x7efc3e4fec10>]"
      ]
     },
     "execution_count": 259,
     "metadata": {},
     "output_type": "execute_result"
    },
    {
     "data": {
      "image/png": "[encoded data removed]",
      "text/plain": [
       "<Figure size 432x288 with 1 Axes>"
      ]
     },
     "metadata": {
      "needs_background": "light"
     },
     "output_type": "display_data"
    }
   ],
   "source": [
    "plt.plot(losses)"
   ]
  },
  {
   "cell_type": "code",
   "execution_count": 260,
   "metadata": {},
   "outputs": [
    {
     "name": "stdout",
     "output_type": "stream",
     "text": [
      "Accuracy of the policy network: 92 %\n"
     ]
    }
   ],
   "source": [
    "correct = 0\n",
    "total = 0\n",
    "# since we're not training, we don't need to calculate the gradients for our outputs\n",
    "with torch.no_grad():\n",
    "    outputs = policy(Xtest)\n",
    "    # the class with the highest energy is what we choose as prediction\n",
    "    _, predicted = torch.max(outputs.data, 1)\n",
    "    total += Xtest.size(0)\n",
    "    correct += (predicted == Ytest).sum().item()\n",
    "\n",
    "print('Accuracy of the policy network: %d %%' % (\n",
    "    100 * correct / total))"
   ]
  },
  {
   "cell_type": "code",
   "execution_count": 261,
   "metadata": {},
   "outputs": [],
   "source": [
    "PATH=\"/data/localhost/taufiq/export-dir/cartpole/policy_dicts\"\n",
    "torch.save({\n",
    "    'model_state_dict': policy.state_dict(),\n",
    "    'optimizer_state_dict': optimizer.state_dict()\n",
    "}, PATH)"
   ]
  },
  {
   "cell_type": "code",
   "execution_count": 30,
   "metadata": {},
   "outputs": [
    {
     "data": {
      "text/plain": [
       "<All keys matched successfully>"
      ]
     },
     "execution_count": 30,
     "metadata": {},
     "output_type": "execute_result"
    }
   ],
   "source": [
    "checkpoint = torch.load(PATH)\n",
    "policy.load_state_dict(checkpoint['model_state_dict'])"
   ]
  },
  {
   "cell_type": "markdown",
   "metadata": {},
   "source": [
    "# Train $\\mathbb{E}[Y \\mid x, a]$"
   ]
  },
  {
   "cell_type": "code",
   "execution_count": 12,
   "metadata": {},
   "outputs": [],
   "source": [
    "outcome = \"Pole Angle\""
   ]
  },
  {
   "cell_type": "code",
   "execution_count": 3,
   "metadata": {},
   "outputs": [],
   "source": [
    "import torch\n",
    "from torch.autograd import Variable\n",
    "import torch.nn.functional as F\n",
    "import torch.utils.data as Data\n",
    "\n",
    "\n",
    "class Net(torch.nn.Module):\n",
    "    def __init__(self, n_feature, n_hidden, n_output):\n",
    "        super(Net, self).__init__()\n",
    "        self.hidden = torch.nn.Linear(n_feature, n_hidden)   # hidden layer\n",
    "        self.predict = torch.nn.Linear(n_hidden, n_output)   # output layer\n",
    "        self.tanh = torch.nn.Tanh()\n",
    "\n",
    "    def forward(self, x):\n",
    "        x = self.tanh(self.hidden(x))      # activation function for hidden layer\n",
    "        x = self.predict(x)             # linear output\n",
    "        return x"
   ]
  },
  {
   "cell_type": "code",
   "execution_count": 264,
   "metadata": {},
   "outputs": [],
   "source": [
    "grp = np.floor(5*np.random.rand(len(obs_data_train))+1)\n",
    "crossval = 1\n",
    "trainidx = (grp != crossval)\n",
    "testidx = (grp == crossval)\n",
    "X = torch.FloatTensor(obs_data_raw.loc[trainidx].values)\n",
    "Xtest = torch.FloatTensor(obs_data_raw.loc[testidx].values)\n",
    "A = torch.FloatTensor(obs_data_train.loc[trainidx, 'A'].values)\n",
    "Atest = torch.FloatTensor(obs_data_train.loc[testidx, 'A'].values)\n",
    "\n",
    "Y = torch.FloatTensor((obs_data_train.loc[trainidx, f'{outcome}_t1'] - df_partial[outcome].mean()).values/df_partial[outcome].std()).unsqueeze(dim=1)\n",
    "Ytest = torch.FloatTensor((obs_data_train.loc[testidx, f'{outcome}_t1'] - df_partial[outcome].mean()).values/df_partial[outcome].std()).unsqueeze(dim=1)\n",
    "\n",
    "train = data_utils.TensorDataset(torch.column_stack((X, A)), Y)\n",
    "trainloader = torch.utils.data.DataLoader(train, batch_size=32)\n",
    "test = data_utils.TensorDataset(torch.column_stack((Xtest, Atest)), Ytest)\n",
    "testloader = torch.utils.data.DataLoader(test, batch_size=32)\n",
    "\n",
    "loss_func = torch.nn.MSELoss()\n",
    "obs_net = Net(n_feature=len(obs_data_raw.columns)+1, n_hidden=4, n_output=1)\n",
    "optimizer = torch.optim.SGD(obs_net.parameters(), lr=0.01)\n",
    "losses = []"
   ]
  },
  {
   "cell_type": "code",
   "execution_count": 265,
   "metadata": {},
   "outputs": [
    {
     "name": "stderr",
     "output_type": "stream",
     "text": [
      "100%|██████████| 100/100 [01:35<00:00,  1.04it/s]\n"
     ]
    }
   ],
   "source": [
    "for epoch in tqdm(range(100)):\n",
    "    for X, Y in trainloader:\n",
    "        prediction = obs_net(X)     # input x and predict based on x\n",
    "\n",
    "        loss = loss_func(prediction, Y)     # must be (1. nn output, 2. target)\n",
    "\n",
    "        optimizer.zero_grad()   # clear gradients for next train\n",
    "        loss.backward()         # backpropagation, compute gradients\n",
    "        optimizer.step()        # apply gradients\n",
    "    with torch.no_grad():\n",
    "        test_loss = 0\n",
    "        for Xtest, Ytest in testloader:\n",
    "            test_loss += loss_func(obs_net(Xtest), Ytest)\n",
    "        test_loss = test_loss/len(testloader)\n",
    "        losses.append(test_loss.item())"
   ]
  },
  {
   "cell_type": "code",
   "execution_count": 266,
   "metadata": {},
   "outputs": [
    {
     "data": {
      "text/plain": [
       "[<matplotlib.lines.Line2D at 0x7efc3e45c730>]"
      ]
     },
     "execution_count": 266,
     "metadata": {},
     "output_type": "execute_result"
    },
    {
     "data": {
      "image/png": "[encoded data removed]",
      "text/plain": [
       "<Figure size 432x288 with 1 Axes>"
      ]
     },
     "metadata": {
      "needs_background": "light"
     },
     "output_type": "display_data"
    }
   ],
   "source": [
    "plt.plot(losses)"
   ]
  },
  {
   "cell_type": "code",
   "execution_count": 267,
   "metadata": {},
   "outputs": [],
   "source": [
    "PATH=\"/data/localhost/taufiq/export-dir/cartpole/y_obs_dicts\"\n",
    "torch.save({\n",
    "    'model_state_dict': obs_net.state_dict(),\n",
    "    'optimizer_state_dict': optimizer.state_dict()\n",
    "}, PATH)"
   ]
  },
  {
   "cell_type": "code",
   "execution_count": 36,
   "metadata": {},
   "outputs": [
    {
     "data": {
      "text/plain": [
       "<All keys matched successfully>"
      ]
     },
     "execution_count": 36,
     "metadata": {},
     "output_type": "execute_result"
    }
   ],
   "source": [
    "checkpoint = torch.load(PATH)\n",
    "obs_net.load_state_dict(checkpoint['model_state_dict'])"
   ]
  },
  {
   "cell_type": "markdown",
   "metadata": {},
   "source": [
    "# Train $\\mathbb{E}[Y_{max}\\mid x, a]$"
   ]
  },
  {
   "cell_type": "code",
   "execution_count": 4,
   "metadata": {},
   "outputs": [],
   "source": [
    "class PinballLoss():\n",
    "    def __init__(self, quantile=0.10, reduction='none'):\n",
    "        self.quantile = quantile\n",
    "        assert 0 < self.quantile\n",
    "        assert self.quantile < 1\n",
    "        self.reduction = reduction\n",
    "\n",
    "    def __call__(self, output, target):\n",
    "        assert output.shape == target.shape\n",
    "        loss = torch.zeros_like(target, dtype=torch.float)\n",
    "        error = output - target\n",
    "        smaller_index = error < 0\n",
    "        bigger_index = 0 < error\n",
    "        loss[smaller_index] = self.quantile * (abs(error)[smaller_index])\n",
    "        loss[bigger_index] = (1-self.quantile) * (abs(error)[bigger_index])\n",
    "\n",
    "        if self.reduction == 'sum':\n",
    "            loss = loss.sum()\n",
    "        if self.reduction == 'mean':\n",
    "            loss = loss.mean()\n",
    "\n",
    "        return loss"
   ]
  },
  {
   "cell_type": "code",
   "execution_count": 326,
   "metadata": {},
   "outputs": [],
   "source": [
    "quantile_data_raw = (quantile_data[x_columns] - df_partial[x_columns].mean())/df_partial[x_columns].std()"
   ]
  },
  {
   "cell_type": "code",
   "execution_count": 327,
   "metadata": {},
   "outputs": [],
   "source": [
    "grp = np.floor(5*np.random.rand(len(quantile_data))+1)\n",
    "crossval = 1\n",
    "trainidx = (grp != crossval)\n",
    "testidx = (grp == crossval)\n",
    "X = torch.FloatTensor(quantile_data_raw.loc[trainidx].values)\n",
    "Xtest = torch.FloatTensor(quantile_data_raw.loc[testidx].values)\n",
    "A = torch.FloatTensor(quantile_data.loc[trainidx, 'A'].values)\n",
    "Atest = torch.FloatTensor(quantile_data.loc[testidx, 'A'].values)\n",
    "\n",
    "Y = torch.FloatTensor((quantile_data.loc[trainidx, f'{outcome}_t1'] - df_partial[outcome].mean()).values/df_partial[outcome].std()).unsqueeze(dim=1)\n",
    "Ytest = torch.FloatTensor((quantile_data.loc[testidx, f'{outcome}_t1'] - df_partial[outcome].mean()).values/df_partial[outcome].std()).unsqueeze(dim=1)\n",
    "\n",
    "train = data_utils.TensorDataset(torch.column_stack((X, A)), Y)\n",
    "trainloader = torch.utils.data.DataLoader(train, batch_size=32)\n",
    "test = data_utils.TensorDataset(torch.column_stack((Xtest, Atest)), Ytest)\n",
    "testloader = torch.utils.data.DataLoader(test, batch_size=32)\n",
    "\n",
    "loss_func = PinballLoss(quantile=0.99999, reduction='mean')\n",
    "ymax_net = Net(n_feature=len(quantile_data_raw.columns)+1, n_hidden=4, n_output=1)\n",
    "optimizer = torch.optim.SGD(ymax_net.parameters(), lr=0.001)\n",
    "losses = []"
   ]
  },
  {
   "cell_type": "code",
   "execution_count": 328,
   "metadata": {},
   "outputs": [
    {
     "name": "stderr",
     "output_type": "stream",
     "text": [
      "100%|██████████| 100/100 [05:41<00:00,  3.42s/it]\n"
     ]
    }
   ],
   "source": [
    "for epoch in tqdm(range(100)):\n",
    "    for X, Y in trainloader:\n",
    "        prediction = ymax_net(X)     # input x and predict based on x\n",
    "\n",
    "        loss = loss_func(prediction, Y)     # must be (1. nn output, 2. target)\n",
    "\n",
    "        optimizer.zero_grad()   # clear gradients for next train\n",
    "        loss.backward()         # backpropagation, compute gradients\n",
    "        optimizer.step()        # apply gradients\n",
    "    with torch.no_grad():\n",
    "        test_loss = 0\n",
    "        for Xtest, Ytest in testloader:\n",
    "            test_loss += loss_func(ymax_net(Xtest), Ytest)\n",
    "        test_loss = test_loss/len(testloader)\n",
    "        losses.append(test_loss.item())"
   ]
  },
  {
   "cell_type": "code",
   "execution_count": 329,
   "metadata": {},
   "outputs": [
    {
     "data": {
      "text/plain": [
       "[<matplotlib.lines.Line2D at 0x7efc3df98a00>]"
      ]
     },
     "execution_count": 329,
     "metadata": {},
     "output_type": "execute_result"
    },
    {
     "data": {
      "image/png": "[encoded data removed]",
      "text/plain": [
       "<Figure size 432x288 with 1 Axes>"
      ]
     },
     "metadata": {
      "needs_background": "light"
     },
     "output_type": "display_data"
    }
   ],
   "source": [
    "plt.plot(losses)"
   ]
  },
  {
   "cell_type": "code",
   "execution_count": 330,
   "metadata": {},
   "outputs": [],
   "source": [
    "PATH=\"/data/localhost/taufiq/export-dir/cartpole/y_max_dicts\"\n",
    "torch.save({\n",
    "    'model_state_dict': ymax_net.state_dict(),\n",
    "    'optimizer_state_dict': optimizer.state_dict()\n",
    "}, PATH)"
   ]
  },
  {
   "cell_type": "markdown",
   "metadata": {},
   "source": [
    "# Train $\\mathbb{E}[Y_{min}\\mid x, a]$"
   ]
  },
  {
   "cell_type": "code",
   "execution_count": 331,
   "metadata": {},
   "outputs": [],
   "source": [
    "loss_func = PinballLoss(quantile=0.00001, reduction='mean')\n",
    "ymin_net = Net(n_feature=len(quantile_data_raw.columns)+1, n_hidden=4, n_output=1)\n",
    "optimizer = torch.optim.SGD(ymin_net.parameters(), lr=0.001)\n",
    "losses = []"
   ]
  },
  {
   "cell_type": "code",
   "execution_count": 332,
   "metadata": {},
   "outputs": [
    {
     "name": "stderr",
     "output_type": "stream",
     "text": [
      "100%|██████████| 100/100 [05:41<00:00,  3.42s/it]\n"
     ]
    }
   ],
   "source": [
    "for epoch in tqdm(range(100)):\n",
    "    for X, Y in trainloader:\n",
    "        prediction = ymin_net(X)     # input x and predict based on x\n",
    "\n",
    "        loss = loss_func(prediction, Y)     # must be (1. nn output, 2. target)\n",
    "\n",
    "        optimizer.zero_grad()   # clear gradients for next train\n",
    "        loss.backward()         # backpropagation, compute gradients\n",
    "        optimizer.step()        # apply gradients\n",
    "    with torch.no_grad():\n",
    "        test_loss = 0\n",
    "        for Xtest, Ytest in testloader:\n",
    "            test_loss += loss_func(ymin_net(Xtest), Ytest)\n",
    "        test_loss = test_loss/len(testloader)\n",
    "        losses.append(test_loss.item())"
   ]
  },
  {
   "cell_type": "code",
   "execution_count": 333,
   "metadata": {},
   "outputs": [
    {
     "data": {
      "text/plain": [
       "[<matplotlib.lines.Line2D at 0x7efc3e1a2100>]"
      ]
     },
     "execution_count": 333,
     "metadata": {},
     "output_type": "execute_result"
    },
    {
     "data": {
      "image/png": "[encoded data removed]",
      "text/plain": [
       "<Figure size 432x288 with 1 Axes>"
      ]
     },
     "metadata": {
      "needs_background": "light"
     },
     "output_type": "display_data"
    }
   ],
   "source": [
    "plt.plot(losses)"
   ]
  },
  {
   "cell_type": "code",
   "execution_count": 334,
   "metadata": {},
   "outputs": [],
   "source": [
    "PATH=\"/data/localhost/taufiq/export-dir/cartpole/y_min_dicts\"\n",
    "torch.save({\n",
    "    'model_state_dict': ymax_net.state_dict(),\n",
    "    'optimizer_state_dict': optimizer.state_dict()\n",
    "}, PATH)"
   ]
  },
  {
   "cell_type": "markdown",
   "metadata": {},
   "source": [
    "# Train $\\mathbb{E}[Y^{sim}(a) \\mid x(a)]$"
   ]
  },
  {
   "cell_type": "code",
   "execution_count": 279,
   "metadata": {},
   "outputs": [],
   "source": [
    "sim_data_raw = (sim_data_filtered[x_columns] - df_partial[x_columns].mean())/df_partial[x_columns].std()\n"
   ]
  },
  {
   "cell_type": "code",
   "execution_count": 280,
   "metadata": {},
   "outputs": [],
   "source": [
    "grp = np.floor(5*np.random.rand(len(sim_data_filtered))+1)\n",
    "crossval = 1\n",
    "trainidx = (grp != crossval)\n",
    "testidx = (grp == crossval)\n",
    "X = torch.FloatTensor(sim_data_raw.loc[trainidx].values)\n",
    "Xtest = torch.FloatTensor(sim_data_raw.loc[testidx].values)\n",
    "A = torch.FloatTensor(sim_data_filtered.loc[trainidx, 'A'].values)\n",
    "Atest = torch.FloatTensor(sim_data_filtered.loc[testidx, 'A'].values)\n",
    "\n",
    "Y = torch.FloatTensor((sim_data_filtered.loc[trainidx, f'{outcome}_t1'] - df_partial[outcome].mean()).values/df_partial[outcome].std()).unsqueeze(dim=1)\n",
    "Ytest = torch.FloatTensor((sim_data_filtered.loc[testidx, f'{outcome}_t1'] - df_partial[outcome].mean()).values/df_partial[outcome].std()).unsqueeze(dim=1)\n",
    "\n",
    "train = data_utils.TensorDataset(torch.column_stack((X, A)), Y)\n",
    "trainloader = torch.utils.data.DataLoader(train, batch_size=32)\n",
    "test = data_utils.TensorDataset(torch.column_stack((Xtest, Atest)), Ytest)\n",
    "testloader = torch.utils.data.DataLoader(test, batch_size=32)\n",
    "\n",
    "loss_func = torch.nn.MSELoss()\n",
    "sim_net = Net(n_feature=len(sim_data_raw.columns)+1, n_hidden=4, n_output=1)\n",
    "optimizer = torch.optim.SGD(sim_net.parameters(), lr=0.01)\n",
    "losses = []"
   ]
  },
  {
   "cell_type": "code",
   "execution_count": 291,
   "metadata": {},
   "outputs": [
    {
     "name": "stderr",
     "output_type": "stream",
     "text": [
      "100%|██████████| 50/50 [00:58<00:00,  1.18s/it]\n"
     ]
    }
   ],
   "source": [
    "for epoch in tqdm(range(100)):\n",
    "    for X, Y in trainloader:\n",
    "        prediction = sim_net(X)     # input x and predict based on x\n",
    "\n",
    "        loss = loss_func(prediction, Y)     # must be (1. nn output, 2. target)\n",
    "\n",
    "        optimizer.zero_grad()   # clear gradients for next train\n",
    "        loss.backward()         # backpropagation, compute gradients\n",
    "        optimizer.step()        # apply gradients\n",
    "    with torch.no_grad():\n",
    "        test_loss = 0\n",
    "        for Xtest, Ytest in testloader:\n",
    "            test_loss += loss_func(sim_net(Xtest), Ytest)\n",
    "        test_loss = test_loss/len(testloader)\n",
    "        losses.append(test_loss.item())"
   ]
  },
  {
   "cell_type": "code",
   "execution_count": 292,
   "metadata": {},
   "outputs": [
    {
     "data": {
      "text/plain": [
       "[<matplotlib.lines.Line2D at 0x7efc3e3351c0>]"
      ]
     },
     "execution_count": 292,
     "metadata": {},
     "output_type": "execute_result"
    },
    {
     "data": {
      "image/png": "[encoded data removed]",
      "text/plain": [
       "<Figure size 432x288 with 1 Axes>"
      ]
     },
     "metadata": {
      "needs_background": "light"
     },
     "output_type": "display_data"
    }
   ],
   "source": [
    "plt.plot(losses)"
   ]
  },
  {
   "cell_type": "code",
   "execution_count": 293,
   "metadata": {},
   "outputs": [],
   "source": [
    "PATH=\"/data/localhost/taufiq/export-dir/cartpole/y_sim_dicts\"\n",
    "torch.save({\n",
    "    'model_state_dict': sim_net.state_dict(),\n",
    "    'optimizer_state_dict': optimizer.state_dict()\n",
    "}, PATH)"
   ]
  },
  {
   "cell_type": "code",
   "execution_count": 40,
   "metadata": {},
   "outputs": [
    {
     "data": {
      "text/plain": [
       "<All keys matched successfully>"
      ]
     },
     "execution_count": 40,
     "metadata": {},
     "output_type": "execute_result"
    }
   ],
   "source": [
    "checkpoint = torch.load(PATH)\n",
    "sim_net.load_state_dict(checkpoint['model_state_dict'])"
   ]
  },
  {
   "cell_type": "code",
   "execution_count": 41,
   "metadata": {},
   "outputs": [
    {
     "data": {
      "text/html": [
       "<div>\n",
       "<style scoped>\n",
       "    .dataframe tbody tr th:only-of-type {\n",
       "        vertical-align: middle;\n",
       "    }\n",
       "\n",
       "    .dataframe tbody tr th {\n",
       "        vertical-align: top;\n",
       "    }\n",
       "\n",
       "    .dataframe thead th {\n",
       "        text-align: right;\n",
       "    }\n",
       "</style>\n",
       "<table border=\"1\" class=\"dataframe\">\n",
       "  <thead>\n",
       "    <tr style=\"text-align: right;\">\n",
       "      <th></th>\n",
       "      <th>A</th>\n",
       "      <th>Cart Position</th>\n",
       "      <th>Cart Velocity</th>\n",
       "      <th>Pole Angle</th>\n",
       "      <th>Pole Angular Velocity (abs)</th>\n",
       "      <th>episode</th>\n",
       "      <th>t</th>\n",
       "      <th>Pole Angular Velocity (sign)</th>\n",
       "      <th>Cart Position_t1</th>\n",
       "      <th>Cart Velocity_t1</th>\n",
       "      <th>Pole Angle_t1</th>\n",
       "      <th>Pole Angular Velocity (abs)_t1</th>\n",
       "    </tr>\n",
       "  </thead>\n",
       "  <tbody>\n",
       "    <tr>\n",
       "      <th>0</th>\n",
       "      <td>0.0</td>\n",
       "      <td>-0.044931</td>\n",
       "      <td>0.005088</td>\n",
       "      <td>0.000109</td>\n",
       "      <td>0.033541</td>\n",
       "      <td>0.0</td>\n",
       "      <td>0.0</td>\n",
       "      <td>-1</td>\n",
       "      <td>-0.044829</td>\n",
       "      <td>-0.190036</td>\n",
       "      <td>-0.000562</td>\n",
       "      <td>0.259176</td>\n",
       "    </tr>\n",
       "    <tr>\n",
       "      <th>1</th>\n",
       "      <td>1.0</td>\n",
       "      <td>-0.044829</td>\n",
       "      <td>-0.190036</td>\n",
       "      <td>-0.000562</td>\n",
       "      <td>0.259176</td>\n",
       "      <td>0.0</td>\n",
       "      <td>1.0</td>\n",
       "      <td>1</td>\n",
       "      <td>-0.048630</td>\n",
       "      <td>0.005094</td>\n",
       "      <td>0.004621</td>\n",
       "      <td>0.033684</td>\n",
       "    </tr>\n",
       "    <tr>\n",
       "      <th>2</th>\n",
       "      <td>0.0</td>\n",
       "      <td>-0.048630</td>\n",
       "      <td>0.005094</td>\n",
       "      <td>0.004621</td>\n",
       "      <td>0.033684</td>\n",
       "      <td>0.0</td>\n",
       "      <td>2.0</td>\n",
       "      <td>-1</td>\n",
       "      <td>-0.048528</td>\n",
       "      <td>-0.190094</td>\n",
       "      <td>0.003948</td>\n",
       "      <td>0.260453</td>\n",
       "    </tr>\n",
       "    <tr>\n",
       "      <th>3</th>\n",
       "      <td>1.0</td>\n",
       "      <td>-0.048528</td>\n",
       "      <td>-0.190094</td>\n",
       "      <td>0.003948</td>\n",
       "      <td>0.260453</td>\n",
       "      <td>0.0</td>\n",
       "      <td>3.0</td>\n",
       "      <td>1</td>\n",
       "      <td>-0.052330</td>\n",
       "      <td>0.004971</td>\n",
       "      <td>0.009157</td>\n",
       "      <td>0.030982</td>\n",
       "    </tr>\n",
       "    <tr>\n",
       "      <th>4</th>\n",
       "      <td>0.0</td>\n",
       "      <td>-0.052330</td>\n",
       "      <td>0.004971</td>\n",
       "      <td>0.009157</td>\n",
       "      <td>0.030982</td>\n",
       "      <td>0.0</td>\n",
       "      <td>4.0</td>\n",
       "      <td>-1</td>\n",
       "      <td>-0.052230</td>\n",
       "      <td>-0.190281</td>\n",
       "      <td>0.008537</td>\n",
       "      <td>0.264576</td>\n",
       "    </tr>\n",
       "  </tbody>\n",
       "</table>\n",
       "</div>"
      ],
      "text/plain": [
       "     A  Cart Position  Cart Velocity  Pole Angle  Pole Angular Velocity (abs)  \\\n",
       "0  0.0      -0.044931       0.005088    0.000109                     0.033541   \n",
       "1  1.0      -0.044829      -0.190036   -0.000562                     0.259176   \n",
       "2  0.0      -0.048630       0.005094    0.004621                     0.033684   \n",
       "3  1.0      -0.048528      -0.190094    0.003948                     0.260453   \n",
       "4  0.0      -0.052330       0.004971    0.009157                     0.030982   \n",
       "\n",
       "   episode    t  Pole Angular Velocity (sign)  Cart Position_t1  \\\n",
       "0      0.0  0.0                            -1         -0.044829   \n",
       "1      0.0  1.0                             1         -0.048630   \n",
       "2      0.0  2.0                            -1         -0.048528   \n",
       "3      0.0  3.0                             1         -0.052330   \n",
       "4      0.0  4.0                            -1         -0.052230   \n",
       "\n",
       "   Cart Velocity_t1  Pole Angle_t1  Pole Angular Velocity (abs)_t1  \n",
       "0         -0.190036      -0.000562                        0.259176  \n",
       "1          0.005094       0.004621                        0.033684  \n",
       "2         -0.190094       0.003948                        0.260453  \n",
       "3          0.004971       0.009157                        0.030982  \n",
       "4         -0.190281       0.008537                        0.264576  "
      ]
     },
     "execution_count": 41,
     "metadata": {},
     "output_type": "execute_result"
    }
   ],
   "source": [
    "sim_data.head()"
   ]
  },
  {
   "cell_type": "markdown",
   "metadata": {},
   "source": [
    "# Compare MSE with Scores"
   ]
  },
  {
   "cell_type": "code",
   "execution_count": 335,
   "metadata": {},
   "outputs": [],
   "source": [
    "obs_data_test_raw = (obs_data_test[x_columns] - df_partial[x_columns].mean())/df_partial[x_columns].std()"
   ]
  },
  {
   "cell_type": "code",
   "execution_count": 336,
   "metadata": {},
   "outputs": [],
   "source": [
    "obs_data_test_copy = obs_data_test.copy()\n",
    "with torch.no_grad():\n",
    "    X_val = torch.FloatTensor(obs_data_test_raw.values) \n",
    "    A_val = torch.FloatTensor(obs_data_test['A'].values)\n",
    "    pred = obs_net(torch.column_stack((X_val, A_val))).reshape(-1)*df_partial[outcome].std() + df_partial[outcome].mean()\n",
    "    sim_pred = sim_net(torch.column_stack((X_val, A_val))).reshape(-1)*df_partial[outcome].std() + df_partial[outcome].mean()\n",
    "    Y = torch.FloatTensor(obs_data_test[f'{outcome}_t1'].values)\n",
    "    mse = torch.square(sim_pred - Y)\n",
    "    pol_val = torch.nn.Softmax(dim=1)(policy(X_val))[torch.arange(A_val.shape[0]), A_val.to(torch.long)]\n",
    "    ymin = ymin_net(torch.column_stack((X_val, A_val))).reshape(-1)*df_partial[outcome].std() + df_partial[outcome].mean()\n",
    "    ymax = ymax_net(torch.column_stack((X_val, A_val))).reshape(-1)*df_partial[outcome].std() + df_partial[outcome].mean()\n",
    "    obs_data_test_copy['MSE'] = mse.numpy()\n",
    "    obs_data_test_copy['LB'] = (pred*pol_val + (1-pol_val)*ymin).numpy()\n",
    "    obs_data_test_copy['UB'] = (pred*pol_val + (1-pol_val)*ymax).numpy()\n",
    "    obs_data_test_copy[f'Sim_{outcome}_t1'] = sim_pred.numpy()\n",
    "    obs_data_test_copy['In bounds'] = (obs_data_test_copy['LB'] <= obs_data_test_copy[f'Sim_{outcome}_t1']).apply(int) * (obs_data_test_copy['UB'] >= obs_data_test_copy[f'Sim_{outcome}_t1']).apply(int)\n",
    "    obs_data_test_copy['Bound length'] = obs_data_test_copy['UB'] - obs_data_test_copy['LB']\n",
    "    "
   ]
  },
  {
   "cell_type": "code",
   "execution_count": 337,
   "metadata": {},
   "outputs": [
    {
     "data": {
      "text/html": [
       "<div>\n",
       "<style scoped>\n",
       "    .dataframe tbody tr th:only-of-type {\n",
       "        vertical-align: middle;\n",
       "    }\n",
       "\n",
       "    .dataframe tbody tr th {\n",
       "        vertical-align: top;\n",
       "    }\n",
       "\n",
       "    .dataframe thead th {\n",
       "        text-align: right;\n",
       "    }\n",
       "</style>\n",
       "<table border=\"1\" class=\"dataframe\">\n",
       "  <thead>\n",
       "    <tr style=\"text-align: right;\">\n",
       "      <th></th>\n",
       "      <th>A</th>\n",
       "      <th>Cart Position</th>\n",
       "      <th>Cart Velocity (abs)</th>\n",
       "      <th>Pole Angle</th>\n",
       "      <th>Pole Angular Velocity (abs)</th>\n",
       "      <th>episode</th>\n",
       "      <th>t</th>\n",
       "      <th>Pole Angular Velocity (sign)</th>\n",
       "      <th>Cart Velocity (sign)</th>\n",
       "      <th>Cart Position_t1</th>\n",
       "      <th>Cart Velocity (abs)_t1</th>\n",
       "      <th>Pole Angle_t1</th>\n",
       "      <th>Pole Angular Velocity (abs)_t1</th>\n",
       "      <th>MSE</th>\n",
       "      <th>LB</th>\n",
       "      <th>UB</th>\n",
       "      <th>Sim_Pole Angle_t1</th>\n",
       "      <th>In bounds</th>\n",
       "      <th>Bound length</th>\n",
       "    </tr>\n",
       "  </thead>\n",
       "  <tbody>\n",
       "    <tr>\n",
       "      <th>6</th>\n",
       "      <td>0.0</td>\n",
       "      <td>0.017909</td>\n",
       "      <td>0.027689</td>\n",
       "      <td>-0.004355</td>\n",
       "      <td>0.048940</td>\n",
       "      <td>500.0</td>\n",
       "      <td>6.0</td>\n",
       "      <td>-1</td>\n",
       "      <td>-1</td>\n",
       "      <td>0.017355</td>\n",
       "      <td>0.222748</td>\n",
       "      <td>-0.005334</td>\n",
       "      <td>0.242365</td>\n",
       "      <td>1.077220e-06</td>\n",
       "      <td>-0.006164</td>\n",
       "      <td>-0.004801</td>\n",
       "      <td>-0.004296</td>\n",
       "      <td>0</td>\n",
       "      <td>0.001363</td>\n",
       "    </tr>\n",
       "    <tr>\n",
       "      <th>12</th>\n",
       "      <td>0.0</td>\n",
       "      <td>-0.004923</td>\n",
       "      <td>0.028104</td>\n",
       "      <td>0.018981</td>\n",
       "      <td>0.039786</td>\n",
       "      <td>500.0</td>\n",
       "      <td>12.0</td>\n",
       "      <td>-1</td>\n",
       "      <td>-1</td>\n",
       "      <td>-0.005485</td>\n",
       "      <td>0.223493</td>\n",
       "      <td>0.018185</td>\n",
       "      <td>0.258825</td>\n",
       "      <td>2.935338e-07</td>\n",
       "      <td>0.008318</td>\n",
       "      <td>0.056401</td>\n",
       "      <td>0.017644</td>\n",
       "      <td>1</td>\n",
       "      <td>0.048083</td>\n",
       "    </tr>\n",
       "    <tr>\n",
       "      <th>27</th>\n",
       "      <td>0.0</td>\n",
       "      <td>-0.002272</td>\n",
       "      <td>0.163339</td>\n",
       "      <td>0.003266</td>\n",
       "      <td>0.251321</td>\n",
       "      <td>500.0</td>\n",
       "      <td>27.0</td>\n",
       "      <td>-1</td>\n",
       "      <td>1</td>\n",
       "      <td>0.000995</td>\n",
       "      <td>0.031829</td>\n",
       "      <td>-0.001760</td>\n",
       "      <td>0.042390</td>\n",
       "      <td>1.540385e-08</td>\n",
       "      <td>-0.003011</td>\n",
       "      <td>0.000175</td>\n",
       "      <td>-0.001884</td>\n",
       "      <td>1</td>\n",
       "      <td>0.003186</td>\n",
       "    </tr>\n",
       "    <tr>\n",
       "      <th>33</th>\n",
       "      <td>0.0</td>\n",
       "      <td>-0.002180</td>\n",
       "      <td>0.163466</td>\n",
       "      <td>0.002310</td>\n",
       "      <td>0.254127</td>\n",
       "      <td>500.0</td>\n",
       "      <td>33.0</td>\n",
       "      <td>-1</td>\n",
       "      <td>1</td>\n",
       "      <td>0.001089</td>\n",
       "      <td>0.031688</td>\n",
       "      <td>-0.002773</td>\n",
       "      <td>0.039284</td>\n",
       "      <td>1.983366e-08</td>\n",
       "      <td>-0.004178</td>\n",
       "      <td>-0.000719</td>\n",
       "      <td>-0.002913</td>\n",
       "      <td>1</td>\n",
       "      <td>0.003459</td>\n",
       "    </tr>\n",
       "    <tr>\n",
       "      <th>37</th>\n",
       "      <td>0.0</td>\n",
       "      <td>0.010897</td>\n",
       "      <td>0.163602</td>\n",
       "      <td>-0.018024</td>\n",
       "      <td>0.257135</td>\n",
       "      <td>500.0</td>\n",
       "      <td>37.0</td>\n",
       "      <td>-1</td>\n",
       "      <td>1</td>\n",
       "      <td>0.014169</td>\n",
       "      <td>0.031259</td>\n",
       "      <td>-0.023167</td>\n",
       "      <td>0.029809</td>\n",
       "      <td>2.421941e-06</td>\n",
       "      <td>-0.025916</td>\n",
       "      <td>-0.021757</td>\n",
       "      <td>-0.021610</td>\n",
       "      <td>0</td>\n",
       "      <td>0.004159</td>\n",
       "    </tr>\n",
       "  </tbody>\n",
       "</table>\n",
       "</div>"
      ],
      "text/plain": [
       "      A  Cart Position  Cart Velocity (abs)  Pole Angle  \\\n",
       "6   0.0       0.017909             0.027689   -0.004355   \n",
       "12  0.0      -0.004923             0.028104    0.018981   \n",
       "27  0.0      -0.002272             0.163339    0.003266   \n",
       "33  0.0      -0.002180             0.163466    0.002310   \n",
       "37  0.0       0.010897             0.163602   -0.018024   \n",
       "\n",
       "    Pole Angular Velocity (abs)  episode     t  Pole Angular Velocity (sign)  \\\n",
       "6                      0.048940    500.0   6.0                            -1   \n",
       "12                     0.039786    500.0  12.0                            -1   \n",
       "27                     0.251321    500.0  27.0                            -1   \n",
       "33                     0.254127    500.0  33.0                            -1   \n",
       "37                     0.257135    500.0  37.0                            -1   \n",
       "\n",
       "    Cart Velocity (sign)  Cart Position_t1  Cart Velocity (abs)_t1  \\\n",
       "6                     -1          0.017355                0.222748   \n",
       "12                    -1         -0.005485                0.223493   \n",
       "27                     1          0.000995                0.031829   \n",
       "33                     1          0.001089                0.031688   \n",
       "37                     1          0.014169                0.031259   \n",
       "\n",
       "    Pole Angle_t1  Pole Angular Velocity (abs)_t1           MSE        LB  \\\n",
       "6       -0.005334                        0.242365  1.077220e-06 -0.006164   \n",
       "12       0.018185                        0.258825  2.935338e-07  0.008318   \n",
       "27      -0.001760                        0.042390  1.540385e-08 -0.003011   \n",
       "33      -0.002773                        0.039284  1.983366e-08 -0.004178   \n",
       "37      -0.023167                        0.029809  2.421941e-06 -0.025916   \n",
       "\n",
       "          UB  Sim_Pole Angle_t1  In bounds  Bound length  \n",
       "6  -0.004801          -0.004296          0      0.001363  \n",
       "12  0.056401           0.017644          1      0.048083  \n",
       "27  0.000175          -0.001884          1      0.003186  \n",
       "33 -0.000719          -0.002913          1      0.003459  \n",
       "37 -0.021757          -0.021610          0      0.004159  "
      ]
     },
     "execution_count": 337,
     "metadata": {},
     "output_type": "execute_result"
    }
   ],
   "source": [
    "obs_data_test_copy.head()"
   ]
  },
  {
   "cell_type": "code",
   "execution_count": 338,
   "metadata": {},
   "outputs": [
    {
     "data": {
      "text/plain": [
       "1.544829274280346e-06"
      ]
     },
     "execution_count": 338,
     "metadata": {},
     "output_type": "execute_result"
    }
   ],
   "source": [
    "obs_data_test_copy.loc[obs_data_test_copy['A']==0, 'MSE'].mean()"
   ]
  },
  {
   "cell_type": "code",
   "execution_count": 339,
   "metadata": {},
   "outputs": [
    {
     "data": {
      "text/plain": [
       "1.7826389012043364e-05"
      ]
     },
     "execution_count": 339,
     "metadata": {},
     "output_type": "execute_result"
    }
   ],
   "source": [
    "obs_data_test_copy.loc[obs_data_test_copy['A']==1, 'MSE'].mean()"
   ]
  },
  {
   "cell_type": "code",
   "execution_count": 345,
   "metadata": {},
   "outputs": [
    {
     "name": "stdout",
     "output_type": "stream",
     "text": [
      "p_0 = 0.8034591194968553$\n",
      "p_1 = 0.9549772036474165$\n"
     ]
    }
   ],
   "source": [
    "p0 = ((obs_data_test_copy['In bounds']==1) & (obs_data_test_copy['A']==0)).sum()/(obs_data_test_copy['A']==0).sum()\n",
    "p1 = ((obs_data_test_copy['In bounds']==1) & (obs_data_test_copy['A']==1)).sum()/(obs_data_test_copy['A']==1).sum()\n",
    "print(f'p_0 = {p0}$')\n",
    "print(f'p_1 = {p1}$')"
   ]
  },
  {
   "cell_type": "code",
   "execution_count": 346,
   "metadata": {},
   "outputs": [
    {
     "data": {
      "text/plain": [
       "<matplotlib.axes._subplots.AxesSubplot at 0x7efc3de8c490>"
      ]
     },
     "execution_count": 346,
     "metadata": {},
     "output_type": "execute_result"
    },
    {
     "data": {
      "image/png": "[encoded data removed]",
      "text/plain": [
       "<Figure size 360x504 with 1 Axes>"
      ]
     },
     "metadata": {
      "needs_background": "light"
     },
     "output_type": "display_data"
    }
   ],
   "source": [
    "import seaborn as sns\n",
    "fig, axs = plt.subplots(1, figsize=(5,7))\n",
    "sns.boxplot(y='MSE',x='A', data=obs_data_test_copy.astype({'A': 'str'}), ax=axs, showfliers=False)"
   ]
  },
  {
   "cell_type": "code",
   "execution_count": 347,
   "metadata": {},
   "outputs": [
    {
     "data": {
      "text/plain": [
       "<matplotlib.axes._subplots.AxesSubplot at 0x7efc3de1f640>"
      ]
     },
     "execution_count": 347,
     "metadata": {},
     "output_type": "execute_result"
    },
    {
     "data": {
      "image/png": "[encoded data removed]",
      "text/plain": [
       "<Figure size 360x504 with 1 Axes>"
      ]
     },
     "metadata": {
      "needs_background": "light"
     },
     "output_type": "display_data"
    }
   ],
   "source": [
    "import seaborn as sns\n",
    "fig, axs = plt.subplots(1, figsize=(5,7))\n",
    "sns.boxplot(y='Bound length',x='A', data=obs_data_test_copy.astype({'A': 'str'}), ax=axs, showfliers=False)"
   ]
  },
  {
   "cell_type": "markdown",
   "metadata": {},
   "source": [
    "# Simulator 2: wrong model\n",
    "\n",
    "Simulator 2 is wrong but should attain lower MSE than previous simulator"
   ]
  },
  {
   "cell_type": "code",
   "execution_count": 359,
   "metadata": {},
   "outputs": [],
   "source": [
    "sim2_data = sim_data_filtered.copy()"
   ]
  },
  {
   "cell_type": "code",
   "execution_count": 360,
   "metadata": {},
   "outputs": [],
   "source": [
    "epsilon = 0.0015\n",
    "sim2_data.loc[:,'Pole Angle_t1'] -= epsilon"
   ]
  },
  {
   "cell_type": "code",
   "execution_count": 376,
   "metadata": {},
   "outputs": [
    {
     "data": {
      "text/html": [
       "<div>\n",
       "<style scoped>\n",
       "    .dataframe tbody tr th:only-of-type {\n",
       "        vertical-align: middle;\n",
       "    }\n",
       "\n",
       "    .dataframe tbody tr th {\n",
       "        vertical-align: top;\n",
       "    }\n",
       "\n",
       "    .dataframe thead th {\n",
       "        text-align: right;\n",
       "    }\n",
       "</style>\n",
       "<table border=\"1\" class=\"dataframe\">\n",
       "  <thead>\n",
       "    <tr style=\"text-align: right;\">\n",
       "      <th></th>\n",
       "      <th>A</th>\n",
       "      <th>Cart Position</th>\n",
       "      <th>Cart Velocity (abs)</th>\n",
       "      <th>Pole Angle</th>\n",
       "      <th>Pole Angular Velocity (abs)</th>\n",
       "      <th>episode</th>\n",
       "      <th>t</th>\n",
       "      <th>Pole Angular Velocity (sign)</th>\n",
       "      <th>Cart Velocity (sign)</th>\n",
       "      <th>Cart Position_t1</th>\n",
       "      <th>Cart Velocity (abs)_t1</th>\n",
       "      <th>Pole Angle_t1</th>\n",
       "      <th>Pole Angular Velocity (abs)_t1</th>\n",
       "    </tr>\n",
       "  </thead>\n",
       "  <tbody>\n",
       "    <tr>\n",
       "      <th>0</th>\n",
       "      <td>0.0</td>\n",
       "      <td>-0.044931</td>\n",
       "      <td>0.005088</td>\n",
       "      <td>0.000109</td>\n",
       "      <td>0.033541</td>\n",
       "      <td>0.0</td>\n",
       "      <td>0.0</td>\n",
       "      <td>-1</td>\n",
       "      <td>1</td>\n",
       "      <td>-0.044829</td>\n",
       "      <td>0.190036</td>\n",
       "      <td>-0.002062</td>\n",
       "      <td>0.259176</td>\n",
       "    </tr>\n",
       "    <tr>\n",
       "      <th>1</th>\n",
       "      <td>1.0</td>\n",
       "      <td>-0.044829</td>\n",
       "      <td>0.190036</td>\n",
       "      <td>-0.000562</td>\n",
       "      <td>0.259176</td>\n",
       "      <td>0.0</td>\n",
       "      <td>1.0</td>\n",
       "      <td>1</td>\n",
       "      <td>-1</td>\n",
       "      <td>-0.048630</td>\n",
       "      <td>0.005094</td>\n",
       "      <td>0.003121</td>\n",
       "      <td>0.033684</td>\n",
       "    </tr>\n",
       "    <tr>\n",
       "      <th>6</th>\n",
       "      <td>1.0</td>\n",
       "      <td>-0.056036</td>\n",
       "      <td>0.004718</td>\n",
       "      <td>0.013829</td>\n",
       "      <td>0.025402</td>\n",
       "      <td>0.0</td>\n",
       "      <td>6.0</td>\n",
       "      <td>-1</td>\n",
       "      <td>1</td>\n",
       "      <td>-0.055942</td>\n",
       "      <td>0.199639</td>\n",
       "      <td>0.011821</td>\n",
       "      <td>0.313690</td>\n",
       "    </tr>\n",
       "    <tr>\n",
       "      <th>8</th>\n",
       "      <td>1.0</td>\n",
       "      <td>-0.051949</td>\n",
       "      <td>0.004330</td>\n",
       "      <td>0.007047</td>\n",
       "      <td>0.016836</td>\n",
       "      <td>0.0</td>\n",
       "      <td>8.0</td>\n",
       "      <td>-1</td>\n",
       "      <td>1</td>\n",
       "      <td>-0.051862</td>\n",
       "      <td>0.199350</td>\n",
       "      <td>0.005210</td>\n",
       "      <td>0.307287</td>\n",
       "    </tr>\n",
       "    <tr>\n",
       "      <th>9</th>\n",
       "      <td>0.0</td>\n",
       "      <td>-0.051862</td>\n",
       "      <td>0.199350</td>\n",
       "      <td>0.006710</td>\n",
       "      <td>0.307287</td>\n",
       "      <td>0.0</td>\n",
       "      <td>9.0</td>\n",
       "      <td>-1</td>\n",
       "      <td>1</td>\n",
       "      <td>-0.047875</td>\n",
       "      <td>0.004134</td>\n",
       "      <td>-0.000936</td>\n",
       "      <td>0.012496</td>\n",
       "    </tr>\n",
       "  </tbody>\n",
       "</table>\n",
       "</div>"
      ],
      "text/plain": [
       "     A  Cart Position  Cart Velocity (abs)  Pole Angle  \\\n",
       "0  0.0      -0.044931             0.005088    0.000109   \n",
       "1  1.0      -0.044829             0.190036   -0.000562   \n",
       "6  1.0      -0.056036             0.004718    0.013829   \n",
       "8  1.0      -0.051949             0.004330    0.007047   \n",
       "9  0.0      -0.051862             0.199350    0.006710   \n",
       "\n",
       "   Pole Angular Velocity (abs)  episode    t  Pole Angular Velocity (sign)  \\\n",
       "0                     0.033541      0.0  0.0                            -1   \n",
       "1                     0.259176      0.0  1.0                             1   \n",
       "6                     0.025402      0.0  6.0                            -1   \n",
       "8                     0.016836      0.0  8.0                            -1   \n",
       "9                     0.307287      0.0  9.0                            -1   \n",
       "\n",
       "   Cart Velocity (sign)  Cart Position_t1  Cart Velocity (abs)_t1  \\\n",
       "0                     1         -0.044829                0.190036   \n",
       "1                    -1         -0.048630                0.005094   \n",
       "6                     1         -0.055942                0.199639   \n",
       "8                     1         -0.051862                0.199350   \n",
       "9                     1         -0.047875                0.004134   \n",
       "\n",
       "   Pole Angle_t1  Pole Angular Velocity (abs)_t1  \n",
       "0      -0.002062                        0.259176  \n",
       "1       0.003121                        0.033684  \n",
       "6       0.011821                        0.313690  \n",
       "8       0.005210                        0.307287  \n",
       "9      -0.000936                        0.012496  "
      ]
     },
     "execution_count": 376,
     "metadata": {},
     "output_type": "execute_result"
    }
   ],
   "source": [
    "sim2_data.head()"
   ]
  },
  {
   "cell_type": "code",
   "execution_count": 377,
   "metadata": {},
   "outputs": [],
   "source": [
    "sim2_data.to_csv(\"/data/localhost/taufiq/export-dir/Cartpole-v1-sim2-data.csv\", index=False)"
   ]
  },
  {
   "cell_type": "markdown",
   "metadata": {},
   "source": [
    "# Train $\\mathbb{E}[Y^{sim2}(a) \\mid x(a)]$"
   ]
  },
  {
   "cell_type": "code",
   "execution_count": 362,
   "metadata": {},
   "outputs": [],
   "source": [
    "sim2_data_raw = (sim2_data[x_columns] - df_partial[x_columns].mean())/df_partial[x_columns].std()"
   ]
  },
  {
   "cell_type": "code",
   "execution_count": 363,
   "metadata": {},
   "outputs": [],
   "source": [
    "grp = np.floor(5*np.random.rand(len(sim2_data))+1)\n",
    "crossval = 1\n",
    "trainidx = (grp != crossval)\n",
    "testidx = (grp == crossval)\n",
    "X = torch.FloatTensor(sim2_data_raw.loc[trainidx].values)\n",
    "Xtest = torch.FloatTensor(sim2_data_raw.loc[testidx].values)\n",
    "A = torch.FloatTensor(sim2_data.loc[trainidx, 'A'].values)\n",
    "Atest = torch.FloatTensor(sim2_data.loc[testidx, 'A'].values)\n",
    "\n",
    "Y = torch.FloatTensor((sim2_data.loc[trainidx, f'{outcome}_t1'] - df_partial[outcome].mean()).values/df_partial[outcome].std()).unsqueeze(dim=1)\n",
    "Ytest = torch.FloatTensor((sim2_data.loc[testidx, f'{outcome}_t1'] - df_partial[outcome].mean()).values/df_partial[outcome].std()).unsqueeze(dim=1)\n",
    "\n",
    "train = data_utils.TensorDataset(torch.column_stack((X, A)), Y)\n",
    "trainloader = torch.utils.data.DataLoader(train, batch_size=32)\n",
    "test = data_utils.TensorDataset(torch.column_stack((Xtest, Atest)), Ytest)\n",
    "testloader = torch.utils.data.DataLoader(test, batch_size=32)\n",
    "\n",
    "loss_func = torch.nn.MSELoss()\n",
    "sim2_net = Net(n_feature=len(sim2_data_raw.columns)+1, n_hidden=4, n_output=1)\n",
    "optimizer = torch.optim.SGD(sim2_net.parameters(), lr=0.001)\n",
    "losses = []"
   ]
  },
  {
   "cell_type": "code",
   "execution_count": 364,
   "metadata": {},
   "outputs": [
    {
     "name": "stderr",
     "output_type": "stream",
     "text": [
      "100%|██████████| 100/100 [01:57<00:00,  1.18s/it]\n"
     ]
    }
   ],
   "source": [
    "for epoch in tqdm(range(100)):\n",
    "    for X, Y in trainloader:\n",
    "        prediction = sim2_net(X)     # input x and predict based on x\n",
    "\n",
    "        loss = loss_func(prediction, Y)     # must be (1. nn output, 2. target)\n",
    "\n",
    "        optimizer.zero_grad()   # clear gradients for next train\n",
    "        loss.backward()         # backpropagation, compute gradients\n",
    "        optimizer.step()        # apply gradients\n",
    "    with torch.no_grad():\n",
    "        test_loss = 0\n",
    "        for Xtest, Ytest in testloader:\n",
    "            test_loss += loss_func(sim2_net(Xtest), Ytest)\n",
    "        test_loss = test_loss/len(testloader)\n",
    "        losses.append(test_loss.item())"
   ]
  },
  {
   "cell_type": "code",
   "execution_count": 365,
   "metadata": {},
   "outputs": [
    {
     "data": {
      "text/plain": [
       "[<matplotlib.lines.Line2D at 0x7efc3debf8b0>]"
      ]
     },
     "execution_count": 365,
     "metadata": {},
     "output_type": "execute_result"
    },
    {
     "data": {
      "image/png": "[encoded data removed]",
      "text/plain": [
       "<Figure size 432x288 with 1 Axes>"
      ]
     },
     "metadata": {
      "needs_background": "light"
     },
     "output_type": "display_data"
    }
   ],
   "source": [
    "plt.plot(losses)"
   ]
  },
  {
   "cell_type": "code",
   "execution_count": 366,
   "metadata": {},
   "outputs": [],
   "source": [
    "PATH=\"/data/localhost/taufiq/export-dir/cartpole/y_sim2_dicts\"\n",
    "torch.save({\n",
    "    'model_state_dict': sim2_net.state_dict(),\n",
    "    'optimizer_state_dict': optimizer.state_dict()\n",
    "}, PATH)"
   ]
  },
  {
   "cell_type": "code",
   "execution_count": 367,
   "metadata": {},
   "outputs": [],
   "source": [
    "obs_data_test_copy2 = obs_data_test.copy()\n",
    "with torch.no_grad():\n",
    "    X_val = torch.FloatTensor(obs_data_test_raw.values) \n",
    "    A_val = torch.FloatTensor(obs_data_test['A'].values)\n",
    "    pred = obs_net(torch.column_stack((X_val, A_val))).reshape(-1)*df_partial[outcome].std() + df_partial[outcome].mean()\n",
    "    sim2_pred = sim2_net(torch.column_stack((X_val, A_val))).reshape(-1)*df_partial[outcome].std() + df_partial[outcome].mean()\n",
    "    Y = torch.FloatTensor(obs_data_test[f'{outcome}_t1'].values)\n",
    "    mse = torch.square(sim2_pred - Y)\n",
    "    pol_val = torch.nn.Softmax(dim=1)(policy(X_val))[torch.arange(A_val.shape[0]), A_val.to(torch.long)]\n",
    "    ymin = ymin_net(torch.column_stack((X_val, A_val))).reshape(-1)*df_partial[outcome].std() + df_partial[outcome].mean()\n",
    "    ymax = ymax_net(torch.column_stack((X_val, A_val))).reshape(-1)*df_partial[outcome].std() + df_partial[outcome].mean()\n",
    "    obs_data_test_copy2['MSE'] = mse.numpy()\n",
    "    obs_data_test_copy2['LB'] = (pred*pol_val + (1-pol_val)*ymin).numpy()\n",
    "    obs_data_test_copy2['UB'] = (pred*pol_val + (1-pol_val)*ymax).numpy()\n",
    "    obs_data_test_copy2[f'Sim2_{outcome}_t1'] = sim2_pred.numpy()\n",
    "    obs_data_test_copy2['In bounds'] = (obs_data_test_copy2['LB'] <= obs_data_test_copy2[f'Sim2_{outcome}_t1']).apply(int) * (obs_data_test_copy2['UB'] >= obs_data_test_copy2[f'Sim2_{outcome}_t1']).apply(int)\n",
    "    obs_data_test_copy2['Bound length'] = obs_data_test_copy2['UB'] - obs_data_test_copy2['LB']\n"
   ]
  },
  {
   "cell_type": "code",
   "execution_count": 368,
   "metadata": {},
   "outputs": [
    {
     "data": {
      "text/plain": [
       "<matplotlib.axes._subplots.AxesSubplot at 0x7efc3debf6a0>"
      ]
     },
     "execution_count": 368,
     "metadata": {},
     "output_type": "execute_result"
    },
    {
     "data": {
      "image/png": "[encoded data removed]",
      "text/plain": [
       "<Figure size 360x504 with 1 Axes>"
      ]
     },
     "metadata": {
      "needs_background": "light"
     },
     "output_type": "display_data"
    }
   ],
   "source": [
    "import seaborn as sns\n",
    "fig, axs = plt.subplots(1, figsize=(5,7))\n",
    "sns.boxplot(y='MSE',x='A', data=obs_data_test_copy2.astype({'A': 'str'}), ax=axs, showfliers=False)"
   ]
  },
  {
   "cell_type": "code",
   "execution_count": 369,
   "metadata": {},
   "outputs": [
    {
     "name": "stdout",
     "output_type": "stream",
     "text": [
      "p_0=0.7025258673158856\n",
      "p_1=0.9454787234042553\n"
     ]
    }
   ],
   "source": [
    "p0 = ((obs_data_test_copy2['In bounds']==1) & (obs_data_test_copy2['A']==0)).sum()/(obs_data_test_copy2['A']==0).sum()\n",
    "p1 = ((obs_data_test_copy2['In bounds']==1) & (obs_data_test_copy2['A']==1)).sum()/(obs_data_test_copy2['A']==1).sum()\n",
    "print(f'p_0={p0}')\n",
    "print(f'p_1={p1}')\n"
   ]
  },
  {
   "cell_type": "markdown",
   "metadata": {},
   "source": [
    "# Analysis of experiment results"
   ]
  },
  {
   "cell_type": "code",
   "execution_count": 16,
   "metadata": {},
   "outputs": [],
   "source": [
    "nreps = 400\n",
    "outcome = 'Pole Angle'\n",
    "obs_data_train = pd.read_csv(\"/data/localhost/taufiq/export-dir/Cartpole-v1-obs-data-train.csv\")\n",
    "df = pd.read_csv(\"/data/localhost/taufiq/export-dir/Cartpole-v1-obs-data.csv\")\n",
    "x_columns = ['Cart Position', 'Cart Velocity (abs)', 'Pole Angle', 'Pole Angular Velocity (abs)']\n"
   ]
  },
  {
   "cell_type": "code",
   "execution_count": 17,
   "metadata": {},
   "outputs": [
    {
     "data": {
      "text/html": [
       "<div>\n",
       "<style scoped>\n",
       "    .dataframe tbody tr th:only-of-type {\n",
       "        vertical-align: middle;\n",
       "    }\n",
       "\n",
       "    .dataframe tbody tr th {\n",
       "        vertical-align: top;\n",
       "    }\n",
       "\n",
       "    .dataframe thead th {\n",
       "        text-align: right;\n",
       "    }\n",
       "</style>\n",
       "<table border=\"1\" class=\"dataframe\">\n",
       "  <thead>\n",
       "    <tr style=\"text-align: right;\">\n",
       "      <th></th>\n",
       "      <th>A</th>\n",
       "      <th>Cart Position</th>\n",
       "      <th>Cart Velocity (abs)</th>\n",
       "      <th>Pole Angle</th>\n",
       "      <th>Pole Angular Velocity (abs)</th>\n",
       "      <th>episode</th>\n",
       "      <th>t</th>\n",
       "      <th>Pole Angular Velocity (sign)</th>\n",
       "      <th>Cart Velocity (sign)</th>\n",
       "    </tr>\n",
       "  </thead>\n",
       "  <tbody>\n",
       "    <tr>\n",
       "      <th>0</th>\n",
       "      <td>0.0</td>\n",
       "      <td>-0.044931</td>\n",
       "      <td>0.005088</td>\n",
       "      <td>0.000109</td>\n",
       "      <td>0.033541</td>\n",
       "      <td>0.0</td>\n",
       "      <td>0.0</td>\n",
       "      <td>-1</td>\n",
       "      <td>1</td>\n",
       "    </tr>\n",
       "    <tr>\n",
       "      <th>1</th>\n",
       "      <td>1.0</td>\n",
       "      <td>-0.044829</td>\n",
       "      <td>0.190036</td>\n",
       "      <td>-0.000562</td>\n",
       "      <td>0.259176</td>\n",
       "      <td>0.0</td>\n",
       "      <td>1.0</td>\n",
       "      <td>1</td>\n",
       "      <td>-1</td>\n",
       "    </tr>\n",
       "    <tr>\n",
       "      <th>2</th>\n",
       "      <td>0.0</td>\n",
       "      <td>-0.048630</td>\n",
       "      <td>0.005094</td>\n",
       "      <td>0.004621</td>\n",
       "      <td>0.033684</td>\n",
       "      <td>0.0</td>\n",
       "      <td>2.0</td>\n",
       "      <td>-1</td>\n",
       "      <td>1</td>\n",
       "    </tr>\n",
       "    <tr>\n",
       "      <th>3</th>\n",
       "      <td>1.0</td>\n",
       "      <td>-0.048528</td>\n",
       "      <td>0.190094</td>\n",
       "      <td>0.003948</td>\n",
       "      <td>0.260453</td>\n",
       "      <td>0.0</td>\n",
       "      <td>3.0</td>\n",
       "      <td>1</td>\n",
       "      <td>-1</td>\n",
       "    </tr>\n",
       "    <tr>\n",
       "      <th>4</th>\n",
       "      <td>0.0</td>\n",
       "      <td>-0.052330</td>\n",
       "      <td>0.004971</td>\n",
       "      <td>0.009157</td>\n",
       "      <td>0.030982</td>\n",
       "      <td>0.0</td>\n",
       "      <td>4.0</td>\n",
       "      <td>-1</td>\n",
       "      <td>1</td>\n",
       "    </tr>\n",
       "  </tbody>\n",
       "</table>\n",
       "</div>"
      ],
      "text/plain": [
       "     A  Cart Position  Cart Velocity (abs)  Pole Angle  \\\n",
       "0  0.0      -0.044931             0.005088    0.000109   \n",
       "1  1.0      -0.044829             0.190036   -0.000562   \n",
       "2  0.0      -0.048630             0.005094    0.004621   \n",
       "3  1.0      -0.048528             0.190094    0.003948   \n",
       "4  0.0      -0.052330             0.004971    0.009157   \n",
       "\n",
       "   Pole Angular Velocity (abs)  episode    t  Pole Angular Velocity (sign)  \\\n",
       "0                     0.033541      0.0  0.0                            -1   \n",
       "1                     0.259176      0.0  1.0                             1   \n",
       "2                     0.033684      0.0  2.0                            -1   \n",
       "3                     0.260453      0.0  3.0                             1   \n",
       "4                     0.030982      0.0  4.0                            -1   \n",
       "\n",
       "   Cart Velocity (sign)  \n",
       "0                     1  \n",
       "1                    -1  \n",
       "2                     1  \n",
       "3                    -1  \n",
       "4                     1  "
      ]
     },
     "execution_count": 17,
     "metadata": {},
     "output_type": "execute_result"
    }
   ],
   "source": [
    "df_partial = df.copy()\n",
    "df_partial['Pole Angular Velocity (sign)'] = (df_partial['Pole Angular Velocity']>=0)*1 - (df_partial['Pole Angular Velocity']<0)*1\n",
    "df_partial['Cart Velocity (sign)'] = (df_partial['Cart Velocity']>=0)*1 - (df_partial['Cart Velocity']<0)*1\n",
    "df_partial['Pole Angular Velocity'] = df_partial['Pole Angular Velocity'].abs()\n",
    "df_partial['Cart Velocity'] = df_partial['Cart Velocity'].abs()\n",
    "df_partial.rename(columns={'Pole Angular Velocity': 'Pole Angular Velocity (abs)', 'Cart Velocity': 'Cart Velocity (abs)'}, inplace=True)\n",
    "df_partial.head()"
   ]
  },
  {
   "cell_type": "code",
   "execution_count": 18,
   "metadata": {},
   "outputs": [
    {
     "name": "stderr",
     "output_type": "stream",
     "text": [
      "100%|██████████| 400/400 [00:13<00:00, 30.76it/s]\n"
     ]
    }
   ],
   "source": [
    "obs_data_test = pd.read_csv(\"/data/localhost/taufiq/export-dir/Cartpole-v1-obs-data-test.csv\")\n",
    "obs_data_test['A'] = obs_data_test['A'].astype({'A': 'int'})\n",
    "obs_data_test_raw = (obs_data_test[x_columns] - df_partial[x_columns].mean())/df_partial[x_columns].std()\n",
    "\n",
    "obs_data_test['MSE (Sim-1)'] = 0\n",
    "obs_data_test['MSE (Sim-2)'] = 0\n",
    "obs_data_test['$\\hat{p}^{x,a}$ (Sim-1)'] = 0\n",
    "obs_data_test['$\\hat{p}^{x,a}$ (Sim-2)'] = 0\n",
    "\n",
    "for i in tqdm(range(nreps)):\n",
    "    models_dir = \"/data/localhost/taufiq/cartpole_sim_run1\"\n",
    "    policy = PolicyNetwork(input_dim=len(obs_data_test_raw.columns), output_dim=2)\n",
    "    policy.load_state_dict(torch.load(f'{models_dir}/policy_{i}'))\n",
    "    policy.eval()\n",
    "    obs_net = Net(n_feature=len(obs_data_test_raw.columns)+1, n_hidden=4, n_output=1)\n",
    "    obs_net.load_state_dict(torch.load(f'{models_dir}/yobs_{i}'))\n",
    "    obs_net.eval()\n",
    "    ymin_net = Net(n_feature=len(obs_data_test_raw.columns), n_hidden=4, n_output=1)\n",
    "    ymin_net.load_state_dict(torch.load(f'{models_dir}/ymin_{i}'))\n",
    "    ymin_net.eval()\n",
    "    ymax_net = Net(n_feature=len(obs_data_test_raw.columns), n_hidden=4, n_output=1)\n",
    "    ymax_net.load_state_dict(torch.load(f'{models_dir}/ymax_{i}'))\n",
    "    ymax_net.eval()\n",
    "    sim_net = Net(n_feature=len(obs_data_test_raw.columns)+1, n_hidden=4, n_output=1)\n",
    "    sim_net.load_state_dict(torch.load(f'{models_dir}/ysim_{i}'))\n",
    "    sim_net.eval()\n",
    "    sim2_net = Net(n_feature=len(obs_data_test_raw.columns)+1, n_hidden=4, n_output=1)\n",
    "    sim2_net.load_state_dict(torch.load(f'{models_dir}/ysim_false_{i}'))\n",
    "    sim2_net.eval()\n",
    "    \n",
    "    with torch.no_grad():\n",
    "        X_val = torch.FloatTensor(obs_data_test_raw.values) \n",
    "        A_val = torch.FloatTensor(obs_data_test['A'].values)\n",
    "        pred = obs_net(torch.column_stack((X_val, A_val))).reshape(-1)*df_partial[outcome].std() + df_partial[outcome].mean()\n",
    "        sim_pred = sim_net(torch.column_stack((X_val, A_val))).reshape(-1)*df_partial[outcome].std() + df_partial[outcome].mean()\n",
    "        sim2_pred = sim2_net(torch.column_stack((X_val, A_val))).reshape(-1)*df_partial[outcome].std() + df_partial[outcome].mean()\n",
    "        Y = torch.FloatTensor(obs_data_test[f'{outcome}_t1'].values)\n",
    "        mse = torch.square(sim_pred - Y)\n",
    "        mse2 = torch.square(sim2_pred - Y)\n",
    "        pol_val = torch.nn.Softmax(dim=1)(policy(X_val))[torch.arange(A_val.shape[0]), A_val.to(torch.long)]\n",
    "        ymin = ymin_net(X_val).reshape(-1)*df_partial[outcome].std() + df_partial[outcome].mean()\n",
    "        ymax = ymax_net(X_val).reshape(-1)*df_partial[outcome].std() + df_partial[outcome].mean()        \n",
    "        obs_data_test['MSE (Sim-1)'] += mse.numpy()\n",
    "        obs_data_test['MSE (Sim-2)'] += mse2.numpy()\n",
    "        obs_data_test['LB'] = (pred*pol_val + (1-pol_val)*ymin).numpy()\n",
    "        obs_data_test['UB'] = (pred*pol_val + (1-pol_val)*ymax).numpy()\n",
    "        obs_data_test[f'Sim-1_{outcome}_t1'] = sim_pred.numpy()\n",
    "        obs_data_test['$\\hat{p}^{x,a}$ (Sim-1)'] += (obs_data_test['LB'] <= obs_data_test[f'Sim-1_{outcome}_t1']).apply(int) * (obs_data_test['UB'] >= obs_data_test[f'Sim-1_{outcome}_t1']).apply(int)\n",
    "        obs_data_test[f'Sim-2_{outcome}_t1'] = sim2_pred.numpy()\n",
    "        obs_data_test['$\\hat{p}^{x,a}$ (Sim-2)'] += (obs_data_test['LB'] <= obs_data_test[f'Sim-2_{outcome}_t1']).apply(int) * (obs_data_test['UB'] >= obs_data_test[f'Sim-2_{outcome}_t1']).apply(int)\n",
    "        obs_data_test['Bound length'] = obs_data_test['UB'] - obs_data_test['LB']\n",
    "    \n",
    "obs_data_test['MSE (Sim-1)'] /= nreps\n",
    "obs_data_test['MSE (Sim-2)'] /= nreps\n",
    "obs_data_test['$\\hat{p}^{x,a}$ (Sim-1)'] /= nreps\n",
    "obs_data_test['$\\hat{p}^{x,a}$ (Sim-2)'] /= nreps"
   ]
  },
  {
   "cell_type": "code",
   "execution_count": 19,
   "metadata": {},
   "outputs": [
    {
     "data": {
      "text/html": [
       "<div>\n",
       "<style scoped>\n",
       "    .dataframe tbody tr th:only-of-type {\n",
       "        vertical-align: middle;\n",
       "    }\n",
       "\n",
       "    .dataframe tbody tr th {\n",
       "        vertical-align: top;\n",
       "    }\n",
       "\n",
       "    .dataframe thead th {\n",
       "        text-align: right;\n",
       "    }\n",
       "</style>\n",
       "<table border=\"1\" class=\"dataframe\">\n",
       "  <thead>\n",
       "    <tr style=\"text-align: right;\">\n",
       "      <th></th>\n",
       "      <th>A</th>\n",
       "      <th>Cart Position</th>\n",
       "      <th>Cart Velocity (abs)</th>\n",
       "      <th>Pole Angle</th>\n",
       "      <th>Pole Angular Velocity (abs)</th>\n",
       "      <th>episode</th>\n",
       "      <th>t</th>\n",
       "      <th>Pole Angular Velocity (sign)</th>\n",
       "      <th>Cart Velocity (sign)</th>\n",
       "      <th>Cart Position_t1</th>\n",
       "      <th>...</th>\n",
       "      <th>Pole Angular Velocity (abs)_t1</th>\n",
       "      <th>MSE (Sim-1)</th>\n",
       "      <th>MSE (Sim-2)</th>\n",
       "      <th>$\\hat{p}^{x,a}$ (Sim-1)</th>\n",
       "      <th>$\\hat{p}^{x,a}$ (Sim-2)</th>\n",
       "      <th>LB</th>\n",
       "      <th>UB</th>\n",
       "      <th>Sim-1_Pole Angle_t1</th>\n",
       "      <th>Sim-2_Pole Angle_t1</th>\n",
       "      <th>Bound length</th>\n",
       "    </tr>\n",
       "  </thead>\n",
       "  <tbody>\n",
       "    <tr>\n",
       "      <th>0</th>\n",
       "      <td>0</td>\n",
       "      <td>0.017909</td>\n",
       "      <td>0.027689</td>\n",
       "      <td>-0.004355</td>\n",
       "      <td>0.048940</td>\n",
       "      <td>500.0</td>\n",
       "      <td>6.0</td>\n",
       "      <td>-1</td>\n",
       "      <td>-1</td>\n",
       "      <td>0.017355</td>\n",
       "      <td>...</td>\n",
       "      <td>0.242365</td>\n",
       "      <td>3.423991e-07</td>\n",
       "      <td>1.566448e-06</td>\n",
       "      <td>0.4850</td>\n",
       "      <td>0.1000</td>\n",
       "      <td>-0.005955</td>\n",
       "      <td>-0.004979</td>\n",
       "      <td>-0.005023</td>\n",
       "      <td>-0.006566</td>\n",
       "      <td>0.000977</td>\n",
       "    </tr>\n",
       "    <tr>\n",
       "      <th>1</th>\n",
       "      <td>0</td>\n",
       "      <td>-0.004923</td>\n",
       "      <td>0.028104</td>\n",
       "      <td>0.018981</td>\n",
       "      <td>0.039786</td>\n",
       "      <td>500.0</td>\n",
       "      <td>12.0</td>\n",
       "      <td>-1</td>\n",
       "      <td>-1</td>\n",
       "      <td>-0.005485</td>\n",
       "      <td>...</td>\n",
       "      <td>0.258825</td>\n",
       "      <td>4.807121e-07</td>\n",
       "      <td>2.197580e-06</td>\n",
       "      <td>1.0000</td>\n",
       "      <td>0.9850</td>\n",
       "      <td>-0.001569</td>\n",
       "      <td>0.048236</td>\n",
       "      <td>0.019127</td>\n",
       "      <td>0.016671</td>\n",
       "      <td>0.049804</td>\n",
       "    </tr>\n",
       "    <tr>\n",
       "      <th>2</th>\n",
       "      <td>0</td>\n",
       "      <td>-0.002272</td>\n",
       "      <td>0.163339</td>\n",
       "      <td>0.003266</td>\n",
       "      <td>0.251321</td>\n",
       "      <td>500.0</td>\n",
       "      <td>27.0</td>\n",
       "      <td>-1</td>\n",
       "      <td>1</td>\n",
       "      <td>0.000995</td>\n",
       "      <td>...</td>\n",
       "      <td>0.042390</td>\n",
       "      <td>2.718213e-07</td>\n",
       "      <td>1.509968e-06</td>\n",
       "      <td>0.9925</td>\n",
       "      <td>0.7425</td>\n",
       "      <td>-0.002902</td>\n",
       "      <td>-0.000424</td>\n",
       "      <td>-0.001795</td>\n",
       "      <td>-0.003149</td>\n",
       "      <td>0.002478</td>\n",
       "    </tr>\n",
       "    <tr>\n",
       "      <th>3</th>\n",
       "      <td>0</td>\n",
       "      <td>-0.002180</td>\n",
       "      <td>0.163466</td>\n",
       "      <td>0.002310</td>\n",
       "      <td>0.254127</td>\n",
       "      <td>500.0</td>\n",
       "      <td>33.0</td>\n",
       "      <td>-1</td>\n",
       "      <td>1</td>\n",
       "      <td>0.001089</td>\n",
       "      <td>...</td>\n",
       "      <td>0.039284</td>\n",
       "      <td>2.944044e-07</td>\n",
       "      <td>1.472656e-06</td>\n",
       "      <td>0.9925</td>\n",
       "      <td>0.7750</td>\n",
       "      <td>-0.003939</td>\n",
       "      <td>-0.001437</td>\n",
       "      <td>-0.002786</td>\n",
       "      <td>-0.004184</td>\n",
       "      <td>0.002502</td>\n",
       "    </tr>\n",
       "    <tr>\n",
       "      <th>4</th>\n",
       "      <td>0</td>\n",
       "      <td>0.010897</td>\n",
       "      <td>0.163602</td>\n",
       "      <td>-0.018024</td>\n",
       "      <td>0.257135</td>\n",
       "      <td>500.0</td>\n",
       "      <td>37.0</td>\n",
       "      <td>-1</td>\n",
       "      <td>1</td>\n",
       "      <td>0.014169</td>\n",
       "      <td>...</td>\n",
       "      <td>0.029809</td>\n",
       "      <td>3.943983e-06</td>\n",
       "      <td>7.147305e-07</td>\n",
       "      <td>0.2850</td>\n",
       "      <td>0.8875</td>\n",
       "      <td>-0.025247</td>\n",
       "      <td>-0.021914</td>\n",
       "      <td>-0.021266</td>\n",
       "      <td>-0.023140</td>\n",
       "      <td>0.003333</td>\n",
       "    </tr>\n",
       "  </tbody>\n",
       "</table>\n",
       "<p>5 rows × 22 columns</p>\n",
       "</div>"
      ],
      "text/plain": [
       "   A  Cart Position  Cart Velocity (abs)  Pole Angle  \\\n",
       "0  0       0.017909             0.027689   -0.004355   \n",
       "1  0      -0.004923             0.028104    0.018981   \n",
       "2  0      -0.002272             0.163339    0.003266   \n",
       "3  0      -0.002180             0.163466    0.002310   \n",
       "4  0       0.010897             0.163602   -0.018024   \n",
       "\n",
       "   Pole Angular Velocity (abs)  episode     t  Pole Angular Velocity (sign)  \\\n",
       "0                     0.048940    500.0   6.0                            -1   \n",
       "1                     0.039786    500.0  12.0                            -1   \n",
       "2                     0.251321    500.0  27.0                            -1   \n",
       "3                     0.254127    500.0  33.0                            -1   \n",
       "4                     0.257135    500.0  37.0                            -1   \n",
       "\n",
       "   Cart Velocity (sign)  Cart Position_t1  ...  \\\n",
       "0                    -1          0.017355  ...   \n",
       "1                    -1         -0.005485  ...   \n",
       "2                     1          0.000995  ...   \n",
       "3                     1          0.001089  ...   \n",
       "4                     1          0.014169  ...   \n",
       "\n",
       "   Pole Angular Velocity (abs)_t1   MSE (Sim-1)   MSE (Sim-2)  \\\n",
       "0                        0.242365  3.423991e-07  1.566448e-06   \n",
       "1                        0.258825  4.807121e-07  2.197580e-06   \n",
       "2                        0.042390  2.718213e-07  1.509968e-06   \n",
       "3                        0.039284  2.944044e-07  1.472656e-06   \n",
       "4                        0.029809  3.943983e-06  7.147305e-07   \n",
       "\n",
       "   $\\hat{p}^{x,a}$ (Sim-1)  $\\hat{p}^{x,a}$ (Sim-2)        LB        UB  \\\n",
       "0                   0.4850                   0.1000 -0.005955 -0.004979   \n",
       "1                   1.0000                   0.9850 -0.001569  0.048236   \n",
       "2                   0.9925                   0.7425 -0.002902 -0.000424   \n",
       "3                   0.9925                   0.7750 -0.003939 -0.001437   \n",
       "4                   0.2850                   0.8875 -0.025247 -0.021914   \n",
       "\n",
       "   Sim-1_Pole Angle_t1  Sim-2_Pole Angle_t1  Bound length  \n",
       "0            -0.005023            -0.006566      0.000977  \n",
       "1             0.019127             0.016671      0.049804  \n",
       "2            -0.001795            -0.003149      0.002478  \n",
       "3            -0.002786            -0.004184      0.002502  \n",
       "4            -0.021266            -0.023140      0.003333  \n",
       "\n",
       "[5 rows x 22 columns]"
      ]
     },
     "execution_count": 19,
     "metadata": {},
     "output_type": "execute_result"
    }
   ],
   "source": [
    "obs_data_test.head()"
   ]
  },
  {
   "cell_type": "code",
   "execution_count": 20,
   "metadata": {},
   "outputs": [
    {
     "data": {
      "text/plain": [
       "<matplotlib.axes._subplots.AxesSubplot at 0x7fa89c8fa070>"
      ]
     },
     "execution_count": 20,
     "metadata": {},
     "output_type": "execute_result"
    },
    {
     "data": {
      "image/png": "[encoded data removed]",
      "text/plain": [
       "<Figure size 720x720 with 2 Axes>"
      ]
     },
     "metadata": {},
     "output_type": "display_data"
    }
   ],
   "source": [
    "fig, axs = plt.subplots(1, 2, figsize=(10,10), sharey=True)\n",
    "plt.style.use('fivethirtyeight')\n",
    "sns.boxplot(y='$\\hat{p}^{x,a}$ (Sim-1)',x='A', data=obs_data_test.astype({'A': 'str'}), ax=axs[0], showfliers=False)\n",
    "sns.boxplot(y='$\\hat{p}^{x,a}$ (Sim-2)',x='A', data=obs_data_test.astype({'A': 'str'}), ax=axs[1], showfliers=False)"
   ]
  },
  {
   "cell_type": "code",
   "execution_count": 21,
   "metadata": {},
   "outputs": [
    {
     "data": {
      "text/plain": [
       "<matplotlib.axes._subplots.AxesSubplot at 0x7fa89c78a9d0>"
      ]
     },
     "execution_count": 21,
     "metadata": {},
     "output_type": "execute_result"
    },
    {
     "data": {
      "image/png": "[encoded data removed]",
      "text/plain": [
       "<Figure size 720x720 with 2 Axes>"
      ]
     },
     "metadata": {},
     "output_type": "display_data"
    }
   ],
   "source": [
    "fig, axs = plt.subplots(1, 2, figsize=(10,10), sharey=True)\n",
    "plt.style.use('fivethirtyeight')\n",
    "sns.boxplot(y='MSE (Sim-1)',x='A', data=obs_data_test.astype({'A': 'str'}), ax=axs[0], showfliers=False)\n",
    "sns.boxplot(y='MSE (Sim-2)',x='A', data=obs_data_test.astype({'A': 'str'}), ax=axs[1], showfliers=False)"
   ]
  },
  {
   "cell_type": "markdown",
   "metadata": {},
   "source": [
    "# Plotting bounds on the simulator"
   ]
  },
  {
   "cell_type": "code",
   "execution_count": 324,
   "metadata": {},
   "outputs": [],
   "source": [
    "# screen = env.render(mode='rgb_array').transpose((2, 0, 1))\n",
    "# np.save(\"/data/localhost/taufiq/export-dir/cartpole_env\", screen)"
   ]
  },
  {
   "cell_type": "code",
   "execution_count": 2,
   "metadata": {},
   "outputs": [],
   "source": [
    "screen = np.load(\"/data/localhost/taufiq/export-dir/cartpole_env.npy\")"
   ]
  },
  {
   "cell_type": "code",
   "execution_count": 28,
   "metadata": {},
   "outputs": [
    {
     "data": {
      "text/plain": [
       "Text(0.5, 1.0, 'Action 1')"
      ]
     },
     "execution_count": 28,
     "metadata": {},
     "output_type": "execute_result"
    },
    {
     "data": {
      "image/png": "[encoded data removed]",
      "text/plain": [
       "<Figure size 1000x1000 with 2 Axes>"
      ]
     },
     "metadata": {},
     "output_type": "display_data"
    }
   ],
   "source": [
    "import matplotlib.patches as mpatches\n",
    "import matplotlib.pyplot as plt\n",
    "import numpy as np\n",
    "\n",
    "def filled_arc(center, radius, theta1, theta2, ax, color):\n",
    "\n",
    "    circ = mpatches.Wedge(center, radius, theta1*180/np.pi, theta2*180/np.pi, fill=True, color=color, alpha=0.15)\n",
    "    circ2 = mpatches.Wedge(center, 40, theta1*180/np.pi, theta2*180/np.pi, fill=True, color=color, alpha=0.5)\n",
    "    pt1 = (radius * (np.cos(theta1)) + center[0],\n",
    "           radius * (np.sin(theta1)) + center[1])\n",
    "    pt2 = (radius * (np.cos(theta2)) + center[0],\n",
    "           radius * (np.sin(theta2)) + center[1])\n",
    "    pt3 = center\n",
    "    pol = mpatches.Polygon([pt1, pt2, pt3], lw=2)\n",
    "    ax.add_patch(circ)\n",
    "    ax.add_patch(circ2)\n",
    "\n",
    "fig, ax = plt.subplots(1,2, sharey=True, figsize=(10,10))\n",
    "ax[0].imshow(get_screen(screen).cpu().permute(1, 2, 0).numpy(), interpolation='none')\n",
    "ax[1].imshow(get_screen(screen).cpu().permute(1, 2, 0).numpy(), interpolation='none')\n",
    "filled_arc((298,300), 250, 3*np.pi/2 - 0.05, 3*np.pi/2 + 0.15, ax[0], \"purple\")\n",
    "plt.style.use('fivethirtyeight')\n",
    "ax[0].legend(['Manski bounds'])\n",
    "ax[0].set_xlim([150, 450])\n",
    "ax[0].set_ylim([350, 0])\n",
    "ax[0].set_title('Action 0')\n",
    "filled_arc((298,300), 250, 3*np.pi/2 - 0.6, 3*np.pi/2 + 0.2, ax[1], \"purple\")\n",
    "ax[1].set_xlim([150, 450])\n",
    "ax[1].set_ylim([350, 0])\n",
    "ax[1].legend(['Manski bounds'])\n",
    "ax[1].set_title('Action 1')\n"
   ]
  },
  {
   "cell_type": "code",
   "execution_count": null,
   "metadata": {},
   "outputs": [],
   "source": []
  }
 ],
 "metadata": {
  "kernelspec": {
   "display_name": ".venv",
   "language": "python",
   "name": ".venv"
  },
  "language_info": {
   "codemirror_mode": {
    "name": "ipython",
    "version": 3
   },
   "file_extension": ".py",
   "mimetype": "text/x-python",
   "name": "python",
   "nbconvert_exporter": "python",
   "pygments_lexer": "ipython3",
   "version": "3.8.10"
  }
 },
 "nbformat": 4,
 "nbformat_minor": 4
}

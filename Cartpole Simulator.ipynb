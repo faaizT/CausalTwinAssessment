{
 "cells": [
  {
   "cell_type": "code",
   "execution_count": 1,
   "metadata": {},
   "outputs": [],
   "source": [
    "import numpy as np\n",
    "import gym\n",
    "import time\n",
    "import math\n",
    "import random\n",
    "import torch\n",
    "from torch.autograd import Variable\n",
    "from tqdm import tqdm\n",
    "import copy\n",
    "from IPython.display import clear_output\n",
    "import matplotlib.pyplot as plt\n",
    "from PIL import Image\n",
    "import pandas as pd"
   ]
  },
  {
   "cell_type": "code",
   "execution_count": 2,
   "metadata": {},
   "outputs": [
    {
     "data": {
      "image/png": "[encoded data removed]",
      "text/plain": [
       "<Figure size 432x288 with 1 Axes>"
      ]
     },
     "metadata": {},
     "output_type": "display_data"
    }
   ],
   "source": [
    "env = gym.envs.make(\"CartPole-v1\")\n",
    "\n",
    "def get_screen():\n",
    "    ''' Extract one step of the simulation.'''\n",
    "    screen = env.render(mode='rgb_array').transpose((2, 0, 1))\n",
    "    screen = np.ascontiguousarray(screen, dtype=np.float32) / 255.\n",
    "    return torch.from_numpy(screen)\n",
    "\n",
    "# Speify the number of simulation steps\n",
    "num_steps = 10\n",
    "\n",
    "# Show several steps\n",
    "for i in range(num_steps):\n",
    "    clear_output(wait=True)\n",
    "    env.reset()\n",
    "    plt.figure()\n",
    "    plt.imshow(get_screen().cpu().permute(1, 2, 0).numpy(),\n",
    "               interpolation='none')\n",
    "    plt.title('CartPole-v1 Environment')\n",
    "    plt.xticks([])\n",
    "    plt.yticks([])\n",
    "    plt.show()"
   ]
  },
  {
   "cell_type": "code",
   "execution_count": 3,
   "metadata": {},
   "outputs": [],
   "source": [
    "observation, reward, done, info = env.step(env.action_space.sample())"
   ]
  },
  {
   "cell_type": "code",
   "execution_count": 4,
   "metadata": {},
   "outputs": [
    {
     "name": "stdout",
     "output_type": "stream",
     "text": [
      "2\n"
     ]
    }
   ],
   "source": [
    "print(env.action_space.n)"
   ]
  },
  {
   "cell_type": "code",
   "execution_count": 5,
   "metadata": {},
   "outputs": [],
   "source": [
    "# Demonstration\n",
    "import matplotlib.pyplot as plt\n",
    "\n",
    "env = gym.envs.make(\"CartPole-v1\")\n",
    "\n",
    "def plot_res(values, title=''):   \n",
    "    ''' Plot the reward curve and histogram of results over time.'''\n",
    "    # Update the window after each episode\n",
    "    clear_output(wait=True)\n",
    "    \n",
    "    # Define the figure\n",
    "    f, ax = plt.subplots(nrows=1, ncols=2, figsize=(12,5))\n",
    "    f.suptitle(title)\n",
    "    ax[0].plot(values, label='score per run')\n",
    "    ax[0].axhline(195, c='red',ls='--', label='goal')\n",
    "    ax[0].set_xlabel('Episodes')\n",
    "    ax[0].set_ylabel('Reward')\n",
    "    x = range(len(values))\n",
    "    ax[0].legend()\n",
    "    # Calculate the trend\n",
    "    try:\n",
    "        z = np.polyfit(x, values, 1)\n",
    "        p = np.poly1d(z)\n",
    "        ax[0].plot(x,p(x),\"--\", label='trend')\n",
    "    except:\n",
    "        print('')\n",
    "    \n",
    "    # Plot the histogram of results\n",
    "    ax[1].hist(values[-50:])\n",
    "    ax[1].axvline(195, c='red', label='goal')\n",
    "    ax[1].set_xlabel('Scores per Last 50 Episodes')\n",
    "    ax[1].set_ylabel('Frequency')\n",
    "    ax[1].legend()\n",
    "    plt.show()"
   ]
  },
  {
   "cell_type": "code",
   "execution_count": 6,
   "metadata": {},
   "outputs": [],
   "source": [
    "class DQL():\n",
    "    ''' Deep Q Neural Network class. '''\n",
    "    def __init__(self, state_dim, action_dim, hidden_dim=64, lr=0.05):\n",
    "        self.criterion = torch.nn.MSELoss()\n",
    "        self.model = torch.nn.Sequential(\n",
    "                        torch.nn.Linear(state_dim, hidden_dim),\n",
    "                        torch.nn.LeakyReLU(),\n",
    "                        torch.nn.Linear(hidden_dim, hidden_dim*2),\n",
    "                        torch.nn.LeakyReLU(),\n",
    "                        torch.nn.Linear(hidden_dim*2, action_dim)\n",
    "                )\n",
    "        self.optimizer = torch.optim.Adam(self.model.parameters(), lr)\n",
    "        self.target = copy.deepcopy(self.model)\n",
    "\n",
    "    def update(self, state, y):\n",
    "        \"\"\"Update the weights of the network given a training sample. \"\"\"\n",
    "        y_pred = self.model(torch.Tensor(state))\n",
    "        loss = self.criterion(y_pred, Variable(torch.Tensor(y)))\n",
    "        self.optimizer.zero_grad()\n",
    "        loss.backward()\n",
    "        self.optimizer.step()\n",
    "\n",
    "    def predict(self, state):\n",
    "        \"\"\" Compute Q values for all actions using the DQL. \"\"\"\n",
    "        with torch.no_grad():\n",
    "            return self.model(torch.Tensor(state))\n",
    "        \n",
    "    def target_predict(self, s):\n",
    "        ''' Use target network to make predicitons.'''\n",
    "        with torch.no_grad():\n",
    "            return self.target(torch.Tensor(s))\n",
    "        \n",
    "    def target_update(self):\n",
    "        ''' Update target network with the model weights.'''\n",
    "        self.target.load_state_dict(self.model.state_dict())\n",
    "        \n",
    "    def replay(self, memory, size, gamma=1.0):\n",
    "        ''' Add experience replay to the DQL network class.'''\n",
    "        if len(memory) >= size:\n",
    "            # Sample experiences from the agent's memory\n",
    "            data = random.sample(memory, size)\n",
    "            states = []\n",
    "            targets = []\n",
    "            # Extract datapoints from the data\n",
    "            for state, action, next_state, reward, done in data:\n",
    "                states.append(state)\n",
    "                q_values = self.predict(state).tolist()\n",
    "                if done:\n",
    "                    q_values[action] = reward\n",
    "                else:\n",
    "                    # The only difference between the simple replay is in this line\n",
    "                    # It ensures that next q values are predicted with the target network.\n",
    "                    q_values_next = self.target_predict(next_state)\n",
    "                    q_values[action] = reward + gamma * torch.max(q_values_next).item()\n",
    "\n",
    "                targets.append(q_values)\n",
    "\n",
    "            self.update(states, targets)"
   ]
  },
  {
   "cell_type": "code",
   "execution_count": 7,
   "metadata": {},
   "outputs": [],
   "source": [
    "def q_learning(env, model, episodes, gamma=0.9, epsilon=0.3, eps_decay=0.99, replay=False, replay_size=20, title = 'DQL', double=False, n_update=10, soft=False):\n",
    "    \"\"\"Deep Q Learning algorithm using the DQN. \"\"\"\n",
    "    final = []\n",
    "    memory = []\n",
    "    for episode in range(episodes):\n",
    "        if double and not soft:\n",
    "            # Update target network every n_update steps\n",
    "            if episode % n_update == 0:\n",
    "                model.target_update()\n",
    "        if double and soft:\n",
    "            model.target_update()\n",
    "        \n",
    "        # Reset state\n",
    "        state = env.reset()\n",
    "        done = False\n",
    "        total = 0\n",
    "        \n",
    "        while not done:\n",
    "            # Implement greedy search policy\n",
    "            if random.random() < epsilon:\n",
    "                action = env.action_space.sample()\n",
    "            else:\n",
    "                q_values = model.predict(state)\n",
    "                action = torch.argmax(q_values).item()\n",
    "            \n",
    "            # Take action and add reward to total\n",
    "            next_state, reward, done, _ = env.step(action)\n",
    "            \n",
    "            # Update total and memory\n",
    "            total += reward\n",
    "            memory.append((state, action, next_state, reward, done))\n",
    "            q_values = model.predict(state).tolist()\n",
    "             \n",
    "            if done:\n",
    "                if not replay:\n",
    "                    q_values[action] = reward\n",
    "                    # Update network weights\n",
    "                    model.update(state, q_values)\n",
    "                break\n",
    "                if replay:\n",
    "                    # Update network weights using replay memory\n",
    "                    model.replay(memory, replay_size, gamma)\n",
    "            else: \n",
    "                # Update network weights using the last step only\n",
    "                q_values_next = model.predict(next_state)\n",
    "                q_values[action] = reward + gamma * torch.max(q_values_next).item()\n",
    "                model.update(state, q_values)\n",
    "            state = next_state\n",
    "        \n",
    "        # Update epsilon\n",
    "        epsilon = max(epsilon * eps_decay, 0.01)\n",
    "        final.append(total)\n",
    "        plot_res(final, title)\n",
    "    return final"
   ]
  },
  {
   "cell_type": "code",
   "execution_count": 122,
   "metadata": {},
   "outputs": [
    {
     "data": {
      "image/png": "[encoded data removed]",
      "text/plain": [
       "<Figure size 864x360 with 2 Axes>"
      ]
     },
     "metadata": {
      "needs_background": "light"
     },
     "output_type": "display_data"
    }
   ],
   "source": [
    "env = gym.envs.make(\"CartPole-v1\")\n",
    "model = DQL(state_dim=4, action_dim=2, hidden_dim=50, lr=0.001)\n",
    "final = q_learning(env, model, episodes=300,\n",
    "                   gamma=1.0, epsilon=0.2, replay=False, double=False,\n",
    "                   title='DQL with Replay', n_update=20)"
   ]
  },
  {
   "cell_type": "code",
   "execution_count": 123,
   "metadata": {},
   "outputs": [
    {
     "data": {
      "text/plain": [
       "tensor([569.6754, 555.4532])"
      ]
     },
     "execution_count": 123,
     "metadata": {},
     "output_type": "execute_result"
    }
   ],
   "source": [
    "state = env.reset()\n",
    "model.predict(state)"
   ]
  },
  {
   "cell_type": "code",
   "execution_count": 135,
   "metadata": {},
   "outputs": [
    {
     "name": "stderr",
     "output_type": "stream",
     "text": [
      "100%|██████████| 1000/1000 [26:41<00:00,  1.60s/it]\n"
     ]
    }
   ],
   "source": [
    "df = pd.DataFrame()\n",
    "episodes = 1000\n",
    "epsilon = 0.1\n",
    "for i in tqdm(range(episodes)):\n",
    "    done = False\n",
    "    state = env.reset()\n",
    "    t=0\n",
    "    while not done:\n",
    "        if random.random() < epsilon:\n",
    "            action = env.action_space.sample()\n",
    "        else:\n",
    "            action = model.predict(state).argmax().item()\n",
    "        df = df.append({'episode': i, 't': t,'Cart Position': state[0], 'Cart Velocity': state[1], 'Pole Angle': state[2], 'Pole Angular Velocity': state[3], 'A': action}, ignore_index=True)\n",
    "        state, reward, done, _ = env.step(action)\n",
    "        t += 1"
   ]
  },
  {
   "cell_type": "code",
   "execution_count": 8,
   "metadata": {},
   "outputs": [],
   "source": [
    "# df.to_csv(\"/data/localhost/taufiq/export-dir/Cartpole-v1-obs-data.csv\", index=False)\n",
    "df = pd.read_csv(\"/data/localhost/taufiq/export-dir/Cartpole-v1-obs-data.csv\")"
   ]
  },
  {
   "cell_type": "code",
   "execution_count": 9,
   "metadata": {},
   "outputs": [
    {
     "data": {
      "text/plain": [
       "<matplotlib.axes._subplots.AxesSubplot at 0x7f407c49ecd0>"
      ]
     },
     "execution_count": 9,
     "metadata": {},
     "output_type": "execute_result"
    },
    {
     "data": {
      "image/png": "[encoded data removed]",
      "text/plain": [
       "<Figure size 432x288 with 1 Axes>"
      ]
     },
     "metadata": {
      "needs_background": "light"
     },
     "output_type": "display_data"
    }
   ],
   "source": [
    "df['A'].hist()"
   ]
  },
  {
   "cell_type": "code",
   "execution_count": 10,
   "metadata": {},
   "outputs": [
    {
     "data": {
      "text/plain": [
       "<matplotlib.axes._subplots.AxesSubplot at 0x7f407c315730>"
      ]
     },
     "execution_count": 10,
     "metadata": {},
     "output_type": "execute_result"
    },
    {
     "data": {
      "image/png": "[encoded data removed]",
      "text/plain": [
       "<Figure size 432x288 with 1 Axes>"
      ]
     },
     "metadata": {
      "needs_background": "light"
     },
     "output_type": "display_data"
    }
   ],
   "source": [
    "# df.loc[(df['Pole Angular Velocity']>0) & (df['Cart Velocity']>0), 'A'].hist()\n",
    "df.loc[(df['Pole Angular Velocity']>0), 'A'].hist()"
   ]
  },
  {
   "cell_type": "code",
   "execution_count": 11,
   "metadata": {},
   "outputs": [
    {
     "data": {
      "text/html": [
       "<div>\n",
       "<style scoped>\n",
       "    .dataframe tbody tr th:only-of-type {\n",
       "        vertical-align: middle;\n",
       "    }\n",
       "\n",
       "    .dataframe tbody tr th {\n",
       "        vertical-align: top;\n",
       "    }\n",
       "\n",
       "    .dataframe thead th {\n",
       "        text-align: right;\n",
       "    }\n",
       "</style>\n",
       "<table border=\"1\" class=\"dataframe\">\n",
       "  <thead>\n",
       "    <tr style=\"text-align: right;\">\n",
       "      <th></th>\n",
       "      <th>A</th>\n",
       "      <th>Cart Position</th>\n",
       "      <th>Cart Velocity</th>\n",
       "      <th>Pole Angle</th>\n",
       "      <th>Pole Angular Velocity</th>\n",
       "      <th>episode</th>\n",
       "      <th>t</th>\n",
       "    </tr>\n",
       "  </thead>\n",
       "  <tbody>\n",
       "    <tr>\n",
       "      <th>0</th>\n",
       "      <td>0.0</td>\n",
       "      <td>-0.044931</td>\n",
       "      <td>0.005088</td>\n",
       "      <td>0.000109</td>\n",
       "      <td>-0.033541</td>\n",
       "      <td>0.0</td>\n",
       "      <td>0.0</td>\n",
       "    </tr>\n",
       "    <tr>\n",
       "      <th>1</th>\n",
       "      <td>1.0</td>\n",
       "      <td>-0.044829</td>\n",
       "      <td>-0.190036</td>\n",
       "      <td>-0.000562</td>\n",
       "      <td>0.259176</td>\n",
       "      <td>0.0</td>\n",
       "      <td>1.0</td>\n",
       "    </tr>\n",
       "    <tr>\n",
       "      <th>2</th>\n",
       "      <td>0.0</td>\n",
       "      <td>-0.048630</td>\n",
       "      <td>0.005094</td>\n",
       "      <td>0.004621</td>\n",
       "      <td>-0.033684</td>\n",
       "      <td>0.0</td>\n",
       "      <td>2.0</td>\n",
       "    </tr>\n",
       "    <tr>\n",
       "      <th>3</th>\n",
       "      <td>1.0</td>\n",
       "      <td>-0.048528</td>\n",
       "      <td>-0.190094</td>\n",
       "      <td>0.003948</td>\n",
       "      <td>0.260453</td>\n",
       "      <td>0.0</td>\n",
       "      <td>3.0</td>\n",
       "    </tr>\n",
       "    <tr>\n",
       "      <th>4</th>\n",
       "      <td>0.0</td>\n",
       "      <td>-0.052330</td>\n",
       "      <td>0.004971</td>\n",
       "      <td>0.009157</td>\n",
       "      <td>-0.030982</td>\n",
       "      <td>0.0</td>\n",
       "      <td>4.0</td>\n",
       "    </tr>\n",
       "  </tbody>\n",
       "</table>\n",
       "</div>"
      ],
      "text/plain": [
       "     A  Cart Position  Cart Velocity  Pole Angle  Pole Angular Velocity  \\\n",
       "0  0.0      -0.044931       0.005088    0.000109              -0.033541   \n",
       "1  1.0      -0.044829      -0.190036   -0.000562               0.259176   \n",
       "2  0.0      -0.048630       0.005094    0.004621              -0.033684   \n",
       "3  1.0      -0.048528      -0.190094    0.003948               0.260453   \n",
       "4  0.0      -0.052330       0.004971    0.009157              -0.030982   \n",
       "\n",
       "   episode    t  \n",
       "0      0.0  0.0  \n",
       "1      0.0  1.0  \n",
       "2      0.0  2.0  \n",
       "3      0.0  3.0  \n",
       "4      0.0  4.0  "
      ]
     },
     "execution_count": 11,
     "metadata": {},
     "output_type": "execute_result"
    }
   ],
   "source": [
    "df.head()"
   ]
  },
  {
   "cell_type": "code",
   "execution_count": 148,
   "metadata": {},
   "outputs": [],
   "source": [
    "PATH=\"/data/localhost/taufiq/export-dir/cartpole/cartpole_state_dicts\"\n",
    "torch.save({\n",
    "    'model_state_dict': model.model.state_dict(),\n",
    "    'optimizer_state_dict': model.optimizer.state_dict()\n",
    "}, PATH)"
   ]
  },
  {
   "cell_type": "markdown",
   "metadata": {},
   "source": [
    "# Remove the sign of angular velocity\n",
    "\n",
    "We define the unobserved confounder $U$ to be the sign of Angular velocity"
   ]
  },
  {
   "cell_type": "code",
   "execution_count": 110,
   "metadata": {},
   "outputs": [
    {
     "data": {
      "text/html": [
       "<div>\n",
       "<style scoped>\n",
       "    .dataframe tbody tr th:only-of-type {\n",
       "        vertical-align: middle;\n",
       "    }\n",
       "\n",
       "    .dataframe tbody tr th {\n",
       "        vertical-align: top;\n",
       "    }\n",
       "\n",
       "    .dataframe thead th {\n",
       "        text-align: right;\n",
       "    }\n",
       "</style>\n",
       "<table border=\"1\" class=\"dataframe\">\n",
       "  <thead>\n",
       "    <tr style=\"text-align: right;\">\n",
       "      <th></th>\n",
       "      <th>A</th>\n",
       "      <th>Cart Position</th>\n",
       "      <th>Cart Velocity</th>\n",
       "      <th>Pole Angle</th>\n",
       "      <th>Pole Angular Velocity (abs)</th>\n",
       "      <th>episode</th>\n",
       "      <th>t</th>\n",
       "      <th>Pole Angular Velocity (sign)</th>\n",
       "    </tr>\n",
       "  </thead>\n",
       "  <tbody>\n",
       "    <tr>\n",
       "      <th>0</th>\n",
       "      <td>0.0</td>\n",
       "      <td>-0.044931</td>\n",
       "      <td>0.005088</td>\n",
       "      <td>0.000109</td>\n",
       "      <td>0.033541</td>\n",
       "      <td>0.0</td>\n",
       "      <td>0.0</td>\n",
       "      <td>-1</td>\n",
       "    </tr>\n",
       "    <tr>\n",
       "      <th>1</th>\n",
       "      <td>1.0</td>\n",
       "      <td>-0.044829</td>\n",
       "      <td>-0.190036</td>\n",
       "      <td>-0.000562</td>\n",
       "      <td>0.259176</td>\n",
       "      <td>0.0</td>\n",
       "      <td>1.0</td>\n",
       "      <td>1</td>\n",
       "    </tr>\n",
       "    <tr>\n",
       "      <th>2</th>\n",
       "      <td>0.0</td>\n",
       "      <td>-0.048630</td>\n",
       "      <td>0.005094</td>\n",
       "      <td>0.004621</td>\n",
       "      <td>0.033684</td>\n",
       "      <td>0.0</td>\n",
       "      <td>2.0</td>\n",
       "      <td>-1</td>\n",
       "    </tr>\n",
       "    <tr>\n",
       "      <th>3</th>\n",
       "      <td>1.0</td>\n",
       "      <td>-0.048528</td>\n",
       "      <td>-0.190094</td>\n",
       "      <td>0.003948</td>\n",
       "      <td>0.260453</td>\n",
       "      <td>0.0</td>\n",
       "      <td>3.0</td>\n",
       "      <td>1</td>\n",
       "    </tr>\n",
       "    <tr>\n",
       "      <th>4</th>\n",
       "      <td>0.0</td>\n",
       "      <td>-0.052330</td>\n",
       "      <td>0.004971</td>\n",
       "      <td>0.009157</td>\n",
       "      <td>0.030982</td>\n",
       "      <td>0.0</td>\n",
       "      <td>4.0</td>\n",
       "      <td>-1</td>\n",
       "    </tr>\n",
       "  </tbody>\n",
       "</table>\n",
       "</div>"
      ],
      "text/plain": [
       "     A  Cart Position  Cart Velocity  Pole Angle  Pole Angular Velocity (abs)  \\\n",
       "0  0.0      -0.044931       0.005088    0.000109                     0.033541   \n",
       "1  1.0      -0.044829      -0.190036   -0.000562                     0.259176   \n",
       "2  0.0      -0.048630       0.005094    0.004621                     0.033684   \n",
       "3  1.0      -0.048528      -0.190094    0.003948                     0.260453   \n",
       "4  0.0      -0.052330       0.004971    0.009157                     0.030982   \n",
       "\n",
       "   episode    t  Pole Angular Velocity (sign)  \n",
       "0      0.0  0.0                            -1  \n",
       "1      0.0  1.0                             1  \n",
       "2      0.0  2.0                            -1  \n",
       "3      0.0  3.0                             1  \n",
       "4      0.0  4.0                            -1  "
      ]
     },
     "execution_count": 110,
     "metadata": {},
     "output_type": "execute_result"
    }
   ],
   "source": [
    "df_partial = df.copy()\n",
    "df_partial['Pole Angular Velocity (sign)'] = (df_partial['Pole Angular Velocity']>=0)*1 - (df_partial['Pole Angular Velocity']<0)*1\n",
    "df_partial['Pole Angular Velocity'] = df_partial['Pole Angular Velocity'].abs()\n",
    "df_partial.rename(columns={'Pole Angular Velocity': 'Pole Angular Velocity (abs)'}, inplace=True)\n",
    "df_partial.head()\n"
   ]
  },
  {
   "cell_type": "code",
   "execution_count": 111,
   "metadata": {},
   "outputs": [],
   "source": [
    "x_columns = ['Cart Position', 'Cart Velocity', 'Pole Angle', 'Pole Angular Velocity (abs)']\n",
    "rename_cols_t1 = {k: f'{k}_t1' for k in x_columns}"
   ]
  },
  {
   "cell_type": "code",
   "execution_count": 112,
   "metadata": {},
   "outputs": [
    {
     "name": "stderr",
     "output_type": "stream",
     "text": [
      "100%|██████████| 500/500 [00:03<00:00, 132.60it/s]\n"
     ]
    }
   ],
   "source": [
    "sim_data = pd.DataFrame()\n",
    "for episode in tqdm(range(0,500)):\n",
    "    df_filtered_t0 = df_partial.loc[df_partial['episode']==episode].copy().iloc[:-1].reset_index(drop=True)\n",
    "    df_filtered_t1 = df_partial.loc[df_partial['episode']==episode].copy().iloc[1:][x_columns].rename(columns=rename_cols_t1).reset_index(drop=True)\n",
    "    df_episode = pd.merge(df_filtered_t0, df_filtered_t1, left_index=True, right_index=True)\n",
    "    sim_data = sim_data.append(df_episode, ignore_index=True)"
   ]
  },
  {
   "cell_type": "code",
   "execution_count": 15,
   "metadata": {},
   "outputs": [
    {
     "name": "stderr",
     "output_type": "stream",
     "text": [
      "100%|██████████| 500/500 [00:04<00:00, 120.89it/s]\n"
     ]
    }
   ],
   "source": [
    "obs_data = pd.DataFrame()\n",
    "for episode in tqdm(range(500,1000)):\n",
    "    df_filtered_t0 = df_partial.loc[df_partial['episode']==episode].copy().iloc[:-1].reset_index(drop=True)\n",
    "    df_filtered_t1 = df_partial.loc[df_partial['episode']==episode].copy().iloc[1:][x_columns].rename(columns=rename_cols_t1).reset_index(drop=True)\n",
    "    df_episode = pd.merge(df_filtered_t0, df_filtered_t1, left_index=True, right_index=True)\n",
    "    obs_data = obs_data.append(df_episode, ignore_index=True)"
   ]
  },
  {
   "cell_type": "code",
   "execution_count": 16,
   "metadata": {},
   "outputs": [
    {
     "data": {
      "text/plain": [
       "249500"
      ]
     },
     "execution_count": 16,
     "metadata": {},
     "output_type": "execute_result"
    }
   ],
   "source": [
    "len(obs_data)"
   ]
  },
  {
   "cell_type": "markdown",
   "metadata": {},
   "source": [
    "# Confounding\n",
    "To induce confounding, we only include transitions with angular velocity > 0, w.p. 0.2"
   ]
  },
  {
   "cell_type": "code",
   "execution_count": 17,
   "metadata": {},
   "outputs": [],
   "source": [
    "select = np.random.uniform(0, 1, len(obs_data))\n",
    "probability = 0.2\n",
    "obs_data_filtered = obs_data.loc[(obs_data['Pole Angular Velocity (sign)']<=0) | ((obs_data['Pole Angular Velocity (sign)']>0) & (select < probability))].reset_index(drop=True).copy()\n"
   ]
  },
  {
   "cell_type": "code",
   "execution_count": 18,
   "metadata": {},
   "outputs": [
    {
     "data": {
      "text/plain": [
       "150852"
      ]
     },
     "execution_count": 18,
     "metadata": {},
     "output_type": "execute_result"
    }
   ],
   "source": [
    "len(obs_data_filtered)"
   ]
  },
  {
   "cell_type": "code",
   "execution_count": 63,
   "metadata": {},
   "outputs": [],
   "source": [
    "random_arr = np.random.uniform(0, 1, len(obs_data_filtered))\n",
    "obs_data_train = obs_data_filtered[random_arr <= 0.8].copy()\n",
    "obs_data_test = obs_data_filtered[random_arr > 0.8].copy()\n"
   ]
  },
  {
   "cell_type": "code",
   "execution_count": 64,
   "metadata": {},
   "outputs": [],
   "source": [
    "obs_data_train.to_csv(\"/data/localhost/taufiq/export-dir/Cartpole-v1-obs-data-train.csv\", index=False)\n",
    "obs_data_test.to_csv(\"/data/localhost/taufiq/export-dir/Cartpole-v1-obs-data-test.csv\", index=False)"
   ]
  },
  {
   "cell_type": "code",
   "execution_count": 65,
   "metadata": {},
   "outputs": [
    {
     "data": {
      "text/plain": [
       "19628"
      ]
     },
     "execution_count": 65,
     "metadata": {},
     "output_type": "execute_result"
    }
   ],
   "source": [
    "(obs_data_train['Pole Angular Velocity (sign)']==1).sum()"
   ]
  },
  {
   "cell_type": "code",
   "execution_count": 66,
   "metadata": {},
   "outputs": [
    {
     "data": {
      "text/html": [
       "<div>\n",
       "<style scoped>\n",
       "    .dataframe tbody tr th:only-of-type {\n",
       "        vertical-align: middle;\n",
       "    }\n",
       "\n",
       "    .dataframe tbody tr th {\n",
       "        vertical-align: top;\n",
       "    }\n",
       "\n",
       "    .dataframe thead th {\n",
       "        text-align: right;\n",
       "    }\n",
       "</style>\n",
       "<table border=\"1\" class=\"dataframe\">\n",
       "  <thead>\n",
       "    <tr style=\"text-align: right;\">\n",
       "      <th></th>\n",
       "      <th>A</th>\n",
       "      <th>Cart Position</th>\n",
       "      <th>Cart Velocity</th>\n",
       "      <th>Pole Angle</th>\n",
       "      <th>Pole Angular Velocity (abs)</th>\n",
       "      <th>episode</th>\n",
       "      <th>t</th>\n",
       "      <th>Pole Angular Velocity (sign)</th>\n",
       "      <th>Cart Position_t1</th>\n",
       "      <th>Cart Velocity_t1</th>\n",
       "      <th>Pole Angle_t1</th>\n",
       "      <th>Pole Angular Velocity (abs)_t1</th>\n",
       "    </tr>\n",
       "  </thead>\n",
       "  <tbody>\n",
       "    <tr>\n",
       "      <th>1</th>\n",
       "      <td>1.0</td>\n",
       "      <td>0.040271</td>\n",
       "      <td>-0.224381</td>\n",
       "      <td>-0.030521</td>\n",
       "      <td>0.278523</td>\n",
       "      <td>500.0</td>\n",
       "      <td>1.0</td>\n",
       "      <td>1</td>\n",
       "      <td>0.035784</td>\n",
       "      <td>-0.028837</td>\n",
       "      <td>-0.024950</td>\n",
       "      <td>0.023628</td>\n",
       "    </tr>\n",
       "    <tr>\n",
       "      <th>3</th>\n",
       "      <td>0.0</td>\n",
       "      <td>0.035207</td>\n",
       "      <td>-0.223592</td>\n",
       "      <td>-0.025423</td>\n",
       "      <td>0.261079</td>\n",
       "      <td>500.0</td>\n",
       "      <td>3.0</td>\n",
       "      <td>1</td>\n",
       "      <td>0.030735</td>\n",
       "      <td>-0.418342</td>\n",
       "      <td>-0.020201</td>\n",
       "      <td>0.545637</td>\n",
       "    </tr>\n",
       "    <tr>\n",
       "      <th>4</th>\n",
       "      <td>0.0</td>\n",
       "      <td>0.017909</td>\n",
       "      <td>-0.027689</td>\n",
       "      <td>-0.004355</td>\n",
       "      <td>0.048940</td>\n",
       "      <td>500.0</td>\n",
       "      <td>6.0</td>\n",
       "      <td>-1</td>\n",
       "      <td>0.017355</td>\n",
       "      <td>-0.222748</td>\n",
       "      <td>-0.005334</td>\n",
       "      <td>0.242365</td>\n",
       "    </tr>\n",
       "    <tr>\n",
       "      <th>5</th>\n",
       "      <td>0.0</td>\n",
       "      <td>0.017355</td>\n",
       "      <td>-0.222748</td>\n",
       "      <td>-0.005334</td>\n",
       "      <td>0.242365</td>\n",
       "      <td>500.0</td>\n",
       "      <td>7.0</td>\n",
       "      <td>1</td>\n",
       "      <td>0.012900</td>\n",
       "      <td>-0.417794</td>\n",
       "      <td>-0.000487</td>\n",
       "      <td>0.533361</td>\n",
       "    </tr>\n",
       "    <tr>\n",
       "      <th>7</th>\n",
       "      <td>0.0</td>\n",
       "      <td>0.000091</td>\n",
       "      <td>-0.027690</td>\n",
       "      <td>0.014991</td>\n",
       "      <td>0.048930</td>\n",
       "      <td>500.0</td>\n",
       "      <td>10.0</td>\n",
       "      <td>-1</td>\n",
       "      <td>-0.000463</td>\n",
       "      <td>-0.223024</td>\n",
       "      <td>0.014012</td>\n",
       "      <td>0.248445</td>\n",
       "    </tr>\n",
       "  </tbody>\n",
       "</table>\n",
       "</div>"
      ],
      "text/plain": [
       "     A  Cart Position  Cart Velocity  Pole Angle  Pole Angular Velocity (abs)  \\\n",
       "1  1.0       0.040271      -0.224381   -0.030521                     0.278523   \n",
       "3  0.0       0.035207      -0.223592   -0.025423                     0.261079   \n",
       "4  0.0       0.017909      -0.027689   -0.004355                     0.048940   \n",
       "5  0.0       0.017355      -0.222748   -0.005334                     0.242365   \n",
       "7  0.0       0.000091      -0.027690    0.014991                     0.048930   \n",
       "\n",
       "   episode     t  Pole Angular Velocity (sign)  Cart Position_t1  \\\n",
       "1    500.0   1.0                             1          0.035784   \n",
       "3    500.0   3.0                             1          0.030735   \n",
       "4    500.0   6.0                            -1          0.017355   \n",
       "5    500.0   7.0                             1          0.012900   \n",
       "7    500.0  10.0                            -1         -0.000463   \n",
       "\n",
       "   Cart Velocity_t1  Pole Angle_t1  Pole Angular Velocity (abs)_t1  \n",
       "1         -0.028837      -0.024950                        0.023628  \n",
       "3         -0.418342      -0.020201                        0.545637  \n",
       "4         -0.222748      -0.005334                        0.242365  \n",
       "5         -0.417794      -0.000487                        0.533361  \n",
       "7         -0.223024       0.014012                        0.248445  "
      ]
     },
     "execution_count": 66,
     "metadata": {},
     "output_type": "execute_result"
    }
   ],
   "source": [
    "obs_data_train.head()"
   ]
  },
  {
   "cell_type": "markdown",
   "metadata": {},
   "source": [
    "# Train policy $\\pi(A\\mid X)$"
   ]
  },
  {
   "cell_type": "code",
   "execution_count": 67,
   "metadata": {},
   "outputs": [],
   "source": [
    "import torch.utils.data as data_utils\n",
    "\n",
    "class PolicyNetwork(torch.nn.Module):\n",
    "    def __init__(self, input_dim, output_dim, hidden_1_dim=3):\n",
    "        super(PolicyNetwork, self).__init__()\n",
    "        self.hid1 = torch.nn.Linear(input_dim, hidden_1_dim)\n",
    "        self.outp = torch.nn.Linear(hidden_1_dim, output_dim)\n",
    "        self.softmax = torch.nn.Softmax(dim=2)\n",
    "        self.leaky_relu = torch.nn.LeakyReLU()\n",
    "        self.tanh = torch.nn.Tanh()\n",
    "\n",
    "        torch.nn.init.xavier_uniform_(self.hid1.weight)\n",
    "        torch.nn.init.zeros_(self.hid1.bias)\n",
    "        torch.nn.init.xavier_uniform_(self.outp.weight)\n",
    "        torch.nn.init.zeros_(self.outp.bias)\n",
    "\n",
    "    def forward(self, x):\n",
    "        z = self.tanh(self.hid1(x))\n",
    "        z = self.outp(z)\n",
    "        return z"
   ]
  },
  {
   "cell_type": "code",
   "execution_count": 68,
   "metadata": {},
   "outputs": [],
   "source": [
    "obs_data_raw = (obs_data_train[x_columns] - df_partial[x_columns].mean())/df_partial[x_columns].std()"
   ]
  },
  {
   "cell_type": "code",
   "execution_count": 71,
   "metadata": {},
   "outputs": [],
   "source": [
    "grp = np.floor(5*np.random.rand(len(obs_data_train))+1)\n",
    "crossval = 1\n",
    "trainidx = (grp != crossval)\n",
    "testidx = (grp == crossval)\n",
    "X = torch.FloatTensor(obs_data_raw.loc[trainidx].values)\n",
    "Xtest = torch.FloatTensor(obs_data_raw.loc[testidx].values)\n",
    "Y = torch.tensor(obs_data_train.loc[trainidx, 'A'].values).to(torch.long)\n",
    "Ytest = torch.tensor(obs_data_train.loc[testidx, 'A'].values).to(torch.long)\n",
    "\n",
    "train = data_utils.TensorDataset(X, Y)\n",
    "trainloader = torch.utils.data.DataLoader(train, batch_size=32)\n",
    "test = data_utils.TensorDataset(Xtest, Ytest)\n",
    "testloader = torch.utils.data.DataLoader(test, batch_size=32)\n",
    "\n",
    "loss_func = torch.nn.CrossEntropyLoss()\n",
    "policy = PolicyNetwork(input_dim=len(obs_data_raw.columns), output_dim=2)\n",
    "optimizer = torch.optim.SGD(policy.parameters(), lr=0.01)\n",
    "losses = []"
   ]
  },
  {
   "cell_type": "code",
   "execution_count": 72,
   "metadata": {},
   "outputs": [
    {
     "name": "stderr",
     "output_type": "stream",
     "text": [
      "100%|██████████| 300/300 [05:19<00:00,  1.07s/it]\n"
     ]
    }
   ],
   "source": [
    "for epoch in tqdm(range(300)):\n",
    "    for data, label in trainloader:\n",
    "        prediction = policy(data)     # input x and predict based on x\n",
    "        loss = loss_func(prediction, label)     # must be (1. nn output, 2. target)\n",
    "        optimizer.zero_grad()   # clear gradients for next train\n",
    "        loss.backward()         # backpropagation, compute gradients\n",
    "        optimizer.step()        # apply gradients\n",
    "    if (epoch + 1) % 10 == 0:\n",
    "        with torch.no_grad():\n",
    "            test_loss = 0\n",
    "            for test_data, test_label in testloader:\n",
    "                test_loss += loss_func(policy(test_data), test_label)\n",
    "            losses.append(test_loss.item()/len(testloader))"
   ]
  },
  {
   "cell_type": "code",
   "execution_count": 73,
   "metadata": {},
   "outputs": [
    {
     "data": {
      "text/plain": [
       "[<matplotlib.lines.Line2D at 0x7f400cbf3340>]"
      ]
     },
     "execution_count": 73,
     "metadata": {},
     "output_type": "execute_result"
    },
    {
     "data": {
      "image/png": "[encoded data removed]",
      "text/plain": [
       "<Figure size 432x288 with 1 Axes>"
      ]
     },
     "metadata": {
      "needs_background": "light"
     },
     "output_type": "display_data"
    }
   ],
   "source": [
    "plt.plot(losses)"
   ]
  },
  {
   "cell_type": "code",
   "execution_count": 74,
   "metadata": {},
   "outputs": [
    {
     "name": "stdout",
     "output_type": "stream",
     "text": [
      "Accuracy of the policy network: 90 %\n"
     ]
    }
   ],
   "source": [
    "correct = 0\n",
    "total = 0\n",
    "# since we're not training, we don't need to calculate the gradients for our outputs\n",
    "with torch.no_grad():\n",
    "    outputs = policy(Xtest)\n",
    "    # the class with the highest energy is what we choose as prediction\n",
    "    _, predicted = torch.max(outputs.data, 1)\n",
    "    total += Xtest.size(0)\n",
    "    correct += (predicted == Ytest).sum().item()\n",
    "\n",
    "print('Accuracy of the policy network: %d %%' % (\n",
    "    100 * correct / total))"
   ]
  },
  {
   "cell_type": "markdown",
   "metadata": {},
   "source": [
    "# Train $\\mathbb{E}[Y \\mid x, a]$"
   ]
  },
  {
   "cell_type": "code",
   "execution_count": 75,
   "metadata": {},
   "outputs": [],
   "source": [
    "outcome = \"Pole Angle\""
   ]
  },
  {
   "cell_type": "code",
   "execution_count": 76,
   "metadata": {},
   "outputs": [],
   "source": [
    "import torch\n",
    "from torch.autograd import Variable\n",
    "import torch.nn.functional as F\n",
    "import torch.utils.data as Data\n",
    "\n",
    "\n",
    "class Net(torch.nn.Module):\n",
    "    def __init__(self, n_feature, n_hidden, n_output):\n",
    "        super(Net, self).__init__()\n",
    "        self.hidden = torch.nn.Linear(n_feature, n_hidden)   # hidden layer\n",
    "        self.predict = torch.nn.Linear(n_hidden, n_output)   # output layer\n",
    "        self.tanh = torch.nn.Tanh()\n",
    "\n",
    "    def forward(self, x):\n",
    "        x = self.tanh(self.hidden(x))      # activation function for hidden layer\n",
    "        x = self.predict(x)             # linear output\n",
    "        return x"
   ]
  },
  {
   "cell_type": "code",
   "execution_count": 77,
   "metadata": {},
   "outputs": [],
   "source": [
    "grp = np.floor(5*np.random.rand(len(obs_data_train))+1)\n",
    "crossval = 1\n",
    "trainidx = (grp != crossval)\n",
    "testidx = (grp == crossval)\n",
    "X = torch.FloatTensor(obs_data_raw.loc[trainidx].values)\n",
    "Xtest = torch.FloatTensor(obs_data_raw.loc[testidx].values)\n",
    "A = torch.FloatTensor(obs_data_train.loc[trainidx, 'A'].values)\n",
    "Atest = torch.FloatTensor(obs_data_train.loc[testidx, 'A'].values)\n",
    "\n",
    "Y = torch.FloatTensor((obs_data_train.loc[trainidx, f'{outcome}_t1'] - df_partial[outcome].mean()).values/df_partial[outcome].std()).unsqueeze(dim=1)\n",
    "Ytest = torch.FloatTensor((obs_data_train.loc[testidx, f'{outcome}_t1'] - df_partial[outcome].mean()).values/df_partial[outcome].std()).unsqueeze(dim=1)\n",
    "\n",
    "train = data_utils.TensorDataset(torch.column_stack((X, A)), Y)\n",
    "trainloader = torch.utils.data.DataLoader(train, batch_size=32)\n",
    "test = data_utils.TensorDataset(torch.column_stack((Xtest, Atest)), Ytest)\n",
    "testloader = torch.utils.data.DataLoader(test, batch_size=32)\n",
    "\n",
    "loss_func = torch.nn.MSELoss()\n",
    "obs_net = Net(n_feature=len(obs_data_raw.columns)+1, n_hidden=4, n_output=1)\n",
    "optimizer = torch.optim.SGD(obs_net.parameters(), lr=0.01)\n",
    "losses = []"
   ]
  },
  {
   "cell_type": "code",
   "execution_count": 78,
   "metadata": {},
   "outputs": [
    {
     "name": "stderr",
     "output_type": "stream",
     "text": [
      "100%|██████████| 200/200 [03:50<00:00,  1.15s/it]\n"
     ]
    }
   ],
   "source": [
    "for epoch in tqdm(range(200)):\n",
    "    for X, Y in trainloader:\n",
    "        prediction = obs_net(X)     # input x and predict based on x\n",
    "\n",
    "        loss = loss_func(prediction, Y)     # must be (1. nn output, 2. target)\n",
    "\n",
    "        optimizer.zero_grad()   # clear gradients for next train\n",
    "        loss.backward()         # backpropagation, compute gradients\n",
    "        optimizer.step()        # apply gradients\n",
    "    with torch.no_grad():\n",
    "        test_loss = 0\n",
    "        for Xtest, Ytest in testloader:\n",
    "            test_loss += loss_func(obs_net(Xtest), Ytest)\n",
    "        test_loss = test_loss/len(testloader)\n",
    "        losses.append(test_loss.item())"
   ]
  },
  {
   "cell_type": "code",
   "execution_count": 80,
   "metadata": {},
   "outputs": [
    {
     "data": {
      "text/plain": [
       "[<matplotlib.lines.Line2D at 0x7f400dab6fa0>]"
      ]
     },
     "execution_count": 80,
     "metadata": {},
     "output_type": "execute_result"
    },
    {
     "data": {
      "image/png": "[encoded data removed]",
      "text/plain": [
       "<Figure size 432x288 with 1 Axes>"
      ]
     },
     "metadata": {
      "needs_background": "light"
     },
     "output_type": "display_data"
    }
   ],
   "source": [
    "plt.plot(losses)"
   ]
  },
  {
   "cell_type": "markdown",
   "metadata": {},
   "source": [
    "# Train $\\mathbb{E}[Y^{sim} \\mid x, a]$"
   ]
  },
  {
   "cell_type": "code",
   "execution_count": 114,
   "metadata": {},
   "outputs": [],
   "source": [
    "sim_data_raw = (sim_data[x_columns] - df_partial[x_columns].mean())/df_partial[x_columns].std()"
   ]
  },
  {
   "cell_type": "code",
   "execution_count": 115,
   "metadata": {},
   "outputs": [],
   "source": [
    "grp = np.floor(5*np.random.rand(len(sim_data))+1)\n",
    "crossval = 1\n",
    "trainidx = (grp != crossval)\n",
    "testidx = (grp == crossval)\n",
    "X = torch.FloatTensor(sim_data_raw.loc[trainidx].values)\n",
    "Xtest = torch.FloatTensor(sim_data_raw.loc[testidx].values)\n",
    "A = torch.FloatTensor(sim_data.loc[trainidx, 'A'].values)\n",
    "Atest = torch.FloatTensor(sim_data.loc[testidx, 'A'].values)\n",
    "\n",
    "Y = torch.FloatTensor((sim_data.loc[trainidx, f'{outcome}_t1'] - df_partial[outcome].mean()).values/df_partial[outcome].std()).unsqueeze(dim=1)\n",
    "Ytest = torch.FloatTensor((sim_data.loc[testidx, f'{outcome}_t1'] - df_partial[outcome].mean()).values/df_partial[outcome].std()).unsqueeze(dim=1)\n",
    "\n",
    "train = data_utils.TensorDataset(torch.column_stack((X, A)), Y)\n",
    "trainloader = torch.utils.data.DataLoader(train, batch_size=32)\n",
    "test = data_utils.TensorDataset(torch.column_stack((Xtest, Atest)), Ytest)\n",
    "testloader = torch.utils.data.DataLoader(test, batch_size=32)\n",
    "\n",
    "loss_func = torch.nn.MSELoss()\n",
    "sim_net = Net(n_feature=len(sim_data_raw.columns)+1, n_hidden=4, n_output=1)\n",
    "optimizer = torch.optim.SGD(sim_net.parameters(), lr=0.01)\n",
    "losses = []"
   ]
  },
  {
   "cell_type": "code",
   "execution_count": 116,
   "metadata": {},
   "outputs": [
    {
     "name": "stderr",
     "output_type": "stream",
     "text": [
      "100%|██████████| 100/100 [04:05<00:00,  2.46s/it]\n"
     ]
    }
   ],
   "source": [
    "for epoch in tqdm(range(100)):\n",
    "    for X, Y in trainloader:\n",
    "        prediction = sim_net(X)     # input x and predict based on x\n",
    "\n",
    "        loss = loss_func(prediction, Y)     # must be (1. nn output, 2. target)\n",
    "\n",
    "        optimizer.zero_grad()   # clear gradients for next train\n",
    "        loss.backward()         # backpropagation, compute gradients\n",
    "        optimizer.step()        # apply gradients\n",
    "    with torch.no_grad():\n",
    "        test_loss = 0\n",
    "        for Xtest, Ytest in testloader:\n",
    "            test_loss += loss_func(sim_net(Xtest), Ytest)\n",
    "        test_loss = test_loss/len(testloader)\n",
    "        losses.append(test_loss.item())"
   ]
  },
  {
   "cell_type": "code",
   "execution_count": 118,
   "metadata": {},
   "outputs": [
    {
     "data": {
      "text/plain": [
       "[<matplotlib.lines.Line2D at 0x7f400c5c9430>]"
      ]
     },
     "execution_count": 118,
     "metadata": {},
     "output_type": "execute_result"
    },
    {
     "data": {
      "image/png": "[encoded data removed]",
      "text/plain": [
       "<Figure size 432x288 with 1 Axes>"
      ]
     },
     "metadata": {
      "needs_background": "light"
     },
     "output_type": "display_data"
    }
   ],
   "source": [
    "plt.plot(losses)"
   ]
  },
  {
   "cell_type": "code",
   "execution_count": 117,
   "metadata": {},
   "outputs": [
    {
     "data": {
      "text/html": [
       "<div>\n",
       "<style scoped>\n",
       "    .dataframe tbody tr th:only-of-type {\n",
       "        vertical-align: middle;\n",
       "    }\n",
       "\n",
       "    .dataframe tbody tr th {\n",
       "        vertical-align: top;\n",
       "    }\n",
       "\n",
       "    .dataframe thead th {\n",
       "        text-align: right;\n",
       "    }\n",
       "</style>\n",
       "<table border=\"1\" class=\"dataframe\">\n",
       "  <thead>\n",
       "    <tr style=\"text-align: right;\">\n",
       "      <th></th>\n",
       "      <th>A</th>\n",
       "      <th>Cart Position</th>\n",
       "      <th>Cart Velocity</th>\n",
       "      <th>Pole Angle</th>\n",
       "      <th>Pole Angular Velocity (abs)</th>\n",
       "      <th>episode</th>\n",
       "      <th>t</th>\n",
       "      <th>Pole Angular Velocity (sign)</th>\n",
       "      <th>Cart Position_t1</th>\n",
       "      <th>Cart Velocity_t1</th>\n",
       "      <th>Pole Angle_t1</th>\n",
       "      <th>Pole Angular Velocity (abs)_t1</th>\n",
       "    </tr>\n",
       "  </thead>\n",
       "  <tbody>\n",
       "    <tr>\n",
       "      <th>0</th>\n",
       "      <td>0.0</td>\n",
       "      <td>-0.044931</td>\n",
       "      <td>0.005088</td>\n",
       "      <td>0.000109</td>\n",
       "      <td>0.033541</td>\n",
       "      <td>0.0</td>\n",
       "      <td>0.0</td>\n",
       "      <td>-1</td>\n",
       "      <td>-0.044829</td>\n",
       "      <td>-0.190036</td>\n",
       "      <td>-0.000562</td>\n",
       "      <td>0.259176</td>\n",
       "    </tr>\n",
       "    <tr>\n",
       "      <th>1</th>\n",
       "      <td>1.0</td>\n",
       "      <td>-0.044829</td>\n",
       "      <td>-0.190036</td>\n",
       "      <td>-0.000562</td>\n",
       "      <td>0.259176</td>\n",
       "      <td>0.0</td>\n",
       "      <td>1.0</td>\n",
       "      <td>1</td>\n",
       "      <td>-0.048630</td>\n",
       "      <td>0.005094</td>\n",
       "      <td>0.004621</td>\n",
       "      <td>0.033684</td>\n",
       "    </tr>\n",
       "    <tr>\n",
       "      <th>2</th>\n",
       "      <td>0.0</td>\n",
       "      <td>-0.048630</td>\n",
       "      <td>0.005094</td>\n",
       "      <td>0.004621</td>\n",
       "      <td>0.033684</td>\n",
       "      <td>0.0</td>\n",
       "      <td>2.0</td>\n",
       "      <td>-1</td>\n",
       "      <td>-0.048528</td>\n",
       "      <td>-0.190094</td>\n",
       "      <td>0.003948</td>\n",
       "      <td>0.260453</td>\n",
       "    </tr>\n",
       "    <tr>\n",
       "      <th>3</th>\n",
       "      <td>1.0</td>\n",
       "      <td>-0.048528</td>\n",
       "      <td>-0.190094</td>\n",
       "      <td>0.003948</td>\n",
       "      <td>0.260453</td>\n",
       "      <td>0.0</td>\n",
       "      <td>3.0</td>\n",
       "      <td>1</td>\n",
       "      <td>-0.052330</td>\n",
       "      <td>0.004971</td>\n",
       "      <td>0.009157</td>\n",
       "      <td>0.030982</td>\n",
       "    </tr>\n",
       "    <tr>\n",
       "      <th>4</th>\n",
       "      <td>0.0</td>\n",
       "      <td>-0.052330</td>\n",
       "      <td>0.004971</td>\n",
       "      <td>0.009157</td>\n",
       "      <td>0.030982</td>\n",
       "      <td>0.0</td>\n",
       "      <td>4.0</td>\n",
       "      <td>-1</td>\n",
       "      <td>-0.052230</td>\n",
       "      <td>-0.190281</td>\n",
       "      <td>0.008537</td>\n",
       "      <td>0.264576</td>\n",
       "    </tr>\n",
       "  </tbody>\n",
       "</table>\n",
       "</div>"
      ],
      "text/plain": [
       "     A  Cart Position  Cart Velocity  Pole Angle  Pole Angular Velocity (abs)  \\\n",
       "0  0.0      -0.044931       0.005088    0.000109                     0.033541   \n",
       "1  1.0      -0.044829      -0.190036   -0.000562                     0.259176   \n",
       "2  0.0      -0.048630       0.005094    0.004621                     0.033684   \n",
       "3  1.0      -0.048528      -0.190094    0.003948                     0.260453   \n",
       "4  0.0      -0.052330       0.004971    0.009157                     0.030982   \n",
       "\n",
       "   episode    t  Pole Angular Velocity (sign)  Cart Position_t1  \\\n",
       "0      0.0  0.0                            -1         -0.044829   \n",
       "1      0.0  1.0                             1         -0.048630   \n",
       "2      0.0  2.0                            -1         -0.048528   \n",
       "3      0.0  3.0                             1         -0.052330   \n",
       "4      0.0  4.0                            -1         -0.052230   \n",
       "\n",
       "   Cart Velocity_t1  Pole Angle_t1  Pole Angular Velocity (abs)_t1  \n",
       "0         -0.190036      -0.000562                        0.259176  \n",
       "1          0.005094       0.004621                        0.033684  \n",
       "2         -0.190094       0.003948                        0.260453  \n",
       "3          0.004971       0.009157                        0.030982  \n",
       "4         -0.190281       0.008537                        0.264576  "
      ]
     },
     "execution_count": 117,
     "metadata": {},
     "output_type": "execute_result"
    }
   ],
   "source": [
    "sim_data.head()"
   ]
  },
  {
   "cell_type": "code",
   "execution_count": null,
   "metadata": {},
   "outputs": [],
   "source": []
  }
 ],
 "metadata": {
  "kernelspec": {
   "display_name": ".venv",
   "language": "python",
   "name": ".venv"
  },
  "language_info": {
   "codemirror_mode": {
    "name": "ipython",
    "version": 3
   },
   "file_extension": ".py",
   "mimetype": "text/x-python",
   "name": "python",
   "nbconvert_exporter": "python",
   "pygments_lexer": "ipython3",
   "version": "3.8.10"
  }
 },
 "nbformat": 4,
 "nbformat_minor": 4
}

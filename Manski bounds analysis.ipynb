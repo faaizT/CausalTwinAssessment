{
 "cells": [
  {
   "cell_type": "code",
   "execution_count": 1,
   "metadata": {},
   "outputs": [],
   "source": [
    "import logging\n",
    "logging.basicConfig(filename='manski-analysis.log', level=logging.INFO)"
   ]
  },
  {
   "cell_type": "code",
   "execution_count": 45,
   "metadata": {},
   "outputs": [],
   "source": [
    "import pandas as pd\n",
    "import numpy as np\n",
    "from tqdm import tqdm\n",
    "import glob\n",
    "import os\n",
    "import torch\n",
    "import matplotlib.pyplot as plt\n",
    "exportdir='/data/localhost/taufiq/export-dir/'\n",
    "os.chdir(\"/data/localhost/taufiq/pulse-data-5-step\")\n",
    "models_dir = '/data/localhost/taufiq/manski_bounds/'"
   ]
  },
  {
   "cell_type": "code",
   "execution_count": 3,
   "metadata": {},
   "outputs": [],
   "source": [
    "col_name = 'Calcium'\n",
    "extension = 'final_.csv'\n",
    "all_filenames = [i for i in glob.glob('*{}'.format(extension))]\n",
    "pulse_data = pd.concat([pd.read_csv(f) for f in all_filenames ])"
   ]
  },
  {
   "cell_type": "code",
   "execution_count": 4,
   "metadata": {},
   "outputs": [
    {
     "data": {
      "text/html": [
       "<div>\n",
       "<style scoped>\n",
       "    .dataframe tbody tr th:only-of-type {\n",
       "        vertical-align: middle;\n",
       "    }\n",
       "\n",
       "    .dataframe tbody tr th {\n",
       "        vertical-align: top;\n",
       "    }\n",
       "\n",
       "    .dataframe thead th {\n",
       "        text-align: right;\n",
       "    }\n",
       "</style>\n",
       "<table border=\"1\" class=\"dataframe\">\n",
       "  <thead>\n",
       "    <tr style=\"text-align: right;\">\n",
       "      <th></th>\n",
       "      <th>index</th>\n",
       "      <th>Albumin - BloodConcentration (mg/L)</th>\n",
       "      <th>ArterialCarbonDioxidePressure (mmHg)</th>\n",
       "      <th>ArterialOxygenPressure (mmHg)</th>\n",
       "      <th>ArterialPressure (mmHg)</th>\n",
       "      <th>Bicarbonate - BloodConcentration (mg/L)</th>\n",
       "      <th>BloodPH (None)</th>\n",
       "      <th>BloodUreaNitrogenConcentration (mg/dL)</th>\n",
       "      <th>BloodVolume (mL)</th>\n",
       "      <th>Calcium - BloodConcentration (mg/L)</th>\n",
       "      <th>...</th>\n",
       "      <th>RespirationRate (1/min)</th>\n",
       "      <th>SaturationAndFractionOfInspiredOxygenRatio (None)</th>\n",
       "      <th>SimulationTime(s)</th>\n",
       "      <th>SkinTemperature (degC)</th>\n",
       "      <th>Sodium - BloodConcentration (mg/L)</th>\n",
       "      <th>SystolicArterialPressure (mmHg)</th>\n",
       "      <th>WhiteBloodCellCount (ct/uL)</th>\n",
       "      <th>id</th>\n",
       "      <th>time</th>\n",
       "      <th>icustay_id</th>\n",
       "    </tr>\n",
       "  </thead>\n",
       "  <tbody>\n",
       "    <tr>\n",
       "      <th>0</th>\n",
       "      <td>0</td>\n",
       "      <td>36942.076357</td>\n",
       "      <td>40.766614</td>\n",
       "      <td>89.927432</td>\n",
       "      <td>116.205401</td>\n",
       "      <td>1589.280619</td>\n",
       "      <td>7.406174</td>\n",
       "      <td>12.954165</td>\n",
       "      <td>6432.049911</td>\n",
       "      <td>48.181075</td>\n",
       "      <td>...</td>\n",
       "      <td>18.633540</td>\n",
       "      <td>4.638695</td>\n",
       "      <td>0.0</td>\n",
       "      <td>33.203250</td>\n",
       "      <td>3328.440581</td>\n",
       "      <td>119.230483</td>\n",
       "      <td>7000.0</td>\n",
       "      <td>86855.0</td>\n",
       "      <td>6.607069e+09</td>\n",
       "      <td>86855</td>\n",
       "    </tr>\n",
       "    <tr>\n",
       "      <th>1</th>\n",
       "      <td>1</td>\n",
       "      <td>36524.917484</td>\n",
       "      <td>40.872763</td>\n",
       "      <td>90.052348</td>\n",
       "      <td>92.470480</td>\n",
       "      <td>1589.598103</td>\n",
       "      <td>7.405145</td>\n",
       "      <td>13.608056</td>\n",
       "      <td>6492.148657</td>\n",
       "      <td>53.043316</td>\n",
       "      <td>...</td>\n",
       "      <td>18.750000</td>\n",
       "      <td>4.633428</td>\n",
       "      <td>3600.0</td>\n",
       "      <td>33.879672</td>\n",
       "      <td>3319.123490</td>\n",
       "      <td>122.674910</td>\n",
       "      <td>7000.0</td>\n",
       "      <td>86855.0</td>\n",
       "      <td>6.607073e+09</td>\n",
       "      <td>86855</td>\n",
       "    </tr>\n",
       "    <tr>\n",
       "      <th>2</th>\n",
       "      <td>2</td>\n",
       "      <td>36069.948819</td>\n",
       "      <td>40.889780</td>\n",
       "      <td>90.176441</td>\n",
       "      <td>105.766357</td>\n",
       "      <td>1589.422211</td>\n",
       "      <td>7.404981</td>\n",
       "      <td>14.168092</td>\n",
       "      <td>6560.608547</td>\n",
       "      <td>57.671101</td>\n",
       "      <td>...</td>\n",
       "      <td>18.750000</td>\n",
       "      <td>4.633453</td>\n",
       "      <td>7200.0</td>\n",
       "      <td>32.973720</td>\n",
       "      <td>3311.273411</td>\n",
       "      <td>123.910096</td>\n",
       "      <td>7000.0</td>\n",
       "      <td>86855.0</td>\n",
       "      <td>6.607076e+09</td>\n",
       "      <td>86855</td>\n",
       "    </tr>\n",
       "    <tr>\n",
       "      <th>3</th>\n",
       "      <td>3</td>\n",
       "      <td>35344.795982</td>\n",
       "      <td>40.949980</td>\n",
       "      <td>90.585038</td>\n",
       "      <td>99.518088</td>\n",
       "      <td>1589.162254</td>\n",
       "      <td>7.404399</td>\n",
       "      <td>14.827684</td>\n",
       "      <td>6681.667603</td>\n",
       "      <td>61.641868</td>\n",
       "      <td>...</td>\n",
       "      <td>18.867925</td>\n",
       "      <td>4.635279</td>\n",
       "      <td>10800.0</td>\n",
       "      <td>33.382638</td>\n",
       "      <td>3311.388720</td>\n",
       "      <td>121.909499</td>\n",
       "      <td>7000.0</td>\n",
       "      <td>86855.0</td>\n",
       "      <td>6.607080e+09</td>\n",
       "      <td>86855</td>\n",
       "    </tr>\n",
       "    <tr>\n",
       "      <th>4</th>\n",
       "      <td>4</td>\n",
       "      <td>34739.622499</td>\n",
       "      <td>40.941064</td>\n",
       "      <td>90.624763</td>\n",
       "      <td>120.664434</td>\n",
       "      <td>1589.148171</td>\n",
       "      <td>7.404485</td>\n",
       "      <td>14.816667</td>\n",
       "      <td>6784.488523</td>\n",
       "      <td>65.534987</td>\n",
       "      <td>...</td>\n",
       "      <td>18.867925</td>\n",
       "      <td>4.635250</td>\n",
       "      <td>14400.0</td>\n",
       "      <td>33.415902</td>\n",
       "      <td>3280.588569</td>\n",
       "      <td>122.044169</td>\n",
       "      <td>7000.0</td>\n",
       "      <td>86855.0</td>\n",
       "      <td>6.607084e+09</td>\n",
       "      <td>86855</td>\n",
       "    </tr>\n",
       "  </tbody>\n",
       "</table>\n",
       "<p>5 rows × 33 columns</p>\n",
       "</div>"
      ],
      "text/plain": [
       "   index  Albumin - BloodConcentration (mg/L)  \\\n",
       "0      0                         36942.076357   \n",
       "1      1                         36524.917484   \n",
       "2      2                         36069.948819   \n",
       "3      3                         35344.795982   \n",
       "4      4                         34739.622499   \n",
       "\n",
       "   ArterialCarbonDioxidePressure (mmHg)  ArterialOxygenPressure (mmHg)  \\\n",
       "0                             40.766614                      89.927432   \n",
       "1                             40.872763                      90.052348   \n",
       "2                             40.889780                      90.176441   \n",
       "3                             40.949980                      90.585038   \n",
       "4                             40.941064                      90.624763   \n",
       "\n",
       "   ArterialPressure (mmHg)  Bicarbonate - BloodConcentration (mg/L)  \\\n",
       "0               116.205401                              1589.280619   \n",
       "1                92.470480                              1589.598103   \n",
       "2               105.766357                              1589.422211   \n",
       "3                99.518088                              1589.162254   \n",
       "4               120.664434                              1589.148171   \n",
       "\n",
       "   BloodPH (None)  BloodUreaNitrogenConcentration (mg/dL)  BloodVolume (mL)  \\\n",
       "0        7.406174                               12.954165       6432.049911   \n",
       "1        7.405145                               13.608056       6492.148657   \n",
       "2        7.404981                               14.168092       6560.608547   \n",
       "3        7.404399                               14.827684       6681.667603   \n",
       "4        7.404485                               14.816667       6784.488523   \n",
       "\n",
       "   Calcium - BloodConcentration (mg/L)  ...  RespirationRate (1/min)  \\\n",
       "0                            48.181075  ...                18.633540   \n",
       "1                            53.043316  ...                18.750000   \n",
       "2                            57.671101  ...                18.750000   \n",
       "3                            61.641868  ...                18.867925   \n",
       "4                            65.534987  ...                18.867925   \n",
       "\n",
       "   SaturationAndFractionOfInspiredOxygenRatio (None)  SimulationTime(s)  \\\n",
       "0                                           4.638695                0.0   \n",
       "1                                           4.633428             3600.0   \n",
       "2                                           4.633453             7200.0   \n",
       "3                                           4.635279            10800.0   \n",
       "4                                           4.635250            14400.0   \n",
       "\n",
       "   SkinTemperature (degC)  Sodium - BloodConcentration (mg/L)  \\\n",
       "0               33.203250                         3328.440581   \n",
       "1               33.879672                         3319.123490   \n",
       "2               32.973720                         3311.273411   \n",
       "3               33.382638                         3311.388720   \n",
       "4               33.415902                         3280.588569   \n",
       "\n",
       "   SystolicArterialPressure (mmHg)  WhiteBloodCellCount (ct/uL)       id  \\\n",
       "0                       119.230483                       7000.0  86855.0   \n",
       "1                       122.674910                       7000.0  86855.0   \n",
       "2                       123.910096                       7000.0  86855.0   \n",
       "3                       121.909499                       7000.0  86855.0   \n",
       "4                       122.044169                       7000.0  86855.0   \n",
       "\n",
       "           time  icustay_id  \n",
       "0  6.607069e+09       86855  \n",
       "1  6.607073e+09       86855  \n",
       "2  6.607076e+09       86855  \n",
       "3  6.607080e+09       86855  \n",
       "4  6.607084e+09       86855  \n",
       "\n",
       "[5 rows x 33 columns]"
      ]
     },
     "execution_count": 4,
     "metadata": {},
     "output_type": "execute_result"
    }
   ],
   "source": [
    "pulse_data['icustay_id'] = pulse_data['id'].astype(int)\n",
    "pulse_data = pulse_data.reset_index()\n",
    "pulse_data.head()"
   ]
  },
  {
   "cell_type": "code",
   "execution_count": 79,
   "metadata": {},
   "outputs": [],
   "source": [
    "column_mappings = {\n",
    "#     'Albumin - BloodConcentration (mg/L)': 'Albumin',\n",
    "    'ArterialCarbonDioxidePressure (mmHg)': 'paCO2',\n",
    "    'ArterialOxygenPressure (mmHg)': 'paO2',\n",
    "    'Bicarbonate - BloodConcentration (mg/L)': 'HCO3',\n",
    "    'BloodPH (None)': 'Arterial_pH',\n",
    "#     'BloodUreaNitrogenConcentration (mg/dL)': 'BUN',\n",
    "    'Calcium - BloodConcentration (mg/L)': 'Calcium',\n",
    "    'Chloride - BloodConcentration (mg/L)': 'Chloride',\n",
    "#     'Creatinine - BloodConcentration (mg/L)': 'Creatinine',\n",
    "    'DiastolicArterialPressure (mmHg)': 'DiaBP',\n",
    "    'Glucose - BloodConcentration (mg/L)': 'Glucose',\n",
    "#     'Lactate - BloodConcentration (mg/L)': 'Arterial_lactate',\n",
    "    'MeanArterialPressure (mmHg)': 'MeanBP',\n",
    "    'Potassium - BloodConcentration (mg/L)': 'Potassium',\n",
    "    'RespirationRate (1/min)': 'RR',\n",
    "    'SaturationAndFractionOfInspiredOxygenRatio (None)': 'PaO2_FiO2',\n",
    "    'SkinTemperature (degC)': 'Temp_C',\n",
    "    'Sodium - BloodConcentration (mg/L)': 'Sodium',\n",
    "    'SystolicArterialPressure (mmHg)': 'SysBP',\n",
    "#     'WhiteBloodCellCount (ct/uL)': 'WBC_count',\n",
    "    'HeartRate (1/min)': 'HR'\n",
    "}\n",
    "\n",
    "pulse_rename = {}\n",
    "\n",
    "for k, v in column_mappings.items():\n",
    "    pulse_rename.update({k: f\"{v}\"})\n",
    "\n",
    "pulse_data = pulse_data.rename(columns=pulse_rename)"
   ]
  },
  {
   "cell_type": "code",
   "execution_count": 22,
   "metadata": {},
   "outputs": [
    {
     "data": {
      "text/html": [
       "<div>\n",
       "<style scoped>\n",
       "    .dataframe tbody tr th:only-of-type {\n",
       "        vertical-align: middle;\n",
       "    }\n",
       "\n",
       "    .dataframe tbody tr th {\n",
       "        vertical-align: top;\n",
       "    }\n",
       "\n",
       "    .dataframe thead th {\n",
       "        text-align: right;\n",
       "    }\n",
       "</style>\n",
       "<table border=\"1\" class=\"dataframe\">\n",
       "  <thead>\n",
       "    <tr style=\"text-align: right;\">\n",
       "      <th></th>\n",
       "      <th>bloc</th>\n",
       "      <th>icustay_id</th>\n",
       "      <th>charttime</th>\n",
       "      <th>gender</th>\n",
       "      <th>age</th>\n",
       "      <th>elixhauser</th>\n",
       "      <th>re_admission</th>\n",
       "      <th>died_in_hosp</th>\n",
       "      <th>died_within_48h_of_out_time</th>\n",
       "      <th>mortality_90d</th>\n",
       "      <th>...</th>\n",
       "      <th>mechvent</th>\n",
       "      <th>Shock_Index</th>\n",
       "      <th>PaO2_FiO2</th>\n",
       "      <th>median_dose_vaso</th>\n",
       "      <th>max_dose_vaso</th>\n",
       "      <th>input_total</th>\n",
       "      <th>input_1hourly</th>\n",
       "      <th>output_total</th>\n",
       "      <th>output_1hourly</th>\n",
       "      <th>cumulated_balance</th>\n",
       "    </tr>\n",
       "  </thead>\n",
       "  <tbody>\n",
       "    <tr>\n",
       "      <th>0</th>\n",
       "      <td>1</td>\n",
       "      <td>65537</td>\n",
       "      <td>7.139723e+09</td>\n",
       "      <td>0.0</td>\n",
       "      <td>22799.40478</td>\n",
       "      <td>4.0</td>\n",
       "      <td>1.0</td>\n",
       "      <td>0.0</td>\n",
       "      <td>0.0</td>\n",
       "      <td>0.0</td>\n",
       "      <td>...</td>\n",
       "      <td>0.0</td>\n",
       "      <td>0.687500</td>\n",
       "      <td>363.888889</td>\n",
       "      <td>0.18</td>\n",
       "      <td>0.18</td>\n",
       "      <td>4020.493550</td>\n",
       "      <td>29.994183</td>\n",
       "      <td>7235.0</td>\n",
       "      <td>3605.0</td>\n",
       "      <td>-3184.512267</td>\n",
       "    </tr>\n",
       "    <tr>\n",
       "      <th>1</th>\n",
       "      <td>2</td>\n",
       "      <td>65537</td>\n",
       "      <td>7.139727e+09</td>\n",
       "      <td>0.0</td>\n",
       "      <td>22799.40478</td>\n",
       "      <td>4.0</td>\n",
       "      <td>1.0</td>\n",
       "      <td>0.0</td>\n",
       "      <td>0.0</td>\n",
       "      <td>0.0</td>\n",
       "      <td>...</td>\n",
       "      <td>0.0</td>\n",
       "      <td>0.602564</td>\n",
       "      <td>430.555556</td>\n",
       "      <td>0.00</td>\n",
       "      <td>0.00</td>\n",
       "      <td>4050.487733</td>\n",
       "      <td>515.407667</td>\n",
       "      <td>10760.0</td>\n",
       "      <td>3525.0</td>\n",
       "      <td>-6194.104600</td>\n",
       "    </tr>\n",
       "    <tr>\n",
       "      <th>2</th>\n",
       "      <td>3</td>\n",
       "      <td>65537</td>\n",
       "      <td>7.139731e+09</td>\n",
       "      <td>0.0</td>\n",
       "      <td>22799.40478</td>\n",
       "      <td>4.0</td>\n",
       "      <td>1.0</td>\n",
       "      <td>0.0</td>\n",
       "      <td>0.0</td>\n",
       "      <td>0.0</td>\n",
       "      <td>...</td>\n",
       "      <td>0.0</td>\n",
       "      <td>0.751456</td>\n",
       "      <td>402.222222</td>\n",
       "      <td>0.00</td>\n",
       "      <td>0.00</td>\n",
       "      <td>4565.895400</td>\n",
       "      <td>547.876700</td>\n",
       "      <td>14235.0</td>\n",
       "      <td>3475.0</td>\n",
       "      <td>-9121.227900</td>\n",
       "    </tr>\n",
       "    <tr>\n",
       "      <th>3</th>\n",
       "      <td>4</td>\n",
       "      <td>65537</td>\n",
       "      <td>7.139734e+09</td>\n",
       "      <td>0.0</td>\n",
       "      <td>22799.40478</td>\n",
       "      <td>4.0</td>\n",
       "      <td>1.0</td>\n",
       "      <td>0.0</td>\n",
       "      <td>0.0</td>\n",
       "      <td>0.0</td>\n",
       "      <td>...</td>\n",
       "      <td>0.0</td>\n",
       "      <td>0.804762</td>\n",
       "      <td>275.000000</td>\n",
       "      <td>0.00</td>\n",
       "      <td>0.00</td>\n",
       "      <td>5113.772100</td>\n",
       "      <td>2097.144000</td>\n",
       "      <td>17630.0</td>\n",
       "      <td>3395.0</td>\n",
       "      <td>-10419.083900</td>\n",
       "    </tr>\n",
       "    <tr>\n",
       "      <th>4</th>\n",
       "      <td>5</td>\n",
       "      <td>65537</td>\n",
       "      <td>7.139738e+09</td>\n",
       "      <td>0.0</td>\n",
       "      <td>22799.40478</td>\n",
       "      <td>4.0</td>\n",
       "      <td>1.0</td>\n",
       "      <td>0.0</td>\n",
       "      <td>0.0</td>\n",
       "      <td>0.0</td>\n",
       "      <td>...</td>\n",
       "      <td>0.0</td>\n",
       "      <td>0.804245</td>\n",
       "      <td>283.000000</td>\n",
       "      <td>0.00</td>\n",
       "      <td>0.00</td>\n",
       "      <td>7210.916100</td>\n",
       "      <td>519.833583</td>\n",
       "      <td>20785.0</td>\n",
       "      <td>3155.0</td>\n",
       "      <td>-13054.250317</td>\n",
       "    </tr>\n",
       "  </tbody>\n",
       "</table>\n",
       "<p>5 rows × 59 columns</p>\n",
       "</div>"
      ],
      "text/plain": [
       "   bloc  icustay_id     charttime  gender          age  elixhauser  \\\n",
       "0     1       65537  7.139723e+09     0.0  22799.40478         4.0   \n",
       "1     2       65537  7.139727e+09     0.0  22799.40478         4.0   \n",
       "2     3       65537  7.139731e+09     0.0  22799.40478         4.0   \n",
       "3     4       65537  7.139734e+09     0.0  22799.40478         4.0   \n",
       "4     5       65537  7.139738e+09     0.0  22799.40478         4.0   \n",
       "\n",
       "   re_admission  died_in_hosp  died_within_48h_of_out_time  mortality_90d  \\\n",
       "0           1.0           0.0                          0.0            0.0   \n",
       "1           1.0           0.0                          0.0            0.0   \n",
       "2           1.0           0.0                          0.0            0.0   \n",
       "3           1.0           0.0                          0.0            0.0   \n",
       "4           1.0           0.0                          0.0            0.0   \n",
       "\n",
       "   ...  mechvent  Shock_Index   PaO2_FiO2  median_dose_vaso  max_dose_vaso  \\\n",
       "0  ...       0.0     0.687500  363.888889              0.18           0.18   \n",
       "1  ...       0.0     0.602564  430.555556              0.00           0.00   \n",
       "2  ...       0.0     0.751456  402.222222              0.00           0.00   \n",
       "3  ...       0.0     0.804762  275.000000              0.00           0.00   \n",
       "4  ...       0.0     0.804245  283.000000              0.00           0.00   \n",
       "\n",
       "   input_total  input_1hourly  output_total  output_1hourly  cumulated_balance  \n",
       "0  4020.493550      29.994183        7235.0          3605.0       -3184.512267  \n",
       "1  4050.487733     515.407667       10760.0          3525.0       -6194.104600  \n",
       "2  4565.895400     547.876700       14235.0          3475.0       -9121.227900  \n",
       "3  5113.772100    2097.144000       17630.0          3395.0      -10419.083900  \n",
       "4  7210.916100     519.833583       20785.0          3155.0      -13054.250317  \n",
       "\n",
       "[5 rows x 59 columns]"
      ]
     },
     "execution_count": 22,
     "metadata": {},
     "output_type": "execute_result"
    }
   ],
   "source": [
    "MIMICtable = pd.read_csv(\"/data/localhost/taufiq/export-dir/MIMIC-1hourly-length-5-train.csv\")\n",
    "MIMICtable['icustay_id'] = MIMICtable['icustay_id'].astype(int)\n",
    "MIMICtable.head()"
   ]
  },
  {
   "cell_type": "code",
   "execution_count": 23,
   "metadata": {},
   "outputs": [],
   "source": [
    "MIMICtable_filtered_t0 = MIMICtable[MIMICtable['bloc']==1].reset_index()\n",
    "MIMICtable_filtered_t1 = MIMICtable[MIMICtable['bloc']==2][[\n",
    "       'icustay_id', 'RR', 'HR', 'SysBP', 'MeanBP', 'DiaBP', 'RR',\n",
    "       'SpO2', 'Temp_C', 'FiO2_1', 'Potassium', 'Sodium', 'Chloride',\n",
    "       'Glucose', 'BUN', 'Creatinine', 'Magnesium', 'Calcium', 'Ionised_Ca',\n",
    "       'CO2_mEqL', 'SGOT', 'SGPT', 'Total_bili', 'Albumin', 'Hb', 'WBC_count',\n",
    "       'Platelets_count', 'PTT', 'PT', 'INR', 'Arterial_pH', 'paO2', 'paCO2',\n",
    "       'Arterial_BE', 'HCO3', 'Arterial_lactate']].reset_index()\n",
    "\n",
    "MIMICtable_filtered_t1 = MIMICtable_filtered_t1[MIMICtable_filtered_t1[col_name]>0].reset_index()\n",
    "MIMICtable_filtered_t0 = MIMICtable_filtered_t0[MIMICtable_filtered_t0['icustay_id'].isin(MIMICtable_filtered_t1['icustay_id'])].reset_index()"
   ]
  },
  {
   "cell_type": "code",
   "execution_count": 24,
   "metadata": {},
   "outputs": [],
   "source": [
    "pulse_data_t0 = pulse_data[pulse_data['index']==1].reset_index(drop=True)\n",
    "pulse_data_t1 = pulse_data[pulse_data['index']==2].reset_index(drop=True)\n"
   ]
  },
  {
   "cell_type": "markdown",
   "metadata": {},
   "source": [
    "# Supervised Learning of Actions - Logistic Regression\n"
   ]
  },
  {
   "cell_type": "code",
   "execution_count": 25,
   "metadata": {},
   "outputs": [],
   "source": [
    "nra = 5\n",
    "nr_reps = 100"
   ]
  },
  {
   "cell_type": "markdown",
   "metadata": {},
   "source": [
    "## Create Actions\n"
   ]
  },
  {
   "cell_type": "code",
   "execution_count": 26,
   "metadata": {},
   "outputs": [],
   "source": [
    "from sklearn.cluster import KMeans\n",
    "from scipy.stats import rankdata\n",
    "\n",
    "logging.info('Creating action bins')\n",
    "nact = nra**2\n",
    "input_1hourly_nonzero = MIMICtable_filtered_t0.loc[MIMICtable_filtered_t0['input_1hourly']>0, 'input_1hourly']\n",
    "iol_ranked = rankdata(input_1hourly_nonzero)/len(input_1hourly_nonzero) # excludes zero fluid (will be action 1)\n",
    "iof = np.floor((iol_ranked + 0.2499999999)*4) # converts iv volume in 4 actions\n",
    "io = np.ones(len(MIMICtable_filtered_t0)) # array of ones, by default\n",
    "io[MIMICtable_filtered_t0['input_1hourly']>0] = iof + 1 # where more than zero fluid given: save actual action\n",
    "vc = MIMICtable_filtered_t0['max_dose_vaso'].copy()\n",
    "vc_nonzero = MIMICtable_filtered_t0.loc[MIMICtable_filtered_t0['max_dose_vaso']!=0, 'max_dose_vaso']\n",
    "vc_ranked = rankdata(vc_nonzero)/len(vc_nonzero)\n",
    "vcf = np.floor((vc_ranked + 0.2499999999)*4) # converts to 4 bins\n",
    "vcf[vcf==0] = 1\n",
    "vc[vc!=0] = vcf + 1\n",
    "vc[vc==0] = 1\n",
    "# median dose of drug in all bins\n",
    "ma1 = [MIMICtable_filtered_t0.loc[io==1, 'input_1hourly'].median(), MIMICtable_filtered_t0.loc[io==2, 'input_1hourly'].median(), MIMICtable_filtered_t0.loc[io==3, 'input_1hourly'].median(), MIMICtable_filtered_t0.loc[io==4, 'input_1hourly'].median(), MIMICtable_filtered_t0.loc[io==5, 'input_1hourly'].median()]\n",
    "ma2 = [MIMICtable_filtered_t0.loc[vc==1, 'max_dose_vaso'].median(), MIMICtable_filtered_t0.loc[vc==2, 'max_dose_vaso'].median(), MIMICtable_filtered_t0.loc[vc==3, 'max_dose_vaso'].median(), MIMICtable_filtered_t0.loc[vc==4, 'max_dose_vaso'].median(), MIMICtable_filtered_t0.loc[vc==5, 'max_dose_vaso'].median()]\n",
    "med = pd.DataFrame(data={'IV':io, 'VC': vc})\n",
    "med = med.astype({'IV': 'int32', 'VC': 'int32'})\n",
    "uniqueValues = med.drop_duplicates().reset_index(drop=True)\n",
    "uniqueValueDoses = pd.DataFrame()\n",
    "for index, row in uniqueValues.iterrows():\n",
    "    uniqueValueDoses.at[index, 'IV'], uniqueValueDoses.at[index, 'VC'] = ma1[row['IV']-1], ma2[row['VC']-1]\n",
    "\n",
    "actionbloc = pd.DataFrame()\n",
    "for index, row in med.iterrows():\n",
    "    actionbloc.at[index, 'action_bloc'] = uniqueValues.loc[(uniqueValues['IV'] == row['IV']) & (uniqueValues['VC'] == row['VC'])].index.values[0]+1\n",
    "actionbloc = actionbloc.astype({'action_bloc':'int32'})\n",
    "\n",
    "logging.info('Action bins created')"
   ]
  },
  {
   "cell_type": "code",
   "execution_count": 27,
   "metadata": {},
   "outputs": [
    {
     "data": {
      "text/plain": [
       "5168"
      ]
     },
     "execution_count": 27,
     "metadata": {},
     "output_type": "execute_result"
    }
   ],
   "source": [
    "len(actionbloc)"
   ]
  },
  {
   "cell_type": "code",
   "execution_count": 28,
   "metadata": {},
   "outputs": [],
   "source": [
    "import torch.utils.data as data_utils\n",
    "\n",
    "class PolicyNetwork(torch.nn.Module):\n",
    "    def __init__(self, input_dim, output_dim, hidden_1_dim=10):\n",
    "        super(PolicyNetwork, self).__init__()\n",
    "        self.hid1 = torch.nn.Linear(input_dim, hidden_1_dim)\n",
    "        self.outp = torch.nn.Linear(hidden_1_dim, output_dim)\n",
    "        self.softmax = torch.nn.Softmax(dim=2)\n",
    "        self.leaky_relu = torch.nn.LeakyReLU()\n",
    "        self.tanh = torch.nn.Tanh()\n",
    "\n",
    "        torch.nn.init.xavier_uniform_(self.hid1.weight)\n",
    "        torch.nn.init.zeros_(self.hid1.bias)\n",
    "        torch.nn.init.xavier_uniform_(self.outp.weight)\n",
    "        torch.nn.init.zeros_(self.outp.bias)\n",
    "\n",
    "    def forward(self, x):\n",
    "        z = self.tanh(self.hid1(x))\n",
    "        z = self.outp(z)\n",
    "        return z"
   ]
  },
  {
   "cell_type": "code",
   "execution_count": 29,
   "metadata": {},
   "outputs": [],
   "source": [
    "import torch\n",
    "from torch.autograd import Variable\n",
    "import torch.nn.functional as F\n",
    "import torch.utils.data as Data\n",
    "\n",
    "\n",
    "class Net(torch.nn.Module):\n",
    "    def __init__(self, n_feature, n_hidden, n_output):\n",
    "        super(Net, self).__init__()\n",
    "        self.hidden = torch.nn.Linear(n_feature, n_hidden)   # hidden layer\n",
    "        self.predict = torch.nn.Linear(n_hidden, n_output)   # output layer\n",
    "\n",
    "    def forward(self, x):\n",
    "        x = F.leaky_relu(self.hidden(x))      # activation function for hidden layer\n",
    "        x = self.predict(x)             # linear output\n",
    "        return x"
   ]
  },
  {
   "cell_type": "code",
   "execution_count": 30,
   "metadata": {},
   "outputs": [],
   "source": [
    "import torch\n",
    "from torch.autograd import Variable\n",
    "import torch.nn.functional as F\n",
    "import torch.utils.data as Data\n",
    "\n",
    "\n",
    "class QuantileNet(torch.nn.Module):\n",
    "    def __init__(self, n_feature, n_hidden, n_output):\n",
    "        super(QuantileNet, self).__init__()\n",
    "        self.hidden = torch.nn.Linear(n_feature, n_hidden)   # hidden layer\n",
    "        self.predict = torch.nn.Linear(n_hidden, n_output)   # output layer\n",
    "        self.tanh = torch.nn.Tanh()\n",
    "\n",
    "    def forward(self, x):\n",
    "        x = self.tanh(self.hidden(x))      # activation function for hidden layer\n",
    "        x = self.predict(x)             # linear output\n",
    "        return x"
   ]
  },
  {
   "cell_type": "code",
   "execution_count": 31,
   "metadata": {},
   "outputs": [],
   "source": [
    "class PinballLoss():\n",
    "    def __init__(self, quantile=0.10, reduction='none'):\n",
    "        self.quantile = quantile\n",
    "        assert 0 < self.quantile\n",
    "        assert self.quantile < 1\n",
    "        self.reduction = reduction\n",
    "\n",
    "    def __call__(self, output, target):\n",
    "        assert output.shape == target.shape\n",
    "        loss = torch.zeros_like(target, dtype=torch.float)\n",
    "        error = output - target\n",
    "        smaller_index = error < 0\n",
    "        bigger_index = 0 < error\n",
    "        loss[smaller_index] = self.quantile * (abs(error)[smaller_index])\n",
    "        loss[bigger_index] = (1-self.quantile) * (abs(error)[bigger_index])\n",
    "\n",
    "        if self.reduction == 'sum':\n",
    "            loss = loss.sum()\n",
    "        if self.reduction == 'mean':\n",
    "            loss = loss.mean()\n",
    "\n",
    "        return loss"
   ]
  },
  {
   "cell_type": "markdown",
   "metadata": {},
   "source": [
    "# Computing scores for simulated outcomes using saved models"
   ]
  },
  {
   "cell_type": "code",
   "execution_count": 186,
   "metadata": {},
   "outputs": [],
   "source": [
    "def compute_score(gender, age, col_v, action, col_name, models_dir):\n",
    "    softmax = torch.nn.Softmax(dim=0)\n",
    "    gender = gender - 0.5\n",
    "    age_normalized_sim = (age - MIMICtable_filtered_t0['age'].mean())/MIMICtable_filtered_t0['age'].std()\n",
    "    col_normalized_sim = (col_v - pulse_data_t0[f'{col_name}'].mean())/pulse_data_t0[f'{col_name}'].std()\n",
    "    sim_input = torch.FloatTensor((gender, age_normalized_sim, col_normalized_sim))\n",
    "    age_normalized_obs = (age - MIMICtable_filtered_t0['age'].mean())/MIMICtable_filtered_t0['age'].std()\n",
    "    col_normalized_obs = (col_v - MIMICtable_filtered_t0[f'{col_name}'].mean())/MIMICtable_filtered_t0[f'{col_name}'].std()\n",
    "    obs_input = torch.FloatTensor((gender, age_normalized_obs, col_normalized_obs))\n",
    "    action_tensor = torch.FloatTensor(((action-1)/24,))\n",
    "    p = 0\n",
    "    for i in range(nr_reps):\n",
    "        yobs_model = Net(n_feature=4, n_hidden=10, n_output=1)\n",
    "        yobs_model.load_state_dict(torch.load(f'{models_dir}/col_{col_name}/yobs_{i}'))\n",
    "        yobs_model.eval()\n",
    "        ymax_model = Net(n_feature=3, n_hidden=10, n_output=1)\n",
    "        ymax_model.load_state_dict(torch.load(f'{models_dir}/col_{col_name}/ymax_{i}'))\n",
    "        ymax_model.eval()\n",
    "        ymin_model = Net(n_feature=3, n_hidden=10, n_output=1)\n",
    "        ymin_model.load_state_dict(torch.load(f'{models_dir}/col_{col_name}/ymin_{i}'))\n",
    "        ymin_model.eval()\n",
    "        ysim_model = Net(n_feature=4, n_hidden=10, n_output=1)\n",
    "        ysim_model.load_state_dict(torch.load(f'{models_dir}/col_{col_name}/ysim_{i}'))\n",
    "        ysim_model.eval()\n",
    "        policy = PolicyNetwork(input_dim=3, output_dim=25)\n",
    "        policy.load_state_dict(torch.load(f'{models_dir}/col_{col_name}/policy_{i}'))\n",
    "        policy.eval()\n",
    "        prob = softmax(policy(obs_input))[action-1]\n",
    "        lb = prob*yobs_model(torch.cat((obs_input, action_tensor))) + (1-prob)*(ymin_model(obs_input))\n",
    "        ub = prob*yobs_model(torch.cat((obs_input, action_tensor))) + (1-prob)*(ymax_model(obs_input))\n",
    "        sim = ysim_model(torch.cat((sim_input, action_tensor)))\n",
    "        p += int(((lb<=sim)&(sim<=ub)).item())\n",
    "    p = p/nr_reps\n",
    "    return p    "
   ]
  },
  {
   "cell_type": "code",
   "execution_count": 187,
   "metadata": {},
   "outputs": [
    {
     "data": {
      "text/plain": [
       "0.18"
      ]
     },
     "execution_count": 187,
     "metadata": {},
     "output_type": "execute_result"
    }
   ],
   "source": [
    "models_dir = \"/data/localhost/taufiq/manski_bounds\"\n",
    "col_name = 'Sodium'\n",
    "compute_score(0, 65, 85, 0, col_name, models_dir)"
   ]
  },
  {
   "cell_type": "code",
   "execution_count": 37,
   "metadata": {},
   "outputs": [
    {
     "data": {
      "text/plain": [
       "3316.2641625636"
      ]
     },
     "execution_count": 37,
     "metadata": {},
     "output_type": "execute_result"
    }
   ],
   "source": [
    "MIMICtable_filtered_t0['Sodium'].median()\n",
    "pulse_data_t0['Sodium'].median()"
   ]
  },
  {
   "cell_type": "code",
   "execution_count": 121,
   "metadata": {},
   "outputs": [
    {
     "data": {
      "text/plain": [
       "PolicyNetwork(\n",
       "  (hid1): Linear(in_features=3, out_features=10, bias=True)\n",
       "  (outp): Linear(in_features=10, out_features=25, bias=True)\n",
       "  (softmax): Softmax(dim=2)\n",
       "  (leaky_relu): LeakyReLU(negative_slope=0.01)\n",
       "  (tanh): Tanh()\n",
       ")"
      ]
     },
     "execution_count": 121,
     "metadata": {},
     "output_type": "execute_result"
    }
   ],
   "source": [
    "i = 98\n",
    "models_dir = \"/data/localhost/taufiq/manski_bounds\"\n",
    "col_name = 'Sodium'\n",
    "\n",
    "gender = 0\n",
    "age = 65\n",
    "col_v = 3172.588122\n",
    "action = 2\n",
    "\n",
    "gender = gender - 0.5\n",
    "age_normalized_sim = (age - MIMICtable_filtered_t0['age'].mean())/MIMICtable_filtered_t0['age'].std()\n",
    "col_normalized_sim = (col_v - pulse_data_t0[f'{col_name}'].mean())/pulse_data_t0[f'{col_name}'].std()\n",
    "sim_input = torch.FloatTensor((gender, age_normalized_sim, col_normalized_sim))\n",
    "age_normalized_obs = (age - MIMICtable_filtered_t0['age'].mean())/MIMICtable_filtered_t0['age'].std()\n",
    "col_normalized_obs = (col_v - MIMICtable_filtered_t0[f'{col_name}'].mean())/MIMICtable_filtered_t0[f'{col_name}'].std()\n",
    "obs_input = torch.FloatTensor((gender, age_normalized_obs, col_normalized_obs))\n",
    "action_tensor = (action-1)/24\n",
    "\n",
    "\n",
    "yobs_model = Net(n_feature=4, n_hidden=10, n_output=1)\n",
    "yobs_model.load_state_dict(torch.load(f'{models_dir}/col_{col_name}/yobs_{i}'))\n",
    "yobs_model.eval()\n",
    "ymax_model = Net(n_feature=3, n_hidden=10, n_output=1)\n",
    "ymax_model.load_state_dict(torch.load(f'{models_dir}/col_{col_name}/ymax_{i}'))\n",
    "ymax_model.eval()\n",
    "ymin_model = Net(n_feature=3, n_hidden=10, n_output=1)\n",
    "ymin_model.load_state_dict(torch.load(f'{models_dir}/col_{col_name}/ymin_{i}'))\n",
    "ymin_model.eval()\n",
    "ysim_model = Net(n_feature=4, n_hidden=10, n_output=1)\n",
    "ysim_model.load_state_dict(torch.load(f'{models_dir}/col_{col_name}/ysim_{i}'))\n",
    "ysim_model.eval()\n",
    "policy = PolicyNetwork(input_dim=3, output_dim=25)\n",
    "policy.load_state_dict(torch.load(f'{models_dir}/col_{col_name}/policy_{i}'))\n",
    "policy.eval()\n",
    "\n"
   ]
  },
  {
   "cell_type": "code",
   "execution_count": 42,
   "metadata": {},
   "outputs": [
    {
     "data": {
      "text/plain": [
       "tensor([3166.2468], grad_fn=<AddBackward0>)"
      ]
     },
     "execution_count": 42,
     "metadata": {},
     "output_type": "execute_result"
    }
   ],
   "source": [
    "yobs_model(torch.cat((obs_input, action_tensor)))*MIMICtable[col_name].std() + MIMICtable[col_name].mean()\n",
    "ymax_model(obs_input)*MIMICtable[col_name].std() + MIMICtable[col_name].mean()\n",
    "ymin_model(obs_input)*MIMICtable[col_name].std() + MIMICtable[col_name].mean()\n",
    "ysim_model(torch.cat((sim_input, action_tensor)))*MIMICtable[col_name].std() + MIMICtable[col_name].mean()"
   ]
  },
  {
   "cell_type": "code",
   "execution_count": 55,
   "metadata": {},
   "outputs": [
    {
     "data": {
      "text/plain": [
       "3651.35"
      ]
     },
     "execution_count": 55,
     "metadata": {},
     "output_type": "execute_result"
    }
   ],
   "source": [
    "MIMICtable_filtered_t0['Chloride'].median()"
   ]
  },
  {
   "cell_type": "code",
   "execution_count": 33,
   "metadata": {},
   "outputs": [
    {
     "name": "stderr",
     "output_type": "stream",
     "text": [
      "100%|██████████| 48/48 [00:08<00:00,  5.53it/s]\n"
     ]
    }
   ],
   "source": [
    "ages = range(18,66)\n",
    "scores = []\n",
    "for age in tqdm(ages):\n",
    "    score = compute_score(0, age, 32, 2)\n",
    "    scores.append(score)"
   ]
  },
  {
   "cell_type": "code",
   "execution_count": 34,
   "metadata": {},
   "outputs": [
    {
     "data": {
      "text/plain": [
       "[<matplotlib.lines.Line2D at 0x7fad6c618340>]"
      ]
     },
     "execution_count": 34,
     "metadata": {},
     "output_type": "execute_result"
    },
    {
     "data": {
      "image/png": "[encoded data removed]",
      "text/plain": [
       "<Figure size 432x288 with 1 Axes>"
      ]
     },
     "metadata": {
      "needs_background": "light"
     },
     "output_type": "display_data"
    }
   ],
   "source": [
    "import matplotlib.pyplot as plt\n",
    "plt.plot(ages, scores)"
   ]
  },
  {
   "cell_type": "code",
   "execution_count": 189,
   "metadata": {},
   "outputs": [
    {
     "name": "stderr",
     "output_type": "stream",
     "text": [
      "100%|██████████| 100/100 [00:18<00:00,  5.43it/s]\n"
     ]
    }
   ],
   "source": [
    "col_name = \"HR\"\n",
    "col_v = range(50,150)\n",
    "scores = []\n",
    "for v in tqdm(col_v):\n",
    "    score = compute_score(0, 40, v, 1, col_name, models_dir)\n",
    "    scores.append(score)"
   ]
  },
  {
   "cell_type": "code",
   "execution_count": 191,
   "metadata": {},
   "outputs": [
    {
     "data": {
      "text/plain": [
       "[<matplotlib.lines.Line2D at 0x7f6824fa8ee0>]"
      ]
     },
     "execution_count": 191,
     "metadata": {},
     "output_type": "execute_result"
    },
    {
     "data": {
      "image/png": "[encoded data removed]",
      "text/plain": [
       "<Figure size 432x288 with 1 Axes>"
      ]
     },
     "metadata": {
      "needs_background": "light"
     },
     "output_type": "display_data"
    }
   ],
   "source": [
    "plt.plot(col_v, scores)"
   ]
  },
  {
   "cell_type": "code",
   "execution_count": 69,
   "metadata": {},
   "outputs": [
    {
     "name": "stderr",
     "output_type": "stream",
     "text": [
      "100%|██████████| 48/48 [04:00<00:00,  5.01s/it]\n"
     ]
    }
   ],
   "source": [
    "ages = np.linspace(18,65, num=65-18 + 1)\n",
    "hrs = np.linspace(50,150, num=int((150-50)/4 + 1))\n",
    "df = pd.DataFrame()\n",
    "for age in tqdm(ages):\n",
    "    for hr in hrs:\n",
    "        score = compute_score(0, age, hr, 2, col_name, models_dir)\n",
    "        df = df.append({'age': age, 'hr': hr, 'score': score}, ignore_index=True)"
   ]
  },
  {
   "cell_type": "code",
   "execution_count": 71,
   "metadata": {},
   "outputs": [
    {
     "data": {
      "image/png": "[encoded data removed]",
      "text/plain": [
       "<Figure size 1080x864 with 2 Axes>"
      ]
     },
     "metadata": {
      "needs_background": "light"
     },
     "output_type": "display_data"
    }
   ],
   "source": [
    "import seaborn as sns\n",
    "import matplotlib.pyplot as plt\n",
    "from scipy.ndimage.filters import gaussian_filter\n",
    "\n",
    "fig, axs = plt.subplots(1, 1, figsize=(15,12))\n",
    "df_pivot = df.pivot_table(index=\"hr\", columns=\"age\", values=\"score\", aggfunc=np.max)\n",
    "df_pivot_smooth = gaussian_filter(df_pivot, sigma=0.1)\n",
    "\n",
    "sns.heatmap(df_pivot_smooth, vmax=df_pivot.values.max(), xticklabels=ages, yticklabels=hrs, vmin=df_pivot.values.min(), ax=axs)\n",
    "plt.show()"
   ]
  },
  {
   "cell_type": "markdown",
   "metadata": {},
   "source": [
    "# Compute scores on validation data"
   ]
  },
  {
   "cell_type": "code",
   "execution_count": 229,
   "metadata": {},
   "outputs": [],
   "source": [
    "def compute_score_tensor(gender, age, col_v, action, col_name, models_dir):\n",
    "    softmax = torch.nn.Softmax(dim=1)\n",
    "    gender = gender - 0.5\n",
    "    action = action.to(torch.long)\n",
    "    age_normalized_sim = (age - MIMICtable_filtered_t0['age'].mean())/MIMICtable_filtered_t0['age'].std()\n",
    "    col_normalized_sim = (col_v - pulse_data_t0[f'{col_name}'].mean())/pulse_data_t0[f'{col_name}'].std()\n",
    "    sim_input = torch.column_stack((gender, age_normalized_sim, col_normalized_sim)).float()\n",
    "    age_normalized_obs = (age - MIMICtable_filtered_t0['age'].mean())/MIMICtable_filtered_t0['age'].std()\n",
    "    col_normalized_obs = (col_v - MIMICtable_filtered_t0[f'{col_name}'].mean())/MIMICtable_filtered_t0[f'{col_name}'].std()\n",
    "    obs_input = torch.column_stack((gender, age_normalized_obs, col_normalized_obs)).float()\n",
    "    action_tensor = (action-1)/24\n",
    "    p = 0\n",
    "    for i in range(nr_reps):\n",
    "        yobs_model = Net(n_feature=4, n_hidden=10, n_output=1)\n",
    "        yobs_model.load_state_dict(torch.load(f'{models_dir}/col_{col_name}/yobs_{i}'))\n",
    "        yobs_model.eval()\n",
    "        ymax_model = Net(n_feature=3, n_hidden=10, n_output=1)\n",
    "        ymax_model.load_state_dict(torch.load(f'{models_dir}/col_{col_name}/ymax_{i}'))\n",
    "        ymax_model.eval()\n",
    "        ymin_model = Net(n_feature=3, n_hidden=10, n_output=1)\n",
    "        ymin_model.load_state_dict(torch.load(f'{models_dir}/col_{col_name}/ymin_{i}'))\n",
    "        ymin_model.eval()\n",
    "        ysim_model = Net(n_feature=4, n_hidden=10, n_output=1)\n",
    "        ysim_model.load_state_dict(torch.load(f'{models_dir}/col_{col_name}/ysim_{i}'))\n",
    "        ysim_model.eval()\n",
    "        policy = PolicyNetwork(input_dim=3, output_dim=25)\n",
    "        policy.load_state_dict(torch.load(f'{models_dir}/col_{col_name}/policy_{i}'))\n",
    "        policy.eval()\n",
    "        prob = softmax(policy(obs_input))\n",
    "        prob = prob[torch.arange(len(prob)), action-1]\n",
    "        lb = prob*yobs_model(torch.column_stack((obs_input, action_tensor))).squeeze() + (1-prob)*(ymin_model(obs_input)).squeeze()\n",
    "        ub = prob*yobs_model(torch.column_stack((obs_input, action_tensor))).squeeze() + (1-prob)*(ymax_model(obs_input)).squeeze()\n",
    "        sim = ysim_model(torch.column_stack((sim_input, action_tensor))).squeeze()\n",
    "        p += ((lb<=sim)&(sim<=ub)).float()\n",
    "    p = p/nr_reps\n",
    "    return p.numpy() "
   ]
  },
  {
   "cell_type": "code",
   "execution_count": 66,
   "metadata": {},
   "outputs": [
    {
     "data": {
      "text/html": [
       "<div>\n",
       "<style scoped>\n",
       "    .dataframe tbody tr th:only-of-type {\n",
       "        vertical-align: middle;\n",
       "    }\n",
       "\n",
       "    .dataframe tbody tr th {\n",
       "        vertical-align: top;\n",
       "    }\n",
       "\n",
       "    .dataframe thead th {\n",
       "        text-align: right;\n",
       "    }\n",
       "</style>\n",
       "<table border=\"1\" class=\"dataframe\">\n",
       "  <thead>\n",
       "    <tr style=\"text-align: right;\">\n",
       "      <th></th>\n",
       "      <th>bloc</th>\n",
       "      <th>icustay_id</th>\n",
       "      <th>charttime</th>\n",
       "      <th>gender</th>\n",
       "      <th>age</th>\n",
       "      <th>elixhauser</th>\n",
       "      <th>re_admission</th>\n",
       "      <th>died_in_hosp</th>\n",
       "      <th>died_within_48h_of_out_time</th>\n",
       "      <th>mortality_90d</th>\n",
       "      <th>...</th>\n",
       "      <th>mechvent</th>\n",
       "      <th>Shock_Index</th>\n",
       "      <th>PaO2_FiO2</th>\n",
       "      <th>median_dose_vaso</th>\n",
       "      <th>max_dose_vaso</th>\n",
       "      <th>input_total</th>\n",
       "      <th>input_1hourly</th>\n",
       "      <th>output_total</th>\n",
       "      <th>output_1hourly</th>\n",
       "      <th>cumulated_balance</th>\n",
       "    </tr>\n",
       "  </thead>\n",
       "  <tbody>\n",
       "    <tr>\n",
       "      <th>0</th>\n",
       "      <td>1</td>\n",
       "      <td>32796</td>\n",
       "      <td>4.882446e+09</td>\n",
       "      <td>1.0</td>\n",
       "      <td>30118.703299</td>\n",
       "      <td>5.0</td>\n",
       "      <td>1.0</td>\n",
       "      <td>0.0</td>\n",
       "      <td>0.0</td>\n",
       "      <td>0.0</td>\n",
       "      <td>...</td>\n",
       "      <td>0.0</td>\n",
       "      <td>0.767176</td>\n",
       "      <td>867.592593</td>\n",
       "      <td>0.0</td>\n",
       "      <td>0.0</td>\n",
       "      <td>1753.737817</td>\n",
       "      <td>20.020</td>\n",
       "      <td>2390.0</td>\n",
       "      <td>1195.0</td>\n",
       "      <td>-616.242183</td>\n",
       "    </tr>\n",
       "    <tr>\n",
       "      <th>1</th>\n",
       "      <td>2</td>\n",
       "      <td>32796</td>\n",
       "      <td>4.882450e+09</td>\n",
       "      <td>1.0</td>\n",
       "      <td>30118.703299</td>\n",
       "      <td>5.0</td>\n",
       "      <td>1.0</td>\n",
       "      <td>0.0</td>\n",
       "      <td>0.0</td>\n",
       "      <td>0.0</td>\n",
       "      <td>...</td>\n",
       "      <td>0.0</td>\n",
       "      <td>0.762025</td>\n",
       "      <td>348.333333</td>\n",
       "      <td>0.0</td>\n",
       "      <td>0.0</td>\n",
       "      <td>1773.757817</td>\n",
       "      <td>20.020</td>\n",
       "      <td>3540.0</td>\n",
       "      <td>1150.0</td>\n",
       "      <td>-1746.222183</td>\n",
       "    </tr>\n",
       "    <tr>\n",
       "      <th>2</th>\n",
       "      <td>3</td>\n",
       "      <td>32796</td>\n",
       "      <td>4.882453e+09</td>\n",
       "      <td>1.0</td>\n",
       "      <td>30118.703299</td>\n",
       "      <td>5.0</td>\n",
       "      <td>1.0</td>\n",
       "      <td>0.0</td>\n",
       "      <td>0.0</td>\n",
       "      <td>0.0</td>\n",
       "      <td>...</td>\n",
       "      <td>0.0</td>\n",
       "      <td>0.688000</td>\n",
       "      <td>1261.111111</td>\n",
       "      <td>0.0</td>\n",
       "      <td>0.0</td>\n",
       "      <td>1793.777817</td>\n",
       "      <td>20.020</td>\n",
       "      <td>4690.0</td>\n",
       "      <td>1150.0</td>\n",
       "      <td>-2876.202183</td>\n",
       "    </tr>\n",
       "    <tr>\n",
       "      <th>3</th>\n",
       "      <td>4</td>\n",
       "      <td>32796</td>\n",
       "      <td>4.882457e+09</td>\n",
       "      <td>1.0</td>\n",
       "      <td>30118.703299</td>\n",
       "      <td>5.0</td>\n",
       "      <td>1.0</td>\n",
       "      <td>0.0</td>\n",
       "      <td>0.0</td>\n",
       "      <td>0.0</td>\n",
       "      <td>...</td>\n",
       "      <td>0.0</td>\n",
       "      <td>0.671875</td>\n",
       "      <td>213.888889</td>\n",
       "      <td>0.0</td>\n",
       "      <td>0.0</td>\n",
       "      <td>1813.797817</td>\n",
       "      <td>20.020</td>\n",
       "      <td>5840.0</td>\n",
       "      <td>1150.0</td>\n",
       "      <td>-4006.182183</td>\n",
       "    </tr>\n",
       "    <tr>\n",
       "      <th>4</th>\n",
       "      <td>5</td>\n",
       "      <td>32796</td>\n",
       "      <td>4.882460e+09</td>\n",
       "      <td>1.0</td>\n",
       "      <td>30118.703299</td>\n",
       "      <td>5.0</td>\n",
       "      <td>1.0</td>\n",
       "      <td>0.0</td>\n",
       "      <td>0.0</td>\n",
       "      <td>0.0</td>\n",
       "      <td>...</td>\n",
       "      <td>0.0</td>\n",
       "      <td>0.700000</td>\n",
       "      <td>175.000000</td>\n",
       "      <td>0.0</td>\n",
       "      <td>0.0</td>\n",
       "      <td>1833.817817</td>\n",
       "      <td>18.349</td>\n",
       "      <td>6910.0</td>\n",
       "      <td>1070.0</td>\n",
       "      <td>-5057.833183</td>\n",
       "    </tr>\n",
       "  </tbody>\n",
       "</table>\n",
       "<p>5 rows × 59 columns</p>\n",
       "</div>"
      ],
      "text/plain": [
       "   bloc  icustay_id     charttime  gender           age  elixhauser  \\\n",
       "0     1       32796  4.882446e+09     1.0  30118.703299         5.0   \n",
       "1     2       32796  4.882450e+09     1.0  30118.703299         5.0   \n",
       "2     3       32796  4.882453e+09     1.0  30118.703299         5.0   \n",
       "3     4       32796  4.882457e+09     1.0  30118.703299         5.0   \n",
       "4     5       32796  4.882460e+09     1.0  30118.703299         5.0   \n",
       "\n",
       "   re_admission  died_in_hosp  died_within_48h_of_out_time  mortality_90d  \\\n",
       "0           1.0           0.0                          0.0            0.0   \n",
       "1           1.0           0.0                          0.0            0.0   \n",
       "2           1.0           0.0                          0.0            0.0   \n",
       "3           1.0           0.0                          0.0            0.0   \n",
       "4           1.0           0.0                          0.0            0.0   \n",
       "\n",
       "   ...  mechvent  Shock_Index    PaO2_FiO2  median_dose_vaso  max_dose_vaso  \\\n",
       "0  ...       0.0     0.767176   867.592593               0.0            0.0   \n",
       "1  ...       0.0     0.762025   348.333333               0.0            0.0   \n",
       "2  ...       0.0     0.688000  1261.111111               0.0            0.0   \n",
       "3  ...       0.0     0.671875   213.888889               0.0            0.0   \n",
       "4  ...       0.0     0.700000   175.000000               0.0            0.0   \n",
       "\n",
       "   input_total  input_1hourly  output_total  output_1hourly  cumulated_balance  \n",
       "0  1753.737817         20.020        2390.0          1195.0        -616.242183  \n",
       "1  1773.757817         20.020        3540.0          1150.0       -1746.222183  \n",
       "2  1793.777817         20.020        4690.0          1150.0       -2876.202183  \n",
       "3  1813.797817         20.020        5840.0          1150.0       -4006.182183  \n",
       "4  1833.817817         18.349        6910.0          1070.0       -5057.833183  \n",
       "\n",
       "[5 rows x 59 columns]"
      ]
     },
     "execution_count": 66,
     "metadata": {},
     "output_type": "execute_result"
    }
   ],
   "source": [
    "MIMICtable_val = pd.read_csv(\"/data/localhost/taufiq/export-dir/MIMIC-1hourly-length-5-test.csv\")\n",
    "MIMICtable_val['icustay_id'] = MIMICtable_val['icustay_id'].astype(int)\n",
    "MIMICtable_val.head()"
   ]
  },
  {
   "cell_type": "code",
   "execution_count": 75,
   "metadata": {},
   "outputs": [],
   "source": [
    "def get_vaso_bin(vaso):\n",
    "    for v in range(1, 6):\n",
    "        if (vaso <= MIMICtable_filtered_t0.loc[vc==v, 'max_dose_vaso'].max()) and (vaso >= MIMICtable_filtered_t0.loc[vc==v, 'max_dose_vaso'].min()):\n",
    "            return v\n",
    "\n",
    "def get_iv_bin(iv_vol):\n",
    "    for iv in range(1, 6):\n",
    "        if (iv_vol <= MIMICtable_filtered_t0.loc[io==iv, 'input_1hourly'].max()) and (iv_vol >= MIMICtable_filtered_t0.loc[io==iv, 'input_1hourly'].min()):\n",
    "            return iv\n",
    "\n",
    "def get_action_bin(iv, vaso):\n",
    "    for index, row in uniqueValues.iterrows():\n",
    "        if (row['IV']==iv) and (row['VC']==vaso):\n",
    "            return index+1\n",
    "            "
   ]
  },
  {
   "cell_type": "code",
   "execution_count": 76,
   "metadata": {},
   "outputs": [],
   "source": [
    "for index, row in MIMICtable_val.iterrows():\n",
    "    vaso = get_vaso_bin(row['max_dose_vaso'])\n",
    "    iv = get_iv_bin(row['input_1hourly'])\n",
    "    MIMICtable_val.loc[index, 'A'] = get_action_bin(iv, vaso)"
   ]
  },
  {
   "cell_type": "code",
   "execution_count": 116,
   "metadata": {},
   "outputs": [],
   "source": [
    "MIMICtable_val_t0 = MIMICtable_val[MIMICtable_val['bloc']==1]\n",
    "MIMICtable_val_t0 = MIMICtable_val_t0[MIMICtable_val_t0['A'].between(1,25)]"
   ]
  },
  {
   "cell_type": "code",
   "execution_count": 230,
   "metadata": {},
   "outputs": [
    {
     "name": "stderr",
     "output_type": "stream",
     "text": [
      "100%|██████████| 17/17 [00:03<00:00,  5.15it/s]\n"
     ]
    }
   ],
   "source": [
    "# compute_score(gender, age, col_v, action, col_name, models_dir)\n",
    "scores = pd.DataFrame()\n",
    "for col_name in tqdm(list(column_mappings.values())):\n",
    "    if os.path.isdir(f'{models_dir}/col_{col_name}'):\n",
    "        gender = torch.FloatTensor(MIMICtable_val_t0['gender'].values)\n",
    "        age = torch.FloatTensor(MIMICtable_val_t0['age'].values)\n",
    "        col = torch.FloatTensor(MIMICtable_val_t0[col_name].values)\n",
    "        a = torch.FloatTensor(MIMICtable_val_t0['A'].values)\n",
    "        score = compute_score_tensor(gender, age, col, a, col_name, models_dir)              \n",
    "        scoresdf = pd.DataFrame()\n",
    "        scoresdf['gender'] = gender.numpy()\n",
    "        scoresdf['age'] = age.numpy()\n",
    "        scoresdf['col_v'] = col.numpy()\n",
    "        scoresdf['A'] = a.numpy()\n",
    "        scoresdf['col'] = col_name\n",
    "        scoresdf['Scores'] = score\n",
    "        scores = scores.append(scoresdf, ignore_index=True)"
   ]
  },
  {
   "cell_type": "code",
   "execution_count": 231,
   "metadata": {},
   "outputs": [
    {
     "data": {
      "text/plain": [
       "<seaborn.axisgrid.FacetGrid at 0x7f6825622850>"
      ]
     },
     "execution_count": 231,
     "metadata": {},
     "output_type": "execute_result"
    },
    {
     "data": {
      "image/png": "[encoded data removed]",
      "text/plain": [
       "<Figure size 720x1080 with 1 Axes>"
      ]
     },
     "metadata": {
      "needs_background": "light"
     },
     "output_type": "display_data"
    },
    {
     "data": {
      "image/png": "[encoded data removed]",
      "text/plain": [
       "<Figure size 360x360 with 1 Axes>"
      ]
     },
     "metadata": {
      "needs_background": "light"
     },
     "output_type": "display_data"
    }
   ],
   "source": [
    "import seaborn as sns\n",
    "fig, axs = plt.subplots(1, figsize=(10,15))\n",
    "sns.catplot(x='Scores',y='col', data=scores, ax=axs, kind=\"boxen\")"
   ]
  }
 ],
 "metadata": {
  "kernelspec": {
   "display_name": "Python 3",
   "language": "python",
   "name": "python3"
  },
  "language_info": {
   "codemirror_mode": {
    "name": "ipython",
    "version": 3
   },
   "file_extension": ".py",
   "mimetype": "text/x-python",
   "name": "python",
   "nbconvert_exporter": "python",
   "pygments_lexer": "ipython3",
   "version": "3.8.10"
  }
 },
 "nbformat": 4,
 "nbformat_minor": 2
}
